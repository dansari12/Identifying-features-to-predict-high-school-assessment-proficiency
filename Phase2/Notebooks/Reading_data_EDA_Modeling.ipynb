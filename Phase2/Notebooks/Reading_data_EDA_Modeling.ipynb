{
 "cells": [
  {
   "cell_type": "code",
   "execution_count": 1,
   "metadata": {},
   "outputs": [],
   "source": [
    "import pandas\n",
    "pandas.__version__\n",
    "import numpy as np\n",
    "import matplotlib.pyplot as plt\n",
    "import seaborn as sns\n",
    "%matplotlib inline"
   ]
  },
  {
   "cell_type": "code",
   "execution_count": 2,
   "metadata": {},
   "outputs": [
    {
     "name": "stdout",
     "output_type": "stream",
     "text": [
      "Requirement already satisfied: scikit-learn in /opt/anaconda3/lib/python3.8/site-packages (0.24.1)\n",
      "Requirement already satisfied: joblib>=0.11 in /opt/anaconda3/lib/python3.8/site-packages (from scikit-learn) (0.16.0)\n",
      "Requirement already satisfied: numpy>=1.13.3 in /opt/anaconda3/lib/python3.8/site-packages (from scikit-learn) (1.18.5)\n",
      "Requirement already satisfied: scipy>=0.19.1 in /opt/anaconda3/lib/python3.8/site-packages (from scikit-learn) (1.5.0)\n",
      "Requirement already satisfied: threadpoolctl>=2.0.0 in /opt/anaconda3/lib/python3.8/site-packages (from scikit-learn) (2.1.0)\n",
      "Note: you may need to restart the kernel to use updated packages.\n"
     ]
    }
   ],
   "source": [
    "pip install --user scikit-learn"
   ]
  },
  {
   "cell_type": "code",
   "execution_count": 3,
   "metadata": {},
   "outputs": [
    {
     "name": "stdout",
     "output_type": "stream",
     "text": [
      "/Users/dansari/Documents/GitHub/Identifying-features-to-predict-high-school-assessment-proficiency/Phase1/Data/MASTER\n"
     ]
    }
   ],
   "source": [
    "cd /Users/dansari/Documents/GitHub/Identifying-features-to-predict-high-school-assessment-proficiency/Phase1/Data/MASTER"
   ]
  },
  {
   "cell_type": "code",
   "execution_count": 6,
   "metadata": {},
   "outputs": [
    {
     "data": {
      "text/html": [
       "<div>\n",
       "<style scoped>\n",
       "    .dataframe tbody tr th:only-of-type {\n",
       "        vertical-align: middle;\n",
       "    }\n",
       "\n",
       "    .dataframe tbody tr th {\n",
       "        vertical-align: top;\n",
       "    }\n",
       "\n",
       "    .dataframe thead th {\n",
       "        text-align: right;\n",
       "    }\n",
       "</style>\n",
       "<table border=\"1\" class=\"dataframe\">\n",
       "  <thead>\n",
       "    <tr style=\"text-align: right;\">\n",
       "      <th></th>\n",
       "      <th>SCHOOL_YEAR_x</th>\n",
       "      <th>ST_x</th>\n",
       "      <th>NAME</th>\n",
       "      <th>NCESSCH</th>\n",
       "      <th>LEVEL</th>\n",
       "      <th>SCH_TYPE_TEXT_x</th>\n",
       "      <th>SCH_TYPE_x</th>\n",
       "      <th>TITLEI_STATUS</th>\n",
       "      <th>TITLEI_STATUS_TEXT</th>\n",
       "      <th>MAGNET_TEXT</th>\n",
       "      <th>...</th>\n",
       "      <th>Total_IB_students</th>\n",
       "      <th>SCH_APENR_IND_new</th>\n",
       "      <th>SCH_APCOURSES</th>\n",
       "      <th>SCH_APOTHENR_IND_new</th>\n",
       "      <th>Total_AP_other_students</th>\n",
       "      <th>Total_students_tookAP</th>\n",
       "      <th>Income_Poverty_ratio</th>\n",
       "      <th>IPR_SE</th>\n",
       "      <th>ALL_RLA00NUMVALID_1718</th>\n",
       "      <th>ALL_RLA00PCTPROF_1718_new</th>\n",
       "    </tr>\n",
       "  </thead>\n",
       "  <tbody>\n",
       "    <tr>\n",
       "      <th>0</th>\n",
       "      <td>2017-2018</td>\n",
       "      <td>AL</td>\n",
       "      <td>Albertville High School</td>\n",
       "      <td>010000500871</td>\n",
       "      <td>High</td>\n",
       "      <td>Regular School</td>\n",
       "      <td>1</td>\n",
       "      <td>SWELIGSWPROG</td>\n",
       "      <td>Title I schoolwide school</td>\n",
       "      <td>No</td>\n",
       "      <td>...</td>\n",
       "      <td>-18.0</td>\n",
       "      <td>1.0</td>\n",
       "      <td>8.0</td>\n",
       "      <td>1.0</td>\n",
       "      <td>179.0</td>\n",
       "      <td>286.0</td>\n",
       "      <td>248.0</td>\n",
       "      <td>80.0</td>\n",
       "      <td>337.0</td>\n",
       "      <td>32.0</td>\n",
       "    </tr>\n",
       "    <tr>\n",
       "      <th>1</th>\n",
       "      <td>2017-2018</td>\n",
       "      <td>AL</td>\n",
       "      <td>Asbury High School</td>\n",
       "      <td>010000600872</td>\n",
       "      <td>High</td>\n",
       "      <td>Regular School</td>\n",
       "      <td>1</td>\n",
       "      <td>SWELIGSWPROG</td>\n",
       "      <td>Title I schoolwide school</td>\n",
       "      <td>No</td>\n",
       "      <td>...</td>\n",
       "      <td>-18.0</td>\n",
       "      <td>1.0</td>\n",
       "      <td>3.0</td>\n",
       "      <td>1.0</td>\n",
       "      <td>33.0</td>\n",
       "      <td>46.0</td>\n",
       "      <td>241.0</td>\n",
       "      <td>127.0</td>\n",
       "      <td>327.0</td>\n",
       "      <td>30.0</td>\n",
       "    </tr>\n",
       "    <tr>\n",
       "      <th>2</th>\n",
       "      <td>2017-2018</td>\n",
       "      <td>AL</td>\n",
       "      <td>Douglas High School</td>\n",
       "      <td>010000600878</td>\n",
       "      <td>High</td>\n",
       "      <td>Regular School</td>\n",
       "      <td>1</td>\n",
       "      <td>SWELIGSWPROG</td>\n",
       "      <td>Title I schoolwide school</td>\n",
       "      <td>No</td>\n",
       "      <td>...</td>\n",
       "      <td>-18.0</td>\n",
       "      <td>1.0</td>\n",
       "      <td>6.0</td>\n",
       "      <td>1.0</td>\n",
       "      <td>185.0</td>\n",
       "      <td>244.0</td>\n",
       "      <td>213.0</td>\n",
       "      <td>51.0</td>\n",
       "      <td>130.0</td>\n",
       "      <td>42.0</td>\n",
       "    </tr>\n",
       "    <tr>\n",
       "      <th>3</th>\n",
       "      <td>2017-2018</td>\n",
       "      <td>AL</td>\n",
       "      <td>Kate D Smith DAR High School</td>\n",
       "      <td>010000600883</td>\n",
       "      <td>High</td>\n",
       "      <td>Regular School</td>\n",
       "      <td>1</td>\n",
       "      <td>SWELIGSWPROG</td>\n",
       "      <td>Title I schoolwide school</td>\n",
       "      <td>No</td>\n",
       "      <td>...</td>\n",
       "      <td>-18.0</td>\n",
       "      <td>1.0</td>\n",
       "      <td>6.0</td>\n",
       "      <td>1.0</td>\n",
       "      <td>116.0</td>\n",
       "      <td>205.0</td>\n",
       "      <td>254.0</td>\n",
       "      <td>48.0</td>\n",
       "      <td>106.0</td>\n",
       "      <td>57.0</td>\n",
       "    </tr>\n",
       "    <tr>\n",
       "      <th>4</th>\n",
       "      <td>2017-2018</td>\n",
       "      <td>AL</td>\n",
       "      <td>Brindlee Mountain High School</td>\n",
       "      <td>010000601585</td>\n",
       "      <td>High</td>\n",
       "      <td>Regular School</td>\n",
       "      <td>1</td>\n",
       "      <td>SWELIGSWPROG</td>\n",
       "      <td>Title I schoolwide school</td>\n",
       "      <td>No</td>\n",
       "      <td>...</td>\n",
       "      <td>-18.0</td>\n",
       "      <td>1.0</td>\n",
       "      <td>5.0</td>\n",
       "      <td>1.0</td>\n",
       "      <td>76.0</td>\n",
       "      <td>102.0</td>\n",
       "      <td>329.0</td>\n",
       "      <td>150.0</td>\n",
       "      <td>338.0</td>\n",
       "      <td>31.0</td>\n",
       "    </tr>\n",
       "  </tbody>\n",
       "</table>\n",
       "<p>5 rows × 34 columns</p>\n",
       "</div>"
      ],
      "text/plain": [
       "  SCHOOL_YEAR_x ST_x                           NAME       NCESSCH LEVEL  \\\n",
       "0     2017-2018   AL        Albertville High School  010000500871  High   \n",
       "1     2017-2018   AL             Asbury High School  010000600872  High   \n",
       "2     2017-2018   AL            Douglas High School  010000600878  High   \n",
       "3     2017-2018   AL   Kate D Smith DAR High School  010000600883  High   \n",
       "4     2017-2018   AL  Brindlee Mountain High School  010000601585  High   \n",
       "\n",
       "  SCH_TYPE_TEXT_x  SCH_TYPE_x TITLEI_STATUS         TITLEI_STATUS_TEXT  \\\n",
       "0  Regular School           1  SWELIGSWPROG  Title I schoolwide school   \n",
       "1  Regular School           1  SWELIGSWPROG  Title I schoolwide school   \n",
       "2  Regular School           1  SWELIGSWPROG  Title I schoolwide school   \n",
       "3  Regular School           1  SWELIGSWPROG  Title I schoolwide school   \n",
       "4  Regular School           1  SWELIGSWPROG  Title I schoolwide school   \n",
       "\n",
       "  MAGNET_TEXT  ...  Total_IB_students  SCH_APENR_IND_new  SCH_APCOURSES  \\\n",
       "0          No  ...              -18.0                1.0            8.0   \n",
       "1          No  ...              -18.0                1.0            3.0   \n",
       "2          No  ...              -18.0                1.0            6.0   \n",
       "3          No  ...              -18.0                1.0            6.0   \n",
       "4          No  ...              -18.0                1.0            5.0   \n",
       "\n",
       "   SCH_APOTHENR_IND_new  Total_AP_other_students  Total_students_tookAP  \\\n",
       "0                   1.0                    179.0                  286.0   \n",
       "1                   1.0                     33.0                   46.0   \n",
       "2                   1.0                    185.0                  244.0   \n",
       "3                   1.0                    116.0                  205.0   \n",
       "4                   1.0                     76.0                  102.0   \n",
       "\n",
       "   Income_Poverty_ratio  IPR_SE  ALL_RLA00NUMVALID_1718  \\\n",
       "0                 248.0    80.0                   337.0   \n",
       "1                 241.0   127.0                   327.0   \n",
       "2                 213.0    51.0                   130.0   \n",
       "3                 254.0    48.0                   106.0   \n",
       "4                 329.0   150.0                   338.0   \n",
       "\n",
       "   ALL_RLA00PCTPROF_1718_new  \n",
       "0                       32.0  \n",
       "1                       30.0  \n",
       "2                       42.0  \n",
       "3                       57.0  \n",
       "4                       31.0  \n",
       "\n",
       "[5 rows x 34 columns]"
      ]
     },
     "execution_count": 6,
     "metadata": {},
     "output_type": "execute_result"
    }
   ],
   "source": [
    "reading = pandas.read_csv(\"master_reading.csv\")\n",
    "reading['NCESSCH'] = reading ['NCESSCH'].apply(lambda x: '{0:0>12}'.format(x))\n",
    "reading.head()"
   ]
  },
  {
   "cell_type": "code",
   "execution_count": null,
   "metadata": {},
   "outputs": [],
   "source": []
  },
  {
   "cell_type": "code",
   "execution_count": null,
   "metadata": {},
   "outputs": [],
   "source": [
    "#corr = master_reading.corr()\n",
    "#plt.figure(figsize=(20,10))\n",
    "#sns.heatmap(corr, cmap=\"Greens\",annot=True)"
   ]
  },
  {
   "cell_type": "code",
   "execution_count": null,
   "metadata": {},
   "outputs": [],
   "source": [
    "#get correlations of each features in dataset\n",
    "corrmat = master_reading_new.corr()\n",
    "top_corr_features = corrmat.index\n",
    "plt.figure(figsize=(30,10))\n",
    "#plot heat map\n",
    "g=sns.heatmap(master_reading_new[top_corr_features].corr(),annot=True,cmap=\"RdYlGn\")"
   ]
  },
  {
   "cell_type": "code",
   "execution_count": null,
   "metadata": {},
   "outputs": [],
   "source": [
    "X = master_reading_new.iloc[:,11:31]  #independent columns\n",
    "y = master_reading_new.iloc[:,-1]    #target column i.e ALL_RLA00PCTPROF_1718_new"
   ]
  },
  {
   "cell_type": "code",
   "execution_count": null,
   "metadata": {},
   "outputs": [],
   "source": [
    "#sns.pairplot(master_reading_new)\n",
    "#plt.show()"
   ]
  },
  {
   "cell_type": "code",
   "execution_count": null,
   "metadata": {},
   "outputs": [],
   "source": [
    "#Correlation with output variable\n",
    "cor_target = abs(corrmat[\"ALL_RLA00PCTPROF_1718_new\"])\n",
    "#Selecting highly correlated features\n",
    "relevant_features = cor_target[cor_target>0.25]\n",
    "relevant_features"
   ]
  },
  {
   "cell_type": "code",
   "execution_count": null,
   "metadata": {},
   "outputs": [],
   "source": [
    "from sklearn.model_selection import train_test_split\n",
    "X_train, X_test, y_train, y_test = train_test_split(X, y, test_size=0.2, random_state=0)"
   ]
  },
  {
   "cell_type": "code",
   "execution_count": null,
   "metadata": {},
   "outputs": [],
   "source": [
    "from sklearn.linear_model import LinearRegression\n",
    "regressor = LinearRegression()\n",
    "regressor.fit(X_train, y_train)\n",
    "accuracy = regressor.score(X_test,y_test)\n",
    "print(accuracy*100,'%')"
   ]
  },
  {
   "cell_type": "code",
   "execution_count": null,
   "metadata": {},
   "outputs": [],
   "source": [
    "coeff_df = pandas.DataFrame(regressor.coef_, X.columns, columns=['Coefficient'])\n",
    "coeff_df"
   ]
  },
  {
   "cell_type": "code",
   "execution_count": null,
   "metadata": {},
   "outputs": [],
   "source": [
    "y_pred = regressor.predict(X_test)"
   ]
  },
  {
   "cell_type": "code",
   "execution_count": null,
   "metadata": {},
   "outputs": [],
   "source": [
    "df = pandas.DataFrame({'Actual': y_test, 'Predicted': y_pred})\n",
    "df"
   ]
  },
  {
   "cell_type": "code",
   "execution_count": null,
   "metadata": {},
   "outputs": [],
   "source": [
    "from sklearn import metrics\n",
    "print('Mean Absolute Error:', metrics.mean_absolute_error(y_test, y_pred))\n",
    "print('Mean Squared Error:', metrics.mean_squared_error(y_test, y_pred))\n",
    "print('Root Mean Squared Error:', np.sqrt(metrics.mean_squared_error(y_test, y_pred)))"
   ]
  }
 ],
 "metadata": {
  "kernelspec": {
   "display_name": "Python 3",
   "language": "python",
   "name": "python3"
  },
  "language_info": {
   "codemirror_mode": {
    "name": "ipython",
    "version": 3
   },
   "file_extension": ".py",
   "mimetype": "text/x-python",
   "name": "python",
   "nbconvert_exporter": "python",
   "pygments_lexer": "ipython3",
   "version": "3.8.3"
  }
 },
 "nbformat": 4,
 "nbformat_minor": 4
}
