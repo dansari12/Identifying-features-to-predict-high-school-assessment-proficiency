{
 "cells": [
  {
   "cell_type": "markdown",
   "metadata": {},
   "source": [
    "## Phase 1: Clean up of EdFacts data files"
   ]
  },
  {
   "cell_type": "markdown",
   "metadata": {},
   "source": [
    "### Clean up the Edfacts file for reading"
   ]
  },
  {
   "cell_type": "code",
   "execution_count": 2,
   "metadata": {},
   "outputs": [],
   "source": [
    "import pandas\n",
    "pandas.__version__\n",
    "import numpy as np\n",
    "import matplotlib.pyplot as plt\n",
    "import seaborn as sns\n",
    "%matplotlib inline"
   ]
  },
  {
   "cell_type": "code",
   "execution_count": 3,
   "metadata": {},
   "outputs": [
    {
     "name": "stdout",
     "output_type": "stream",
     "text": [
      "/Users/dansari/Documents/GitHub/Identifying-features-to-predict-high-school-assessment-proficiency/Phase1/Data/EDFacts\n"
     ]
    }
   ],
   "source": [
    "cd /Users/dansari/Documents/GitHub/Identifying-features-to-predict-high-school-assessment-proficiency/Phase1/Data/EDFacts"
   ]
  },
  {
   "cell_type": "code",
   "execution_count": 4,
   "metadata": {},
   "outputs": [
    {
     "name": "stderr",
     "output_type": "stream",
     "text": [
      "/opt/anaconda3/lib/python3.8/site-packages/IPython/core/interactiveshell.py:3071: DtypeWarning: Columns (11,13,15,17,19,21,23,25,27,29,31,32,33,35,37,38,39,41,43,45,47,49,51,53,55,57,59,61,63,65,67,69,71,73,75,77,79,81,83,85,87,89,91,93,95,97,99,101,103,105,107,109,111,113,115,117,119,121,123,125,127,129,131,133,135,137,139,141,143,145,147,149,151,153,155,157,159,161,163,165,167,169,171,173,175,177,179,181,183,185,187,189,191,193,195,196,197,198,199,200,201,202,203,204,205,206,207,208,209,211,213,215,217,219,221,223,225,227,229,231,233,235,236,237,238,239,240,241,242,243,244,245,246,247,248,249,250,251,252,253,254,255,256,257,258,259,260,261,262,263) have mixed types.Specify dtype option on import or set low_memory=False.\n",
      "  has_raised = await self.run_ast_nodes(code_ast.body, cell_name,\n"
     ]
    },
    {
     "data": {
      "text/html": [
       "<div>\n",
       "<style scoped>\n",
       "    .dataframe tbody tr th:only-of-type {\n",
       "        vertical-align: middle;\n",
       "    }\n",
       "\n",
       "    .dataframe tbody tr th {\n",
       "        vertical-align: top;\n",
       "    }\n",
       "\n",
       "    .dataframe thead th {\n",
       "        text-align: right;\n",
       "    }\n",
       "</style>\n",
       "<table border=\"1\" class=\"dataframe\">\n",
       "  <thead>\n",
       "    <tr style=\"text-align: right;\">\n",
       "      <th></th>\n",
       "      <th>STNAM</th>\n",
       "      <th>FIPST</th>\n",
       "      <th>LEAID</th>\n",
       "      <th>ST_LEAID</th>\n",
       "      <th>LEANM</th>\n",
       "      <th>NCESSCH</th>\n",
       "      <th>ST_SCHID</th>\n",
       "      <th>SCHNAM</th>\n",
       "      <th>DATE_CUR</th>\n",
       "      <th>ALL_RLA00NUMVALID_1718</th>\n",
       "      <th>...</th>\n",
       "      <th>MIL_RLA05NUMVALID_1718</th>\n",
       "      <th>MIL_RLA05PCTPROF_1718</th>\n",
       "      <th>MIL_RLA06NUMVALID_1718</th>\n",
       "      <th>MIL_RLA06PCTPROF_1718</th>\n",
       "      <th>MIL_RLA07NUMVALID_1718</th>\n",
       "      <th>MIL_RLA07PCTPROF_1718</th>\n",
       "      <th>MIL_RLA08NUMVALID_1718</th>\n",
       "      <th>MIL_RLA08PCTPROF_1718</th>\n",
       "      <th>MIL_RLAHSNUMVALID_1718</th>\n",
       "      <th>MIL_RLAHSPCTPROF_1718</th>\n",
       "    </tr>\n",
       "  </thead>\n",
       "  <tbody>\n",
       "    <tr>\n",
       "      <th>0</th>\n",
       "      <td>ALABAMA</td>\n",
       "      <td>1</td>\n",
       "      <td>100005</td>\n",
       "      <td>AL-101</td>\n",
       "      <td>Albertville City</td>\n",
       "      <td>1.000050e+10</td>\n",
       "      <td>AL-101-0010</td>\n",
       "      <td>Albertville Middle School</td>\n",
       "      <td>27-Mar-19</td>\n",
       "      <td>801</td>\n",
       "      <td>...</td>\n",
       "      <td>NaN</td>\n",
       "      <td>NaN</td>\n",
       "      <td>NaN</td>\n",
       "      <td>NaN</td>\n",
       "      <td>11</td>\n",
       "      <td>GE50</td>\n",
       "      <td>14</td>\n",
       "      <td>GE50</td>\n",
       "      <td>NaN</td>\n",
       "      <td>NaN</td>\n",
       "    </tr>\n",
       "    <tr>\n",
       "      <th>1</th>\n",
       "      <td>ALABAMA</td>\n",
       "      <td>1</td>\n",
       "      <td>100005</td>\n",
       "      <td>AL-101</td>\n",
       "      <td>Albertville City</td>\n",
       "      <td>1.000050e+10</td>\n",
       "      <td>AL-101-0020</td>\n",
       "      <td>Albertville High School</td>\n",
       "      <td>27-Mar-19</td>\n",
       "      <td>337</td>\n",
       "      <td>...</td>\n",
       "      <td>NaN</td>\n",
       "      <td>NaN</td>\n",
       "      <td>NaN</td>\n",
       "      <td>NaN</td>\n",
       "      <td>NaN</td>\n",
       "      <td>NaN</td>\n",
       "      <td>NaN</td>\n",
       "      <td>NaN</td>\n",
       "      <td>10</td>\n",
       "      <td>GE50</td>\n",
       "    </tr>\n",
       "    <tr>\n",
       "      <th>2</th>\n",
       "      <td>ALABAMA</td>\n",
       "      <td>1</td>\n",
       "      <td>100005</td>\n",
       "      <td>AL-101</td>\n",
       "      <td>Albertville City</td>\n",
       "      <td>1.000050e+10</td>\n",
       "      <td>AL-101-0110</td>\n",
       "      <td>Evans Elementary School</td>\n",
       "      <td>27-Mar-19</td>\n",
       "      <td>848</td>\n",
       "      <td>...</td>\n",
       "      <td>14</td>\n",
       "      <td>LT50</td>\n",
       "      <td>5</td>\n",
       "      <td>PS</td>\n",
       "      <td>NaN</td>\n",
       "      <td>NaN</td>\n",
       "      <td>NaN</td>\n",
       "      <td>NaN</td>\n",
       "      <td>NaN</td>\n",
       "      <td>NaN</td>\n",
       "    </tr>\n",
       "    <tr>\n",
       "      <th>3</th>\n",
       "      <td>ALABAMA</td>\n",
       "      <td>1</td>\n",
       "      <td>100005</td>\n",
       "      <td>AL-101</td>\n",
       "      <td>Albertville City</td>\n",
       "      <td>1.000050e+10</td>\n",
       "      <td>AL-101-0200</td>\n",
       "      <td>Albertville Elementary School</td>\n",
       "      <td>27-Mar-19</td>\n",
       "      <td>899</td>\n",
       "      <td>...</td>\n",
       "      <td>NaN</td>\n",
       "      <td>NaN</td>\n",
       "      <td>NaN</td>\n",
       "      <td>NaN</td>\n",
       "      <td>NaN</td>\n",
       "      <td>NaN</td>\n",
       "      <td>NaN</td>\n",
       "      <td>NaN</td>\n",
       "      <td>NaN</td>\n",
       "      <td>NaN</td>\n",
       "    </tr>\n",
       "    <tr>\n",
       "      <th>4</th>\n",
       "      <td>ALABAMA</td>\n",
       "      <td>1</td>\n",
       "      <td>100006</td>\n",
       "      <td>AL-048</td>\n",
       "      <td>Marshall County</td>\n",
       "      <td>1.000060e+10</td>\n",
       "      <td>AL-048-0143</td>\n",
       "      <td>Kate Duncan Smith DAR Middle</td>\n",
       "      <td>27-Mar-19</td>\n",
       "      <td>433</td>\n",
       "      <td>...</td>\n",
       "      <td>NaN</td>\n",
       "      <td>NaN</td>\n",
       "      <td>NaN</td>\n",
       "      <td>NaN</td>\n",
       "      <td>NaN</td>\n",
       "      <td>NaN</td>\n",
       "      <td>NaN</td>\n",
       "      <td>NaN</td>\n",
       "      <td>NaN</td>\n",
       "      <td>NaN</td>\n",
       "    </tr>\n",
       "  </tbody>\n",
       "</table>\n",
       "<p>5 rows × 265 columns</p>\n",
       "</div>"
      ],
      "text/plain": [
       "     STNAM  FIPST   LEAID ST_LEAID             LEANM       NCESSCH  \\\n",
       "0  ALABAMA      1  100005   AL-101  Albertville City  1.000050e+10   \n",
       "1  ALABAMA      1  100005   AL-101  Albertville City  1.000050e+10   \n",
       "2  ALABAMA      1  100005   AL-101  Albertville City  1.000050e+10   \n",
       "3  ALABAMA      1  100005   AL-101  Albertville City  1.000050e+10   \n",
       "4  ALABAMA      1  100006   AL-048   Marshall County  1.000060e+10   \n",
       "\n",
       "      ST_SCHID                         SCHNAM   DATE_CUR  \\\n",
       "0  AL-101-0010      Albertville Middle School  27-Mar-19   \n",
       "1  AL-101-0020        Albertville High School  27-Mar-19   \n",
       "2  AL-101-0110        Evans Elementary School  27-Mar-19   \n",
       "3  AL-101-0200  Albertville Elementary School  27-Mar-19   \n",
       "4  AL-048-0143   Kate Duncan Smith DAR Middle  27-Mar-19   \n",
       "\n",
       "   ALL_RLA00NUMVALID_1718  ... MIL_RLA05NUMVALID_1718 MIL_RLA05PCTPROF_1718  \\\n",
       "0                     801  ...                    NaN                   NaN   \n",
       "1                     337  ...                    NaN                   NaN   \n",
       "2                     848  ...                     14                  LT50   \n",
       "3                     899  ...                    NaN                   NaN   \n",
       "4                     433  ...                    NaN                   NaN   \n",
       "\n",
       "  MIL_RLA06NUMVALID_1718 MIL_RLA06PCTPROF_1718 MIL_RLA07NUMVALID_1718  \\\n",
       "0                    NaN                   NaN                     11   \n",
       "1                    NaN                   NaN                    NaN   \n",
       "2                      5                    PS                    NaN   \n",
       "3                    NaN                   NaN                    NaN   \n",
       "4                    NaN                   NaN                    NaN   \n",
       "\n",
       "  MIL_RLA07PCTPROF_1718 MIL_RLA08NUMVALID_1718 MIL_RLA08PCTPROF_1718  \\\n",
       "0                  GE50                     14                  GE50   \n",
       "1                   NaN                    NaN                   NaN   \n",
       "2                   NaN                    NaN                   NaN   \n",
       "3                   NaN                    NaN                   NaN   \n",
       "4                   NaN                    NaN                   NaN   \n",
       "\n",
       "  MIL_RLAHSNUMVALID_1718 MIL_RLAHSPCTPROF_1718  \n",
       "0                    NaN                   NaN  \n",
       "1                     10                  GE50  \n",
       "2                    NaN                   NaN  \n",
       "3                    NaN                   NaN  \n",
       "4                    NaN                   NaN  \n",
       "\n",
       "[5 rows x 265 columns]"
      ]
     },
     "execution_count": 4,
     "metadata": {},
     "output_type": "execute_result"
    }
   ],
   "source": [
    "edfacts_eng = pandas.read_csv(\"rla-achievement-sch-sy2017-18.csv\")\n",
    "edfacts_eng.head()"
   ]
  },
  {
   "cell_type": "code",
   "execution_count": 5,
   "metadata": {},
   "outputs": [
    {
     "data": {
      "text/html": [
       "<div>\n",
       "<style scoped>\n",
       "    .dataframe tbody tr th:only-of-type {\n",
       "        vertical-align: middle;\n",
       "    }\n",
       "\n",
       "    .dataframe tbody tr th {\n",
       "        vertical-align: top;\n",
       "    }\n",
       "\n",
       "    .dataframe thead th {\n",
       "        text-align: right;\n",
       "    }\n",
       "</style>\n",
       "<table border=\"1\" class=\"dataframe\">\n",
       "  <thead>\n",
       "    <tr style=\"text-align: right;\">\n",
       "      <th></th>\n",
       "      <th>STNAM</th>\n",
       "      <th>FIPST</th>\n",
       "      <th>LEAID</th>\n",
       "      <th>ST_LEAID</th>\n",
       "      <th>LEANM</th>\n",
       "      <th>NCESSCH</th>\n",
       "      <th>ST_SCHID</th>\n",
       "      <th>SCHNAM</th>\n",
       "      <th>DATE_CUR</th>\n",
       "      <th>ALL_RLA00NUMVALID_1718</th>\n",
       "      <th>ALL_RLA00PCTPROF_1718</th>\n",
       "    </tr>\n",
       "  </thead>\n",
       "  <tbody>\n",
       "    <tr>\n",
       "      <th>0</th>\n",
       "      <td>ALABAMA</td>\n",
       "      <td>1</td>\n",
       "      <td>100005</td>\n",
       "      <td>AL-101</td>\n",
       "      <td>Albertville City</td>\n",
       "      <td>1.000050e+10</td>\n",
       "      <td>AL-101-0010</td>\n",
       "      <td>Albertville Middle School</td>\n",
       "      <td>27-Mar-19</td>\n",
       "      <td>801</td>\n",
       "      <td>43</td>\n",
       "    </tr>\n",
       "    <tr>\n",
       "      <th>1</th>\n",
       "      <td>ALABAMA</td>\n",
       "      <td>1</td>\n",
       "      <td>100005</td>\n",
       "      <td>AL-101</td>\n",
       "      <td>Albertville City</td>\n",
       "      <td>1.000050e+10</td>\n",
       "      <td>AL-101-0020</td>\n",
       "      <td>Albertville High School</td>\n",
       "      <td>27-Mar-19</td>\n",
       "      <td>337</td>\n",
       "      <td>32</td>\n",
       "    </tr>\n",
       "    <tr>\n",
       "      <th>2</th>\n",
       "      <td>ALABAMA</td>\n",
       "      <td>1</td>\n",
       "      <td>100005</td>\n",
       "      <td>AL-101</td>\n",
       "      <td>Albertville City</td>\n",
       "      <td>1.000050e+10</td>\n",
       "      <td>AL-101-0110</td>\n",
       "      <td>Evans Elementary School</td>\n",
       "      <td>27-Mar-19</td>\n",
       "      <td>848</td>\n",
       "      <td>34</td>\n",
       "    </tr>\n",
       "    <tr>\n",
       "      <th>3</th>\n",
       "      <td>ALABAMA</td>\n",
       "      <td>1</td>\n",
       "      <td>100005</td>\n",
       "      <td>AL-101</td>\n",
       "      <td>Albertville City</td>\n",
       "      <td>1.000050e+10</td>\n",
       "      <td>AL-101-0200</td>\n",
       "      <td>Albertville Elementary School</td>\n",
       "      <td>27-Mar-19</td>\n",
       "      <td>899</td>\n",
       "      <td>41</td>\n",
       "    </tr>\n",
       "    <tr>\n",
       "      <th>4</th>\n",
       "      <td>ALABAMA</td>\n",
       "      <td>1</td>\n",
       "      <td>100006</td>\n",
       "      <td>AL-048</td>\n",
       "      <td>Marshall County</td>\n",
       "      <td>1.000060e+10</td>\n",
       "      <td>AL-048-0143</td>\n",
       "      <td>Kate Duncan Smith DAR Middle</td>\n",
       "      <td>27-Mar-19</td>\n",
       "      <td>433</td>\n",
       "      <td>52</td>\n",
       "    </tr>\n",
       "  </tbody>\n",
       "</table>\n",
       "</div>"
      ],
      "text/plain": [
       "     STNAM  FIPST   LEAID ST_LEAID             LEANM       NCESSCH  \\\n",
       "0  ALABAMA      1  100005   AL-101  Albertville City  1.000050e+10   \n",
       "1  ALABAMA      1  100005   AL-101  Albertville City  1.000050e+10   \n",
       "2  ALABAMA      1  100005   AL-101  Albertville City  1.000050e+10   \n",
       "3  ALABAMA      1  100005   AL-101  Albertville City  1.000050e+10   \n",
       "4  ALABAMA      1  100006   AL-048   Marshall County  1.000060e+10   \n",
       "\n",
       "      ST_SCHID                         SCHNAM   DATE_CUR  \\\n",
       "0  AL-101-0010      Albertville Middle School  27-Mar-19   \n",
       "1  AL-101-0020        Albertville High School  27-Mar-19   \n",
       "2  AL-101-0110        Evans Elementary School  27-Mar-19   \n",
       "3  AL-101-0200  Albertville Elementary School  27-Mar-19   \n",
       "4  AL-048-0143   Kate Duncan Smith DAR Middle  27-Mar-19   \n",
       "\n",
       "   ALL_RLA00NUMVALID_1718 ALL_RLA00PCTPROF_1718  \n",
       "0                     801                    43  \n",
       "1                     337                    32  \n",
       "2                     848                    34  \n",
       "3                     899                    41  \n",
       "4                     433                    52  "
      ]
     },
     "execution_count": 5,
     "metadata": {},
     "output_type": "execute_result"
    }
   ],
   "source": [
    "#selecting only relevant columns\n",
    "edfacts_eng= edfacts_eng[['STNAM','FIPST','LEAID','ST_LEAID','LEANM','NCESSCH','ST_SCHID','SCHNAM','DATE_CUR','ALL_RLA00NUMVALID_1718',\n",
    "                                 'ALL_RLA00PCTPROF_1718']]\n",
    "edfacts_eng.head()"
   ]
  },
  {
   "cell_type": "code",
   "execution_count": 6,
   "metadata": {},
   "outputs": [
    {
     "data": {
      "text/plain": [
       "(88179, 11)"
      ]
     },
     "execution_count": 6,
     "metadata": {},
     "output_type": "execute_result"
    }
   ],
   "source": [
    "edfacts_eng.shape"
   ]
  },
  {
   "cell_type": "code",
   "execution_count": 7,
   "metadata": {},
   "outputs": [],
   "source": [
    "edfacts_eng.rename(columns={'NCESSCH':'NCESSCH_old'}, inplace=True)"
   ]
  },
  {
   "cell_type": "code",
   "execution_count": 8,
   "metadata": {},
   "outputs": [
    {
     "data": {
      "text/plain": [
       "STNAM                      object\n",
       "FIPST                       int64\n",
       "LEAID                       int64\n",
       "ST_LEAID                   object\n",
       "LEANM                      object\n",
       "NCESSCH_old               float64\n",
       "ST_SCHID                   object\n",
       "SCHNAM                     object\n",
       "DATE_CUR                   object\n",
       "ALL_RLA00NUMVALID_1718      int64\n",
       "ALL_RLA00PCTPROF_1718      object\n",
       "dtype: object"
      ]
     },
     "execution_count": 8,
     "metadata": {},
     "output_type": "execute_result"
    }
   ],
   "source": [
    "edfacts_eng.dtypes"
   ]
  },
  {
   "cell_type": "code",
   "execution_count": 9,
   "metadata": {},
   "outputs": [
    {
     "data": {
      "text/html": [
       "<div>\n",
       "<style scoped>\n",
       "    .dataframe tbody tr th:only-of-type {\n",
       "        vertical-align: middle;\n",
       "    }\n",
       "\n",
       "    .dataframe tbody tr th {\n",
       "        vertical-align: top;\n",
       "    }\n",
       "\n",
       "    .dataframe thead th {\n",
       "        text-align: right;\n",
       "    }\n",
       "</style>\n",
       "<table border=\"1\" class=\"dataframe\">\n",
       "  <thead>\n",
       "    <tr style=\"text-align: right;\">\n",
       "      <th></th>\n",
       "      <th>FIPST</th>\n",
       "      <th>LEAID</th>\n",
       "      <th>NCESSCH_old</th>\n",
       "      <th>ALL_RLA00NUMVALID_1718</th>\n",
       "    </tr>\n",
       "  </thead>\n",
       "  <tbody>\n",
       "    <tr>\n",
       "      <th>count</th>\n",
       "      <td>88179.000000</td>\n",
       "      <td>8.817900e+04</td>\n",
       "      <td>8.817900e+04</td>\n",
       "      <td>88179.000000</td>\n",
       "    </tr>\n",
       "    <tr>\n",
       "      <th>mean</th>\n",
       "      <td>28.673494</td>\n",
       "      <td>2.879054e+06</td>\n",
       "      <td>2.879054e+11</td>\n",
       "      <td>291.949206</td>\n",
       "    </tr>\n",
       "    <tr>\n",
       "      <th>std</th>\n",
       "      <td>16.866172</td>\n",
       "      <td>1.686131e+06</td>\n",
       "      <td>1.686131e+11</td>\n",
       "      <td>255.684935</td>\n",
       "    </tr>\n",
       "    <tr>\n",
       "      <th>min</th>\n",
       "      <td>1.000000</td>\n",
       "      <td>1.000050e+05</td>\n",
       "      <td>1.000050e+10</td>\n",
       "      <td>1.000000</td>\n",
       "    </tr>\n",
       "    <tr>\n",
       "      <th>25%</th>\n",
       "      <td>13.000000</td>\n",
       "      <td>1.301020e+06</td>\n",
       "      <td>1.301020e+11</td>\n",
       "      <td>125.000000</td>\n",
       "    </tr>\n",
       "    <tr>\n",
       "      <th>50%</th>\n",
       "      <td>29.000000</td>\n",
       "      <td>2.911010e+06</td>\n",
       "      <td>2.911010e+11</td>\n",
       "      <td>230.000000</td>\n",
       "    </tr>\n",
       "    <tr>\n",
       "      <th>75%</th>\n",
       "      <td>42.000000</td>\n",
       "      <td>4.218990e+06</td>\n",
       "      <td>4.218990e+11</td>\n",
       "      <td>372.000000</td>\n",
       "    </tr>\n",
       "    <tr>\n",
       "      <th>max</th>\n",
       "      <td>72.000000</td>\n",
       "      <td>7.200030e+06</td>\n",
       "      <td>7.200030e+11</td>\n",
       "      <td>6918.000000</td>\n",
       "    </tr>\n",
       "  </tbody>\n",
       "</table>\n",
       "</div>"
      ],
      "text/plain": [
       "              FIPST         LEAID   NCESSCH_old  ALL_RLA00NUMVALID_1718\n",
       "count  88179.000000  8.817900e+04  8.817900e+04            88179.000000\n",
       "mean      28.673494  2.879054e+06  2.879054e+11              291.949206\n",
       "std       16.866172  1.686131e+06  1.686131e+11              255.684935\n",
       "min        1.000000  1.000050e+05  1.000050e+10                1.000000\n",
       "25%       13.000000  1.301020e+06  1.301020e+11              125.000000\n",
       "50%       29.000000  2.911010e+06  2.911010e+11              230.000000\n",
       "75%       42.000000  4.218990e+06  4.218990e+11              372.000000\n",
       "max       72.000000  7.200030e+06  7.200030e+11             6918.000000"
      ]
     },
     "execution_count": 9,
     "metadata": {},
     "output_type": "execute_result"
    }
   ],
   "source": [
    "edfacts_eng.describe()"
   ]
  },
  {
   "cell_type": "code",
   "execution_count": 10,
   "metadata": {},
   "outputs": [
    {
     "data": {
      "text/plain": [
       "<matplotlib.axes._subplots.AxesSubplot at 0x7f9b5285bc70>"
      ]
     },
     "execution_count": 10,
     "metadata": {},
     "output_type": "execute_result"
    },
    {
     "data": {
      "image/png": "[encoded data removed]",
      "text/plain": [
       "<Figure size 432x288 with 2 Axes>"
      ]
     },
     "metadata": {
      "needs_background": "light"
     },
     "output_type": "display_data"
    }
   ],
   "source": [
    "sns.heatmap(edfacts_eng.isnull(),yticklabels=False,cbar=True,cmap='viridis')"
   ]
  },
  {
   "cell_type": "code",
   "execution_count": 11,
   "metadata": {},
   "outputs": [
    {
     "data": {
      "text/plain": [
       "array([[<matplotlib.axes._subplots.AxesSubplot object at 0x7f9b23625f70>,\n",
       "        <matplotlib.axes._subplots.AxesSubplot object at 0x7f9b2364b400>],\n",
       "       [<matplotlib.axes._subplots.AxesSubplot object at 0x7f9b270ce880>,\n",
       "        <matplotlib.axes._subplots.AxesSubplot object at 0x7f9b270eacd0>]],\n",
       "      dtype=object)"
      ]
     },
     "execution_count": 11,
     "metadata": {},
     "output_type": "execute_result"
    },
    {
     "data": {
      "image/png": "[encoded data removed]",
      "text/plain": [
       "<Figure size 432x288 with 4 Axes>"
      ]
     },
     "metadata": {
      "needs_background": "light"
     },
     "output_type": "display_data"
    }
   ],
   "source": [
    "edfacts_eng.hist()"
   ]
  },
  {
   "cell_type": "markdown",
   "metadata": {},
   "source": [
    "Joining ccd_directory and edfacts datasets; using inner join default"
   ]
  },
  {
   "cell_type": "code",
   "execution_count": 12,
   "metadata": {},
   "outputs": [
    {
     "name": "stdout",
     "output_type": "stream",
     "text": [
      "/Users/dansari/Documents/GitHub/Identifying-features-to-predict-high-school-assessment-proficiency/Phase1/Data/CCD\n"
     ]
    }
   ],
   "source": [
    "cd /Users/dansari/Documents/GitHub/Identifying-features-to-predict-high-school-assessment-proficiency/Phase1/Data/CCD"
   ]
  },
  {
   "cell_type": "code",
   "execution_count": 13,
   "metadata": {},
   "outputs": [
    {
     "data": {
      "text/html": [
       "<div>\n",
       "<style scoped>\n",
       "    .dataframe tbody tr th:only-of-type {\n",
       "        vertical-align: middle;\n",
       "    }\n",
       "\n",
       "    .dataframe tbody tr th {\n",
       "        vertical-align: top;\n",
       "    }\n",
       "\n",
       "    .dataframe thead th {\n",
       "        text-align: right;\n",
       "    }\n",
       "</style>\n",
       "<table border=\"1\" class=\"dataframe\">\n",
       "  <thead>\n",
       "    <tr style=\"text-align: right;\">\n",
       "      <th></th>\n",
       "      <th>SCHOOL_YEAR</th>\n",
       "      <th>ST</th>\n",
       "      <th>SCH_NAME</th>\n",
       "      <th>LEA_NAME</th>\n",
       "      <th>STATE_AGENCY_NO</th>\n",
       "      <th>ST_LEAID</th>\n",
       "      <th>LEAID</th>\n",
       "      <th>ST_SCHID</th>\n",
       "      <th>NCESSCH</th>\n",
       "      <th>SCHID</th>\n",
       "      <th>SY_STATUS</th>\n",
       "      <th>SCH_TYPE_TEXT</th>\n",
       "      <th>SCH_TYPE</th>\n",
       "      <th>LEVEL</th>\n",
       "    </tr>\n",
       "  </thead>\n",
       "  <tbody>\n",
       "    <tr>\n",
       "      <th>0</th>\n",
       "      <td>2017-2018</td>\n",
       "      <td>AL</td>\n",
       "      <td>Albertville Middle School</td>\n",
       "      <td>Albertville City</td>\n",
       "      <td>1</td>\n",
       "      <td>AL-101</td>\n",
       "      <td>100005</td>\n",
       "      <td>AL-101-0010</td>\n",
       "      <td>10000500870</td>\n",
       "      <td>100870</td>\n",
       "      <td>1</td>\n",
       "      <td>Regular School</td>\n",
       "      <td>1</td>\n",
       "      <td>Middle</td>\n",
       "    </tr>\n",
       "    <tr>\n",
       "      <th>1</th>\n",
       "      <td>2017-2018</td>\n",
       "      <td>AL</td>\n",
       "      <td>Albertville High School</td>\n",
       "      <td>Albertville City</td>\n",
       "      <td>1</td>\n",
       "      <td>AL-101</td>\n",
       "      <td>100005</td>\n",
       "      <td>AL-101-0020</td>\n",
       "      <td>10000500871</td>\n",
       "      <td>100871</td>\n",
       "      <td>1</td>\n",
       "      <td>Regular School</td>\n",
       "      <td>1</td>\n",
       "      <td>High</td>\n",
       "    </tr>\n",
       "    <tr>\n",
       "      <th>2</th>\n",
       "      <td>2017-2018</td>\n",
       "      <td>AL</td>\n",
       "      <td>Evans Elementary School</td>\n",
       "      <td>Albertville City</td>\n",
       "      <td>1</td>\n",
       "      <td>AL-101</td>\n",
       "      <td>100005</td>\n",
       "      <td>AL-101-0110</td>\n",
       "      <td>10000500879</td>\n",
       "      <td>100879</td>\n",
       "      <td>1</td>\n",
       "      <td>Regular School</td>\n",
       "      <td>1</td>\n",
       "      <td>Middle</td>\n",
       "    </tr>\n",
       "    <tr>\n",
       "      <th>3</th>\n",
       "      <td>2017-2018</td>\n",
       "      <td>AL</td>\n",
       "      <td>Albertville Elementary School</td>\n",
       "      <td>Albertville City</td>\n",
       "      <td>1</td>\n",
       "      <td>AL-101</td>\n",
       "      <td>100005</td>\n",
       "      <td>AL-101-0200</td>\n",
       "      <td>10000500889</td>\n",
       "      <td>100889</td>\n",
       "      <td>1</td>\n",
       "      <td>Regular School</td>\n",
       "      <td>1</td>\n",
       "      <td>Elementary</td>\n",
       "    </tr>\n",
       "    <tr>\n",
       "      <th>4</th>\n",
       "      <td>2017-2018</td>\n",
       "      <td>AL</td>\n",
       "      <td>Big Spring Lake Kindergarten School</td>\n",
       "      <td>Albertville City</td>\n",
       "      <td>1</td>\n",
       "      <td>AL-101</td>\n",
       "      <td>100005</td>\n",
       "      <td>AL-101-0035</td>\n",
       "      <td>10000501616</td>\n",
       "      <td>101616</td>\n",
       "      <td>1</td>\n",
       "      <td>Regular School</td>\n",
       "      <td>1</td>\n",
       "      <td>Elementary</td>\n",
       "    </tr>\n",
       "  </tbody>\n",
       "</table>\n",
       "</div>"
      ],
      "text/plain": [
       "  SCHOOL_YEAR  ST                             SCH_NAME          LEA_NAME  \\\n",
       "0   2017-2018  AL            Albertville Middle School  Albertville City   \n",
       "1   2017-2018  AL              Albertville High School  Albertville City   \n",
       "2   2017-2018  AL              Evans Elementary School  Albertville City   \n",
       "3   2017-2018  AL        Albertville Elementary School  Albertville City   \n",
       "4   2017-2018  AL  Big Spring Lake Kindergarten School  Albertville City   \n",
       "\n",
       "   STATE_AGENCY_NO ST_LEAID   LEAID     ST_SCHID      NCESSCH   SCHID  \\\n",
       "0                1   AL-101  100005  AL-101-0010  10000500870  100870   \n",
       "1                1   AL-101  100005  AL-101-0020  10000500871  100871   \n",
       "2                1   AL-101  100005  AL-101-0110  10000500879  100879   \n",
       "3                1   AL-101  100005  AL-101-0200  10000500889  100889   \n",
       "4                1   AL-101  100005  AL-101-0035  10000501616  101616   \n",
       "\n",
       "   SY_STATUS   SCH_TYPE_TEXT  SCH_TYPE       LEVEL  \n",
       "0          1  Regular School         1      Middle  \n",
       "1          1  Regular School         1        High  \n",
       "2          1  Regular School         1      Middle  \n",
       "3          1  Regular School         1  Elementary  \n",
       "4          1  Regular School         1  Elementary  "
      ]
     },
     "execution_count": 13,
     "metadata": {},
     "output_type": "execute_result"
    }
   ],
   "source": [
    "ccd_directory= pandas.read_csv(\"Clean_ccd_directory.csv\")\n",
    "ccd_directory.head()"
   ]
  },
  {
   "cell_type": "code",
   "execution_count": 14,
   "metadata": {},
   "outputs": [],
   "source": [
    "edfacts_eng_merged_ccd = edfacts_eng.merge(ccd_directory, on='ST_SCHID')"
   ]
  },
  {
   "cell_type": "code",
   "execution_count": 15,
   "metadata": {},
   "outputs": [
    {
     "data": {
      "text/html": [
       "<div>\n",
       "<style scoped>\n",
       "    .dataframe tbody tr th:only-of-type {\n",
       "        vertical-align: middle;\n",
       "    }\n",
       "\n",
       "    .dataframe tbody tr th {\n",
       "        vertical-align: top;\n",
       "    }\n",
       "\n",
       "    .dataframe thead th {\n",
       "        text-align: right;\n",
       "    }\n",
       "</style>\n",
       "<table border=\"1\" class=\"dataframe\">\n",
       "  <thead>\n",
       "    <tr style=\"text-align: right;\">\n",
       "      <th></th>\n",
       "      <th>STNAM</th>\n",
       "      <th>FIPST</th>\n",
       "      <th>LEAID_x</th>\n",
       "      <th>ST_LEAID_x</th>\n",
       "      <th>LEANM</th>\n",
       "      <th>NCESSCH_old</th>\n",
       "      <th>ST_SCHID</th>\n",
       "      <th>SCHNAM</th>\n",
       "      <th>DATE_CUR</th>\n",
       "      <th>ALL_RLA00NUMVALID_1718</th>\n",
       "      <th>...</th>\n",
       "      <th>LEA_NAME</th>\n",
       "      <th>STATE_AGENCY_NO</th>\n",
       "      <th>ST_LEAID_y</th>\n",
       "      <th>LEAID_y</th>\n",
       "      <th>NCESSCH</th>\n",
       "      <th>SCHID</th>\n",
       "      <th>SY_STATUS</th>\n",
       "      <th>SCH_TYPE_TEXT</th>\n",
       "      <th>SCH_TYPE</th>\n",
       "      <th>LEVEL</th>\n",
       "    </tr>\n",
       "  </thead>\n",
       "  <tbody>\n",
       "    <tr>\n",
       "      <th>0</th>\n",
       "      <td>ALABAMA</td>\n",
       "      <td>1</td>\n",
       "      <td>100005</td>\n",
       "      <td>AL-101</td>\n",
       "      <td>Albertville City</td>\n",
       "      <td>1.000050e+10</td>\n",
       "      <td>AL-101-0010</td>\n",
       "      <td>Albertville Middle School</td>\n",
       "      <td>27-Mar-19</td>\n",
       "      <td>801</td>\n",
       "      <td>...</td>\n",
       "      <td>Albertville City</td>\n",
       "      <td>1</td>\n",
       "      <td>AL-101</td>\n",
       "      <td>100005</td>\n",
       "      <td>10000500870</td>\n",
       "      <td>100870</td>\n",
       "      <td>1</td>\n",
       "      <td>Regular School</td>\n",
       "      <td>1</td>\n",
       "      <td>Middle</td>\n",
       "    </tr>\n",
       "    <tr>\n",
       "      <th>1</th>\n",
       "      <td>ALABAMA</td>\n",
       "      <td>1</td>\n",
       "      <td>100005</td>\n",
       "      <td>AL-101</td>\n",
       "      <td>Albertville City</td>\n",
       "      <td>1.000050e+10</td>\n",
       "      <td>AL-101-0020</td>\n",
       "      <td>Albertville High School</td>\n",
       "      <td>27-Mar-19</td>\n",
       "      <td>337</td>\n",
       "      <td>...</td>\n",
       "      <td>Albertville City</td>\n",
       "      <td>1</td>\n",
       "      <td>AL-101</td>\n",
       "      <td>100005</td>\n",
       "      <td>10000500871</td>\n",
       "      <td>100871</td>\n",
       "      <td>1</td>\n",
       "      <td>Regular School</td>\n",
       "      <td>1</td>\n",
       "      <td>High</td>\n",
       "    </tr>\n",
       "    <tr>\n",
       "      <th>2</th>\n",
       "      <td>ALABAMA</td>\n",
       "      <td>1</td>\n",
       "      <td>100005</td>\n",
       "      <td>AL-101</td>\n",
       "      <td>Albertville City</td>\n",
       "      <td>1.000050e+10</td>\n",
       "      <td>AL-101-0110</td>\n",
       "      <td>Evans Elementary School</td>\n",
       "      <td>27-Mar-19</td>\n",
       "      <td>848</td>\n",
       "      <td>...</td>\n",
       "      <td>Albertville City</td>\n",
       "      <td>1</td>\n",
       "      <td>AL-101</td>\n",
       "      <td>100005</td>\n",
       "      <td>10000500879</td>\n",
       "      <td>100879</td>\n",
       "      <td>1</td>\n",
       "      <td>Regular School</td>\n",
       "      <td>1</td>\n",
       "      <td>Middle</td>\n",
       "    </tr>\n",
       "    <tr>\n",
       "      <th>3</th>\n",
       "      <td>ALABAMA</td>\n",
       "      <td>1</td>\n",
       "      <td>100005</td>\n",
       "      <td>AL-101</td>\n",
       "      <td>Albertville City</td>\n",
       "      <td>1.000050e+10</td>\n",
       "      <td>AL-101-0200</td>\n",
       "      <td>Albertville Elementary School</td>\n",
       "      <td>27-Mar-19</td>\n",
       "      <td>899</td>\n",
       "      <td>...</td>\n",
       "      <td>Albertville City</td>\n",
       "      <td>1</td>\n",
       "      <td>AL-101</td>\n",
       "      <td>100005</td>\n",
       "      <td>10000500889</td>\n",
       "      <td>100889</td>\n",
       "      <td>1</td>\n",
       "      <td>Regular School</td>\n",
       "      <td>1</td>\n",
       "      <td>Elementary</td>\n",
       "    </tr>\n",
       "    <tr>\n",
       "      <th>4</th>\n",
       "      <td>ALABAMA</td>\n",
       "      <td>1</td>\n",
       "      <td>100006</td>\n",
       "      <td>AL-048</td>\n",
       "      <td>Marshall County</td>\n",
       "      <td>1.000060e+10</td>\n",
       "      <td>AL-048-0143</td>\n",
       "      <td>Kate Duncan Smith DAR Middle</td>\n",
       "      <td>27-Mar-19</td>\n",
       "      <td>433</td>\n",
       "      <td>...</td>\n",
       "      <td>Marshall County</td>\n",
       "      <td>1</td>\n",
       "      <td>AL-048</td>\n",
       "      <td>100006</td>\n",
       "      <td>10000600193</td>\n",
       "      <td>100193</td>\n",
       "      <td>1</td>\n",
       "      <td>Regular School</td>\n",
       "      <td>1</td>\n",
       "      <td>Middle</td>\n",
       "    </tr>\n",
       "  </tbody>\n",
       "</table>\n",
       "<p>5 rows × 24 columns</p>\n",
       "</div>"
      ],
      "text/plain": [
       "     STNAM  FIPST  LEAID_x ST_LEAID_x             LEANM   NCESSCH_old  \\\n",
       "0  ALABAMA      1   100005     AL-101  Albertville City  1.000050e+10   \n",
       "1  ALABAMA      1   100005     AL-101  Albertville City  1.000050e+10   \n",
       "2  ALABAMA      1   100005     AL-101  Albertville City  1.000050e+10   \n",
       "3  ALABAMA      1   100005     AL-101  Albertville City  1.000050e+10   \n",
       "4  ALABAMA      1   100006     AL-048   Marshall County  1.000060e+10   \n",
       "\n",
       "      ST_SCHID                         SCHNAM   DATE_CUR  \\\n",
       "0  AL-101-0010      Albertville Middle School  27-Mar-19   \n",
       "1  AL-101-0020        Albertville High School  27-Mar-19   \n",
       "2  AL-101-0110        Evans Elementary School  27-Mar-19   \n",
       "3  AL-101-0200  Albertville Elementary School  27-Mar-19   \n",
       "4  AL-048-0143   Kate Duncan Smith DAR Middle  27-Mar-19   \n",
       "\n",
       "   ALL_RLA00NUMVALID_1718  ...          LEA_NAME STATE_AGENCY_NO ST_LEAID_y  \\\n",
       "0                     801  ...  Albertville City               1     AL-101   \n",
       "1                     337  ...  Albertville City               1     AL-101   \n",
       "2                     848  ...  Albertville City               1     AL-101   \n",
       "3                     899  ...  Albertville City               1     AL-101   \n",
       "4                     433  ...   Marshall County               1     AL-048   \n",
       "\n",
       "  LEAID_y      NCESSCH   SCHID SY_STATUS   SCH_TYPE_TEXT  SCH_TYPE       LEVEL  \n",
       "0  100005  10000500870  100870         1  Regular School         1      Middle  \n",
       "1  100005  10000500871  100871         1  Regular School         1        High  \n",
       "2  100005  10000500879  100879         1  Regular School         1      Middle  \n",
       "3  100005  10000500889  100889         1  Regular School         1  Elementary  \n",
       "4  100006  10000600193  100193         1  Regular School         1      Middle  \n",
       "\n",
       "[5 rows x 24 columns]"
      ]
     },
     "execution_count": 15,
     "metadata": {},
     "output_type": "execute_result"
    }
   ],
   "source": [
    "edfacts_eng_merged_ccd.head()"
   ]
  },
  {
   "cell_type": "code",
   "execution_count": 16,
   "metadata": {},
   "outputs": [
    {
     "data": {
      "text/plain": [
       "(88175, 24)"
      ]
     },
     "execution_count": 16,
     "metadata": {},
     "output_type": "execute_result"
    }
   ],
   "source": [
    "edfacts_eng_merged_ccd.shape"
   ]
  },
  {
   "cell_type": "code",
   "execution_count": 17,
   "metadata": {},
   "outputs": [
    {
     "data": {
      "text/html": [
       "<div>\n",
       "<style scoped>\n",
       "    .dataframe tbody tr th:only-of-type {\n",
       "        vertical-align: middle;\n",
       "    }\n",
       "\n",
       "    .dataframe tbody tr th {\n",
       "        vertical-align: top;\n",
       "    }\n",
       "\n",
       "    .dataframe thead th {\n",
       "        text-align: right;\n",
       "    }\n",
       "</style>\n",
       "<table border=\"1\" class=\"dataframe\">\n",
       "  <thead>\n",
       "    <tr style=\"text-align: right;\">\n",
       "      <th></th>\n",
       "      <th>FIPST</th>\n",
       "      <th>LEAID_x</th>\n",
       "      <th>NCESSCH_old</th>\n",
       "      <th>ALL_RLA00NUMVALID_1718</th>\n",
       "      <th>STATE_AGENCY_NO</th>\n",
       "      <th>LEAID_y</th>\n",
       "      <th>NCESSCH</th>\n",
       "      <th>SCHID</th>\n",
       "      <th>SY_STATUS</th>\n",
       "      <th>SCH_TYPE</th>\n",
       "    </tr>\n",
       "  </thead>\n",
       "  <tbody>\n",
       "    <tr>\n",
       "      <th>count</th>\n",
       "      <td>88175.000000</td>\n",
       "      <td>8.817500e+04</td>\n",
       "      <td>8.817500e+04</td>\n",
       "      <td>88175.000000</td>\n",
       "      <td>88175.0</td>\n",
       "      <td>8.817500e+04</td>\n",
       "      <td>8.817500e+04</td>\n",
       "      <td>8.817500e+04</td>\n",
       "      <td>88175.000000</td>\n",
       "      <td>88175.000000</td>\n",
       "    </tr>\n",
       "    <tr>\n",
       "      <th>mean</th>\n",
       "      <td>28.674103</td>\n",
       "      <td>2.879115e+06</td>\n",
       "      <td>2.879116e+11</td>\n",
       "      <td>291.960749</td>\n",
       "      <td>1.0</td>\n",
       "      <td>2.879115e+06</td>\n",
       "      <td>2.879115e+11</td>\n",
       "      <td>2.870344e+06</td>\n",
       "      <td>1.022285</td>\n",
       "      <td>1.132759</td>\n",
       "    </tr>\n",
       "    <tr>\n",
       "      <th>std</th>\n",
       "      <td>16.866240</td>\n",
       "      <td>1.686138e+06</td>\n",
       "      <td>1.686138e+11</td>\n",
       "      <td>255.684732</td>\n",
       "      <td>0.0</td>\n",
       "      <td>1.686138e+06</td>\n",
       "      <td>1.686138e+11</td>\n",
       "      <td>1.686416e+06</td>\n",
       "      <td>0.249099</td>\n",
       "      <td>0.592767</td>\n",
       "    </tr>\n",
       "    <tr>\n",
       "      <th>min</th>\n",
       "      <td>1.000000</td>\n",
       "      <td>1.000050e+05</td>\n",
       "      <td>1.000050e+10</td>\n",
       "      <td>1.000000</td>\n",
       "      <td>1.0</td>\n",
       "      <td>1.000050e+05</td>\n",
       "      <td>1.000050e+10</td>\n",
       "      <td>1.000010e+05</td>\n",
       "      <td>1.000000</td>\n",
       "      <td>1.000000</td>\n",
       "    </tr>\n",
       "    <tr>\n",
       "      <th>25%</th>\n",
       "      <td>13.000000</td>\n",
       "      <td>1.301020e+06</td>\n",
       "      <td>1.301020e+11</td>\n",
       "      <td>125.000000</td>\n",
       "      <td>1.0</td>\n",
       "      <td>1.301020e+06</td>\n",
       "      <td>1.301020e+11</td>\n",
       "      <td>1.300622e+06</td>\n",
       "      <td>1.000000</td>\n",
       "      <td>1.000000</td>\n",
       "    </tr>\n",
       "    <tr>\n",
       "      <th>50%</th>\n",
       "      <td>29.000000</td>\n",
       "      <td>2.911070e+06</td>\n",
       "      <td>2.911070e+11</td>\n",
       "      <td>230.000000</td>\n",
       "      <td>1.0</td>\n",
       "      <td>2.911070e+06</td>\n",
       "      <td>2.911070e+11</td>\n",
       "      <td>2.900634e+06</td>\n",
       "      <td>1.000000</td>\n",
       "      <td>1.000000</td>\n",
       "    </tr>\n",
       "    <tr>\n",
       "      <th>75%</th>\n",
       "      <td>42.000000</td>\n",
       "      <td>4.218990e+06</td>\n",
       "      <td>4.218990e+11</td>\n",
       "      <td>372.000000</td>\n",
       "      <td>1.0</td>\n",
       "      <td>4.218990e+06</td>\n",
       "      <td>4.218990e+11</td>\n",
       "      <td>4.205128e+06</td>\n",
       "      <td>1.000000</td>\n",
       "      <td>1.000000</td>\n",
       "    </tr>\n",
       "    <tr>\n",
       "      <th>max</th>\n",
       "      <td>72.000000</td>\n",
       "      <td>7.200030e+06</td>\n",
       "      <td>7.200030e+11</td>\n",
       "      <td>6918.000000</td>\n",
       "      <td>1.0</td>\n",
       "      <td>7.200030e+06</td>\n",
       "      <td>7.200030e+11</td>\n",
       "      <td>7.202085e+06</td>\n",
       "      <td>8.000000</td>\n",
       "      <td>4.000000</td>\n",
       "    </tr>\n",
       "  </tbody>\n",
       "</table>\n",
       "</div>"
      ],
      "text/plain": [
       "              FIPST       LEAID_x   NCESSCH_old  ALL_RLA00NUMVALID_1718  \\\n",
       "count  88175.000000  8.817500e+04  8.817500e+04            88175.000000   \n",
       "mean      28.674103  2.879115e+06  2.879116e+11              291.960749   \n",
       "std       16.866240  1.686138e+06  1.686138e+11              255.684732   \n",
       "min        1.000000  1.000050e+05  1.000050e+10                1.000000   \n",
       "25%       13.000000  1.301020e+06  1.301020e+11              125.000000   \n",
       "50%       29.000000  2.911070e+06  2.911070e+11              230.000000   \n",
       "75%       42.000000  4.218990e+06  4.218990e+11              372.000000   \n",
       "max       72.000000  7.200030e+06  7.200030e+11             6918.000000   \n",
       "\n",
       "       STATE_AGENCY_NO       LEAID_y       NCESSCH         SCHID  \\\n",
       "count          88175.0  8.817500e+04  8.817500e+04  8.817500e+04   \n",
       "mean               1.0  2.879115e+06  2.879115e+11  2.870344e+06   \n",
       "std                0.0  1.686138e+06  1.686138e+11  1.686416e+06   \n",
       "min                1.0  1.000050e+05  1.000050e+10  1.000010e+05   \n",
       "25%                1.0  1.301020e+06  1.301020e+11  1.300622e+06   \n",
       "50%                1.0  2.911070e+06  2.911070e+11  2.900634e+06   \n",
       "75%                1.0  4.218990e+06  4.218990e+11  4.205128e+06   \n",
       "max                1.0  7.200030e+06  7.200030e+11  7.202085e+06   \n",
       "\n",
       "          SY_STATUS      SCH_TYPE  \n",
       "count  88175.000000  88175.000000  \n",
       "mean       1.022285      1.132759  \n",
       "std        0.249099      0.592767  \n",
       "min        1.000000      1.000000  \n",
       "25%        1.000000      1.000000  \n",
       "50%        1.000000      1.000000  \n",
       "75%        1.000000      1.000000  \n",
       "max        8.000000      4.000000  "
      ]
     },
     "execution_count": 17,
     "metadata": {},
     "output_type": "execute_result"
    }
   ],
   "source": [
    "edfacts_eng_merged_ccd.describe()"
   ]
  },
  {
   "cell_type": "code",
   "execution_count": 18,
   "metadata": {},
   "outputs": [
    {
     "data": {
      "text/plain": [
       "<matplotlib.axes._subplots.AxesSubplot at 0x7f9b23886040>"
      ]
     },
     "execution_count": 18,
     "metadata": {},
     "output_type": "execute_result"
    },
    {
     "data": {
      "image/png": "[encoded data removed]",
      "text/plain": [
       "<Figure size 432x288 with 2 Axes>"
      ]
     },
     "metadata": {
      "needs_background": "light"
     },
     "output_type": "display_data"
    }
   ],
   "source": [
    "sns.heatmap(edfacts_eng_merged_ccd.isnull(),yticklabels=False,cbar=True,cmap='viridis')"
   ]
  },
  {
   "cell_type": "code",
   "execution_count": 56,
   "metadata": {},
   "outputs": [
    {
     "data": {
      "text/plain": [
       "Index(['STNAM', 'FIPST', 'LEAID_x', 'ST_LEAID_x', 'LEANM', 'NCESSCH_old',\n",
       "       'ST_SCHID', 'SCHNAM', 'DATE_CUR', 'ALL_RLA00NUMVALID_1718',\n",
       "       'ALL_RLA00PCTPROF_1718', 'SCHOOL_YEAR', 'ST', 'SCH_NAME', 'LEA_NAME',\n",
       "       'STATE_AGENCY_NO', 'ST_LEAID_y', 'LEAID_y', 'NCESSCH', 'SCHID',\n",
       "       'SY_STATUS', 'SCH_TYPE_TEXT', 'SCH_TYPE', 'LEVEL',\n",
       "       'ALL_RLA00PCTPROF_1718_new'],\n",
       "      dtype='object')"
      ]
     },
     "execution_count": 56,
     "metadata": {},
     "output_type": "execute_result"
    }
   ],
   "source": [
    "edfacts_eng_merged_ccd.columns"
   ]
  },
  {
   "cell_type": "code",
   "execution_count": 57,
   "metadata": {},
   "outputs": [],
   "source": [
    "edfacts_eng_merged_ccd['ALL_RLA00PCTPROF_1718_new'] = edfacts_eng_merged_ccd['ALL_RLA00PCTPROF_1718'].replace(['9-Jun','14-Oct','19-Nov','15-19','20-24','20-29','21-39','24-29','25-29','30-34','30-39','35-39','40-44','40-49','40-59','45-49','50-59','50-54','55-59',\n",
    "                                                                                                               '60-64','60-69','60-79','65-69','70-74','70-79','75-79','80-84','80-89','85-89','90-94','GE50','GE80','GE90','GE95','GE99','LE1','LE5','LE10','LE20',\n",
    "                                                                                                              'LT50'],\n",
    "                                                                                                              ['7.5','13','15','17','22','24.5','30','27','27','32','34.5','37','42','44.5','49.5','47','54.5','52','57','62','64.5','69.5','67','72','74.5','77','82',\n",
    "                                                                                                               '84.5','87','92','50','80','90','95','99','1','5','10','20','49'])"
   ]
  },
  {
   "cell_type": "code",
   "execution_count": 90,
   "metadata": {},
   "outputs": [
    {
     "name": "stdout",
     "output_type": "stream",
     "text": [
      "42    3394\n",
      "47    3360\n",
      "37    3071\n",
      "52    3028\n",
      "57    2948\n",
      "      ... \n",
      "96      65\n",
      "6       53\n",
      "3       39\n",
      "2       36\n",
      "4       28\n",
      "Name: ALL_RLA00PCTPROF_1718_new, Length: 110, dtype: int64\n"
     ]
    }
   ],
   "source": [
    "count_eng = edfacts_eng_merged_ccd['ALL_RLA00PCTPROF_1718_new'].value_counts() \n",
    "print(count_eng) "
   ]
  },
  {
   "cell_type": "code",
   "execution_count": 63,
   "metadata": {},
   "outputs": [
    {
     "data": {
      "text/plain": [
       "STNAM                         object\n",
       "FIPST                          int64\n",
       "LEAID_x                        int64\n",
       "ST_LEAID_x                    object\n",
       "LEANM                         object\n",
       "NCESSCH_old                  float64\n",
       "ST_SCHID                      object\n",
       "SCHNAM                        object\n",
       "DATE_CUR                      object\n",
       "ALL_RLA00NUMVALID_1718         int64\n",
       "ALL_RLA00PCTPROF_1718         object\n",
       "SCHOOL_YEAR                   object\n",
       "ST                            object\n",
       "SCH_NAME                      object\n",
       "LEA_NAME                      object\n",
       "STATE_AGENCY_NO                int64\n",
       "ST_LEAID_y                    object\n",
       "LEAID_y                        int64\n",
       "NCESSCH                        int64\n",
       "SCHID                          int64\n",
       "SY_STATUS                      int64\n",
       "SCH_TYPE_TEXT                 object\n",
       "SCH_TYPE                       int64\n",
       "LEVEL                         object\n",
       "ALL_RLA00PCTPROF_1718_new     object\n",
       "dtype: object"
      ]
     },
     "execution_count": 63,
     "metadata": {},
     "output_type": "execute_result"
    }
   ],
   "source": [
    "edfacts_eng_merged_ccd.dtypes"
   ]
  },
  {
   "cell_type": "code",
   "execution_count": 64,
   "metadata": {},
   "outputs": [
    {
     "data": {
      "text/plain": [
       "(88175, 25)"
      ]
     },
     "execution_count": 64,
     "metadata": {},
     "output_type": "execute_result"
    }
   ],
   "source": [
    "edfacts_eng_merged_ccd.shape"
   ]
  },
  {
   "cell_type": "code",
   "execution_count": 65,
   "metadata": {},
   "outputs": [],
   "source": [
    "edfacts_eng_merged_ccd_new=edfacts_eng_merged_ccd[edfacts_eng_merged_ccd['ALL_RLA00PCTPROF_1718_new']!='PS' ]"
   ]
  },
  {
   "cell_type": "code",
   "execution_count": 66,
   "metadata": {},
   "outputs": [
    {
     "data": {
      "text/plain": [
       "(86840, 25)"
      ]
     },
     "execution_count": 66,
     "metadata": {},
     "output_type": "execute_result"
    }
   ],
   "source": [
    "edfacts_eng_merged_ccd_new.shape"
   ]
  },
  {
   "cell_type": "code",
   "execution_count": 67,
   "metadata": {},
   "outputs": [
    {
     "name": "stderr",
     "output_type": "stream",
     "text": [
      "/opt/anaconda3/lib/python3.8/site-packages/pandas/core/frame.py:2963: SettingWithCopyWarning: \n",
      "A value is trying to be set on a copy of a slice from a DataFrame.\n",
      "Try using .loc[row_indexer,col_indexer] = value instead\n",
      "\n",
      "See the caveats in the documentation: https://pandas.pydata.org/pandas-docs/stable/user_guide/indexing.html#returning-a-view-versus-a-copy\n",
      "  self[k1] = value[k2]\n"
     ]
    }
   ],
   "source": [
    "edfacts_eng_merged_ccd_new[['ALL_RLA00PCTPROF_1718_new']] = edfacts_eng_merged_ccd_new[['ALL_RLA00PCTPROF_1718_new']].astype(float)"
   ]
  },
  {
   "cell_type": "code",
   "execution_count": 70,
   "metadata": {},
   "outputs": [
    {
     "data": {
      "text/plain": [
       "STNAM                         object\n",
       "FIPST                          int64\n",
       "LEAID_x                        int64\n",
       "ST_LEAID_x                    object\n",
       "LEANM                         object\n",
       "NCESSCH_old                  float64\n",
       "ST_SCHID                      object\n",
       "SCHNAM                        object\n",
       "DATE_CUR                      object\n",
       "ALL_RLA00NUMVALID_1718         int64\n",
       "ALL_RLA00PCTPROF_1718         object\n",
       "SCHOOL_YEAR                   object\n",
       "ST                            object\n",
       "SCH_NAME                      object\n",
       "LEA_NAME                      object\n",
       "STATE_AGENCY_NO                int64\n",
       "ST_LEAID_y                    object\n",
       "LEAID_y                        int64\n",
       "NCESSCH                        int64\n",
       "SCHID                          int64\n",
       "SY_STATUS                      int64\n",
       "SCH_TYPE_TEXT                 object\n",
       "SCH_TYPE                       int64\n",
       "LEVEL                         object\n",
       "ALL_RLA00PCTPROF_1718_new    float64\n",
       "dtype: object"
      ]
     },
     "execution_count": 70,
     "metadata": {},
     "output_type": "execute_result"
    }
   ],
   "source": [
    "edfacts_eng_merged_ccd_new.dtypes"
   ]
  },
  {
   "cell_type": "code",
   "execution_count": 34,
   "metadata": {},
   "outputs": [],
   "source": [
    "#edfacts_eng_merged_ccd.tail(20).T"
   ]
  },
  {
   "cell_type": "code",
   "execution_count": 37,
   "metadata": {},
   "outputs": [],
   "source": [
    "#edfacts_eng_merged_ccd['comparison_column'] = np.where(edfacts_eng_merged_ccd[\"SCHNAM\"] == edfacts_eng_merged_ccd[\"SCH_NAME\"], True, False)"
   ]
  },
  {
   "cell_type": "code",
   "execution_count": 68,
   "metadata": {},
   "outputs": [],
   "source": [
    "#edfacts_eng_merged_ccd['comparison_column'].describe()"
   ]
  },
  {
   "cell_type": "code",
   "execution_count": 69,
   "metadata": {},
   "outputs": [],
   "source": [
    "edfacts_eng_merged_ccd_new.to_csv (r'/Users/dansari/Documents/GitHub/Identifying-features-to-predict-high-school-assessment-proficiency/Phase1/Data/EDFacts/edfacts_eng_merged_ccd.csv', index = False, header=True)"
   ]
  },
  {
   "cell_type": "markdown",
   "metadata": {},
   "source": [
    "### Clean up the Edfacts file for math"
   ]
  },
  {
   "cell_type": "code",
   "execution_count": 72,
   "metadata": {},
   "outputs": [
    {
     "name": "stdout",
     "output_type": "stream",
     "text": [
      "/Users/dansari/Documents/GitHub/Identifying-features-to-predict-high-school-assessment-proficiency/Phase1/Data/EDFacts\n"
     ]
    }
   ],
   "source": [
    "cd /Users/dansari/Documents/GitHub/Identifying-features-to-predict-high-school-assessment-proficiency/Phase1/Data/EDFacts"
   ]
  },
  {
   "cell_type": "code",
   "execution_count": 73,
   "metadata": {},
   "outputs": [
    {
     "name": "stderr",
     "output_type": "stream",
     "text": [
      "/opt/anaconda3/lib/python3.8/site-packages/IPython/core/interactiveshell.py:3071: DtypeWarning: Columns (11,13,15,17,19,21,23,25,27,29,31,32,33,37,39,41,43,45,47,49,51,53,55,57,59,61,63,65,67,69,71,73,75,77,79,81,83,85,87,89,91,93,95,97,99,101,103,105,107,109,111,113,115,117,119,121,123,125,127,129,131,133,135,137,139,141,143,145,147,149,151,153,155,157,159,161,163,165,167,169,171,173,175,177,179,181,183,185,187,189,191,193,195,196,197,198,199,200,201,202,203,204,205,206,207,208,209,211,213,215,217,219,221,223,225,227,229,231,233,235,236,237,239,241,243,245,247,249,251,253,254,255,256,257,258,259,260,261,262,263) have mixed types.Specify dtype option on import or set low_memory=False.\n",
      "  has_raised = await self.run_ast_nodes(code_ast.body, cell_name,\n"
     ]
    },
    {
     "data": {
      "text/html": [
       "<div>\n",
       "<style scoped>\n",
       "    .dataframe tbody tr th:only-of-type {\n",
       "        vertical-align: middle;\n",
       "    }\n",
       "\n",
       "    .dataframe tbody tr th {\n",
       "        vertical-align: top;\n",
       "    }\n",
       "\n",
       "    .dataframe thead th {\n",
       "        text-align: right;\n",
       "    }\n",
       "</style>\n",
       "<table border=\"1\" class=\"dataframe\">\n",
       "  <thead>\n",
       "    <tr style=\"text-align: right;\">\n",
       "      <th></th>\n",
       "      <th>STNAM</th>\n",
       "      <th>FIPST</th>\n",
       "      <th>LEAID</th>\n",
       "      <th>ST_LEAID</th>\n",
       "      <th>LEANM</th>\n",
       "      <th>NCESSCH</th>\n",
       "      <th>ST_SCHID</th>\n",
       "      <th>SCHNAM</th>\n",
       "      <th>DATE_CUR</th>\n",
       "      <th>ALL_MTH00NUMVALID_1718</th>\n",
       "      <th>...</th>\n",
       "      <th>MIL_MTH05NUMVALID_1718</th>\n",
       "      <th>MIL_MTH05PCTPROF_1718</th>\n",
       "      <th>MIL_MTH06NUMVALID_1718</th>\n",
       "      <th>MIL_MTH06PCTPROF_1718</th>\n",
       "      <th>MIL_MTH07NUMVALID_1718</th>\n",
       "      <th>MIL_MTH07PCTPROF_1718</th>\n",
       "      <th>MIL_MTH08NUMVALID_1718</th>\n",
       "      <th>MIL_MTH08PCTPROF_1718</th>\n",
       "      <th>MIL_MTHHSNUMVALID_1718</th>\n",
       "      <th>MIL_MTHHSPCTPROF_1718</th>\n",
       "    </tr>\n",
       "  </thead>\n",
       "  <tbody>\n",
       "    <tr>\n",
       "      <th>0</th>\n",
       "      <td>ALABAMA</td>\n",
       "      <td>1</td>\n",
       "      <td>100005</td>\n",
       "      <td>AL-101</td>\n",
       "      <td>Albertville City</td>\n",
       "      <td>1.000050e+10</td>\n",
       "      <td>AL-101-0010</td>\n",
       "      <td>Albertville Middle School</td>\n",
       "      <td>27-Mar-19</td>\n",
       "      <td>802</td>\n",
       "      <td>...</td>\n",
       "      <td>NaN</td>\n",
       "      <td>NaN</td>\n",
       "      <td>NaN</td>\n",
       "      <td>NaN</td>\n",
       "      <td>11</td>\n",
       "      <td>GE50</td>\n",
       "      <td>14</td>\n",
       "      <td>GE50</td>\n",
       "      <td>NaN</td>\n",
       "      <td>NaN</td>\n",
       "    </tr>\n",
       "    <tr>\n",
       "      <th>1</th>\n",
       "      <td>ALABAMA</td>\n",
       "      <td>1</td>\n",
       "      <td>100005</td>\n",
       "      <td>AL-101</td>\n",
       "      <td>Albertville City</td>\n",
       "      <td>1.000050e+10</td>\n",
       "      <td>AL-101-0020</td>\n",
       "      <td>Albertville High School</td>\n",
       "      <td>27-Mar-19</td>\n",
       "      <td>337</td>\n",
       "      <td>...</td>\n",
       "      <td>NaN</td>\n",
       "      <td>NaN</td>\n",
       "      <td>NaN</td>\n",
       "      <td>NaN</td>\n",
       "      <td>NaN</td>\n",
       "      <td>NaN</td>\n",
       "      <td>NaN</td>\n",
       "      <td>NaN</td>\n",
       "      <td>10</td>\n",
       "      <td>GE50</td>\n",
       "    </tr>\n",
       "    <tr>\n",
       "      <th>2</th>\n",
       "      <td>ALABAMA</td>\n",
       "      <td>1</td>\n",
       "      <td>100005</td>\n",
       "      <td>AL-101</td>\n",
       "      <td>Albertville City</td>\n",
       "      <td>1.000050e+10</td>\n",
       "      <td>AL-101-0110</td>\n",
       "      <td>Evans Elementary School</td>\n",
       "      <td>27-Mar-19</td>\n",
       "      <td>851</td>\n",
       "      <td>...</td>\n",
       "      <td>14</td>\n",
       "      <td>LT50</td>\n",
       "      <td>5</td>\n",
       "      <td>PS</td>\n",
       "      <td>NaN</td>\n",
       "      <td>NaN</td>\n",
       "      <td>NaN</td>\n",
       "      <td>NaN</td>\n",
       "      <td>NaN</td>\n",
       "      <td>NaN</td>\n",
       "    </tr>\n",
       "    <tr>\n",
       "      <th>3</th>\n",
       "      <td>ALABAMA</td>\n",
       "      <td>1</td>\n",
       "      <td>100005</td>\n",
       "      <td>AL-101</td>\n",
       "      <td>Albertville City</td>\n",
       "      <td>1.000050e+10</td>\n",
       "      <td>AL-101-0200</td>\n",
       "      <td>Albertville Elementary School</td>\n",
       "      <td>27-Mar-19</td>\n",
       "      <td>902</td>\n",
       "      <td>...</td>\n",
       "      <td>NaN</td>\n",
       "      <td>NaN</td>\n",
       "      <td>NaN</td>\n",
       "      <td>NaN</td>\n",
       "      <td>NaN</td>\n",
       "      <td>NaN</td>\n",
       "      <td>NaN</td>\n",
       "      <td>NaN</td>\n",
       "      <td>NaN</td>\n",
       "      <td>NaN</td>\n",
       "    </tr>\n",
       "    <tr>\n",
       "      <th>4</th>\n",
       "      <td>ALABAMA</td>\n",
       "      <td>1</td>\n",
       "      <td>100006</td>\n",
       "      <td>AL-048</td>\n",
       "      <td>Marshall County</td>\n",
       "      <td>1.000060e+10</td>\n",
       "      <td>AL-048-0143</td>\n",
       "      <td>Kate Duncan Smith DAR Middle</td>\n",
       "      <td>27-Mar-19</td>\n",
       "      <td>434</td>\n",
       "      <td>...</td>\n",
       "      <td>NaN</td>\n",
       "      <td>NaN</td>\n",
       "      <td>NaN</td>\n",
       "      <td>NaN</td>\n",
       "      <td>NaN</td>\n",
       "      <td>NaN</td>\n",
       "      <td>NaN</td>\n",
       "      <td>NaN</td>\n",
       "      <td>NaN</td>\n",
       "      <td>NaN</td>\n",
       "    </tr>\n",
       "  </tbody>\n",
       "</table>\n",
       "<p>5 rows × 265 columns</p>\n",
       "</div>"
      ],
      "text/plain": [
       "     STNAM  FIPST   LEAID ST_LEAID             LEANM       NCESSCH  \\\n",
       "0  ALABAMA      1  100005   AL-101  Albertville City  1.000050e+10   \n",
       "1  ALABAMA      1  100005   AL-101  Albertville City  1.000050e+10   \n",
       "2  ALABAMA      1  100005   AL-101  Albertville City  1.000050e+10   \n",
       "3  ALABAMA      1  100005   AL-101  Albertville City  1.000050e+10   \n",
       "4  ALABAMA      1  100006   AL-048   Marshall County  1.000060e+10   \n",
       "\n",
       "      ST_SCHID                         SCHNAM   DATE_CUR  \\\n",
       "0  AL-101-0010      Albertville Middle School  27-Mar-19   \n",
       "1  AL-101-0020        Albertville High School  27-Mar-19   \n",
       "2  AL-101-0110        Evans Elementary School  27-Mar-19   \n",
       "3  AL-101-0200  Albertville Elementary School  27-Mar-19   \n",
       "4  AL-048-0143   Kate Duncan Smith DAR Middle  27-Mar-19   \n",
       "\n",
       "   ALL_MTH00NUMVALID_1718  ... MIL_MTH05NUMVALID_1718 MIL_MTH05PCTPROF_1718  \\\n",
       "0                     802  ...                    NaN                   NaN   \n",
       "1                     337  ...                    NaN                   NaN   \n",
       "2                     851  ...                     14                  LT50   \n",
       "3                     902  ...                    NaN                   NaN   \n",
       "4                     434  ...                    NaN                   NaN   \n",
       "\n",
       "  MIL_MTH06NUMVALID_1718 MIL_MTH06PCTPROF_1718 MIL_MTH07NUMVALID_1718  \\\n",
       "0                    NaN                   NaN                     11   \n",
       "1                    NaN                   NaN                    NaN   \n",
       "2                      5                    PS                    NaN   \n",
       "3                    NaN                   NaN                    NaN   \n",
       "4                    NaN                   NaN                    NaN   \n",
       "\n",
       "  MIL_MTH07PCTPROF_1718 MIL_MTH08NUMVALID_1718 MIL_MTH08PCTPROF_1718  \\\n",
       "0                  GE50                     14                  GE50   \n",
       "1                   NaN                    NaN                   NaN   \n",
       "2                   NaN                    NaN                   NaN   \n",
       "3                   NaN                    NaN                   NaN   \n",
       "4                   NaN                    NaN                   NaN   \n",
       "\n",
       "  MIL_MTHHSNUMVALID_1718 MIL_MTHHSPCTPROF_1718  \n",
       "0                    NaN                   NaN  \n",
       "1                     10                  GE50  \n",
       "2                    NaN                   NaN  \n",
       "3                    NaN                   NaN  \n",
       "4                    NaN                   NaN  \n",
       "\n",
       "[5 rows x 265 columns]"
      ]
     },
     "execution_count": 73,
     "metadata": {},
     "output_type": "execute_result"
    }
   ],
   "source": [
    "edfacts_math = pandas.read_csv(\"math-achievement-sch-sy2017-18.csv\")\n",
    "edfacts_math.head()"
   ]
  },
  {
   "cell_type": "code",
   "execution_count": 74,
   "metadata": {},
   "outputs": [
    {
     "data": {
      "text/html": [
       "<div>\n",
       "<style scoped>\n",
       "    .dataframe tbody tr th:only-of-type {\n",
       "        vertical-align: middle;\n",
       "    }\n",
       "\n",
       "    .dataframe tbody tr th {\n",
       "        vertical-align: top;\n",
       "    }\n",
       "\n",
       "    .dataframe thead th {\n",
       "        text-align: right;\n",
       "    }\n",
       "</style>\n",
       "<table border=\"1\" class=\"dataframe\">\n",
       "  <thead>\n",
       "    <tr style=\"text-align: right;\">\n",
       "      <th></th>\n",
       "      <th>STNAM</th>\n",
       "      <th>FIPST</th>\n",
       "      <th>LEAID</th>\n",
       "      <th>ST_LEAID</th>\n",
       "      <th>LEANM</th>\n",
       "      <th>NCESSCH</th>\n",
       "      <th>ST_SCHID</th>\n",
       "      <th>SCHNAM</th>\n",
       "      <th>DATE_CUR</th>\n",
       "      <th>ALL_MTH00NUMVALID_1718</th>\n",
       "      <th>ALL_MTH00PCTPROF_1718</th>\n",
       "    </tr>\n",
       "  </thead>\n",
       "  <tbody>\n",
       "    <tr>\n",
       "      <th>0</th>\n",
       "      <td>ALABAMA</td>\n",
       "      <td>1</td>\n",
       "      <td>100005</td>\n",
       "      <td>AL-101</td>\n",
       "      <td>Albertville City</td>\n",
       "      <td>1.000050e+10</td>\n",
       "      <td>AL-101-0010</td>\n",
       "      <td>Albertville Middle School</td>\n",
       "      <td>27-Mar-19</td>\n",
       "      <td>802</td>\n",
       "      <td>47</td>\n",
       "    </tr>\n",
       "    <tr>\n",
       "      <th>1</th>\n",
       "      <td>ALABAMA</td>\n",
       "      <td>1</td>\n",
       "      <td>100005</td>\n",
       "      <td>AL-101</td>\n",
       "      <td>Albertville City</td>\n",
       "      <td>1.000050e+10</td>\n",
       "      <td>AL-101-0020</td>\n",
       "      <td>Albertville High School</td>\n",
       "      <td>27-Mar-19</td>\n",
       "      <td>337</td>\n",
       "      <td>37</td>\n",
       "    </tr>\n",
       "    <tr>\n",
       "      <th>2</th>\n",
       "      <td>ALABAMA</td>\n",
       "      <td>1</td>\n",
       "      <td>100005</td>\n",
       "      <td>AL-101</td>\n",
       "      <td>Albertville City</td>\n",
       "      <td>1.000050e+10</td>\n",
       "      <td>AL-101-0110</td>\n",
       "      <td>Evans Elementary School</td>\n",
       "      <td>27-Mar-19</td>\n",
       "      <td>851</td>\n",
       "      <td>37</td>\n",
       "    </tr>\n",
       "    <tr>\n",
       "      <th>3</th>\n",
       "      <td>ALABAMA</td>\n",
       "      <td>1</td>\n",
       "      <td>100005</td>\n",
       "      <td>AL-101</td>\n",
       "      <td>Albertville City</td>\n",
       "      <td>1.000050e+10</td>\n",
       "      <td>AL-101-0200</td>\n",
       "      <td>Albertville Elementary School</td>\n",
       "      <td>27-Mar-19</td>\n",
       "      <td>902</td>\n",
       "      <td>53</td>\n",
       "    </tr>\n",
       "    <tr>\n",
       "      <th>4</th>\n",
       "      <td>ALABAMA</td>\n",
       "      <td>1</td>\n",
       "      <td>100006</td>\n",
       "      <td>AL-048</td>\n",
       "      <td>Marshall County</td>\n",
       "      <td>1.000060e+10</td>\n",
       "      <td>AL-048-0143</td>\n",
       "      <td>Kate Duncan Smith DAR Middle</td>\n",
       "      <td>27-Mar-19</td>\n",
       "      <td>434</td>\n",
       "      <td>56</td>\n",
       "    </tr>\n",
       "  </tbody>\n",
       "</table>\n",
       "</div>"
      ],
      "text/plain": [
       "     STNAM  FIPST   LEAID ST_LEAID             LEANM       NCESSCH  \\\n",
       "0  ALABAMA      1  100005   AL-101  Albertville City  1.000050e+10   \n",
       "1  ALABAMA      1  100005   AL-101  Albertville City  1.000050e+10   \n",
       "2  ALABAMA      1  100005   AL-101  Albertville City  1.000050e+10   \n",
       "3  ALABAMA      1  100005   AL-101  Albertville City  1.000050e+10   \n",
       "4  ALABAMA      1  100006   AL-048   Marshall County  1.000060e+10   \n",
       "\n",
       "      ST_SCHID                         SCHNAM   DATE_CUR  \\\n",
       "0  AL-101-0010      Albertville Middle School  27-Mar-19   \n",
       "1  AL-101-0020        Albertville High School  27-Mar-19   \n",
       "2  AL-101-0110        Evans Elementary School  27-Mar-19   \n",
       "3  AL-101-0200  Albertville Elementary School  27-Mar-19   \n",
       "4  AL-048-0143   Kate Duncan Smith DAR Middle  27-Mar-19   \n",
       "\n",
       "   ALL_MTH00NUMVALID_1718 ALL_MTH00PCTPROF_1718  \n",
       "0                     802                    47  \n",
       "1                     337                    37  \n",
       "2                     851                    37  \n",
       "3                     902                    53  \n",
       "4                     434                    56  "
      ]
     },
     "execution_count": 74,
     "metadata": {},
     "output_type": "execute_result"
    }
   ],
   "source": [
    "edfacts_math= edfacts_math[['STNAM','FIPST','LEAID','ST_LEAID','LEANM','NCESSCH','ST_SCHID','SCHNAM','DATE_CUR','ALL_MTH00NUMVALID_1718',\n",
    "                                 'ALL_MTH00PCTPROF_1718']]\n",
    "edfacts_math.head()"
   ]
  },
  {
   "cell_type": "code",
   "execution_count": 75,
   "metadata": {},
   "outputs": [
    {
     "data": {
      "text/plain": [
       "(87102, 11)"
      ]
     },
     "execution_count": 75,
     "metadata": {},
     "output_type": "execute_result"
    }
   ],
   "source": [
    "edfacts_math.shape"
   ]
  },
  {
   "cell_type": "code",
   "execution_count": 76,
   "metadata": {},
   "outputs": [],
   "source": [
    "edfacts_math.rename(columns={'NCESSCH':'NCESSCH_old'}, inplace=True)"
   ]
  },
  {
   "cell_type": "code",
   "execution_count": 77,
   "metadata": {},
   "outputs": [
    {
     "data": {
      "text/plain": [
       "STNAM                      object\n",
       "FIPST                       int64\n",
       "LEAID                       int64\n",
       "ST_LEAID                   object\n",
       "LEANM                      object\n",
       "NCESSCH_old               float64\n",
       "ST_SCHID                   object\n",
       "SCHNAM                     object\n",
       "DATE_CUR                   object\n",
       "ALL_MTH00NUMVALID_1718      int64\n",
       "ALL_MTH00PCTPROF_1718      object\n",
       "dtype: object"
      ]
     },
     "execution_count": 77,
     "metadata": {},
     "output_type": "execute_result"
    }
   ],
   "source": [
    "edfacts_math.dtypes"
   ]
  },
  {
   "cell_type": "code",
   "execution_count": 78,
   "metadata": {},
   "outputs": [
    {
     "data": {
      "text/html": [
       "<div>\n",
       "<style scoped>\n",
       "    .dataframe tbody tr th:only-of-type {\n",
       "        vertical-align: middle;\n",
       "    }\n",
       "\n",
       "    .dataframe tbody tr th {\n",
       "        vertical-align: top;\n",
       "    }\n",
       "\n",
       "    .dataframe thead th {\n",
       "        text-align: right;\n",
       "    }\n",
       "</style>\n",
       "<table border=\"1\" class=\"dataframe\">\n",
       "  <thead>\n",
       "    <tr style=\"text-align: right;\">\n",
       "      <th></th>\n",
       "      <th>FIPST</th>\n",
       "      <th>LEAID</th>\n",
       "      <th>NCESSCH_old</th>\n",
       "      <th>ALL_MTH00NUMVALID_1718</th>\n",
       "    </tr>\n",
       "  </thead>\n",
       "  <tbody>\n",
       "    <tr>\n",
       "      <th>count</th>\n",
       "      <td>87102.000000</td>\n",
       "      <td>8.710200e+04</td>\n",
       "      <td>8.710200e+04</td>\n",
       "      <td>87102.000000</td>\n",
       "    </tr>\n",
       "    <tr>\n",
       "      <th>mean</th>\n",
       "      <td>28.258846</td>\n",
       "      <td>2.837704e+06</td>\n",
       "      <td>2.837704e+11</td>\n",
       "      <td>288.412849</td>\n",
       "    </tr>\n",
       "    <tr>\n",
       "      <th>std</th>\n",
       "      <td>16.661729</td>\n",
       "      <td>1.665909e+06</td>\n",
       "      <td>1.665909e+11</td>\n",
       "      <td>252.355975</td>\n",
       "    </tr>\n",
       "    <tr>\n",
       "      <th>min</th>\n",
       "      <td>1.000000</td>\n",
       "      <td>1.000050e+05</td>\n",
       "      <td>1.000050e+10</td>\n",
       "      <td>1.000000</td>\n",
       "    </tr>\n",
       "    <tr>\n",
       "      <th>25%</th>\n",
       "      <td>13.000000</td>\n",
       "      <td>1.300210e+06</td>\n",
       "      <td>1.300210e+11</td>\n",
       "      <td>123.000000</td>\n",
       "    </tr>\n",
       "    <tr>\n",
       "      <th>50%</th>\n",
       "      <td>28.000000</td>\n",
       "      <td>2.804320e+06</td>\n",
       "      <td>2.804320e+11</td>\n",
       "      <td>228.000000</td>\n",
       "    </tr>\n",
       "    <tr>\n",
       "      <th>75%</th>\n",
       "      <td>42.000000</td>\n",
       "      <td>4.202590e+06</td>\n",
       "      <td>4.202590e+11</td>\n",
       "      <td>370.000000</td>\n",
       "    </tr>\n",
       "    <tr>\n",
       "      <th>max</th>\n",
       "      <td>72.000000</td>\n",
       "      <td>7.200030e+06</td>\n",
       "      <td>7.200030e+11</td>\n",
       "      <td>7910.000000</td>\n",
       "    </tr>\n",
       "  </tbody>\n",
       "</table>\n",
       "</div>"
      ],
      "text/plain": [
       "              FIPST         LEAID   NCESSCH_old  ALL_MTH00NUMVALID_1718\n",
       "count  87102.000000  8.710200e+04  8.710200e+04            87102.000000\n",
       "mean      28.258846  2.837704e+06  2.837704e+11              288.412849\n",
       "std       16.661729  1.665909e+06  1.665909e+11              252.355975\n",
       "min        1.000000  1.000050e+05  1.000050e+10                1.000000\n",
       "25%       13.000000  1.300210e+06  1.300210e+11              123.000000\n",
       "50%       28.000000  2.804320e+06  2.804320e+11              228.000000\n",
       "75%       42.000000  4.202590e+06  4.202590e+11              370.000000\n",
       "max       72.000000  7.200030e+06  7.200030e+11             7910.000000"
      ]
     },
     "execution_count": 78,
     "metadata": {},
     "output_type": "execute_result"
    }
   ],
   "source": [
    "edfacts_math.describe()"
   ]
  },
  {
   "cell_type": "code",
   "execution_count": 79,
   "metadata": {},
   "outputs": [
    {
     "data": {
      "text/plain": [
       "<matplotlib.axes._subplots.AxesSubplot at 0x7f9b232c8e50>"
      ]
     },
     "execution_count": 79,
     "metadata": {},
     "output_type": "execute_result"
    },
    {
     "data": {
      "image/png": "[encoded data removed]",
      "text/plain": [
       "<Figure size 432x288 with 2 Axes>"
      ]
     },
     "metadata": {
      "needs_background": "light"
     },
     "output_type": "display_data"
    }
   ],
   "source": [
    "sns.heatmap(edfacts_math.isnull(),yticklabels=False,cbar=True,cmap='viridis')"
   ]
  },
  {
   "cell_type": "code",
   "execution_count": 80,
   "metadata": {},
   "outputs": [
    {
     "data": {
      "text/plain": [
       "array([[<matplotlib.axes._subplots.AxesSubplot object at 0x7f9b162388e0>,\n",
       "        <matplotlib.axes._subplots.AxesSubplot object at 0x7f9b270d76a0>],\n",
       "       [<matplotlib.axes._subplots.AxesSubplot object at 0x7f9b0b765370>,\n",
       "        <matplotlib.axes._subplots.AxesSubplot object at 0x7f9b15a61d60>]],\n",
       "      dtype=object)"
      ]
     },
     "execution_count": 80,
     "metadata": {},
     "output_type": "execute_result"
    },
    {
     "data": {
      "image/png": "[encoded data removed]",
      "text/plain": [
       "<Figure size 432x288 with 4 Axes>"
      ]
     },
     "metadata": {
      "needs_background": "light"
     },
     "output_type": "display_data"
    }
   ],
   "source": [
    "edfacts_math.hist()"
   ]
  },
  {
   "cell_type": "code",
   "execution_count": 81,
   "metadata": {},
   "outputs": [
    {
     "name": "stdout",
     "output_type": "stream",
     "text": [
      "/Users/dansari/Documents/GitHub/Identifying-features-to-predict-high-school-assessment-proficiency/Phase1/Data/CCD\n"
     ]
    }
   ],
   "source": [
    "cd /Users/dansari/Documents/GitHub/Identifying-features-to-predict-high-school-assessment-proficiency/Phase1/Data/CCD"
   ]
  },
  {
   "cell_type": "code",
   "execution_count": 82,
   "metadata": {},
   "outputs": [
    {
     "data": {
      "text/html": [
       "<div>\n",
       "<style scoped>\n",
       "    .dataframe tbody tr th:only-of-type {\n",
       "        vertical-align: middle;\n",
       "    }\n",
       "\n",
       "    .dataframe tbody tr th {\n",
       "        vertical-align: top;\n",
       "    }\n",
       "\n",
       "    .dataframe thead th {\n",
       "        text-align: right;\n",
       "    }\n",
       "</style>\n",
       "<table border=\"1\" class=\"dataframe\">\n",
       "  <thead>\n",
       "    <tr style=\"text-align: right;\">\n",
       "      <th></th>\n",
       "      <th>SCHOOL_YEAR</th>\n",
       "      <th>ST</th>\n",
       "      <th>SCH_NAME</th>\n",
       "      <th>LEA_NAME</th>\n",
       "      <th>STATE_AGENCY_NO</th>\n",
       "      <th>ST_LEAID</th>\n",
       "      <th>LEAID</th>\n",
       "      <th>ST_SCHID</th>\n",
       "      <th>NCESSCH</th>\n",
       "      <th>SCHID</th>\n",
       "      <th>SY_STATUS</th>\n",
       "      <th>SCH_TYPE_TEXT</th>\n",
       "      <th>SCH_TYPE</th>\n",
       "      <th>LEVEL</th>\n",
       "    </tr>\n",
       "  </thead>\n",
       "  <tbody>\n",
       "    <tr>\n",
       "      <th>0</th>\n",
       "      <td>2017-2018</td>\n",
       "      <td>AL</td>\n",
       "      <td>Albertville Middle School</td>\n",
       "      <td>Albertville City</td>\n",
       "      <td>1</td>\n",
       "      <td>AL-101</td>\n",
       "      <td>100005</td>\n",
       "      <td>AL-101-0010</td>\n",
       "      <td>10000500870</td>\n",
       "      <td>100870</td>\n",
       "      <td>1</td>\n",
       "      <td>Regular School</td>\n",
       "      <td>1</td>\n",
       "      <td>Middle</td>\n",
       "    </tr>\n",
       "    <tr>\n",
       "      <th>1</th>\n",
       "      <td>2017-2018</td>\n",
       "      <td>AL</td>\n",
       "      <td>Albertville High School</td>\n",
       "      <td>Albertville City</td>\n",
       "      <td>1</td>\n",
       "      <td>AL-101</td>\n",
       "      <td>100005</td>\n",
       "      <td>AL-101-0020</td>\n",
       "      <td>10000500871</td>\n",
       "      <td>100871</td>\n",
       "      <td>1</td>\n",
       "      <td>Regular School</td>\n",
       "      <td>1</td>\n",
       "      <td>High</td>\n",
       "    </tr>\n",
       "    <tr>\n",
       "      <th>2</th>\n",
       "      <td>2017-2018</td>\n",
       "      <td>AL</td>\n",
       "      <td>Evans Elementary School</td>\n",
       "      <td>Albertville City</td>\n",
       "      <td>1</td>\n",
       "      <td>AL-101</td>\n",
       "      <td>100005</td>\n",
       "      <td>AL-101-0110</td>\n",
       "      <td>10000500879</td>\n",
       "      <td>100879</td>\n",
       "      <td>1</td>\n",
       "      <td>Regular School</td>\n",
       "      <td>1</td>\n",
       "      <td>Middle</td>\n",
       "    </tr>\n",
       "    <tr>\n",
       "      <th>3</th>\n",
       "      <td>2017-2018</td>\n",
       "      <td>AL</td>\n",
       "      <td>Albertville Elementary School</td>\n",
       "      <td>Albertville City</td>\n",
       "      <td>1</td>\n",
       "      <td>AL-101</td>\n",
       "      <td>100005</td>\n",
       "      <td>AL-101-0200</td>\n",
       "      <td>10000500889</td>\n",
       "      <td>100889</td>\n",
       "      <td>1</td>\n",
       "      <td>Regular School</td>\n",
       "      <td>1</td>\n",
       "      <td>Elementary</td>\n",
       "    </tr>\n",
       "    <tr>\n",
       "      <th>4</th>\n",
       "      <td>2017-2018</td>\n",
       "      <td>AL</td>\n",
       "      <td>Big Spring Lake Kindergarten School</td>\n",
       "      <td>Albertville City</td>\n",
       "      <td>1</td>\n",
       "      <td>AL-101</td>\n",
       "      <td>100005</td>\n",
       "      <td>AL-101-0035</td>\n",
       "      <td>10000501616</td>\n",
       "      <td>101616</td>\n",
       "      <td>1</td>\n",
       "      <td>Regular School</td>\n",
       "      <td>1</td>\n",
       "      <td>Elementary</td>\n",
       "    </tr>\n",
       "  </tbody>\n",
       "</table>\n",
       "</div>"
      ],
      "text/plain": [
       "  SCHOOL_YEAR  ST                             SCH_NAME          LEA_NAME  \\\n",
       "0   2017-2018  AL            Albertville Middle School  Albertville City   \n",
       "1   2017-2018  AL              Albertville High School  Albertville City   \n",
       "2   2017-2018  AL              Evans Elementary School  Albertville City   \n",
       "3   2017-2018  AL        Albertville Elementary School  Albertville City   \n",
       "4   2017-2018  AL  Big Spring Lake Kindergarten School  Albertville City   \n",
       "\n",
       "   STATE_AGENCY_NO ST_LEAID   LEAID     ST_SCHID      NCESSCH   SCHID  \\\n",
       "0                1   AL-101  100005  AL-101-0010  10000500870  100870   \n",
       "1                1   AL-101  100005  AL-101-0020  10000500871  100871   \n",
       "2                1   AL-101  100005  AL-101-0110  10000500879  100879   \n",
       "3                1   AL-101  100005  AL-101-0200  10000500889  100889   \n",
       "4                1   AL-101  100005  AL-101-0035  10000501616  101616   \n",
       "\n",
       "   SY_STATUS   SCH_TYPE_TEXT  SCH_TYPE       LEVEL  \n",
       "0          1  Regular School         1      Middle  \n",
       "1          1  Regular School         1        High  \n",
       "2          1  Regular School         1      Middle  \n",
       "3          1  Regular School         1  Elementary  \n",
       "4          1  Regular School         1  Elementary  "
      ]
     },
     "execution_count": 82,
     "metadata": {},
     "output_type": "execute_result"
    }
   ],
   "source": [
    "ccd_directory= pandas.read_csv(\"Clean_ccd_directory.csv\")\n",
    "ccd_directory.head()"
   ]
  },
  {
   "cell_type": "code",
   "execution_count": 83,
   "metadata": {},
   "outputs": [],
   "source": [
    "edfacts_math_merged_ccd = edfacts_math.merge(ccd_directory, on='ST_SCHID')"
   ]
  },
  {
   "cell_type": "code",
   "execution_count": 84,
   "metadata": {},
   "outputs": [
    {
     "data": {
      "text/html": [
       "<div>\n",
       "<style scoped>\n",
       "    .dataframe tbody tr th:only-of-type {\n",
       "        vertical-align: middle;\n",
       "    }\n",
       "\n",
       "    .dataframe tbody tr th {\n",
       "        vertical-align: top;\n",
       "    }\n",
       "\n",
       "    .dataframe thead th {\n",
       "        text-align: right;\n",
       "    }\n",
       "</style>\n",
       "<table border=\"1\" class=\"dataframe\">\n",
       "  <thead>\n",
       "    <tr style=\"text-align: right;\">\n",
       "      <th></th>\n",
       "      <th>STNAM</th>\n",
       "      <th>FIPST</th>\n",
       "      <th>LEAID_x</th>\n",
       "      <th>ST_LEAID_x</th>\n",
       "      <th>LEANM</th>\n",
       "      <th>NCESSCH_old</th>\n",
       "      <th>ST_SCHID</th>\n",
       "      <th>SCHNAM</th>\n",
       "      <th>DATE_CUR</th>\n",
       "      <th>ALL_MTH00NUMVALID_1718</th>\n",
       "      <th>...</th>\n",
       "      <th>LEA_NAME</th>\n",
       "      <th>STATE_AGENCY_NO</th>\n",
       "      <th>ST_LEAID_y</th>\n",
       "      <th>LEAID_y</th>\n",
       "      <th>NCESSCH</th>\n",
       "      <th>SCHID</th>\n",
       "      <th>SY_STATUS</th>\n",
       "      <th>SCH_TYPE_TEXT</th>\n",
       "      <th>SCH_TYPE</th>\n",
       "      <th>LEVEL</th>\n",
       "    </tr>\n",
       "  </thead>\n",
       "  <tbody>\n",
       "    <tr>\n",
       "      <th>0</th>\n",
       "      <td>ALABAMA</td>\n",
       "      <td>1</td>\n",
       "      <td>100005</td>\n",
       "      <td>AL-101</td>\n",
       "      <td>Albertville City</td>\n",
       "      <td>1.000050e+10</td>\n",
       "      <td>AL-101-0010</td>\n",
       "      <td>Albertville Middle School</td>\n",
       "      <td>27-Mar-19</td>\n",
       "      <td>802</td>\n",
       "      <td>...</td>\n",
       "      <td>Albertville City</td>\n",
       "      <td>1</td>\n",
       "      <td>AL-101</td>\n",
       "      <td>100005</td>\n",
       "      <td>10000500870</td>\n",
       "      <td>100870</td>\n",
       "      <td>1</td>\n",
       "      <td>Regular School</td>\n",
       "      <td>1</td>\n",
       "      <td>Middle</td>\n",
       "    </tr>\n",
       "    <tr>\n",
       "      <th>1</th>\n",
       "      <td>ALABAMA</td>\n",
       "      <td>1</td>\n",
       "      <td>100005</td>\n",
       "      <td>AL-101</td>\n",
       "      <td>Albertville City</td>\n",
       "      <td>1.000050e+10</td>\n",
       "      <td>AL-101-0020</td>\n",
       "      <td>Albertville High School</td>\n",
       "      <td>27-Mar-19</td>\n",
       "      <td>337</td>\n",
       "      <td>...</td>\n",
       "      <td>Albertville City</td>\n",
       "      <td>1</td>\n",
       "      <td>AL-101</td>\n",
       "      <td>100005</td>\n",
       "      <td>10000500871</td>\n",
       "      <td>100871</td>\n",
       "      <td>1</td>\n",
       "      <td>Regular School</td>\n",
       "      <td>1</td>\n",
       "      <td>High</td>\n",
       "    </tr>\n",
       "    <tr>\n",
       "      <th>2</th>\n",
       "      <td>ALABAMA</td>\n",
       "      <td>1</td>\n",
       "      <td>100005</td>\n",
       "      <td>AL-101</td>\n",
       "      <td>Albertville City</td>\n",
       "      <td>1.000050e+10</td>\n",
       "      <td>AL-101-0110</td>\n",
       "      <td>Evans Elementary School</td>\n",
       "      <td>27-Mar-19</td>\n",
       "      <td>851</td>\n",
       "      <td>...</td>\n",
       "      <td>Albertville City</td>\n",
       "      <td>1</td>\n",
       "      <td>AL-101</td>\n",
       "      <td>100005</td>\n",
       "      <td>10000500879</td>\n",
       "      <td>100879</td>\n",
       "      <td>1</td>\n",
       "      <td>Regular School</td>\n",
       "      <td>1</td>\n",
       "      <td>Middle</td>\n",
       "    </tr>\n",
       "    <tr>\n",
       "      <th>3</th>\n",
       "      <td>ALABAMA</td>\n",
       "      <td>1</td>\n",
       "      <td>100005</td>\n",
       "      <td>AL-101</td>\n",
       "      <td>Albertville City</td>\n",
       "      <td>1.000050e+10</td>\n",
       "      <td>AL-101-0200</td>\n",
       "      <td>Albertville Elementary School</td>\n",
       "      <td>27-Mar-19</td>\n",
       "      <td>902</td>\n",
       "      <td>...</td>\n",
       "      <td>Albertville City</td>\n",
       "      <td>1</td>\n",
       "      <td>AL-101</td>\n",
       "      <td>100005</td>\n",
       "      <td>10000500889</td>\n",
       "      <td>100889</td>\n",
       "      <td>1</td>\n",
       "      <td>Regular School</td>\n",
       "      <td>1</td>\n",
       "      <td>Elementary</td>\n",
       "    </tr>\n",
       "    <tr>\n",
       "      <th>4</th>\n",
       "      <td>ALABAMA</td>\n",
       "      <td>1</td>\n",
       "      <td>100006</td>\n",
       "      <td>AL-048</td>\n",
       "      <td>Marshall County</td>\n",
       "      <td>1.000060e+10</td>\n",
       "      <td>AL-048-0143</td>\n",
       "      <td>Kate Duncan Smith DAR Middle</td>\n",
       "      <td>27-Mar-19</td>\n",
       "      <td>434</td>\n",
       "      <td>...</td>\n",
       "      <td>Marshall County</td>\n",
       "      <td>1</td>\n",
       "      <td>AL-048</td>\n",
       "      <td>100006</td>\n",
       "      <td>10000600193</td>\n",
       "      <td>100193</td>\n",
       "      <td>1</td>\n",
       "      <td>Regular School</td>\n",
       "      <td>1</td>\n",
       "      <td>Middle</td>\n",
       "    </tr>\n",
       "  </tbody>\n",
       "</table>\n",
       "<p>5 rows × 24 columns</p>\n",
       "</div>"
      ],
      "text/plain": [
       "     STNAM  FIPST  LEAID_x ST_LEAID_x             LEANM   NCESSCH_old  \\\n",
       "0  ALABAMA      1   100005     AL-101  Albertville City  1.000050e+10   \n",
       "1  ALABAMA      1   100005     AL-101  Albertville City  1.000050e+10   \n",
       "2  ALABAMA      1   100005     AL-101  Albertville City  1.000050e+10   \n",
       "3  ALABAMA      1   100005     AL-101  Albertville City  1.000050e+10   \n",
       "4  ALABAMA      1   100006     AL-048   Marshall County  1.000060e+10   \n",
       "\n",
       "      ST_SCHID                         SCHNAM   DATE_CUR  \\\n",
       "0  AL-101-0010      Albertville Middle School  27-Mar-19   \n",
       "1  AL-101-0020        Albertville High School  27-Mar-19   \n",
       "2  AL-101-0110        Evans Elementary School  27-Mar-19   \n",
       "3  AL-101-0200  Albertville Elementary School  27-Mar-19   \n",
       "4  AL-048-0143   Kate Duncan Smith DAR Middle  27-Mar-19   \n",
       "\n",
       "   ALL_MTH00NUMVALID_1718  ...          LEA_NAME STATE_AGENCY_NO ST_LEAID_y  \\\n",
       "0                     802  ...  Albertville City               1     AL-101   \n",
       "1                     337  ...  Albertville City               1     AL-101   \n",
       "2                     851  ...  Albertville City               1     AL-101   \n",
       "3                     902  ...  Albertville City               1     AL-101   \n",
       "4                     434  ...   Marshall County               1     AL-048   \n",
       "\n",
       "  LEAID_y      NCESSCH   SCHID SY_STATUS   SCH_TYPE_TEXT  SCH_TYPE       LEVEL  \n",
       "0  100005  10000500870  100870         1  Regular School         1      Middle  \n",
       "1  100005  10000500871  100871         1  Regular School         1        High  \n",
       "2  100005  10000500879  100879         1  Regular School         1      Middle  \n",
       "3  100005  10000500889  100889         1  Regular School         1  Elementary  \n",
       "4  100006  10000600193  100193         1  Regular School         1      Middle  \n",
       "\n",
       "[5 rows x 24 columns]"
      ]
     },
     "execution_count": 84,
     "metadata": {},
     "output_type": "execute_result"
    }
   ],
   "source": [
    "edfacts_math_merged_ccd.head()"
   ]
  },
  {
   "cell_type": "code",
   "execution_count": 85,
   "metadata": {},
   "outputs": [
    {
     "data": {
      "text/plain": [
       "(87098, 24)"
      ]
     },
     "execution_count": 85,
     "metadata": {},
     "output_type": "execute_result"
    }
   ],
   "source": [
    "edfacts_math_merged_ccd.shape  #one middle school and 3 DC youth programs did not find a match in the CCD file"
   ]
  },
  {
   "cell_type": "code",
   "execution_count": 86,
   "metadata": {},
   "outputs": [
    {
     "data": {
      "text/html": [
       "<div>\n",
       "<style scoped>\n",
       "    .dataframe tbody tr th:only-of-type {\n",
       "        vertical-align: middle;\n",
       "    }\n",
       "\n",
       "    .dataframe tbody tr th {\n",
       "        vertical-align: top;\n",
       "    }\n",
       "\n",
       "    .dataframe thead th {\n",
       "        text-align: right;\n",
       "    }\n",
       "</style>\n",
       "<table border=\"1\" class=\"dataframe\">\n",
       "  <thead>\n",
       "    <tr style=\"text-align: right;\">\n",
       "      <th></th>\n",
       "      <th>FIPST</th>\n",
       "      <th>LEAID_x</th>\n",
       "      <th>NCESSCH_old</th>\n",
       "      <th>ALL_MTH00NUMVALID_1718</th>\n",
       "      <th>STATE_AGENCY_NO</th>\n",
       "      <th>LEAID_y</th>\n",
       "      <th>NCESSCH</th>\n",
       "      <th>SCHID</th>\n",
       "      <th>SY_STATUS</th>\n",
       "      <th>SCH_TYPE</th>\n",
       "    </tr>\n",
       "  </thead>\n",
       "  <tbody>\n",
       "    <tr>\n",
       "      <th>count</th>\n",
       "      <td>87098.000000</td>\n",
       "      <td>8.709800e+04</td>\n",
       "      <td>8.709800e+04</td>\n",
       "      <td>87098.000000</td>\n",
       "      <td>87098.0</td>\n",
       "      <td>8.709800e+04</td>\n",
       "      <td>8.709800e+04</td>\n",
       "      <td>8.709800e+04</td>\n",
       "      <td>87098.000000</td>\n",
       "      <td>87098.000000</td>\n",
       "    </tr>\n",
       "    <tr>\n",
       "      <th>mean</th>\n",
       "      <td>28.259443</td>\n",
       "      <td>2.837765e+06</td>\n",
       "      <td>2.837765e+11</td>\n",
       "      <td>288.424430</td>\n",
       "      <td>1.0</td>\n",
       "      <td>2.837765e+06</td>\n",
       "      <td>2.837765e+11</td>\n",
       "      <td>2.828894e+06</td>\n",
       "      <td>1.023135</td>\n",
       "      <td>1.133746</td>\n",
       "    </tr>\n",
       "    <tr>\n",
       "      <th>std</th>\n",
       "      <td>16.661804</td>\n",
       "      <td>1.665916e+06</td>\n",
       "      <td>1.665916e+11</td>\n",
       "      <td>252.355705</td>\n",
       "      <td>0.0</td>\n",
       "      <td>1.665916e+06</td>\n",
       "      <td>1.665916e+11</td>\n",
       "      <td>1.666006e+06</td>\n",
       "      <td>0.256233</td>\n",
       "      <td>0.594754</td>\n",
       "    </tr>\n",
       "    <tr>\n",
       "      <th>min</th>\n",
       "      <td>1.000000</td>\n",
       "      <td>1.000050e+05</td>\n",
       "      <td>1.000050e+10</td>\n",
       "      <td>1.000000</td>\n",
       "      <td>1.0</td>\n",
       "      <td>1.000050e+05</td>\n",
       "      <td>1.000050e+10</td>\n",
       "      <td>1.000010e+05</td>\n",
       "      <td>1.000000</td>\n",
       "      <td>1.000000</td>\n",
       "    </tr>\n",
       "    <tr>\n",
       "      <th>25%</th>\n",
       "      <td>13.000000</td>\n",
       "      <td>1.300211e+06</td>\n",
       "      <td>1.300210e+11</td>\n",
       "      <td>123.000000</td>\n",
       "      <td>1.0</td>\n",
       "      <td>1.300211e+06</td>\n",
       "      <td>1.300211e+11</td>\n",
       "      <td>1.300276e+06</td>\n",
       "      <td>1.000000</td>\n",
       "      <td>1.000000</td>\n",
       "    </tr>\n",
       "    <tr>\n",
       "      <th>50%</th>\n",
       "      <td>28.000000</td>\n",
       "      <td>2.804320e+06</td>\n",
       "      <td>2.804320e+11</td>\n",
       "      <td>228.000000</td>\n",
       "      <td>1.0</td>\n",
       "      <td>2.804320e+06</td>\n",
       "      <td>2.804320e+11</td>\n",
       "      <td>2.801397e+06</td>\n",
       "      <td>1.000000</td>\n",
       "      <td>1.000000</td>\n",
       "    </tr>\n",
       "    <tr>\n",
       "      <th>75%</th>\n",
       "      <td>42.000000</td>\n",
       "      <td>4.202590e+06</td>\n",
       "      <td>4.202590e+11</td>\n",
       "      <td>370.000000</td>\n",
       "      <td>1.0</td>\n",
       "      <td>4.202590e+06</td>\n",
       "      <td>4.202590e+11</td>\n",
       "      <td>4.200461e+06</td>\n",
       "      <td>1.000000</td>\n",
       "      <td>1.000000</td>\n",
       "    </tr>\n",
       "    <tr>\n",
       "      <th>max</th>\n",
       "      <td>72.000000</td>\n",
       "      <td>7.200030e+06</td>\n",
       "      <td>7.200030e+11</td>\n",
       "      <td>7910.000000</td>\n",
       "      <td>1.0</td>\n",
       "      <td>7.200030e+06</td>\n",
       "      <td>7.200030e+11</td>\n",
       "      <td>7.202085e+06</td>\n",
       "      <td>8.000000</td>\n",
       "      <td>4.000000</td>\n",
       "    </tr>\n",
       "  </tbody>\n",
       "</table>\n",
       "</div>"
      ],
      "text/plain": [
       "              FIPST       LEAID_x   NCESSCH_old  ALL_MTH00NUMVALID_1718  \\\n",
       "count  87098.000000  8.709800e+04  8.709800e+04            87098.000000   \n",
       "mean      28.259443  2.837765e+06  2.837765e+11              288.424430   \n",
       "std       16.661804  1.665916e+06  1.665916e+11              252.355705   \n",
       "min        1.000000  1.000050e+05  1.000050e+10                1.000000   \n",
       "25%       13.000000  1.300211e+06  1.300210e+11              123.000000   \n",
       "50%       28.000000  2.804320e+06  2.804320e+11              228.000000   \n",
       "75%       42.000000  4.202590e+06  4.202590e+11              370.000000   \n",
       "max       72.000000  7.200030e+06  7.200030e+11             7910.000000   \n",
       "\n",
       "       STATE_AGENCY_NO       LEAID_y       NCESSCH         SCHID  \\\n",
       "count          87098.0  8.709800e+04  8.709800e+04  8.709800e+04   \n",
       "mean               1.0  2.837765e+06  2.837765e+11  2.828894e+06   \n",
       "std                0.0  1.665916e+06  1.665916e+11  1.666006e+06   \n",
       "min                1.0  1.000050e+05  1.000050e+10  1.000010e+05   \n",
       "25%                1.0  1.300211e+06  1.300211e+11  1.300276e+06   \n",
       "50%                1.0  2.804320e+06  2.804320e+11  2.801397e+06   \n",
       "75%                1.0  4.202590e+06  4.202590e+11  4.200461e+06   \n",
       "max                1.0  7.200030e+06  7.200030e+11  7.202085e+06   \n",
       "\n",
       "          SY_STATUS      SCH_TYPE  \n",
       "count  87098.000000  87098.000000  \n",
       "mean       1.023135      1.133746  \n",
       "std        0.256233      0.594754  \n",
       "min        1.000000      1.000000  \n",
       "25%        1.000000      1.000000  \n",
       "50%        1.000000      1.000000  \n",
       "75%        1.000000      1.000000  \n",
       "max        8.000000      4.000000  "
      ]
     },
     "execution_count": 86,
     "metadata": {},
     "output_type": "execute_result"
    }
   ],
   "source": [
    "edfacts_math_merged_ccd.describe()"
   ]
  },
  {
   "cell_type": "code",
   "execution_count": 87,
   "metadata": {},
   "outputs": [
    {
     "data": {
      "text/plain": [
       "<matplotlib.axes._subplots.AxesSubplot at 0x7f9ae92969a0>"
      ]
     },
     "execution_count": 87,
     "metadata": {},
     "output_type": "execute_result"
    },
    {
     "data": {
      "image/png": "[encoded data removed]",
      "text/plain": [
       "<Figure size 432x288 with 2 Axes>"
      ]
     },
     "metadata": {
      "needs_background": "light"
     },
     "output_type": "display_data"
    }
   ],
   "source": [
    "sns.heatmap(edfacts_math_merged_ccd.isnull(),yticklabels=False,cbar=True,cmap='viridis')"
   ]
  },
  {
   "cell_type": "code",
   "execution_count": 88,
   "metadata": {},
   "outputs": [
    {
     "data": {
      "text/plain": [
       "Index(['STNAM', 'FIPST', 'LEAID_x', 'ST_LEAID_x', 'LEANM', 'NCESSCH_old',\n",
       "       'ST_SCHID', 'SCHNAM', 'DATE_CUR', 'ALL_MTH00NUMVALID_1718',\n",
       "       'ALL_MTH00PCTPROF_1718', 'SCHOOL_YEAR', 'ST', 'SCH_NAME', 'LEA_NAME',\n",
       "       'STATE_AGENCY_NO', 'ST_LEAID_y', 'LEAID_y', 'NCESSCH', 'SCHID',\n",
       "       'SY_STATUS', 'SCH_TYPE_TEXT', 'SCH_TYPE', 'LEVEL'],\n",
       "      dtype='object')"
      ]
     },
     "execution_count": 88,
     "metadata": {},
     "output_type": "execute_result"
    }
   ],
   "source": [
    "edfacts_math_merged_ccd.columns"
   ]
  },
  {
   "cell_type": "code",
   "execution_count": 89,
   "metadata": {},
   "outputs": [],
   "source": [
    "edfacts_math_merged_ccd['ALL_MTH00PCTPROF_1718_new'] = edfacts_math_merged_ccd['ALL_MTH00PCTPROF_1718'].replace(['9-Jun','14-Oct','19-Nov','15-19','20-24','20-29','21-39','24-29','25-29','30-34','30-39','35-39','40-44','40-49','40-59','45-49','50-59','50-54','55-59',\n",
    "                                                                                                               '60-64','60-69','60-79','65-69','70-74','70-79','75-79','80-84','80-89','85-89','90-94','GE50','GE80','GE90','GE95','GE99','LE1','LE5','LE10','LE20',\n",
    "                                                                                                              'LT50'],\n",
    "                                                                                                              ['7.5','13','15','17','22','24.5','30','27','27','32','34.5','37','42','44.5','49.5','47','54.5','52','57','62','64.5','69.5','67','72','74.5','77','82',\n",
    "                                                                                                               '84.5','87','92','50','80','90','95','99','1','5','10','20','49'])"
   ]
  },
  {
   "cell_type": "code",
   "execution_count": 91,
   "metadata": {},
   "outputs": [
    {
     "name": "stdout",
     "output_type": "stream",
     "text": [
      "42    3103\n",
      "37    3034\n",
      "47    3028\n",
      "32    2931\n",
      "52    2800\n",
      "      ... \n",
      "99      74\n",
      "94      56\n",
      "97      55\n",
      "96      53\n",
      "98      46\n",
      "Name: ALL_MTH00PCTPROF_1718_new, Length: 110, dtype: int64\n"
     ]
    }
   ],
   "source": [
    "count_math = edfacts_math_merged_ccd['ALL_MTH00PCTPROF_1718_new'].value_counts() \n",
    "print(count_math)"
   ]
  },
  {
   "cell_type": "code",
   "execution_count": 92,
   "metadata": {},
   "outputs": [
    {
     "data": {
      "text/plain": [
       "STNAM                         object\n",
       "FIPST                          int64\n",
       "LEAID_x                        int64\n",
       "ST_LEAID_x                    object\n",
       "LEANM                         object\n",
       "NCESSCH_old                  float64\n",
       "ST_SCHID                      object\n",
       "SCHNAM                        object\n",
       "DATE_CUR                      object\n",
       "ALL_MTH00NUMVALID_1718         int64\n",
       "ALL_MTH00PCTPROF_1718         object\n",
       "SCHOOL_YEAR                   object\n",
       "ST                            object\n",
       "SCH_NAME                      object\n",
       "LEA_NAME                      object\n",
       "STATE_AGENCY_NO                int64\n",
       "ST_LEAID_y                    object\n",
       "LEAID_y                        int64\n",
       "NCESSCH                        int64\n",
       "SCHID                          int64\n",
       "SY_STATUS                      int64\n",
       "SCH_TYPE_TEXT                 object\n",
       "SCH_TYPE                       int64\n",
       "LEVEL                         object\n",
       "ALL_MTH00PCTPROF_1718_new     object\n",
       "dtype: object"
      ]
     },
     "execution_count": 92,
     "metadata": {},
     "output_type": "execute_result"
    }
   ],
   "source": [
    "edfacts_math_merged_ccd.dtypes"
   ]
  },
  {
   "cell_type": "code",
   "execution_count": 93,
   "metadata": {},
   "outputs": [
    {
     "data": {
      "text/plain": [
       "(87098, 25)"
      ]
     },
     "execution_count": 93,
     "metadata": {},
     "output_type": "execute_result"
    }
   ],
   "source": [
    "edfacts_math_merged_ccd.shape"
   ]
  },
  {
   "cell_type": "code",
   "execution_count": 94,
   "metadata": {},
   "outputs": [],
   "source": [
    "edfacts_math_merged_ccd_new=edfacts_math_merged_ccd[edfacts_math_merged_ccd['ALL_MTH00PCTPROF_1718_new']!='PS' ]"
   ]
  },
  {
   "cell_type": "code",
   "execution_count": 95,
   "metadata": {},
   "outputs": [
    {
     "data": {
      "text/plain": [
       "(85748, 25)"
      ]
     },
     "execution_count": 95,
     "metadata": {},
     "output_type": "execute_result"
    }
   ],
   "source": [
    "edfacts_math_merged_ccd_new.shape"
   ]
  },
  {
   "cell_type": "code",
   "execution_count": 96,
   "metadata": {},
   "outputs": [
    {
     "name": "stderr",
     "output_type": "stream",
     "text": [
      "/opt/anaconda3/lib/python3.8/site-packages/pandas/core/frame.py:2963: SettingWithCopyWarning: \n",
      "A value is trying to be set on a copy of a slice from a DataFrame.\n",
      "Try using .loc[row_indexer,col_indexer] = value instead\n",
      "\n",
      "See the caveats in the documentation: https://pandas.pydata.org/pandas-docs/stable/user_guide/indexing.html#returning-a-view-versus-a-copy\n",
      "  self[k1] = value[k2]\n"
     ]
    }
   ],
   "source": [
    "edfacts_math_merged_ccd_new[['ALL_MTH00PCTPROF_1718_new']] = edfacts_math_merged_ccd_new[['ALL_MTH00PCTPROF_1718_new']].astype(float)"
   ]
  },
  {
   "cell_type": "code",
   "execution_count": 97,
   "metadata": {},
   "outputs": [
    {
     "data": {
      "text/plain": [
       "STNAM                         object\n",
       "FIPST                          int64\n",
       "LEAID_x                        int64\n",
       "ST_LEAID_x                    object\n",
       "LEANM                         object\n",
       "NCESSCH_old                  float64\n",
       "ST_SCHID                      object\n",
       "SCHNAM                        object\n",
       "DATE_CUR                      object\n",
       "ALL_MTH00NUMVALID_1718         int64\n",
       "ALL_MTH00PCTPROF_1718         object\n",
       "SCHOOL_YEAR                   object\n",
       "ST                            object\n",
       "SCH_NAME                      object\n",
       "LEA_NAME                      object\n",
       "STATE_AGENCY_NO                int64\n",
       "ST_LEAID_y                    object\n",
       "LEAID_y                        int64\n",
       "NCESSCH                        int64\n",
       "SCHID                          int64\n",
       "SY_STATUS                      int64\n",
       "SCH_TYPE_TEXT                 object\n",
       "SCH_TYPE                       int64\n",
       "LEVEL                         object\n",
       "ALL_MTH00PCTPROF_1718_new    float64\n",
       "dtype: object"
      ]
     },
     "execution_count": 97,
     "metadata": {},
     "output_type": "execute_result"
    }
   ],
   "source": [
    "edfacts_math_merged_ccd_new.dtypes"
   ]
  },
  {
   "cell_type": "code",
   "execution_count": 87,
   "metadata": {},
   "outputs": [],
   "source": [
    "#edfacts_math_merged_ccd['comparison_column'] = np.where(edfacts_math_merged_ccd[\"SCHNAM\"] == edfacts_math_merged_ccd[\"SCH_NAME\"], True, False)"
   ]
  },
  {
   "cell_type": "code",
   "execution_count": 93,
   "metadata": {},
   "outputs": [],
   "source": [
    "#edfacts_math_merged_ccd['comparison_column'].describe()"
   ]
  },
  {
   "cell_type": "code",
   "execution_count": 98,
   "metadata": {},
   "outputs": [],
   "source": [
    "edfacts_math_merged_ccd_new.to_csv (r'/Users/dansari/Documents/GitHub/Identifying-features-to-predict-high-school-assessment-proficiency/Phase1/Data/EDFacts/edfacts_math_merged_ccd.csv', index = False, header=True)"
   ]
  },
  {
   "cell_type": "code",
   "execution_count": null,
   "metadata": {},
   "outputs": [],
   "source": []
  }
 ],
 "metadata": {
  "kernelspec": {
   "display_name": "Python 3",
   "language": "python",
   "name": "python3"
  },
  "language_info": {
   "codemirror_mode": {
    "name": "ipython",
    "version": 3
   },
   "file_extension": ".py",
   "mimetype": "text/x-python",
   "name": "python",
   "nbconvert_exporter": "python",
   "pygments_lexer": "ipython3",
   "version": "3.8.3"
  }
 },
 "nbformat": 4,
 "nbformat_minor": 4
}
