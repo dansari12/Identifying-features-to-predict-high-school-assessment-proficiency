{
 "cells": [
  {
   "cell_type": "markdown",
   "metadata": {},
   "source": [
    "### Phase 1: Part 6: Combine all clean_data files from the various sources and create a Master data file for reading proficiency"
   ]
  },
  {
   "cell_type": "code",
   "execution_count": 38,
   "metadata": {},
   "outputs": [],
   "source": [
    "import pandas\n",
    "pandas.__version__\n",
    "import numpy as np\n",
    "import matplotlib.pyplot as plt\n",
    "import seaborn as sns\n",
    "%matplotlib inline"
   ]
  },
  {
   "cell_type": "code",
   "execution_count": 39,
   "metadata": {},
   "outputs": [
    {
     "name": "stdout",
     "output_type": "stream",
     "text": [
      "C:\\Users\\dansa\\Documents\\GitHub\\Phase1\\Data\\CCD\n"
     ]
    }
   ],
   "source": [
    "cd /Users/dansa/Documents/GitHub/Phase1/Data/CCD"
   ]
  },
  {
   "cell_type": "code",
   "execution_count": 40,
   "metadata": {},
   "outputs": [
    {
     "data": {
      "text/html": [
       "<div>\n",
       "<style scoped>\n",
       "    .dataframe tbody tr th:only-of-type {\n",
       "        vertical-align: middle;\n",
       "    }\n",
       "\n",
       "    .dataframe tbody tr th {\n",
       "        vertical-align: top;\n",
       "    }\n",
       "\n",
       "    .dataframe thead th {\n",
       "        text-align: right;\n",
       "    }\n",
       "</style>\n",
       "<table border=\"1\" class=\"dataframe\">\n",
       "  <thead>\n",
       "    <tr style=\"text-align: right;\">\n",
       "      <th></th>\n",
       "      <th>SCHOOL_YEAR</th>\n",
       "      <th>ST</th>\n",
       "      <th>SCH_NAME</th>\n",
       "      <th>ST_SCHID</th>\n",
       "      <th>NCESSCH</th>\n",
       "      <th>SY_STATUS</th>\n",
       "      <th>SCH_TYPE_TEXT</th>\n",
       "      <th>SCH_TYPE</th>\n",
       "      <th>LEVEL</th>\n",
       "      <th>TITLEI_STATUS</th>\n",
       "      <th>TITLEI_STATUS_TEXT</th>\n",
       "      <th>TEACHERS</th>\n",
       "      <th>DATA_GROUP</th>\n",
       "      <th>FARMS_COUNT</th>\n",
       "    </tr>\n",
       "  </thead>\n",
       "  <tbody>\n",
       "    <tr>\n",
       "      <th>0</th>\n",
       "      <td>2017-2018</td>\n",
       "      <td>AL</td>\n",
       "      <td>Albertville High School</td>\n",
       "      <td>AL-101-0020</td>\n",
       "      <td>010000500871</td>\n",
       "      <td>1</td>\n",
       "      <td>Regular School</td>\n",
       "      <td>1</td>\n",
       "      <td>High</td>\n",
       "      <td>SWELIGSWPROG</td>\n",
       "      <td>Title I schoolwide school</td>\n",
       "      <td>77.00</td>\n",
       "      <td>Free and Reduced-price Lunch Table</td>\n",
       "      <td>832.0</td>\n",
       "    </tr>\n",
       "    <tr>\n",
       "      <th>1</th>\n",
       "      <td>2017-2018</td>\n",
       "      <td>AL</td>\n",
       "      <td>Asbury High School</td>\n",
       "      <td>AL-048-0030</td>\n",
       "      <td>010000600872</td>\n",
       "      <td>1</td>\n",
       "      <td>Regular School</td>\n",
       "      <td>1</td>\n",
       "      <td>High</td>\n",
       "      <td>SWELIGSWPROG</td>\n",
       "      <td>Title I schoolwide school</td>\n",
       "      <td>28.64</td>\n",
       "      <td>Free and Reduced-price Lunch Table</td>\n",
       "      <td>450.0</td>\n",
       "    </tr>\n",
       "    <tr>\n",
       "      <th>2</th>\n",
       "      <td>2017-2018</td>\n",
       "      <td>AL</td>\n",
       "      <td>Douglas High School</td>\n",
       "      <td>AL-048-0100</td>\n",
       "      <td>010000600878</td>\n",
       "      <td>1</td>\n",
       "      <td>Regular School</td>\n",
       "      <td>1</td>\n",
       "      <td>High</td>\n",
       "      <td>SWELIGSWPROG</td>\n",
       "      <td>Title I schoolwide school</td>\n",
       "      <td>30.87</td>\n",
       "      <td>Free and Reduced-price Lunch Table</td>\n",
       "      <td>429.0</td>\n",
       "    </tr>\n",
       "    <tr>\n",
       "      <th>3</th>\n",
       "      <td>2017-2018</td>\n",
       "      <td>AL</td>\n",
       "      <td>Kate D Smith DAR High School</td>\n",
       "      <td>AL-048-0140</td>\n",
       "      <td>010000600883</td>\n",
       "      <td>1</td>\n",
       "      <td>Regular School</td>\n",
       "      <td>1</td>\n",
       "      <td>High</td>\n",
       "      <td>SWELIGSWPROG</td>\n",
       "      <td>Title I schoolwide school</td>\n",
       "      <td>24.04</td>\n",
       "      <td>Free and Reduced-price Lunch Table</td>\n",
       "      <td>211.0</td>\n",
       "    </tr>\n",
       "    <tr>\n",
       "      <th>4</th>\n",
       "      <td>2017-2018</td>\n",
       "      <td>AL</td>\n",
       "      <td>Brindlee Mountain High School</td>\n",
       "      <td>AL-048-0042</td>\n",
       "      <td>010000601585</td>\n",
       "      <td>1</td>\n",
       "      <td>Regular School</td>\n",
       "      <td>1</td>\n",
       "      <td>High</td>\n",
       "      <td>SWELIGSWPROG</td>\n",
       "      <td>Title I schoolwide school</td>\n",
       "      <td>31.26</td>\n",
       "      <td>Free and Reduced-price Lunch Table</td>\n",
       "      <td>415.0</td>\n",
       "    </tr>\n",
       "  </tbody>\n",
       "</table>\n",
       "</div>"
      ],
      "text/plain": [
       "  SCHOOL_YEAR  ST                       SCH_NAME     ST_SCHID       NCESSCH  \\\n",
       "0   2017-2018  AL        Albertville High School  AL-101-0020  010000500871   \n",
       "1   2017-2018  AL             Asbury High School  AL-048-0030  010000600872   \n",
       "2   2017-2018  AL            Douglas High School  AL-048-0100  010000600878   \n",
       "3   2017-2018  AL   Kate D Smith DAR High School  AL-048-0140  010000600883   \n",
       "4   2017-2018  AL  Brindlee Mountain High School  AL-048-0042  010000601585   \n",
       "\n",
       "   SY_STATUS   SCH_TYPE_TEXT  SCH_TYPE LEVEL TITLEI_STATUS  \\\n",
       "0          1  Regular School         1  High  SWELIGSWPROG   \n",
       "1          1  Regular School         1  High  SWELIGSWPROG   \n",
       "2          1  Regular School         1  High  SWELIGSWPROG   \n",
       "3          1  Regular School         1  High  SWELIGSWPROG   \n",
       "4          1  Regular School         1  High  SWELIGSWPROG   \n",
       "\n",
       "          TITLEI_STATUS_TEXT  TEACHERS                          DATA_GROUP  \\\n",
       "0  Title I schoolwide school     77.00  Free and Reduced-price Lunch Table   \n",
       "1  Title I schoolwide school     28.64  Free and Reduced-price Lunch Table   \n",
       "2  Title I schoolwide school     30.87  Free and Reduced-price Lunch Table   \n",
       "3  Title I schoolwide school     24.04  Free and Reduced-price Lunch Table   \n",
       "4  Title I schoolwide school     31.26  Free and Reduced-price Lunch Table   \n",
       "\n",
       "   FARMS_COUNT  \n",
       "0        832.0  \n",
       "1        450.0  \n",
       "2        429.0  \n",
       "3        211.0  \n",
       "4        415.0  "
      ]
     },
     "execution_count": 40,
     "metadata": {},
     "output_type": "execute_result"
    }
   ],
   "source": [
    "ccd_master = pandas.read_csv(\"Clean_ccd_master.csv\")\n",
    "ccd_master['NCESSCH'] = ccd_master['NCESSCH'].apply(lambda x: '{0:0>12}'.format(x))\n",
    "ccd_master.head()"
   ]
  },
  {
   "cell_type": "code",
   "execution_count": 41,
   "metadata": {},
   "outputs": [
    {
     "data": {
      "text/plain": [
       "(19071, 14)"
      ]
     },
     "execution_count": 41,
     "metadata": {},
     "output_type": "execute_result"
    }
   ],
   "source": [
    "ccd_master.shape"
   ]
  },
  {
   "cell_type": "code",
   "execution_count": 42,
   "metadata": {},
   "outputs": [
    {
     "name": "stdout",
     "output_type": "stream",
     "text": [
      "C:\\Users\\dansa\\Documents\\GitHub\\Phase1\\Data\\CRDC\n"
     ]
    }
   ],
   "source": [
    "cd /Users/dansa/Documents/GitHub/Phase1/Data/CRDC"
   ]
  },
  {
   "cell_type": "code",
   "execution_count": 43,
   "metadata": {},
   "outputs": [
    {
     "data": {
      "text/html": [
       "<div>\n",
       "<style scoped>\n",
       "    .dataframe tbody tr th:only-of-type {\n",
       "        vertical-align: middle;\n",
       "    }\n",
       "\n",
       "    .dataframe tbody tr th {\n",
       "        vertical-align: top;\n",
       "    }\n",
       "\n",
       "    .dataframe thead th {\n",
       "        text-align: right;\n",
       "    }\n",
       "</style>\n",
       "<table border=\"1\" class=\"dataframe\">\n",
       "  <thead>\n",
       "    <tr style=\"text-align: right;\">\n",
       "      <th></th>\n",
       "      <th>LEA_STATE_x</th>\n",
       "      <th>LEA_STATE_NAME_x</th>\n",
       "      <th>LEAID_x</th>\n",
       "      <th>LEA_NAME_x</th>\n",
       "      <th>SCHID_x</th>\n",
       "      <th>SCH_NAME_x</th>\n",
       "      <th>COMBOKEY_x</th>\n",
       "      <th>Special_ed_schl_new</th>\n",
       "      <th>Magnet_schl_new</th>\n",
       "      <th>Charter_Schl_new</th>\n",
       "      <th>...</th>\n",
       "      <th>FTE_teachers_count</th>\n",
       "      <th>SalaryforTeachers</th>\n",
       "      <th>Total_SAT_ACT_students</th>\n",
       "      <th>SCH_IBENR_IND_new</th>\n",
       "      <th>Total_IB_students</th>\n",
       "      <th>SCH_APENR_IND_new</th>\n",
       "      <th>SCH_APCOURSES</th>\n",
       "      <th>SCH_APOTHENR_IND_new</th>\n",
       "      <th>Total_AP_other_students</th>\n",
       "      <th>Total_students_tookAP</th>\n",
       "    </tr>\n",
       "  </thead>\n",
       "  <tbody>\n",
       "    <tr>\n",
       "      <th>0</th>\n",
       "      <td>AL</td>\n",
       "      <td>ALABAMA</td>\n",
       "      <td>100005</td>\n",
       "      <td>Albertville City</td>\n",
       "      <td>871</td>\n",
       "      <td>Albertville High School</td>\n",
       "      <td>10000500871</td>\n",
       "      <td>0</td>\n",
       "      <td>0</td>\n",
       "      <td>0</td>\n",
       "      <td>...</td>\n",
       "      <td>72.88</td>\n",
       "      <td>3780956.34</td>\n",
       "      <td>363.0</td>\n",
       "      <td>0.0</td>\n",
       "      <td>0.0</td>\n",
       "      <td>1.0</td>\n",
       "      <td>8.0</td>\n",
       "      <td>1.0</td>\n",
       "      <td>179.0</td>\n",
       "      <td>286.0</td>\n",
       "    </tr>\n",
       "    <tr>\n",
       "      <th>1</th>\n",
       "      <td>AL</td>\n",
       "      <td>ALABAMA</td>\n",
       "      <td>100006</td>\n",
       "      <td>Marshall County</td>\n",
       "      <td>872</td>\n",
       "      <td>Asbury High School</td>\n",
       "      <td>10000600872</td>\n",
       "      <td>0</td>\n",
       "      <td>0</td>\n",
       "      <td>0</td>\n",
       "      <td>...</td>\n",
       "      <td>32.00</td>\n",
       "      <td>1551823.89</td>\n",
       "      <td>61.0</td>\n",
       "      <td>0.0</td>\n",
       "      <td>0.0</td>\n",
       "      <td>1.0</td>\n",
       "      <td>3.0</td>\n",
       "      <td>1.0</td>\n",
       "      <td>33.0</td>\n",
       "      <td>46.0</td>\n",
       "    </tr>\n",
       "    <tr>\n",
       "      <th>2</th>\n",
       "      <td>AL</td>\n",
       "      <td>ALABAMA</td>\n",
       "      <td>100006</td>\n",
       "      <td>Marshall County</td>\n",
       "      <td>878</td>\n",
       "      <td>Douglas High School</td>\n",
       "      <td>10000600878</td>\n",
       "      <td>0</td>\n",
       "      <td>0</td>\n",
       "      <td>0</td>\n",
       "      <td>...</td>\n",
       "      <td>36.00</td>\n",
       "      <td>1654974.93</td>\n",
       "      <td>142.0</td>\n",
       "      <td>0.0</td>\n",
       "      <td>0.0</td>\n",
       "      <td>1.0</td>\n",
       "      <td>6.0</td>\n",
       "      <td>1.0</td>\n",
       "      <td>185.0</td>\n",
       "      <td>244.0</td>\n",
       "    </tr>\n",
       "    <tr>\n",
       "      <th>3</th>\n",
       "      <td>AL</td>\n",
       "      <td>ALABAMA</td>\n",
       "      <td>100006</td>\n",
       "      <td>Marshall County</td>\n",
       "      <td>883</td>\n",
       "      <td>Kate D Smith DAR High School</td>\n",
       "      <td>10000600883</td>\n",
       "      <td>0</td>\n",
       "      <td>0</td>\n",
       "      <td>0</td>\n",
       "      <td>...</td>\n",
       "      <td>29.00</td>\n",
       "      <td>1256524.51</td>\n",
       "      <td>103.0</td>\n",
       "      <td>0.0</td>\n",
       "      <td>0.0</td>\n",
       "      <td>1.0</td>\n",
       "      <td>6.0</td>\n",
       "      <td>1.0</td>\n",
       "      <td>116.0</td>\n",
       "      <td>205.0</td>\n",
       "    </tr>\n",
       "    <tr>\n",
       "      <th>4</th>\n",
       "      <td>AL</td>\n",
       "      <td>ALABAMA</td>\n",
       "      <td>100006</td>\n",
       "      <td>Marshall County</td>\n",
       "      <td>1585</td>\n",
       "      <td>Brindlee Mountain High School</td>\n",
       "      <td>10000601585</td>\n",
       "      <td>0</td>\n",
       "      <td>0</td>\n",
       "      <td>0</td>\n",
       "      <td>...</td>\n",
       "      <td>37.00</td>\n",
       "      <td>1540288.05</td>\n",
       "      <td>76.0</td>\n",
       "      <td>0.0</td>\n",
       "      <td>0.0</td>\n",
       "      <td>1.0</td>\n",
       "      <td>5.0</td>\n",
       "      <td>1.0</td>\n",
       "      <td>76.0</td>\n",
       "      <td>102.0</td>\n",
       "    </tr>\n",
       "  </tbody>\n",
       "</table>\n",
       "<p>5 rows × 27 columns</p>\n",
       "</div>"
      ],
      "text/plain": [
       "  LEA_STATE_x LEA_STATE_NAME_x  LEAID_x        LEA_NAME_x  SCHID_x  \\\n",
       "0          AL          ALABAMA   100005  Albertville City      871   \n",
       "1          AL          ALABAMA   100006   Marshall County      872   \n",
       "2          AL          ALABAMA   100006   Marshall County      878   \n",
       "3          AL          ALABAMA   100006   Marshall County      883   \n",
       "4          AL          ALABAMA   100006   Marshall County     1585   \n",
       "\n",
       "                      SCH_NAME_x   COMBOKEY_x  Special_ed_schl_new  \\\n",
       "0        Albertville High School  10000500871                    0   \n",
       "1             Asbury High School  10000600872                    0   \n",
       "2            Douglas High School  10000600878                    0   \n",
       "3   Kate D Smith DAR High School  10000600883                    0   \n",
       "4  Brindlee Mountain High School  10000601585                    0   \n",
       "\n",
       "   Magnet_schl_new  Charter_Schl_new          ...            \\\n",
       "0                0                 0          ...             \n",
       "1                0                 0          ...             \n",
       "2                0                 0          ...             \n",
       "3                0                 0          ...             \n",
       "4                0                 0          ...             \n",
       "\n",
       "   FTE_teachers_count SalaryforTeachers Total_SAT_ACT_students  \\\n",
       "0               72.88        3780956.34                  363.0   \n",
       "1               32.00        1551823.89                   61.0   \n",
       "2               36.00        1654974.93                  142.0   \n",
       "3               29.00        1256524.51                  103.0   \n",
       "4               37.00        1540288.05                   76.0   \n",
       "\n",
       "   SCH_IBENR_IND_new  Total_IB_students  SCH_APENR_IND_new  SCH_APCOURSES  \\\n",
       "0                0.0                0.0                1.0            8.0   \n",
       "1                0.0                0.0                1.0            3.0   \n",
       "2                0.0                0.0                1.0            6.0   \n",
       "3                0.0                0.0                1.0            6.0   \n",
       "4                0.0                0.0                1.0            5.0   \n",
       "\n",
       "   SCH_APOTHENR_IND_new  Total_AP_other_students  Total_students_tookAP  \n",
       "0                   1.0                    179.0                  286.0  \n",
       "1                   1.0                     33.0                   46.0  \n",
       "2                   1.0                    185.0                  244.0  \n",
       "3                   1.0                    116.0                  205.0  \n",
       "4                   1.0                     76.0                  102.0  \n",
       "\n",
       "[5 rows x 27 columns]"
      ]
     },
     "execution_count": 43,
     "metadata": {},
     "output_type": "execute_result"
    }
   ],
   "source": [
    "crdc_master_read = pandas.read_csv(\"Clean_crdc_master_read.csv\")\n",
    "crdc_master_read['NCESSCH'] = crdc_master_read['NCESSCH'].apply(lambda x: '{0:0>12}'.format(x))\n",
    "crdc_master_read.head()"
   ]
  },
  {
   "cell_type": "code",
   "execution_count": 44,
   "metadata": {},
   "outputs": [
    {
     "data": {
      "text/plain": [
       "(16807, 27)"
      ]
     },
     "execution_count": 44,
     "metadata": {},
     "output_type": "execute_result"
    }
   ],
   "source": [
    "crdc_master_read.shape"
   ]
  },
  {
   "cell_type": "code",
   "execution_count": 45,
   "metadata": {},
   "outputs": [
    {
     "name": "stdout",
     "output_type": "stream",
     "text": [
      "C:\\Users\\dansa\\Documents\\GitHub\\Phase1\\Data\\EDGE\n"
     ]
    }
   ],
   "source": [
    "cd /Users/dansa/Documents/GitHub/Phase1/Data/EDGE"
   ]
  },
  {
   "cell_type": "code",
   "execution_count": 46,
   "metadata": {},
   "outputs": [
    {
     "data": {
      "text/html": [
       "<div>\n",
       "<style scoped>\n",
       "    .dataframe tbody tr th:only-of-type {\n",
       "        vertical-align: middle;\n",
       "    }\n",
       "\n",
       "    .dataframe tbody tr th {\n",
       "        vertical-align: top;\n",
       "    }\n",
       "\n",
       "    .dataframe thead th {\n",
       "        text-align: right;\n",
       "    }\n",
       "</style>\n",
       "<table border=\"1\" class=\"dataframe\">\n",
       "  <thead>\n",
       "    <tr style=\"text-align: right;\">\n",
       "      <th></th>\n",
       "      <th>NCESSCH</th>\n",
       "      <th>NAME</th>\n",
       "      <th>Income_Poverty_ratio</th>\n",
       "      <th>IPR_SE</th>\n",
       "    </tr>\n",
       "  </thead>\n",
       "  <tbody>\n",
       "    <tr>\n",
       "      <th>0</th>\n",
       "      <td>010000500870</td>\n",
       "      <td>Albertville Middle School</td>\n",
       "      <td>245</td>\n",
       "      <td>80</td>\n",
       "    </tr>\n",
       "    <tr>\n",
       "      <th>1</th>\n",
       "      <td>010000500871</td>\n",
       "      <td>Albertville High School</td>\n",
       "      <td>248</td>\n",
       "      <td>80</td>\n",
       "    </tr>\n",
       "    <tr>\n",
       "      <th>2</th>\n",
       "      <td>010000500879</td>\n",
       "      <td>Evans Elementary School</td>\n",
       "      <td>174</td>\n",
       "      <td>91</td>\n",
       "    </tr>\n",
       "    <tr>\n",
       "      <th>3</th>\n",
       "      <td>010000500889</td>\n",
       "      <td>Albertville Elementary School</td>\n",
       "      <td>236</td>\n",
       "      <td>105</td>\n",
       "    </tr>\n",
       "    <tr>\n",
       "      <th>4</th>\n",
       "      <td>010000501616</td>\n",
       "      <td>Big Spring Lake Kindergarten School</td>\n",
       "      <td>480</td>\n",
       "      <td>120</td>\n",
       "    </tr>\n",
       "  </tbody>\n",
       "</table>\n",
       "</div>"
      ],
      "text/plain": [
       "        NCESSCH                                 NAME  Income_Poverty_ratio  \\\n",
       "0  010000500870            Albertville Middle School                   245   \n",
       "1  010000500871              Albertville High School                   248   \n",
       "2  010000500879              Evans Elementary School                   174   \n",
       "3  010000500889        Albertville Elementary School                   236   \n",
       "4  010000501616  Big Spring Lake Kindergarten School                   480   \n",
       "\n",
       "   IPR_SE  \n",
       "0      80  \n",
       "1      80  \n",
       "2      91  \n",
       "3     105  \n",
       "4     120  "
      ]
     },
     "execution_count": 46,
     "metadata": {},
     "output_type": "execute_result"
    }
   ],
   "source": [
    "edge = pandas.read_csv(\"Clean_EDGE.csv\")\n",
    "edge['NCESSCH'] = edge['NCESSCH'].apply(lambda x: '{0:0>12}'.format(x))\n",
    "edge.head()"
   ]
  },
  {
   "cell_type": "code",
   "execution_count": 47,
   "metadata": {},
   "outputs": [
    {
     "data": {
      "text/plain": [
       "(100958, 4)"
      ]
     },
     "execution_count": 47,
     "metadata": {},
     "output_type": "execute_result"
    }
   ],
   "source": [
    "edge.shape"
   ]
  },
  {
   "cell_type": "code",
   "execution_count": 48,
   "metadata": {},
   "outputs": [
    {
     "name": "stdout",
     "output_type": "stream",
     "text": [
      "C:\\Users\\dansa\\Documents\\GitHub\\Phase1\\Data\\EDFacts\n"
     ]
    }
   ],
   "source": [
    "cd /Users/dansa/Documents/GitHub/Phase1/Data/EDFacts"
   ]
  },
  {
   "cell_type": "code",
   "execution_count": 49,
   "metadata": {},
   "outputs": [
    {
     "data": {
      "text/html": [
       "<div>\n",
       "<style scoped>\n",
       "    .dataframe tbody tr th:only-of-type {\n",
       "        vertical-align: middle;\n",
       "    }\n",
       "\n",
       "    .dataframe tbody tr th {\n",
       "        vertical-align: top;\n",
       "    }\n",
       "\n",
       "    .dataframe thead th {\n",
       "        text-align: right;\n",
       "    }\n",
       "</style>\n",
       "<table border=\"1\" class=\"dataframe\">\n",
       "  <thead>\n",
       "    <tr style=\"text-align: right;\">\n",
       "      <th></th>\n",
       "      <th>STNAM</th>\n",
       "      <th>FIPST</th>\n",
       "      <th>LEAID_x</th>\n",
       "      <th>ST_LEAID_x</th>\n",
       "      <th>LEANM</th>\n",
       "      <th>NCESSCH_old</th>\n",
       "      <th>ST_SCHID</th>\n",
       "      <th>SCHNAM</th>\n",
       "      <th>DATE_CUR</th>\n",
       "      <th>ALL_RLA00NUMVALID_1718</th>\n",
       "      <th>...</th>\n",
       "      <th>STATE_AGENCY_NO</th>\n",
       "      <th>ST_LEAID_y</th>\n",
       "      <th>LEAID_y</th>\n",
       "      <th>NCESSCH</th>\n",
       "      <th>SCHID</th>\n",
       "      <th>SY_STATUS</th>\n",
       "      <th>SCH_TYPE_TEXT</th>\n",
       "      <th>SCH_TYPE</th>\n",
       "      <th>LEVEL</th>\n",
       "      <th>ALL_RLA00PCTPROF_1718_new</th>\n",
       "    </tr>\n",
       "  </thead>\n",
       "  <tbody>\n",
       "    <tr>\n",
       "      <th>0</th>\n",
       "      <td>ALABAMA</td>\n",
       "      <td>1</td>\n",
       "      <td>100005</td>\n",
       "      <td>AL-101</td>\n",
       "      <td>Albertville City</td>\n",
       "      <td>1.000050e+10</td>\n",
       "      <td>AL-101-0010</td>\n",
       "      <td>Albertville Middle School</td>\n",
       "      <td>27-Mar-19</td>\n",
       "      <td>801</td>\n",
       "      <td>...</td>\n",
       "      <td>1</td>\n",
       "      <td>AL-101</td>\n",
       "      <td>100005</td>\n",
       "      <td>010000500870</td>\n",
       "      <td>100870</td>\n",
       "      <td>1</td>\n",
       "      <td>Regular School</td>\n",
       "      <td>1</td>\n",
       "      <td>Middle</td>\n",
       "      <td>43.0</td>\n",
       "    </tr>\n",
       "    <tr>\n",
       "      <th>1</th>\n",
       "      <td>ALABAMA</td>\n",
       "      <td>1</td>\n",
       "      <td>100005</td>\n",
       "      <td>AL-101</td>\n",
       "      <td>Albertville City</td>\n",
       "      <td>1.000050e+10</td>\n",
       "      <td>AL-101-0020</td>\n",
       "      <td>Albertville High School</td>\n",
       "      <td>27-Mar-19</td>\n",
       "      <td>337</td>\n",
       "      <td>...</td>\n",
       "      <td>1</td>\n",
       "      <td>AL-101</td>\n",
       "      <td>100005</td>\n",
       "      <td>010000500871</td>\n",
       "      <td>100871</td>\n",
       "      <td>1</td>\n",
       "      <td>Regular School</td>\n",
       "      <td>1</td>\n",
       "      <td>High</td>\n",
       "      <td>32.0</td>\n",
       "    </tr>\n",
       "    <tr>\n",
       "      <th>2</th>\n",
       "      <td>ALABAMA</td>\n",
       "      <td>1</td>\n",
       "      <td>100005</td>\n",
       "      <td>AL-101</td>\n",
       "      <td>Albertville City</td>\n",
       "      <td>1.000050e+10</td>\n",
       "      <td>AL-101-0110</td>\n",
       "      <td>Evans Elementary School</td>\n",
       "      <td>27-Mar-19</td>\n",
       "      <td>848</td>\n",
       "      <td>...</td>\n",
       "      <td>1</td>\n",
       "      <td>AL-101</td>\n",
       "      <td>100005</td>\n",
       "      <td>010000500879</td>\n",
       "      <td>100879</td>\n",
       "      <td>1</td>\n",
       "      <td>Regular School</td>\n",
       "      <td>1</td>\n",
       "      <td>Middle</td>\n",
       "      <td>34.0</td>\n",
       "    </tr>\n",
       "    <tr>\n",
       "      <th>3</th>\n",
       "      <td>ALABAMA</td>\n",
       "      <td>1</td>\n",
       "      <td>100005</td>\n",
       "      <td>AL-101</td>\n",
       "      <td>Albertville City</td>\n",
       "      <td>1.000050e+10</td>\n",
       "      <td>AL-101-0200</td>\n",
       "      <td>Albertville Elementary School</td>\n",
       "      <td>27-Mar-19</td>\n",
       "      <td>899</td>\n",
       "      <td>...</td>\n",
       "      <td>1</td>\n",
       "      <td>AL-101</td>\n",
       "      <td>100005</td>\n",
       "      <td>010000500889</td>\n",
       "      <td>100889</td>\n",
       "      <td>1</td>\n",
       "      <td>Regular School</td>\n",
       "      <td>1</td>\n",
       "      <td>Elementary</td>\n",
       "      <td>41.0</td>\n",
       "    </tr>\n",
       "    <tr>\n",
       "      <th>4</th>\n",
       "      <td>ALABAMA</td>\n",
       "      <td>1</td>\n",
       "      <td>100006</td>\n",
       "      <td>AL-048</td>\n",
       "      <td>Marshall County</td>\n",
       "      <td>1.000060e+10</td>\n",
       "      <td>AL-048-0143</td>\n",
       "      <td>Kate Duncan Smith DAR Middle</td>\n",
       "      <td>27-Mar-19</td>\n",
       "      <td>433</td>\n",
       "      <td>...</td>\n",
       "      <td>1</td>\n",
       "      <td>AL-048</td>\n",
       "      <td>100006</td>\n",
       "      <td>010000600193</td>\n",
       "      <td>100193</td>\n",
       "      <td>1</td>\n",
       "      <td>Regular School</td>\n",
       "      <td>1</td>\n",
       "      <td>Middle</td>\n",
       "      <td>52.0</td>\n",
       "    </tr>\n",
       "  </tbody>\n",
       "</table>\n",
       "<p>5 rows × 25 columns</p>\n",
       "</div>"
      ],
      "text/plain": [
       "     STNAM  FIPST  LEAID_x ST_LEAID_x             LEANM   NCESSCH_old  \\\n",
       "0  ALABAMA      1   100005     AL-101  Albertville City  1.000050e+10   \n",
       "1  ALABAMA      1   100005     AL-101  Albertville City  1.000050e+10   \n",
       "2  ALABAMA      1   100005     AL-101  Albertville City  1.000050e+10   \n",
       "3  ALABAMA      1   100005     AL-101  Albertville City  1.000050e+10   \n",
       "4  ALABAMA      1   100006     AL-048   Marshall County  1.000060e+10   \n",
       "\n",
       "      ST_SCHID                         SCHNAM   DATE_CUR  \\\n",
       "0  AL-101-0010      Albertville Middle School  27-Mar-19   \n",
       "1  AL-101-0020        Albertville High School  27-Mar-19   \n",
       "2  AL-101-0110        Evans Elementary School  27-Mar-19   \n",
       "3  AL-101-0200  Albertville Elementary School  27-Mar-19   \n",
       "4  AL-048-0143   Kate Duncan Smith DAR Middle  27-Mar-19   \n",
       "\n",
       "   ALL_RLA00NUMVALID_1718            ...             STATE_AGENCY_NO  \\\n",
       "0                     801            ...                           1   \n",
       "1                     337            ...                           1   \n",
       "2                     848            ...                           1   \n",
       "3                     899            ...                           1   \n",
       "4                     433            ...                           1   \n",
       "\n",
       "  ST_LEAID_y LEAID_y       NCESSCH   SCHID  SY_STATUS   SCH_TYPE_TEXT  \\\n",
       "0     AL-101  100005  010000500870  100870          1  Regular School   \n",
       "1     AL-101  100005  010000500871  100871          1  Regular School   \n",
       "2     AL-101  100005  010000500879  100879          1  Regular School   \n",
       "3     AL-101  100005  010000500889  100889          1  Regular School   \n",
       "4     AL-048  100006  010000600193  100193          1  Regular School   \n",
       "\n",
       "   SCH_TYPE       LEVEL  ALL_RLA00PCTPROF_1718_new  \n",
       "0         1      Middle                       43.0  \n",
       "1         1        High                       32.0  \n",
       "2         1      Middle                       34.0  \n",
       "3         1  Elementary                       41.0  \n",
       "4         1      Middle                       52.0  \n",
       "\n",
       "[5 rows x 25 columns]"
      ]
     },
     "execution_count": 49,
     "metadata": {},
     "output_type": "execute_result"
    }
   ],
   "source": [
    "Eng_prof = pandas.read_csv(\"edfacts_eng_merged_ccd.csv\")\n",
    "Eng_prof['NCESSCH'] = Eng_prof['NCESSCH'].apply(lambda x: '{0:0>12}'.format(x))\n",
    "Eng_prof.head()"
   ]
  },
  {
   "cell_type": "code",
   "execution_count": 50,
   "metadata": {},
   "outputs": [
    {
     "data": {
      "text/plain": [
       "(86840, 25)"
      ]
     },
     "execution_count": 50,
     "metadata": {},
     "output_type": "execute_result"
    }
   ],
   "source": [
    "Eng_prof.shape"
   ]
  },
  {
   "cell_type": "markdown",
   "metadata": {},
   "source": [
    "### Merge ccd and crdc file"
   ]
  },
  {
   "cell_type": "code",
   "execution_count": 51,
   "metadata": {},
   "outputs": [
    {
     "data": {
      "text/plain": [
       "(19071, 40)"
      ]
     },
     "execution_count": 51,
     "metadata": {},
     "output_type": "execute_result"
    }
   ],
   "source": [
    "merged_ccd_crdc = pandas.merge(left=ccd_master,right=crdc_master_read, how='left', left_on='NCESSCH', right_on='NCESSCH')\n",
    "merged_ccd_crdc.shape"
   ]
  },
  {
   "cell_type": "code",
   "execution_count": 52,
   "metadata": {},
   "outputs": [
    {
     "data": {
      "text/plain": [
       "Index(['SCHOOL_YEAR', 'ST', 'SCH_NAME', 'ST_SCHID', 'NCESSCH', 'SY_STATUS',\n",
       "       'SCH_TYPE_TEXT', 'SCH_TYPE', 'LEVEL_x', 'TITLEI_STATUS',\n",
       "       'TITLEI_STATUS_TEXT', 'TEACHERS', 'DATA_GROUP', 'FARMS_COUNT',\n",
       "       'LEA_STATE_x', 'LEA_STATE_NAME_x', 'LEAID_x', 'LEA_NAME_x', 'SCHID_x',\n",
       "       'SCH_NAME_x', 'COMBOKEY_x', 'Special_ed_schl_new', 'Magnet_schl_new',\n",
       "       'Charter_Schl_new', 'Alternate_schl_new', 'LEVEL_y',\n",
       "       'Total_enroll_students', 'SCH_FTETEACH_TOT', 'SCH_FTETEACH_CERT',\n",
       "       'SCH_FTETEACH_NOTCERT', 'FTE_teachers_count', 'SalaryforTeachers',\n",
       "       'Total_SAT_ACT_students', 'SCH_IBENR_IND_new', 'Total_IB_students',\n",
       "       'SCH_APENR_IND_new', 'SCH_APCOURSES', 'SCH_APOTHENR_IND_new',\n",
       "       'Total_AP_other_students', 'Total_students_tookAP'],\n",
       "      dtype='object')"
      ]
     },
     "execution_count": 52,
     "metadata": {},
     "output_type": "execute_result"
    }
   ],
   "source": [
    "merged_ccd_crdc.columns"
   ]
  },
  {
   "cell_type": "code",
   "execution_count": 53,
   "metadata": {},
   "outputs": [],
   "source": [
    "#merged_ccd_crdc.head().T"
   ]
  },
  {
   "cell_type": "markdown",
   "metadata": {},
   "source": [
    "### Merge ccd_crdc file with edge file"
   ]
  },
  {
   "cell_type": "code",
   "execution_count": 54,
   "metadata": {},
   "outputs": [
    {
     "data": {
      "text/plain": [
       "(19071, 43)"
      ]
     },
     "execution_count": 54,
     "metadata": {},
     "output_type": "execute_result"
    }
   ],
   "source": [
    "merged_ccd_crdc_edge = pandas.merge(left=merged_ccd_crdc,right=edge, how='left', left_on='NCESSCH', right_on='NCESSCH')\n",
    "merged_ccd_crdc_edge.shape"
   ]
  },
  {
   "cell_type": "code",
   "execution_count": 55,
   "metadata": {},
   "outputs": [
    {
     "data": {
      "text/plain": [
       "Index(['SCHOOL_YEAR', 'ST', 'SCH_NAME', 'ST_SCHID', 'NCESSCH', 'SY_STATUS',\n",
       "       'SCH_TYPE_TEXT', 'SCH_TYPE', 'LEVEL_x', 'TITLEI_STATUS',\n",
       "       'TITLEI_STATUS_TEXT', 'TEACHERS', 'DATA_GROUP', 'FARMS_COUNT',\n",
       "       'LEA_STATE_x', 'LEA_STATE_NAME_x', 'LEAID_x', 'LEA_NAME_x', 'SCHID_x',\n",
       "       'SCH_NAME_x', 'COMBOKEY_x', 'Special_ed_schl_new', 'Magnet_schl_new',\n",
       "       'Charter_Schl_new', 'Alternate_schl_new', 'LEVEL_y',\n",
       "       'Total_enroll_students', 'SCH_FTETEACH_TOT', 'SCH_FTETEACH_CERT',\n",
       "       'SCH_FTETEACH_NOTCERT', 'FTE_teachers_count', 'SalaryforTeachers',\n",
       "       'Total_SAT_ACT_students', 'SCH_IBENR_IND_new', 'Total_IB_students',\n",
       "       'SCH_APENR_IND_new', 'SCH_APCOURSES', 'SCH_APOTHENR_IND_new',\n",
       "       'Total_AP_other_students', 'Total_students_tookAP', 'NAME',\n",
       "       'Income_Poverty_ratio', 'IPR_SE'],\n",
       "      dtype='object')"
      ]
     },
     "execution_count": 55,
     "metadata": {},
     "output_type": "execute_result"
    }
   ],
   "source": [
    "merged_ccd_crdc_edge.columns"
   ]
  },
  {
   "cell_type": "code",
   "execution_count": 56,
   "metadata": {},
   "outputs": [],
   "source": [
    "#merged_ccd_crdc_edge.head().T"
   ]
  },
  {
   "cell_type": "markdown",
   "metadata": {},
   "source": [
    "### Merge ccd_crdc_edge file with edfacts file"
   ]
  },
  {
   "cell_type": "code",
   "execution_count": 57,
   "metadata": {},
   "outputs": [
    {
     "data": {
      "text/plain": [
       "(19071, 67)"
      ]
     },
     "execution_count": 57,
     "metadata": {},
     "output_type": "execute_result"
    }
   ],
   "source": [
    "merged_ccd_crdc_edge_engProf = pandas.merge(left=merged_ccd_crdc_edge,right=Eng_prof, how='left', left_on='NCESSCH', right_on='NCESSCH')\n",
    "merged_ccd_crdc_edge_engProf.shape"
   ]
  },
  {
   "cell_type": "code",
   "execution_count": 58,
   "metadata": {},
   "outputs": [
    {
     "data": {
      "text/plain": [
       "Index(['SCHOOL_YEAR_x', 'ST_x', 'SCH_NAME_x', 'ST_SCHID_x', 'NCESSCH',\n",
       "       'SY_STATUS_x', 'SCH_TYPE_TEXT_x', 'SCH_TYPE_x', 'LEVEL_x',\n",
       "       'TITLEI_STATUS', 'TITLEI_STATUS_TEXT', 'TEACHERS', 'DATA_GROUP',\n",
       "       'FARMS_COUNT', 'LEA_STATE_x', 'LEA_STATE_NAME_x', 'LEAID_x_x',\n",
       "       'LEA_NAME_x', 'SCHID_x', 'SCH_NAME_x', 'COMBOKEY_x',\n",
       "       'Special_ed_schl_new', 'Magnet_schl_new', 'Charter_Schl_new',\n",
       "       'Alternate_schl_new', 'LEVEL_y', 'Total_enroll_students',\n",
       "       'SCH_FTETEACH_TOT', 'SCH_FTETEACH_CERT', 'SCH_FTETEACH_NOTCERT',\n",
       "       'FTE_teachers_count', 'SalaryforTeachers', 'Total_SAT_ACT_students',\n",
       "       'SCH_IBENR_IND_new', 'Total_IB_students', 'SCH_APENR_IND_new',\n",
       "       'SCH_APCOURSES', 'SCH_APOTHENR_IND_new', 'Total_AP_other_students',\n",
       "       'Total_students_tookAP', 'NAME', 'Income_Poverty_ratio', 'IPR_SE',\n",
       "       'STNAM', 'FIPST', 'LEAID_x_y', 'ST_LEAID_x', 'LEANM', 'NCESSCH_old',\n",
       "       'ST_SCHID_y', 'SCHNAM', 'DATE_CUR', 'ALL_RLA00NUMVALID_1718',\n",
       "       'ALL_RLA00PCTPROF_1718', 'SCHOOL_YEAR_y', 'ST_y', 'SCH_NAME_y',\n",
       "       'LEA_NAME', 'STATE_AGENCY_NO', 'ST_LEAID_y', 'LEAID_y', 'SCHID',\n",
       "       'SY_STATUS_y', 'SCH_TYPE_TEXT_y', 'SCH_TYPE_y', 'LEVEL',\n",
       "       'ALL_RLA00PCTPROF_1718_new'],\n",
       "      dtype='object')"
      ]
     },
     "execution_count": 58,
     "metadata": {},
     "output_type": "execute_result"
    }
   ],
   "source": [
    "merged_ccd_crdc_edge_engProf.columns"
   ]
  },
  {
   "cell_type": "markdown",
   "metadata": {},
   "source": [
    "#### Drop duplicate columns"
   ]
  },
  {
   "cell_type": "code",
   "execution_count": 59,
   "metadata": {},
   "outputs": [
    {
     "data": {
      "text/plain": [
       "(19071, 56)"
      ]
     },
     "execution_count": 59,
     "metadata": {},
     "output_type": "execute_result"
    }
   ],
   "source": [
    "merged_ccd_crdc_edge_engProf.drop([col for col in merged_ccd_crdc_edge_engProf.columns if col.endswith('_y')],axis=1,inplace=True)\n",
    "merged_ccd_crdc_edge_engProf.shape"
   ]
  },
  {
   "cell_type": "code",
   "execution_count": 60,
   "metadata": {},
   "outputs": [
    {
     "data": {
      "text/plain": [
       "Index(['SCHOOL_YEAR_x', 'ST_x', 'SCH_NAME_x', 'ST_SCHID_x', 'NCESSCH',\n",
       "       'SY_STATUS_x', 'SCH_TYPE_TEXT_x', 'SCH_TYPE_x', 'LEVEL_x',\n",
       "       'TITLEI_STATUS', 'TITLEI_STATUS_TEXT', 'TEACHERS', 'DATA_GROUP',\n",
       "       'FARMS_COUNT', 'LEA_STATE_x', 'LEA_STATE_NAME_x', 'LEAID_x_x',\n",
       "       'LEA_NAME_x', 'SCHID_x', 'SCH_NAME_x', 'COMBOKEY_x',\n",
       "       'Special_ed_schl_new', 'Magnet_schl_new', 'Charter_Schl_new',\n",
       "       'Alternate_schl_new', 'Total_enroll_students', 'SCH_FTETEACH_TOT',\n",
       "       'SCH_FTETEACH_CERT', 'SCH_FTETEACH_NOTCERT', 'FTE_teachers_count',\n",
       "       'SalaryforTeachers', 'Total_SAT_ACT_students', 'SCH_IBENR_IND_new',\n",
       "       'Total_IB_students', 'SCH_APENR_IND_new', 'SCH_APCOURSES',\n",
       "       'SCH_APOTHENR_IND_new', 'Total_AP_other_students',\n",
       "       'Total_students_tookAP', 'NAME', 'Income_Poverty_ratio', 'IPR_SE',\n",
       "       'STNAM', 'FIPST', 'ST_LEAID_x', 'LEANM', 'NCESSCH_old', 'SCHNAM',\n",
       "       'DATE_CUR', 'ALL_RLA00NUMVALID_1718', 'ALL_RLA00PCTPROF_1718',\n",
       "       'LEA_NAME', 'STATE_AGENCY_NO', 'SCHID', 'LEVEL',\n",
       "       'ALL_RLA00PCTPROF_1718_new'],\n",
       "      dtype='object')"
      ]
     },
     "execution_count": 60,
     "metadata": {},
     "output_type": "execute_result"
    }
   ],
   "source": [
    "merged_ccd_crdc_edge_engProf.columns"
   ]
  },
  {
   "cell_type": "markdown",
   "metadata": {},
   "source": [
    "#### Resorting columns"
   ]
  },
  {
   "cell_type": "code",
   "execution_count": 61,
   "metadata": {},
   "outputs": [],
   "source": [
    "master_reading=merged_ccd_crdc_edge_engProf[['SCHOOL_YEAR_x', 'ST_x','NAME', 'NCESSCH', 'LEVEL', 'SCH_TYPE_TEXT_x', 'SCH_TYPE_x',\n",
    "       'TITLEI_STATUS', 'TITLEI_STATUS_TEXT', 'TEACHERS',\n",
    "       'FARMS_COUNT', 'Special_ed_schl_new','Magnet_schl_new', 'Charter_Schl_new', 'Alternate_schl_new',\n",
    "       'Total_enroll_students', \n",
    "       'SCH_FTETEACH_TOT', 'SCH_FTETEACH_CERT','SCH_FTETEACH_NOTCERT', 'FTE_teachers_count', 'SalaryforTeachers',\n",
    "       'Total_SAT_ACT_students', \n",
    "       'SCH_IBENR_IND_new', 'Total_IB_students',\n",
    "       'SCH_APENR_IND_new', 'SCH_APCOURSES', 'SCH_APOTHENR_IND_new','Total_AP_other_students', 'Total_students_tookAP', \n",
    "       'Income_Poverty_ratio', 'IPR_SE', \n",
    "       'ALL_RLA00NUMVALID_1718','ALL_RLA00PCTPROF_1718_new']]"
   ]
  },
  {
   "cell_type": "code",
   "execution_count": 62,
   "metadata": {},
   "outputs": [
    {
     "data": {
      "text/plain": [
       "(19071, 33)"
      ]
     },
     "execution_count": 62,
     "metadata": {},
     "output_type": "execute_result"
    }
   ],
   "source": [
    "master_reading.shape"
   ]
  },
  {
   "cell_type": "code",
   "execution_count": 63,
   "metadata": {},
   "outputs": [
    {
     "data": {
      "text/html": [
       "<div>\n",
       "<style scoped>\n",
       "    .dataframe tbody tr th:only-of-type {\n",
       "        vertical-align: middle;\n",
       "    }\n",
       "\n",
       "    .dataframe tbody tr th {\n",
       "        vertical-align: top;\n",
       "    }\n",
       "\n",
       "    .dataframe thead th {\n",
       "        text-align: right;\n",
       "    }\n",
       "</style>\n",
       "<table border=\"1\" class=\"dataframe\">\n",
       "  <thead>\n",
       "    <tr style=\"text-align: right;\">\n",
       "      <th></th>\n",
       "      <th>SCHOOL_YEAR_x</th>\n",
       "      <th>ST_x</th>\n",
       "      <th>NAME</th>\n",
       "      <th>NCESSCH</th>\n",
       "      <th>LEVEL</th>\n",
       "      <th>SCH_TYPE_TEXT_x</th>\n",
       "      <th>SCH_TYPE_x</th>\n",
       "      <th>TITLEI_STATUS</th>\n",
       "      <th>TITLEI_STATUS_TEXT</th>\n",
       "      <th>TEACHERS</th>\n",
       "      <th>...</th>\n",
       "      <th>Total_IB_students</th>\n",
       "      <th>SCH_APENR_IND_new</th>\n",
       "      <th>SCH_APCOURSES</th>\n",
       "      <th>SCH_APOTHENR_IND_new</th>\n",
       "      <th>Total_AP_other_students</th>\n",
       "      <th>Total_students_tookAP</th>\n",
       "      <th>Income_Poverty_ratio</th>\n",
       "      <th>IPR_SE</th>\n",
       "      <th>ALL_RLA00NUMVALID_1718</th>\n",
       "      <th>ALL_RLA00PCTPROF_1718_new</th>\n",
       "    </tr>\n",
       "  </thead>\n",
       "  <tbody>\n",
       "    <tr>\n",
       "      <th>0</th>\n",
       "      <td>2017-2018</td>\n",
       "      <td>AL</td>\n",
       "      <td>Albertville High School</td>\n",
       "      <td>010000500871</td>\n",
       "      <td>High</td>\n",
       "      <td>Regular School</td>\n",
       "      <td>1</td>\n",
       "      <td>SWELIGSWPROG</td>\n",
       "      <td>Title I schoolwide school</td>\n",
       "      <td>77.00</td>\n",
       "      <td>...</td>\n",
       "      <td>0.0</td>\n",
       "      <td>1.0</td>\n",
       "      <td>8.0</td>\n",
       "      <td>1.0</td>\n",
       "      <td>179.0</td>\n",
       "      <td>286.0</td>\n",
       "      <td>248.0</td>\n",
       "      <td>80.0</td>\n",
       "      <td>337.0</td>\n",
       "      <td>32.0</td>\n",
       "    </tr>\n",
       "    <tr>\n",
       "      <th>1</th>\n",
       "      <td>2017-2018</td>\n",
       "      <td>AL</td>\n",
       "      <td>Asbury High School</td>\n",
       "      <td>010000600872</td>\n",
       "      <td>High</td>\n",
       "      <td>Regular School</td>\n",
       "      <td>1</td>\n",
       "      <td>SWELIGSWPROG</td>\n",
       "      <td>Title I schoolwide school</td>\n",
       "      <td>28.64</td>\n",
       "      <td>...</td>\n",
       "      <td>0.0</td>\n",
       "      <td>1.0</td>\n",
       "      <td>3.0</td>\n",
       "      <td>1.0</td>\n",
       "      <td>33.0</td>\n",
       "      <td>46.0</td>\n",
       "      <td>241.0</td>\n",
       "      <td>127.0</td>\n",
       "      <td>327.0</td>\n",
       "      <td>30.0</td>\n",
       "    </tr>\n",
       "    <tr>\n",
       "      <th>2</th>\n",
       "      <td>2017-2018</td>\n",
       "      <td>AL</td>\n",
       "      <td>Douglas High School</td>\n",
       "      <td>010000600878</td>\n",
       "      <td>High</td>\n",
       "      <td>Regular School</td>\n",
       "      <td>1</td>\n",
       "      <td>SWELIGSWPROG</td>\n",
       "      <td>Title I schoolwide school</td>\n",
       "      <td>30.87</td>\n",
       "      <td>...</td>\n",
       "      <td>0.0</td>\n",
       "      <td>1.0</td>\n",
       "      <td>6.0</td>\n",
       "      <td>1.0</td>\n",
       "      <td>185.0</td>\n",
       "      <td>244.0</td>\n",
       "      <td>213.0</td>\n",
       "      <td>51.0</td>\n",
       "      <td>130.0</td>\n",
       "      <td>42.0</td>\n",
       "    </tr>\n",
       "    <tr>\n",
       "      <th>3</th>\n",
       "      <td>2017-2018</td>\n",
       "      <td>AL</td>\n",
       "      <td>Kate D Smith DAR High School</td>\n",
       "      <td>010000600883</td>\n",
       "      <td>High</td>\n",
       "      <td>Regular School</td>\n",
       "      <td>1</td>\n",
       "      <td>SWELIGSWPROG</td>\n",
       "      <td>Title I schoolwide school</td>\n",
       "      <td>24.04</td>\n",
       "      <td>...</td>\n",
       "      <td>0.0</td>\n",
       "      <td>1.0</td>\n",
       "      <td>6.0</td>\n",
       "      <td>1.0</td>\n",
       "      <td>116.0</td>\n",
       "      <td>205.0</td>\n",
       "      <td>254.0</td>\n",
       "      <td>48.0</td>\n",
       "      <td>106.0</td>\n",
       "      <td>57.0</td>\n",
       "    </tr>\n",
       "    <tr>\n",
       "      <th>4</th>\n",
       "      <td>2017-2018</td>\n",
       "      <td>AL</td>\n",
       "      <td>Brindlee Mountain High School</td>\n",
       "      <td>010000601585</td>\n",
       "      <td>High</td>\n",
       "      <td>Regular School</td>\n",
       "      <td>1</td>\n",
       "      <td>SWELIGSWPROG</td>\n",
       "      <td>Title I schoolwide school</td>\n",
       "      <td>31.26</td>\n",
       "      <td>...</td>\n",
       "      <td>0.0</td>\n",
       "      <td>1.0</td>\n",
       "      <td>5.0</td>\n",
       "      <td>1.0</td>\n",
       "      <td>76.0</td>\n",
       "      <td>102.0</td>\n",
       "      <td>329.0</td>\n",
       "      <td>150.0</td>\n",
       "      <td>338.0</td>\n",
       "      <td>31.0</td>\n",
       "    </tr>\n",
       "  </tbody>\n",
       "</table>\n",
       "<p>5 rows × 33 columns</p>\n",
       "</div>"
      ],
      "text/plain": [
       "  SCHOOL_YEAR_x ST_x                           NAME       NCESSCH LEVEL  \\\n",
       "0     2017-2018   AL        Albertville High School  010000500871  High   \n",
       "1     2017-2018   AL             Asbury High School  010000600872  High   \n",
       "2     2017-2018   AL            Douglas High School  010000600878  High   \n",
       "3     2017-2018   AL   Kate D Smith DAR High School  010000600883  High   \n",
       "4     2017-2018   AL  Brindlee Mountain High School  010000601585  High   \n",
       "\n",
       "  SCH_TYPE_TEXT_x  SCH_TYPE_x TITLEI_STATUS         TITLEI_STATUS_TEXT  \\\n",
       "0  Regular School           1  SWELIGSWPROG  Title I schoolwide school   \n",
       "1  Regular School           1  SWELIGSWPROG  Title I schoolwide school   \n",
       "2  Regular School           1  SWELIGSWPROG  Title I schoolwide school   \n",
       "3  Regular School           1  SWELIGSWPROG  Title I schoolwide school   \n",
       "4  Regular School           1  SWELIGSWPROG  Title I schoolwide school   \n",
       "\n",
       "   TEACHERS            ...              Total_IB_students  SCH_APENR_IND_new  \\\n",
       "0     77.00            ...                            0.0                1.0   \n",
       "1     28.64            ...                            0.0                1.0   \n",
       "2     30.87            ...                            0.0                1.0   \n",
       "3     24.04            ...                            0.0                1.0   \n",
       "4     31.26            ...                            0.0                1.0   \n",
       "\n",
       "   SCH_APCOURSES  SCH_APOTHENR_IND_new  Total_AP_other_students  \\\n",
       "0            8.0                   1.0                    179.0   \n",
       "1            3.0                   1.0                     33.0   \n",
       "2            6.0                   1.0                    185.0   \n",
       "3            6.0                   1.0                    116.0   \n",
       "4            5.0                   1.0                     76.0   \n",
       "\n",
       "   Total_students_tookAP  Income_Poverty_ratio  IPR_SE  \\\n",
       "0                  286.0                 248.0    80.0   \n",
       "1                   46.0                 241.0   127.0   \n",
       "2                  244.0                 213.0    51.0   \n",
       "3                  205.0                 254.0    48.0   \n",
       "4                  102.0                 329.0   150.0   \n",
       "\n",
       "   ALL_RLA00NUMVALID_1718  ALL_RLA00PCTPROF_1718_new  \n",
       "0                   337.0                       32.0  \n",
       "1                   327.0                       30.0  \n",
       "2                   130.0                       42.0  \n",
       "3                   106.0                       57.0  \n",
       "4                   338.0                       31.0  \n",
       "\n",
       "[5 rows x 33 columns]"
      ]
     },
     "execution_count": 63,
     "metadata": {},
     "output_type": "execute_result"
    }
   ],
   "source": [
    "master_reading.head()"
   ]
  },
  {
   "cell_type": "code",
   "execution_count": 64,
   "metadata": {},
   "outputs": [
    {
     "data": {
      "text/plain": [
       "<matplotlib.axes._subplots.AxesSubplot at 0x1eed0d839b0>"
      ]
     },
     "execution_count": 64,
     "metadata": {},
     "output_type": "execute_result"
    },
    {
     "data": {
      "image/png": "[encoded data removed]",
      "text/plain": [
       "<Figure size 432x288 with 2 Axes>"
      ]
     },
     "metadata": {
      "needs_background": "light"
     },
     "output_type": "display_data"
    }
   ],
   "source": [
    "sns.heatmap(master_reading.isnull(),yticklabels=False,cbar=True,cmap='viridis')"
   ]
  },
  {
   "cell_type": "markdown",
   "metadata": {},
   "source": [
    "#### Dropping rows with null values"
   ]
  },
  {
   "cell_type": "code",
   "execution_count": 65,
   "metadata": {},
   "outputs": [
    {
     "data": {
      "text/plain": [
       "NAME                          203\n",
       "LEVEL                        1705\n",
       "Special_ed_schl_new          3839\n",
       "Magnet_schl_new              3839\n",
       "Charter_Schl_new             3839\n",
       "Alternate_schl_new           3839\n",
       "Total_enroll_students        3839\n",
       "SCH_FTETEACH_TOT             3839\n",
       "SCH_FTETEACH_CERT            3839\n",
       "SCH_FTETEACH_NOTCERT         3839\n",
       "FTE_teachers_count           3839\n",
       "SalaryforTeachers            3839\n",
       "Total_SAT_ACT_students       3839\n",
       "SCH_IBENR_IND_new            3839\n",
       "Total_IB_students            3839\n",
       "SCH_APENR_IND_new            3839\n",
       "SCH_APCOURSES                3839\n",
       "SCH_APOTHENR_IND_new         3839\n",
       "Total_AP_other_students      3839\n",
       "Total_students_tookAP        3839\n",
       "Income_Poverty_ratio          203\n",
       "IPR_SE                        203\n",
       "ALL_RLA00NUMVALID_1718       1705\n",
       "ALL_RLA00PCTPROF_1718_new    1705\n",
       "dtype: int64"
      ]
     },
     "execution_count": 65,
     "metadata": {},
     "output_type": "execute_result"
    }
   ],
   "source": [
    "null_columns=master_reading.columns[master_reading.isnull().any()]\n",
    "master_reading[null_columns].isnull().sum()"
   ]
  },
  {
   "cell_type": "code",
   "execution_count": 66,
   "metadata": {},
   "outputs": [],
   "source": [
    "master_reading_new = master_reading.dropna(axis = 0, how ='any') "
   ]
  },
  {
   "cell_type": "code",
   "execution_count": 67,
   "metadata": {},
   "outputs": [
    {
     "name": "stdout",
     "output_type": "stream",
     "text": [
      "Old data frame length: 19071\n",
      "New data frame length: 14509\n",
      "Number of rows with at least 1 NA value:  4562\n"
     ]
    }
   ],
   "source": [
    "print(\"Old data frame length:\", len(master_reading)) \n",
    "print(\"New data frame length:\", len(master_reading_new))  \n",
    "print(\"Number of rows with at least 1 NA value: \", \n",
    "      (len(master_reading)-len(master_reading_new))) "
   ]
  },
  {
   "cell_type": "code",
   "execution_count": 68,
   "metadata": {},
   "outputs": [
    {
     "data": {
      "text/plain": [
       "<matplotlib.axes._subplots.AxesSubplot at 0x1eed54e7da0>"
      ]
     },
     "execution_count": 68,
     "metadata": {},
     "output_type": "execute_result"
    },
    {
     "data": {
      "image/png": "[encoded data removed]",
      "text/plain": [
       "<Figure size 432x288 with 2 Axes>"
      ]
     },
     "metadata": {
      "needs_background": "light"
     },
     "output_type": "display_data"
    }
   ],
   "source": [
    "sns.heatmap(master_reading_new.isnull(),yticklabels=False,cbar=True,cmap='viridis')"
   ]
  },
  {
   "cell_type": "code",
   "execution_count": 69,
   "metadata": {},
   "outputs": [
    {
     "data": {
      "text/html": [
       "<div>\n",
       "<style scoped>\n",
       "    .dataframe tbody tr th:only-of-type {\n",
       "        vertical-align: middle;\n",
       "    }\n",
       "\n",
       "    .dataframe tbody tr th {\n",
       "        vertical-align: top;\n",
       "    }\n",
       "\n",
       "    .dataframe thead th {\n",
       "        text-align: right;\n",
       "    }\n",
       "</style>\n",
       "<table border=\"1\" class=\"dataframe\">\n",
       "  <thead>\n",
       "    <tr style=\"text-align: right;\">\n",
       "      <th></th>\n",
       "      <th>SCH_TYPE_x</th>\n",
       "      <th>TEACHERS</th>\n",
       "      <th>FARMS_COUNT</th>\n",
       "      <th>Special_ed_schl_new</th>\n",
       "      <th>Magnet_schl_new</th>\n",
       "      <th>Charter_Schl_new</th>\n",
       "      <th>Alternate_schl_new</th>\n",
       "      <th>Total_enroll_students</th>\n",
       "      <th>SCH_FTETEACH_TOT</th>\n",
       "      <th>SCH_FTETEACH_CERT</th>\n",
       "      <th>...</th>\n",
       "      <th>Total_IB_students</th>\n",
       "      <th>SCH_APENR_IND_new</th>\n",
       "      <th>SCH_APCOURSES</th>\n",
       "      <th>SCH_APOTHENR_IND_new</th>\n",
       "      <th>Total_AP_other_students</th>\n",
       "      <th>Total_students_tookAP</th>\n",
       "      <th>Income_Poverty_ratio</th>\n",
       "      <th>IPR_SE</th>\n",
       "      <th>ALL_RLA00NUMVALID_1718</th>\n",
       "      <th>ALL_RLA00PCTPROF_1718_new</th>\n",
       "    </tr>\n",
       "  </thead>\n",
       "  <tbody>\n",
       "    <tr>\n",
       "      <th>count</th>\n",
       "      <td>14509.000000</td>\n",
       "      <td>14509.000000</td>\n",
       "      <td>14509.000000</td>\n",
       "      <td>14509.000000</td>\n",
       "      <td>14509.000000</td>\n",
       "      <td>14509.000000</td>\n",
       "      <td>14509.000000</td>\n",
       "      <td>14509.000000</td>\n",
       "      <td>14509.000000</td>\n",
       "      <td>14509.000000</td>\n",
       "      <td>...</td>\n",
       "      <td>14509.000000</td>\n",
       "      <td>14509.000000</td>\n",
       "      <td>14509.000000</td>\n",
       "      <td>14509.000000</td>\n",
       "      <td>14509.000000</td>\n",
       "      <td>14509.000000</td>\n",
       "      <td>14509.000000</td>\n",
       "      <td>14509.000000</td>\n",
       "      <td>14509.000000</td>\n",
       "      <td>14509.000000</td>\n",
       "    </tr>\n",
       "    <tr>\n",
       "      <th>mean</th>\n",
       "      <td>1.178579</td>\n",
       "      <td>50.601444</td>\n",
       "      <td>389.402302</td>\n",
       "      <td>0.004825</td>\n",
       "      <td>0.062375</td>\n",
       "      <td>0.051210</td>\n",
       "      <td>0.044731</td>\n",
       "      <td>845.520573</td>\n",
       "      <td>52.655853</td>\n",
       "      <td>51.242593</td>\n",
       "      <td>...</td>\n",
       "      <td>10.200634</td>\n",
       "      <td>0.709215</td>\n",
       "      <td>7.896961</td>\n",
       "      <td>0.666207</td>\n",
       "      <td>145.882349</td>\n",
       "      <td>129.525536</td>\n",
       "      <td>296.387277</td>\n",
       "      <td>71.257289</td>\n",
       "      <td>252.738369</td>\n",
       "      <td>50.423565</td>\n",
       "    </tr>\n",
       "    <tr>\n",
       "      <th>std</th>\n",
       "      <td>0.699773</td>\n",
       "      <td>41.432127</td>\n",
       "      <td>436.971272</td>\n",
       "      <td>0.069294</td>\n",
       "      <td>0.241844</td>\n",
       "      <td>0.220433</td>\n",
       "      <td>0.206720</td>\n",
       "      <td>767.388779</td>\n",
       "      <td>42.687880</td>\n",
       "      <td>41.992283</td>\n",
       "      <td>...</td>\n",
       "      <td>64.120923</td>\n",
       "      <td>0.454140</td>\n",
       "      <td>8.544806</td>\n",
       "      <td>0.471583</td>\n",
       "      <td>231.414116</td>\n",
       "      <td>212.091000</td>\n",
       "      <td>141.133061</td>\n",
       "      <td>38.406440</td>\n",
       "      <td>255.391561</td>\n",
       "      <td>23.412326</td>\n",
       "    </tr>\n",
       "    <tr>\n",
       "      <th>min</th>\n",
       "      <td>1.000000</td>\n",
       "      <td>0.000000</td>\n",
       "      <td>0.000000</td>\n",
       "      <td>0.000000</td>\n",
       "      <td>0.000000</td>\n",
       "      <td>0.000000</td>\n",
       "      <td>0.000000</td>\n",
       "      <td>10.000000</td>\n",
       "      <td>1.100000</td>\n",
       "      <td>0.000000</td>\n",
       "      <td>...</td>\n",
       "      <td>-12.000000</td>\n",
       "      <td>0.000000</td>\n",
       "      <td>0.000000</td>\n",
       "      <td>0.000000</td>\n",
       "      <td>0.000000</td>\n",
       "      <td>-10.000000</td>\n",
       "      <td>48.000000</td>\n",
       "      <td>2.000000</td>\n",
       "      <td>6.000000</td>\n",
       "      <td>1.000000</td>\n",
       "    </tr>\n",
       "    <tr>\n",
       "      <th>25%</th>\n",
       "      <td>1.000000</td>\n",
       "      <td>18.910000</td>\n",
       "      <td>100.000000</td>\n",
       "      <td>0.000000</td>\n",
       "      <td>0.000000</td>\n",
       "      <td>0.000000</td>\n",
       "      <td>0.000000</td>\n",
       "      <td>256.000000</td>\n",
       "      <td>20.000000</td>\n",
       "      <td>19.000000</td>\n",
       "      <td>...</td>\n",
       "      <td>0.000000</td>\n",
       "      <td>0.000000</td>\n",
       "      <td>0.000000</td>\n",
       "      <td>0.000000</td>\n",
       "      <td>0.000000</td>\n",
       "      <td>0.000000</td>\n",
       "      <td>205.000000</td>\n",
       "      <td>42.000000</td>\n",
       "      <td>78.000000</td>\n",
       "      <td>34.000000</td>\n",
       "    </tr>\n",
       "    <tr>\n",
       "      <th>50%</th>\n",
       "      <td>1.000000</td>\n",
       "      <td>37.020000</td>\n",
       "      <td>227.000000</td>\n",
       "      <td>0.000000</td>\n",
       "      <td>0.000000</td>\n",
       "      <td>0.000000</td>\n",
       "      <td>0.000000</td>\n",
       "      <td>556.000000</td>\n",
       "      <td>39.000000</td>\n",
       "      <td>37.500000</td>\n",
       "      <td>...</td>\n",
       "      <td>0.000000</td>\n",
       "      <td>1.000000</td>\n",
       "      <td>5.000000</td>\n",
       "      <td>1.000000</td>\n",
       "      <td>40.000000</td>\n",
       "      <td>33.000000</td>\n",
       "      <td>265.000000</td>\n",
       "      <td>63.000000</td>\n",
       "      <td>169.000000</td>\n",
       "      <td>49.500000</td>\n",
       "    </tr>\n",
       "    <tr>\n",
       "      <th>75%</th>\n",
       "      <td>1.000000</td>\n",
       "      <td>74.610000</td>\n",
       "      <td>520.000000</td>\n",
       "      <td>0.000000</td>\n",
       "      <td>0.000000</td>\n",
       "      <td>0.000000</td>\n",
       "      <td>0.000000</td>\n",
       "      <td>1275.000000</td>\n",
       "      <td>77.000000</td>\n",
       "      <td>75.000000</td>\n",
       "      <td>...</td>\n",
       "      <td>0.000000</td>\n",
       "      <td>1.000000</td>\n",
       "      <td>13.000000</td>\n",
       "      <td>1.000000</td>\n",
       "      <td>201.000000</td>\n",
       "      <td>174.000000</td>\n",
       "      <td>346.000000</td>\n",
       "      <td>92.000000</td>\n",
       "      <td>346.000000</td>\n",
       "      <td>67.000000</td>\n",
       "    </tr>\n",
       "    <tr>\n",
       "      <th>max</th>\n",
       "      <td>4.000000</td>\n",
       "      <td>330.360000</td>\n",
       "      <td>4329.000000</td>\n",
       "      <td>1.000000</td>\n",
       "      <td>1.000000</td>\n",
       "      <td>1.000000</td>\n",
       "      <td>1.000000</td>\n",
       "      <td>4996.000000</td>\n",
       "      <td>396.000000</td>\n",
       "      <td>382.470000</td>\n",
       "      <td>...</td>\n",
       "      <td>1335.000000</td>\n",
       "      <td>1.000000</td>\n",
       "      <td>82.000000</td>\n",
       "      <td>1.000000</td>\n",
       "      <td>3173.000000</td>\n",
       "      <td>3162.000000</td>\n",
       "      <td>979.000000</td>\n",
       "      <td>330.000000</td>\n",
       "      <td>2484.000000</td>\n",
       "      <td>99.000000</td>\n",
       "    </tr>\n",
       "  </tbody>\n",
       "</table>\n",
       "<p>8 rows × 25 columns</p>\n",
       "</div>"
      ],
      "text/plain": [
       "         SCH_TYPE_x      TEACHERS   FARMS_COUNT  Special_ed_schl_new  \\\n",
       "count  14509.000000  14509.000000  14509.000000         14509.000000   \n",
       "mean       1.178579     50.601444    389.402302             0.004825   \n",
       "std        0.699773     41.432127    436.971272             0.069294   \n",
       "min        1.000000      0.000000      0.000000             0.000000   \n",
       "25%        1.000000     18.910000    100.000000             0.000000   \n",
       "50%        1.000000     37.020000    227.000000             0.000000   \n",
       "75%        1.000000     74.610000    520.000000             0.000000   \n",
       "max        4.000000    330.360000   4329.000000             1.000000   \n",
       "\n",
       "       Magnet_schl_new  Charter_Schl_new  Alternate_schl_new  \\\n",
       "count     14509.000000      14509.000000        14509.000000   \n",
       "mean          0.062375          0.051210            0.044731   \n",
       "std           0.241844          0.220433            0.206720   \n",
       "min           0.000000          0.000000            0.000000   \n",
       "25%           0.000000          0.000000            0.000000   \n",
       "50%           0.000000          0.000000            0.000000   \n",
       "75%           0.000000          0.000000            0.000000   \n",
       "max           1.000000          1.000000            1.000000   \n",
       "\n",
       "       Total_enroll_students  SCH_FTETEACH_TOT  SCH_FTETEACH_CERT  \\\n",
       "count           14509.000000      14509.000000       14509.000000   \n",
       "mean              845.520573         52.655853          51.242593   \n",
       "std               767.388779         42.687880          41.992283   \n",
       "min                10.000000          1.100000           0.000000   \n",
       "25%               256.000000         20.000000          19.000000   \n",
       "50%               556.000000         39.000000          37.500000   \n",
       "75%              1275.000000         77.000000          75.000000   \n",
       "max              4996.000000        396.000000         382.470000   \n",
       "\n",
       "                 ...              Total_IB_students  SCH_APENR_IND_new  \\\n",
       "count            ...                   14509.000000       14509.000000   \n",
       "mean             ...                      10.200634           0.709215   \n",
       "std              ...                      64.120923           0.454140   \n",
       "min              ...                     -12.000000           0.000000   \n",
       "25%              ...                       0.000000           0.000000   \n",
       "50%              ...                       0.000000           1.000000   \n",
       "75%              ...                       0.000000           1.000000   \n",
       "max              ...                    1335.000000           1.000000   \n",
       "\n",
       "       SCH_APCOURSES  SCH_APOTHENR_IND_new  Total_AP_other_students  \\\n",
       "count   14509.000000          14509.000000             14509.000000   \n",
       "mean        7.896961              0.666207               145.882349   \n",
       "std         8.544806              0.471583               231.414116   \n",
       "min         0.000000              0.000000                 0.000000   \n",
       "25%         0.000000              0.000000                 0.000000   \n",
       "50%         5.000000              1.000000                40.000000   \n",
       "75%        13.000000              1.000000               201.000000   \n",
       "max        82.000000              1.000000              3173.000000   \n",
       "\n",
       "       Total_students_tookAP  Income_Poverty_ratio        IPR_SE  \\\n",
       "count           14509.000000          14509.000000  14509.000000   \n",
       "mean              129.525536            296.387277     71.257289   \n",
       "std               212.091000            141.133061     38.406440   \n",
       "min               -10.000000             48.000000      2.000000   \n",
       "25%                 0.000000            205.000000     42.000000   \n",
       "50%                33.000000            265.000000     63.000000   \n",
       "75%               174.000000            346.000000     92.000000   \n",
       "max              3162.000000            979.000000    330.000000   \n",
       "\n",
       "       ALL_RLA00NUMVALID_1718  ALL_RLA00PCTPROF_1718_new  \n",
       "count            14509.000000               14509.000000  \n",
       "mean               252.738369                  50.423565  \n",
       "std                255.391561                  23.412326  \n",
       "min                  6.000000                   1.000000  \n",
       "25%                 78.000000                  34.000000  \n",
       "50%                169.000000                  49.500000  \n",
       "75%                346.000000                  67.000000  \n",
       "max               2484.000000                  99.000000  \n",
       "\n",
       "[8 rows x 25 columns]"
      ]
     },
     "execution_count": 69,
     "metadata": {},
     "output_type": "execute_result"
    }
   ],
   "source": [
    "master_reading_new.describe()"
   ]
  },
  {
   "cell_type": "code",
   "execution_count": 70,
   "metadata": {},
   "outputs": [
    {
     "data": {
      "text/plain": [
       "(14509, 33)"
      ]
     },
     "execution_count": 70,
     "metadata": {},
     "output_type": "execute_result"
    }
   ],
   "source": [
    "master_reading_new.shape"
   ]
  },
  {
   "cell_type": "code",
   "execution_count": 71,
   "metadata": {},
   "outputs": [],
   "source": [
    "master_reading_new.to_csv (r'/Users/dansa/Documents/GitHub/Phase1/Data/MASTER/Master_reading.csv', index = False, header=True)"
   ]
  }
 ],
 "metadata": {
  "kernelspec": {
   "display_name": "Python 3",
   "language": "python",
   "name": "python3"
  },
  "language_info": {
   "codemirror_mode": {
    "name": "ipython",
    "version": 3
   },
   "file_extension": ".py",
   "mimetype": "text/x-python",
   "name": "python",
   "nbconvert_exporter": "python",
   "pygments_lexer": "ipython3",
   "version": "3.7.1"
  }
 },
 "nbformat": 4,
 "nbformat_minor": 4
}
