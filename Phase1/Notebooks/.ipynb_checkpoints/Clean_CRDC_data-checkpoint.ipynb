{
 "cells": [
  {
   "cell_type": "markdown",
   "metadata": {},
   "source": [
    "## Phase 1: Clean up of CRDC data files"
   ]
  },
  {
   "cell_type": "code",
   "execution_count": 1,
   "metadata": {},
   "outputs": [],
   "source": [
    "import pandas\n",
    "pandas.__version__\n",
    "import numpy as np\n",
    "import matplotlib.pyplot as plt\n",
    "import seaborn as sns\n",
    "%matplotlib inline"
   ]
  },
  {
   "cell_type": "code",
   "execution_count": 2,
   "metadata": {},
   "outputs": [
    {
     "name": "stdout",
     "output_type": "stream",
     "text": [
      "/Users/dansari/Documents/GitHub/Identifying-features-to-predict-high-school-assessment-proficiency/Phase1/Data/CRDC\n"
     ]
    }
   ],
   "source": [
    "cd /Users/dansari/Documents/GitHub/Identifying-features-to-predict-high-school-assessment-proficiency/Phase1/Data/CRDC"
   ]
  },
  {
   "cell_type": "markdown",
   "metadata": {},
   "source": [
    "### Cleaning school characteristics file"
   ]
  },
  {
   "cell_type": "code",
   "execution_count": 3,
   "metadata": {},
   "outputs": [
    {
     "name": "stderr",
     "output_type": "stream",
     "text": [
      "/opt/anaconda3/lib/python3.8/site-packages/IPython/core/interactiveshell.py:3071: DtypeWarning: Columns (2,6) have mixed types.Specify dtype option on import or set low_memory=False.\n",
      "  has_raised = await self.run_ast_nodes(code_ast.body, cell_name,\n"
     ]
    },
    {
     "data": {
      "text/html": [
       "<div>\n",
       "<style scoped>\n",
       "    .dataframe tbody tr th:only-of-type {\n",
       "        vertical-align: middle;\n",
       "    }\n",
       "\n",
       "    .dataframe tbody tr th {\n",
       "        vertical-align: top;\n",
       "    }\n",
       "\n",
       "    .dataframe thead th {\n",
       "        text-align: right;\n",
       "    }\n",
       "</style>\n",
       "<table border=\"1\" class=\"dataframe\">\n",
       "  <thead>\n",
       "    <tr style=\"text-align: right;\">\n",
       "      <th></th>\n",
       "      <th>LEA_STATE</th>\n",
       "      <th>LEA_STATE_NAME</th>\n",
       "      <th>LEAID</th>\n",
       "      <th>LEA_NAME</th>\n",
       "      <th>SCHID</th>\n",
       "      <th>SCH_NAME</th>\n",
       "      <th>COMBOKEY</th>\n",
       "      <th>JJ</th>\n",
       "      <th>SCH_GRADE_PS</th>\n",
       "      <th>SCH_GRADE_KG</th>\n",
       "      <th>...</th>\n",
       "      <th>SCH_GRADE_UG</th>\n",
       "      <th>SCH_UGDETAIL_ES</th>\n",
       "      <th>SCH_UGDETAIL_MS</th>\n",
       "      <th>SCH_UGDETAIL_HS</th>\n",
       "      <th>SCH_STATUS_SPED</th>\n",
       "      <th>SCH_STATUS_MAGNET</th>\n",
       "      <th>SCH_STATUS_CHARTER</th>\n",
       "      <th>SCH_STATUS_ALT</th>\n",
       "      <th>SCH_MAGNETDETAIL</th>\n",
       "      <th>SCH_ALTFOCUS</th>\n",
       "    </tr>\n",
       "  </thead>\n",
       "  <tbody>\n",
       "    <tr>\n",
       "      <th>0</th>\n",
       "      <td>AL</td>\n",
       "      <td>ALABAMA</td>\n",
       "      <td>0100002</td>\n",
       "      <td>Alabama Youth Services</td>\n",
       "      <td>1705</td>\n",
       "      <td>Wallace Sch - Mt Meigs Campus</td>\n",
       "      <td>010000201705</td>\n",
       "      <td>Yes</td>\n",
       "      <td>No</td>\n",
       "      <td>No</td>\n",
       "      <td>...</td>\n",
       "      <td>Yes</td>\n",
       "      <td>-9</td>\n",
       "      <td>-9</td>\n",
       "      <td>-9</td>\n",
       "      <td>No</td>\n",
       "      <td>No</td>\n",
       "      <td>No</td>\n",
       "      <td>No</td>\n",
       "      <td>-9</td>\n",
       "      <td>-9</td>\n",
       "    </tr>\n",
       "    <tr>\n",
       "      <th>1</th>\n",
       "      <td>AL</td>\n",
       "      <td>ALABAMA</td>\n",
       "      <td>0100002</td>\n",
       "      <td>Alabama Youth Services</td>\n",
       "      <td>1706</td>\n",
       "      <td>McNeel Sch - Vacca Campus</td>\n",
       "      <td>010000201706</td>\n",
       "      <td>Yes</td>\n",
       "      <td>No</td>\n",
       "      <td>No</td>\n",
       "      <td>...</td>\n",
       "      <td>Yes</td>\n",
       "      <td>-9</td>\n",
       "      <td>-9</td>\n",
       "      <td>-9</td>\n",
       "      <td>No</td>\n",
       "      <td>No</td>\n",
       "      <td>No</td>\n",
       "      <td>No</td>\n",
       "      <td>-9</td>\n",
       "      <td>-9</td>\n",
       "    </tr>\n",
       "    <tr>\n",
       "      <th>2</th>\n",
       "      <td>AL</td>\n",
       "      <td>ALABAMA</td>\n",
       "      <td>0100002</td>\n",
       "      <td>Alabama Youth Services</td>\n",
       "      <td>1876</td>\n",
       "      <td>Alabama Youth Services</td>\n",
       "      <td>010000201876</td>\n",
       "      <td>No</td>\n",
       "      <td>No</td>\n",
       "      <td>No</td>\n",
       "      <td>...</td>\n",
       "      <td>Yes</td>\n",
       "      <td>-9</td>\n",
       "      <td>-9</td>\n",
       "      <td>-9</td>\n",
       "      <td>No</td>\n",
       "      <td>No</td>\n",
       "      <td>No</td>\n",
       "      <td>No</td>\n",
       "      <td>-9</td>\n",
       "      <td>-9</td>\n",
       "    </tr>\n",
       "    <tr>\n",
       "      <th>3</th>\n",
       "      <td>AL</td>\n",
       "      <td>ALABAMA</td>\n",
       "      <td>0100002</td>\n",
       "      <td>Alabama Youth Services</td>\n",
       "      <td>99995</td>\n",
       "      <td>AUTAUGA CAMPUS</td>\n",
       "      <td>010000299995</td>\n",
       "      <td>Yes</td>\n",
       "      <td>No</td>\n",
       "      <td>No</td>\n",
       "      <td>...</td>\n",
       "      <td>No</td>\n",
       "      <td>-9</td>\n",
       "      <td>-9</td>\n",
       "      <td>-9</td>\n",
       "      <td>No</td>\n",
       "      <td>No</td>\n",
       "      <td>No</td>\n",
       "      <td>No</td>\n",
       "      <td>-9</td>\n",
       "      <td>-9</td>\n",
       "    </tr>\n",
       "    <tr>\n",
       "      <th>4</th>\n",
       "      <td>AL</td>\n",
       "      <td>ALABAMA</td>\n",
       "      <td>0100005</td>\n",
       "      <td>Albertville City</td>\n",
       "      <td>870</td>\n",
       "      <td>Albertville Middle School</td>\n",
       "      <td>010000500870</td>\n",
       "      <td>No</td>\n",
       "      <td>No</td>\n",
       "      <td>No</td>\n",
       "      <td>...</td>\n",
       "      <td>No</td>\n",
       "      <td>-9</td>\n",
       "      <td>-9</td>\n",
       "      <td>-9</td>\n",
       "      <td>No</td>\n",
       "      <td>No</td>\n",
       "      <td>No</td>\n",
       "      <td>No</td>\n",
       "      <td>-9</td>\n",
       "      <td>-9</td>\n",
       "    </tr>\n",
       "  </tbody>\n",
       "</table>\n",
       "<p>5 rows × 32 columns</p>\n",
       "</div>"
      ],
      "text/plain": [
       "  LEA_STATE LEA_STATE_NAME    LEAID                LEA_NAME  SCHID  \\\n",
       "0        AL        ALABAMA  0100002  Alabama Youth Services   1705   \n",
       "1        AL        ALABAMA  0100002  Alabama Youth Services   1706   \n",
       "2        AL        ALABAMA  0100002  Alabama Youth Services   1876   \n",
       "3        AL        ALABAMA  0100002  Alabama Youth Services  99995   \n",
       "4        AL        ALABAMA  0100005        Albertville City    870   \n",
       "\n",
       "                        SCH_NAME      COMBOKEY   JJ SCH_GRADE_PS SCH_GRADE_KG  \\\n",
       "0  Wallace Sch - Mt Meigs Campus  010000201705  Yes           No           No   \n",
       "1      McNeel Sch - Vacca Campus  010000201706  Yes           No           No   \n",
       "2         Alabama Youth Services  010000201876   No           No           No   \n",
       "3                 AUTAUGA CAMPUS  010000299995  Yes           No           No   \n",
       "4      Albertville Middle School  010000500870   No           No           No   \n",
       "\n",
       "   ... SCH_GRADE_UG SCH_UGDETAIL_ES SCH_UGDETAIL_MS SCH_UGDETAIL_HS  \\\n",
       "0  ...          Yes              -9              -9              -9   \n",
       "1  ...          Yes              -9              -9              -9   \n",
       "2  ...          Yes              -9              -9              -9   \n",
       "3  ...           No              -9              -9              -9   \n",
       "4  ...           No              -9              -9              -9   \n",
       "\n",
       "  SCH_STATUS_SPED SCH_STATUS_MAGNET SCH_STATUS_CHARTER SCH_STATUS_ALT  \\\n",
       "0              No                No                 No             No   \n",
       "1              No                No                 No             No   \n",
       "2              No                No                 No             No   \n",
       "3              No                No                 No             No   \n",
       "4              No                No                 No             No   \n",
       "\n",
       "  SCH_MAGNETDETAIL SCH_ALTFOCUS  \n",
       "0               -9           -9  \n",
       "1               -9           -9  \n",
       "2               -9           -9  \n",
       "3               -9           -9  \n",
       "4               -9           -9  \n",
       "\n",
       "[5 rows x 32 columns]"
      ]
     },
     "execution_count": 3,
     "metadata": {},
     "output_type": "execute_result"
    }
   ],
   "source": [
    "Sch_char = pandas.read_csv(\"School Characteristics.csv\",encoding='cp1252')\n",
    "Sch_char.head()"
   ]
  },
  {
   "cell_type": "code",
   "execution_count": 4,
   "metadata": {},
   "outputs": [],
   "source": [
    "Sch_char['SCHID'] = Sch_char['SCHID'].apply(lambda x: '{0:0>5}'.format(x))"
   ]
  },
  {
   "cell_type": "code",
   "execution_count": 5,
   "metadata": {},
   "outputs": [],
   "source": [
    "Sch_char['LEAID'] = Sch_char['LEAID'].apply(lambda x: '{0:0>7}'.format(x))"
   ]
  },
  {
   "cell_type": "code",
   "execution_count": 6,
   "metadata": {},
   "outputs": [
    {
     "data": {
      "text/plain": [
       "Index(['LEA_STATE', 'LEA_STATE_NAME', 'LEAID', 'LEA_NAME', 'SCHID', 'SCH_NAME',\n",
       "       'COMBOKEY', 'JJ', 'SCH_GRADE_PS', 'SCH_GRADE_KG', 'SCH_GRADE_G01',\n",
       "       'SCH_GRADE_G02', 'SCH_GRADE_G03', 'SCH_GRADE_G04', 'SCH_GRADE_G05',\n",
       "       'SCH_GRADE_G06', 'SCH_GRADE_G07', 'SCH_GRADE_G08', 'SCH_GRADE_G09',\n",
       "       'SCH_GRADE_G10', 'SCH_GRADE_G11', 'SCH_GRADE_G12', 'SCH_GRADE_UG',\n",
       "       'SCH_UGDETAIL_ES', 'SCH_UGDETAIL_MS', 'SCH_UGDETAIL_HS',\n",
       "       'SCH_STATUS_SPED', 'SCH_STATUS_MAGNET', 'SCH_STATUS_CHARTER',\n",
       "       'SCH_STATUS_ALT', 'SCH_MAGNETDETAIL', 'SCH_ALTFOCUS'],\n",
       "      dtype='object')"
      ]
     },
     "execution_count": 6,
     "metadata": {},
     "output_type": "execute_result"
    }
   ],
   "source": [
    "Sch_char.columns"
   ]
  },
  {
   "cell_type": "code",
   "execution_count": 7,
   "metadata": {},
   "outputs": [],
   "source": [
    "Sch_char.drop(Sch_char.columns[[7,8,9,10,11,12,13,14,15,16,17,18,19,20,21,22,23,24,25,30,31]], axis=1, inplace=True)"
   ]
  },
  {
   "cell_type": "code",
   "execution_count": 8,
   "metadata": {},
   "outputs": [
    {
     "data": {
      "text/plain": [
       "(97632, 11)"
      ]
     },
     "execution_count": 8,
     "metadata": {},
     "output_type": "execute_result"
    }
   ],
   "source": [
    "Sch_char.shape"
   ]
  },
  {
   "cell_type": "code",
   "execution_count": 9,
   "metadata": {},
   "outputs": [],
   "source": [
    "#Sch_char.head()"
   ]
  },
  {
   "cell_type": "code",
   "execution_count": 10,
   "metadata": {},
   "outputs": [],
   "source": [
    "cols = ['LEAID', 'SCHID']\n",
    "Sch_char['NCESSCH'] = Sch_char[cols].apply(lambda row: ''.join(row.values.astype(str)), axis=1)"
   ]
  },
  {
   "cell_type": "code",
   "execution_count": 11,
   "metadata": {},
   "outputs": [
    {
     "data": {
      "text/plain": [
       "True"
      ]
     },
     "execution_count": 11,
     "metadata": {},
     "output_type": "execute_result"
    }
   ],
   "source": [
    "Sch_char['NCESSCH'].is_unique"
   ]
  },
  {
   "cell_type": "code",
   "execution_count": 12,
   "metadata": {},
   "outputs": [],
   "source": [
    "Sch_char.rename(columns={'SCH_STATUS_SPED':'Special_ed_schl','SCH_STATUS_MAGNET':'Magnet_schl','SCH_STATUS_CHARTER':'Charter_Schl','SCH_STATUS_ALT':'Alternate_schl'}, inplace=True)"
   ]
  },
  {
   "cell_type": "code",
   "execution_count": 13,
   "metadata": {},
   "outputs": [
    {
     "data": {
      "text/html": [
       "<div>\n",
       "<style scoped>\n",
       "    .dataframe tbody tr th:only-of-type {\n",
       "        vertical-align: middle;\n",
       "    }\n",
       "\n",
       "    .dataframe tbody tr th {\n",
       "        vertical-align: top;\n",
       "    }\n",
       "\n",
       "    .dataframe thead th {\n",
       "        text-align: right;\n",
       "    }\n",
       "</style>\n",
       "<table border=\"1\" class=\"dataframe\">\n",
       "  <thead>\n",
       "    <tr style=\"text-align: right;\">\n",
       "      <th></th>\n",
       "      <th>LEA_STATE</th>\n",
       "      <th>LEA_STATE_NAME</th>\n",
       "      <th>LEAID</th>\n",
       "      <th>LEA_NAME</th>\n",
       "      <th>SCHID</th>\n",
       "      <th>SCH_NAME</th>\n",
       "      <th>COMBOKEY</th>\n",
       "      <th>Special_ed_schl</th>\n",
       "      <th>Magnet_schl</th>\n",
       "      <th>Charter_Schl</th>\n",
       "      <th>Alternate_schl</th>\n",
       "      <th>NCESSCH</th>\n",
       "    </tr>\n",
       "  </thead>\n",
       "  <tbody>\n",
       "    <tr>\n",
       "      <th>0</th>\n",
       "      <td>AL</td>\n",
       "      <td>ALABAMA</td>\n",
       "      <td>0100002</td>\n",
       "      <td>Alabama Youth Services</td>\n",
       "      <td>01705</td>\n",
       "      <td>Wallace Sch - Mt Meigs Campus</td>\n",
       "      <td>010000201705</td>\n",
       "      <td>No</td>\n",
       "      <td>No</td>\n",
       "      <td>No</td>\n",
       "      <td>No</td>\n",
       "      <td>010000201705</td>\n",
       "    </tr>\n",
       "    <tr>\n",
       "      <th>1</th>\n",
       "      <td>AL</td>\n",
       "      <td>ALABAMA</td>\n",
       "      <td>0100002</td>\n",
       "      <td>Alabama Youth Services</td>\n",
       "      <td>01706</td>\n",
       "      <td>McNeel Sch - Vacca Campus</td>\n",
       "      <td>010000201706</td>\n",
       "      <td>No</td>\n",
       "      <td>No</td>\n",
       "      <td>No</td>\n",
       "      <td>No</td>\n",
       "      <td>010000201706</td>\n",
       "    </tr>\n",
       "    <tr>\n",
       "      <th>2</th>\n",
       "      <td>AL</td>\n",
       "      <td>ALABAMA</td>\n",
       "      <td>0100002</td>\n",
       "      <td>Alabama Youth Services</td>\n",
       "      <td>01876</td>\n",
       "      <td>Alabama Youth Services</td>\n",
       "      <td>010000201876</td>\n",
       "      <td>No</td>\n",
       "      <td>No</td>\n",
       "      <td>No</td>\n",
       "      <td>No</td>\n",
       "      <td>010000201876</td>\n",
       "    </tr>\n",
       "    <tr>\n",
       "      <th>3</th>\n",
       "      <td>AL</td>\n",
       "      <td>ALABAMA</td>\n",
       "      <td>0100002</td>\n",
       "      <td>Alabama Youth Services</td>\n",
       "      <td>99995</td>\n",
       "      <td>AUTAUGA CAMPUS</td>\n",
       "      <td>010000299995</td>\n",
       "      <td>No</td>\n",
       "      <td>No</td>\n",
       "      <td>No</td>\n",
       "      <td>No</td>\n",
       "      <td>010000299995</td>\n",
       "    </tr>\n",
       "    <tr>\n",
       "      <th>4</th>\n",
       "      <td>AL</td>\n",
       "      <td>ALABAMA</td>\n",
       "      <td>0100005</td>\n",
       "      <td>Albertville City</td>\n",
       "      <td>00870</td>\n",
       "      <td>Albertville Middle School</td>\n",
       "      <td>010000500870</td>\n",
       "      <td>No</td>\n",
       "      <td>No</td>\n",
       "      <td>No</td>\n",
       "      <td>No</td>\n",
       "      <td>010000500870</td>\n",
       "    </tr>\n",
       "  </tbody>\n",
       "</table>\n",
       "</div>"
      ],
      "text/plain": [
       "  LEA_STATE LEA_STATE_NAME    LEAID                LEA_NAME  SCHID  \\\n",
       "0        AL        ALABAMA  0100002  Alabama Youth Services  01705   \n",
       "1        AL        ALABAMA  0100002  Alabama Youth Services  01706   \n",
       "2        AL        ALABAMA  0100002  Alabama Youth Services  01876   \n",
       "3        AL        ALABAMA  0100002  Alabama Youth Services  99995   \n",
       "4        AL        ALABAMA  0100005        Albertville City  00870   \n",
       "\n",
       "                        SCH_NAME      COMBOKEY Special_ed_schl Magnet_schl  \\\n",
       "0  Wallace Sch - Mt Meigs Campus  010000201705              No          No   \n",
       "1      McNeel Sch - Vacca Campus  010000201706              No          No   \n",
       "2         Alabama Youth Services  010000201876              No          No   \n",
       "3                 AUTAUGA CAMPUS  010000299995              No          No   \n",
       "4      Albertville Middle School  010000500870              No          No   \n",
       "\n",
       "  Charter_Schl Alternate_schl       NCESSCH  \n",
       "0           No             No  010000201705  \n",
       "1           No             No  010000201706  \n",
       "2           No             No  010000201876  \n",
       "3           No             No  010000299995  \n",
       "4           No             No  010000500870  "
      ]
     },
     "execution_count": 13,
     "metadata": {},
     "output_type": "execute_result"
    }
   ],
   "source": [
    "Sch_char.head()"
   ]
  },
  {
   "cell_type": "code",
   "execution_count": 14,
   "metadata": {},
   "outputs": [
    {
     "name": "stdout",
     "output_type": "stream",
     "text": [
      "No     90583\n",
      "Yes     7049\n",
      "Name: Charter_Schl, dtype: int64\n"
     ]
    }
   ],
   "source": [
    "count = Sch_char['Charter_Schl'].value_counts() \n",
    "print(count) "
   ]
  },
  {
   "cell_type": "code",
   "execution_count": 15,
   "metadata": {},
   "outputs": [],
   "source": [
    "Sch_char['Special_ed_schl_new'] = Sch_char['Special_ed_schl'].replace(['Yes','No'],['1','0'])"
   ]
  },
  {
   "cell_type": "code",
   "execution_count": 16,
   "metadata": {},
   "outputs": [],
   "source": [
    "Sch_char['Magnet_schl_new'] = Sch_char['Magnet_schl'].replace(['Yes','No'],['1','0'])"
   ]
  },
  {
   "cell_type": "code",
   "execution_count": 17,
   "metadata": {},
   "outputs": [],
   "source": [
    "Sch_char['Charter_Schl_new'] = Sch_char['Charter_Schl'].replace(['Yes','No'],['1','0'])"
   ]
  },
  {
   "cell_type": "code",
   "execution_count": 18,
   "metadata": {},
   "outputs": [],
   "source": [
    "Sch_char['Alternate_schl_new'] = Sch_char['Alternate_schl'].replace(['Yes','No'],['1','0'])"
   ]
  },
  {
   "cell_type": "code",
   "execution_count": 19,
   "metadata": {},
   "outputs": [],
   "source": [
    "Sch_char[['Special_ed_schl_new', 'Magnet_schl_new','Charter_Schl_new','Alternate_schl_new']] = Sch_char[['Special_ed_schl_new', 'Magnet_schl_new','Charter_Schl_new','Alternate_schl_new']].astype(int)"
   ]
  },
  {
   "cell_type": "code",
   "execution_count": 20,
   "metadata": {},
   "outputs": [
    {
     "data": {
      "text/plain": [
       "<matplotlib.axes._subplots.AxesSubplot at 0x7f8f04669250>"
      ]
     },
     "execution_count": 20,
     "metadata": {},
     "output_type": "execute_result"
    },
    {
     "data": {
      "image/png": "[encoded data removed]",
      "text/plain": [
       "<Figure size 432x288 with 2 Axes>"
      ]
     },
     "metadata": {
      "needs_background": "light"
     },
     "output_type": "display_data"
    }
   ],
   "source": [
    "sns.heatmap(Sch_char.isnull(),yticklabels=False,cbar=True,cmap='viridis')"
   ]
  },
  {
   "cell_type": "code",
   "execution_count": 21,
   "metadata": {},
   "outputs": [
    {
     "data": {
      "text/html": [
       "<div>\n",
       "<style scoped>\n",
       "    .dataframe tbody tr th:only-of-type {\n",
       "        vertical-align: middle;\n",
       "    }\n",
       "\n",
       "    .dataframe tbody tr th {\n",
       "        vertical-align: top;\n",
       "    }\n",
       "\n",
       "    .dataframe thead th {\n",
       "        text-align: right;\n",
       "    }\n",
       "</style>\n",
       "<table border=\"1\" class=\"dataframe\">\n",
       "  <thead>\n",
       "    <tr style=\"text-align: right;\">\n",
       "      <th></th>\n",
       "      <th>Special_ed_schl_new</th>\n",
       "      <th>Magnet_schl_new</th>\n",
       "      <th>Charter_Schl_new</th>\n",
       "      <th>Alternate_schl_new</th>\n",
       "    </tr>\n",
       "  </thead>\n",
       "  <tbody>\n",
       "    <tr>\n",
       "      <th>count</th>\n",
       "      <td>97632.000000</td>\n",
       "      <td>97632.000000</td>\n",
       "      <td>97632.00000</td>\n",
       "      <td>97632.000000</td>\n",
       "    </tr>\n",
       "    <tr>\n",
       "      <th>mean</th>\n",
       "      <td>0.022646</td>\n",
       "      <td>0.042230</td>\n",
       "      <td>0.07220</td>\n",
       "      <td>0.034241</td>\n",
       "    </tr>\n",
       "    <tr>\n",
       "      <th>std</th>\n",
       "      <td>0.148774</td>\n",
       "      <td>0.201115</td>\n",
       "      <td>0.25882</td>\n",
       "      <td>0.181848</td>\n",
       "    </tr>\n",
       "    <tr>\n",
       "      <th>min</th>\n",
       "      <td>0.000000</td>\n",
       "      <td>0.000000</td>\n",
       "      <td>0.00000</td>\n",
       "      <td>0.000000</td>\n",
       "    </tr>\n",
       "    <tr>\n",
       "      <th>25%</th>\n",
       "      <td>0.000000</td>\n",
       "      <td>0.000000</td>\n",
       "      <td>0.00000</td>\n",
       "      <td>0.000000</td>\n",
       "    </tr>\n",
       "    <tr>\n",
       "      <th>50%</th>\n",
       "      <td>0.000000</td>\n",
       "      <td>0.000000</td>\n",
       "      <td>0.00000</td>\n",
       "      <td>0.000000</td>\n",
       "    </tr>\n",
       "    <tr>\n",
       "      <th>75%</th>\n",
       "      <td>0.000000</td>\n",
       "      <td>0.000000</td>\n",
       "      <td>0.00000</td>\n",
       "      <td>0.000000</td>\n",
       "    </tr>\n",
       "    <tr>\n",
       "      <th>max</th>\n",
       "      <td>1.000000</td>\n",
       "      <td>1.000000</td>\n",
       "      <td>1.00000</td>\n",
       "      <td>1.000000</td>\n",
       "    </tr>\n",
       "  </tbody>\n",
       "</table>\n",
       "</div>"
      ],
      "text/plain": [
       "       Special_ed_schl_new  Magnet_schl_new  Charter_Schl_new  \\\n",
       "count         97632.000000     97632.000000       97632.00000   \n",
       "mean              0.022646         0.042230           0.07220   \n",
       "std               0.148774         0.201115           0.25882   \n",
       "min               0.000000         0.000000           0.00000   \n",
       "25%               0.000000         0.000000           0.00000   \n",
       "50%               0.000000         0.000000           0.00000   \n",
       "75%               0.000000         0.000000           0.00000   \n",
       "max               1.000000         1.000000           1.00000   \n",
       "\n",
       "       Alternate_schl_new  \n",
       "count        97632.000000  \n",
       "mean             0.034241  \n",
       "std              0.181848  \n",
       "min              0.000000  \n",
       "25%              0.000000  \n",
       "50%              0.000000  \n",
       "75%              0.000000  \n",
       "max              1.000000  "
      ]
     },
     "execution_count": 21,
     "metadata": {},
     "output_type": "execute_result"
    }
   ],
   "source": [
    "Sch_char.describe()"
   ]
  },
  {
   "cell_type": "code",
   "execution_count": 22,
   "metadata": {},
   "outputs": [],
   "source": [
    "Sch_char.to_csv (r'/Users/dansari/Documents/GitHub/Identifying-features-to-predict-high-school-assessment-proficiency/Phase1/Data/CRDC/Clean_crdc_schlcharacteristics.csv', index = False, header=True)"
   ]
  },
  {
   "cell_type": "markdown",
   "metadata": {},
   "source": [
    "### Cleaning school expenditure file"
   ]
  },
  {
   "cell_type": "code",
   "execution_count": 23,
   "metadata": {},
   "outputs": [
    {
     "data": {
      "text/html": [
       "<div>\n",
       "<style scoped>\n",
       "    .dataframe tbody tr th:only-of-type {\n",
       "        vertical-align: middle;\n",
       "    }\n",
       "\n",
       "    .dataframe tbody tr th {\n",
       "        vertical-align: top;\n",
       "    }\n",
       "\n",
       "    .dataframe thead th {\n",
       "        text-align: right;\n",
       "    }\n",
       "</style>\n",
       "<table border=\"1\" class=\"dataframe\">\n",
       "  <thead>\n",
       "    <tr style=\"text-align: right;\">\n",
       "      <th></th>\n",
       "      <th>LEA_STATE</th>\n",
       "      <th>LEA_STATE_NAME</th>\n",
       "      <th>LEAID</th>\n",
       "      <th>LEA_NAME</th>\n",
       "      <th>SCHID</th>\n",
       "      <th>SCH_NAME</th>\n",
       "      <th>COMBOKEY</th>\n",
       "      <th>JJ</th>\n",
       "      <th>SCH_SAL_TOTPERS_WOFED</th>\n",
       "      <th>SCH_FTE_TEACH_WOFED</th>\n",
       "      <th>...</th>\n",
       "      <th>SCH_SAL_ADM_WOFED</th>\n",
       "      <th>SCH_SAL_TEACH_WFED</th>\n",
       "      <th>SCH_FTE_AID_WFED</th>\n",
       "      <th>SCH_SAL_AID_WFED</th>\n",
       "      <th>SCH_FTE_SUP_WFED</th>\n",
       "      <th>SCH_SAL_SUP_WFED</th>\n",
       "      <th>SCH_FTE_ADM_WFED</th>\n",
       "      <th>SCH_SAL_ADM_WFED</th>\n",
       "      <th>SCH_SAL_TOTPERS_WFED</th>\n",
       "      <th>SCH_NPE_WFED</th>\n",
       "    </tr>\n",
       "  </thead>\n",
       "  <tbody>\n",
       "    <tr>\n",
       "      <th>97627</th>\n",
       "      <td>PR</td>\n",
       "      <td>PUERTO RICO</td>\n",
       "      <td>7200030</td>\n",
       "      <td>PUERTO RICO DEPARTMENT OF EDUCATION</td>\n",
       "      <td>2079</td>\n",
       "      <td>SEVERO E. COLBERG RAMIREZ</td>\n",
       "      <td>720003002079</td>\n",
       "      <td>No</td>\n",
       "      <td>0.0</td>\n",
       "      <td>0.0</td>\n",
       "      <td>...</td>\n",
       "      <td>-9.0</td>\n",
       "      <td>1373160.0</td>\n",
       "      <td>0.0</td>\n",
       "      <td>0.0</td>\n",
       "      <td>0.0</td>\n",
       "      <td>0.0</td>\n",
       "      <td>0.0</td>\n",
       "      <td>0.0</td>\n",
       "      <td>0.0</td>\n",
       "      <td>0.0</td>\n",
       "    </tr>\n",
       "    <tr>\n",
       "      <th>97628</th>\n",
       "      <td>PR</td>\n",
       "      <td>PUERTO RICO</td>\n",
       "      <td>7200030</td>\n",
       "      <td>PUERTO RICO DEPARTMENT OF EDUCATION</td>\n",
       "      <td>2082</td>\n",
       "      <td>INTERMEDIA JUAN SERRALLES</td>\n",
       "      <td>720003002082</td>\n",
       "      <td>No</td>\n",
       "      <td>0.0</td>\n",
       "      <td>0.0</td>\n",
       "      <td>...</td>\n",
       "      <td>-9.0</td>\n",
       "      <td>676944.0</td>\n",
       "      <td>0.0</td>\n",
       "      <td>0.0</td>\n",
       "      <td>0.0</td>\n",
       "      <td>0.0</td>\n",
       "      <td>0.0</td>\n",
       "      <td>0.0</td>\n",
       "      <td>0.0</td>\n",
       "      <td>0.0</td>\n",
       "    </tr>\n",
       "    <tr>\n",
       "      <th>97629</th>\n",
       "      <td>PR</td>\n",
       "      <td>PUERTO RICO</td>\n",
       "      <td>7200030</td>\n",
       "      <td>PUERTO RICO DEPARTMENT OF EDUCATION</td>\n",
       "      <td>2083</td>\n",
       "      <td>MARTIN GONZALEZ</td>\n",
       "      <td>720003002083</td>\n",
       "      <td>No</td>\n",
       "      <td>0.0</td>\n",
       "      <td>0.0</td>\n",
       "      <td>...</td>\n",
       "      <td>-9.0</td>\n",
       "      <td>393570.0</td>\n",
       "      <td>0.0</td>\n",
       "      <td>0.0</td>\n",
       "      <td>0.0</td>\n",
       "      <td>0.0</td>\n",
       "      <td>0.0</td>\n",
       "      <td>0.0</td>\n",
       "      <td>0.0</td>\n",
       "      <td>0.0</td>\n",
       "    </tr>\n",
       "    <tr>\n",
       "      <th>97630</th>\n",
       "      <td>PR</td>\n",
       "      <td>PUERTO RICO</td>\n",
       "      <td>7200030</td>\n",
       "      <td>PUERTO RICO DEPARTMENT OF EDUCATION</td>\n",
       "      <td>2084</td>\n",
       "      <td>NEMESIO R. CANALES I</td>\n",
       "      <td>720003002084</td>\n",
       "      <td>No</td>\n",
       "      <td>0.0</td>\n",
       "      <td>0.0</td>\n",
       "      <td>...</td>\n",
       "      <td>-9.0</td>\n",
       "      <td>638940.0</td>\n",
       "      <td>0.0</td>\n",
       "      <td>0.0</td>\n",
       "      <td>0.0</td>\n",
       "      <td>0.0</td>\n",
       "      <td>0.0</td>\n",
       "      <td>0.0</td>\n",
       "      <td>0.0</td>\n",
       "      <td>0.0</td>\n",
       "    </tr>\n",
       "    <tr>\n",
       "      <th>97631</th>\n",
       "      <td>PR</td>\n",
       "      <td>PUERTO RICO</td>\n",
       "      <td>7200030</td>\n",
       "      <td>PUERTO RICO DEPARTMENT OF EDUCATION</td>\n",
       "      <td>2085</td>\n",
       "      <td>JUAN QUIRINDONGO MORELL (SUPERIOR)</td>\n",
       "      <td>720003002085</td>\n",
       "      <td>No</td>\n",
       "      <td>0.0</td>\n",
       "      <td>0.0</td>\n",
       "      <td>...</td>\n",
       "      <td>-9.0</td>\n",
       "      <td>941550.0</td>\n",
       "      <td>0.0</td>\n",
       "      <td>0.0</td>\n",
       "      <td>0.0</td>\n",
       "      <td>0.0</td>\n",
       "      <td>0.0</td>\n",
       "      <td>0.0</td>\n",
       "      <td>0.0</td>\n",
       "      <td>0.0</td>\n",
       "    </tr>\n",
       "  </tbody>\n",
       "</table>\n",
       "<p>5 rows × 27 columns</p>\n",
       "</div>"
      ],
      "text/plain": [
       "      LEA_STATE LEA_STATE_NAME    LEAID                             LEA_NAME  \\\n",
       "97627        PR    PUERTO RICO  7200030  PUERTO RICO DEPARTMENT OF EDUCATION   \n",
       "97628        PR    PUERTO RICO  7200030  PUERTO RICO DEPARTMENT OF EDUCATION   \n",
       "97629        PR    PUERTO RICO  7200030  PUERTO RICO DEPARTMENT OF EDUCATION   \n",
       "97630        PR    PUERTO RICO  7200030  PUERTO RICO DEPARTMENT OF EDUCATION   \n",
       "97631        PR    PUERTO RICO  7200030  PUERTO RICO DEPARTMENT OF EDUCATION   \n",
       "\n",
       "       SCHID                            SCH_NAME      COMBOKEY  JJ  \\\n",
       "97627   2079           SEVERO E. COLBERG RAMIREZ  720003002079  No   \n",
       "97628   2082           INTERMEDIA JUAN SERRALLES  720003002082  No   \n",
       "97629   2083                     MARTIN GONZALEZ  720003002083  No   \n",
       "97630   2084                NEMESIO R. CANALES I  720003002084  No   \n",
       "97631   2085  JUAN QUIRINDONGO MORELL (SUPERIOR)  720003002085  No   \n",
       "\n",
       "       SCH_SAL_TOTPERS_WOFED  SCH_FTE_TEACH_WOFED  ...  SCH_SAL_ADM_WOFED  \\\n",
       "97627                    0.0                  0.0  ...               -9.0   \n",
       "97628                    0.0                  0.0  ...               -9.0   \n",
       "97629                    0.0                  0.0  ...               -9.0   \n",
       "97630                    0.0                  0.0  ...               -9.0   \n",
       "97631                    0.0                  0.0  ...               -9.0   \n",
       "\n",
       "       SCH_SAL_TEACH_WFED  SCH_FTE_AID_WFED  SCH_SAL_AID_WFED  \\\n",
       "97627           1373160.0               0.0               0.0   \n",
       "97628            676944.0               0.0               0.0   \n",
       "97629            393570.0               0.0               0.0   \n",
       "97630            638940.0               0.0               0.0   \n",
       "97631            941550.0               0.0               0.0   \n",
       "\n",
       "       SCH_FTE_SUP_WFED  SCH_SAL_SUP_WFED  SCH_FTE_ADM_WFED  SCH_SAL_ADM_WFED  \\\n",
       "97627               0.0               0.0               0.0               0.0   \n",
       "97628               0.0               0.0               0.0               0.0   \n",
       "97629               0.0               0.0               0.0               0.0   \n",
       "97630               0.0               0.0               0.0               0.0   \n",
       "97631               0.0               0.0               0.0               0.0   \n",
       "\n",
       "       SCH_SAL_TOTPERS_WFED  SCH_NPE_WFED  \n",
       "97627                   0.0           0.0  \n",
       "97628                   0.0           0.0  \n",
       "97629                   0.0           0.0  \n",
       "97630                   0.0           0.0  \n",
       "97631                   0.0           0.0  \n",
       "\n",
       "[5 rows x 27 columns]"
      ]
     },
     "execution_count": 23,
     "metadata": {},
     "output_type": "execute_result"
    }
   ],
   "source": [
    "Sch_exp = pandas.read_csv(\"School Expenditures.csv\", encoding='cp1252')\n",
    "Sch_exp.tail()"
   ]
  },
  {
   "cell_type": "code",
   "execution_count": 24,
   "metadata": {},
   "outputs": [],
   "source": [
    "Sch_exp['SCHID'] = Sch_exp['SCHID'].apply(lambda x: '{0:0>5}'.format(x))"
   ]
  },
  {
   "cell_type": "code",
   "execution_count": 25,
   "metadata": {},
   "outputs": [],
   "source": [
    "Sch_exp['LEAID'] = Sch_exp['LEAID'].apply(lambda x: '{0:0>7}'.format(x))"
   ]
  },
  {
   "cell_type": "code",
   "execution_count": 26,
   "metadata": {},
   "outputs": [
    {
     "data": {
      "text/plain": [
       "Index(['LEA_STATE', 'LEA_STATE_NAME', 'LEAID', 'LEA_NAME', 'SCHID', 'SCH_NAME',\n",
       "       'COMBOKEY', 'JJ', 'SCH_SAL_TOTPERS_WOFED', 'SCH_FTE_TEACH_WOFED',\n",
       "       'SCH_SAL_TEACH_WOFED', 'SCH_NPE_WOFED', 'SCH_FTE_AID_WOFED',\n",
       "       'SCH_SAL_AID_WOFED', 'SCH_FTE_SUP_WOFED', 'SCH_SAL_SUP_WOFED',\n",
       "       'SCH_FTE_ADM_WOFED', 'SCH_SAL_ADM_WOFED', 'SCH_SAL_TEACH_WFED',\n",
       "       'SCH_FTE_AID_WFED', 'SCH_SAL_AID_WFED', 'SCH_FTE_SUP_WFED',\n",
       "       'SCH_SAL_SUP_WFED', 'SCH_FTE_ADM_WFED', 'SCH_SAL_ADM_WFED',\n",
       "       'SCH_SAL_TOTPERS_WFED', 'SCH_NPE_WFED'],\n",
       "      dtype='object')"
      ]
     },
     "execution_count": 26,
     "metadata": {},
     "output_type": "execute_result"
    }
   ],
   "source": [
    "Sch_exp.columns"
   ]
  },
  {
   "cell_type": "code",
   "execution_count": 27,
   "metadata": {},
   "outputs": [],
   "source": [
    "Sch_exp.drop(Sch_exp.columns[[7,8,11,12,13,14,15,16,17,18,19,20,21,22,23,24,25,26]], axis=1, inplace=True)"
   ]
  },
  {
   "cell_type": "code",
   "execution_count": 28,
   "metadata": {},
   "outputs": [
    {
     "data": {
      "text/html": [
       "<div>\n",
       "<style scoped>\n",
       "    .dataframe tbody tr th:only-of-type {\n",
       "        vertical-align: middle;\n",
       "    }\n",
       "\n",
       "    .dataframe tbody tr th {\n",
       "        vertical-align: top;\n",
       "    }\n",
       "\n",
       "    .dataframe thead th {\n",
       "        text-align: right;\n",
       "    }\n",
       "</style>\n",
       "<table border=\"1\" class=\"dataframe\">\n",
       "  <thead>\n",
       "    <tr style=\"text-align: right;\">\n",
       "      <th></th>\n",
       "      <th>LEA_STATE</th>\n",
       "      <th>LEA_STATE_NAME</th>\n",
       "      <th>LEAID</th>\n",
       "      <th>LEA_NAME</th>\n",
       "      <th>SCHID</th>\n",
       "      <th>SCH_NAME</th>\n",
       "      <th>COMBOKEY</th>\n",
       "      <th>SCH_FTE_TEACH_WOFED</th>\n",
       "      <th>SCH_SAL_TEACH_WOFED</th>\n",
       "    </tr>\n",
       "  </thead>\n",
       "  <tbody>\n",
       "    <tr>\n",
       "      <th>0</th>\n",
       "      <td>AL</td>\n",
       "      <td>ALABAMA</td>\n",
       "      <td>0100002</td>\n",
       "      <td>Alabama Youth Services</td>\n",
       "      <td>01705</td>\n",
       "      <td>Wallace Sch - Mt Meigs Campus</td>\n",
       "      <td>010000201705</td>\n",
       "      <td>25.00</td>\n",
       "      <td>1827143.00</td>\n",
       "    </tr>\n",
       "    <tr>\n",
       "      <th>1</th>\n",
       "      <td>AL</td>\n",
       "      <td>ALABAMA</td>\n",
       "      <td>0100002</td>\n",
       "      <td>Alabama Youth Services</td>\n",
       "      <td>01706</td>\n",
       "      <td>McNeel Sch - Vacca Campus</td>\n",
       "      <td>010000201706</td>\n",
       "      <td>16.00</td>\n",
       "      <td>1305463.00</td>\n",
       "    </tr>\n",
       "    <tr>\n",
       "      <th>2</th>\n",
       "      <td>AL</td>\n",
       "      <td>ALABAMA</td>\n",
       "      <td>0100002</td>\n",
       "      <td>Alabama Youth Services</td>\n",
       "      <td>01876</td>\n",
       "      <td>Alabama Youth Services</td>\n",
       "      <td>010000201876</td>\n",
       "      <td>60.00</td>\n",
       "      <td>3400850.00</td>\n",
       "    </tr>\n",
       "    <tr>\n",
       "      <th>3</th>\n",
       "      <td>AL</td>\n",
       "      <td>ALABAMA</td>\n",
       "      <td>0100002</td>\n",
       "      <td>Alabama Youth Services</td>\n",
       "      <td>99995</td>\n",
       "      <td>AUTAUGA CAMPUS</td>\n",
       "      <td>010000299995</td>\n",
       "      <td>3.00</td>\n",
       "      <td>305220.00</td>\n",
       "    </tr>\n",
       "    <tr>\n",
       "      <th>4</th>\n",
       "      <td>AL</td>\n",
       "      <td>ALABAMA</td>\n",
       "      <td>0100005</td>\n",
       "      <td>Albertville City</td>\n",
       "      <td>00870</td>\n",
       "      <td>Albertville Middle School</td>\n",
       "      <td>010000500870</td>\n",
       "      <td>38.29</td>\n",
       "      <td>1782926.22</td>\n",
       "    </tr>\n",
       "  </tbody>\n",
       "</table>\n",
       "</div>"
      ],
      "text/plain": [
       "  LEA_STATE LEA_STATE_NAME    LEAID                LEA_NAME  SCHID  \\\n",
       "0        AL        ALABAMA  0100002  Alabama Youth Services  01705   \n",
       "1        AL        ALABAMA  0100002  Alabama Youth Services  01706   \n",
       "2        AL        ALABAMA  0100002  Alabama Youth Services  01876   \n",
       "3        AL        ALABAMA  0100002  Alabama Youth Services  99995   \n",
       "4        AL        ALABAMA  0100005        Albertville City  00870   \n",
       "\n",
       "                        SCH_NAME      COMBOKEY  SCH_FTE_TEACH_WOFED  \\\n",
       "0  Wallace Sch - Mt Meigs Campus  010000201705                25.00   \n",
       "1      McNeel Sch - Vacca Campus  010000201706                16.00   \n",
       "2         Alabama Youth Services  010000201876                60.00   \n",
       "3                 AUTAUGA CAMPUS  010000299995                 3.00   \n",
       "4      Albertville Middle School  010000500870                38.29   \n",
       "\n",
       "   SCH_SAL_TEACH_WOFED  \n",
       "0           1827143.00  \n",
       "1           1305463.00  \n",
       "2           3400850.00  \n",
       "3            305220.00  \n",
       "4           1782926.22  "
      ]
     },
     "execution_count": 28,
     "metadata": {},
     "output_type": "execute_result"
    }
   ],
   "source": [
    "Sch_exp.head()"
   ]
  },
  {
   "cell_type": "code",
   "execution_count": 29,
   "metadata": {},
   "outputs": [],
   "source": [
    "cols = ['LEAID', 'SCHID']\n",
    "Sch_exp['NCESSCH'] = Sch_exp[cols].apply(lambda row: ''.join(row.values.astype(str)), axis=1)"
   ]
  },
  {
   "cell_type": "code",
   "execution_count": 30,
   "metadata": {},
   "outputs": [
    {
     "data": {
      "text/plain": [
       "(97632, 10)"
      ]
     },
     "execution_count": 30,
     "metadata": {},
     "output_type": "execute_result"
    }
   ],
   "source": [
    "Sch_exp.shape"
   ]
  },
  {
   "cell_type": "code",
   "execution_count": 31,
   "metadata": {},
   "outputs": [
    {
     "data": {
      "text/plain": [
       "True"
      ]
     },
     "execution_count": 31,
     "metadata": {},
     "output_type": "execute_result"
    }
   ],
   "source": [
    "Sch_exp['NCESSCH'].is_unique"
   ]
  },
  {
   "cell_type": "code",
   "execution_count": 32,
   "metadata": {},
   "outputs": [],
   "source": [
    "Sch_exp.rename(columns={'SCH_FTE_TEACH_WOFED':'FTE_teachers_count','SCH_SAL_TEACH_WOFED':'SalaryforTeachers'}, inplace=True)"
   ]
  },
  {
   "cell_type": "code",
   "execution_count": 33,
   "metadata": {},
   "outputs": [
    {
     "data": {
      "text/html": [
       "<div>\n",
       "<style scoped>\n",
       "    .dataframe tbody tr th:only-of-type {\n",
       "        vertical-align: middle;\n",
       "    }\n",
       "\n",
       "    .dataframe tbody tr th {\n",
       "        vertical-align: top;\n",
       "    }\n",
       "\n",
       "    .dataframe thead th {\n",
       "        text-align: right;\n",
       "    }\n",
       "</style>\n",
       "<table border=\"1\" class=\"dataframe\">\n",
       "  <thead>\n",
       "    <tr style=\"text-align: right;\">\n",
       "      <th></th>\n",
       "      <th>LEA_STATE</th>\n",
       "      <th>LEA_STATE_NAME</th>\n",
       "      <th>LEAID</th>\n",
       "      <th>LEA_NAME</th>\n",
       "      <th>SCHID</th>\n",
       "      <th>SCH_NAME</th>\n",
       "      <th>COMBOKEY</th>\n",
       "      <th>FTE_teachers_count</th>\n",
       "      <th>SalaryforTeachers</th>\n",
       "      <th>NCESSCH</th>\n",
       "    </tr>\n",
       "  </thead>\n",
       "  <tbody>\n",
       "    <tr>\n",
       "      <th>0</th>\n",
       "      <td>AL</td>\n",
       "      <td>ALABAMA</td>\n",
       "      <td>0100002</td>\n",
       "      <td>Alabama Youth Services</td>\n",
       "      <td>01705</td>\n",
       "      <td>Wallace Sch - Mt Meigs Campus</td>\n",
       "      <td>010000201705</td>\n",
       "      <td>25.00</td>\n",
       "      <td>1827143.00</td>\n",
       "      <td>010000201705</td>\n",
       "    </tr>\n",
       "    <tr>\n",
       "      <th>1</th>\n",
       "      <td>AL</td>\n",
       "      <td>ALABAMA</td>\n",
       "      <td>0100002</td>\n",
       "      <td>Alabama Youth Services</td>\n",
       "      <td>01706</td>\n",
       "      <td>McNeel Sch - Vacca Campus</td>\n",
       "      <td>010000201706</td>\n",
       "      <td>16.00</td>\n",
       "      <td>1305463.00</td>\n",
       "      <td>010000201706</td>\n",
       "    </tr>\n",
       "    <tr>\n",
       "      <th>2</th>\n",
       "      <td>AL</td>\n",
       "      <td>ALABAMA</td>\n",
       "      <td>0100002</td>\n",
       "      <td>Alabama Youth Services</td>\n",
       "      <td>01876</td>\n",
       "      <td>Alabama Youth Services</td>\n",
       "      <td>010000201876</td>\n",
       "      <td>60.00</td>\n",
       "      <td>3400850.00</td>\n",
       "      <td>010000201876</td>\n",
       "    </tr>\n",
       "    <tr>\n",
       "      <th>3</th>\n",
       "      <td>AL</td>\n",
       "      <td>ALABAMA</td>\n",
       "      <td>0100002</td>\n",
       "      <td>Alabama Youth Services</td>\n",
       "      <td>99995</td>\n",
       "      <td>AUTAUGA CAMPUS</td>\n",
       "      <td>010000299995</td>\n",
       "      <td>3.00</td>\n",
       "      <td>305220.00</td>\n",
       "      <td>010000299995</td>\n",
       "    </tr>\n",
       "    <tr>\n",
       "      <th>4</th>\n",
       "      <td>AL</td>\n",
       "      <td>ALABAMA</td>\n",
       "      <td>0100005</td>\n",
       "      <td>Albertville City</td>\n",
       "      <td>00870</td>\n",
       "      <td>Albertville Middle School</td>\n",
       "      <td>010000500870</td>\n",
       "      <td>38.29</td>\n",
       "      <td>1782926.22</td>\n",
       "      <td>010000500870</td>\n",
       "    </tr>\n",
       "  </tbody>\n",
       "</table>\n",
       "</div>"
      ],
      "text/plain": [
       "  LEA_STATE LEA_STATE_NAME    LEAID                LEA_NAME  SCHID  \\\n",
       "0        AL        ALABAMA  0100002  Alabama Youth Services  01705   \n",
       "1        AL        ALABAMA  0100002  Alabama Youth Services  01706   \n",
       "2        AL        ALABAMA  0100002  Alabama Youth Services  01876   \n",
       "3        AL        ALABAMA  0100002  Alabama Youth Services  99995   \n",
       "4        AL        ALABAMA  0100005        Albertville City  00870   \n",
       "\n",
       "                        SCH_NAME      COMBOKEY  FTE_teachers_count  \\\n",
       "0  Wallace Sch - Mt Meigs Campus  010000201705               25.00   \n",
       "1      McNeel Sch - Vacca Campus  010000201706               16.00   \n",
       "2         Alabama Youth Services  010000201876               60.00   \n",
       "3                 AUTAUGA CAMPUS  010000299995                3.00   \n",
       "4      Albertville Middle School  010000500870               38.29   \n",
       "\n",
       "   SalaryforTeachers       NCESSCH  \n",
       "0         1827143.00  010000201705  \n",
       "1         1305463.00  010000201706  \n",
       "2         3400850.00  010000201876  \n",
       "3          305220.00  010000299995  \n",
       "4         1782926.22  010000500870  "
      ]
     },
     "execution_count": 33,
     "metadata": {},
     "output_type": "execute_result"
    }
   ],
   "source": [
    "Sch_exp.head()"
   ]
  },
  {
   "cell_type": "code",
   "execution_count": 34,
   "metadata": {},
   "outputs": [],
   "source": [
    "#Sch_exp['Teacher_salary_ratio'] = (Sch_exp['SalaryforTeachers'] / Sch_exp['FTE_teachers_count'])"
   ]
  },
  {
   "cell_type": "code",
   "execution_count": 35,
   "metadata": {},
   "outputs": [
    {
     "data": {
      "text/plain": [
       "<matplotlib.axes._subplots.AxesSubplot at 0x7f8f051f9f40>"
      ]
     },
     "execution_count": 35,
     "metadata": {},
     "output_type": "execute_result"
    },
    {
     "data": {
      "image/png": "[encoded data removed]",
      "text/plain": [
       "<Figure size 432x288 with 2 Axes>"
      ]
     },
     "metadata": {
      "needs_background": "light"
     },
     "output_type": "display_data"
    }
   ],
   "source": [
    "sns.heatmap(Sch_exp.isnull(),yticklabels=False,cbar=True,cmap='viridis')"
   ]
  },
  {
   "cell_type": "code",
   "execution_count": 36,
   "metadata": {},
   "outputs": [
    {
     "data": {
      "text/html": [
       "<div>\n",
       "<style scoped>\n",
       "    .dataframe tbody tr th:only-of-type {\n",
       "        vertical-align: middle;\n",
       "    }\n",
       "\n",
       "    .dataframe tbody tr th {\n",
       "        vertical-align: top;\n",
       "    }\n",
       "\n",
       "    .dataframe thead th {\n",
       "        text-align: right;\n",
       "    }\n",
       "</style>\n",
       "<table border=\"1\" class=\"dataframe\">\n",
       "  <thead>\n",
       "    <tr style=\"text-align: right;\">\n",
       "      <th></th>\n",
       "      <th>FTE_teachers_count</th>\n",
       "      <th>SalaryforTeachers</th>\n",
       "    </tr>\n",
       "  </thead>\n",
       "  <tbody>\n",
       "    <tr>\n",
       "      <th>count</th>\n",
       "      <td>9.763200e+04</td>\n",
       "      <td>9.763200e+04</td>\n",
       "    </tr>\n",
       "    <tr>\n",
       "      <th>mean</th>\n",
       "      <td>6.873048e+01</td>\n",
       "      <td>1.816205e+06</td>\n",
       "    </tr>\n",
       "    <tr>\n",
       "      <th>std</th>\n",
       "      <td>9.405691e+03</td>\n",
       "      <td>1.713907e+06</td>\n",
       "    </tr>\n",
       "    <tr>\n",
       "      <th>min</th>\n",
       "      <td>-9.000000e+00</td>\n",
       "      <td>-9.000000e+00</td>\n",
       "    </tr>\n",
       "    <tr>\n",
       "      <th>25%</th>\n",
       "      <td>1.500000e+01</td>\n",
       "      <td>7.903983e+05</td>\n",
       "    </tr>\n",
       "    <tr>\n",
       "      <th>50%</th>\n",
       "      <td>2.560000e+01</td>\n",
       "      <td>1.469219e+06</td>\n",
       "    </tr>\n",
       "    <tr>\n",
       "      <th>75%</th>\n",
       "      <td>3.810000e+01</td>\n",
       "      <td>2.307242e+06</td>\n",
       "    </tr>\n",
       "    <tr>\n",
       "      <th>max</th>\n",
       "      <td>2.840644e+06</td>\n",
       "      <td>3.126824e+07</td>\n",
       "    </tr>\n",
       "  </tbody>\n",
       "</table>\n",
       "</div>"
      ],
      "text/plain": [
       "       FTE_teachers_count  SalaryforTeachers\n",
       "count        9.763200e+04       9.763200e+04\n",
       "mean         6.873048e+01       1.816205e+06\n",
       "std          9.405691e+03       1.713907e+06\n",
       "min         -9.000000e+00      -9.000000e+00\n",
       "25%          1.500000e+01       7.903983e+05\n",
       "50%          2.560000e+01       1.469219e+06\n",
       "75%          3.810000e+01       2.307242e+06\n",
       "max          2.840644e+06       3.126824e+07"
      ]
     },
     "execution_count": 36,
     "metadata": {},
     "output_type": "execute_result"
    }
   ],
   "source": [
    "Sch_exp.describe()"
   ]
  },
  {
   "cell_type": "markdown",
   "metadata": {},
   "source": [
    "#### Dropping columns with zero or less than zero Salary expenditures"
   ]
  },
  {
   "cell_type": "code",
   "execution_count": 37,
   "metadata": {},
   "outputs": [],
   "source": [
    "Sch_exp_clean= Sch_exp[Sch_exp.SalaryforTeachers > 0]"
   ]
  },
  {
   "cell_type": "code",
   "execution_count": 38,
   "metadata": {},
   "outputs": [
    {
     "data": {
      "text/plain": [
       "(92994, 10)"
      ]
     },
     "execution_count": 38,
     "metadata": {},
     "output_type": "execute_result"
    }
   ],
   "source": [
    "Sch_exp_clean.shape"
   ]
  },
  {
   "cell_type": "code",
   "execution_count": 39,
   "metadata": {},
   "outputs": [
    {
     "data": {
      "text/html": [
       "<div>\n",
       "<style scoped>\n",
       "    .dataframe tbody tr th:only-of-type {\n",
       "        vertical-align: middle;\n",
       "    }\n",
       "\n",
       "    .dataframe tbody tr th {\n",
       "        vertical-align: top;\n",
       "    }\n",
       "\n",
       "    .dataframe thead th {\n",
       "        text-align: right;\n",
       "    }\n",
       "</style>\n",
       "<table border=\"1\" class=\"dataframe\">\n",
       "  <thead>\n",
       "    <tr style=\"text-align: right;\">\n",
       "      <th></th>\n",
       "      <th>FTE_teachers_count</th>\n",
       "      <th>SalaryforTeachers</th>\n",
       "    </tr>\n",
       "  </thead>\n",
       "  <tbody>\n",
       "    <tr>\n",
       "      <th>count</th>\n",
       "      <td>9.299400e+04</td>\n",
       "      <td>9.299400e+04</td>\n",
       "    </tr>\n",
       "    <tr>\n",
       "      <th>mean</th>\n",
       "      <td>7.234228e+01</td>\n",
       "      <td>1.906787e+06</td>\n",
       "    </tr>\n",
       "    <tr>\n",
       "      <th>std</th>\n",
       "      <td>9.637376e+03</td>\n",
       "      <td>1.706241e+06</td>\n",
       "    </tr>\n",
       "    <tr>\n",
       "      <th>min</th>\n",
       "      <td>0.000000e+00</td>\n",
       "      <td>1.000000e-02</td>\n",
       "    </tr>\n",
       "    <tr>\n",
       "      <th>25%</th>\n",
       "      <td>1.686000e+01</td>\n",
       "      <td>8.982140e+05</td>\n",
       "    </tr>\n",
       "    <tr>\n",
       "      <th>50%</th>\n",
       "      <td>2.650000e+01</td>\n",
       "      <td>1.532901e+06</td>\n",
       "    </tr>\n",
       "    <tr>\n",
       "      <th>75%</th>\n",
       "      <td>3.900000e+01</td>\n",
       "      <td>2.364353e+06</td>\n",
       "    </tr>\n",
       "    <tr>\n",
       "      <th>max</th>\n",
       "      <td>2.840644e+06</td>\n",
       "      <td>3.126824e+07</td>\n",
       "    </tr>\n",
       "  </tbody>\n",
       "</table>\n",
       "</div>"
      ],
      "text/plain": [
       "       FTE_teachers_count  SalaryforTeachers\n",
       "count        9.299400e+04       9.299400e+04\n",
       "mean         7.234228e+01       1.906787e+06\n",
       "std          9.637376e+03       1.706241e+06\n",
       "min          0.000000e+00       1.000000e-02\n",
       "25%          1.686000e+01       8.982140e+05\n",
       "50%          2.650000e+01       1.532901e+06\n",
       "75%          3.900000e+01       2.364353e+06\n",
       "max          2.840644e+06       3.126824e+07"
      ]
     },
     "execution_count": 39,
     "metadata": {},
     "output_type": "execute_result"
    }
   ],
   "source": [
    "Sch_exp_clean.describe()"
   ]
  },
  {
   "cell_type": "code",
   "execution_count": 40,
   "metadata": {},
   "outputs": [
    {
     "data": {
      "text/html": [
       "<div>\n",
       "<style scoped>\n",
       "    .dataframe tbody tr th:only-of-type {\n",
       "        vertical-align: middle;\n",
       "    }\n",
       "\n",
       "    .dataframe tbody tr th {\n",
       "        vertical-align: top;\n",
       "    }\n",
       "\n",
       "    .dataframe thead th {\n",
       "        text-align: right;\n",
       "    }\n",
       "</style>\n",
       "<table border=\"1\" class=\"dataframe\">\n",
       "  <thead>\n",
       "    <tr style=\"text-align: right;\">\n",
       "      <th></th>\n",
       "      <th>LEA_STATE</th>\n",
       "      <th>LEA_STATE_NAME</th>\n",
       "      <th>LEAID</th>\n",
       "      <th>LEA_NAME</th>\n",
       "      <th>SCHID</th>\n",
       "      <th>SCH_NAME</th>\n",
       "      <th>COMBOKEY</th>\n",
       "      <th>FTE_teachers_count</th>\n",
       "      <th>SalaryforTeachers</th>\n",
       "      <th>NCESSCH</th>\n",
       "    </tr>\n",
       "  </thead>\n",
       "  <tbody>\n",
       "    <tr>\n",
       "      <th>0</th>\n",
       "      <td>AL</td>\n",
       "      <td>ALABAMA</td>\n",
       "      <td>0100002</td>\n",
       "      <td>Alabama Youth Services</td>\n",
       "      <td>01705</td>\n",
       "      <td>Wallace Sch - Mt Meigs Campus</td>\n",
       "      <td>010000201705</td>\n",
       "      <td>25.00</td>\n",
       "      <td>1827143.00</td>\n",
       "      <td>010000201705</td>\n",
       "    </tr>\n",
       "    <tr>\n",
       "      <th>1</th>\n",
       "      <td>AL</td>\n",
       "      <td>ALABAMA</td>\n",
       "      <td>0100002</td>\n",
       "      <td>Alabama Youth Services</td>\n",
       "      <td>01706</td>\n",
       "      <td>McNeel Sch - Vacca Campus</td>\n",
       "      <td>010000201706</td>\n",
       "      <td>16.00</td>\n",
       "      <td>1305463.00</td>\n",
       "      <td>010000201706</td>\n",
       "    </tr>\n",
       "    <tr>\n",
       "      <th>2</th>\n",
       "      <td>AL</td>\n",
       "      <td>ALABAMA</td>\n",
       "      <td>0100002</td>\n",
       "      <td>Alabama Youth Services</td>\n",
       "      <td>01876</td>\n",
       "      <td>Alabama Youth Services</td>\n",
       "      <td>010000201876</td>\n",
       "      <td>60.00</td>\n",
       "      <td>3400850.00</td>\n",
       "      <td>010000201876</td>\n",
       "    </tr>\n",
       "    <tr>\n",
       "      <th>3</th>\n",
       "      <td>AL</td>\n",
       "      <td>ALABAMA</td>\n",
       "      <td>0100002</td>\n",
       "      <td>Alabama Youth Services</td>\n",
       "      <td>99995</td>\n",
       "      <td>AUTAUGA CAMPUS</td>\n",
       "      <td>010000299995</td>\n",
       "      <td>3.00</td>\n",
       "      <td>305220.00</td>\n",
       "      <td>010000299995</td>\n",
       "    </tr>\n",
       "    <tr>\n",
       "      <th>4</th>\n",
       "      <td>AL</td>\n",
       "      <td>ALABAMA</td>\n",
       "      <td>0100005</td>\n",
       "      <td>Albertville City</td>\n",
       "      <td>00870</td>\n",
       "      <td>Albertville Middle School</td>\n",
       "      <td>010000500870</td>\n",
       "      <td>38.29</td>\n",
       "      <td>1782926.22</td>\n",
       "      <td>010000500870</td>\n",
       "    </tr>\n",
       "  </tbody>\n",
       "</table>\n",
       "</div>"
      ],
      "text/plain": [
       "  LEA_STATE LEA_STATE_NAME    LEAID                LEA_NAME  SCHID  \\\n",
       "0        AL        ALABAMA  0100002  Alabama Youth Services  01705   \n",
       "1        AL        ALABAMA  0100002  Alabama Youth Services  01706   \n",
       "2        AL        ALABAMA  0100002  Alabama Youth Services  01876   \n",
       "3        AL        ALABAMA  0100002  Alabama Youth Services  99995   \n",
       "4        AL        ALABAMA  0100005        Albertville City  00870   \n",
       "\n",
       "                        SCH_NAME      COMBOKEY  FTE_teachers_count  \\\n",
       "0  Wallace Sch - Mt Meigs Campus  010000201705               25.00   \n",
       "1      McNeel Sch - Vacca Campus  010000201706               16.00   \n",
       "2         Alabama Youth Services  010000201876               60.00   \n",
       "3                 AUTAUGA CAMPUS  010000299995                3.00   \n",
       "4      Albertville Middle School  010000500870               38.29   \n",
       "\n",
       "   SalaryforTeachers       NCESSCH  \n",
       "0         1827143.00  010000201705  \n",
       "1         1305463.00  010000201706  \n",
       "2         3400850.00  010000201876  \n",
       "3          305220.00  010000299995  \n",
       "4         1782926.22  010000500870  "
      ]
     },
     "execution_count": 40,
     "metadata": {},
     "output_type": "execute_result"
    }
   ],
   "source": [
    "Sch_exp_clean.head()"
   ]
  },
  {
   "cell_type": "code",
   "execution_count": 41,
   "metadata": {},
   "outputs": [
    {
     "data": {
      "text/plain": [
       "array([[<matplotlib.axes._subplots.AxesSubplot object at 0x7f8ef6b73b50>,\n",
       "        <matplotlib.axes._subplots.AxesSubplot object at 0x7f8ef6d0f0a0>]],\n",
       "      dtype=object)"
      ]
     },
     "execution_count": 41,
     "metadata": {},
     "output_type": "execute_result"
    },
    {
     "data": {
      "image/png": "[encoded data removed]",
      "text/plain": [
       "<Figure size 432x288 with 2 Axes>"
      ]
     },
     "metadata": {
      "needs_background": "light"
     },
     "output_type": "display_data"
    }
   ],
   "source": [
    "Sch_exp_clean.hist()"
   ]
  },
  {
   "cell_type": "code",
   "execution_count": 42,
   "metadata": {},
   "outputs": [],
   "source": [
    "Sch_exp_clean.to_csv (r'/Users/dansari/Documents/GitHub/Identifying-features-to-predict-high-school-assessment-proficiency/Phase1/Data/CRDC/Clean_crdc_schlexpenses.csv', index = False, header=True)"
   ]
  },
  {
   "cell_type": "markdown",
   "metadata": {},
   "source": [
    "### Cleaning school support file"
   ]
  },
  {
   "cell_type": "code",
   "execution_count": 43,
   "metadata": {},
   "outputs": [
    {
     "data": {
      "text/html": [
       "<div>\n",
       "<style scoped>\n",
       "    .dataframe tbody tr th:only-of-type {\n",
       "        vertical-align: middle;\n",
       "    }\n",
       "\n",
       "    .dataframe tbody tr th {\n",
       "        vertical-align: top;\n",
       "    }\n",
       "\n",
       "    .dataframe thead th {\n",
       "        text-align: right;\n",
       "    }\n",
       "</style>\n",
       "<table border=\"1\" class=\"dataframe\">\n",
       "  <thead>\n",
       "    <tr style=\"text-align: right;\">\n",
       "      <th></th>\n",
       "      <th>LEA_STATE</th>\n",
       "      <th>LEA_STATE_NAME</th>\n",
       "      <th>LEAID</th>\n",
       "      <th>LEA_NAME</th>\n",
       "      <th>SCHID</th>\n",
       "      <th>SCH_NAME</th>\n",
       "      <th>COMBOKEY</th>\n",
       "      <th>JJ</th>\n",
       "      <th>SCH_FTETEACH_TOT</th>\n",
       "      <th>SCH_FTETEACH_CERT</th>\n",
       "      <th>...</th>\n",
       "      <th>SCH_FTETEACH_SY</th>\n",
       "      <th>SCH_TEACHERS_CURR_TOT</th>\n",
       "      <th>SCH_TEACHERS_PREV_TOT</th>\n",
       "      <th>SCH_FTETEACH_ABSENT</th>\n",
       "      <th>SCH_FTECOUNSELORS</th>\n",
       "      <th>SCH_FTESECURITY_LEO</th>\n",
       "      <th>SCH_FTESECURITY_GUA</th>\n",
       "      <th>SCH_FTESERVICES_NUR</th>\n",
       "      <th>SCH_FTESERVICES_PSY</th>\n",
       "      <th>SCH_FTESERVICES_SOC</th>\n",
       "    </tr>\n",
       "  </thead>\n",
       "  <tbody>\n",
       "    <tr>\n",
       "      <th>0</th>\n",
       "      <td>AL</td>\n",
       "      <td>ALABAMA</td>\n",
       "      <td>0100002</td>\n",
       "      <td>Alabama Youth Services</td>\n",
       "      <td>1705</td>\n",
       "      <td>Wallace Sch - Mt Meigs Campus</td>\n",
       "      <td>010000201705</td>\n",
       "      <td>Yes</td>\n",
       "      <td>25.00</td>\n",
       "      <td>25.00</td>\n",
       "      <td>...</td>\n",
       "      <td>1.0</td>\n",
       "      <td>25.0</td>\n",
       "      <td>25.0</td>\n",
       "      <td>2.0</td>\n",
       "      <td>1.0</td>\n",
       "      <td>0.0</td>\n",
       "      <td>-9.0</td>\n",
       "      <td>0.0</td>\n",
       "      <td>0.0</td>\n",
       "      <td>0.0</td>\n",
       "    </tr>\n",
       "    <tr>\n",
       "      <th>1</th>\n",
       "      <td>AL</td>\n",
       "      <td>ALABAMA</td>\n",
       "      <td>0100002</td>\n",
       "      <td>Alabama Youth Services</td>\n",
       "      <td>1706</td>\n",
       "      <td>McNeel Sch - Vacca Campus</td>\n",
       "      <td>010000201706</td>\n",
       "      <td>Yes</td>\n",
       "      <td>16.00</td>\n",
       "      <td>16.00</td>\n",
       "      <td>...</td>\n",
       "      <td>0.0</td>\n",
       "      <td>0.0</td>\n",
       "      <td>0.0</td>\n",
       "      <td>3.0</td>\n",
       "      <td>1.0</td>\n",
       "      <td>0.0</td>\n",
       "      <td>-9.0</td>\n",
       "      <td>0.0</td>\n",
       "      <td>0.0</td>\n",
       "      <td>0.0</td>\n",
       "    </tr>\n",
       "    <tr>\n",
       "      <th>2</th>\n",
       "      <td>AL</td>\n",
       "      <td>ALABAMA</td>\n",
       "      <td>0100002</td>\n",
       "      <td>Alabama Youth Services</td>\n",
       "      <td>1876</td>\n",
       "      <td>Alabama Youth Services</td>\n",
       "      <td>010000201876</td>\n",
       "      <td>No</td>\n",
       "      <td>11.00</td>\n",
       "      <td>11.00</td>\n",
       "      <td>...</td>\n",
       "      <td>0.0</td>\n",
       "      <td>11.0</td>\n",
       "      <td>11.0</td>\n",
       "      <td>2.0</td>\n",
       "      <td>1.0</td>\n",
       "      <td>0.0</td>\n",
       "      <td>3.0</td>\n",
       "      <td>0.0</td>\n",
       "      <td>0.0</td>\n",
       "      <td>0.0</td>\n",
       "    </tr>\n",
       "    <tr>\n",
       "      <th>3</th>\n",
       "      <td>AL</td>\n",
       "      <td>ALABAMA</td>\n",
       "      <td>0100002</td>\n",
       "      <td>Alabama Youth Services</td>\n",
       "      <td>99995</td>\n",
       "      <td>AUTAUGA CAMPUS</td>\n",
       "      <td>010000299995</td>\n",
       "      <td>Yes</td>\n",
       "      <td>3.00</td>\n",
       "      <td>3.00</td>\n",
       "      <td>...</td>\n",
       "      <td>0.0</td>\n",
       "      <td>3.0</td>\n",
       "      <td>3.0</td>\n",
       "      <td>2.0</td>\n",
       "      <td>0.0</td>\n",
       "      <td>0.0</td>\n",
       "      <td>-9.0</td>\n",
       "      <td>0.0</td>\n",
       "      <td>0.0</td>\n",
       "      <td>0.0</td>\n",
       "    </tr>\n",
       "    <tr>\n",
       "      <th>4</th>\n",
       "      <td>AL</td>\n",
       "      <td>ALABAMA</td>\n",
       "      <td>0100005</td>\n",
       "      <td>Albertville City</td>\n",
       "      <td>870</td>\n",
       "      <td>Albertville Middle School</td>\n",
       "      <td>010000500870</td>\n",
       "      <td>No</td>\n",
       "      <td>39.29</td>\n",
       "      <td>39.29</td>\n",
       "      <td>...</td>\n",
       "      <td>3.0</td>\n",
       "      <td>39.0</td>\n",
       "      <td>39.0</td>\n",
       "      <td>8.0</td>\n",
       "      <td>2.0</td>\n",
       "      <td>1.0</td>\n",
       "      <td>0.0</td>\n",
       "      <td>1.0</td>\n",
       "      <td>0.0</td>\n",
       "      <td>0.0</td>\n",
       "    </tr>\n",
       "  </tbody>\n",
       "</table>\n",
       "<p>5 rows × 22 columns</p>\n",
       "</div>"
      ],
      "text/plain": [
       "  LEA_STATE LEA_STATE_NAME    LEAID                LEA_NAME  SCHID  \\\n",
       "0        AL        ALABAMA  0100002  Alabama Youth Services   1705   \n",
       "1        AL        ALABAMA  0100002  Alabama Youth Services   1706   \n",
       "2        AL        ALABAMA  0100002  Alabama Youth Services   1876   \n",
       "3        AL        ALABAMA  0100002  Alabama Youth Services  99995   \n",
       "4        AL        ALABAMA  0100005        Albertville City    870   \n",
       "\n",
       "                        SCH_NAME      COMBOKEY   JJ  SCH_FTETEACH_TOT  \\\n",
       "0  Wallace Sch - Mt Meigs Campus  010000201705  Yes             25.00   \n",
       "1      McNeel Sch - Vacca Campus  010000201706  Yes             16.00   \n",
       "2         Alabama Youth Services  010000201876   No             11.00   \n",
       "3                 AUTAUGA CAMPUS  010000299995  Yes              3.00   \n",
       "4      Albertville Middle School  010000500870   No             39.29   \n",
       "\n",
       "   SCH_FTETEACH_CERT  ...  SCH_FTETEACH_SY  SCH_TEACHERS_CURR_TOT  \\\n",
       "0              25.00  ...              1.0                   25.0   \n",
       "1              16.00  ...              0.0                    0.0   \n",
       "2              11.00  ...              0.0                   11.0   \n",
       "3               3.00  ...              0.0                    3.0   \n",
       "4              39.29  ...              3.0                   39.0   \n",
       "\n",
       "   SCH_TEACHERS_PREV_TOT  SCH_FTETEACH_ABSENT  SCH_FTECOUNSELORS  \\\n",
       "0                   25.0                  2.0                1.0   \n",
       "1                    0.0                  3.0                1.0   \n",
       "2                   11.0                  2.0                1.0   \n",
       "3                    3.0                  2.0                0.0   \n",
       "4                   39.0                  8.0                2.0   \n",
       "\n",
       "   SCH_FTESECURITY_LEO  SCH_FTESECURITY_GUA  SCH_FTESERVICES_NUR  \\\n",
       "0                  0.0                 -9.0                  0.0   \n",
       "1                  0.0                 -9.0                  0.0   \n",
       "2                  0.0                  3.0                  0.0   \n",
       "3                  0.0                 -9.0                  0.0   \n",
       "4                  1.0                  0.0                  1.0   \n",
       "\n",
       "   SCH_FTESERVICES_PSY  SCH_FTESERVICES_SOC  \n",
       "0                  0.0                  0.0  \n",
       "1                  0.0                  0.0  \n",
       "2                  0.0                  0.0  \n",
       "3                  0.0                  0.0  \n",
       "4                  0.0                  0.0  \n",
       "\n",
       "[5 rows x 22 columns]"
      ]
     },
     "execution_count": 43,
     "metadata": {},
     "output_type": "execute_result"
    }
   ],
   "source": [
    "Sch_sup= pandas.read_csv(\"School Support.csv\",encoding='cp1252')\n",
    "Sch_sup.head()"
   ]
  },
  {
   "cell_type": "code",
   "execution_count": 44,
   "metadata": {},
   "outputs": [],
   "source": [
    "Sch_sup['SCHID'] = Sch_sup['SCHID'].apply(lambda x: '{0:0>5}'.format(x))"
   ]
  },
  {
   "cell_type": "code",
   "execution_count": 45,
   "metadata": {},
   "outputs": [],
   "source": [
    "Sch_sup['LEAID'] = Sch_sup['LEAID'].apply(lambda x: '{0:0>7}'.format(x))"
   ]
  },
  {
   "cell_type": "code",
   "execution_count": 46,
   "metadata": {},
   "outputs": [
    {
     "data": {
      "text/plain": [
       "Index(['LEA_STATE', 'LEA_STATE_NAME', 'LEAID', 'LEA_NAME', 'SCHID', 'SCH_NAME',\n",
       "       'COMBOKEY', 'JJ', 'SCH_FTETEACH_TOT', 'SCH_FTETEACH_CERT',\n",
       "       'SCH_FTETEACH_NOTCERT', 'SCH_FTETEACH_FY', 'SCH_FTETEACH_SY',\n",
       "       'SCH_TEACHERS_CURR_TOT', 'SCH_TEACHERS_PREV_TOT', 'SCH_FTETEACH_ABSENT',\n",
       "       'SCH_FTECOUNSELORS', 'SCH_FTESECURITY_LEO', 'SCH_FTESECURITY_GUA',\n",
       "       'SCH_FTESERVICES_NUR', 'SCH_FTESERVICES_PSY', 'SCH_FTESERVICES_SOC'],\n",
       "      dtype='object')"
      ]
     },
     "execution_count": 46,
     "metadata": {},
     "output_type": "execute_result"
    }
   ],
   "source": [
    "Sch_sup.columns"
   ]
  },
  {
   "cell_type": "code",
   "execution_count": 47,
   "metadata": {},
   "outputs": [
    {
     "data": {
      "text/html": [
       "<div>\n",
       "<style scoped>\n",
       "    .dataframe tbody tr th:only-of-type {\n",
       "        vertical-align: middle;\n",
       "    }\n",
       "\n",
       "    .dataframe tbody tr th {\n",
       "        vertical-align: top;\n",
       "    }\n",
       "\n",
       "    .dataframe thead th {\n",
       "        text-align: right;\n",
       "    }\n",
       "</style>\n",
       "<table border=\"1\" class=\"dataframe\">\n",
       "  <thead>\n",
       "    <tr style=\"text-align: right;\">\n",
       "      <th></th>\n",
       "      <th>LEA_STATE</th>\n",
       "      <th>LEA_STATE_NAME</th>\n",
       "      <th>LEAID</th>\n",
       "      <th>LEA_NAME</th>\n",
       "      <th>SCHID</th>\n",
       "      <th>SCH_NAME</th>\n",
       "      <th>COMBOKEY</th>\n",
       "      <th>JJ</th>\n",
       "      <th>SCH_FTETEACH_TOT</th>\n",
       "      <th>SCH_FTETEACH_CERT</th>\n",
       "      <th>...</th>\n",
       "      <th>SCH_FTETEACH_SY</th>\n",
       "      <th>SCH_TEACHERS_CURR_TOT</th>\n",
       "      <th>SCH_TEACHERS_PREV_TOT</th>\n",
       "      <th>SCH_FTETEACH_ABSENT</th>\n",
       "      <th>SCH_FTECOUNSELORS</th>\n",
       "      <th>SCH_FTESECURITY_LEO</th>\n",
       "      <th>SCH_FTESECURITY_GUA</th>\n",
       "      <th>SCH_FTESERVICES_NUR</th>\n",
       "      <th>SCH_FTESERVICES_PSY</th>\n",
       "      <th>SCH_FTESERVICES_SOC</th>\n",
       "    </tr>\n",
       "  </thead>\n",
       "  <tbody>\n",
       "    <tr>\n",
       "      <th>0</th>\n",
       "      <td>AL</td>\n",
       "      <td>ALABAMA</td>\n",
       "      <td>0100002</td>\n",
       "      <td>Alabama Youth Services</td>\n",
       "      <td>01705</td>\n",
       "      <td>Wallace Sch - Mt Meigs Campus</td>\n",
       "      <td>010000201705</td>\n",
       "      <td>Yes</td>\n",
       "      <td>25.00</td>\n",
       "      <td>25.00</td>\n",
       "      <td>...</td>\n",
       "      <td>1.0</td>\n",
       "      <td>25.0</td>\n",
       "      <td>25.0</td>\n",
       "      <td>2.0</td>\n",
       "      <td>1.0</td>\n",
       "      <td>0.0</td>\n",
       "      <td>-9.0</td>\n",
       "      <td>0.0</td>\n",
       "      <td>0.0</td>\n",
       "      <td>0.0</td>\n",
       "    </tr>\n",
       "    <tr>\n",
       "      <th>1</th>\n",
       "      <td>AL</td>\n",
       "      <td>ALABAMA</td>\n",
       "      <td>0100002</td>\n",
       "      <td>Alabama Youth Services</td>\n",
       "      <td>01706</td>\n",
       "      <td>McNeel Sch - Vacca Campus</td>\n",
       "      <td>010000201706</td>\n",
       "      <td>Yes</td>\n",
       "      <td>16.00</td>\n",
       "      <td>16.00</td>\n",
       "      <td>...</td>\n",
       "      <td>0.0</td>\n",
       "      <td>0.0</td>\n",
       "      <td>0.0</td>\n",
       "      <td>3.0</td>\n",
       "      <td>1.0</td>\n",
       "      <td>0.0</td>\n",
       "      <td>-9.0</td>\n",
       "      <td>0.0</td>\n",
       "      <td>0.0</td>\n",
       "      <td>0.0</td>\n",
       "    </tr>\n",
       "    <tr>\n",
       "      <th>2</th>\n",
       "      <td>AL</td>\n",
       "      <td>ALABAMA</td>\n",
       "      <td>0100002</td>\n",
       "      <td>Alabama Youth Services</td>\n",
       "      <td>01876</td>\n",
       "      <td>Alabama Youth Services</td>\n",
       "      <td>010000201876</td>\n",
       "      <td>No</td>\n",
       "      <td>11.00</td>\n",
       "      <td>11.00</td>\n",
       "      <td>...</td>\n",
       "      <td>0.0</td>\n",
       "      <td>11.0</td>\n",
       "      <td>11.0</td>\n",
       "      <td>2.0</td>\n",
       "      <td>1.0</td>\n",
       "      <td>0.0</td>\n",
       "      <td>3.0</td>\n",
       "      <td>0.0</td>\n",
       "      <td>0.0</td>\n",
       "      <td>0.0</td>\n",
       "    </tr>\n",
       "    <tr>\n",
       "      <th>3</th>\n",
       "      <td>AL</td>\n",
       "      <td>ALABAMA</td>\n",
       "      <td>0100002</td>\n",
       "      <td>Alabama Youth Services</td>\n",
       "      <td>99995</td>\n",
       "      <td>AUTAUGA CAMPUS</td>\n",
       "      <td>010000299995</td>\n",
       "      <td>Yes</td>\n",
       "      <td>3.00</td>\n",
       "      <td>3.00</td>\n",
       "      <td>...</td>\n",
       "      <td>0.0</td>\n",
       "      <td>3.0</td>\n",
       "      <td>3.0</td>\n",
       "      <td>2.0</td>\n",
       "      <td>0.0</td>\n",
       "      <td>0.0</td>\n",
       "      <td>-9.0</td>\n",
       "      <td>0.0</td>\n",
       "      <td>0.0</td>\n",
       "      <td>0.0</td>\n",
       "    </tr>\n",
       "    <tr>\n",
       "      <th>4</th>\n",
       "      <td>AL</td>\n",
       "      <td>ALABAMA</td>\n",
       "      <td>0100005</td>\n",
       "      <td>Albertville City</td>\n",
       "      <td>00870</td>\n",
       "      <td>Albertville Middle School</td>\n",
       "      <td>010000500870</td>\n",
       "      <td>No</td>\n",
       "      <td>39.29</td>\n",
       "      <td>39.29</td>\n",
       "      <td>...</td>\n",
       "      <td>3.0</td>\n",
       "      <td>39.0</td>\n",
       "      <td>39.0</td>\n",
       "      <td>8.0</td>\n",
       "      <td>2.0</td>\n",
       "      <td>1.0</td>\n",
       "      <td>0.0</td>\n",
       "      <td>1.0</td>\n",
       "      <td>0.0</td>\n",
       "      <td>0.0</td>\n",
       "    </tr>\n",
       "  </tbody>\n",
       "</table>\n",
       "<p>5 rows × 22 columns</p>\n",
       "</div>"
      ],
      "text/plain": [
       "  LEA_STATE LEA_STATE_NAME    LEAID                LEA_NAME  SCHID  \\\n",
       "0        AL        ALABAMA  0100002  Alabama Youth Services  01705   \n",
       "1        AL        ALABAMA  0100002  Alabama Youth Services  01706   \n",
       "2        AL        ALABAMA  0100002  Alabama Youth Services  01876   \n",
       "3        AL        ALABAMA  0100002  Alabama Youth Services  99995   \n",
       "4        AL        ALABAMA  0100005        Albertville City  00870   \n",
       "\n",
       "                        SCH_NAME      COMBOKEY   JJ  SCH_FTETEACH_TOT  \\\n",
       "0  Wallace Sch - Mt Meigs Campus  010000201705  Yes             25.00   \n",
       "1      McNeel Sch - Vacca Campus  010000201706  Yes             16.00   \n",
       "2         Alabama Youth Services  010000201876   No             11.00   \n",
       "3                 AUTAUGA CAMPUS  010000299995  Yes              3.00   \n",
       "4      Albertville Middle School  010000500870   No             39.29   \n",
       "\n",
       "   SCH_FTETEACH_CERT  ...  SCH_FTETEACH_SY  SCH_TEACHERS_CURR_TOT  \\\n",
       "0              25.00  ...              1.0                   25.0   \n",
       "1              16.00  ...              0.0                    0.0   \n",
       "2              11.00  ...              0.0                   11.0   \n",
       "3               3.00  ...              0.0                    3.0   \n",
       "4              39.29  ...              3.0                   39.0   \n",
       "\n",
       "   SCH_TEACHERS_PREV_TOT  SCH_FTETEACH_ABSENT  SCH_FTECOUNSELORS  \\\n",
       "0                   25.0                  2.0                1.0   \n",
       "1                    0.0                  3.0                1.0   \n",
       "2                   11.0                  2.0                1.0   \n",
       "3                    3.0                  2.0                0.0   \n",
       "4                   39.0                  8.0                2.0   \n",
       "\n",
       "   SCH_FTESECURITY_LEO  SCH_FTESECURITY_GUA  SCH_FTESERVICES_NUR  \\\n",
       "0                  0.0                 -9.0                  0.0   \n",
       "1                  0.0                 -9.0                  0.0   \n",
       "2                  0.0                  3.0                  0.0   \n",
       "3                  0.0                 -9.0                  0.0   \n",
       "4                  1.0                  0.0                  1.0   \n",
       "\n",
       "   SCH_FTESERVICES_PSY  SCH_FTESERVICES_SOC  \n",
       "0                  0.0                  0.0  \n",
       "1                  0.0                  0.0  \n",
       "2                  0.0                  0.0  \n",
       "3                  0.0                  0.0  \n",
       "4                  0.0                  0.0  \n",
       "\n",
       "[5 rows x 22 columns]"
      ]
     },
     "execution_count": 47,
     "metadata": {},
     "output_type": "execute_result"
    }
   ],
   "source": [
    "Sch_sup.head()"
   ]
  },
  {
   "cell_type": "code",
   "execution_count": 48,
   "metadata": {},
   "outputs": [],
   "source": [
    "Sch_sup.drop(Sch_sup.columns[[7,11,12,13,14,15,16,17,18,19,20,21]], axis=1, inplace=True)"
   ]
  },
  {
   "cell_type": "code",
   "execution_count": 49,
   "metadata": {},
   "outputs": [
    {
     "data": {
      "text/html": [
       "<div>\n",
       "<style scoped>\n",
       "    .dataframe tbody tr th:only-of-type {\n",
       "        vertical-align: middle;\n",
       "    }\n",
       "\n",
       "    .dataframe tbody tr th {\n",
       "        vertical-align: top;\n",
       "    }\n",
       "\n",
       "    .dataframe thead th {\n",
       "        text-align: right;\n",
       "    }\n",
       "</style>\n",
       "<table border=\"1\" class=\"dataframe\">\n",
       "  <thead>\n",
       "    <tr style=\"text-align: right;\">\n",
       "      <th></th>\n",
       "      <th>LEA_STATE</th>\n",
       "      <th>LEA_STATE_NAME</th>\n",
       "      <th>LEAID</th>\n",
       "      <th>LEA_NAME</th>\n",
       "      <th>SCHID</th>\n",
       "      <th>SCH_NAME</th>\n",
       "      <th>COMBOKEY</th>\n",
       "      <th>SCH_FTETEACH_TOT</th>\n",
       "      <th>SCH_FTETEACH_CERT</th>\n",
       "      <th>SCH_FTETEACH_NOTCERT</th>\n",
       "    </tr>\n",
       "  </thead>\n",
       "  <tbody>\n",
       "    <tr>\n",
       "      <th>0</th>\n",
       "      <td>AL</td>\n",
       "      <td>ALABAMA</td>\n",
       "      <td>0100002</td>\n",
       "      <td>Alabama Youth Services</td>\n",
       "      <td>01705</td>\n",
       "      <td>Wallace Sch - Mt Meigs Campus</td>\n",
       "      <td>010000201705</td>\n",
       "      <td>25.00</td>\n",
       "      <td>25.00</td>\n",
       "      <td>0.0</td>\n",
       "    </tr>\n",
       "    <tr>\n",
       "      <th>1</th>\n",
       "      <td>AL</td>\n",
       "      <td>ALABAMA</td>\n",
       "      <td>0100002</td>\n",
       "      <td>Alabama Youth Services</td>\n",
       "      <td>01706</td>\n",
       "      <td>McNeel Sch - Vacca Campus</td>\n",
       "      <td>010000201706</td>\n",
       "      <td>16.00</td>\n",
       "      <td>16.00</td>\n",
       "      <td>0.0</td>\n",
       "    </tr>\n",
       "    <tr>\n",
       "      <th>2</th>\n",
       "      <td>AL</td>\n",
       "      <td>ALABAMA</td>\n",
       "      <td>0100002</td>\n",
       "      <td>Alabama Youth Services</td>\n",
       "      <td>01876</td>\n",
       "      <td>Alabama Youth Services</td>\n",
       "      <td>010000201876</td>\n",
       "      <td>11.00</td>\n",
       "      <td>11.00</td>\n",
       "      <td>0.0</td>\n",
       "    </tr>\n",
       "    <tr>\n",
       "      <th>3</th>\n",
       "      <td>AL</td>\n",
       "      <td>ALABAMA</td>\n",
       "      <td>0100002</td>\n",
       "      <td>Alabama Youth Services</td>\n",
       "      <td>99995</td>\n",
       "      <td>AUTAUGA CAMPUS</td>\n",
       "      <td>010000299995</td>\n",
       "      <td>3.00</td>\n",
       "      <td>3.00</td>\n",
       "      <td>0.0</td>\n",
       "    </tr>\n",
       "    <tr>\n",
       "      <th>4</th>\n",
       "      <td>AL</td>\n",
       "      <td>ALABAMA</td>\n",
       "      <td>0100005</td>\n",
       "      <td>Albertville City</td>\n",
       "      <td>00870</td>\n",
       "      <td>Albertville Middle School</td>\n",
       "      <td>010000500870</td>\n",
       "      <td>39.29</td>\n",
       "      <td>39.29</td>\n",
       "      <td>0.0</td>\n",
       "    </tr>\n",
       "  </tbody>\n",
       "</table>\n",
       "</div>"
      ],
      "text/plain": [
       "  LEA_STATE LEA_STATE_NAME    LEAID                LEA_NAME  SCHID  \\\n",
       "0        AL        ALABAMA  0100002  Alabama Youth Services  01705   \n",
       "1        AL        ALABAMA  0100002  Alabama Youth Services  01706   \n",
       "2        AL        ALABAMA  0100002  Alabama Youth Services  01876   \n",
       "3        AL        ALABAMA  0100002  Alabama Youth Services  99995   \n",
       "4        AL        ALABAMA  0100005        Albertville City  00870   \n",
       "\n",
       "                        SCH_NAME      COMBOKEY  SCH_FTETEACH_TOT  \\\n",
       "0  Wallace Sch - Mt Meigs Campus  010000201705             25.00   \n",
       "1      McNeel Sch - Vacca Campus  010000201706             16.00   \n",
       "2         Alabama Youth Services  010000201876             11.00   \n",
       "3                 AUTAUGA CAMPUS  010000299995              3.00   \n",
       "4      Albertville Middle School  010000500870             39.29   \n",
       "\n",
       "   SCH_FTETEACH_CERT  SCH_FTETEACH_NOTCERT  \n",
       "0              25.00                   0.0  \n",
       "1              16.00                   0.0  \n",
       "2              11.00                   0.0  \n",
       "3               3.00                   0.0  \n",
       "4              39.29                   0.0  "
      ]
     },
     "execution_count": 49,
     "metadata": {},
     "output_type": "execute_result"
    }
   ],
   "source": [
    "Sch_sup.head()"
   ]
  },
  {
   "cell_type": "code",
   "execution_count": 50,
   "metadata": {},
   "outputs": [],
   "source": [
    "cols = ['LEAID', 'SCHID']\n",
    "Sch_sup['NCESSCH'] = Sch_sup[cols].apply(lambda row: ''.join(row.values.astype(str)), axis=1)"
   ]
  },
  {
   "cell_type": "code",
   "execution_count": 51,
   "metadata": {},
   "outputs": [
    {
     "data": {
      "text/plain": [
       "(97632, 11)"
      ]
     },
     "execution_count": 51,
     "metadata": {},
     "output_type": "execute_result"
    }
   ],
   "source": [
    "Sch_sup.shape"
   ]
  },
  {
   "cell_type": "code",
   "execution_count": 52,
   "metadata": {},
   "outputs": [
    {
     "data": {
      "text/plain": [
       "True"
      ]
     },
     "execution_count": 52,
     "metadata": {},
     "output_type": "execute_result"
    }
   ],
   "source": [
    "Sch_sup['NCESSCH'].is_unique"
   ]
  },
  {
   "cell_type": "code",
   "execution_count": 53,
   "metadata": {},
   "outputs": [
    {
     "data": {
      "text/plain": [
       "<matplotlib.axes._subplots.AxesSubplot at 0x7f8ef24692e0>"
      ]
     },
     "execution_count": 53,
     "metadata": {},
     "output_type": "execute_result"
    },
    {
     "data": {
      "image/png": "[encoded data removed]",
      "text/plain": [
       "<Figure size 432x288 with 2 Axes>"
      ]
     },
     "metadata": {
      "needs_background": "light"
     },
     "output_type": "display_data"
    }
   ],
   "source": [
    "sns.heatmap(Sch_sup.isnull(),yticklabels=False,cbar=True,cmap='viridis')"
   ]
  },
  {
   "cell_type": "code",
   "execution_count": 54,
   "metadata": {},
   "outputs": [
    {
     "data": {
      "text/html": [
       "<div>\n",
       "<style scoped>\n",
       "    .dataframe tbody tr th:only-of-type {\n",
       "        vertical-align: middle;\n",
       "    }\n",
       "\n",
       "    .dataframe tbody tr th {\n",
       "        vertical-align: top;\n",
       "    }\n",
       "\n",
       "    .dataframe thead th {\n",
       "        text-align: right;\n",
       "    }\n",
       "</style>\n",
       "<table border=\"1\" class=\"dataframe\">\n",
       "  <thead>\n",
       "    <tr style=\"text-align: right;\">\n",
       "      <th></th>\n",
       "      <th>SCH_FTETEACH_TOT</th>\n",
       "      <th>SCH_FTETEACH_CERT</th>\n",
       "      <th>SCH_FTETEACH_NOTCERT</th>\n",
       "    </tr>\n",
       "  </thead>\n",
       "  <tbody>\n",
       "    <tr>\n",
       "      <th>count</th>\n",
       "      <td>97632.000000</td>\n",
       "      <td>97632.000000</td>\n",
       "      <td>97632.000000</td>\n",
       "    </tr>\n",
       "    <tr>\n",
       "      <th>mean</th>\n",
       "      <td>34.045934</td>\n",
       "      <td>32.962739</td>\n",
       "      <td>1.070287</td>\n",
       "    </tr>\n",
       "    <tr>\n",
       "      <th>std</th>\n",
       "      <td>26.406140</td>\n",
       "      <td>25.889269</td>\n",
       "      <td>3.814373</td>\n",
       "    </tr>\n",
       "    <tr>\n",
       "      <th>min</th>\n",
       "      <td>-6.000000</td>\n",
       "      <td>-6.000000</td>\n",
       "      <td>-6.000000</td>\n",
       "    </tr>\n",
       "    <tr>\n",
       "      <th>25%</th>\n",
       "      <td>18.000000</td>\n",
       "      <td>17.000000</td>\n",
       "      <td>0.000000</td>\n",
       "    </tr>\n",
       "    <tr>\n",
       "      <th>50%</th>\n",
       "      <td>29.000000</td>\n",
       "      <td>28.000000</td>\n",
       "      <td>0.000000</td>\n",
       "    </tr>\n",
       "    <tr>\n",
       "      <th>75%</th>\n",
       "      <td>43.000000</td>\n",
       "      <td>42.000000</td>\n",
       "      <td>0.180000</td>\n",
       "    </tr>\n",
       "    <tr>\n",
       "      <th>max</th>\n",
       "      <td>607.000000</td>\n",
       "      <td>499.000000</td>\n",
       "      <td>157.000000</td>\n",
       "    </tr>\n",
       "  </tbody>\n",
       "</table>\n",
       "</div>"
      ],
      "text/plain": [
       "       SCH_FTETEACH_TOT  SCH_FTETEACH_CERT  SCH_FTETEACH_NOTCERT\n",
       "count      97632.000000       97632.000000          97632.000000\n",
       "mean          34.045934          32.962739              1.070287\n",
       "std           26.406140          25.889269              3.814373\n",
       "min           -6.000000          -6.000000             -6.000000\n",
       "25%           18.000000          17.000000              0.000000\n",
       "50%           29.000000          28.000000              0.000000\n",
       "75%           43.000000          42.000000              0.180000\n",
       "max          607.000000         499.000000            157.000000"
      ]
     },
     "execution_count": 54,
     "metadata": {},
     "output_type": "execute_result"
    }
   ],
   "source": [
    "Sch_sup.describe()"
   ]
  },
  {
   "cell_type": "markdown",
   "metadata": {},
   "source": [
    "#### Filtering FTE count GT 1 and Cert count GT -5"
   ]
  },
  {
   "cell_type": "code",
   "execution_count": 55,
   "metadata": {},
   "outputs": [],
   "source": [
    "Sch_sup_FTEGT1= Sch_sup[Sch_sup.SCH_FTETEACH_TOT > 0]"
   ]
  },
  {
   "cell_type": "code",
   "execution_count": 56,
   "metadata": {},
   "outputs": [],
   "source": [
    "Sch_sup_clean= Sch_sup_FTEGT1[Sch_sup_FTEGT1.SCH_FTETEACH_CERT > -5]"
   ]
  },
  {
   "cell_type": "code",
   "execution_count": 57,
   "metadata": {},
   "outputs": [
    {
     "data": {
      "text/plain": [
       "(96854, 11)"
      ]
     },
     "execution_count": 57,
     "metadata": {},
     "output_type": "execute_result"
    }
   ],
   "source": [
    "Sch_sup_clean.shape"
   ]
  },
  {
   "cell_type": "code",
   "execution_count": 58,
   "metadata": {},
   "outputs": [
    {
     "data": {
      "text/html": [
       "<div>\n",
       "<style scoped>\n",
       "    .dataframe tbody tr th:only-of-type {\n",
       "        vertical-align: middle;\n",
       "    }\n",
       "\n",
       "    .dataframe tbody tr th {\n",
       "        vertical-align: top;\n",
       "    }\n",
       "\n",
       "    .dataframe thead th {\n",
       "        text-align: right;\n",
       "    }\n",
       "</style>\n",
       "<table border=\"1\" class=\"dataframe\">\n",
       "  <thead>\n",
       "    <tr style=\"text-align: right;\">\n",
       "      <th></th>\n",
       "      <th>LEA_STATE</th>\n",
       "      <th>LEA_STATE_NAME</th>\n",
       "      <th>LEAID</th>\n",
       "      <th>LEA_NAME</th>\n",
       "      <th>SCHID</th>\n",
       "      <th>SCH_NAME</th>\n",
       "      <th>COMBOKEY</th>\n",
       "      <th>SCH_FTETEACH_TOT</th>\n",
       "      <th>SCH_FTETEACH_CERT</th>\n",
       "      <th>SCH_FTETEACH_NOTCERT</th>\n",
       "      <th>NCESSCH</th>\n",
       "    </tr>\n",
       "  </thead>\n",
       "  <tbody>\n",
       "    <tr>\n",
       "      <th>0</th>\n",
       "      <td>AL</td>\n",
       "      <td>ALABAMA</td>\n",
       "      <td>0100002</td>\n",
       "      <td>Alabama Youth Services</td>\n",
       "      <td>01705</td>\n",
       "      <td>Wallace Sch - Mt Meigs Campus</td>\n",
       "      <td>010000201705</td>\n",
       "      <td>25.00</td>\n",
       "      <td>25.00</td>\n",
       "      <td>0.0</td>\n",
       "      <td>010000201705</td>\n",
       "    </tr>\n",
       "    <tr>\n",
       "      <th>1</th>\n",
       "      <td>AL</td>\n",
       "      <td>ALABAMA</td>\n",
       "      <td>0100002</td>\n",
       "      <td>Alabama Youth Services</td>\n",
       "      <td>01706</td>\n",
       "      <td>McNeel Sch - Vacca Campus</td>\n",
       "      <td>010000201706</td>\n",
       "      <td>16.00</td>\n",
       "      <td>16.00</td>\n",
       "      <td>0.0</td>\n",
       "      <td>010000201706</td>\n",
       "    </tr>\n",
       "    <tr>\n",
       "      <th>2</th>\n",
       "      <td>AL</td>\n",
       "      <td>ALABAMA</td>\n",
       "      <td>0100002</td>\n",
       "      <td>Alabama Youth Services</td>\n",
       "      <td>01876</td>\n",
       "      <td>Alabama Youth Services</td>\n",
       "      <td>010000201876</td>\n",
       "      <td>11.00</td>\n",
       "      <td>11.00</td>\n",
       "      <td>0.0</td>\n",
       "      <td>010000201876</td>\n",
       "    </tr>\n",
       "    <tr>\n",
       "      <th>3</th>\n",
       "      <td>AL</td>\n",
       "      <td>ALABAMA</td>\n",
       "      <td>0100002</td>\n",
       "      <td>Alabama Youth Services</td>\n",
       "      <td>99995</td>\n",
       "      <td>AUTAUGA CAMPUS</td>\n",
       "      <td>010000299995</td>\n",
       "      <td>3.00</td>\n",
       "      <td>3.00</td>\n",
       "      <td>0.0</td>\n",
       "      <td>010000299995</td>\n",
       "    </tr>\n",
       "    <tr>\n",
       "      <th>4</th>\n",
       "      <td>AL</td>\n",
       "      <td>ALABAMA</td>\n",
       "      <td>0100005</td>\n",
       "      <td>Albertville City</td>\n",
       "      <td>00870</td>\n",
       "      <td>Albertville Middle School</td>\n",
       "      <td>010000500870</td>\n",
       "      <td>39.29</td>\n",
       "      <td>39.29</td>\n",
       "      <td>0.0</td>\n",
       "      <td>010000500870</td>\n",
       "    </tr>\n",
       "  </tbody>\n",
       "</table>\n",
       "</div>"
      ],
      "text/plain": [
       "  LEA_STATE LEA_STATE_NAME    LEAID                LEA_NAME  SCHID  \\\n",
       "0        AL        ALABAMA  0100002  Alabama Youth Services  01705   \n",
       "1        AL        ALABAMA  0100002  Alabama Youth Services  01706   \n",
       "2        AL        ALABAMA  0100002  Alabama Youth Services  01876   \n",
       "3        AL        ALABAMA  0100002  Alabama Youth Services  99995   \n",
       "4        AL        ALABAMA  0100005        Albertville City  00870   \n",
       "\n",
       "                        SCH_NAME      COMBOKEY  SCH_FTETEACH_TOT  \\\n",
       "0  Wallace Sch - Mt Meigs Campus  010000201705             25.00   \n",
       "1      McNeel Sch - Vacca Campus  010000201706             16.00   \n",
       "2         Alabama Youth Services  010000201876             11.00   \n",
       "3                 AUTAUGA CAMPUS  010000299995              3.00   \n",
       "4      Albertville Middle School  010000500870             39.29   \n",
       "\n",
       "   SCH_FTETEACH_CERT  SCH_FTETEACH_NOTCERT       NCESSCH  \n",
       "0              25.00                   0.0  010000201705  \n",
       "1              16.00                   0.0  010000201706  \n",
       "2              11.00                   0.0  010000201876  \n",
       "3               3.00                   0.0  010000299995  \n",
       "4              39.29                   0.0  010000500870  "
      ]
     },
     "execution_count": 58,
     "metadata": {},
     "output_type": "execute_result"
    }
   ],
   "source": [
    "Sch_sup_clean.head()"
   ]
  },
  {
   "cell_type": "code",
   "execution_count": 59,
   "metadata": {},
   "outputs": [
    {
     "data": {
      "text/html": [
       "<div>\n",
       "<style scoped>\n",
       "    .dataframe tbody tr th:only-of-type {\n",
       "        vertical-align: middle;\n",
       "    }\n",
       "\n",
       "    .dataframe tbody tr th {\n",
       "        vertical-align: top;\n",
       "    }\n",
       "\n",
       "    .dataframe thead th {\n",
       "        text-align: right;\n",
       "    }\n",
       "</style>\n",
       "<table border=\"1\" class=\"dataframe\">\n",
       "  <thead>\n",
       "    <tr style=\"text-align: right;\">\n",
       "      <th></th>\n",
       "      <th>SCH_FTETEACH_TOT</th>\n",
       "      <th>SCH_FTETEACH_CERT</th>\n",
       "      <th>SCH_FTETEACH_NOTCERT</th>\n",
       "    </tr>\n",
       "  </thead>\n",
       "  <tbody>\n",
       "    <tr>\n",
       "      <th>count</th>\n",
       "      <td>96854.000000</td>\n",
       "      <td>96854.000000</td>\n",
       "      <td>96854.000000</td>\n",
       "    </tr>\n",
       "    <tr>\n",
       "      <th>mean</th>\n",
       "      <td>34.320365</td>\n",
       "      <td>33.227343</td>\n",
       "      <td>1.080124</td>\n",
       "    </tr>\n",
       "    <tr>\n",
       "      <th>std</th>\n",
       "      <td>26.332913</td>\n",
       "      <td>25.819590</td>\n",
       "      <td>3.827211</td>\n",
       "    </tr>\n",
       "    <tr>\n",
       "      <th>min</th>\n",
       "      <td>0.010000</td>\n",
       "      <td>0.000000</td>\n",
       "      <td>0.000000</td>\n",
       "    </tr>\n",
       "    <tr>\n",
       "      <th>25%</th>\n",
       "      <td>18.000000</td>\n",
       "      <td>17.090000</td>\n",
       "      <td>0.000000</td>\n",
       "    </tr>\n",
       "    <tr>\n",
       "      <th>50%</th>\n",
       "      <td>29.000000</td>\n",
       "      <td>28.300000</td>\n",
       "      <td>0.000000</td>\n",
       "    </tr>\n",
       "    <tr>\n",
       "      <th>75%</th>\n",
       "      <td>43.000000</td>\n",
       "      <td>42.000000</td>\n",
       "      <td>0.300000</td>\n",
       "    </tr>\n",
       "    <tr>\n",
       "      <th>max</th>\n",
       "      <td>607.000000</td>\n",
       "      <td>499.000000</td>\n",
       "      <td>157.000000</td>\n",
       "    </tr>\n",
       "  </tbody>\n",
       "</table>\n",
       "</div>"
      ],
      "text/plain": [
       "       SCH_FTETEACH_TOT  SCH_FTETEACH_CERT  SCH_FTETEACH_NOTCERT\n",
       "count      96854.000000       96854.000000          96854.000000\n",
       "mean          34.320365          33.227343              1.080124\n",
       "std           26.332913          25.819590              3.827211\n",
       "min            0.010000           0.000000              0.000000\n",
       "25%           18.000000          17.090000              0.000000\n",
       "50%           29.000000          28.300000              0.000000\n",
       "75%           43.000000          42.000000              0.300000\n",
       "max          607.000000         499.000000            157.000000"
      ]
     },
     "execution_count": 59,
     "metadata": {},
     "output_type": "execute_result"
    }
   ],
   "source": [
    "Sch_sup_clean.describe()"
   ]
  },
  {
   "cell_type": "code",
   "execution_count": 60,
   "metadata": {},
   "outputs": [
    {
     "data": {
      "text/plain": [
       "array([[<matplotlib.axes._subplots.AxesSubplot object at 0x7f8ef6f73520>,\n",
       "        <matplotlib.axes._subplots.AxesSubplot object at 0x7f8ef6fa72e0>],\n",
       "       [<matplotlib.axes._subplots.AxesSubplot object at 0x7f8ef6fd2760>,\n",
       "        <matplotlib.axes._subplots.AxesSubplot object at 0x7f8ef7971c10>]],\n",
       "      dtype=object)"
      ]
     },
     "execution_count": 60,
     "metadata": {},
     "output_type": "execute_result"
    },
    {
     "data": {
      "image/png": "[encoded data removed]",
      "text/plain": [
       "<Figure size 432x288 with 4 Axes>"
      ]
     },
     "metadata": {
      "needs_background": "light"
     },
     "output_type": "display_data"
    }
   ],
   "source": [
    "Sch_sup_clean.hist()"
   ]
  },
  {
   "cell_type": "code",
   "execution_count": 61,
   "metadata": {},
   "outputs": [],
   "source": [
    "Sch_sup_clean.to_csv (r'/Users/dansari/Documents/GitHub/Identifying-features-to-predict-high-school-assessment-proficiency/Phase1/Data/CRDC/Clean_crdc_schlsupport.csv', index = False, header=True)"
   ]
  },
  {
   "cell_type": "markdown",
   "metadata": {},
   "source": [
    "### Cleaning SAT and ACT file"
   ]
  },
  {
   "cell_type": "code",
   "execution_count": 62,
   "metadata": {},
   "outputs": [
    {
     "data": {
      "text/html": [
       "<div>\n",
       "<style scoped>\n",
       "    .dataframe tbody tr th:only-of-type {\n",
       "        vertical-align: middle;\n",
       "    }\n",
       "\n",
       "    .dataframe tbody tr th {\n",
       "        vertical-align: top;\n",
       "    }\n",
       "\n",
       "    .dataframe thead th {\n",
       "        text-align: right;\n",
       "    }\n",
       "</style>\n",
       "<table border=\"1\" class=\"dataframe\">\n",
       "  <thead>\n",
       "    <tr style=\"text-align: right;\">\n",
       "      <th></th>\n",
       "      <th>LEA_STATE</th>\n",
       "      <th>LEA_STATE_NAME</th>\n",
       "      <th>LEAID</th>\n",
       "      <th>LEA_NAME</th>\n",
       "      <th>SCHID</th>\n",
       "      <th>SCH_NAME</th>\n",
       "      <th>COMBOKEY</th>\n",
       "      <th>JJ</th>\n",
       "      <th>SCH_SATACT_HI_M</th>\n",
       "      <th>SCH_SATACT_HI_F</th>\n",
       "      <th>...</th>\n",
       "      <th>SCH_SATACT_WH_M</th>\n",
       "      <th>SCH_SATACT_WH_F</th>\n",
       "      <th>SCH_SATACT_TR_M</th>\n",
       "      <th>SCH_SATACT_TR_F</th>\n",
       "      <th>TOT_SATACT_M</th>\n",
       "      <th>TOT_SATACT_F</th>\n",
       "      <th>SCH_SATACT_LEP_M</th>\n",
       "      <th>SCH_SATACT_LEP_F</th>\n",
       "      <th>SCH_SATACT_IDEA_M</th>\n",
       "      <th>SCH_SATACT_IDEA_F</th>\n",
       "    </tr>\n",
       "  </thead>\n",
       "  <tbody>\n",
       "    <tr>\n",
       "      <th>0</th>\n",
       "      <td>AL</td>\n",
       "      <td>ALABAMA</td>\n",
       "      <td>0100002</td>\n",
       "      <td>Alabama Youth Services</td>\n",
       "      <td>1705</td>\n",
       "      <td>Wallace Sch - Mt Meigs Campus</td>\n",
       "      <td>010000201705</td>\n",
       "      <td>Yes</td>\n",
       "      <td>0</td>\n",
       "      <td>0</td>\n",
       "      <td>...</td>\n",
       "      <td>7</td>\n",
       "      <td>0</td>\n",
       "      <td>0</td>\n",
       "      <td>0</td>\n",
       "      <td>18</td>\n",
       "      <td>0</td>\n",
       "      <td>0</td>\n",
       "      <td>0</td>\n",
       "      <td>0</td>\n",
       "      <td>0</td>\n",
       "    </tr>\n",
       "    <tr>\n",
       "      <th>1</th>\n",
       "      <td>AL</td>\n",
       "      <td>ALABAMA</td>\n",
       "      <td>0100002</td>\n",
       "      <td>Alabama Youth Services</td>\n",
       "      <td>1706</td>\n",
       "      <td>McNeel Sch - Vacca Campus</td>\n",
       "      <td>010000201706</td>\n",
       "      <td>Yes</td>\n",
       "      <td>0</td>\n",
       "      <td>0</td>\n",
       "      <td>...</td>\n",
       "      <td>6</td>\n",
       "      <td>0</td>\n",
       "      <td>0</td>\n",
       "      <td>0</td>\n",
       "      <td>10</td>\n",
       "      <td>0</td>\n",
       "      <td>0</td>\n",
       "      <td>0</td>\n",
       "      <td>0</td>\n",
       "      <td>0</td>\n",
       "    </tr>\n",
       "    <tr>\n",
       "      <th>2</th>\n",
       "      <td>AL</td>\n",
       "      <td>ALABAMA</td>\n",
       "      <td>0100002</td>\n",
       "      <td>Alabama Youth Services</td>\n",
       "      <td>1876</td>\n",
       "      <td>Alabama Youth Services</td>\n",
       "      <td>010000201876</td>\n",
       "      <td>No</td>\n",
       "      <td>0</td>\n",
       "      <td>0</td>\n",
       "      <td>...</td>\n",
       "      <td>1</td>\n",
       "      <td>0</td>\n",
       "      <td>0</td>\n",
       "      <td>0</td>\n",
       "      <td>2</td>\n",
       "      <td>0</td>\n",
       "      <td>0</td>\n",
       "      <td>0</td>\n",
       "      <td>0</td>\n",
       "      <td>0</td>\n",
       "    </tr>\n",
       "    <tr>\n",
       "      <th>3</th>\n",
       "      <td>AL</td>\n",
       "      <td>ALABAMA</td>\n",
       "      <td>0100002</td>\n",
       "      <td>Alabama Youth Services</td>\n",
       "      <td>99995</td>\n",
       "      <td>AUTAUGA CAMPUS</td>\n",
       "      <td>010000299995</td>\n",
       "      <td>Yes</td>\n",
       "      <td>0</td>\n",
       "      <td>0</td>\n",
       "      <td>...</td>\n",
       "      <td>1</td>\n",
       "      <td>0</td>\n",
       "      <td>0</td>\n",
       "      <td>0</td>\n",
       "      <td>3</td>\n",
       "      <td>0</td>\n",
       "      <td>0</td>\n",
       "      <td>0</td>\n",
       "      <td>0</td>\n",
       "      <td>0</td>\n",
       "    </tr>\n",
       "    <tr>\n",
       "      <th>4</th>\n",
       "      <td>AL</td>\n",
       "      <td>ALABAMA</td>\n",
       "      <td>0100005</td>\n",
       "      <td>Albertville City</td>\n",
       "      <td>870</td>\n",
       "      <td>Albertville Middle School</td>\n",
       "      <td>010000500870</td>\n",
       "      <td>No</td>\n",
       "      <td>-9</td>\n",
       "      <td>-9</td>\n",
       "      <td>...</td>\n",
       "      <td>-9</td>\n",
       "      <td>-9</td>\n",
       "      <td>-9</td>\n",
       "      <td>-9</td>\n",
       "      <td>-9</td>\n",
       "      <td>-9</td>\n",
       "      <td>-9</td>\n",
       "      <td>-9</td>\n",
       "      <td>-9</td>\n",
       "      <td>-9</td>\n",
       "    </tr>\n",
       "  </tbody>\n",
       "</table>\n",
       "<p>5 rows × 28 columns</p>\n",
       "</div>"
      ],
      "text/plain": [
       "  LEA_STATE LEA_STATE_NAME    LEAID                LEA_NAME  SCHID  \\\n",
       "0        AL        ALABAMA  0100002  Alabama Youth Services   1705   \n",
       "1        AL        ALABAMA  0100002  Alabama Youth Services   1706   \n",
       "2        AL        ALABAMA  0100002  Alabama Youth Services   1876   \n",
       "3        AL        ALABAMA  0100002  Alabama Youth Services  99995   \n",
       "4        AL        ALABAMA  0100005        Albertville City    870   \n",
       "\n",
       "                        SCH_NAME      COMBOKEY   JJ  SCH_SATACT_HI_M  \\\n",
       "0  Wallace Sch - Mt Meigs Campus  010000201705  Yes                0   \n",
       "1      McNeel Sch - Vacca Campus  010000201706  Yes                0   \n",
       "2         Alabama Youth Services  010000201876   No                0   \n",
       "3                 AUTAUGA CAMPUS  010000299995  Yes                0   \n",
       "4      Albertville Middle School  010000500870   No               -9   \n",
       "\n",
       "   SCH_SATACT_HI_F  ...  SCH_SATACT_WH_M  SCH_SATACT_WH_F  SCH_SATACT_TR_M  \\\n",
       "0                0  ...                7                0                0   \n",
       "1                0  ...                6                0                0   \n",
       "2                0  ...                1                0                0   \n",
       "3                0  ...                1                0                0   \n",
       "4               -9  ...               -9               -9               -9   \n",
       "\n",
       "   SCH_SATACT_TR_F  TOT_SATACT_M  TOT_SATACT_F  SCH_SATACT_LEP_M  \\\n",
       "0                0            18             0                 0   \n",
       "1                0            10             0                 0   \n",
       "2                0             2             0                 0   \n",
       "3                0             3             0                 0   \n",
       "4               -9            -9            -9                -9   \n",
       "\n",
       "   SCH_SATACT_LEP_F  SCH_SATACT_IDEA_M  SCH_SATACT_IDEA_F  \n",
       "0                 0                  0                  0  \n",
       "1                 0                  0                  0  \n",
       "2                 0                  0                  0  \n",
       "3                 0                  0                  0  \n",
       "4                -9                 -9                 -9  \n",
       "\n",
       "[5 rows x 28 columns]"
      ]
     },
     "execution_count": 62,
     "metadata": {},
     "output_type": "execute_result"
    }
   ],
   "source": [
    "SAT_ACT = pandas.read_csv(\"SAT and ACT.csv\", encoding='cp1252')\n",
    "SAT_ACT.head()"
   ]
  },
  {
   "cell_type": "code",
   "execution_count": 63,
   "metadata": {},
   "outputs": [],
   "source": [
    "SAT_ACT['LEAID'] = SAT_ACT['LEAID'].apply(lambda x: '{0:0>7}'.format(x))"
   ]
  },
  {
   "cell_type": "code",
   "execution_count": 64,
   "metadata": {},
   "outputs": [],
   "source": [
    "SAT_ACT['SCHID'] = SAT_ACT['SCHID'].apply(lambda x: '{0:0>5}'.format(x))"
   ]
  },
  {
   "cell_type": "code",
   "execution_count": 65,
   "metadata": {},
   "outputs": [
    {
     "data": {
      "text/plain": [
       "Index(['LEA_STATE', 'LEA_STATE_NAME', 'LEAID', 'LEA_NAME', 'SCHID', 'SCH_NAME',\n",
       "       'COMBOKEY', 'JJ', 'SCH_SATACT_HI_M', 'SCH_SATACT_HI_F',\n",
       "       'SCH_SATACT_AM_M', 'SCH_SATACT_AM_F', 'SCH_SATACT_AS_M',\n",
       "       'SCH_SATACT_AS_F', 'SCH_SATACT_HP_M', 'SCH_SATACT_HP_F',\n",
       "       'SCH_SATACT_BL_M', 'SCH_SATACT_BL_F', 'SCH_SATACT_WH_M',\n",
       "       'SCH_SATACT_WH_F', 'SCH_SATACT_TR_M', 'SCH_SATACT_TR_F', 'TOT_SATACT_M',\n",
       "       'TOT_SATACT_F', 'SCH_SATACT_LEP_M', 'SCH_SATACT_LEP_F',\n",
       "       'SCH_SATACT_IDEA_M', 'SCH_SATACT_IDEA_F'],\n",
       "      dtype='object')"
      ]
     },
     "execution_count": 65,
     "metadata": {},
     "output_type": "execute_result"
    }
   ],
   "source": [
    "SAT_ACT.columns"
   ]
  },
  {
   "cell_type": "code",
   "execution_count": 66,
   "metadata": {},
   "outputs": [
    {
     "data": {
      "text/plain": [
       "(97632, 28)"
      ]
     },
     "execution_count": 66,
     "metadata": {},
     "output_type": "execute_result"
    }
   ],
   "source": [
    "SAT_ACT.shape"
   ]
  },
  {
   "cell_type": "code",
   "execution_count": 67,
   "metadata": {},
   "outputs": [],
   "source": [
    "SAT_ACT.drop(SAT_ACT.columns[[7,8,9,10,11,12,13,14,15,16,17,18,19,20,21,24,25,26,27]], axis=1, inplace=True)"
   ]
  },
  {
   "cell_type": "code",
   "execution_count": 68,
   "metadata": {},
   "outputs": [
    {
     "data": {
      "text/html": [
       "<div>\n",
       "<style scoped>\n",
       "    .dataframe tbody tr th:only-of-type {\n",
       "        vertical-align: middle;\n",
       "    }\n",
       "\n",
       "    .dataframe tbody tr th {\n",
       "        vertical-align: top;\n",
       "    }\n",
       "\n",
       "    .dataframe thead th {\n",
       "        text-align: right;\n",
       "    }\n",
       "</style>\n",
       "<table border=\"1\" class=\"dataframe\">\n",
       "  <thead>\n",
       "    <tr style=\"text-align: right;\">\n",
       "      <th></th>\n",
       "      <th>LEA_STATE</th>\n",
       "      <th>LEA_STATE_NAME</th>\n",
       "      <th>LEAID</th>\n",
       "      <th>LEA_NAME</th>\n",
       "      <th>SCHID</th>\n",
       "      <th>SCH_NAME</th>\n",
       "      <th>COMBOKEY</th>\n",
       "      <th>TOT_SATACT_M</th>\n",
       "      <th>TOT_SATACT_F</th>\n",
       "    </tr>\n",
       "  </thead>\n",
       "  <tbody>\n",
       "    <tr>\n",
       "      <th>0</th>\n",
       "      <td>AL</td>\n",
       "      <td>ALABAMA</td>\n",
       "      <td>0100002</td>\n",
       "      <td>Alabama Youth Services</td>\n",
       "      <td>01705</td>\n",
       "      <td>Wallace Sch - Mt Meigs Campus</td>\n",
       "      <td>010000201705</td>\n",
       "      <td>18</td>\n",
       "      <td>0</td>\n",
       "    </tr>\n",
       "    <tr>\n",
       "      <th>1</th>\n",
       "      <td>AL</td>\n",
       "      <td>ALABAMA</td>\n",
       "      <td>0100002</td>\n",
       "      <td>Alabama Youth Services</td>\n",
       "      <td>01706</td>\n",
       "      <td>McNeel Sch - Vacca Campus</td>\n",
       "      <td>010000201706</td>\n",
       "      <td>10</td>\n",
       "      <td>0</td>\n",
       "    </tr>\n",
       "    <tr>\n",
       "      <th>2</th>\n",
       "      <td>AL</td>\n",
       "      <td>ALABAMA</td>\n",
       "      <td>0100002</td>\n",
       "      <td>Alabama Youth Services</td>\n",
       "      <td>01876</td>\n",
       "      <td>Alabama Youth Services</td>\n",
       "      <td>010000201876</td>\n",
       "      <td>2</td>\n",
       "      <td>0</td>\n",
       "    </tr>\n",
       "    <tr>\n",
       "      <th>3</th>\n",
       "      <td>AL</td>\n",
       "      <td>ALABAMA</td>\n",
       "      <td>0100002</td>\n",
       "      <td>Alabama Youth Services</td>\n",
       "      <td>99995</td>\n",
       "      <td>AUTAUGA CAMPUS</td>\n",
       "      <td>010000299995</td>\n",
       "      <td>3</td>\n",
       "      <td>0</td>\n",
       "    </tr>\n",
       "    <tr>\n",
       "      <th>4</th>\n",
       "      <td>AL</td>\n",
       "      <td>ALABAMA</td>\n",
       "      <td>0100005</td>\n",
       "      <td>Albertville City</td>\n",
       "      <td>00870</td>\n",
       "      <td>Albertville Middle School</td>\n",
       "      <td>010000500870</td>\n",
       "      <td>-9</td>\n",
       "      <td>-9</td>\n",
       "    </tr>\n",
       "  </tbody>\n",
       "</table>\n",
       "</div>"
      ],
      "text/plain": [
       "  LEA_STATE LEA_STATE_NAME    LEAID                LEA_NAME  SCHID  \\\n",
       "0        AL        ALABAMA  0100002  Alabama Youth Services  01705   \n",
       "1        AL        ALABAMA  0100002  Alabama Youth Services  01706   \n",
       "2        AL        ALABAMA  0100002  Alabama Youth Services  01876   \n",
       "3        AL        ALABAMA  0100002  Alabama Youth Services  99995   \n",
       "4        AL        ALABAMA  0100005        Albertville City  00870   \n",
       "\n",
       "                        SCH_NAME      COMBOKEY  TOT_SATACT_M  TOT_SATACT_F  \n",
       "0  Wallace Sch - Mt Meigs Campus  010000201705            18             0  \n",
       "1      McNeel Sch - Vacca Campus  010000201706            10             0  \n",
       "2         Alabama Youth Services  010000201876             2             0  \n",
       "3                 AUTAUGA CAMPUS  010000299995             3             0  \n",
       "4      Albertville Middle School  010000500870            -9            -9  "
      ]
     },
     "execution_count": 68,
     "metadata": {},
     "output_type": "execute_result"
    }
   ],
   "source": [
    "SAT_ACT.head()"
   ]
  },
  {
   "cell_type": "code",
   "execution_count": 69,
   "metadata": {},
   "outputs": [],
   "source": [
    "cols = ['LEAID', 'SCHID']\n",
    "SAT_ACT['NCESSCH'] = SAT_ACT[cols].apply(lambda row: ''.join(row.values.astype(str)), axis=1)"
   ]
  },
  {
   "cell_type": "markdown",
   "metadata": {},
   "source": [
    "#### Adding total count of male and female participation on ACT and SAT"
   ]
  },
  {
   "cell_type": "code",
   "execution_count": 70,
   "metadata": {},
   "outputs": [],
   "source": [
    "SAT_ACT.rename(columns={'TOT_SATACT_M':'Male_part_count','TOT_SATACT_F':'Female_part_count'}, inplace=True)"
   ]
  },
  {
   "cell_type": "code",
   "execution_count": 71,
   "metadata": {},
   "outputs": [],
   "source": [
    "SAT_ACT['Total_SAT_ACT_students'] = (SAT_ACT['Male_part_count'] + SAT_ACT['Female_part_count'])"
   ]
  },
  {
   "cell_type": "code",
   "execution_count": 72,
   "metadata": {},
   "outputs": [
    {
     "data": {
      "text/html": [
       "<div>\n",
       "<style scoped>\n",
       "    .dataframe tbody tr th:only-of-type {\n",
       "        vertical-align: middle;\n",
       "    }\n",
       "\n",
       "    .dataframe tbody tr th {\n",
       "        vertical-align: top;\n",
       "    }\n",
       "\n",
       "    .dataframe thead th {\n",
       "        text-align: right;\n",
       "    }\n",
       "</style>\n",
       "<table border=\"1\" class=\"dataframe\">\n",
       "  <thead>\n",
       "    <tr style=\"text-align: right;\">\n",
       "      <th></th>\n",
       "      <th>LEA_STATE</th>\n",
       "      <th>LEA_STATE_NAME</th>\n",
       "      <th>LEAID</th>\n",
       "      <th>LEA_NAME</th>\n",
       "      <th>SCHID</th>\n",
       "      <th>SCH_NAME</th>\n",
       "      <th>COMBOKEY</th>\n",
       "      <th>Male_part_count</th>\n",
       "      <th>Female_part_count</th>\n",
       "      <th>NCESSCH</th>\n",
       "      <th>Total_SAT_ACT_students</th>\n",
       "    </tr>\n",
       "  </thead>\n",
       "  <tbody>\n",
       "    <tr>\n",
       "      <th>0</th>\n",
       "      <td>AL</td>\n",
       "      <td>ALABAMA</td>\n",
       "      <td>0100002</td>\n",
       "      <td>Alabama Youth Services</td>\n",
       "      <td>01705</td>\n",
       "      <td>Wallace Sch - Mt Meigs Campus</td>\n",
       "      <td>010000201705</td>\n",
       "      <td>18</td>\n",
       "      <td>0</td>\n",
       "      <td>010000201705</td>\n",
       "      <td>18</td>\n",
       "    </tr>\n",
       "    <tr>\n",
       "      <th>1</th>\n",
       "      <td>AL</td>\n",
       "      <td>ALABAMA</td>\n",
       "      <td>0100002</td>\n",
       "      <td>Alabama Youth Services</td>\n",
       "      <td>01706</td>\n",
       "      <td>McNeel Sch - Vacca Campus</td>\n",
       "      <td>010000201706</td>\n",
       "      <td>10</td>\n",
       "      <td>0</td>\n",
       "      <td>010000201706</td>\n",
       "      <td>10</td>\n",
       "    </tr>\n",
       "    <tr>\n",
       "      <th>2</th>\n",
       "      <td>AL</td>\n",
       "      <td>ALABAMA</td>\n",
       "      <td>0100002</td>\n",
       "      <td>Alabama Youth Services</td>\n",
       "      <td>01876</td>\n",
       "      <td>Alabama Youth Services</td>\n",
       "      <td>010000201876</td>\n",
       "      <td>2</td>\n",
       "      <td>0</td>\n",
       "      <td>010000201876</td>\n",
       "      <td>2</td>\n",
       "    </tr>\n",
       "    <tr>\n",
       "      <th>3</th>\n",
       "      <td>AL</td>\n",
       "      <td>ALABAMA</td>\n",
       "      <td>0100002</td>\n",
       "      <td>Alabama Youth Services</td>\n",
       "      <td>99995</td>\n",
       "      <td>AUTAUGA CAMPUS</td>\n",
       "      <td>010000299995</td>\n",
       "      <td>3</td>\n",
       "      <td>0</td>\n",
       "      <td>010000299995</td>\n",
       "      <td>3</td>\n",
       "    </tr>\n",
       "    <tr>\n",
       "      <th>4</th>\n",
       "      <td>AL</td>\n",
       "      <td>ALABAMA</td>\n",
       "      <td>0100005</td>\n",
       "      <td>Albertville City</td>\n",
       "      <td>00870</td>\n",
       "      <td>Albertville Middle School</td>\n",
       "      <td>010000500870</td>\n",
       "      <td>-9</td>\n",
       "      <td>-9</td>\n",
       "      <td>010000500870</td>\n",
       "      <td>-18</td>\n",
       "    </tr>\n",
       "  </tbody>\n",
       "</table>\n",
       "</div>"
      ],
      "text/plain": [
       "  LEA_STATE LEA_STATE_NAME    LEAID                LEA_NAME  SCHID  \\\n",
       "0        AL        ALABAMA  0100002  Alabama Youth Services  01705   \n",
       "1        AL        ALABAMA  0100002  Alabama Youth Services  01706   \n",
       "2        AL        ALABAMA  0100002  Alabama Youth Services  01876   \n",
       "3        AL        ALABAMA  0100002  Alabama Youth Services  99995   \n",
       "4        AL        ALABAMA  0100005        Albertville City  00870   \n",
       "\n",
       "                        SCH_NAME      COMBOKEY  Male_part_count  \\\n",
       "0  Wallace Sch - Mt Meigs Campus  010000201705               18   \n",
       "1      McNeel Sch - Vacca Campus  010000201706               10   \n",
       "2         Alabama Youth Services  010000201876                2   \n",
       "3                 AUTAUGA CAMPUS  010000299995                3   \n",
       "4      Albertville Middle School  010000500870               -9   \n",
       "\n",
       "   Female_part_count       NCESSCH  Total_SAT_ACT_students  \n",
       "0                  0  010000201705                      18  \n",
       "1                  0  010000201706                      10  \n",
       "2                  0  010000201876                       2  \n",
       "3                  0  010000299995                       3  \n",
       "4                 -9  010000500870                     -18  "
      ]
     },
     "execution_count": 72,
     "metadata": {},
     "output_type": "execute_result"
    }
   ],
   "source": [
    "SAT_ACT.head()"
   ]
  },
  {
   "cell_type": "code",
   "execution_count": 73,
   "metadata": {},
   "outputs": [
    {
     "data": {
      "text/html": [
       "<div>\n",
       "<style scoped>\n",
       "    .dataframe tbody tr th:only-of-type {\n",
       "        vertical-align: middle;\n",
       "    }\n",
       "\n",
       "    .dataframe tbody tr th {\n",
       "        vertical-align: top;\n",
       "    }\n",
       "\n",
       "    .dataframe thead th {\n",
       "        text-align: right;\n",
       "    }\n",
       "</style>\n",
       "<table border=\"1\" class=\"dataframe\">\n",
       "  <thead>\n",
       "    <tr style=\"text-align: right;\">\n",
       "      <th></th>\n",
       "      <th>Male_part_count</th>\n",
       "      <th>Female_part_count</th>\n",
       "      <th>Total_SAT_ACT_students</th>\n",
       "    </tr>\n",
       "  </thead>\n",
       "  <tbody>\n",
       "    <tr>\n",
       "      <th>count</th>\n",
       "      <td>97632.000000</td>\n",
       "      <td>97632.000000</td>\n",
       "      <td>97632.000000</td>\n",
       "    </tr>\n",
       "    <tr>\n",
       "      <th>mean</th>\n",
       "      <td>11.282950</td>\n",
       "      <td>13.440306</td>\n",
       "      <td>24.723257</td>\n",
       "    </tr>\n",
       "    <tr>\n",
       "      <th>std</th>\n",
       "      <td>62.969086</td>\n",
       "      <td>68.903726</td>\n",
       "      <td>131.282228</td>\n",
       "    </tr>\n",
       "    <tr>\n",
       "      <th>min</th>\n",
       "      <td>-9.000000</td>\n",
       "      <td>-9.000000</td>\n",
       "      <td>-18.000000</td>\n",
       "    </tr>\n",
       "    <tr>\n",
       "      <th>25%</th>\n",
       "      <td>-9.000000</td>\n",
       "      <td>-9.000000</td>\n",
       "      <td>-18.000000</td>\n",
       "    </tr>\n",
       "    <tr>\n",
       "      <th>50%</th>\n",
       "      <td>-9.000000</td>\n",
       "      <td>-9.000000</td>\n",
       "      <td>-18.000000</td>\n",
       "    </tr>\n",
       "    <tr>\n",
       "      <th>75%</th>\n",
       "      <td>0.000000</td>\n",
       "      <td>0.000000</td>\n",
       "      <td>0.000000</td>\n",
       "    </tr>\n",
       "    <tr>\n",
       "      <th>max</th>\n",
       "      <td>1454.000000</td>\n",
       "      <td>1334.000000</td>\n",
       "      <td>2788.000000</td>\n",
       "    </tr>\n",
       "  </tbody>\n",
       "</table>\n",
       "</div>"
      ],
      "text/plain": [
       "       Male_part_count  Female_part_count  Total_SAT_ACT_students\n",
       "count     97632.000000       97632.000000            97632.000000\n",
       "mean         11.282950          13.440306               24.723257\n",
       "std          62.969086          68.903726              131.282228\n",
       "min          -9.000000          -9.000000              -18.000000\n",
       "25%          -9.000000          -9.000000              -18.000000\n",
       "50%          -9.000000          -9.000000              -18.000000\n",
       "75%           0.000000           0.000000                0.000000\n",
       "max        1454.000000        1334.000000             2788.000000"
      ]
     },
     "execution_count": 73,
     "metadata": {},
     "output_type": "execute_result"
    }
   ],
   "source": [
    "SAT_ACT.describe()"
   ]
  },
  {
   "cell_type": "markdown",
   "metadata": {},
   "source": [
    "#### Keeping total counts GT 0"
   ]
  },
  {
   "cell_type": "code",
   "execution_count": 74,
   "metadata": {},
   "outputs": [],
   "source": [
    "SAT_ACT_clean= SAT_ACT[SAT_ACT.Total_SAT_ACT_students > 0]"
   ]
  },
  {
   "cell_type": "code",
   "execution_count": 75,
   "metadata": {},
   "outputs": [
    {
     "data": {
      "text/plain": [
       "(20586, 11)"
      ]
     },
     "execution_count": 75,
     "metadata": {},
     "output_type": "execute_result"
    }
   ],
   "source": [
    "SAT_ACT_clean.shape"
   ]
  },
  {
   "cell_type": "code",
   "execution_count": 76,
   "metadata": {},
   "outputs": [
    {
     "data": {
      "text/html": [
       "<div>\n",
       "<style scoped>\n",
       "    .dataframe tbody tr th:only-of-type {\n",
       "        vertical-align: middle;\n",
       "    }\n",
       "\n",
       "    .dataframe tbody tr th {\n",
       "        vertical-align: top;\n",
       "    }\n",
       "\n",
       "    .dataframe thead th {\n",
       "        text-align: right;\n",
       "    }\n",
       "</style>\n",
       "<table border=\"1\" class=\"dataframe\">\n",
       "  <thead>\n",
       "    <tr style=\"text-align: right;\">\n",
       "      <th></th>\n",
       "      <th>LEA_STATE</th>\n",
       "      <th>LEA_STATE_NAME</th>\n",
       "      <th>LEAID</th>\n",
       "      <th>LEA_NAME</th>\n",
       "      <th>SCHID</th>\n",
       "      <th>SCH_NAME</th>\n",
       "      <th>COMBOKEY</th>\n",
       "      <th>Male_part_count</th>\n",
       "      <th>Female_part_count</th>\n",
       "      <th>NCESSCH</th>\n",
       "      <th>Total_SAT_ACT_students</th>\n",
       "    </tr>\n",
       "  </thead>\n",
       "  <tbody>\n",
       "    <tr>\n",
       "      <th>0</th>\n",
       "      <td>AL</td>\n",
       "      <td>ALABAMA</td>\n",
       "      <td>0100002</td>\n",
       "      <td>Alabama Youth Services</td>\n",
       "      <td>01705</td>\n",
       "      <td>Wallace Sch - Mt Meigs Campus</td>\n",
       "      <td>010000201705</td>\n",
       "      <td>18</td>\n",
       "      <td>0</td>\n",
       "      <td>010000201705</td>\n",
       "      <td>18</td>\n",
       "    </tr>\n",
       "    <tr>\n",
       "      <th>1</th>\n",
       "      <td>AL</td>\n",
       "      <td>ALABAMA</td>\n",
       "      <td>0100002</td>\n",
       "      <td>Alabama Youth Services</td>\n",
       "      <td>01706</td>\n",
       "      <td>McNeel Sch - Vacca Campus</td>\n",
       "      <td>010000201706</td>\n",
       "      <td>10</td>\n",
       "      <td>0</td>\n",
       "      <td>010000201706</td>\n",
       "      <td>10</td>\n",
       "    </tr>\n",
       "    <tr>\n",
       "      <th>2</th>\n",
       "      <td>AL</td>\n",
       "      <td>ALABAMA</td>\n",
       "      <td>0100002</td>\n",
       "      <td>Alabama Youth Services</td>\n",
       "      <td>01876</td>\n",
       "      <td>Alabama Youth Services</td>\n",
       "      <td>010000201876</td>\n",
       "      <td>2</td>\n",
       "      <td>0</td>\n",
       "      <td>010000201876</td>\n",
       "      <td>2</td>\n",
       "    </tr>\n",
       "    <tr>\n",
       "      <th>3</th>\n",
       "      <td>AL</td>\n",
       "      <td>ALABAMA</td>\n",
       "      <td>0100002</td>\n",
       "      <td>Alabama Youth Services</td>\n",
       "      <td>99995</td>\n",
       "      <td>AUTAUGA CAMPUS</td>\n",
       "      <td>010000299995</td>\n",
       "      <td>3</td>\n",
       "      <td>0</td>\n",
       "      <td>010000299995</td>\n",
       "      <td>3</td>\n",
       "    </tr>\n",
       "    <tr>\n",
       "      <th>5</th>\n",
       "      <td>AL</td>\n",
       "      <td>ALABAMA</td>\n",
       "      <td>0100005</td>\n",
       "      <td>Albertville City</td>\n",
       "      <td>00871</td>\n",
       "      <td>Albertville High School</td>\n",
       "      <td>010000500871</td>\n",
       "      <td>177</td>\n",
       "      <td>186</td>\n",
       "      <td>010000500871</td>\n",
       "      <td>363</td>\n",
       "    </tr>\n",
       "  </tbody>\n",
       "</table>\n",
       "</div>"
      ],
      "text/plain": [
       "  LEA_STATE LEA_STATE_NAME    LEAID                LEA_NAME  SCHID  \\\n",
       "0        AL        ALABAMA  0100002  Alabama Youth Services  01705   \n",
       "1        AL        ALABAMA  0100002  Alabama Youth Services  01706   \n",
       "2        AL        ALABAMA  0100002  Alabama Youth Services  01876   \n",
       "3        AL        ALABAMA  0100002  Alabama Youth Services  99995   \n",
       "5        AL        ALABAMA  0100005        Albertville City  00871   \n",
       "\n",
       "                        SCH_NAME      COMBOKEY  Male_part_count  \\\n",
       "0  Wallace Sch - Mt Meigs Campus  010000201705               18   \n",
       "1      McNeel Sch - Vacca Campus  010000201706               10   \n",
       "2         Alabama Youth Services  010000201876                2   \n",
       "3                 AUTAUGA CAMPUS  010000299995                3   \n",
       "5        Albertville High School  010000500871              177   \n",
       "\n",
       "   Female_part_count       NCESSCH  Total_SAT_ACT_students  \n",
       "0                  0  010000201705                      18  \n",
       "1                  0  010000201706                      10  \n",
       "2                  0  010000201876                       2  \n",
       "3                  0  010000299995                       3  \n",
       "5                186  010000500871                     363  "
      ]
     },
     "execution_count": 76,
     "metadata": {},
     "output_type": "execute_result"
    }
   ],
   "source": [
    "SAT_ACT_clean.head()"
   ]
  },
  {
   "cell_type": "code",
   "execution_count": 77,
   "metadata": {},
   "outputs": [
    {
     "data": {
      "text/plain": [
       "<matplotlib.axes._subplots.AxesSubplot at 0x7f8ef30099d0>"
      ]
     },
     "execution_count": 77,
     "metadata": {},
     "output_type": "execute_result"
    },
    {
     "data": {
      "image/png": "[encoded data removed]",
      "text/plain": [
       "<Figure size 432x288 with 2 Axes>"
      ]
     },
     "metadata": {
      "needs_background": "light"
     },
     "output_type": "display_data"
    }
   ],
   "source": [
    "sns.heatmap(SAT_ACT.isnull(),yticklabels=False,cbar=True,cmap='viridis')"
   ]
  },
  {
   "cell_type": "code",
   "execution_count": 78,
   "metadata": {},
   "outputs": [
    {
     "data": {
      "text/html": [
       "<div>\n",
       "<style scoped>\n",
       "    .dataframe tbody tr th:only-of-type {\n",
       "        vertical-align: middle;\n",
       "    }\n",
       "\n",
       "    .dataframe tbody tr th {\n",
       "        vertical-align: top;\n",
       "    }\n",
       "\n",
       "    .dataframe thead th {\n",
       "        text-align: right;\n",
       "    }\n",
       "</style>\n",
       "<table border=\"1\" class=\"dataframe\">\n",
       "  <thead>\n",
       "    <tr style=\"text-align: right;\">\n",
       "      <th></th>\n",
       "      <th>Male_part_count</th>\n",
       "      <th>Female_part_count</th>\n",
       "      <th>Total_SAT_ACT_students</th>\n",
       "    </tr>\n",
       "  </thead>\n",
       "  <tbody>\n",
       "    <tr>\n",
       "      <th>count</th>\n",
       "      <td>20586.000000</td>\n",
       "      <td>20586.000000</td>\n",
       "      <td>20586.000000</td>\n",
       "    </tr>\n",
       "    <tr>\n",
       "      <th>mean</th>\n",
       "      <td>83.630477</td>\n",
       "      <td>93.862042</td>\n",
       "      <td>177.492519</td>\n",
       "    </tr>\n",
       "    <tr>\n",
       "      <th>std</th>\n",
       "      <td>110.200304</td>\n",
       "      <td>119.552411</td>\n",
       "      <td>228.149599</td>\n",
       "    </tr>\n",
       "    <tr>\n",
       "      <th>min</th>\n",
       "      <td>0.000000</td>\n",
       "      <td>0.000000</td>\n",
       "      <td>1.000000</td>\n",
       "    </tr>\n",
       "    <tr>\n",
       "      <th>25%</th>\n",
       "      <td>12.000000</td>\n",
       "      <td>14.000000</td>\n",
       "      <td>26.000000</td>\n",
       "    </tr>\n",
       "    <tr>\n",
       "      <th>50%</th>\n",
       "      <td>41.000000</td>\n",
       "      <td>47.000000</td>\n",
       "      <td>89.000000</td>\n",
       "    </tr>\n",
       "    <tr>\n",
       "      <th>75%</th>\n",
       "      <td>113.000000</td>\n",
       "      <td>131.000000</td>\n",
       "      <td>243.000000</td>\n",
       "    </tr>\n",
       "    <tr>\n",
       "      <th>max</th>\n",
       "      <td>1454.000000</td>\n",
       "      <td>1334.000000</td>\n",
       "      <td>2788.000000</td>\n",
       "    </tr>\n",
       "  </tbody>\n",
       "</table>\n",
       "</div>"
      ],
      "text/plain": [
       "       Male_part_count  Female_part_count  Total_SAT_ACT_students\n",
       "count     20586.000000       20586.000000            20586.000000\n",
       "mean         83.630477          93.862042              177.492519\n",
       "std         110.200304         119.552411              228.149599\n",
       "min           0.000000           0.000000                1.000000\n",
       "25%          12.000000          14.000000               26.000000\n",
       "50%          41.000000          47.000000               89.000000\n",
       "75%         113.000000         131.000000              243.000000\n",
       "max        1454.000000        1334.000000             2788.000000"
      ]
     },
     "execution_count": 78,
     "metadata": {},
     "output_type": "execute_result"
    }
   ],
   "source": [
    "SAT_ACT_clean.describe()"
   ]
  },
  {
   "cell_type": "code",
   "execution_count": 79,
   "metadata": {},
   "outputs": [
    {
     "data": {
      "text/plain": [
       "array([[<matplotlib.axes._subplots.AxesSubplot object at 0x7f8ef6f77850>,\n",
       "        <matplotlib.axes._subplots.AxesSubplot object at 0x7f8ee4513e50>],\n",
       "       [<matplotlib.axes._subplots.AxesSubplot object at 0x7f8ee454b580>,\n",
       "        <matplotlib.axes._subplots.AxesSubplot object at 0x7f8ee4572d30>]],\n",
       "      dtype=object)"
      ]
     },
     "execution_count": 79,
     "metadata": {},
     "output_type": "execute_result"
    },
    {
     "data": {
      "image/png": "[encoded data removed]",
      "text/plain": [
       "<Figure size 432x288 with 4 Axes>"
      ]
     },
     "metadata": {
      "needs_background": "light"
     },
     "output_type": "display_data"
    }
   ],
   "source": [
    "SAT_ACT_clean.hist()"
   ]
  },
  {
   "cell_type": "code",
   "execution_count": 80,
   "metadata": {},
   "outputs": [],
   "source": [
    "SAT_ACT_clean.to_csv (r'/Users/dansari/Documents/GitHub/Identifying-features-to-predict-high-school-assessment-proficiency/Phase1/Data/CRDC/Clean_crdc_SAT_ACT.csv', index = False, header=True)"
   ]
  },
  {
   "cell_type": "markdown",
   "metadata": {},
   "source": [
    "### Cleaning IB file"
   ]
  },
  {
   "cell_type": "code",
   "execution_count": 81,
   "metadata": {},
   "outputs": [
    {
     "data": {
      "text/html": [
       "<div>\n",
       "<style scoped>\n",
       "    .dataframe tbody tr th:only-of-type {\n",
       "        vertical-align: middle;\n",
       "    }\n",
       "\n",
       "    .dataframe tbody tr th {\n",
       "        vertical-align: top;\n",
       "    }\n",
       "\n",
       "    .dataframe thead th {\n",
       "        text-align: right;\n",
       "    }\n",
       "</style>\n",
       "<table border=\"1\" class=\"dataframe\">\n",
       "  <thead>\n",
       "    <tr style=\"text-align: right;\">\n",
       "      <th></th>\n",
       "      <th>LEA_STATE</th>\n",
       "      <th>LEA_STATE_NAME</th>\n",
       "      <th>LEAID</th>\n",
       "      <th>LEA_NAME</th>\n",
       "      <th>SCHID</th>\n",
       "      <th>SCH_NAME</th>\n",
       "      <th>COMBOKEY</th>\n",
       "      <th>JJ</th>\n",
       "      <th>SCH_IBENR_IND</th>\n",
       "      <th>SCH_IBENR_HI_M</th>\n",
       "      <th>...</th>\n",
       "      <th>SCH_IBENR_WH_M</th>\n",
       "      <th>SCH_IBENR_WH_F</th>\n",
       "      <th>SCH_IBENR_TR_M</th>\n",
       "      <th>SCH_IBENR_TR_F</th>\n",
       "      <th>TOT_IBENR_M</th>\n",
       "      <th>TOT_IBENR_F</th>\n",
       "      <th>SCH_IBENR_LEP_M</th>\n",
       "      <th>SCH_IBENR_LEP_F</th>\n",
       "      <th>SCH_IBENR_IDEA_M</th>\n",
       "      <th>SCH_IBENR_IDEA_F</th>\n",
       "    </tr>\n",
       "  </thead>\n",
       "  <tbody>\n",
       "    <tr>\n",
       "      <th>0</th>\n",
       "      <td>AL</td>\n",
       "      <td>ALABAMA</td>\n",
       "      <td>0100002</td>\n",
       "      <td>Alabama Youth Services</td>\n",
       "      <td>1705</td>\n",
       "      <td>Wallace Sch - Mt Meigs Campus</td>\n",
       "      <td>010000201705</td>\n",
       "      <td>Yes</td>\n",
       "      <td>-9</td>\n",
       "      <td>-9</td>\n",
       "      <td>...</td>\n",
       "      <td>-9</td>\n",
       "      <td>-9</td>\n",
       "      <td>-9</td>\n",
       "      <td>-9</td>\n",
       "      <td>-9</td>\n",
       "      <td>-9</td>\n",
       "      <td>-9</td>\n",
       "      <td>-9</td>\n",
       "      <td>-9</td>\n",
       "      <td>-9</td>\n",
       "    </tr>\n",
       "    <tr>\n",
       "      <th>1</th>\n",
       "      <td>AL</td>\n",
       "      <td>ALABAMA</td>\n",
       "      <td>0100002</td>\n",
       "      <td>Alabama Youth Services</td>\n",
       "      <td>1706</td>\n",
       "      <td>McNeel Sch - Vacca Campus</td>\n",
       "      <td>010000201706</td>\n",
       "      <td>Yes</td>\n",
       "      <td>-9</td>\n",
       "      <td>-9</td>\n",
       "      <td>...</td>\n",
       "      <td>-9</td>\n",
       "      <td>-9</td>\n",
       "      <td>-9</td>\n",
       "      <td>-9</td>\n",
       "      <td>-9</td>\n",
       "      <td>-9</td>\n",
       "      <td>-9</td>\n",
       "      <td>-9</td>\n",
       "      <td>-9</td>\n",
       "      <td>-9</td>\n",
       "    </tr>\n",
       "    <tr>\n",
       "      <th>2</th>\n",
       "      <td>AL</td>\n",
       "      <td>ALABAMA</td>\n",
       "      <td>0100002</td>\n",
       "      <td>Alabama Youth Services</td>\n",
       "      <td>1876</td>\n",
       "      <td>Alabama Youth Services</td>\n",
       "      <td>010000201876</td>\n",
       "      <td>No</td>\n",
       "      <td>No</td>\n",
       "      <td>-9</td>\n",
       "      <td>...</td>\n",
       "      <td>-9</td>\n",
       "      <td>-9</td>\n",
       "      <td>-9</td>\n",
       "      <td>-9</td>\n",
       "      <td>-9</td>\n",
       "      <td>-9</td>\n",
       "      <td>-9</td>\n",
       "      <td>-9</td>\n",
       "      <td>-9</td>\n",
       "      <td>-9</td>\n",
       "    </tr>\n",
       "    <tr>\n",
       "      <th>3</th>\n",
       "      <td>AL</td>\n",
       "      <td>ALABAMA</td>\n",
       "      <td>0100002</td>\n",
       "      <td>Alabama Youth Services</td>\n",
       "      <td>99995</td>\n",
       "      <td>AUTAUGA CAMPUS</td>\n",
       "      <td>010000299995</td>\n",
       "      <td>Yes</td>\n",
       "      <td>-9</td>\n",
       "      <td>-9</td>\n",
       "      <td>...</td>\n",
       "      <td>-9</td>\n",
       "      <td>-9</td>\n",
       "      <td>-9</td>\n",
       "      <td>-9</td>\n",
       "      <td>-9</td>\n",
       "      <td>-9</td>\n",
       "      <td>-9</td>\n",
       "      <td>-9</td>\n",
       "      <td>-9</td>\n",
       "      <td>-9</td>\n",
       "    </tr>\n",
       "    <tr>\n",
       "      <th>4</th>\n",
       "      <td>AL</td>\n",
       "      <td>ALABAMA</td>\n",
       "      <td>0100005</td>\n",
       "      <td>Albertville City</td>\n",
       "      <td>870</td>\n",
       "      <td>Albertville Middle School</td>\n",
       "      <td>010000500870</td>\n",
       "      <td>No</td>\n",
       "      <td>-9</td>\n",
       "      <td>-9</td>\n",
       "      <td>...</td>\n",
       "      <td>-9</td>\n",
       "      <td>-9</td>\n",
       "      <td>-9</td>\n",
       "      <td>-9</td>\n",
       "      <td>-9</td>\n",
       "      <td>-9</td>\n",
       "      <td>-9</td>\n",
       "      <td>-9</td>\n",
       "      <td>-9</td>\n",
       "      <td>-9</td>\n",
       "    </tr>\n",
       "  </tbody>\n",
       "</table>\n",
       "<p>5 rows × 29 columns</p>\n",
       "</div>"
      ],
      "text/plain": [
       "  LEA_STATE LEA_STATE_NAME    LEAID                LEA_NAME  SCHID  \\\n",
       "0        AL        ALABAMA  0100002  Alabama Youth Services   1705   \n",
       "1        AL        ALABAMA  0100002  Alabama Youth Services   1706   \n",
       "2        AL        ALABAMA  0100002  Alabama Youth Services   1876   \n",
       "3        AL        ALABAMA  0100002  Alabama Youth Services  99995   \n",
       "4        AL        ALABAMA  0100005        Albertville City    870   \n",
       "\n",
       "                        SCH_NAME      COMBOKEY   JJ SCH_IBENR_IND  \\\n",
       "0  Wallace Sch - Mt Meigs Campus  010000201705  Yes            -9   \n",
       "1      McNeel Sch - Vacca Campus  010000201706  Yes            -9   \n",
       "2         Alabama Youth Services  010000201876   No            No   \n",
       "3                 AUTAUGA CAMPUS  010000299995  Yes            -9   \n",
       "4      Albertville Middle School  010000500870   No            -9   \n",
       "\n",
       "   SCH_IBENR_HI_M  ...  SCH_IBENR_WH_M  SCH_IBENR_WH_F  SCH_IBENR_TR_M  \\\n",
       "0              -9  ...              -9              -9              -9   \n",
       "1              -9  ...              -9              -9              -9   \n",
       "2              -9  ...              -9              -9              -9   \n",
       "3              -9  ...              -9              -9              -9   \n",
       "4              -9  ...              -9              -9              -9   \n",
       "\n",
       "   SCH_IBENR_TR_F  TOT_IBENR_M  TOT_IBENR_F  SCH_IBENR_LEP_M  SCH_IBENR_LEP_F  \\\n",
       "0              -9           -9           -9               -9               -9   \n",
       "1              -9           -9           -9               -9               -9   \n",
       "2              -9           -9           -9               -9               -9   \n",
       "3              -9           -9           -9               -9               -9   \n",
       "4              -9           -9           -9               -9               -9   \n",
       "\n",
       "   SCH_IBENR_IDEA_M  SCH_IBENR_IDEA_F  \n",
       "0                -9                -9  \n",
       "1                -9                -9  \n",
       "2                -9                -9  \n",
       "3                -9                -9  \n",
       "4                -9                -9  \n",
       "\n",
       "[5 rows x 29 columns]"
      ]
     },
     "execution_count": 81,
     "metadata": {},
     "output_type": "execute_result"
    }
   ],
   "source": [
    "IB= pandas.read_csv(\"International Baccalaureate.csv\",encoding='cp1252')\n",
    "IB.head()"
   ]
  },
  {
   "cell_type": "code",
   "execution_count": 82,
   "metadata": {},
   "outputs": [],
   "source": [
    "IB['SCHID'] = IB['SCHID'].apply(lambda x: '{0:0>5}'.format(x))"
   ]
  },
  {
   "cell_type": "code",
   "execution_count": 83,
   "metadata": {},
   "outputs": [],
   "source": [
    "IB['LEAID'] = IB['LEAID'].apply(lambda x: '{0:0>7}'.format(x))"
   ]
  },
  {
   "cell_type": "code",
   "execution_count": 84,
   "metadata": {},
   "outputs": [
    {
     "data": {
      "text/plain": [
       "Index(['LEA_STATE', 'LEA_STATE_NAME', 'LEAID', 'LEA_NAME', 'SCHID', 'SCH_NAME',\n",
       "       'COMBOKEY', 'JJ', 'SCH_IBENR_IND', 'SCH_IBENR_HI_M', 'SCH_IBENR_HI_F',\n",
       "       'SCH_IBENR_AM_M', 'SCH_IBENR_AM_F', 'SCH_IBENR_AS_M', 'SCH_IBENR_AS_F',\n",
       "       'SCH_IBENR_HP_M', 'SCH_IBENR_HP_F', 'SCH_IBENR_BL_M', 'SCH_IBENR_BL_F',\n",
       "       'SCH_IBENR_WH_M', 'SCH_IBENR_WH_F', 'SCH_IBENR_TR_M', 'SCH_IBENR_TR_F',\n",
       "       'TOT_IBENR_M', 'TOT_IBENR_F', 'SCH_IBENR_LEP_M', 'SCH_IBENR_LEP_F',\n",
       "       'SCH_IBENR_IDEA_M', 'SCH_IBENR_IDEA_F'],\n",
       "      dtype='object')"
      ]
     },
     "execution_count": 84,
     "metadata": {},
     "output_type": "execute_result"
    }
   ],
   "source": [
    "IB.columns"
   ]
  },
  {
   "cell_type": "code",
   "execution_count": 85,
   "metadata": {},
   "outputs": [
    {
     "data": {
      "text/plain": [
       "(97632, 29)"
      ]
     },
     "execution_count": 85,
     "metadata": {},
     "output_type": "execute_result"
    }
   ],
   "source": [
    "IB.shape"
   ]
  },
  {
   "cell_type": "code",
   "execution_count": 86,
   "metadata": {},
   "outputs": [],
   "source": [
    "IB.drop(IB.columns[[7,9,10,11,12,13,14,15,16,17,18,19,20,21,22,25,26,27,28]], axis=1, inplace=True)"
   ]
  },
  {
   "cell_type": "code",
   "execution_count": 87,
   "metadata": {},
   "outputs": [
    {
     "data": {
      "text/html": [
       "<div>\n",
       "<style scoped>\n",
       "    .dataframe tbody tr th:only-of-type {\n",
       "        vertical-align: middle;\n",
       "    }\n",
       "\n",
       "    .dataframe tbody tr th {\n",
       "        vertical-align: top;\n",
       "    }\n",
       "\n",
       "    .dataframe thead th {\n",
       "        text-align: right;\n",
       "    }\n",
       "</style>\n",
       "<table border=\"1\" class=\"dataframe\">\n",
       "  <thead>\n",
       "    <tr style=\"text-align: right;\">\n",
       "      <th></th>\n",
       "      <th>LEA_STATE</th>\n",
       "      <th>LEA_STATE_NAME</th>\n",
       "      <th>LEAID</th>\n",
       "      <th>LEA_NAME</th>\n",
       "      <th>SCHID</th>\n",
       "      <th>SCH_NAME</th>\n",
       "      <th>COMBOKEY</th>\n",
       "      <th>SCH_IBENR_IND</th>\n",
       "      <th>TOT_IBENR_M</th>\n",
       "      <th>TOT_IBENR_F</th>\n",
       "    </tr>\n",
       "  </thead>\n",
       "  <tbody>\n",
       "    <tr>\n",
       "      <th>0</th>\n",
       "      <td>AL</td>\n",
       "      <td>ALABAMA</td>\n",
       "      <td>0100002</td>\n",
       "      <td>Alabama Youth Services</td>\n",
       "      <td>01705</td>\n",
       "      <td>Wallace Sch - Mt Meigs Campus</td>\n",
       "      <td>010000201705</td>\n",
       "      <td>-9</td>\n",
       "      <td>-9</td>\n",
       "      <td>-9</td>\n",
       "    </tr>\n",
       "    <tr>\n",
       "      <th>1</th>\n",
       "      <td>AL</td>\n",
       "      <td>ALABAMA</td>\n",
       "      <td>0100002</td>\n",
       "      <td>Alabama Youth Services</td>\n",
       "      <td>01706</td>\n",
       "      <td>McNeel Sch - Vacca Campus</td>\n",
       "      <td>010000201706</td>\n",
       "      <td>-9</td>\n",
       "      <td>-9</td>\n",
       "      <td>-9</td>\n",
       "    </tr>\n",
       "    <tr>\n",
       "      <th>2</th>\n",
       "      <td>AL</td>\n",
       "      <td>ALABAMA</td>\n",
       "      <td>0100002</td>\n",
       "      <td>Alabama Youth Services</td>\n",
       "      <td>01876</td>\n",
       "      <td>Alabama Youth Services</td>\n",
       "      <td>010000201876</td>\n",
       "      <td>No</td>\n",
       "      <td>-9</td>\n",
       "      <td>-9</td>\n",
       "    </tr>\n",
       "    <tr>\n",
       "      <th>3</th>\n",
       "      <td>AL</td>\n",
       "      <td>ALABAMA</td>\n",
       "      <td>0100002</td>\n",
       "      <td>Alabama Youth Services</td>\n",
       "      <td>99995</td>\n",
       "      <td>AUTAUGA CAMPUS</td>\n",
       "      <td>010000299995</td>\n",
       "      <td>-9</td>\n",
       "      <td>-9</td>\n",
       "      <td>-9</td>\n",
       "    </tr>\n",
       "    <tr>\n",
       "      <th>4</th>\n",
       "      <td>AL</td>\n",
       "      <td>ALABAMA</td>\n",
       "      <td>0100005</td>\n",
       "      <td>Albertville City</td>\n",
       "      <td>00870</td>\n",
       "      <td>Albertville Middle School</td>\n",
       "      <td>010000500870</td>\n",
       "      <td>-9</td>\n",
       "      <td>-9</td>\n",
       "      <td>-9</td>\n",
       "    </tr>\n",
       "  </tbody>\n",
       "</table>\n",
       "</div>"
      ],
      "text/plain": [
       "  LEA_STATE LEA_STATE_NAME    LEAID                LEA_NAME  SCHID  \\\n",
       "0        AL        ALABAMA  0100002  Alabama Youth Services  01705   \n",
       "1        AL        ALABAMA  0100002  Alabama Youth Services  01706   \n",
       "2        AL        ALABAMA  0100002  Alabama Youth Services  01876   \n",
       "3        AL        ALABAMA  0100002  Alabama Youth Services  99995   \n",
       "4        AL        ALABAMA  0100005        Albertville City  00870   \n",
       "\n",
       "                        SCH_NAME      COMBOKEY SCH_IBENR_IND  TOT_IBENR_M  \\\n",
       "0  Wallace Sch - Mt Meigs Campus  010000201705            -9           -9   \n",
       "1      McNeel Sch - Vacca Campus  010000201706            -9           -9   \n",
       "2         Alabama Youth Services  010000201876            No           -9   \n",
       "3                 AUTAUGA CAMPUS  010000299995            -9           -9   \n",
       "4      Albertville Middle School  010000500870            -9           -9   \n",
       "\n",
       "   TOT_IBENR_F  \n",
       "0           -9  \n",
       "1           -9  \n",
       "2           -9  \n",
       "3           -9  \n",
       "4           -9  "
      ]
     },
     "execution_count": 87,
     "metadata": {},
     "output_type": "execute_result"
    }
   ],
   "source": [
    "IB.head()"
   ]
  },
  {
   "cell_type": "code",
   "execution_count": 88,
   "metadata": {},
   "outputs": [],
   "source": [
    "cols = ['LEAID', 'SCHID']\n",
    "IB['NCESSCH'] = IB[cols].apply(lambda row: ''.join(row.values.astype(str)), axis=1)"
   ]
  },
  {
   "cell_type": "code",
   "execution_count": 89,
   "metadata": {},
   "outputs": [],
   "source": [
    "IB.rename(columns={'TOT_IBENR_M':'Male_enroll_count','TOT_IBENR_F':'Female_enroll_count'}, inplace=True)"
   ]
  },
  {
   "cell_type": "code",
   "execution_count": 90,
   "metadata": {},
   "outputs": [],
   "source": [
    "IB['Total_IB_students'] = (IB['Male_enroll_count'] + IB['Female_enroll_count'])"
   ]
  },
  {
   "cell_type": "markdown",
   "metadata": {},
   "source": [
    "#### Keeping IB program indicator with Y/N"
   ]
  },
  {
   "cell_type": "code",
   "execution_count": 91,
   "metadata": {},
   "outputs": [],
   "source": [
    "IB_clean= IB[IB.SCH_IBENR_IND != '-9']"
   ]
  },
  {
   "cell_type": "code",
   "execution_count": 92,
   "metadata": {},
   "outputs": [
    {
     "data": {
      "text/plain": [
       "(28152, 12)"
      ]
     },
     "execution_count": 92,
     "metadata": {},
     "output_type": "execute_result"
    }
   ],
   "source": [
    "IB_clean.shape"
   ]
  },
  {
   "cell_type": "code",
   "execution_count": 93,
   "metadata": {},
   "outputs": [
    {
     "data": {
      "text/plain": [
       "LEA_STATE              object\n",
       "LEA_STATE_NAME         object\n",
       "LEAID                  object\n",
       "LEA_NAME               object\n",
       "SCHID                  object\n",
       "SCH_NAME               object\n",
       "COMBOKEY               object\n",
       "SCH_IBENR_IND          object\n",
       "Male_enroll_count       int64\n",
       "Female_enroll_count     int64\n",
       "NCESSCH                object\n",
       "Total_IB_students       int64\n",
       "dtype: object"
      ]
     },
     "execution_count": 93,
     "metadata": {},
     "output_type": "execute_result"
    }
   ],
   "source": [
    "IB_clean.dtypes"
   ]
  },
  {
   "cell_type": "code",
   "execution_count": 94,
   "metadata": {},
   "outputs": [
    {
     "name": "stderr",
     "output_type": "stream",
     "text": [
      "<ipython-input-94-8edd4897e268>:1: SettingWithCopyWarning: \n",
      "A value is trying to be set on a copy of a slice from a DataFrame.\n",
      "Try using .loc[row_indexer,col_indexer] = value instead\n",
      "\n",
      "See the caveats in the documentation: https://pandas.pydata.org/pandas-docs/stable/user_guide/indexing.html#returning-a-view-versus-a-copy\n",
      "  IB_clean['SCH_IBENR_IND_new'] = IB_clean['SCH_IBENR_IND'].replace(['Yes','No'],['1','0'])\n"
     ]
    }
   ],
   "source": [
    "IB_clean['SCH_IBENR_IND_new'] = IB_clean['SCH_IBENR_IND'].replace(['Yes','No'],['1','0'])"
   ]
  },
  {
   "cell_type": "code",
   "execution_count": 95,
   "metadata": {},
   "outputs": [
    {
     "name": "stderr",
     "output_type": "stream",
     "text": [
      "/opt/anaconda3/lib/python3.8/site-packages/pandas/core/frame.py:2963: SettingWithCopyWarning: \n",
      "A value is trying to be set on a copy of a slice from a DataFrame.\n",
      "Try using .loc[row_indexer,col_indexer] = value instead\n",
      "\n",
      "See the caveats in the documentation: https://pandas.pydata.org/pandas-docs/stable/user_guide/indexing.html#returning-a-view-versus-a-copy\n",
      "  self[k1] = value[k2]\n"
     ]
    }
   ],
   "source": [
    "IB_clean[['SCH_IBENR_IND_new']]=IB_clean[['SCH_IBENR_IND_new']].astype(int)"
   ]
  },
  {
   "cell_type": "code",
   "execution_count": 96,
   "metadata": {},
   "outputs": [
    {
     "data": {
      "text/html": [
       "<div>\n",
       "<style scoped>\n",
       "    .dataframe tbody tr th:only-of-type {\n",
       "        vertical-align: middle;\n",
       "    }\n",
       "\n",
       "    .dataframe tbody tr th {\n",
       "        vertical-align: top;\n",
       "    }\n",
       "\n",
       "    .dataframe thead th {\n",
       "        text-align: right;\n",
       "    }\n",
       "</style>\n",
       "<table border=\"1\" class=\"dataframe\">\n",
       "  <thead>\n",
       "    <tr style=\"text-align: right;\">\n",
       "      <th></th>\n",
       "      <th>LEA_STATE</th>\n",
       "      <th>LEA_STATE_NAME</th>\n",
       "      <th>LEAID</th>\n",
       "      <th>LEA_NAME</th>\n",
       "      <th>SCHID</th>\n",
       "      <th>SCH_NAME</th>\n",
       "      <th>COMBOKEY</th>\n",
       "      <th>SCH_IBENR_IND</th>\n",
       "      <th>Male_enroll_count</th>\n",
       "      <th>Female_enroll_count</th>\n",
       "      <th>NCESSCH</th>\n",
       "      <th>Total_IB_students</th>\n",
       "      <th>SCH_IBENR_IND_new</th>\n",
       "    </tr>\n",
       "  </thead>\n",
       "  <tbody>\n",
       "    <tr>\n",
       "      <th>2</th>\n",
       "      <td>AL</td>\n",
       "      <td>ALABAMA</td>\n",
       "      <td>0100002</td>\n",
       "      <td>Alabama Youth Services</td>\n",
       "      <td>01876</td>\n",
       "      <td>Alabama Youth Services</td>\n",
       "      <td>010000201876</td>\n",
       "      <td>No</td>\n",
       "      <td>-9</td>\n",
       "      <td>-9</td>\n",
       "      <td>010000201876</td>\n",
       "      <td>-18</td>\n",
       "      <td>0</td>\n",
       "    </tr>\n",
       "    <tr>\n",
       "      <th>5</th>\n",
       "      <td>AL</td>\n",
       "      <td>ALABAMA</td>\n",
       "      <td>0100005</td>\n",
       "      <td>Albertville City</td>\n",
       "      <td>00871</td>\n",
       "      <td>Albertville High School</td>\n",
       "      <td>010000500871</td>\n",
       "      <td>No</td>\n",
       "      <td>-9</td>\n",
       "      <td>-9</td>\n",
       "      <td>010000500871</td>\n",
       "      <td>-18</td>\n",
       "      <td>0</td>\n",
       "    </tr>\n",
       "    <tr>\n",
       "      <th>11</th>\n",
       "      <td>AL</td>\n",
       "      <td>ALABAMA</td>\n",
       "      <td>0100006</td>\n",
       "      <td>Marshall County</td>\n",
       "      <td>00872</td>\n",
       "      <td>Asbury High School</td>\n",
       "      <td>010000600872</td>\n",
       "      <td>No</td>\n",
       "      <td>-9</td>\n",
       "      <td>-9</td>\n",
       "      <td>010000600872</td>\n",
       "      <td>-18</td>\n",
       "      <td>0</td>\n",
       "    </tr>\n",
       "    <tr>\n",
       "      <th>14</th>\n",
       "      <td>AL</td>\n",
       "      <td>ALABAMA</td>\n",
       "      <td>0100006</td>\n",
       "      <td>Marshall County</td>\n",
       "      <td>00878</td>\n",
       "      <td>Douglas High School</td>\n",
       "      <td>010000600878</td>\n",
       "      <td>No</td>\n",
       "      <td>-9</td>\n",
       "      <td>-9</td>\n",
       "      <td>010000600878</td>\n",
       "      <td>-18</td>\n",
       "      <td>0</td>\n",
       "    </tr>\n",
       "    <tr>\n",
       "      <th>16</th>\n",
       "      <td>AL</td>\n",
       "      <td>ALABAMA</td>\n",
       "      <td>0100006</td>\n",
       "      <td>Marshall County</td>\n",
       "      <td>00883</td>\n",
       "      <td>Kate D Smith DAR High School</td>\n",
       "      <td>010000600883</td>\n",
       "      <td>No</td>\n",
       "      <td>-9</td>\n",
       "      <td>-9</td>\n",
       "      <td>010000600883</td>\n",
       "      <td>-18</td>\n",
       "      <td>0</td>\n",
       "    </tr>\n",
       "  </tbody>\n",
       "</table>\n",
       "</div>"
      ],
      "text/plain": [
       "   LEA_STATE LEA_STATE_NAME    LEAID                LEA_NAME  SCHID  \\\n",
       "2         AL        ALABAMA  0100002  Alabama Youth Services  01876   \n",
       "5         AL        ALABAMA  0100005        Albertville City  00871   \n",
       "11        AL        ALABAMA  0100006         Marshall County  00872   \n",
       "14        AL        ALABAMA  0100006         Marshall County  00878   \n",
       "16        AL        ALABAMA  0100006         Marshall County  00883   \n",
       "\n",
       "                        SCH_NAME      COMBOKEY SCH_IBENR_IND  \\\n",
       "2         Alabama Youth Services  010000201876            No   \n",
       "5        Albertville High School  010000500871            No   \n",
       "11            Asbury High School  010000600872            No   \n",
       "14           Douglas High School  010000600878            No   \n",
       "16  Kate D Smith DAR High School  010000600883            No   \n",
       "\n",
       "    Male_enroll_count  Female_enroll_count       NCESSCH  Total_IB_students  \\\n",
       "2                  -9                   -9  010000201876                -18   \n",
       "5                  -9                   -9  010000500871                -18   \n",
       "11                 -9                   -9  010000600872                -18   \n",
       "14                 -9                   -9  010000600878                -18   \n",
       "16                 -9                   -9  010000600883                -18   \n",
       "\n",
       "    SCH_IBENR_IND_new  \n",
       "2                   0  \n",
       "5                   0  \n",
       "11                  0  \n",
       "14                  0  \n",
       "16                  0  "
      ]
     },
     "execution_count": 96,
     "metadata": {},
     "output_type": "execute_result"
    }
   ],
   "source": [
    "IB_clean.head()"
   ]
  },
  {
   "cell_type": "code",
   "execution_count": 97,
   "metadata": {},
   "outputs": [
    {
     "data": {
      "text/plain": [
       "<matplotlib.axes._subplots.AxesSubplot at 0x7f8ef2fcd790>"
      ]
     },
     "execution_count": 97,
     "metadata": {},
     "output_type": "execute_result"
    },
    {
     "data": {
      "image/png": "[encoded data removed]",
      "text/plain": [
       "<Figure size 432x288 with 2 Axes>"
      ]
     },
     "metadata": {
      "needs_background": "light"
     },
     "output_type": "display_data"
    }
   ],
   "source": [
    "sns.heatmap(IB_clean.isnull(),yticklabels=False,cbar=True,cmap='viridis')"
   ]
  },
  {
   "cell_type": "code",
   "execution_count": 98,
   "metadata": {},
   "outputs": [
    {
     "data": {
      "text/html": [
       "<div>\n",
       "<style scoped>\n",
       "    .dataframe tbody tr th:only-of-type {\n",
       "        vertical-align: middle;\n",
       "    }\n",
       "\n",
       "    .dataframe tbody tr th {\n",
       "        vertical-align: top;\n",
       "    }\n",
       "\n",
       "    .dataframe thead th {\n",
       "        text-align: right;\n",
       "    }\n",
       "</style>\n",
       "<table border=\"1\" class=\"dataframe\">\n",
       "  <thead>\n",
       "    <tr style=\"text-align: right;\">\n",
       "      <th></th>\n",
       "      <th>Male_enroll_count</th>\n",
       "      <th>Female_enroll_count</th>\n",
       "      <th>Total_IB_students</th>\n",
       "      <th>SCH_IBENR_IND_new</th>\n",
       "    </tr>\n",
       "  </thead>\n",
       "  <tbody>\n",
       "    <tr>\n",
       "      <th>count</th>\n",
       "      <td>28152.000000</td>\n",
       "      <td>28152.000000</td>\n",
       "      <td>28152.000000</td>\n",
       "      <td>28152.000000</td>\n",
       "    </tr>\n",
       "    <tr>\n",
       "      <th>mean</th>\n",
       "      <td>-6.026996</td>\n",
       "      <td>-5.133774</td>\n",
       "      <td>-11.160770</td>\n",
       "      <td>0.032538</td>\n",
       "    </tr>\n",
       "    <tr>\n",
       "      <th>std</th>\n",
       "      <td>23.675975</td>\n",
       "      <td>29.273772</td>\n",
       "      <td>52.639548</td>\n",
       "      <td>0.201606</td>\n",
       "    </tr>\n",
       "    <tr>\n",
       "      <th>min</th>\n",
       "      <td>-9.000000</td>\n",
       "      <td>-9.000000</td>\n",
       "      <td>-18.000000</td>\n",
       "      <td>-6.000000</td>\n",
       "    </tr>\n",
       "    <tr>\n",
       "      <th>25%</th>\n",
       "      <td>-9.000000</td>\n",
       "      <td>-9.000000</td>\n",
       "      <td>-18.000000</td>\n",
       "      <td>0.000000</td>\n",
       "    </tr>\n",
       "    <tr>\n",
       "      <th>50%</th>\n",
       "      <td>-9.000000</td>\n",
       "      <td>-9.000000</td>\n",
       "      <td>-18.000000</td>\n",
       "      <td>0.000000</td>\n",
       "    </tr>\n",
       "    <tr>\n",
       "      <th>75%</th>\n",
       "      <td>-9.000000</td>\n",
       "      <td>-9.000000</td>\n",
       "      <td>-18.000000</td>\n",
       "      <td>0.000000</td>\n",
       "    </tr>\n",
       "    <tr>\n",
       "      <th>max</th>\n",
       "      <td>688.000000</td>\n",
       "      <td>783.000000</td>\n",
       "      <td>1335.000000</td>\n",
       "      <td>1.000000</td>\n",
       "    </tr>\n",
       "  </tbody>\n",
       "</table>\n",
       "</div>"
      ],
      "text/plain": [
       "       Male_enroll_count  Female_enroll_count  Total_IB_students  \\\n",
       "count       28152.000000         28152.000000       28152.000000   \n",
       "mean           -6.026996            -5.133774         -11.160770   \n",
       "std            23.675975            29.273772          52.639548   \n",
       "min            -9.000000            -9.000000         -18.000000   \n",
       "25%            -9.000000            -9.000000         -18.000000   \n",
       "50%            -9.000000            -9.000000         -18.000000   \n",
       "75%            -9.000000            -9.000000         -18.000000   \n",
       "max           688.000000           783.000000        1335.000000   \n",
       "\n",
       "       SCH_IBENR_IND_new  \n",
       "count       28152.000000  \n",
       "mean            0.032538  \n",
       "std             0.201606  \n",
       "min            -6.000000  \n",
       "25%             0.000000  \n",
       "50%             0.000000  \n",
       "75%             0.000000  \n",
       "max             1.000000  "
      ]
     },
     "execution_count": 98,
     "metadata": {},
     "output_type": "execute_result"
    }
   ],
   "source": [
    "IB_clean.describe()"
   ]
  },
  {
   "cell_type": "code",
   "execution_count": 99,
   "metadata": {},
   "outputs": [
    {
     "data": {
      "text/plain": [
       "array([[<matplotlib.axes._subplots.AxesSubplot object at 0x7f8ef6d1cf10>,\n",
       "        <matplotlib.axes._subplots.AxesSubplot object at 0x7f8ee7ace130>],\n",
       "       [<matplotlib.axes._subplots.AxesSubplot object at 0x7f8eedb45550>,\n",
       "        <matplotlib.axes._subplots.AxesSubplot object at 0x7f8eedad99a0>]],\n",
       "      dtype=object)"
      ]
     },
     "execution_count": 99,
     "metadata": {},
     "output_type": "execute_result"
    },
    {
     "data": {
      "image/png": "[encoded data removed]",
      "text/plain": [
       "<Figure size 432x288 with 4 Axes>"
      ]
     },
     "metadata": {
      "needs_background": "light"
     },
     "output_type": "display_data"
    }
   ],
   "source": [
    "IB_clean.hist()"
   ]
  },
  {
   "cell_type": "code",
   "execution_count": 100,
   "metadata": {},
   "outputs": [],
   "source": [
    "IB_clean.to_csv (r'/Users/dansari/Documents/GitHub/Identifying-features-to-predict-high-school-assessment-proficiency/Phase1/Data/CRDC/Clean_crdc_IB.csv', index = False, header=True)"
   ]
  },
  {
   "cell_type": "markdown",
   "metadata": {},
   "source": [
    "### Cleaning AP file"
   ]
  },
  {
   "cell_type": "code",
   "execution_count": 101,
   "metadata": {},
   "outputs": [
    {
     "name": "stderr",
     "output_type": "stream",
     "text": [
      "/opt/anaconda3/lib/python3.8/site-packages/IPython/core/interactiveshell.py:3071: DtypeWarning: Columns (2,6) have mixed types.Specify dtype option on import or set low_memory=False.\n",
      "  has_raised = await self.run_ast_nodes(code_ast.body, cell_name,\n"
     ]
    },
    {
     "data": {
      "text/html": [
       "<div>\n",
       "<style scoped>\n",
       "    .dataframe tbody tr th:only-of-type {\n",
       "        vertical-align: middle;\n",
       "    }\n",
       "\n",
       "    .dataframe tbody tr th {\n",
       "        vertical-align: top;\n",
       "    }\n",
       "\n",
       "    .dataframe thead th {\n",
       "        text-align: right;\n",
       "    }\n",
       "</style>\n",
       "<table border=\"1\" class=\"dataframe\">\n",
       "  <thead>\n",
       "    <tr style=\"text-align: right;\">\n",
       "      <th></th>\n",
       "      <th>LEA_STATE</th>\n",
       "      <th>LEA_STATE_NAME</th>\n",
       "      <th>LEAID</th>\n",
       "      <th>LEA_NAME</th>\n",
       "      <th>SCHID</th>\n",
       "      <th>SCH_NAME</th>\n",
       "      <th>COMBOKEY</th>\n",
       "      <th>JJ</th>\n",
       "      <th>SCH_APENR_IND</th>\n",
       "      <th>SCH_APCOURSES</th>\n",
       "      <th>...</th>\n",
       "      <th>SCH_APEXAM_NONE_WH_M</th>\n",
       "      <th>SCH_APEXAM_NONE_WH_F</th>\n",
       "      <th>SCH_APEXAM_NONE_TR_M</th>\n",
       "      <th>SCH_APEXAM_NONE_TR_F</th>\n",
       "      <th>TOT_APEXAM_NONE_M</th>\n",
       "      <th>TOT_APEXAM_NONE_F</th>\n",
       "      <th>SCH_APEXAM_NONE_LEP_M</th>\n",
       "      <th>SCH_APEXAM_NONE_LEP_F</th>\n",
       "      <th>SCH_APEXAM_NONE_IDEA_M</th>\n",
       "      <th>SCH_APEXAM_NONE_IDEA_F</th>\n",
       "    </tr>\n",
       "  </thead>\n",
       "  <tbody>\n",
       "    <tr>\n",
       "      <th>0</th>\n",
       "      <td>AL</td>\n",
       "      <td>ALABAMA</td>\n",
       "      <td>100002</td>\n",
       "      <td>Alabama Youth Services</td>\n",
       "      <td>1705</td>\n",
       "      <td>Wallace Sch - Mt Meigs Campus</td>\n",
       "      <td>10000201705</td>\n",
       "      <td>Yes</td>\n",
       "      <td>-9</td>\n",
       "      <td>-9</td>\n",
       "      <td>...</td>\n",
       "      <td>-9</td>\n",
       "      <td>-9</td>\n",
       "      <td>-9</td>\n",
       "      <td>-9</td>\n",
       "      <td>-9</td>\n",
       "      <td>-9</td>\n",
       "      <td>-9</td>\n",
       "      <td>-9</td>\n",
       "      <td>-9</td>\n",
       "      <td>-9</td>\n",
       "    </tr>\n",
       "    <tr>\n",
       "      <th>1</th>\n",
       "      <td>AL</td>\n",
       "      <td>ALABAMA</td>\n",
       "      <td>100002</td>\n",
       "      <td>Alabama Youth Services</td>\n",
       "      <td>1706</td>\n",
       "      <td>McNeel Sch - Vacca Campus</td>\n",
       "      <td>10000201706</td>\n",
       "      <td>Yes</td>\n",
       "      <td>-9</td>\n",
       "      <td>-9</td>\n",
       "      <td>...</td>\n",
       "      <td>-9</td>\n",
       "      <td>-9</td>\n",
       "      <td>-9</td>\n",
       "      <td>-9</td>\n",
       "      <td>-9</td>\n",
       "      <td>-9</td>\n",
       "      <td>-9</td>\n",
       "      <td>-9</td>\n",
       "      <td>-9</td>\n",
       "      <td>-9</td>\n",
       "    </tr>\n",
       "    <tr>\n",
       "      <th>2</th>\n",
       "      <td>AL</td>\n",
       "      <td>ALABAMA</td>\n",
       "      <td>100002</td>\n",
       "      <td>Alabama Youth Services</td>\n",
       "      <td>1876</td>\n",
       "      <td>Alabama Youth Services</td>\n",
       "      <td>10000201876</td>\n",
       "      <td>No</td>\n",
       "      <td>No</td>\n",
       "      <td>-9</td>\n",
       "      <td>...</td>\n",
       "      <td>-9</td>\n",
       "      <td>-9</td>\n",
       "      <td>-9</td>\n",
       "      <td>-9</td>\n",
       "      <td>-9</td>\n",
       "      <td>-9</td>\n",
       "      <td>-9</td>\n",
       "      <td>-9</td>\n",
       "      <td>-9</td>\n",
       "      <td>-9</td>\n",
       "    </tr>\n",
       "    <tr>\n",
       "      <th>3</th>\n",
       "      <td>AL</td>\n",
       "      <td>ALABAMA</td>\n",
       "      <td>100002</td>\n",
       "      <td>Alabama Youth Services</td>\n",
       "      <td>99995</td>\n",
       "      <td>AUTAUGA CAMPUS</td>\n",
       "      <td>10000299995</td>\n",
       "      <td>Yes</td>\n",
       "      <td>-9</td>\n",
       "      <td>-9</td>\n",
       "      <td>...</td>\n",
       "      <td>-9</td>\n",
       "      <td>-9</td>\n",
       "      <td>-9</td>\n",
       "      <td>-9</td>\n",
       "      <td>-9</td>\n",
       "      <td>-9</td>\n",
       "      <td>-9</td>\n",
       "      <td>-9</td>\n",
       "      <td>-9</td>\n",
       "      <td>-9</td>\n",
       "    </tr>\n",
       "    <tr>\n",
       "      <th>4</th>\n",
       "      <td>AL</td>\n",
       "      <td>ALABAMA</td>\n",
       "      <td>100005</td>\n",
       "      <td>Albertville City</td>\n",
       "      <td>870</td>\n",
       "      <td>Albertville Middle School</td>\n",
       "      <td>10000500870</td>\n",
       "      <td>No</td>\n",
       "      <td>-9</td>\n",
       "      <td>-9</td>\n",
       "      <td>...</td>\n",
       "      <td>-9</td>\n",
       "      <td>-9</td>\n",
       "      <td>-9</td>\n",
       "      <td>-9</td>\n",
       "      <td>-9</td>\n",
       "      <td>-9</td>\n",
       "      <td>-9</td>\n",
       "      <td>-9</td>\n",
       "      <td>-9</td>\n",
       "      <td>-9</td>\n",
       "    </tr>\n",
       "  </tbody>\n",
       "</table>\n",
       "<p>5 rows × 134 columns</p>\n",
       "</div>"
      ],
      "text/plain": [
       "  LEA_STATE LEA_STATE_NAME   LEAID                LEA_NAME  SCHID  \\\n",
       "0        AL        ALABAMA  100002  Alabama Youth Services   1705   \n",
       "1        AL        ALABAMA  100002  Alabama Youth Services   1706   \n",
       "2        AL        ALABAMA  100002  Alabama Youth Services   1876   \n",
       "3        AL        ALABAMA  100002  Alabama Youth Services  99995   \n",
       "4        AL        ALABAMA  100005        Albertville City    870   \n",
       "\n",
       "                        SCH_NAME     COMBOKEY   JJ SCH_APENR_IND  \\\n",
       "0  Wallace Sch - Mt Meigs Campus  10000201705  Yes            -9   \n",
       "1      McNeel Sch - Vacca Campus  10000201706  Yes            -9   \n",
       "2         Alabama Youth Services  10000201876   No            No   \n",
       "3                 AUTAUGA CAMPUS  10000299995  Yes            -9   \n",
       "4      Albertville Middle School  10000500870   No            -9   \n",
       "\n",
       "   SCH_APCOURSES  ... SCH_APEXAM_NONE_WH_M  SCH_APEXAM_NONE_WH_F  \\\n",
       "0             -9  ...                   -9                    -9   \n",
       "1             -9  ...                   -9                    -9   \n",
       "2             -9  ...                   -9                    -9   \n",
       "3             -9  ...                   -9                    -9   \n",
       "4             -9  ...                   -9                    -9   \n",
       "\n",
       "   SCH_APEXAM_NONE_TR_M  SCH_APEXAM_NONE_TR_F  TOT_APEXAM_NONE_M  \\\n",
       "0                    -9                    -9                 -9   \n",
       "1                    -9                    -9                 -9   \n",
       "2                    -9                    -9                 -9   \n",
       "3                    -9                    -9                 -9   \n",
       "4                    -9                    -9                 -9   \n",
       "\n",
       "   TOT_APEXAM_NONE_F  SCH_APEXAM_NONE_LEP_M  SCH_APEXAM_NONE_LEP_F  \\\n",
       "0                 -9                     -9                     -9   \n",
       "1                 -9                     -9                     -9   \n",
       "2                 -9                     -9                     -9   \n",
       "3                 -9                     -9                     -9   \n",
       "4                 -9                     -9                     -9   \n",
       "\n",
       "   SCH_APEXAM_NONE_IDEA_M  SCH_APEXAM_NONE_IDEA_F  \n",
       "0                      -9                      -9  \n",
       "1                      -9                      -9  \n",
       "2                      -9                      -9  \n",
       "3                      -9                      -9  \n",
       "4                      -9                      -9  \n",
       "\n",
       "[5 rows x 134 columns]"
      ]
     },
     "execution_count": 101,
     "metadata": {},
     "output_type": "execute_result"
    }
   ],
   "source": [
    "AP = pandas.read_csv(\"Advanced Placement.csv\",encoding='cp1252')\n",
    "AP.head()"
   ]
  },
  {
   "cell_type": "code",
   "execution_count": 102,
   "metadata": {},
   "outputs": [],
   "source": [
    "AP['SCHID'] = AP['SCHID'].apply(lambda x: '{0:0>5}'.format(x))"
   ]
  },
  {
   "cell_type": "code",
   "execution_count": 103,
   "metadata": {},
   "outputs": [],
   "source": [
    "AP['LEAID'] = AP['LEAID'].apply(lambda x: '{0:0>7}'.format(x))"
   ]
  },
  {
   "cell_type": "code",
   "execution_count": 104,
   "metadata": {},
   "outputs": [
    {
     "data": {
      "text/plain": [
       "Index(['LEA_STATE', 'LEA_STATE_NAME', 'LEAID', 'LEA_NAME', 'SCHID', 'SCH_NAME',\n",
       "       'COMBOKEY', 'JJ', 'SCH_APENR_IND', 'SCH_APCOURSES',\n",
       "       ...\n",
       "       'SCH_APEXAM_NONE_WH_M', 'SCH_APEXAM_NONE_WH_F', 'SCH_APEXAM_NONE_TR_M',\n",
       "       'SCH_APEXAM_NONE_TR_F', 'TOT_APEXAM_NONE_M', 'TOT_APEXAM_NONE_F',\n",
       "       'SCH_APEXAM_NONE_LEP_M', 'SCH_APEXAM_NONE_LEP_F',\n",
       "       'SCH_APEXAM_NONE_IDEA_M', 'SCH_APEXAM_NONE_IDEA_F'],\n",
       "      dtype='object', length=134)"
      ]
     },
     "execution_count": 104,
     "metadata": {},
     "output_type": "execute_result"
    }
   ],
   "source": [
    "AP.columns"
   ]
  },
  {
   "cell_type": "code",
   "execution_count": 105,
   "metadata": {},
   "outputs": [
    {
     "data": {
      "text/plain": [
       "(97632, 134)"
      ]
     },
     "execution_count": 105,
     "metadata": {},
     "output_type": "execute_result"
    }
   ],
   "source": [
    "AP.shape"
   ]
  },
  {
   "cell_type": "code",
   "execution_count": 106,
   "metadata": {},
   "outputs": [],
   "source": [
    "AP=AP[['LEA_STATE', 'LEA_STATE_NAME', 'LEAID', 'LEA_NAME', 'SCHID', 'SCH_NAME','COMBOKEY','SCH_APENR_IND','SCH_APCOURSES','SCH_APMATHENR_IND','TOT_APMATHENR_M','TOT_APMATHENR_F','SCH_APOTHENR_IND','TOT_APOTHENR_M','TOT_APOTHENR_F','TOT_APEXAM_ONEORMORE_M','TOT_APEXAM_ONEORMORE_F']]"
   ]
  },
  {
   "cell_type": "code",
   "execution_count": 107,
   "metadata": {},
   "outputs": [
    {
     "data": {
      "text/plain": [
       "(97632, 17)"
      ]
     },
     "execution_count": 107,
     "metadata": {},
     "output_type": "execute_result"
    }
   ],
   "source": [
    "AP.shape"
   ]
  },
  {
   "cell_type": "code",
   "execution_count": 108,
   "metadata": {},
   "outputs": [
    {
     "data": {
      "text/html": [
       "<div>\n",
       "<style scoped>\n",
       "    .dataframe tbody tr th:only-of-type {\n",
       "        vertical-align: middle;\n",
       "    }\n",
       "\n",
       "    .dataframe tbody tr th {\n",
       "        vertical-align: top;\n",
       "    }\n",
       "\n",
       "    .dataframe thead th {\n",
       "        text-align: right;\n",
       "    }\n",
       "</style>\n",
       "<table border=\"1\" class=\"dataframe\">\n",
       "  <thead>\n",
       "    <tr style=\"text-align: right;\">\n",
       "      <th></th>\n",
       "      <th>LEA_STATE</th>\n",
       "      <th>LEA_STATE_NAME</th>\n",
       "      <th>LEAID</th>\n",
       "      <th>LEA_NAME</th>\n",
       "      <th>SCHID</th>\n",
       "      <th>SCH_NAME</th>\n",
       "      <th>COMBOKEY</th>\n",
       "      <th>SCH_APENR_IND</th>\n",
       "      <th>SCH_APCOURSES</th>\n",
       "      <th>SCH_APMATHENR_IND</th>\n",
       "      <th>TOT_APMATHENR_M</th>\n",
       "      <th>TOT_APMATHENR_F</th>\n",
       "      <th>SCH_APOTHENR_IND</th>\n",
       "      <th>TOT_APOTHENR_M</th>\n",
       "      <th>TOT_APOTHENR_F</th>\n",
       "      <th>TOT_APEXAM_ONEORMORE_M</th>\n",
       "      <th>TOT_APEXAM_ONEORMORE_F</th>\n",
       "    </tr>\n",
       "  </thead>\n",
       "  <tbody>\n",
       "    <tr>\n",
       "      <th>0</th>\n",
       "      <td>AL</td>\n",
       "      <td>ALABAMA</td>\n",
       "      <td>0100002</td>\n",
       "      <td>Alabama Youth Services</td>\n",
       "      <td>01705</td>\n",
       "      <td>Wallace Sch - Mt Meigs Campus</td>\n",
       "      <td>10000201705</td>\n",
       "      <td>-9</td>\n",
       "      <td>-9</td>\n",
       "      <td>-9</td>\n",
       "      <td>-9</td>\n",
       "      <td>-9</td>\n",
       "      <td>-9</td>\n",
       "      <td>-9</td>\n",
       "      <td>-9</td>\n",
       "      <td>-9</td>\n",
       "      <td>-9</td>\n",
       "    </tr>\n",
       "    <tr>\n",
       "      <th>1</th>\n",
       "      <td>AL</td>\n",
       "      <td>ALABAMA</td>\n",
       "      <td>0100002</td>\n",
       "      <td>Alabama Youth Services</td>\n",
       "      <td>01706</td>\n",
       "      <td>McNeel Sch - Vacca Campus</td>\n",
       "      <td>10000201706</td>\n",
       "      <td>-9</td>\n",
       "      <td>-9</td>\n",
       "      <td>-9</td>\n",
       "      <td>-9</td>\n",
       "      <td>-9</td>\n",
       "      <td>-9</td>\n",
       "      <td>-9</td>\n",
       "      <td>-9</td>\n",
       "      <td>-9</td>\n",
       "      <td>-9</td>\n",
       "    </tr>\n",
       "    <tr>\n",
       "      <th>2</th>\n",
       "      <td>AL</td>\n",
       "      <td>ALABAMA</td>\n",
       "      <td>0100002</td>\n",
       "      <td>Alabama Youth Services</td>\n",
       "      <td>01876</td>\n",
       "      <td>Alabama Youth Services</td>\n",
       "      <td>10000201876</td>\n",
       "      <td>No</td>\n",
       "      <td>-9</td>\n",
       "      <td>-9</td>\n",
       "      <td>-9</td>\n",
       "      <td>-9</td>\n",
       "      <td>-9</td>\n",
       "      <td>-9</td>\n",
       "      <td>-9</td>\n",
       "      <td>-9</td>\n",
       "      <td>-9</td>\n",
       "    </tr>\n",
       "    <tr>\n",
       "      <th>3</th>\n",
       "      <td>AL</td>\n",
       "      <td>ALABAMA</td>\n",
       "      <td>0100002</td>\n",
       "      <td>Alabama Youth Services</td>\n",
       "      <td>99995</td>\n",
       "      <td>AUTAUGA CAMPUS</td>\n",
       "      <td>10000299995</td>\n",
       "      <td>-9</td>\n",
       "      <td>-9</td>\n",
       "      <td>-9</td>\n",
       "      <td>-9</td>\n",
       "      <td>-9</td>\n",
       "      <td>-9</td>\n",
       "      <td>-9</td>\n",
       "      <td>-9</td>\n",
       "      <td>-9</td>\n",
       "      <td>-9</td>\n",
       "    </tr>\n",
       "    <tr>\n",
       "      <th>4</th>\n",
       "      <td>AL</td>\n",
       "      <td>ALABAMA</td>\n",
       "      <td>0100005</td>\n",
       "      <td>Albertville City</td>\n",
       "      <td>00870</td>\n",
       "      <td>Albertville Middle School</td>\n",
       "      <td>10000500870</td>\n",
       "      <td>-9</td>\n",
       "      <td>-9</td>\n",
       "      <td>-9</td>\n",
       "      <td>-9</td>\n",
       "      <td>-9</td>\n",
       "      <td>-9</td>\n",
       "      <td>-9</td>\n",
       "      <td>-9</td>\n",
       "      <td>-9</td>\n",
       "      <td>-9</td>\n",
       "    </tr>\n",
       "  </tbody>\n",
       "</table>\n",
       "</div>"
      ],
      "text/plain": [
       "  LEA_STATE LEA_STATE_NAME    LEAID                LEA_NAME  SCHID  \\\n",
       "0        AL        ALABAMA  0100002  Alabama Youth Services  01705   \n",
       "1        AL        ALABAMA  0100002  Alabama Youth Services  01706   \n",
       "2        AL        ALABAMA  0100002  Alabama Youth Services  01876   \n",
       "3        AL        ALABAMA  0100002  Alabama Youth Services  99995   \n",
       "4        AL        ALABAMA  0100005        Albertville City  00870   \n",
       "\n",
       "                        SCH_NAME     COMBOKEY SCH_APENR_IND  SCH_APCOURSES  \\\n",
       "0  Wallace Sch - Mt Meigs Campus  10000201705            -9             -9   \n",
       "1      McNeel Sch - Vacca Campus  10000201706            -9             -9   \n",
       "2         Alabama Youth Services  10000201876            No             -9   \n",
       "3                 AUTAUGA CAMPUS  10000299995            -9             -9   \n",
       "4      Albertville Middle School  10000500870            -9             -9   \n",
       "\n",
       "  SCH_APMATHENR_IND  TOT_APMATHENR_M  TOT_APMATHENR_F SCH_APOTHENR_IND  \\\n",
       "0                -9               -9               -9               -9   \n",
       "1                -9               -9               -9               -9   \n",
       "2                -9               -9               -9               -9   \n",
       "3                -9               -9               -9               -9   \n",
       "4                -9               -9               -9               -9   \n",
       "\n",
       "   TOT_APOTHENR_M  TOT_APOTHENR_F  TOT_APEXAM_ONEORMORE_M  \\\n",
       "0              -9              -9                      -9   \n",
       "1              -9              -9                      -9   \n",
       "2              -9              -9                      -9   \n",
       "3              -9              -9                      -9   \n",
       "4              -9              -9                      -9   \n",
       "\n",
       "   TOT_APEXAM_ONEORMORE_F  \n",
       "0                      -9  \n",
       "1                      -9  \n",
       "2                      -9  \n",
       "3                      -9  \n",
       "4                      -9  "
      ]
     },
     "execution_count": 108,
     "metadata": {},
     "output_type": "execute_result"
    }
   ],
   "source": [
    "AP.head()"
   ]
  },
  {
   "cell_type": "code",
   "execution_count": 109,
   "metadata": {},
   "outputs": [],
   "source": [
    "cols = ['LEAID', 'SCHID']\n",
    "AP['NCESSCH'] = AP[cols].apply(lambda row: ''.join(row.values.astype(str)), axis=1)"
   ]
  },
  {
   "cell_type": "code",
   "execution_count": 110,
   "metadata": {},
   "outputs": [],
   "source": [
    "AP.rename(columns={'TOT_APMATHENR_M':'Male_enroll_math_count','TOT_APMATHENR_F':'Female_enroll_math_count','TOT_APOTHENR_M':'Male_enroll_other_count','TOT_APOTHENR_F':'Female_enroll_other_count'}, inplace=True)"
   ]
  },
  {
   "cell_type": "code",
   "execution_count": 111,
   "metadata": {},
   "outputs": [],
   "source": [
    "AP['Total_AP_math_students'] = (AP['Male_enroll_math_count'] + AP['Female_enroll_math_count'])"
   ]
  },
  {
   "cell_type": "code",
   "execution_count": 112,
   "metadata": {},
   "outputs": [],
   "source": [
    "AP['Total_AP_other_students'] = (AP['Male_enroll_other_count'] + AP['Female_enroll_other_count'])"
   ]
  },
  {
   "cell_type": "code",
   "execution_count": 113,
   "metadata": {},
   "outputs": [],
   "source": [
    "AP['Total_students_tookAP'] = (AP['TOT_APEXAM_ONEORMORE_M'] + AP['TOT_APEXAM_ONEORMORE_F'])"
   ]
  },
  {
   "cell_type": "code",
   "execution_count": 114,
   "metadata": {},
   "outputs": [
    {
     "data": {
      "text/plain": [
       "Index(['LEA_STATE', 'LEA_STATE_NAME', 'LEAID', 'LEA_NAME', 'SCHID', 'SCH_NAME',\n",
       "       'COMBOKEY', 'SCH_APENR_IND', 'SCH_APCOURSES', 'SCH_APMATHENR_IND',\n",
       "       'Male_enroll_math_count', 'Female_enroll_math_count',\n",
       "       'SCH_APOTHENR_IND', 'Male_enroll_other_count',\n",
       "       'Female_enroll_other_count', 'TOT_APEXAM_ONEORMORE_M',\n",
       "       'TOT_APEXAM_ONEORMORE_F', 'NCESSCH', 'Total_AP_math_students',\n",
       "       'Total_AP_other_students', 'Total_students_tookAP'],\n",
       "      dtype='object')"
      ]
     },
     "execution_count": 114,
     "metadata": {},
     "output_type": "execute_result"
    }
   ],
   "source": [
    "AP.columns"
   ]
  },
  {
   "cell_type": "code",
   "execution_count": 115,
   "metadata": {},
   "outputs": [],
   "source": [
    "AP_math=AP[['LEA_STATE', 'LEA_STATE_NAME', 'LEAID', 'LEA_NAME', 'SCHID', 'SCH_NAME','COMBOKEY','NCESSCH','SCH_APENR_IND', 'SCH_APCOURSES', 'SCH_APMATHENR_IND',\n",
    "       'Total_AP_math_students','Total_students_tookAP']]"
   ]
  },
  {
   "cell_type": "code",
   "execution_count": 116,
   "metadata": {},
   "outputs": [],
   "source": [
    "AP_math_clean= AP_math[AP_math.SCH_APENR_IND.isin(['Yes','No'])]"
   ]
  },
  {
   "cell_type": "code",
   "execution_count": 117,
   "metadata": {},
   "outputs": [
    {
     "data": {
      "text/plain": [
       "(28147, 13)"
      ]
     },
     "execution_count": 117,
     "metadata": {},
     "output_type": "execute_result"
    }
   ],
   "source": [
    "AP_math_clean.shape"
   ]
  },
  {
   "cell_type": "code",
   "execution_count": 118,
   "metadata": {},
   "outputs": [
    {
     "data": {
      "text/plain": [
       "LEA_STATE                 object\n",
       "LEA_STATE_NAME            object\n",
       "LEAID                     object\n",
       "LEA_NAME                  object\n",
       "SCHID                     object\n",
       "SCH_NAME                  object\n",
       "COMBOKEY                  object\n",
       "NCESSCH                   object\n",
       "SCH_APENR_IND             object\n",
       "SCH_APCOURSES              int64\n",
       "SCH_APMATHENR_IND         object\n",
       "Total_AP_math_students     int64\n",
       "Total_students_tookAP      int64\n",
       "dtype: object"
      ]
     },
     "execution_count": 118,
     "metadata": {},
     "output_type": "execute_result"
    }
   ],
   "source": [
    "AP_math_clean.dtypes"
   ]
  },
  {
   "cell_type": "code",
   "execution_count": 119,
   "metadata": {},
   "outputs": [
    {
     "name": "stderr",
     "output_type": "stream",
     "text": [
      "<ipython-input-119-e6bb02182010>:1: SettingWithCopyWarning: \n",
      "A value is trying to be set on a copy of a slice from a DataFrame.\n",
      "Try using .loc[row_indexer,col_indexer] = value instead\n",
      "\n",
      "See the caveats in the documentation: https://pandas.pydata.org/pandas-docs/stable/user_guide/indexing.html#returning-a-view-versus-a-copy\n",
      "  AP_math_clean['SCH_APENR_IND_new'] = AP_math_clean['SCH_APENR_IND'].replace(['Yes','No'],['1','0'])\n"
     ]
    }
   ],
   "source": [
    "AP_math_clean['SCH_APENR_IND_new'] = AP_math_clean['SCH_APENR_IND'].replace(['Yes','No'],['1','0'])"
   ]
  },
  {
   "cell_type": "code",
   "execution_count": 120,
   "metadata": {},
   "outputs": [
    {
     "name": "stderr",
     "output_type": "stream",
     "text": [
      "/opt/anaconda3/lib/python3.8/site-packages/pandas/core/frame.py:2963: SettingWithCopyWarning: \n",
      "A value is trying to be set on a copy of a slice from a DataFrame.\n",
      "Try using .loc[row_indexer,col_indexer] = value instead\n",
      "\n",
      "See the caveats in the documentation: https://pandas.pydata.org/pandas-docs/stable/user_guide/indexing.html#returning-a-view-versus-a-copy\n",
      "  self[k1] = value[k2]\n"
     ]
    }
   ],
   "source": [
    "AP_math_clean[['SCH_APENR_IND_new']] = AP_math_clean[['SCH_APENR_IND_new']].astype(int)"
   ]
  },
  {
   "cell_type": "code",
   "execution_count": 121,
   "metadata": {},
   "outputs": [
    {
     "name": "stderr",
     "output_type": "stream",
     "text": [
      "<ipython-input-121-c7d1eb587fb6>:1: SettingWithCopyWarning: \n",
      "A value is trying to be set on a copy of a slice from a DataFrame.\n",
      "Try using .loc[row_indexer,col_indexer] = value instead\n",
      "\n",
      "See the caveats in the documentation: https://pandas.pydata.org/pandas-docs/stable/user_guide/indexing.html#returning-a-view-versus-a-copy\n",
      "  AP_math_clean['SCH_APMATHENR_IND_new'] = AP_math_clean['SCH_APMATHENR_IND'].replace(['Yes','No'],['1','0'])\n"
     ]
    }
   ],
   "source": [
    "AP_math_clean['SCH_APMATHENR_IND_new'] = AP_math_clean['SCH_APMATHENR_IND'].replace(['Yes','No'],['1','0'])"
   ]
  },
  {
   "cell_type": "code",
   "execution_count": 122,
   "metadata": {},
   "outputs": [],
   "source": [
    "AP_math_clean[['SCH_APMATHENR_IND_new']] = AP_math_clean[['SCH_APMATHENR_IND_new']].astype(int)"
   ]
  },
  {
   "cell_type": "code",
   "execution_count": 123,
   "metadata": {},
   "outputs": [
    {
     "data": {
      "text/plain": [
       "LEA_STATE                 object\n",
       "LEA_STATE_NAME            object\n",
       "LEAID                     object\n",
       "LEA_NAME                  object\n",
       "SCHID                     object\n",
       "SCH_NAME                  object\n",
       "COMBOKEY                  object\n",
       "NCESSCH                   object\n",
       "SCH_APENR_IND             object\n",
       "SCH_APCOURSES              int64\n",
       "SCH_APMATHENR_IND         object\n",
       "Total_AP_math_students     int64\n",
       "Total_students_tookAP      int64\n",
       "SCH_APENR_IND_new          int64\n",
       "SCH_APMATHENR_IND_new      int64\n",
       "dtype: object"
      ]
     },
     "execution_count": 123,
     "metadata": {},
     "output_type": "execute_result"
    }
   ],
   "source": [
    "AP_math_clean.dtypes"
   ]
  },
  {
   "cell_type": "code",
   "execution_count": 124,
   "metadata": {},
   "outputs": [
    {
     "data": {
      "text/plain": [
       "<matplotlib.axes._subplots.AxesSubplot at 0x7f8eedc02a60>"
      ]
     },
     "execution_count": 124,
     "metadata": {},
     "output_type": "execute_result"
    },
    {
     "data": {
      "image/png": "[encoded data removed]",
      "text/plain": [
       "<Figure size 432x288 with 2 Axes>"
      ]
     },
     "metadata": {
      "needs_background": "light"
     },
     "output_type": "display_data"
    }
   ],
   "source": [
    "sns.heatmap(AP_math_clean.isnull(),yticklabels=False,cbar=True,cmap='viridis')"
   ]
  },
  {
   "cell_type": "code",
   "execution_count": 125,
   "metadata": {},
   "outputs": [
    {
     "data": {
      "text/html": [
       "<div>\n",
       "<style scoped>\n",
       "    .dataframe tbody tr th:only-of-type {\n",
       "        vertical-align: middle;\n",
       "    }\n",
       "\n",
       "    .dataframe tbody tr th {\n",
       "        vertical-align: top;\n",
       "    }\n",
       "\n",
       "    .dataframe thead th {\n",
       "        text-align: right;\n",
       "    }\n",
       "</style>\n",
       "<table border=\"1\" class=\"dataframe\">\n",
       "  <thead>\n",
       "    <tr style=\"text-align: right;\">\n",
       "      <th></th>\n",
       "      <th>SCH_APCOURSES</th>\n",
       "      <th>Total_AP_math_students</th>\n",
       "      <th>Total_students_tookAP</th>\n",
       "      <th>SCH_APENR_IND_new</th>\n",
       "      <th>SCH_APMATHENR_IND_new</th>\n",
       "    </tr>\n",
       "  </thead>\n",
       "  <tbody>\n",
       "    <tr>\n",
       "      <th>count</th>\n",
       "      <td>28147.000000</td>\n",
       "      <td>28147.000000</td>\n",
       "      <td>28147.000000</td>\n",
       "      <td>28147.000000</td>\n",
       "      <td>28147.000000</td>\n",
       "    </tr>\n",
       "    <tr>\n",
       "      <th>mean</th>\n",
       "      <td>0.494369</td>\n",
       "      <td>12.574804</td>\n",
       "      <td>71.139589</td>\n",
       "      <td>0.490603</td>\n",
       "      <td>-4.202721</td>\n",
       "    </tr>\n",
       "    <tr>\n",
       "      <th>std</th>\n",
       "      <td>11.204833</td>\n",
       "      <td>64.120296</td>\n",
       "      <td>180.152685</td>\n",
       "      <td>0.499921</td>\n",
       "      <td>4.897040</td>\n",
       "    </tr>\n",
       "    <tr>\n",
       "      <th>min</th>\n",
       "      <td>-9.000000</td>\n",
       "      <td>-18.000000</td>\n",
       "      <td>-18.000000</td>\n",
       "      <td>0.000000</td>\n",
       "      <td>-9.000000</td>\n",
       "    </tr>\n",
       "    <tr>\n",
       "      <th>25%</th>\n",
       "      <td>-9.000000</td>\n",
       "      <td>-18.000000</td>\n",
       "      <td>-18.000000</td>\n",
       "      <td>0.000000</td>\n",
       "      <td>-9.000000</td>\n",
       "    </tr>\n",
       "    <tr>\n",
       "      <th>50%</th>\n",
       "      <td>-9.000000</td>\n",
       "      <td>-18.000000</td>\n",
       "      <td>-18.000000</td>\n",
       "      <td>0.000000</td>\n",
       "      <td>-9.000000</td>\n",
       "    </tr>\n",
       "    <tr>\n",
       "      <th>75%</th>\n",
       "      <td>8.000000</td>\n",
       "      <td>20.000000</td>\n",
       "      <td>73.000000</td>\n",
       "      <td>1.000000</td>\n",
       "      <td>1.000000</td>\n",
       "    </tr>\n",
       "    <tr>\n",
       "      <th>max</th>\n",
       "      <td>82.000000</td>\n",
       "      <td>1650.000000</td>\n",
       "      <td>3737.000000</td>\n",
       "      <td>1.000000</td>\n",
       "      <td>1.000000</td>\n",
       "    </tr>\n",
       "  </tbody>\n",
       "</table>\n",
       "</div>"
      ],
      "text/plain": [
       "       SCH_APCOURSES  Total_AP_math_students  Total_students_tookAP  \\\n",
       "count   28147.000000            28147.000000           28147.000000   \n",
       "mean        0.494369               12.574804              71.139589   \n",
       "std        11.204833               64.120296             180.152685   \n",
       "min        -9.000000              -18.000000             -18.000000   \n",
       "25%        -9.000000              -18.000000             -18.000000   \n",
       "50%        -9.000000              -18.000000             -18.000000   \n",
       "75%         8.000000               20.000000              73.000000   \n",
       "max        82.000000             1650.000000            3737.000000   \n",
       "\n",
       "       SCH_APENR_IND_new  SCH_APMATHENR_IND_new  \n",
       "count       28147.000000           28147.000000  \n",
       "mean            0.490603              -4.202721  \n",
       "std             0.499921               4.897040  \n",
       "min             0.000000              -9.000000  \n",
       "25%             0.000000              -9.000000  \n",
       "50%             0.000000              -9.000000  \n",
       "75%             1.000000               1.000000  \n",
       "max             1.000000               1.000000  "
      ]
     },
     "execution_count": 125,
     "metadata": {},
     "output_type": "execute_result"
    }
   ],
   "source": [
    "AP_math_clean.describe()"
   ]
  },
  {
   "cell_type": "code",
   "execution_count": 126,
   "metadata": {},
   "outputs": [
    {
     "data": {
      "text/plain": [
       "array([[<matplotlib.axes._subplots.AxesSubplot object at 0x7f8ee7aadf10>,\n",
       "        <matplotlib.axes._subplots.AxesSubplot object at 0x7f8ec8faf7c0>],\n",
       "       [<matplotlib.axes._subplots.AxesSubplot object at 0x7f8ec8fd8c70>,\n",
       "        <matplotlib.axes._subplots.AxesSubplot object at 0x7f8eca536160>],\n",
       "       [<matplotlib.axes._subplots.AxesSubplot object at 0x7f8eca596550>,\n",
       "        <matplotlib.axes._subplots.AxesSubplot object at 0x7f8ec8881a00>]],\n",
       "      dtype=object)"
      ]
     },
     "execution_count": 126,
     "metadata": {},
     "output_type": "execute_result"
    },
    {
     "data": {
      "image/png": "[encoded data removed]",
      "text/plain": [
       "<Figure size 432x288 with 6 Axes>"
      ]
     },
     "metadata": {
      "needs_background": "light"
     },
     "output_type": "display_data"
    }
   ],
   "source": [
    "AP_math_clean.hist()"
   ]
  },
  {
   "cell_type": "code",
   "execution_count": 127,
   "metadata": {},
   "outputs": [],
   "source": [
    "AP_math_clean.to_csv (r'/Users/dansari/Documents/GitHub/Identifying-features-to-predict-high-school-assessment-proficiency/Phase1/Data/CRDC/Clean_crdc_AP_math.csv', index = False, header=True)"
   ]
  },
  {
   "cell_type": "code",
   "execution_count": 128,
   "metadata": {},
   "outputs": [],
   "source": [
    "AP_other=AP[['LEA_STATE', 'LEA_STATE_NAME', 'LEAID', 'LEA_NAME', 'SCHID', 'SCH_NAME','COMBOKEY','NCESSCH','SCH_APENR_IND', 'SCH_APCOURSES', 'SCH_APOTHENR_IND',\n",
    "       'Total_AP_other_students', 'Total_students_tookAP']]"
   ]
  },
  {
   "cell_type": "code",
   "execution_count": 129,
   "metadata": {},
   "outputs": [],
   "source": [
    "AP_other_clean= AP_other[AP_other.SCH_APENR_IND.isin(['Yes','No'])]"
   ]
  },
  {
   "cell_type": "code",
   "execution_count": 130,
   "metadata": {},
   "outputs": [
    {
     "data": {
      "text/plain": [
       "(28147, 13)"
      ]
     },
     "execution_count": 130,
     "metadata": {},
     "output_type": "execute_result"
    }
   ],
   "source": [
    "AP_other_clean.shape"
   ]
  },
  {
   "cell_type": "code",
   "execution_count": 131,
   "metadata": {},
   "outputs": [
    {
     "data": {
      "text/plain": [
       "LEA_STATE                  object\n",
       "LEA_STATE_NAME             object\n",
       "LEAID                      object\n",
       "LEA_NAME                   object\n",
       "SCHID                      object\n",
       "SCH_NAME                   object\n",
       "COMBOKEY                   object\n",
       "NCESSCH                    object\n",
       "SCH_APENR_IND              object\n",
       "SCH_APCOURSES               int64\n",
       "SCH_APOTHENR_IND           object\n",
       "Total_AP_other_students     int64\n",
       "Total_students_tookAP       int64\n",
       "dtype: object"
      ]
     },
     "execution_count": 131,
     "metadata": {},
     "output_type": "execute_result"
    }
   ],
   "source": [
    "AP_other_clean.dtypes"
   ]
  },
  {
   "cell_type": "code",
   "execution_count": 132,
   "metadata": {},
   "outputs": [
    {
     "name": "stdout",
     "output_type": "stream",
     "text": [
      "-9     14338\n",
      "Yes    12923\n",
      "No       886\n",
      "Name: SCH_APOTHENR_IND, dtype: int64\n"
     ]
    }
   ],
   "source": [
    "count_other = AP_other_clean['SCH_APOTHENR_IND'].value_counts() \n",
    "print(count_other) "
   ]
  },
  {
   "cell_type": "code",
   "execution_count": 133,
   "metadata": {},
   "outputs": [
    {
     "name": "stderr",
     "output_type": "stream",
     "text": [
      "<ipython-input-133-88e6abf6b413>:1: SettingWithCopyWarning: \n",
      "A value is trying to be set on a copy of a slice from a DataFrame.\n",
      "Try using .loc[row_indexer,col_indexer] = value instead\n",
      "\n",
      "See the caveats in the documentation: https://pandas.pydata.org/pandas-docs/stable/user_guide/indexing.html#returning-a-view-versus-a-copy\n",
      "  AP_other_clean['SCH_APENR_IND_new'] = AP_other_clean['SCH_APENR_IND'].replace(['Yes','No'],['1','0'])\n"
     ]
    }
   ],
   "source": [
    "AP_other_clean['SCH_APENR_IND_new'] = AP_other_clean['SCH_APENR_IND'].replace(['Yes','No'],['1','0'])"
   ]
  },
  {
   "cell_type": "code",
   "execution_count": 134,
   "metadata": {},
   "outputs": [
    {
     "name": "stderr",
     "output_type": "stream",
     "text": [
      "/opt/anaconda3/lib/python3.8/site-packages/pandas/core/frame.py:2963: SettingWithCopyWarning: \n",
      "A value is trying to be set on a copy of a slice from a DataFrame.\n",
      "Try using .loc[row_indexer,col_indexer] = value instead\n",
      "\n",
      "See the caveats in the documentation: https://pandas.pydata.org/pandas-docs/stable/user_guide/indexing.html#returning-a-view-versus-a-copy\n",
      "  self[k1] = value[k2]\n"
     ]
    }
   ],
   "source": [
    "AP_other_clean[['SCH_APENR_IND_new']] = AP_other_clean[['SCH_APENR_IND_new']].astype(int)"
   ]
  },
  {
   "cell_type": "code",
   "execution_count": 135,
   "metadata": {},
   "outputs": [
    {
     "name": "stderr",
     "output_type": "stream",
     "text": [
      "<ipython-input-135-0841bbaade0f>:1: SettingWithCopyWarning: \n",
      "A value is trying to be set on a copy of a slice from a DataFrame.\n",
      "Try using .loc[row_indexer,col_indexer] = value instead\n",
      "\n",
      "See the caveats in the documentation: https://pandas.pydata.org/pandas-docs/stable/user_guide/indexing.html#returning-a-view-versus-a-copy\n",
      "  AP_other_clean['SCH_APOTHENR_IND_new'] = AP_other_clean['SCH_APOTHENR_IND'].replace(['Yes','No'],['1','0'])\n"
     ]
    }
   ],
   "source": [
    "AP_other_clean['SCH_APOTHENR_IND_new'] = AP_other_clean['SCH_APOTHENR_IND'].replace(['Yes','No'],['1','0'])"
   ]
  },
  {
   "cell_type": "code",
   "execution_count": 136,
   "metadata": {},
   "outputs": [],
   "source": [
    "AP_other_clean[['SCH_APOTHENR_IND_new']] = AP_other_clean[['SCH_APOTHENR_IND_new']].astype(int)"
   ]
  },
  {
   "cell_type": "code",
   "execution_count": 137,
   "metadata": {},
   "outputs": [
    {
     "data": {
      "text/plain": [
       "LEA_STATE                  object\n",
       "LEA_STATE_NAME             object\n",
       "LEAID                      object\n",
       "LEA_NAME                   object\n",
       "SCHID                      object\n",
       "SCH_NAME                   object\n",
       "COMBOKEY                   object\n",
       "NCESSCH                    object\n",
       "SCH_APENR_IND              object\n",
       "SCH_APCOURSES               int64\n",
       "SCH_APOTHENR_IND           object\n",
       "Total_AP_other_students     int64\n",
       "Total_students_tookAP       int64\n",
       "SCH_APENR_IND_new           int64\n",
       "SCH_APOTHENR_IND_new        int64\n",
       "dtype: object"
      ]
     },
     "execution_count": 137,
     "metadata": {},
     "output_type": "execute_result"
    }
   ],
   "source": [
    "AP_other_clean.dtypes"
   ]
  },
  {
   "cell_type": "code",
   "execution_count": 138,
   "metadata": {},
   "outputs": [
    {
     "data": {
      "text/plain": [
       "<matplotlib.axes._subplots.AxesSubplot at 0x7f8ec8c0fb50>"
      ]
     },
     "execution_count": 138,
     "metadata": {},
     "output_type": "execute_result"
    },
    {
     "data": {
      "image/png": "[encoded data removed]",
      "text/plain": [
       "<Figure size 432x288 with 2 Axes>"
      ]
     },
     "metadata": {
      "needs_background": "light"
     },
     "output_type": "display_data"
    }
   ],
   "source": [
    "sns.heatmap(AP_other_clean.isnull(),yticklabels=False,cbar=True,cmap='viridis')"
   ]
  },
  {
   "cell_type": "code",
   "execution_count": 139,
   "metadata": {},
   "outputs": [
    {
     "data": {
      "text/html": [
       "<div>\n",
       "<style scoped>\n",
       "    .dataframe tbody tr th:only-of-type {\n",
       "        vertical-align: middle;\n",
       "    }\n",
       "\n",
       "    .dataframe tbody tr th {\n",
       "        vertical-align: top;\n",
       "    }\n",
       "\n",
       "    .dataframe thead th {\n",
       "        text-align: right;\n",
       "    }\n",
       "</style>\n",
       "<table border=\"1\" class=\"dataframe\">\n",
       "  <thead>\n",
       "    <tr style=\"text-align: right;\">\n",
       "      <th></th>\n",
       "      <th>SCH_APCOURSES</th>\n",
       "      <th>Total_AP_other_students</th>\n",
       "      <th>Total_students_tookAP</th>\n",
       "      <th>SCH_APENR_IND_new</th>\n",
       "      <th>SCH_APOTHENR_IND_new</th>\n",
       "    </tr>\n",
       "  </thead>\n",
       "  <tbody>\n",
       "    <tr>\n",
       "      <th>count</th>\n",
       "      <td>28147.000000</td>\n",
       "      <td>28147.000000</td>\n",
       "      <td>28147.000000</td>\n",
       "      <td>28147.000000</td>\n",
       "      <td>28147.000000</td>\n",
       "    </tr>\n",
       "    <tr>\n",
       "      <th>mean</th>\n",
       "      <td>0.494369</td>\n",
       "      <td>81.200981</td>\n",
       "      <td>71.139589</td>\n",
       "      <td>0.490603</td>\n",
       "      <td>-4.125449</td>\n",
       "    </tr>\n",
       "    <tr>\n",
       "      <th>std</th>\n",
       "      <td>11.204833</td>\n",
       "      <td>197.752708</td>\n",
       "      <td>180.152685</td>\n",
       "      <td>0.499921</td>\n",
       "      <td>4.970095</td>\n",
       "    </tr>\n",
       "    <tr>\n",
       "      <th>min</th>\n",
       "      <td>-9.000000</td>\n",
       "      <td>-18.000000</td>\n",
       "      <td>-18.000000</td>\n",
       "      <td>0.000000</td>\n",
       "      <td>-9.000000</td>\n",
       "    </tr>\n",
       "    <tr>\n",
       "      <th>25%</th>\n",
       "      <td>-9.000000</td>\n",
       "      <td>-18.000000</td>\n",
       "      <td>-18.000000</td>\n",
       "      <td>0.000000</td>\n",
       "      <td>-9.000000</td>\n",
       "    </tr>\n",
       "    <tr>\n",
       "      <th>50%</th>\n",
       "      <td>-9.000000</td>\n",
       "      <td>-18.000000</td>\n",
       "      <td>-18.000000</td>\n",
       "      <td>0.000000</td>\n",
       "      <td>-9.000000</td>\n",
       "    </tr>\n",
       "    <tr>\n",
       "      <th>75%</th>\n",
       "      <td>8.000000</td>\n",
       "      <td>86.000000</td>\n",
       "      <td>73.000000</td>\n",
       "      <td>1.000000</td>\n",
       "      <td>1.000000</td>\n",
       "    </tr>\n",
       "    <tr>\n",
       "      <th>max</th>\n",
       "      <td>82.000000</td>\n",
       "      <td>3718.000000</td>\n",
       "      <td>3737.000000</td>\n",
       "      <td>1.000000</td>\n",
       "      <td>1.000000</td>\n",
       "    </tr>\n",
       "  </tbody>\n",
       "</table>\n",
       "</div>"
      ],
      "text/plain": [
       "       SCH_APCOURSES  Total_AP_other_students  Total_students_tookAP  \\\n",
       "count   28147.000000             28147.000000           28147.000000   \n",
       "mean        0.494369                81.200981              71.139589   \n",
       "std        11.204833               197.752708             180.152685   \n",
       "min        -9.000000               -18.000000             -18.000000   \n",
       "25%        -9.000000               -18.000000             -18.000000   \n",
       "50%        -9.000000               -18.000000             -18.000000   \n",
       "75%         8.000000                86.000000              73.000000   \n",
       "max        82.000000              3718.000000            3737.000000   \n",
       "\n",
       "       SCH_APENR_IND_new  SCH_APOTHENR_IND_new  \n",
       "count       28147.000000          28147.000000  \n",
       "mean            0.490603             -4.125449  \n",
       "std             0.499921              4.970095  \n",
       "min             0.000000             -9.000000  \n",
       "25%             0.000000             -9.000000  \n",
       "50%             0.000000             -9.000000  \n",
       "75%             1.000000              1.000000  \n",
       "max             1.000000              1.000000  "
      ]
     },
     "execution_count": 139,
     "metadata": {},
     "output_type": "execute_result"
    }
   ],
   "source": [
    "AP_other_clean.describe()"
   ]
  },
  {
   "cell_type": "code",
   "execution_count": 140,
   "metadata": {},
   "outputs": [
    {
     "data": {
      "text/plain": [
       "array([[<matplotlib.axes._subplots.AxesSubplot object at 0x7f8ec8c0fbe0>,\n",
       "        <matplotlib.axes._subplots.AxesSubplot object at 0x7f8ec9109190>],\n",
       "       [<matplotlib.axes._subplots.AxesSubplot object at 0x7f8ec9d30730>,\n",
       "        <matplotlib.axes._subplots.AxesSubplot object at 0x7f8ec9d59eb0>],\n",
       "       [<matplotlib.axes._subplots.AxesSubplot object at 0x7f8ec9db7670>,\n",
       "        <matplotlib.axes._subplots.AxesSubplot object at 0x7f8ec881be50>]],\n",
       "      dtype=object)"
      ]
     },
     "execution_count": 140,
     "metadata": {},
     "output_type": "execute_result"
    },
    {
     "data": {
      "image/png": "[encoded data removed]",
      "text/plain": [
       "<Figure size 432x288 with 6 Axes>"
      ]
     },
     "metadata": {
      "needs_background": "light"
     },
     "output_type": "display_data"
    }
   ],
   "source": [
    "AP_other_clean.hist()"
   ]
  },
  {
   "cell_type": "code",
   "execution_count": 141,
   "metadata": {},
   "outputs": [],
   "source": [
    "AP_other_clean.to_csv (r'/Users/dansari/Documents/GitHub/Identifying-features-to-predict-high-school-assessment-proficiency/Phase1/Data/CRDC/Clean_crdc_AP_other.csv', index = False, header=True)"
   ]
  },
  {
   "cell_type": "markdown",
   "metadata": {},
   "source": [
    "### Cleaning Algebra 1 file"
   ]
  },
  {
   "cell_type": "code",
   "execution_count": 142,
   "metadata": {},
   "outputs": [
    {
     "name": "stderr",
     "output_type": "stream",
     "text": [
      "/opt/anaconda3/lib/python3.8/site-packages/IPython/core/interactiveshell.py:3071: DtypeWarning: Columns (2,6) have mixed types.Specify dtype option on import or set low_memory=False.\n",
      "  has_raised = await self.run_ast_nodes(code_ast.body, cell_name,\n"
     ]
    },
    {
     "data": {
      "text/html": [
       "<div>\n",
       "<style scoped>\n",
       "    .dataframe tbody tr th:only-of-type {\n",
       "        vertical-align: middle;\n",
       "    }\n",
       "\n",
       "    .dataframe tbody tr th {\n",
       "        vertical-align: top;\n",
       "    }\n",
       "\n",
       "    .dataframe thead th {\n",
       "        text-align: right;\n",
       "    }\n",
       "</style>\n",
       "<table border=\"1\" class=\"dataframe\">\n",
       "  <thead>\n",
       "    <tr style=\"text-align: right;\">\n",
       "      <th></th>\n",
       "      <th>LEA_STATE</th>\n",
       "      <th>LEA_STATE_NAME</th>\n",
       "      <th>LEAID</th>\n",
       "      <th>LEA_NAME</th>\n",
       "      <th>SCHID</th>\n",
       "      <th>SCH_NAME</th>\n",
       "      <th>COMBOKEY</th>\n",
       "      <th>JJ</th>\n",
       "      <th>SCH_ALGCLASSES_GS0708</th>\n",
       "      <th>SCH_ALGCERT_GS0708</th>\n",
       "      <th>...</th>\n",
       "      <th>SCH_ALGPASS_GS1112_WH_M</th>\n",
       "      <th>SCH_ALGPASS_GS1112_WH_F</th>\n",
       "      <th>SCH_ALGPASS_GS1112_TR_M</th>\n",
       "      <th>SCH_ALGPASS_GS1112_TR_F</th>\n",
       "      <th>TOT_ALGPASS_GS1112_M</th>\n",
       "      <th>TOT_ALGPASS_GS1112_F</th>\n",
       "      <th>SCH_ALGPASS_GS1112_LEP_M</th>\n",
       "      <th>SCH_ALGPASS_GS1112_LEP_F</th>\n",
       "      <th>SCH_ALGPASS_GS1112_IDEA_M</th>\n",
       "      <th>SCH_ALGPASS_GS1112_IDEA_F</th>\n",
       "    </tr>\n",
       "  </thead>\n",
       "  <tbody>\n",
       "    <tr>\n",
       "      <th>0</th>\n",
       "      <td>AL</td>\n",
       "      <td>ALABAMA</td>\n",
       "      <td>100002</td>\n",
       "      <td>Alabama Youth Services</td>\n",
       "      <td>1705</td>\n",
       "      <td>Wallace Sch - Mt Meigs Campus</td>\n",
       "      <td>10000201705</td>\n",
       "      <td>Yes</td>\n",
       "      <td>0</td>\n",
       "      <td>-9</td>\n",
       "      <td>...</td>\n",
       "      <td>0</td>\n",
       "      <td>0</td>\n",
       "      <td>0</td>\n",
       "      <td>0</td>\n",
       "      <td>0</td>\n",
       "      <td>0</td>\n",
       "      <td>0</td>\n",
       "      <td>0</td>\n",
       "      <td>0</td>\n",
       "      <td>0</td>\n",
       "    </tr>\n",
       "    <tr>\n",
       "      <th>1</th>\n",
       "      <td>AL</td>\n",
       "      <td>ALABAMA</td>\n",
       "      <td>100002</td>\n",
       "      <td>Alabama Youth Services</td>\n",
       "      <td>1706</td>\n",
       "      <td>McNeel Sch - Vacca Campus</td>\n",
       "      <td>10000201706</td>\n",
       "      <td>Yes</td>\n",
       "      <td>0</td>\n",
       "      <td>-9</td>\n",
       "      <td>...</td>\n",
       "      <td>0</td>\n",
       "      <td>0</td>\n",
       "      <td>0</td>\n",
       "      <td>0</td>\n",
       "      <td>0</td>\n",
       "      <td>0</td>\n",
       "      <td>0</td>\n",
       "      <td>0</td>\n",
       "      <td>0</td>\n",
       "      <td>0</td>\n",
       "    </tr>\n",
       "    <tr>\n",
       "      <th>2</th>\n",
       "      <td>AL</td>\n",
       "      <td>ALABAMA</td>\n",
       "      <td>100002</td>\n",
       "      <td>Alabama Youth Services</td>\n",
       "      <td>1876</td>\n",
       "      <td>Alabama Youth Services</td>\n",
       "      <td>10000201876</td>\n",
       "      <td>No</td>\n",
       "      <td>0</td>\n",
       "      <td>-9</td>\n",
       "      <td>...</td>\n",
       "      <td>0</td>\n",
       "      <td>0</td>\n",
       "      <td>0</td>\n",
       "      <td>0</td>\n",
       "      <td>1</td>\n",
       "      <td>0</td>\n",
       "      <td>0</td>\n",
       "      <td>0</td>\n",
       "      <td>0</td>\n",
       "      <td>0</td>\n",
       "    </tr>\n",
       "    <tr>\n",
       "      <th>3</th>\n",
       "      <td>AL</td>\n",
       "      <td>ALABAMA</td>\n",
       "      <td>100002</td>\n",
       "      <td>Alabama Youth Services</td>\n",
       "      <td>99995</td>\n",
       "      <td>AUTAUGA CAMPUS</td>\n",
       "      <td>10000299995</td>\n",
       "      <td>Yes</td>\n",
       "      <td>0</td>\n",
       "      <td>-9</td>\n",
       "      <td>...</td>\n",
       "      <td>0</td>\n",
       "      <td>0</td>\n",
       "      <td>0</td>\n",
       "      <td>0</td>\n",
       "      <td>0</td>\n",
       "      <td>0</td>\n",
       "      <td>0</td>\n",
       "      <td>0</td>\n",
       "      <td>0</td>\n",
       "      <td>0</td>\n",
       "    </tr>\n",
       "    <tr>\n",
       "      <th>4</th>\n",
       "      <td>AL</td>\n",
       "      <td>ALABAMA</td>\n",
       "      <td>100005</td>\n",
       "      <td>Albertville City</td>\n",
       "      <td>870</td>\n",
       "      <td>Albertville Middle School</td>\n",
       "      <td>10000500870</td>\n",
       "      <td>No</td>\n",
       "      <td>3</td>\n",
       "      <td>3</td>\n",
       "      <td>...</td>\n",
       "      <td>-9</td>\n",
       "      <td>-9</td>\n",
       "      <td>-9</td>\n",
       "      <td>-9</td>\n",
       "      <td>-9</td>\n",
       "      <td>-9</td>\n",
       "      <td>-9</td>\n",
       "      <td>-9</td>\n",
       "      <td>-9</td>\n",
       "      <td>-9</td>\n",
       "    </tr>\n",
       "  </tbody>\n",
       "</table>\n",
       "<p>5 rows × 136 columns</p>\n",
       "</div>"
      ],
      "text/plain": [
       "  LEA_STATE LEA_STATE_NAME   LEAID                LEA_NAME  SCHID  \\\n",
       "0        AL        ALABAMA  100002  Alabama Youth Services   1705   \n",
       "1        AL        ALABAMA  100002  Alabama Youth Services   1706   \n",
       "2        AL        ALABAMA  100002  Alabama Youth Services   1876   \n",
       "3        AL        ALABAMA  100002  Alabama Youth Services  99995   \n",
       "4        AL        ALABAMA  100005        Albertville City    870   \n",
       "\n",
       "                        SCH_NAME     COMBOKEY   JJ  SCH_ALGCLASSES_GS0708  \\\n",
       "0  Wallace Sch - Mt Meigs Campus  10000201705  Yes                      0   \n",
       "1      McNeel Sch - Vacca Campus  10000201706  Yes                      0   \n",
       "2         Alabama Youth Services  10000201876   No                      0   \n",
       "3                 AUTAUGA CAMPUS  10000299995  Yes                      0   \n",
       "4      Albertville Middle School  10000500870   No                      3   \n",
       "\n",
       "   SCH_ALGCERT_GS0708  ... SCH_ALGPASS_GS1112_WH_M  SCH_ALGPASS_GS1112_WH_F  \\\n",
       "0                  -9  ...                       0                        0   \n",
       "1                  -9  ...                       0                        0   \n",
       "2                  -9  ...                       0                        0   \n",
       "3                  -9  ...                       0                        0   \n",
       "4                   3  ...                      -9                       -9   \n",
       "\n",
       "  SCH_ALGPASS_GS1112_TR_M  SCH_ALGPASS_GS1112_TR_F  TOT_ALGPASS_GS1112_M  \\\n",
       "0                       0                        0                     0   \n",
       "1                       0                        0                     0   \n",
       "2                       0                        0                     1   \n",
       "3                       0                        0                     0   \n",
       "4                      -9                       -9                    -9   \n",
       "\n",
       "   TOT_ALGPASS_GS1112_F  SCH_ALGPASS_GS1112_LEP_M  SCH_ALGPASS_GS1112_LEP_F  \\\n",
       "0                     0                         0                         0   \n",
       "1                     0                         0                         0   \n",
       "2                     0                         0                         0   \n",
       "3                     0                         0                         0   \n",
       "4                    -9                        -9                        -9   \n",
       "\n",
       "   SCH_ALGPASS_GS1112_IDEA_M  SCH_ALGPASS_GS1112_IDEA_F  \n",
       "0                          0                          0  \n",
       "1                          0                          0  \n",
       "2                          0                          0  \n",
       "3                          0                          0  \n",
       "4                         -9                         -9  \n",
       "\n",
       "[5 rows x 136 columns]"
      ]
     },
     "execution_count": 142,
     "metadata": {},
     "output_type": "execute_result"
    }
   ],
   "source": [
    "Alg1 = pandas.read_csv(\"Algebra I.csv\",encoding='cp1252')\n",
    "Alg1.head()"
   ]
  },
  {
   "cell_type": "code",
   "execution_count": 143,
   "metadata": {},
   "outputs": [],
   "source": [
    "Alg1['SCHID'] = Alg1['SCHID'].apply(lambda x: '{0:0>5}'.format(x))"
   ]
  },
  {
   "cell_type": "code",
   "execution_count": 144,
   "metadata": {},
   "outputs": [],
   "source": [
    "Alg1['LEAID'] = Alg1['LEAID'].apply(lambda x: '{0:0>7}'.format(x))"
   ]
  },
  {
   "cell_type": "code",
   "execution_count": 145,
   "metadata": {},
   "outputs": [
    {
     "data": {
      "text/plain": [
       "Index(['LEA_STATE', 'LEA_STATE_NAME', 'LEAID', 'LEA_NAME', 'SCHID', 'SCH_NAME',\n",
       "       'COMBOKEY', 'JJ', 'SCH_ALGCLASSES_GS0708', 'SCH_ALGCERT_GS0708',\n",
       "       ...\n",
       "       'SCH_ALGPASS_GS1112_WH_M', 'SCH_ALGPASS_GS1112_WH_F',\n",
       "       'SCH_ALGPASS_GS1112_TR_M', 'SCH_ALGPASS_GS1112_TR_F',\n",
       "       'TOT_ALGPASS_GS1112_M', 'TOT_ALGPASS_GS1112_F',\n",
       "       'SCH_ALGPASS_GS1112_LEP_M', 'SCH_ALGPASS_GS1112_LEP_F',\n",
       "       'SCH_ALGPASS_GS1112_IDEA_M', 'SCH_ALGPASS_GS1112_IDEA_F'],\n",
       "      dtype='object', length=136)"
      ]
     },
     "execution_count": 145,
     "metadata": {},
     "output_type": "execute_result"
    }
   ],
   "source": [
    "Alg1.columns"
   ]
  },
  {
   "cell_type": "code",
   "execution_count": 146,
   "metadata": {},
   "outputs": [
    {
     "data": {
      "text/plain": [
       "(97632, 136)"
      ]
     },
     "execution_count": 146,
     "metadata": {},
     "output_type": "execute_result"
    }
   ],
   "source": [
    "Alg1.shape"
   ]
  },
  {
   "cell_type": "code",
   "execution_count": 147,
   "metadata": {},
   "outputs": [],
   "source": [
    "Alg1=Alg1[['LEA_STATE', 'LEA_STATE_NAME', 'LEAID', 'LEA_NAME', 'SCHID', 'SCH_NAME','COMBOKEY','SCH_MATHCLASSES_ALG','SCH_MATHCERT_ALG','TOT_ALGENR_GS0910_M',\n",
    "           'TOT_ALGENR_GS0910_F','TOT_ALGENR_GS1112_M','TOT_ALGENR_GS1112_F','TOT_ALGPASS_GS0910_M','TOT_ALGPASS_GS0910_F','TOT_ALGPASS_GS1112_M','TOT_ALGPASS_GS1112_F']]"
   ]
  },
  {
   "cell_type": "code",
   "execution_count": 148,
   "metadata": {},
   "outputs": [
    {
     "data": {
      "text/plain": [
       "(97632, 17)"
      ]
     },
     "execution_count": 148,
     "metadata": {},
     "output_type": "execute_result"
    }
   ],
   "source": [
    "Alg1.shape"
   ]
  },
  {
   "cell_type": "code",
   "execution_count": 149,
   "metadata": {},
   "outputs": [
    {
     "data": {
      "text/html": [
       "<div>\n",
       "<style scoped>\n",
       "    .dataframe tbody tr th:only-of-type {\n",
       "        vertical-align: middle;\n",
       "    }\n",
       "\n",
       "    .dataframe tbody tr th {\n",
       "        vertical-align: top;\n",
       "    }\n",
       "\n",
       "    .dataframe thead th {\n",
       "        text-align: right;\n",
       "    }\n",
       "</style>\n",
       "<table border=\"1\" class=\"dataframe\">\n",
       "  <thead>\n",
       "    <tr style=\"text-align: right;\">\n",
       "      <th></th>\n",
       "      <th>LEA_STATE</th>\n",
       "      <th>LEA_STATE_NAME</th>\n",
       "      <th>LEAID</th>\n",
       "      <th>LEA_NAME</th>\n",
       "      <th>SCHID</th>\n",
       "      <th>SCH_NAME</th>\n",
       "      <th>COMBOKEY</th>\n",
       "      <th>SCH_MATHCLASSES_ALG</th>\n",
       "      <th>SCH_MATHCERT_ALG</th>\n",
       "      <th>TOT_ALGENR_GS0910_M</th>\n",
       "      <th>TOT_ALGENR_GS0910_F</th>\n",
       "      <th>TOT_ALGENR_GS1112_M</th>\n",
       "      <th>TOT_ALGENR_GS1112_F</th>\n",
       "      <th>TOT_ALGPASS_GS0910_M</th>\n",
       "      <th>TOT_ALGPASS_GS0910_F</th>\n",
       "      <th>TOT_ALGPASS_GS1112_M</th>\n",
       "      <th>TOT_ALGPASS_GS1112_F</th>\n",
       "    </tr>\n",
       "  </thead>\n",
       "  <tbody>\n",
       "    <tr>\n",
       "      <th>0</th>\n",
       "      <td>AL</td>\n",
       "      <td>ALABAMA</td>\n",
       "      <td>0100002</td>\n",
       "      <td>Alabama Youth Services</td>\n",
       "      <td>01705</td>\n",
       "      <td>Wallace Sch - Mt Meigs Campus</td>\n",
       "      <td>10000201705</td>\n",
       "      <td>15</td>\n",
       "      <td>15</td>\n",
       "      <td>38</td>\n",
       "      <td>0</td>\n",
       "      <td>0</td>\n",
       "      <td>0</td>\n",
       "      <td>30</td>\n",
       "      <td>0</td>\n",
       "      <td>0</td>\n",
       "      <td>0</td>\n",
       "    </tr>\n",
       "    <tr>\n",
       "      <th>1</th>\n",
       "      <td>AL</td>\n",
       "      <td>ALABAMA</td>\n",
       "      <td>0100002</td>\n",
       "      <td>Alabama Youth Services</td>\n",
       "      <td>01706</td>\n",
       "      <td>McNeel Sch - Vacca Campus</td>\n",
       "      <td>10000201706</td>\n",
       "      <td>6</td>\n",
       "      <td>6</td>\n",
       "      <td>18</td>\n",
       "      <td>0</td>\n",
       "      <td>0</td>\n",
       "      <td>0</td>\n",
       "      <td>18</td>\n",
       "      <td>0</td>\n",
       "      <td>0</td>\n",
       "      <td>0</td>\n",
       "    </tr>\n",
       "    <tr>\n",
       "      <th>2</th>\n",
       "      <td>AL</td>\n",
       "      <td>ALABAMA</td>\n",
       "      <td>0100002</td>\n",
       "      <td>Alabama Youth Services</td>\n",
       "      <td>01876</td>\n",
       "      <td>Alabama Youth Services</td>\n",
       "      <td>10000201876</td>\n",
       "      <td>6</td>\n",
       "      <td>6</td>\n",
       "      <td>17</td>\n",
       "      <td>0</td>\n",
       "      <td>1</td>\n",
       "      <td>0</td>\n",
       "      <td>17</td>\n",
       "      <td>0</td>\n",
       "      <td>1</td>\n",
       "      <td>0</td>\n",
       "    </tr>\n",
       "    <tr>\n",
       "      <th>3</th>\n",
       "      <td>AL</td>\n",
       "      <td>ALABAMA</td>\n",
       "      <td>0100002</td>\n",
       "      <td>Alabama Youth Services</td>\n",
       "      <td>99995</td>\n",
       "      <td>AUTAUGA CAMPUS</td>\n",
       "      <td>10000299995</td>\n",
       "      <td>6</td>\n",
       "      <td>0</td>\n",
       "      <td>11</td>\n",
       "      <td>0</td>\n",
       "      <td>0</td>\n",
       "      <td>0</td>\n",
       "      <td>0</td>\n",
       "      <td>0</td>\n",
       "      <td>0</td>\n",
       "      <td>0</td>\n",
       "    </tr>\n",
       "    <tr>\n",
       "      <th>4</th>\n",
       "      <td>AL</td>\n",
       "      <td>ALABAMA</td>\n",
       "      <td>0100005</td>\n",
       "      <td>Albertville City</td>\n",
       "      <td>00870</td>\n",
       "      <td>Albertville Middle School</td>\n",
       "      <td>10000500870</td>\n",
       "      <td>-9</td>\n",
       "      <td>-9</td>\n",
       "      <td>-9</td>\n",
       "      <td>-9</td>\n",
       "      <td>-9</td>\n",
       "      <td>-9</td>\n",
       "      <td>-9</td>\n",
       "      <td>-9</td>\n",
       "      <td>-9</td>\n",
       "      <td>-9</td>\n",
       "    </tr>\n",
       "  </tbody>\n",
       "</table>\n",
       "</div>"
      ],
      "text/plain": [
       "  LEA_STATE LEA_STATE_NAME    LEAID                LEA_NAME  SCHID  \\\n",
       "0        AL        ALABAMA  0100002  Alabama Youth Services  01705   \n",
       "1        AL        ALABAMA  0100002  Alabama Youth Services  01706   \n",
       "2        AL        ALABAMA  0100002  Alabama Youth Services  01876   \n",
       "3        AL        ALABAMA  0100002  Alabama Youth Services  99995   \n",
       "4        AL        ALABAMA  0100005        Albertville City  00870   \n",
       "\n",
       "                        SCH_NAME     COMBOKEY  SCH_MATHCLASSES_ALG  \\\n",
       "0  Wallace Sch - Mt Meigs Campus  10000201705                   15   \n",
       "1      McNeel Sch - Vacca Campus  10000201706                    6   \n",
       "2         Alabama Youth Services  10000201876                    6   \n",
       "3                 AUTAUGA CAMPUS  10000299995                    6   \n",
       "4      Albertville Middle School  10000500870                   -9   \n",
       "\n",
       "   SCH_MATHCERT_ALG  TOT_ALGENR_GS0910_M  TOT_ALGENR_GS0910_F  \\\n",
       "0                15                   38                    0   \n",
       "1                 6                   18                    0   \n",
       "2                 6                   17                    0   \n",
       "3                 0                   11                    0   \n",
       "4                -9                   -9                   -9   \n",
       "\n",
       "   TOT_ALGENR_GS1112_M  TOT_ALGENR_GS1112_F  TOT_ALGPASS_GS0910_M  \\\n",
       "0                    0                    0                    30   \n",
       "1                    0                    0                    18   \n",
       "2                    1                    0                    17   \n",
       "3                    0                    0                     0   \n",
       "4                   -9                   -9                    -9   \n",
       "\n",
       "   TOT_ALGPASS_GS0910_F  TOT_ALGPASS_GS1112_M  TOT_ALGPASS_GS1112_F  \n",
       "0                     0                     0                     0  \n",
       "1                     0                     0                     0  \n",
       "2                     0                     1                     0  \n",
       "3                     0                     0                     0  \n",
       "4                    -9                    -9                    -9  "
      ]
     },
     "execution_count": 149,
     "metadata": {},
     "output_type": "execute_result"
    }
   ],
   "source": [
    "Alg1.head()"
   ]
  },
  {
   "cell_type": "code",
   "execution_count": 150,
   "metadata": {},
   "outputs": [],
   "source": [
    "cols = ['LEAID', 'SCHID']\n",
    "Alg1['NCESSCH'] = Alg1[cols].apply(lambda row: ''.join(row.values.astype(str)), axis=1)"
   ]
  },
  {
   "cell_type": "code",
   "execution_count": 151,
   "metadata": {},
   "outputs": [],
   "source": [
    "Alg1.rename(columns={'TOT_ALGENR_GS0910_M':'Male_enroll_9to10_count','TOT_ALGENR_GS0910_F':'Female_enroll_9to10_count','TOT_ALGENR_GS1112_M':'Male_enroll_11to12_count',\n",
    "                   'TOT_ALGENR_GS1112_F':'Female_enroll_11to12_count','TOT_ALGPASS_GS0910_M':'Male_pass_9to10_count','TOT_ALGPASS_GS0910_F':'Female_pass_9to10_count',\n",
    "                  'TOT_ALGPASS_GS1112_M':'Male_pass_11to12_count','TOT_ALGPASS_GS1112_F':'Female_pass_11to12_count'}, inplace=True)"
   ]
  },
  {
   "cell_type": "code",
   "execution_count": 152,
   "metadata": {},
   "outputs": [
    {
     "data": {
      "text/plain": [
       "Index(['LEA_STATE', 'LEA_STATE_NAME', 'LEAID', 'LEA_NAME', 'SCHID', 'SCH_NAME',\n",
       "       'COMBOKEY', 'SCH_MATHCLASSES_ALG', 'SCH_MATHCERT_ALG',\n",
       "       'Male_enroll_9to10_count', 'Female_enroll_9to10_count',\n",
       "       'Male_enroll_11to12_count', 'Female_enroll_11to12_count',\n",
       "       'Male_pass_9to10_count', 'Female_pass_9to10_count',\n",
       "       'Male_pass_11to12_count', 'Female_pass_11to12_count', 'NCESSCH'],\n",
       "      dtype='object')"
      ]
     },
     "execution_count": 152,
     "metadata": {},
     "output_type": "execute_result"
    }
   ],
   "source": [
    "Alg1.columns"
   ]
  },
  {
   "cell_type": "code",
   "execution_count": 153,
   "metadata": {},
   "outputs": [],
   "source": [
    "Alg1['Total_Alg1_enroll_students'] = (Alg1['Male_enroll_9to10_count'] + Alg1['Female_enroll_9to10_count'] + Alg1['Male_enroll_11to12_count'] + Alg1['Female_enroll_11to12_count'])"
   ]
  },
  {
   "cell_type": "code",
   "execution_count": 154,
   "metadata": {},
   "outputs": [],
   "source": [
    "Alg1['Total_Alg1_pass_students'] = (Alg1['Male_pass_9to10_count'] + Alg1['Female_pass_9to10_count'] + Alg1['Male_pass_11to12_count'] + Alg1['Female_pass_11to12_count'])"
   ]
  },
  {
   "cell_type": "code",
   "execution_count": 155,
   "metadata": {},
   "outputs": [],
   "source": [
    "Alg1=Alg1[['LEA_STATE', 'LEA_STATE_NAME', 'LEAID', 'LEA_NAME', 'SCHID', 'SCH_NAME',\n",
    "       'COMBOKEY', 'SCH_MATHCLASSES_ALG', 'SCH_MATHCERT_ALG', 'NCESSCH',\n",
    "       'Total_Alg1_enroll_students', 'Total_Alg1_pass_students']]"
   ]
  },
  {
   "cell_type": "code",
   "execution_count": 156,
   "metadata": {},
   "outputs": [],
   "source": [
    "Alg1_clean= Alg1[Alg1.SCH_MATHCLASSES_ALG > 0]"
   ]
  },
  {
   "cell_type": "code",
   "execution_count": 157,
   "metadata": {},
   "outputs": [
    {
     "data": {
      "text/plain": [
       "(22944, 12)"
      ]
     },
     "execution_count": 157,
     "metadata": {},
     "output_type": "execute_result"
    }
   ],
   "source": [
    "Alg1_clean.shape"
   ]
  },
  {
   "cell_type": "code",
   "execution_count": 158,
   "metadata": {},
   "outputs": [
    {
     "data": {
      "text/plain": [
       "<matplotlib.axes._subplots.AxesSubplot at 0x7f8ed2718a30>"
      ]
     },
     "execution_count": 158,
     "metadata": {},
     "output_type": "execute_result"
    },
    {
     "data": {
      "image/png": "[encoded data removed]",
      "text/plain": [
       "<Figure size 432x288 with 2 Axes>"
      ]
     },
     "metadata": {
      "needs_background": "light"
     },
     "output_type": "display_data"
    }
   ],
   "source": [
    "sns.heatmap(Alg1_clean.isnull(),yticklabels=False,cbar=True,cmap='viridis')"
   ]
  },
  {
   "cell_type": "code",
   "execution_count": 159,
   "metadata": {},
   "outputs": [
    {
     "data": {
      "text/html": [
       "<div>\n",
       "<style scoped>\n",
       "    .dataframe tbody tr th:only-of-type {\n",
       "        vertical-align: middle;\n",
       "    }\n",
       "\n",
       "    .dataframe tbody tr th {\n",
       "        vertical-align: top;\n",
       "    }\n",
       "\n",
       "    .dataframe thead th {\n",
       "        text-align: right;\n",
       "    }\n",
       "</style>\n",
       "<table border=\"1\" class=\"dataframe\">\n",
       "  <thead>\n",
       "    <tr style=\"text-align: right;\">\n",
       "      <th></th>\n",
       "      <th>SCH_MATHCLASSES_ALG</th>\n",
       "      <th>SCH_MATHCERT_ALG</th>\n",
       "      <th>Total_Alg1_enroll_students</th>\n",
       "      <th>Total_Alg1_pass_students</th>\n",
       "    </tr>\n",
       "  </thead>\n",
       "  <tbody>\n",
       "    <tr>\n",
       "      <th>count</th>\n",
       "      <td>22944.000000</td>\n",
       "      <td>22944.000000</td>\n",
       "      <td>22944.000000</td>\n",
       "      <td>22944.000000</td>\n",
       "    </tr>\n",
       "    <tr>\n",
       "      <th>mean</th>\n",
       "      <td>9.472324</td>\n",
       "      <td>7.861489</td>\n",
       "      <td>137.428783</td>\n",
       "      <td>104.702232</td>\n",
       "    </tr>\n",
       "    <tr>\n",
       "      <th>std</th>\n",
       "      <td>12.470792</td>\n",
       "      <td>10.926388</td>\n",
       "      <td>168.244053</td>\n",
       "      <td>132.266293</td>\n",
       "    </tr>\n",
       "    <tr>\n",
       "      <th>min</th>\n",
       "      <td>1.000000</td>\n",
       "      <td>0.000000</td>\n",
       "      <td>-18.000000</td>\n",
       "      <td>-18.000000</td>\n",
       "    </tr>\n",
       "    <tr>\n",
       "      <th>25%</th>\n",
       "      <td>2.000000</td>\n",
       "      <td>2.000000</td>\n",
       "      <td>24.000000</td>\n",
       "      <td>14.000000</td>\n",
       "    </tr>\n",
       "    <tr>\n",
       "      <th>50%</th>\n",
       "      <td>6.000000</td>\n",
       "      <td>4.000000</td>\n",
       "      <td>72.000000</td>\n",
       "      <td>53.000000</td>\n",
       "    </tr>\n",
       "    <tr>\n",
       "      <th>75%</th>\n",
       "      <td>12.000000</td>\n",
       "      <td>10.000000</td>\n",
       "      <td>192.000000</td>\n",
       "      <td>148.000000</td>\n",
       "    </tr>\n",
       "    <tr>\n",
       "      <th>max</th>\n",
       "      <td>472.000000</td>\n",
       "      <td>472.000000</td>\n",
       "      <td>1929.000000</td>\n",
       "      <td>1374.000000</td>\n",
       "    </tr>\n",
       "  </tbody>\n",
       "</table>\n",
       "</div>"
      ],
      "text/plain": [
       "       SCH_MATHCLASSES_ALG  SCH_MATHCERT_ALG  Total_Alg1_enroll_students  \\\n",
       "count         22944.000000      22944.000000                22944.000000   \n",
       "mean              9.472324          7.861489                  137.428783   \n",
       "std              12.470792         10.926388                  168.244053   \n",
       "min               1.000000          0.000000                  -18.000000   \n",
       "25%               2.000000          2.000000                   24.000000   \n",
       "50%               6.000000          4.000000                   72.000000   \n",
       "75%              12.000000         10.000000                  192.000000   \n",
       "max             472.000000        472.000000                 1929.000000   \n",
       "\n",
       "       Total_Alg1_pass_students  \n",
       "count              22944.000000  \n",
       "mean                 104.702232  \n",
       "std                  132.266293  \n",
       "min                  -18.000000  \n",
       "25%                   14.000000  \n",
       "50%                   53.000000  \n",
       "75%                  148.000000  \n",
       "max                 1374.000000  "
      ]
     },
     "execution_count": 159,
     "metadata": {},
     "output_type": "execute_result"
    }
   ],
   "source": [
    "Alg1_clean.describe()"
   ]
  },
  {
   "cell_type": "code",
   "execution_count": 160,
   "metadata": {},
   "outputs": [
    {
     "data": {
      "text/plain": [
       "array([[<matplotlib.axes._subplots.AxesSubplot object at 0x7f8ec9834310>,\n",
       "        <matplotlib.axes._subplots.AxesSubplot object at 0x7f8ec2068550>],\n",
       "       [<matplotlib.axes._subplots.AxesSubplot object at 0x7f8ec200e9d0>,\n",
       "        <matplotlib.axes._subplots.AxesSubplot object at 0x7f8ec203ce20>]],\n",
       "      dtype=object)"
      ]
     },
     "execution_count": 160,
     "metadata": {},
     "output_type": "execute_result"
    },
    {
     "data": {
      "image/png": "[encoded data removed]",
      "text/plain": [
       "<Figure size 432x288 with 4 Axes>"
      ]
     },
     "metadata": {
      "needs_background": "light"
     },
     "output_type": "display_data"
    }
   ],
   "source": [
    "Alg1_clean.hist()"
   ]
  },
  {
   "cell_type": "code",
   "execution_count": 161,
   "metadata": {},
   "outputs": [],
   "source": [
    "Alg1_clean.to_csv (r'/Users/dansari/Documents/GitHub/Identifying-features-to-predict-high-school-assessment-proficiency/Phase1/Data/CRDC/Clean_crdc_Alg1.csv', index = False, header=True)"
   ]
  },
  {
   "cell_type": "markdown",
   "metadata": {},
   "source": [
    "### Cleaning Algebra 2 file"
   ]
  },
  {
   "cell_type": "code",
   "execution_count": 162,
   "metadata": {},
   "outputs": [
    {
     "data": {
      "text/html": [
       "<div>\n",
       "<style scoped>\n",
       "    .dataframe tbody tr th:only-of-type {\n",
       "        vertical-align: middle;\n",
       "    }\n",
       "\n",
       "    .dataframe tbody tr th {\n",
       "        vertical-align: top;\n",
       "    }\n",
       "\n",
       "    .dataframe thead th {\n",
       "        text-align: right;\n",
       "    }\n",
       "</style>\n",
       "<table border=\"1\" class=\"dataframe\">\n",
       "  <thead>\n",
       "    <tr style=\"text-align: right;\">\n",
       "      <th></th>\n",
       "      <th>LEA_STATE</th>\n",
       "      <th>LEA_STATE_NAME</th>\n",
       "      <th>LEAID</th>\n",
       "      <th>LEA_NAME</th>\n",
       "      <th>SCHID</th>\n",
       "      <th>SCH_NAME</th>\n",
       "      <th>COMBOKEY</th>\n",
       "      <th>JJ</th>\n",
       "      <th>SCH_MATHCLASSES_ALG2</th>\n",
       "      <th>SCH_MATHCERT_ALG2</th>\n",
       "      <th>...</th>\n",
       "      <th>SCH_MATHENR_ALG2_WH_M</th>\n",
       "      <th>SCH_MATHENR_ALG2_WH_F</th>\n",
       "      <th>SCH_MATHENR_ALG2_TR_M</th>\n",
       "      <th>SCH_MATHENR_ALG2_TR_F</th>\n",
       "      <th>TOT_MATHENR_ALG2_M</th>\n",
       "      <th>TOT_MATHENR_ALG2_F</th>\n",
       "      <th>SCH_MATHENR_ALG2_LEP_M</th>\n",
       "      <th>SCH_MATHENR_ALG2_LEP_F</th>\n",
       "      <th>SCH_MATHENR_ALG2_IDEA_M</th>\n",
       "      <th>SCH_MATHENR_ALG2_IDEA_F</th>\n",
       "    </tr>\n",
       "  </thead>\n",
       "  <tbody>\n",
       "    <tr>\n",
       "      <th>0</th>\n",
       "      <td>AL</td>\n",
       "      <td>ALABAMA</td>\n",
       "      <td>0100002</td>\n",
       "      <td>Alabama Youth Services</td>\n",
       "      <td>1705</td>\n",
       "      <td>Wallace Sch - Mt Meigs Campus</td>\n",
       "      <td>010000201705</td>\n",
       "      <td>Yes</td>\n",
       "      <td>0</td>\n",
       "      <td>-9</td>\n",
       "      <td>...</td>\n",
       "      <td>-9</td>\n",
       "      <td>-9</td>\n",
       "      <td>-9</td>\n",
       "      <td>-9</td>\n",
       "      <td>-9</td>\n",
       "      <td>-9</td>\n",
       "      <td>-9</td>\n",
       "      <td>-9</td>\n",
       "      <td>-9</td>\n",
       "      <td>-9</td>\n",
       "    </tr>\n",
       "    <tr>\n",
       "      <th>1</th>\n",
       "      <td>AL</td>\n",
       "      <td>ALABAMA</td>\n",
       "      <td>0100002</td>\n",
       "      <td>Alabama Youth Services</td>\n",
       "      <td>1706</td>\n",
       "      <td>McNeel Sch - Vacca Campus</td>\n",
       "      <td>010000201706</td>\n",
       "      <td>Yes</td>\n",
       "      <td>0</td>\n",
       "      <td>-9</td>\n",
       "      <td>...</td>\n",
       "      <td>-9</td>\n",
       "      <td>-9</td>\n",
       "      <td>-9</td>\n",
       "      <td>-9</td>\n",
       "      <td>-9</td>\n",
       "      <td>-9</td>\n",
       "      <td>-9</td>\n",
       "      <td>-9</td>\n",
       "      <td>-9</td>\n",
       "      <td>-9</td>\n",
       "    </tr>\n",
       "    <tr>\n",
       "      <th>2</th>\n",
       "      <td>AL</td>\n",
       "      <td>ALABAMA</td>\n",
       "      <td>0100002</td>\n",
       "      <td>Alabama Youth Services</td>\n",
       "      <td>1876</td>\n",
       "      <td>Alabama Youth Services</td>\n",
       "      <td>010000201876</td>\n",
       "      <td>No</td>\n",
       "      <td>0</td>\n",
       "      <td>-9</td>\n",
       "      <td>...</td>\n",
       "      <td>-9</td>\n",
       "      <td>-9</td>\n",
       "      <td>-9</td>\n",
       "      <td>-9</td>\n",
       "      <td>-9</td>\n",
       "      <td>-9</td>\n",
       "      <td>-9</td>\n",
       "      <td>-9</td>\n",
       "      <td>-9</td>\n",
       "      <td>-9</td>\n",
       "    </tr>\n",
       "    <tr>\n",
       "      <th>3</th>\n",
       "      <td>AL</td>\n",
       "      <td>ALABAMA</td>\n",
       "      <td>0100002</td>\n",
       "      <td>Alabama Youth Services</td>\n",
       "      <td>99995</td>\n",
       "      <td>AUTAUGA CAMPUS</td>\n",
       "      <td>010000299995</td>\n",
       "      <td>Yes</td>\n",
       "      <td>0</td>\n",
       "      <td>-9</td>\n",
       "      <td>...</td>\n",
       "      <td>-9</td>\n",
       "      <td>-9</td>\n",
       "      <td>-9</td>\n",
       "      <td>-9</td>\n",
       "      <td>-9</td>\n",
       "      <td>-9</td>\n",
       "      <td>-9</td>\n",
       "      <td>-9</td>\n",
       "      <td>-9</td>\n",
       "      <td>-9</td>\n",
       "    </tr>\n",
       "    <tr>\n",
       "      <th>4</th>\n",
       "      <td>AL</td>\n",
       "      <td>ALABAMA</td>\n",
       "      <td>0100005</td>\n",
       "      <td>Albertville City</td>\n",
       "      <td>870</td>\n",
       "      <td>Albertville Middle School</td>\n",
       "      <td>010000500870</td>\n",
       "      <td>No</td>\n",
       "      <td>-9</td>\n",
       "      <td>-9</td>\n",
       "      <td>...</td>\n",
       "      <td>-9</td>\n",
       "      <td>-9</td>\n",
       "      <td>-9</td>\n",
       "      <td>-9</td>\n",
       "      <td>-9</td>\n",
       "      <td>-9</td>\n",
       "      <td>-9</td>\n",
       "      <td>-9</td>\n",
       "      <td>-9</td>\n",
       "      <td>-9</td>\n",
       "    </tr>\n",
       "  </tbody>\n",
       "</table>\n",
       "<p>5 rows × 30 columns</p>\n",
       "</div>"
      ],
      "text/plain": [
       "  LEA_STATE LEA_STATE_NAME    LEAID                LEA_NAME  SCHID  \\\n",
       "0        AL        ALABAMA  0100002  Alabama Youth Services   1705   \n",
       "1        AL        ALABAMA  0100002  Alabama Youth Services   1706   \n",
       "2        AL        ALABAMA  0100002  Alabama Youth Services   1876   \n",
       "3        AL        ALABAMA  0100002  Alabama Youth Services  99995   \n",
       "4        AL        ALABAMA  0100005        Albertville City    870   \n",
       "\n",
       "                        SCH_NAME      COMBOKEY   JJ  SCH_MATHCLASSES_ALG2  \\\n",
       "0  Wallace Sch - Mt Meigs Campus  010000201705  Yes                     0   \n",
       "1      McNeel Sch - Vacca Campus  010000201706  Yes                     0   \n",
       "2         Alabama Youth Services  010000201876   No                     0   \n",
       "3                 AUTAUGA CAMPUS  010000299995  Yes                     0   \n",
       "4      Albertville Middle School  010000500870   No                    -9   \n",
       "\n",
       "   SCH_MATHCERT_ALG2  ...  SCH_MATHENR_ALG2_WH_M  SCH_MATHENR_ALG2_WH_F  \\\n",
       "0                 -9  ...                     -9                     -9   \n",
       "1                 -9  ...                     -9                     -9   \n",
       "2                 -9  ...                     -9                     -9   \n",
       "3                 -9  ...                     -9                     -9   \n",
       "4                 -9  ...                     -9                     -9   \n",
       "\n",
       "   SCH_MATHENR_ALG2_TR_M  SCH_MATHENR_ALG2_TR_F  TOT_MATHENR_ALG2_M  \\\n",
       "0                     -9                     -9                  -9   \n",
       "1                     -9                     -9                  -9   \n",
       "2                     -9                     -9                  -9   \n",
       "3                     -9                     -9                  -9   \n",
       "4                     -9                     -9                  -9   \n",
       "\n",
       "   TOT_MATHENR_ALG2_F  SCH_MATHENR_ALG2_LEP_M  SCH_MATHENR_ALG2_LEP_F  \\\n",
       "0                  -9                      -9                      -9   \n",
       "1                  -9                      -9                      -9   \n",
       "2                  -9                      -9                      -9   \n",
       "3                  -9                      -9                      -9   \n",
       "4                  -9                      -9                      -9   \n",
       "\n",
       "   SCH_MATHENR_ALG2_IDEA_M  SCH_MATHENR_ALG2_IDEA_F  \n",
       "0                       -9                       -9  \n",
       "1                       -9                       -9  \n",
       "2                       -9                       -9  \n",
       "3                       -9                       -9  \n",
       "4                       -9                       -9  \n",
       "\n",
       "[5 rows x 30 columns]"
      ]
     },
     "execution_count": 162,
     "metadata": {},
     "output_type": "execute_result"
    }
   ],
   "source": [
    "Alg2 = pandas.read_csv(\"Algebra II.csv\",encoding='cp1252')\n",
    "Alg2.head()"
   ]
  },
  {
   "cell_type": "code",
   "execution_count": 163,
   "metadata": {},
   "outputs": [],
   "source": [
    "Alg2['SCHID'] = Alg2['SCHID'].apply(lambda x: '{0:0>5}'.format(x))"
   ]
  },
  {
   "cell_type": "code",
   "execution_count": 164,
   "metadata": {},
   "outputs": [],
   "source": [
    "Alg2['LEAID'] = Alg2['LEAID'].apply(lambda x: '{0:0>7}'.format(x))"
   ]
  },
  {
   "cell_type": "code",
   "execution_count": 165,
   "metadata": {},
   "outputs": [
    {
     "data": {
      "text/plain": [
       "Index(['LEA_STATE', 'LEA_STATE_NAME', 'LEAID', 'LEA_NAME', 'SCHID', 'SCH_NAME',\n",
       "       'COMBOKEY', 'JJ', 'SCH_MATHCLASSES_ALG2', 'SCH_MATHCERT_ALG2',\n",
       "       'SCH_MATHENR_ALG2_HI_M', 'SCH_MATHENR_ALG2_HI_F',\n",
       "       'SCH_MATHENR_ALG2_AM_M', 'SCH_MATHENR_ALG2_AM_F',\n",
       "       'SCH_MATHENR_ALG2_AS_M', 'SCH_MATHENR_ALG2_AS_F',\n",
       "       'SCH_MATHENR_ALG2_HP_M', 'SCH_MATHENR_ALG2_HP_F',\n",
       "       'SCH_MATHENR_ALG2_BL_M', 'SCH_MATHENR_ALG2_BL_F',\n",
       "       'SCH_MATHENR_ALG2_WH_M', 'SCH_MATHENR_ALG2_WH_F',\n",
       "       'SCH_MATHENR_ALG2_TR_M', 'SCH_MATHENR_ALG2_TR_F', 'TOT_MATHENR_ALG2_M',\n",
       "       'TOT_MATHENR_ALG2_F', 'SCH_MATHENR_ALG2_LEP_M',\n",
       "       'SCH_MATHENR_ALG2_LEP_F', 'SCH_MATHENR_ALG2_IDEA_M',\n",
       "       'SCH_MATHENR_ALG2_IDEA_F'],\n",
       "      dtype='object')"
      ]
     },
     "execution_count": 165,
     "metadata": {},
     "output_type": "execute_result"
    }
   ],
   "source": [
    "Alg2.columns"
   ]
  },
  {
   "cell_type": "code",
   "execution_count": 166,
   "metadata": {},
   "outputs": [
    {
     "data": {
      "text/plain": [
       "(97632, 30)"
      ]
     },
     "execution_count": 166,
     "metadata": {},
     "output_type": "execute_result"
    }
   ],
   "source": [
    "Alg2.shape"
   ]
  },
  {
   "cell_type": "code",
   "execution_count": 167,
   "metadata": {},
   "outputs": [],
   "source": [
    "Alg2=Alg2[['LEA_STATE', 'LEA_STATE_NAME', 'LEAID', 'LEA_NAME', 'SCHID', 'SCH_NAME','COMBOKEY','SCH_MATHCLASSES_ALG2', 'SCH_MATHCERT_ALG2','TOT_MATHENR_ALG2_M',\n",
    "       'TOT_MATHENR_ALG2_F']]"
   ]
  },
  {
   "cell_type": "code",
   "execution_count": 168,
   "metadata": {},
   "outputs": [
    {
     "data": {
      "text/plain": [
       "(97632, 11)"
      ]
     },
     "execution_count": 168,
     "metadata": {},
     "output_type": "execute_result"
    }
   ],
   "source": [
    "Alg2.shape"
   ]
  },
  {
   "cell_type": "code",
   "execution_count": 169,
   "metadata": {},
   "outputs": [
    {
     "data": {
      "text/html": [
       "<div>\n",
       "<style scoped>\n",
       "    .dataframe tbody tr th:only-of-type {\n",
       "        vertical-align: middle;\n",
       "    }\n",
       "\n",
       "    .dataframe tbody tr th {\n",
       "        vertical-align: top;\n",
       "    }\n",
       "\n",
       "    .dataframe thead th {\n",
       "        text-align: right;\n",
       "    }\n",
       "</style>\n",
       "<table border=\"1\" class=\"dataframe\">\n",
       "  <thead>\n",
       "    <tr style=\"text-align: right;\">\n",
       "      <th></th>\n",
       "      <th>LEA_STATE</th>\n",
       "      <th>LEA_STATE_NAME</th>\n",
       "      <th>LEAID</th>\n",
       "      <th>LEA_NAME</th>\n",
       "      <th>SCHID</th>\n",
       "      <th>SCH_NAME</th>\n",
       "      <th>COMBOKEY</th>\n",
       "      <th>SCH_MATHCLASSES_ALG2</th>\n",
       "      <th>SCH_MATHCERT_ALG2</th>\n",
       "      <th>TOT_MATHENR_ALG2_M</th>\n",
       "      <th>TOT_MATHENR_ALG2_F</th>\n",
       "    </tr>\n",
       "  </thead>\n",
       "  <tbody>\n",
       "    <tr>\n",
       "      <th>0</th>\n",
       "      <td>AL</td>\n",
       "      <td>ALABAMA</td>\n",
       "      <td>0100002</td>\n",
       "      <td>Alabama Youth Services</td>\n",
       "      <td>01705</td>\n",
       "      <td>Wallace Sch - Mt Meigs Campus</td>\n",
       "      <td>010000201705</td>\n",
       "      <td>0</td>\n",
       "      <td>-9</td>\n",
       "      <td>-9</td>\n",
       "      <td>-9</td>\n",
       "    </tr>\n",
       "    <tr>\n",
       "      <th>1</th>\n",
       "      <td>AL</td>\n",
       "      <td>ALABAMA</td>\n",
       "      <td>0100002</td>\n",
       "      <td>Alabama Youth Services</td>\n",
       "      <td>01706</td>\n",
       "      <td>McNeel Sch - Vacca Campus</td>\n",
       "      <td>010000201706</td>\n",
       "      <td>0</td>\n",
       "      <td>-9</td>\n",
       "      <td>-9</td>\n",
       "      <td>-9</td>\n",
       "    </tr>\n",
       "    <tr>\n",
       "      <th>2</th>\n",
       "      <td>AL</td>\n",
       "      <td>ALABAMA</td>\n",
       "      <td>0100002</td>\n",
       "      <td>Alabama Youth Services</td>\n",
       "      <td>01876</td>\n",
       "      <td>Alabama Youth Services</td>\n",
       "      <td>010000201876</td>\n",
       "      <td>0</td>\n",
       "      <td>-9</td>\n",
       "      <td>-9</td>\n",
       "      <td>-9</td>\n",
       "    </tr>\n",
       "    <tr>\n",
       "      <th>3</th>\n",
       "      <td>AL</td>\n",
       "      <td>ALABAMA</td>\n",
       "      <td>0100002</td>\n",
       "      <td>Alabama Youth Services</td>\n",
       "      <td>99995</td>\n",
       "      <td>AUTAUGA CAMPUS</td>\n",
       "      <td>010000299995</td>\n",
       "      <td>0</td>\n",
       "      <td>-9</td>\n",
       "      <td>-9</td>\n",
       "      <td>-9</td>\n",
       "    </tr>\n",
       "    <tr>\n",
       "      <th>4</th>\n",
       "      <td>AL</td>\n",
       "      <td>ALABAMA</td>\n",
       "      <td>0100005</td>\n",
       "      <td>Albertville City</td>\n",
       "      <td>00870</td>\n",
       "      <td>Albertville Middle School</td>\n",
       "      <td>010000500870</td>\n",
       "      <td>-9</td>\n",
       "      <td>-9</td>\n",
       "      <td>-9</td>\n",
       "      <td>-9</td>\n",
       "    </tr>\n",
       "  </tbody>\n",
       "</table>\n",
       "</div>"
      ],
      "text/plain": [
       "  LEA_STATE LEA_STATE_NAME    LEAID                LEA_NAME  SCHID  \\\n",
       "0        AL        ALABAMA  0100002  Alabama Youth Services  01705   \n",
       "1        AL        ALABAMA  0100002  Alabama Youth Services  01706   \n",
       "2        AL        ALABAMA  0100002  Alabama Youth Services  01876   \n",
       "3        AL        ALABAMA  0100002  Alabama Youth Services  99995   \n",
       "4        AL        ALABAMA  0100005        Albertville City  00870   \n",
       "\n",
       "                        SCH_NAME      COMBOKEY  SCH_MATHCLASSES_ALG2  \\\n",
       "0  Wallace Sch - Mt Meigs Campus  010000201705                     0   \n",
       "1      McNeel Sch - Vacca Campus  010000201706                     0   \n",
       "2         Alabama Youth Services  010000201876                     0   \n",
       "3                 AUTAUGA CAMPUS  010000299995                     0   \n",
       "4      Albertville Middle School  010000500870                    -9   \n",
       "\n",
       "   SCH_MATHCERT_ALG2  TOT_MATHENR_ALG2_M  TOT_MATHENR_ALG2_F  \n",
       "0                 -9                  -9                  -9  \n",
       "1                 -9                  -9                  -9  \n",
       "2                 -9                  -9                  -9  \n",
       "3                 -9                  -9                  -9  \n",
       "4                 -9                  -9                  -9  "
      ]
     },
     "execution_count": 169,
     "metadata": {},
     "output_type": "execute_result"
    }
   ],
   "source": [
    "Alg2.head()"
   ]
  },
  {
   "cell_type": "code",
   "execution_count": 170,
   "metadata": {},
   "outputs": [],
   "source": [
    "cols = ['LEAID', 'SCHID']\n",
    "Alg2['NCESSCH'] = Alg2[cols].apply(lambda row: ''.join(row.values.astype(str)), axis=1)"
   ]
  },
  {
   "cell_type": "code",
   "execution_count": 171,
   "metadata": {},
   "outputs": [],
   "source": [
    "Alg2.rename(columns={'TOT_MATHENR_ALG2_M':'Male_enroll_Alg2_count','TOT_MATHENR_ALG2_F':'Female_enroll_Alg2_count'}, inplace=True)"
   ]
  },
  {
   "cell_type": "code",
   "execution_count": 172,
   "metadata": {},
   "outputs": [
    {
     "data": {
      "text/plain": [
       "Index(['LEA_STATE', 'LEA_STATE_NAME', 'LEAID', 'LEA_NAME', 'SCHID', 'SCH_NAME',\n",
       "       'COMBOKEY', 'SCH_MATHCLASSES_ALG2', 'SCH_MATHCERT_ALG2',\n",
       "       'Male_enroll_Alg2_count', 'Female_enroll_Alg2_count', 'NCESSCH'],\n",
       "      dtype='object')"
      ]
     },
     "execution_count": 172,
     "metadata": {},
     "output_type": "execute_result"
    }
   ],
   "source": [
    "Alg2.columns"
   ]
  },
  {
   "cell_type": "code",
   "execution_count": 173,
   "metadata": {},
   "outputs": [],
   "source": [
    "Alg2['Total_Alg2_enroll_students'] = (Alg2['Male_enroll_Alg2_count'] + Alg2['Female_enroll_Alg2_count'])"
   ]
  },
  {
   "cell_type": "code",
   "execution_count": 174,
   "metadata": {},
   "outputs": [],
   "source": [
    "Alg2=Alg2[['LEA_STATE', 'LEA_STATE_NAME', 'LEAID', 'LEA_NAME', 'SCHID', 'SCH_NAME',\n",
    "       'COMBOKEY', 'SCH_MATHCLASSES_ALG2', 'SCH_MATHCERT_ALG2', 'NCESSCH',\n",
    "       'Total_Alg2_enroll_students']]"
   ]
  },
  {
   "cell_type": "code",
   "execution_count": 175,
   "metadata": {},
   "outputs": [],
   "source": [
    "Alg2_clean= Alg2[Alg2.SCH_MATHCLASSES_ALG2 > 0]"
   ]
  },
  {
   "cell_type": "code",
   "execution_count": 176,
   "metadata": {},
   "outputs": [
    {
     "data": {
      "text/plain": [
       "(21419, 11)"
      ]
     },
     "execution_count": 176,
     "metadata": {},
     "output_type": "execute_result"
    }
   ],
   "source": [
    "Alg2_clean.shape"
   ]
  },
  {
   "cell_type": "code",
   "execution_count": 177,
   "metadata": {},
   "outputs": [
    {
     "data": {
      "text/plain": [
       "<matplotlib.axes._subplots.AxesSubplot at 0x7f8eb943a850>"
      ]
     },
     "execution_count": 177,
     "metadata": {},
     "output_type": "execute_result"
    },
    {
     "data": {
      "image/png": "[encoded data removed]",
      "text/plain": [
       "<Figure size 432x288 with 2 Axes>"
      ]
     },
     "metadata": {
      "needs_background": "light"
     },
     "output_type": "display_data"
    }
   ],
   "source": [
    "sns.heatmap(Alg2_clean.isnull(),yticklabels=False,cbar=True,cmap='viridis')"
   ]
  },
  {
   "cell_type": "code",
   "execution_count": 178,
   "metadata": {},
   "outputs": [
    {
     "data": {
      "text/html": [
       "<div>\n",
       "<style scoped>\n",
       "    .dataframe tbody tr th:only-of-type {\n",
       "        vertical-align: middle;\n",
       "    }\n",
       "\n",
       "    .dataframe tbody tr th {\n",
       "        vertical-align: top;\n",
       "    }\n",
       "\n",
       "    .dataframe thead th {\n",
       "        text-align: right;\n",
       "    }\n",
       "</style>\n",
       "<table border=\"1\" class=\"dataframe\">\n",
       "  <thead>\n",
       "    <tr style=\"text-align: right;\">\n",
       "      <th></th>\n",
       "      <th>SCH_MATHCLASSES_ALG2</th>\n",
       "      <th>SCH_MATHCERT_ALG2</th>\n",
       "      <th>Total_Alg2_enroll_students</th>\n",
       "    </tr>\n",
       "  </thead>\n",
       "  <tbody>\n",
       "    <tr>\n",
       "      <th>count</th>\n",
       "      <td>21419.000000</td>\n",
       "      <td>21419.000000</td>\n",
       "      <td>21419.000000</td>\n",
       "    </tr>\n",
       "    <tr>\n",
       "      <th>mean</th>\n",
       "      <td>8.046874</td>\n",
       "      <td>6.758252</td>\n",
       "      <td>139.859050</td>\n",
       "    </tr>\n",
       "    <tr>\n",
       "      <th>std</th>\n",
       "      <td>10.082804</td>\n",
       "      <td>8.413097</td>\n",
       "      <td>167.022719</td>\n",
       "    </tr>\n",
       "    <tr>\n",
       "      <th>min</th>\n",
       "      <td>1.000000</td>\n",
       "      <td>0.000000</td>\n",
       "      <td>0.000000</td>\n",
       "    </tr>\n",
       "    <tr>\n",
       "      <th>25%</th>\n",
       "      <td>2.000000</td>\n",
       "      <td>2.000000</td>\n",
       "      <td>24.000000</td>\n",
       "    </tr>\n",
       "    <tr>\n",
       "      <th>50%</th>\n",
       "      <td>5.000000</td>\n",
       "      <td>4.000000</td>\n",
       "      <td>73.000000</td>\n",
       "    </tr>\n",
       "    <tr>\n",
       "      <th>75%</th>\n",
       "      <td>11.000000</td>\n",
       "      <td>9.000000</td>\n",
       "      <td>198.000000</td>\n",
       "    </tr>\n",
       "    <tr>\n",
       "      <th>max</th>\n",
       "      <td>358.000000</td>\n",
       "      <td>241.000000</td>\n",
       "      <td>1940.000000</td>\n",
       "    </tr>\n",
       "  </tbody>\n",
       "</table>\n",
       "</div>"
      ],
      "text/plain": [
       "       SCH_MATHCLASSES_ALG2  SCH_MATHCERT_ALG2  Total_Alg2_enroll_students\n",
       "count          21419.000000       21419.000000                21419.000000\n",
       "mean               8.046874           6.758252                  139.859050\n",
       "std               10.082804           8.413097                  167.022719\n",
       "min                1.000000           0.000000                    0.000000\n",
       "25%                2.000000           2.000000                   24.000000\n",
       "50%                5.000000           4.000000                   73.000000\n",
       "75%               11.000000           9.000000                  198.000000\n",
       "max              358.000000         241.000000                 1940.000000"
      ]
     },
     "execution_count": 178,
     "metadata": {},
     "output_type": "execute_result"
    }
   ],
   "source": [
    "Alg2_clean.describe()"
   ]
  },
  {
   "cell_type": "code",
   "execution_count": 179,
   "metadata": {},
   "outputs": [
    {
     "data": {
      "text/plain": [
       "array([[<matplotlib.axes._subplots.AxesSubplot object at 0x7f8ef76ef820>,\n",
       "        <matplotlib.axes._subplots.AxesSubplot object at 0x7f8eba657d60>],\n",
       "       [<matplotlib.axes._subplots.AxesSubplot object at 0x7f8eba68f220>,\n",
       "        <matplotlib.axes._subplots.AxesSubplot object at 0x7f8eba6bb6a0>]],\n",
       "      dtype=object)"
      ]
     },
     "execution_count": 179,
     "metadata": {},
     "output_type": "execute_result"
    },
    {
     "data": {
      "image/png": "[encoded data removed]",
      "text/plain": [
       "<Figure size 432x288 with 4 Axes>"
      ]
     },
     "metadata": {
      "needs_background": "light"
     },
     "output_type": "display_data"
    }
   ],
   "source": [
    "Alg2_clean.hist()"
   ]
  },
  {
   "cell_type": "code",
   "execution_count": 180,
   "metadata": {},
   "outputs": [],
   "source": [
    "Alg2_clean.to_csv (r'/Users/dansari/Documents/GitHub/Identifying-features-to-predict-high-school-assessment-proficiency/Phase1/Data/CRDC/Clean_crdc_Alg2.csv', index = False, header=True)"
   ]
  },
  {
   "cell_type": "markdown",
   "metadata": {},
   "source": [
    "### Cleaning Calculus file"
   ]
  },
  {
   "cell_type": "code",
   "execution_count": 181,
   "metadata": {},
   "outputs": [
    {
     "data": {
      "text/html": [
       "<div>\n",
       "<style scoped>\n",
       "    .dataframe tbody tr th:only-of-type {\n",
       "        vertical-align: middle;\n",
       "    }\n",
       "\n",
       "    .dataframe tbody tr th {\n",
       "        vertical-align: top;\n",
       "    }\n",
       "\n",
       "    .dataframe thead th {\n",
       "        text-align: right;\n",
       "    }\n",
       "</style>\n",
       "<table border=\"1\" class=\"dataframe\">\n",
       "  <thead>\n",
       "    <tr style=\"text-align: right;\">\n",
       "      <th></th>\n",
       "      <th>\"LEA_STATE\"</th>\n",
       "      <th>LEA_STATE_NAME</th>\n",
       "      <th>LEAID</th>\n",
       "      <th>LEA_NAME</th>\n",
       "      <th>SCHID</th>\n",
       "      <th>SCH_NAME</th>\n",
       "      <th>COMBOKEY</th>\n",
       "      <th>JJ</th>\n",
       "      <th>SCH_MATHCLASSES_CALC</th>\n",
       "      <th>SCH_MATHCERT_CALC</th>\n",
       "      <th>...</th>\n",
       "      <th>SCH_MATHENR_CALC_WH_M</th>\n",
       "      <th>SCH_MATHENR_CALC_WH_F</th>\n",
       "      <th>SCH_MATHENR_CALC_TR_M</th>\n",
       "      <th>SCH_MATHENR_CALC_TR_F</th>\n",
       "      <th>TOT_MATHENR_CALC_M</th>\n",
       "      <th>TOT_MATHENR_CALC_F</th>\n",
       "      <th>SCH_MATHENR_CALC_LEP_M</th>\n",
       "      <th>SCH_MATHENR_CALC_LEP_F</th>\n",
       "      <th>SCH_MATHENR_CALC_IDEA_M</th>\n",
       "      <th>SCH_MATHENR_CALC_IDEA_F</th>\n",
       "    </tr>\n",
       "  </thead>\n",
       "  <tbody>\n",
       "    <tr>\n",
       "      <th>0</th>\n",
       "      <td>AL</td>\n",
       "      <td>ALABAMA</td>\n",
       "      <td>0100002</td>\n",
       "      <td>Alabama Youth Services</td>\n",
       "      <td>1705</td>\n",
       "      <td>Wallace Sch - Mt Meigs Campus</td>\n",
       "      <td>010000201705</td>\n",
       "      <td>Yes</td>\n",
       "      <td>0</td>\n",
       "      <td>-9</td>\n",
       "      <td>...</td>\n",
       "      <td>-9</td>\n",
       "      <td>-9</td>\n",
       "      <td>-9</td>\n",
       "      <td>-9</td>\n",
       "      <td>-9</td>\n",
       "      <td>-9</td>\n",
       "      <td>-9</td>\n",
       "      <td>-9</td>\n",
       "      <td>-9</td>\n",
       "      <td>-9</td>\n",
       "    </tr>\n",
       "    <tr>\n",
       "      <th>1</th>\n",
       "      <td>AL</td>\n",
       "      <td>ALABAMA</td>\n",
       "      <td>0100002</td>\n",
       "      <td>Alabama Youth Services</td>\n",
       "      <td>1706</td>\n",
       "      <td>McNeel Sch - Vacca Campus</td>\n",
       "      <td>010000201706</td>\n",
       "      <td>Yes</td>\n",
       "      <td>0</td>\n",
       "      <td>-9</td>\n",
       "      <td>...</td>\n",
       "      <td>-9</td>\n",
       "      <td>-9</td>\n",
       "      <td>-9</td>\n",
       "      <td>-9</td>\n",
       "      <td>-9</td>\n",
       "      <td>-9</td>\n",
       "      <td>-9</td>\n",
       "      <td>-9</td>\n",
       "      <td>-9</td>\n",
       "      <td>-9</td>\n",
       "    </tr>\n",
       "    <tr>\n",
       "      <th>2</th>\n",
       "      <td>AL</td>\n",
       "      <td>ALABAMA</td>\n",
       "      <td>0100002</td>\n",
       "      <td>Alabama Youth Services</td>\n",
       "      <td>1876</td>\n",
       "      <td>Alabama Youth Services</td>\n",
       "      <td>010000201876</td>\n",
       "      <td>No</td>\n",
       "      <td>0</td>\n",
       "      <td>-9</td>\n",
       "      <td>...</td>\n",
       "      <td>-9</td>\n",
       "      <td>-9</td>\n",
       "      <td>-9</td>\n",
       "      <td>-9</td>\n",
       "      <td>-9</td>\n",
       "      <td>-9</td>\n",
       "      <td>-9</td>\n",
       "      <td>-9</td>\n",
       "      <td>-9</td>\n",
       "      <td>-9</td>\n",
       "    </tr>\n",
       "    <tr>\n",
       "      <th>3</th>\n",
       "      <td>AL</td>\n",
       "      <td>ALABAMA</td>\n",
       "      <td>0100002</td>\n",
       "      <td>Alabama Youth Services</td>\n",
       "      <td>99995</td>\n",
       "      <td>AUTAUGA CAMPUS</td>\n",
       "      <td>010000299995</td>\n",
       "      <td>Yes</td>\n",
       "      <td>0</td>\n",
       "      <td>-9</td>\n",
       "      <td>...</td>\n",
       "      <td>-9</td>\n",
       "      <td>-9</td>\n",
       "      <td>-9</td>\n",
       "      <td>-9</td>\n",
       "      <td>-9</td>\n",
       "      <td>-9</td>\n",
       "      <td>-9</td>\n",
       "      <td>-9</td>\n",
       "      <td>-9</td>\n",
       "      <td>-9</td>\n",
       "    </tr>\n",
       "    <tr>\n",
       "      <th>4</th>\n",
       "      <td>AL</td>\n",
       "      <td>ALABAMA</td>\n",
       "      <td>0100005</td>\n",
       "      <td>Albertville City</td>\n",
       "      <td>870</td>\n",
       "      <td>Albertville Middle School</td>\n",
       "      <td>010000500870</td>\n",
       "      <td>No</td>\n",
       "      <td>-9</td>\n",
       "      <td>-9</td>\n",
       "      <td>...</td>\n",
       "      <td>-9</td>\n",
       "      <td>-9</td>\n",
       "      <td>-9</td>\n",
       "      <td>-9</td>\n",
       "      <td>-9</td>\n",
       "      <td>-9</td>\n",
       "      <td>-9</td>\n",
       "      <td>-9</td>\n",
       "      <td>-9</td>\n",
       "      <td>-9</td>\n",
       "    </tr>\n",
       "  </tbody>\n",
       "</table>\n",
       "<p>5 rows × 30 columns</p>\n",
       "</div>"
      ],
      "text/plain": [
       "   \"LEA_STATE\" LEA_STATE_NAME    LEAID                LEA_NAME  SCHID  \\\n",
       "0           AL        ALABAMA  0100002  Alabama Youth Services   1705   \n",
       "1           AL        ALABAMA  0100002  Alabama Youth Services   1706   \n",
       "2           AL        ALABAMA  0100002  Alabama Youth Services   1876   \n",
       "3           AL        ALABAMA  0100002  Alabama Youth Services  99995   \n",
       "4           AL        ALABAMA  0100005        Albertville City    870   \n",
       "\n",
       "                        SCH_NAME      COMBOKEY   JJ  SCH_MATHCLASSES_CALC  \\\n",
       "0  Wallace Sch - Mt Meigs Campus  010000201705  Yes                     0   \n",
       "1      McNeel Sch - Vacca Campus  010000201706  Yes                     0   \n",
       "2         Alabama Youth Services  010000201876   No                     0   \n",
       "3                 AUTAUGA CAMPUS  010000299995  Yes                     0   \n",
       "4      Albertville Middle School  010000500870   No                    -9   \n",
       "\n",
       "   SCH_MATHCERT_CALC  ...  SCH_MATHENR_CALC_WH_M  SCH_MATHENR_CALC_WH_F  \\\n",
       "0                 -9  ...                     -9                     -9   \n",
       "1                 -9  ...                     -9                     -9   \n",
       "2                 -9  ...                     -9                     -9   \n",
       "3                 -9  ...                     -9                     -9   \n",
       "4                 -9  ...                     -9                     -9   \n",
       "\n",
       "   SCH_MATHENR_CALC_TR_M  SCH_MATHENR_CALC_TR_F  TOT_MATHENR_CALC_M  \\\n",
       "0                     -9                     -9                  -9   \n",
       "1                     -9                     -9                  -9   \n",
       "2                     -9                     -9                  -9   \n",
       "3                     -9                     -9                  -9   \n",
       "4                     -9                     -9                  -9   \n",
       "\n",
       "   TOT_MATHENR_CALC_F  SCH_MATHENR_CALC_LEP_M  SCH_MATHENR_CALC_LEP_F  \\\n",
       "0                  -9                      -9                      -9   \n",
       "1                  -9                      -9                      -9   \n",
       "2                  -9                      -9                      -9   \n",
       "3                  -9                      -9                      -9   \n",
       "4                  -9                      -9                      -9   \n",
       "\n",
       "   SCH_MATHENR_CALC_IDEA_M  SCH_MATHENR_CALC_IDEA_F  \n",
       "0                       -9                       -9  \n",
       "1                       -9                       -9  \n",
       "2                       -9                       -9  \n",
       "3                       -9                       -9  \n",
       "4                       -9                       -9  \n",
       "\n",
       "[5 rows x 30 columns]"
      ]
     },
     "execution_count": 181,
     "metadata": {},
     "output_type": "execute_result"
    }
   ],
   "source": [
    "Calculus = pandas.read_csv(\"Calculus.csv\",encoding='cp1252')\n",
    "Calculus.head()"
   ]
  },
  {
   "cell_type": "code",
   "execution_count": 182,
   "metadata": {},
   "outputs": [],
   "source": [
    "Calculus['SCHID'] = Calculus['SCHID'].apply(lambda x: '{0:0>5}'.format(x))"
   ]
  },
  {
   "cell_type": "code",
   "execution_count": 183,
   "metadata": {},
   "outputs": [],
   "source": [
    "Calculus['LEAID'] = Calculus['LEAID'].apply(lambda x: '{0:0>7}'.format(x))"
   ]
  },
  {
   "cell_type": "code",
   "execution_count": 184,
   "metadata": {},
   "outputs": [
    {
     "data": {
      "text/plain": [
       "Index([' \"LEA_STATE\"', 'LEA_STATE_NAME', 'LEAID', 'LEA_NAME', 'SCHID',\n",
       "       'SCH_NAME', 'COMBOKEY', 'JJ', 'SCH_MATHCLASSES_CALC',\n",
       "       'SCH_MATHCERT_CALC', 'SCH_MATHENR_CALC_HI_M', 'SCH_MATHENR_CALC_HI_F',\n",
       "       'SCH_MATHENR_CALC_AM_M', 'SCH_MATHENR_CALC_AM_F',\n",
       "       'SCH_MATHENR_CALC_AS_M', 'SCH_MATHENR_CALC_AS_F',\n",
       "       'SCH_MATHENR_CALC_HP_M', 'SCH_MATHENR_CALC_HP_F',\n",
       "       'SCH_MATHENR_CALC_BL_M', 'SCH_MATHENR_CALC_BL_F',\n",
       "       'SCH_MATHENR_CALC_WH_M', 'SCH_MATHENR_CALC_WH_F',\n",
       "       'SCH_MATHENR_CALC_TR_M', 'SCH_MATHENR_CALC_TR_F', 'TOT_MATHENR_CALC_M',\n",
       "       'TOT_MATHENR_CALC_F', 'SCH_MATHENR_CALC_LEP_M',\n",
       "       'SCH_MATHENR_CALC_LEP_F', 'SCH_MATHENR_CALC_IDEA_M',\n",
       "       'SCH_MATHENR_CALC_IDEA_F'],\n",
       "      dtype='object')"
      ]
     },
     "execution_count": 184,
     "metadata": {},
     "output_type": "execute_result"
    }
   ],
   "source": [
    "Calculus.columns"
   ]
  },
  {
   "cell_type": "code",
   "execution_count": 185,
   "metadata": {},
   "outputs": [
    {
     "data": {
      "text/plain": [
       "(97632, 30)"
      ]
     },
     "execution_count": 185,
     "metadata": {},
     "output_type": "execute_result"
    }
   ],
   "source": [
    "Calculus.shape"
   ]
  },
  {
   "cell_type": "code",
   "execution_count": 186,
   "metadata": {},
   "outputs": [],
   "source": [
    "Calculus=Calculus[[' \"LEA_STATE\"', 'LEA_STATE_NAME', 'LEAID', 'LEA_NAME', 'SCHID', 'SCH_NAME','COMBOKEY','SCH_MATHCLASSES_CALC','SCH_MATHCERT_CALC','TOT_MATHENR_CALC_M','TOT_MATHENR_CALC_F']]"
   ]
  },
  {
   "cell_type": "code",
   "execution_count": 187,
   "metadata": {},
   "outputs": [
    {
     "data": {
      "text/plain": [
       "(97632, 11)"
      ]
     },
     "execution_count": 187,
     "metadata": {},
     "output_type": "execute_result"
    }
   ],
   "source": [
    "Calculus.shape"
   ]
  },
  {
   "cell_type": "code",
   "execution_count": 188,
   "metadata": {},
   "outputs": [],
   "source": [
    "cols = ['LEAID', 'SCHID']\n",
    "Calculus['NCESSCH'] = Calculus[cols].apply(lambda row: ''.join(row.values.astype(str)), axis=1)"
   ]
  },
  {
   "cell_type": "code",
   "execution_count": 189,
   "metadata": {},
   "outputs": [],
   "source": [
    "Calculus['Total_Calc_enroll_students'] = (Calculus['TOT_MATHENR_CALC_M'] + Calculus['TOT_MATHENR_CALC_M'])"
   ]
  },
  {
   "cell_type": "code",
   "execution_count": 190,
   "metadata": {},
   "outputs": [
    {
     "data": {
      "text/plain": [
       "Index([' \"LEA_STATE\"', 'LEA_STATE_NAME', 'LEAID', 'LEA_NAME', 'SCHID',\n",
       "       'SCH_NAME', 'COMBOKEY', 'SCH_MATHCLASSES_CALC', 'SCH_MATHCERT_CALC',\n",
       "       'TOT_MATHENR_CALC_M', 'TOT_MATHENR_CALC_F', 'NCESSCH',\n",
       "       'Total_Calc_enroll_students'],\n",
       "      dtype='object')"
      ]
     },
     "execution_count": 190,
     "metadata": {},
     "output_type": "execute_result"
    }
   ],
   "source": [
    "Calculus.columns"
   ]
  },
  {
   "cell_type": "code",
   "execution_count": 191,
   "metadata": {},
   "outputs": [],
   "source": [
    "Calculus=Calculus[[' \"LEA_STATE\"', 'LEA_STATE_NAME', 'LEAID', 'LEA_NAME', 'SCHID', 'SCH_NAME','COMBOKEY','NCESSCH','SCH_MATHCLASSES_CALC','SCH_MATHCERT_CALC','Total_Calc_enroll_students']]"
   ]
  },
  {
   "cell_type": "code",
   "execution_count": 192,
   "metadata": {},
   "outputs": [],
   "source": [
    "Calculus_clean=Calculus[Calculus.SCH_MATHCLASSES_CALC > 0]"
   ]
  },
  {
   "cell_type": "code",
   "execution_count": 193,
   "metadata": {},
   "outputs": [
    {
     "data": {
      "text/plain": [
       "(13120, 11)"
      ]
     },
     "execution_count": 193,
     "metadata": {},
     "output_type": "execute_result"
    }
   ],
   "source": [
    "Calculus_clean.shape"
   ]
  },
  {
   "cell_type": "code",
   "execution_count": 194,
   "metadata": {},
   "outputs": [
    {
     "data": {
      "text/plain": [
       "<matplotlib.axes._subplots.AxesSubplot at 0x7f8ebc4356a0>"
      ]
     },
     "execution_count": 194,
     "metadata": {},
     "output_type": "execute_result"
    },
    {
     "data": {
      "image/png": "[encoded data removed]",
      "text/plain": [
       "<Figure size 432x288 with 2 Axes>"
      ]
     },
     "metadata": {
      "needs_background": "light"
     },
     "output_type": "display_data"
    }
   ],
   "source": [
    "sns.heatmap(Calculus_clean.isnull(),yticklabels=False,cbar=True,cmap='viridis')"
   ]
  },
  {
   "cell_type": "code",
   "execution_count": 195,
   "metadata": {},
   "outputs": [
    {
     "data": {
      "text/html": [
       "<div>\n",
       "<style scoped>\n",
       "    .dataframe tbody tr th:only-of-type {\n",
       "        vertical-align: middle;\n",
       "    }\n",
       "\n",
       "    .dataframe tbody tr th {\n",
       "        vertical-align: top;\n",
       "    }\n",
       "\n",
       "    .dataframe thead th {\n",
       "        text-align: right;\n",
       "    }\n",
       "</style>\n",
       "<table border=\"1\" class=\"dataframe\">\n",
       "  <thead>\n",
       "    <tr style=\"text-align: right;\">\n",
       "      <th></th>\n",
       "      <th>SCH_MATHCLASSES_CALC</th>\n",
       "      <th>SCH_MATHCERT_CALC</th>\n",
       "      <th>Total_Calc_enroll_students</th>\n",
       "    </tr>\n",
       "  </thead>\n",
       "  <tbody>\n",
       "    <tr>\n",
       "      <th>count</th>\n",
       "      <td>13120.000000</td>\n",
       "      <td>13120.000000</td>\n",
       "      <td>13120.000000</td>\n",
       "    </tr>\n",
       "    <tr>\n",
       "      <th>mean</th>\n",
       "      <td>3.281250</td>\n",
       "      <td>2.948018</td>\n",
       "      <td>52.461433</td>\n",
       "    </tr>\n",
       "    <tr>\n",
       "      <th>std</th>\n",
       "      <td>4.166317</td>\n",
       "      <td>3.864309</td>\n",
       "      <td>77.843291</td>\n",
       "    </tr>\n",
       "    <tr>\n",
       "      <th>min</th>\n",
       "      <td>1.000000</td>\n",
       "      <td>0.000000</td>\n",
       "      <td>0.000000</td>\n",
       "    </tr>\n",
       "    <tr>\n",
       "      <th>25%</th>\n",
       "      <td>1.000000</td>\n",
       "      <td>1.000000</td>\n",
       "      <td>10.000000</td>\n",
       "    </tr>\n",
       "    <tr>\n",
       "      <th>50%</th>\n",
       "      <td>2.000000</td>\n",
       "      <td>2.000000</td>\n",
       "      <td>24.000000</td>\n",
       "    </tr>\n",
       "    <tr>\n",
       "      <th>75%</th>\n",
       "      <td>4.000000</td>\n",
       "      <td>4.000000</td>\n",
       "      <td>64.000000</td>\n",
       "    </tr>\n",
       "    <tr>\n",
       "      <th>max</th>\n",
       "      <td>152.000000</td>\n",
       "      <td>152.000000</td>\n",
       "      <td>1080.000000</td>\n",
       "    </tr>\n",
       "  </tbody>\n",
       "</table>\n",
       "</div>"
      ],
      "text/plain": [
       "       SCH_MATHCLASSES_CALC  SCH_MATHCERT_CALC  Total_Calc_enroll_students\n",
       "count          13120.000000       13120.000000                13120.000000\n",
       "mean               3.281250           2.948018                   52.461433\n",
       "std                4.166317           3.864309                   77.843291\n",
       "min                1.000000           0.000000                    0.000000\n",
       "25%                1.000000           1.000000                   10.000000\n",
       "50%                2.000000           2.000000                   24.000000\n",
       "75%                4.000000           4.000000                   64.000000\n",
       "max              152.000000         152.000000                 1080.000000"
      ]
     },
     "execution_count": 195,
     "metadata": {},
     "output_type": "execute_result"
    }
   ],
   "source": [
    "Calculus_clean.describe()"
   ]
  },
  {
   "cell_type": "code",
   "execution_count": 196,
   "metadata": {},
   "outputs": [
    {
     "data": {
      "text/plain": [
       "array([[<matplotlib.axes._subplots.AxesSubplot object at 0x7f8ebc40fd00>,\n",
       "        <matplotlib.axes._subplots.AxesSubplot object at 0x7f8ec23ac220>],\n",
       "       [<matplotlib.axes._subplots.AxesSubplot object at 0x7f8ecc447910>,\n",
       "        <matplotlib.axes._subplots.AxesSubplot object at 0x7f8ecc47c100>]],\n",
       "      dtype=object)"
      ]
     },
     "execution_count": 196,
     "metadata": {},
     "output_type": "execute_result"
    },
    {
     "data": {
      "image/png": "[encoded data removed]",
      "text/plain": [
       "<Figure size 432x288 with 4 Axes>"
      ]
     },
     "metadata": {
      "needs_background": "light"
     },
     "output_type": "display_data"
    }
   ],
   "source": [
    "Calculus_clean.hist()"
   ]
  },
  {
   "cell_type": "code",
   "execution_count": 197,
   "metadata": {},
   "outputs": [],
   "source": [
    "Calculus_clean.to_csv (r'/Users/dansari/Documents/GitHub/Identifying-features-to-predict-high-school-assessment-proficiency/Phase1/Data/CRDC/Clean_crdc_calculus.csv', index = False,header=True)"
   ]
  },
  {
   "cell_type": "markdown",
   "metadata": {},
   "source": [
    "### Cleaning Geometry file"
   ]
  },
  {
   "cell_type": "code",
   "execution_count": 198,
   "metadata": {},
   "outputs": [
    {
     "name": "stderr",
     "output_type": "stream",
     "text": [
      "/opt/anaconda3/lib/python3.8/site-packages/IPython/core/interactiveshell.py:3071: DtypeWarning: Columns (2,6) have mixed types.Specify dtype option on import or set low_memory=False.\n",
      "  has_raised = await self.run_ast_nodes(code_ast.body, cell_name,\n"
     ]
    },
    {
     "data": {
      "text/html": [
       "<div>\n",
       "<style scoped>\n",
       "    .dataframe tbody tr th:only-of-type {\n",
       "        vertical-align: middle;\n",
       "    }\n",
       "\n",
       "    .dataframe tbody tr th {\n",
       "        vertical-align: top;\n",
       "    }\n",
       "\n",
       "    .dataframe thead th {\n",
       "        text-align: right;\n",
       "    }\n",
       "</style>\n",
       "<table border=\"1\" class=\"dataframe\">\n",
       "  <thead>\n",
       "    <tr style=\"text-align: right;\">\n",
       "      <th></th>\n",
       "      <th>LEA_STATE</th>\n",
       "      <th>LEA_STATE_NAME</th>\n",
       "      <th>LEAID</th>\n",
       "      <th>LEA_NAME</th>\n",
       "      <th>SCHID</th>\n",
       "      <th>SCH_NAME</th>\n",
       "      <th>COMBOKEY</th>\n",
       "      <th>JJ</th>\n",
       "      <th>SCH_GEOMENR_G08_IND</th>\n",
       "      <th>SCH_GEOMENR_G08</th>\n",
       "      <th>...</th>\n",
       "      <th>SCH_MATHENR_GEOM_WH_M</th>\n",
       "      <th>SCH_MATHENR_GEOM_WH_F</th>\n",
       "      <th>SCH_MATHENR_GEOM_TR_M</th>\n",
       "      <th>SCH_MATHENR_GEOM_TR_F</th>\n",
       "      <th>TOT_MATHENR_GEOM_M</th>\n",
       "      <th>TOT_MATHENR_GEOM_F</th>\n",
       "      <th>SCH_MATHENR_GEOM_LEP_M</th>\n",
       "      <th>SCH_MATHENR_GEOM_LEP_F</th>\n",
       "      <th>SCH_MATHENR_GEOM_IDEA_M</th>\n",
       "      <th>SCH_MATHENR_GEOM_IDEA_F</th>\n",
       "    </tr>\n",
       "  </thead>\n",
       "  <tbody>\n",
       "    <tr>\n",
       "      <th>0</th>\n",
       "      <td>AL</td>\n",
       "      <td>ALABAMA</td>\n",
       "      <td>0100002</td>\n",
       "      <td>Alabama Youth Services</td>\n",
       "      <td>1705</td>\n",
       "      <td>Wallace Sch - Mt Meigs Campus</td>\n",
       "      <td>010000201705</td>\n",
       "      <td>Yes</td>\n",
       "      <td>No</td>\n",
       "      <td>-9</td>\n",
       "      <td>...</td>\n",
       "      <td>2</td>\n",
       "      <td>0</td>\n",
       "      <td>0</td>\n",
       "      <td>0</td>\n",
       "      <td>25</td>\n",
       "      <td>0</td>\n",
       "      <td>0</td>\n",
       "      <td>0</td>\n",
       "      <td>0</td>\n",
       "      <td>0</td>\n",
       "    </tr>\n",
       "    <tr>\n",
       "      <th>1</th>\n",
       "      <td>AL</td>\n",
       "      <td>ALABAMA</td>\n",
       "      <td>0100002</td>\n",
       "      <td>Alabama Youth Services</td>\n",
       "      <td>1706</td>\n",
       "      <td>McNeel Sch - Vacca Campus</td>\n",
       "      <td>010000201706</td>\n",
       "      <td>Yes</td>\n",
       "      <td>No</td>\n",
       "      <td>-9</td>\n",
       "      <td>...</td>\n",
       "      <td>-9</td>\n",
       "      <td>-9</td>\n",
       "      <td>-9</td>\n",
       "      <td>-9</td>\n",
       "      <td>-9</td>\n",
       "      <td>-9</td>\n",
       "      <td>-9</td>\n",
       "      <td>-9</td>\n",
       "      <td>-9</td>\n",
       "      <td>-9</td>\n",
       "    </tr>\n",
       "    <tr>\n",
       "      <th>2</th>\n",
       "      <td>AL</td>\n",
       "      <td>ALABAMA</td>\n",
       "      <td>0100002</td>\n",
       "      <td>Alabama Youth Services</td>\n",
       "      <td>1876</td>\n",
       "      <td>Alabama Youth Services</td>\n",
       "      <td>010000201876</td>\n",
       "      <td>No</td>\n",
       "      <td>No</td>\n",
       "      <td>-9</td>\n",
       "      <td>...</td>\n",
       "      <td>2</td>\n",
       "      <td>0</td>\n",
       "      <td>0</td>\n",
       "      <td>0</td>\n",
       "      <td>8</td>\n",
       "      <td>0</td>\n",
       "      <td>0</td>\n",
       "      <td>0</td>\n",
       "      <td>1</td>\n",
       "      <td>0</td>\n",
       "    </tr>\n",
       "    <tr>\n",
       "      <th>3</th>\n",
       "      <td>AL</td>\n",
       "      <td>ALABAMA</td>\n",
       "      <td>0100002</td>\n",
       "      <td>Alabama Youth Services</td>\n",
       "      <td>99995</td>\n",
       "      <td>AUTAUGA CAMPUS</td>\n",
       "      <td>010000299995</td>\n",
       "      <td>Yes</td>\n",
       "      <td>No</td>\n",
       "      <td>-9</td>\n",
       "      <td>...</td>\n",
       "      <td>-9</td>\n",
       "      <td>-9</td>\n",
       "      <td>-9</td>\n",
       "      <td>-9</td>\n",
       "      <td>-9</td>\n",
       "      <td>-9</td>\n",
       "      <td>-9</td>\n",
       "      <td>-9</td>\n",
       "      <td>-9</td>\n",
       "      <td>-9</td>\n",
       "    </tr>\n",
       "    <tr>\n",
       "      <th>4</th>\n",
       "      <td>AL</td>\n",
       "      <td>ALABAMA</td>\n",
       "      <td>0100005</td>\n",
       "      <td>Albertville City</td>\n",
       "      <td>870</td>\n",
       "      <td>Albertville Middle School</td>\n",
       "      <td>010000500870</td>\n",
       "      <td>No</td>\n",
       "      <td>No</td>\n",
       "      <td>-9</td>\n",
       "      <td>...</td>\n",
       "      <td>-9</td>\n",
       "      <td>-9</td>\n",
       "      <td>-9</td>\n",
       "      <td>-9</td>\n",
       "      <td>-9</td>\n",
       "      <td>-9</td>\n",
       "      <td>-9</td>\n",
       "      <td>-9</td>\n",
       "      <td>-9</td>\n",
       "      <td>-9</td>\n",
       "    </tr>\n",
       "  </tbody>\n",
       "</table>\n",
       "<p>5 rows × 32 columns</p>\n",
       "</div>"
      ],
      "text/plain": [
       "  LEA_STATE LEA_STATE_NAME    LEAID                LEA_NAME  SCHID  \\\n",
       "0        AL        ALABAMA  0100002  Alabama Youth Services   1705   \n",
       "1        AL        ALABAMA  0100002  Alabama Youth Services   1706   \n",
       "2        AL        ALABAMA  0100002  Alabama Youth Services   1876   \n",
       "3        AL        ALABAMA  0100002  Alabama Youth Services  99995   \n",
       "4        AL        ALABAMA  0100005        Albertville City    870   \n",
       "\n",
       "                        SCH_NAME      COMBOKEY   JJ SCH_GEOMENR_G08_IND  \\\n",
       "0  Wallace Sch - Mt Meigs Campus  010000201705  Yes                  No   \n",
       "1      McNeel Sch - Vacca Campus  010000201706  Yes                  No   \n",
       "2         Alabama Youth Services  010000201876   No                  No   \n",
       "3                 AUTAUGA CAMPUS  010000299995  Yes                  No   \n",
       "4      Albertville Middle School  010000500870   No                  No   \n",
       "\n",
       "   SCH_GEOMENR_G08  ...  SCH_MATHENR_GEOM_WH_M  SCH_MATHENR_GEOM_WH_F  \\\n",
       "0               -9  ...                      2                      0   \n",
       "1               -9  ...                     -9                     -9   \n",
       "2               -9  ...                      2                      0   \n",
       "3               -9  ...                     -9                     -9   \n",
       "4               -9  ...                     -9                     -9   \n",
       "\n",
       "   SCH_MATHENR_GEOM_TR_M  SCH_MATHENR_GEOM_TR_F  TOT_MATHENR_GEOM_M  \\\n",
       "0                      0                      0                  25   \n",
       "1                     -9                     -9                  -9   \n",
       "2                      0                      0                   8   \n",
       "3                     -9                     -9                  -9   \n",
       "4                     -9                     -9                  -9   \n",
       "\n",
       "   TOT_MATHENR_GEOM_F  SCH_MATHENR_GEOM_LEP_M  SCH_MATHENR_GEOM_LEP_F  \\\n",
       "0                   0                       0                       0   \n",
       "1                  -9                      -9                      -9   \n",
       "2                   0                       0                       0   \n",
       "3                  -9                      -9                      -9   \n",
       "4                  -9                      -9                      -9   \n",
       "\n",
       "   SCH_MATHENR_GEOM_IDEA_M  SCH_MATHENR_GEOM_IDEA_F  \n",
       "0                        0                        0  \n",
       "1                       -9                       -9  \n",
       "2                        1                        0  \n",
       "3                       -9                       -9  \n",
       "4                       -9                       -9  \n",
       "\n",
       "[5 rows x 32 columns]"
      ]
     },
     "execution_count": 198,
     "metadata": {},
     "output_type": "execute_result"
    }
   ],
   "source": [
    "Geometry = pandas.read_csv(\"Geometry.csv\",encoding='cp1252')\n",
    "Geometry.head()"
   ]
  },
  {
   "cell_type": "code",
   "execution_count": 199,
   "metadata": {},
   "outputs": [],
   "source": [
    "Geometry['SCHID'] = Geometry['SCHID'].apply(lambda x: '{0:0>5}'.format(x))"
   ]
  },
  {
   "cell_type": "code",
   "execution_count": 200,
   "metadata": {},
   "outputs": [],
   "source": [
    "Geometry['LEAID'] = Geometry['LEAID'].apply(lambda x: '{0:0>7}'.format(x))"
   ]
  },
  {
   "cell_type": "code",
   "execution_count": 201,
   "metadata": {},
   "outputs": [
    {
     "data": {
      "text/plain": [
       "Index(['LEA_STATE', 'LEA_STATE_NAME', 'LEAID', 'LEA_NAME', 'SCHID', 'SCH_NAME',\n",
       "       'COMBOKEY', 'JJ', 'SCH_GEOMENR_G08_IND', 'SCH_GEOMENR_G08',\n",
       "       'SCH_MATHCERT_GEOM', 'SCH_MATHCLASSES_GEOM', 'SCH_MATHENR_GEOM_HI_M',\n",
       "       'SCH_MATHENR_GEOM_HI_F', 'SCH_MATHENR_GEOM_AM_M',\n",
       "       'SCH_MATHENR_GEOM_AM_F', 'SCH_MATHENR_GEOM_AS_M',\n",
       "       'SCH_MATHENR_GEOM_AS_F', 'SCH_MATHENR_GEOM_HP_M',\n",
       "       'SCH_MATHENR_GEOM_HP_F', 'SCH_MATHENR_GEOM_BL_M',\n",
       "       'SCH_MATHENR_GEOM_BL_F', 'SCH_MATHENR_GEOM_WH_M',\n",
       "       'SCH_MATHENR_GEOM_WH_F', 'SCH_MATHENR_GEOM_TR_M',\n",
       "       'SCH_MATHENR_GEOM_TR_F', 'TOT_MATHENR_GEOM_M', 'TOT_MATHENR_GEOM_F',\n",
       "       'SCH_MATHENR_GEOM_LEP_M', 'SCH_MATHENR_GEOM_LEP_F',\n",
       "       'SCH_MATHENR_GEOM_IDEA_M', 'SCH_MATHENR_GEOM_IDEA_F'],\n",
       "      dtype='object')"
      ]
     },
     "execution_count": 201,
     "metadata": {},
     "output_type": "execute_result"
    }
   ],
   "source": [
    "Geometry.columns"
   ]
  },
  {
   "cell_type": "code",
   "execution_count": 202,
   "metadata": {},
   "outputs": [
    {
     "data": {
      "text/plain": [
       "(97632, 32)"
      ]
     },
     "execution_count": 202,
     "metadata": {},
     "output_type": "execute_result"
    }
   ],
   "source": [
    "Geometry.shape"
   ]
  },
  {
   "cell_type": "code",
   "execution_count": 203,
   "metadata": {},
   "outputs": [],
   "source": [
    "Geometry=Geometry[['LEA_STATE', 'LEA_STATE_NAME', 'LEAID', 'LEA_NAME', 'SCHID', 'SCH_NAME','COMBOKEY','SCH_MATHCERT_GEOM','SCH_MATHCLASSES_GEOM','TOT_MATHENR_GEOM_M','TOT_MATHENR_GEOM_F']]"
   ]
  },
  {
   "cell_type": "code",
   "execution_count": 204,
   "metadata": {},
   "outputs": [
    {
     "data": {
      "text/plain": [
       "(97632, 11)"
      ]
     },
     "execution_count": 204,
     "metadata": {},
     "output_type": "execute_result"
    }
   ],
   "source": [
    "Geometry.shape"
   ]
  },
  {
   "cell_type": "code",
   "execution_count": 205,
   "metadata": {},
   "outputs": [],
   "source": [
    "cols = ['LEAID', 'SCHID']\n",
    "Geometry['NCESSCH'] = Geometry[cols].apply(lambda row: ''.join(row.values.astype(str)), axis=1)"
   ]
  },
  {
   "cell_type": "code",
   "execution_count": 206,
   "metadata": {},
   "outputs": [],
   "source": [
    "Geometry['Total_Geomty_enroll_students'] = (Geometry['TOT_MATHENR_GEOM_M'] + Geometry['TOT_MATHENR_GEOM_F'])"
   ]
  },
  {
   "cell_type": "code",
   "execution_count": 207,
   "metadata": {},
   "outputs": [
    {
     "data": {
      "text/plain": [
       "Index(['LEA_STATE', 'LEA_STATE_NAME', 'LEAID', 'LEA_NAME', 'SCHID', 'SCH_NAME',\n",
       "       'COMBOKEY', 'SCH_MATHCERT_GEOM', 'SCH_MATHCLASSES_GEOM',\n",
       "       'TOT_MATHENR_GEOM_M', 'TOT_MATHENR_GEOM_F', 'NCESSCH',\n",
       "       'Total_Geomty_enroll_students'],\n",
       "      dtype='object')"
      ]
     },
     "execution_count": 207,
     "metadata": {},
     "output_type": "execute_result"
    }
   ],
   "source": [
    "Geometry.columns"
   ]
  },
  {
   "cell_type": "code",
   "execution_count": 208,
   "metadata": {},
   "outputs": [],
   "source": [
    "Geometry=Geometry[['LEA_STATE', 'LEA_STATE_NAME', 'LEAID', 'LEA_NAME', 'SCHID', 'SCH_NAME','COMBOKEY','NCESSCH','SCH_MATHCERT_GEOM','SCH_MATHCLASSES_GEOM','Total_Geomty_enroll_students']]"
   ]
  },
  {
   "cell_type": "code",
   "execution_count": 209,
   "metadata": {},
   "outputs": [],
   "source": [
    "Geometry_clean=Geometry[Geometry.SCH_MATHCLASSES_GEOM > 0]"
   ]
  },
  {
   "cell_type": "code",
   "execution_count": 210,
   "metadata": {},
   "outputs": [
    {
     "data": {
      "text/plain": [
       "<matplotlib.axes._subplots.AxesSubplot at 0x7f8ecf735e20>"
      ]
     },
     "execution_count": 210,
     "metadata": {},
     "output_type": "execute_result"
    },
    {
     "data": {
      "image/png": "[encoded data removed]",
      "text/plain": [
       "<Figure size 432x288 with 2 Axes>"
      ]
     },
     "metadata": {
      "needs_background": "light"
     },
     "output_type": "display_data"
    }
   ],
   "source": [
    "sns.heatmap(Geometry_clean.isnull(),yticklabels=False,cbar=True,cmap='viridis')"
   ]
  },
  {
   "cell_type": "code",
   "execution_count": 211,
   "metadata": {},
   "outputs": [
    {
     "data": {
      "text/html": [
       "<div>\n",
       "<style scoped>\n",
       "    .dataframe tbody tr th:only-of-type {\n",
       "        vertical-align: middle;\n",
       "    }\n",
       "\n",
       "    .dataframe tbody tr th {\n",
       "        vertical-align: top;\n",
       "    }\n",
       "\n",
       "    .dataframe thead th {\n",
       "        text-align: right;\n",
       "    }\n",
       "</style>\n",
       "<table border=\"1\" class=\"dataframe\">\n",
       "  <thead>\n",
       "    <tr style=\"text-align: right;\">\n",
       "      <th></th>\n",
       "      <th>SCH_MATHCERT_GEOM</th>\n",
       "      <th>SCH_MATHCLASSES_GEOM</th>\n",
       "      <th>Total_Geomty_enroll_students</th>\n",
       "    </tr>\n",
       "  </thead>\n",
       "  <tbody>\n",
       "    <tr>\n",
       "      <th>count</th>\n",
       "      <td>22489.000000</td>\n",
       "      <td>22489.000000</td>\n",
       "      <td>22489.000000</td>\n",
       "    </tr>\n",
       "    <tr>\n",
       "      <th>mean</th>\n",
       "      <td>7.760149</td>\n",
       "      <td>9.235093</td>\n",
       "      <td>152.700832</td>\n",
       "    </tr>\n",
       "    <tr>\n",
       "      <th>std</th>\n",
       "      <td>10.034067</td>\n",
       "      <td>11.479612</td>\n",
       "      <td>180.697381</td>\n",
       "    </tr>\n",
       "    <tr>\n",
       "      <th>min</th>\n",
       "      <td>0.000000</td>\n",
       "      <td>1.000000</td>\n",
       "      <td>1.000000</td>\n",
       "    </tr>\n",
       "    <tr>\n",
       "      <th>25%</th>\n",
       "      <td>2.000000</td>\n",
       "      <td>2.000000</td>\n",
       "      <td>26.000000</td>\n",
       "    </tr>\n",
       "    <tr>\n",
       "      <th>50%</th>\n",
       "      <td>4.000000</td>\n",
       "      <td>5.000000</td>\n",
       "      <td>80.000000</td>\n",
       "    </tr>\n",
       "    <tr>\n",
       "      <th>75%</th>\n",
       "      <td>10.000000</td>\n",
       "      <td>12.000000</td>\n",
       "      <td>219.000000</td>\n",
       "    </tr>\n",
       "    <tr>\n",
       "      <th>max</th>\n",
       "      <td>316.000000</td>\n",
       "      <td>316.000000</td>\n",
       "      <td>2043.000000</td>\n",
       "    </tr>\n",
       "  </tbody>\n",
       "</table>\n",
       "</div>"
      ],
      "text/plain": [
       "       SCH_MATHCERT_GEOM  SCH_MATHCLASSES_GEOM  Total_Geomty_enroll_students\n",
       "count       22489.000000          22489.000000                  22489.000000\n",
       "mean            7.760149              9.235093                    152.700832\n",
       "std            10.034067             11.479612                    180.697381\n",
       "min             0.000000              1.000000                      1.000000\n",
       "25%             2.000000              2.000000                     26.000000\n",
       "50%             4.000000              5.000000                     80.000000\n",
       "75%            10.000000             12.000000                    219.000000\n",
       "max           316.000000            316.000000                   2043.000000"
      ]
     },
     "execution_count": 211,
     "metadata": {},
     "output_type": "execute_result"
    }
   ],
   "source": [
    "Geometry_clean.describe()"
   ]
  },
  {
   "cell_type": "code",
   "execution_count": 212,
   "metadata": {},
   "outputs": [
    {
     "data": {
      "text/plain": [
       "array([[<matplotlib.axes._subplots.AxesSubplot object at 0x7f8ea6260490>,\n",
       "        <matplotlib.axes._subplots.AxesSubplot object at 0x7f8ea24039a0>],\n",
       "       [<matplotlib.axes._subplots.AxesSubplot object at 0x7f8ea243a160>,\n",
       "        <matplotlib.axes._subplots.AxesSubplot object at 0x7f8ea2462910>]],\n",
       "      dtype=object)"
      ]
     },
     "execution_count": 212,
     "metadata": {},
     "output_type": "execute_result"
    },
    {
     "data": {
      "image/png": "[encoded data removed]",
      "text/plain": [
       "<Figure size 432x288 with 4 Axes>"
      ]
     },
     "metadata": {
      "needs_background": "light"
     },
     "output_type": "display_data"
    }
   ],
   "source": [
    "Geometry_clean.hist()"
   ]
  },
  {
   "cell_type": "code",
   "execution_count": 213,
   "metadata": {},
   "outputs": [],
   "source": [
    "Geometry_clean.to_csv (r'/Users/dansari/Documents/GitHub/Identifying-features-to-predict-high-school-assessment-proficiency/Phase1/Data/CRDC/Clean_crdc_geometry.csv', index = False,header=True)"
   ]
  },
  {
   "cell_type": "markdown",
   "metadata": {},
   "source": [
    "### Cleaning Enrollment file"
   ]
  },
  {
   "cell_type": "code",
   "execution_count": 214,
   "metadata": {},
   "outputs": [
    {
     "name": "stderr",
     "output_type": "stream",
     "text": [
      "/opt/anaconda3/lib/python3.8/site-packages/IPython/core/interactiveshell.py:3071: DtypeWarning: Columns (2,6) have mixed types.Specify dtype option on import or set low_memory=False.\n",
      "  has_raised = await self.run_ast_nodes(code_ast.body, cell_name,\n"
     ]
    },
    {
     "data": {
      "text/html": [
       "<div>\n",
       "<style scoped>\n",
       "    .dataframe tbody tr th:only-of-type {\n",
       "        vertical-align: middle;\n",
       "    }\n",
       "\n",
       "    .dataframe tbody tr th {\n",
       "        vertical-align: top;\n",
       "    }\n",
       "\n",
       "    .dataframe thead th {\n",
       "        text-align: right;\n",
       "    }\n",
       "</style>\n",
       "<table border=\"1\" class=\"dataframe\">\n",
       "  <thead>\n",
       "    <tr style=\"text-align: right;\">\n",
       "      <th></th>\n",
       "      <th>LEA_STATE</th>\n",
       "      <th>LEA_STATE_NAME</th>\n",
       "      <th>LEAID</th>\n",
       "      <th>LEA_NAME</th>\n",
       "      <th>SCHID</th>\n",
       "      <th>SCH_NAME</th>\n",
       "      <th>COMBOKEY</th>\n",
       "      <th>JJ</th>\n",
       "      <th>SCH_PSENR_NONIDEA_A3</th>\n",
       "      <th>SCH_PSENR_NONIDEA_A4</th>\n",
       "      <th>...</th>\n",
       "      <th>SCH_504ENR_BL_M</th>\n",
       "      <th>SCH_504ENR_BL_F</th>\n",
       "      <th>SCH_504ENR_WH_M</th>\n",
       "      <th>SCH_504ENR_WH_F</th>\n",
       "      <th>SCH_504ENR_TR_M</th>\n",
       "      <th>SCH_504ENR_TR_F</th>\n",
       "      <th>TOT_504ENR_M</th>\n",
       "      <th>TOT_504ENR_F</th>\n",
       "      <th>SCH_504ENR_LEP_M</th>\n",
       "      <th>SCH_504ENR_LEP_F</th>\n",
       "    </tr>\n",
       "  </thead>\n",
       "  <tbody>\n",
       "    <tr>\n",
       "      <th>0</th>\n",
       "      <td>AL</td>\n",
       "      <td>ALABAMA</td>\n",
       "      <td>100002</td>\n",
       "      <td>Alabama Youth Services</td>\n",
       "      <td>1705</td>\n",
       "      <td>Wallace Sch - Mt Meigs Campus</td>\n",
       "      <td>10000201705</td>\n",
       "      <td>Yes</td>\n",
       "      <td>-9</td>\n",
       "      <td>-9</td>\n",
       "      <td>...</td>\n",
       "      <td>0</td>\n",
       "      <td>0</td>\n",
       "      <td>0</td>\n",
       "      <td>0</td>\n",
       "      <td>0</td>\n",
       "      <td>0</td>\n",
       "      <td>0</td>\n",
       "      <td>0</td>\n",
       "      <td>0</td>\n",
       "      <td>0</td>\n",
       "    </tr>\n",
       "    <tr>\n",
       "      <th>1</th>\n",
       "      <td>AL</td>\n",
       "      <td>ALABAMA</td>\n",
       "      <td>100002</td>\n",
       "      <td>Alabama Youth Services</td>\n",
       "      <td>1706</td>\n",
       "      <td>McNeel Sch - Vacca Campus</td>\n",
       "      <td>10000201706</td>\n",
       "      <td>Yes</td>\n",
       "      <td>-9</td>\n",
       "      <td>-9</td>\n",
       "      <td>...</td>\n",
       "      <td>0</td>\n",
       "      <td>0</td>\n",
       "      <td>0</td>\n",
       "      <td>0</td>\n",
       "      <td>0</td>\n",
       "      <td>0</td>\n",
       "      <td>0</td>\n",
       "      <td>0</td>\n",
       "      <td>0</td>\n",
       "      <td>0</td>\n",
       "    </tr>\n",
       "    <tr>\n",
       "      <th>2</th>\n",
       "      <td>AL</td>\n",
       "      <td>ALABAMA</td>\n",
       "      <td>100002</td>\n",
       "      <td>Alabama Youth Services</td>\n",
       "      <td>1876</td>\n",
       "      <td>Alabama Youth Services</td>\n",
       "      <td>10000201876</td>\n",
       "      <td>No</td>\n",
       "      <td>-9</td>\n",
       "      <td>-9</td>\n",
       "      <td>...</td>\n",
       "      <td>0</td>\n",
       "      <td>0</td>\n",
       "      <td>0</td>\n",
       "      <td>0</td>\n",
       "      <td>0</td>\n",
       "      <td>0</td>\n",
       "      <td>0</td>\n",
       "      <td>0</td>\n",
       "      <td>0</td>\n",
       "      <td>0</td>\n",
       "    </tr>\n",
       "    <tr>\n",
       "      <th>3</th>\n",
       "      <td>AL</td>\n",
       "      <td>ALABAMA</td>\n",
       "      <td>100002</td>\n",
       "      <td>Alabama Youth Services</td>\n",
       "      <td>99995</td>\n",
       "      <td>AUTAUGA CAMPUS</td>\n",
       "      <td>10000299995</td>\n",
       "      <td>Yes</td>\n",
       "      <td>-9</td>\n",
       "      <td>-9</td>\n",
       "      <td>...</td>\n",
       "      <td>0</td>\n",
       "      <td>0</td>\n",
       "      <td>0</td>\n",
       "      <td>0</td>\n",
       "      <td>0</td>\n",
       "      <td>0</td>\n",
       "      <td>0</td>\n",
       "      <td>0</td>\n",
       "      <td>0</td>\n",
       "      <td>0</td>\n",
       "    </tr>\n",
       "    <tr>\n",
       "      <th>4</th>\n",
       "      <td>AL</td>\n",
       "      <td>ALABAMA</td>\n",
       "      <td>100005</td>\n",
       "      <td>Albertville City</td>\n",
       "      <td>870</td>\n",
       "      <td>Albertville Middle School</td>\n",
       "      <td>10000500870</td>\n",
       "      <td>No</td>\n",
       "      <td>-9</td>\n",
       "      <td>-9</td>\n",
       "      <td>...</td>\n",
       "      <td>0</td>\n",
       "      <td>0</td>\n",
       "      <td>0</td>\n",
       "      <td>4</td>\n",
       "      <td>0</td>\n",
       "      <td>0</td>\n",
       "      <td>0</td>\n",
       "      <td>4</td>\n",
       "      <td>0</td>\n",
       "      <td>0</td>\n",
       "    </tr>\n",
       "  </tbody>\n",
       "</table>\n",
       "<p>5 rows × 123 columns</p>\n",
       "</div>"
      ],
      "text/plain": [
       "  LEA_STATE LEA_STATE_NAME   LEAID                LEA_NAME  SCHID  \\\n",
       "0        AL        ALABAMA  100002  Alabama Youth Services   1705   \n",
       "1        AL        ALABAMA  100002  Alabama Youth Services   1706   \n",
       "2        AL        ALABAMA  100002  Alabama Youth Services   1876   \n",
       "3        AL        ALABAMA  100002  Alabama Youth Services  99995   \n",
       "4        AL        ALABAMA  100005        Albertville City    870   \n",
       "\n",
       "                        SCH_NAME     COMBOKEY   JJ SCH_PSENR_NONIDEA_A3  \\\n",
       "0  Wallace Sch - Mt Meigs Campus  10000201705  Yes                   -9   \n",
       "1      McNeel Sch - Vacca Campus  10000201706  Yes                   -9   \n",
       "2         Alabama Youth Services  10000201876   No                   -9   \n",
       "3                 AUTAUGA CAMPUS  10000299995  Yes                   -9   \n",
       "4      Albertville Middle School  10000500870   No                   -9   \n",
       "\n",
       "  SCH_PSENR_NONIDEA_A4  ... SCH_504ENR_BL_M  SCH_504ENR_BL_F  SCH_504ENR_WH_M  \\\n",
       "0                   -9  ...               0                0                0   \n",
       "1                   -9  ...               0                0                0   \n",
       "2                   -9  ...               0                0                0   \n",
       "3                   -9  ...               0                0                0   \n",
       "4                   -9  ...               0                0                0   \n",
       "\n",
       "   SCH_504ENR_WH_F  SCH_504ENR_TR_M  SCH_504ENR_TR_F  TOT_504ENR_M  \\\n",
       "0                0                0                0             0   \n",
       "1                0                0                0             0   \n",
       "2                0                0                0             0   \n",
       "3                0                0                0             0   \n",
       "4                4                0                0             0   \n",
       "\n",
       "   TOT_504ENR_F  SCH_504ENR_LEP_M  SCH_504ENR_LEP_F  \n",
       "0             0                 0                 0  \n",
       "1             0                 0                 0  \n",
       "2             0                 0                 0  \n",
       "3             0                 0                 0  \n",
       "4             4                 0                 0  \n",
       "\n",
       "[5 rows x 123 columns]"
      ]
     },
     "execution_count": 214,
     "metadata": {},
     "output_type": "execute_result"
    }
   ],
   "source": [
    "Enroll = pandas.read_csv(\"Enrollment.csv\",encoding='cp1252')\n",
    "Enroll.head()"
   ]
  },
  {
   "cell_type": "code",
   "execution_count": 215,
   "metadata": {},
   "outputs": [],
   "source": [
    "Enroll['SCHID'] = Enroll['SCHID'].apply(lambda x: '{0:0>5}'.format(x))"
   ]
  },
  {
   "cell_type": "code",
   "execution_count": 216,
   "metadata": {},
   "outputs": [],
   "source": [
    "Enroll['LEAID'] = Enroll['LEAID'].apply(lambda x: '{0:0>7}'.format(x))"
   ]
  },
  {
   "cell_type": "code",
   "execution_count": 217,
   "metadata": {},
   "outputs": [
    {
     "data": {
      "text/plain": [
       "Index(['LEA_STATE', 'LEA_STATE_NAME', 'LEAID', 'LEA_NAME', 'SCHID', 'SCH_NAME',\n",
       "       'COMBOKEY', 'JJ', 'SCH_PSENR_NONIDEA_A3', 'SCH_PSENR_NONIDEA_A4',\n",
       "       ...\n",
       "       'SCH_504ENR_BL_M', 'SCH_504ENR_BL_F', 'SCH_504ENR_WH_M',\n",
       "       'SCH_504ENR_WH_F', 'SCH_504ENR_TR_M', 'SCH_504ENR_TR_F', 'TOT_504ENR_M',\n",
       "       'TOT_504ENR_F', 'SCH_504ENR_LEP_M', 'SCH_504ENR_LEP_F'],\n",
       "      dtype='object', length=123)"
      ]
     },
     "execution_count": 217,
     "metadata": {},
     "output_type": "execute_result"
    }
   ],
   "source": [
    "Enroll.columns"
   ]
  },
  {
   "cell_type": "code",
   "execution_count": 218,
   "metadata": {},
   "outputs": [
    {
     "data": {
      "text/plain": [
       "(97632, 123)"
      ]
     },
     "execution_count": 218,
     "metadata": {},
     "output_type": "execute_result"
    }
   ],
   "source": [
    "Enroll.shape"
   ]
  },
  {
   "cell_type": "code",
   "execution_count": 219,
   "metadata": {},
   "outputs": [],
   "source": [
    "Enroll=Enroll[['LEA_STATE', 'LEA_STATE_NAME', 'LEAID', 'LEA_NAME', 'SCHID', 'SCH_NAME','COMBOKEY','TOT_ENR_M','TOT_ENR_F']]"
   ]
  },
  {
   "cell_type": "code",
   "execution_count": 220,
   "metadata": {},
   "outputs": [
    {
     "data": {
      "text/plain": [
       "(97632, 9)"
      ]
     },
     "execution_count": 220,
     "metadata": {},
     "output_type": "execute_result"
    }
   ],
   "source": [
    "Enroll.shape"
   ]
  },
  {
   "cell_type": "code",
   "execution_count": 221,
   "metadata": {},
   "outputs": [],
   "source": [
    "cols = ['LEAID', 'SCHID']\n",
    "Enroll['NCESSCH'] = Enroll[cols].apply(lambda row: ''.join(row.values.astype(str)), axis=1)"
   ]
  },
  {
   "cell_type": "code",
   "execution_count": 222,
   "metadata": {},
   "outputs": [],
   "source": [
    "Enroll['Total_enroll_students'] = (Enroll['TOT_ENR_M'] + Enroll['TOT_ENR_F'])"
   ]
  },
  {
   "cell_type": "code",
   "execution_count": 223,
   "metadata": {},
   "outputs": [
    {
     "data": {
      "text/plain": [
       "Index(['LEA_STATE', 'LEA_STATE_NAME', 'LEAID', 'LEA_NAME', 'SCHID', 'SCH_NAME',\n",
       "       'COMBOKEY', 'TOT_ENR_M', 'TOT_ENR_F', 'NCESSCH',\n",
       "       'Total_enroll_students'],\n",
       "      dtype='object')"
      ]
     },
     "execution_count": 223,
     "metadata": {},
     "output_type": "execute_result"
    }
   ],
   "source": [
    "Enroll.columns"
   ]
  },
  {
   "cell_type": "code",
   "execution_count": 224,
   "metadata": {},
   "outputs": [],
   "source": [
    "Enroll=Enroll[['LEA_STATE', 'LEA_STATE_NAME', 'LEAID', 'LEA_NAME', 'SCHID', 'SCH_NAME','COMBOKEY','NCESSCH','Total_enroll_students']]"
   ]
  },
  {
   "cell_type": "code",
   "execution_count": 225,
   "metadata": {},
   "outputs": [],
   "source": [
    "Enroll_clean=Enroll[Enroll.Total_enroll_students > 0]"
   ]
  },
  {
   "cell_type": "code",
   "execution_count": 226,
   "metadata": {},
   "outputs": [
    {
     "data": {
      "text/plain": [
       "(97621, 9)"
      ]
     },
     "execution_count": 226,
     "metadata": {},
     "output_type": "execute_result"
    }
   ],
   "source": [
    "Enroll_clean.shape"
   ]
  },
  {
   "cell_type": "code",
   "execution_count": 227,
   "metadata": {},
   "outputs": [
    {
     "data": {
      "text/plain": [
       "<matplotlib.axes._subplots.AxesSubplot at 0x7f8ec201e2e0>"
      ]
     },
     "execution_count": 227,
     "metadata": {},
     "output_type": "execute_result"
    },
    {
     "data": {
      "image/png": "[encoded data removed]",
      "text/plain": [
       "<Figure size 432x288 with 2 Axes>"
      ]
     },
     "metadata": {
      "needs_background": "light"
     },
     "output_type": "display_data"
    }
   ],
   "source": [
    "sns.heatmap(Enroll_clean.isnull(),yticklabels=False,cbar=True,cmap='viridis')"
   ]
  },
  {
   "cell_type": "code",
   "execution_count": 228,
   "metadata": {},
   "outputs": [
    {
     "data": {
      "text/html": [
       "<div>\n",
       "<style scoped>\n",
       "    .dataframe tbody tr th:only-of-type {\n",
       "        vertical-align: middle;\n",
       "    }\n",
       "\n",
       "    .dataframe tbody tr th {\n",
       "        vertical-align: top;\n",
       "    }\n",
       "\n",
       "    .dataframe thead th {\n",
       "        text-align: right;\n",
       "    }\n",
       "</style>\n",
       "<table border=\"1\" class=\"dataframe\">\n",
       "  <thead>\n",
       "    <tr style=\"text-align: right;\">\n",
       "      <th></th>\n",
       "      <th>Total_enroll_students</th>\n",
       "    </tr>\n",
       "  </thead>\n",
       "  <tbody>\n",
       "    <tr>\n",
       "      <th>count</th>\n",
       "      <td>97621.000000</td>\n",
       "    </tr>\n",
       "    <tr>\n",
       "      <th>mean</th>\n",
       "      <td>521.633675</td>\n",
       "    </tr>\n",
       "    <tr>\n",
       "      <th>std</th>\n",
       "      <td>447.717932</td>\n",
       "    </tr>\n",
       "    <tr>\n",
       "      <th>min</th>\n",
       "      <td>1.000000</td>\n",
       "    </tr>\n",
       "    <tr>\n",
       "      <th>25%</th>\n",
       "      <td>252.000000</td>\n",
       "    </tr>\n",
       "    <tr>\n",
       "      <th>50%</th>\n",
       "      <td>438.000000</td>\n",
       "    </tr>\n",
       "    <tr>\n",
       "      <th>75%</th>\n",
       "      <td>657.000000</td>\n",
       "    </tr>\n",
       "    <tr>\n",
       "      <th>max</th>\n",
       "      <td>14286.000000</td>\n",
       "    </tr>\n",
       "  </tbody>\n",
       "</table>\n",
       "</div>"
      ],
      "text/plain": [
       "       Total_enroll_students\n",
       "count           97621.000000\n",
       "mean              521.633675\n",
       "std               447.717932\n",
       "min                 1.000000\n",
       "25%               252.000000\n",
       "50%               438.000000\n",
       "75%               657.000000\n",
       "max             14286.000000"
      ]
     },
     "execution_count": 228,
     "metadata": {},
     "output_type": "execute_result"
    }
   ],
   "source": [
    "Enroll_clean.describe()"
   ]
  },
  {
   "cell_type": "code",
   "execution_count": 229,
   "metadata": {},
   "outputs": [
    {
     "data": {
      "text/plain": [
       "array([[<matplotlib.axes._subplots.AxesSubplot object at 0x7f8eb944d910>]],\n",
       "      dtype=object)"
      ]
     },
     "execution_count": 229,
     "metadata": {},
     "output_type": "execute_result"
    },
    {
     "data": {
      "image/png": "[encoded data removed]",
      "text/plain": [
       "<Figure size 432x288 with 1 Axes>"
      ]
     },
     "metadata": {
      "needs_background": "light"
     },
     "output_type": "display_data"
    }
   ],
   "source": [
    "Enroll_clean.hist()"
   ]
  },
  {
   "cell_type": "code",
   "execution_count": 230,
   "metadata": {},
   "outputs": [],
   "source": [
    "Enroll_clean.to_csv (r'/Users/dansari/Documents/GitHub/Identifying-features-to-predict-high-school-assessment-proficiency/Phase1/Data/CRDC/Clean_crdc_enrollment.csv', index = False,header=True)"
   ]
  },
  {
   "cell_type": "markdown",
   "metadata": {},
   "source": [
    "#### Merge CRDC master with CCD directory to extract only high schools"
   ]
  },
  {
   "cell_type": "code",
   "execution_count": 231,
   "metadata": {},
   "outputs": [
    {
     "name": "stdout",
     "output_type": "stream",
     "text": [
      "/Users/dansari/Documents/GitHub/Identifying-features-to-predict-high-school-assessment-proficiency/Phase1/Data/CCD\n"
     ]
    }
   ],
   "source": [
    "cd /Users/dansari/Documents/GitHub/Identifying-features-to-predict-high-school-assessment-proficiency/Phase1/Data/CCD"
   ]
  },
  {
   "cell_type": "code",
   "execution_count": 232,
   "metadata": {},
   "outputs": [
    {
     "data": {
      "text/html": [
       "<div>\n",
       "<style scoped>\n",
       "    .dataframe tbody tr th:only-of-type {\n",
       "        vertical-align: middle;\n",
       "    }\n",
       "\n",
       "    .dataframe tbody tr th {\n",
       "        vertical-align: top;\n",
       "    }\n",
       "\n",
       "    .dataframe thead th {\n",
       "        text-align: right;\n",
       "    }\n",
       "</style>\n",
       "<table border=\"1\" class=\"dataframe\">\n",
       "  <thead>\n",
       "    <tr style=\"text-align: right;\">\n",
       "      <th></th>\n",
       "      <th>SCHOOL_YEAR</th>\n",
       "      <th>ST</th>\n",
       "      <th>SCH_NAME</th>\n",
       "      <th>LEA_NAME</th>\n",
       "      <th>STATE_AGENCY_NO</th>\n",
       "      <th>ST_LEAID</th>\n",
       "      <th>LEAID</th>\n",
       "      <th>ST_SCHID</th>\n",
       "      <th>NCESSCH</th>\n",
       "      <th>SCHID</th>\n",
       "      <th>SY_STATUS</th>\n",
       "      <th>SCH_TYPE_TEXT</th>\n",
       "      <th>SCH_TYPE</th>\n",
       "      <th>LEVEL</th>\n",
       "    </tr>\n",
       "  </thead>\n",
       "  <tbody>\n",
       "    <tr>\n",
       "      <th>0</th>\n",
       "      <td>2017-2018</td>\n",
       "      <td>AL</td>\n",
       "      <td>Albertville Middle School</td>\n",
       "      <td>Albertville City</td>\n",
       "      <td>1</td>\n",
       "      <td>AL-101</td>\n",
       "      <td>100005</td>\n",
       "      <td>AL-101-0010</td>\n",
       "      <td>10000500870</td>\n",
       "      <td>100870</td>\n",
       "      <td>1</td>\n",
       "      <td>Regular School</td>\n",
       "      <td>1</td>\n",
       "      <td>Middle</td>\n",
       "    </tr>\n",
       "    <tr>\n",
       "      <th>1</th>\n",
       "      <td>2017-2018</td>\n",
       "      <td>AL</td>\n",
       "      <td>Albertville High School</td>\n",
       "      <td>Albertville City</td>\n",
       "      <td>1</td>\n",
       "      <td>AL-101</td>\n",
       "      <td>100005</td>\n",
       "      <td>AL-101-0020</td>\n",
       "      <td>10000500871</td>\n",
       "      <td>100871</td>\n",
       "      <td>1</td>\n",
       "      <td>Regular School</td>\n",
       "      <td>1</td>\n",
       "      <td>High</td>\n",
       "    </tr>\n",
       "    <tr>\n",
       "      <th>2</th>\n",
       "      <td>2017-2018</td>\n",
       "      <td>AL</td>\n",
       "      <td>Evans Elementary School</td>\n",
       "      <td>Albertville City</td>\n",
       "      <td>1</td>\n",
       "      <td>AL-101</td>\n",
       "      <td>100005</td>\n",
       "      <td>AL-101-0110</td>\n",
       "      <td>10000500879</td>\n",
       "      <td>100879</td>\n",
       "      <td>1</td>\n",
       "      <td>Regular School</td>\n",
       "      <td>1</td>\n",
       "      <td>Middle</td>\n",
       "    </tr>\n",
       "    <tr>\n",
       "      <th>3</th>\n",
       "      <td>2017-2018</td>\n",
       "      <td>AL</td>\n",
       "      <td>Albertville Elementary School</td>\n",
       "      <td>Albertville City</td>\n",
       "      <td>1</td>\n",
       "      <td>AL-101</td>\n",
       "      <td>100005</td>\n",
       "      <td>AL-101-0200</td>\n",
       "      <td>10000500889</td>\n",
       "      <td>100889</td>\n",
       "      <td>1</td>\n",
       "      <td>Regular School</td>\n",
       "      <td>1</td>\n",
       "      <td>Elementary</td>\n",
       "    </tr>\n",
       "    <tr>\n",
       "      <th>4</th>\n",
       "      <td>2017-2018</td>\n",
       "      <td>AL</td>\n",
       "      <td>Big Spring Lake Kindergarten School</td>\n",
       "      <td>Albertville City</td>\n",
       "      <td>1</td>\n",
       "      <td>AL-101</td>\n",
       "      <td>100005</td>\n",
       "      <td>AL-101-0035</td>\n",
       "      <td>10000501616</td>\n",
       "      <td>101616</td>\n",
       "      <td>1</td>\n",
       "      <td>Regular School</td>\n",
       "      <td>1</td>\n",
       "      <td>Elementary</td>\n",
       "    </tr>\n",
       "  </tbody>\n",
       "</table>\n",
       "</div>"
      ],
      "text/plain": [
       "  SCHOOL_YEAR  ST                             SCH_NAME          LEA_NAME  \\\n",
       "0   2017-2018  AL            Albertville Middle School  Albertville City   \n",
       "1   2017-2018  AL              Albertville High School  Albertville City   \n",
       "2   2017-2018  AL              Evans Elementary School  Albertville City   \n",
       "3   2017-2018  AL        Albertville Elementary School  Albertville City   \n",
       "4   2017-2018  AL  Big Spring Lake Kindergarten School  Albertville City   \n",
       "\n",
       "   STATE_AGENCY_NO ST_LEAID   LEAID     ST_SCHID      NCESSCH   SCHID  \\\n",
       "0                1   AL-101  100005  AL-101-0010  10000500870  100870   \n",
       "1                1   AL-101  100005  AL-101-0020  10000500871  100871   \n",
       "2                1   AL-101  100005  AL-101-0110  10000500879  100879   \n",
       "3                1   AL-101  100005  AL-101-0200  10000500889  100889   \n",
       "4                1   AL-101  100005  AL-101-0035  10000501616  101616   \n",
       "\n",
       "   SY_STATUS   SCH_TYPE_TEXT  SCH_TYPE       LEVEL  \n",
       "0          1  Regular School         1      Middle  \n",
       "1          1  Regular School         1        High  \n",
       "2          1  Regular School         1      Middle  \n",
       "3          1  Regular School         1  Elementary  \n",
       "4          1  Regular School         1  Elementary  "
      ]
     },
     "execution_count": 232,
     "metadata": {},
     "output_type": "execute_result"
    }
   ],
   "source": [
    "ccd_directory= pandas.read_csv(\"Clean_ccd_directory.csv\")\n",
    "ccd_directory.head()"
   ]
  },
  {
   "cell_type": "code",
   "execution_count": 233,
   "metadata": {},
   "outputs": [],
   "source": [
    "ccd_directory['NCESSCH'] = ccd_directory['NCESSCH'].apply(lambda x: '{0:0>12}'.format(x))"
   ]
  },
  {
   "cell_type": "code",
   "execution_count": 234,
   "metadata": {},
   "outputs": [],
   "source": [
    "ccd_directory.drop(ccd_directory.columns[[4,5,6,10,11]], axis=1, inplace=True)"
   ]
  },
  {
   "cell_type": "code",
   "execution_count": 235,
   "metadata": {},
   "outputs": [
    {
     "data": {
      "text/plain": [
       "(102337, 9)"
      ]
     },
     "execution_count": 235,
     "metadata": {},
     "output_type": "execute_result"
    }
   ],
   "source": [
    "ccd_directory.shape"
   ]
  },
  {
   "cell_type": "code",
   "execution_count": 236,
   "metadata": {},
   "outputs": [
    {
     "data": {
      "text/plain": [
       "(97632, 24)"
      ]
     },
     "execution_count": 236,
     "metadata": {},
     "output_type": "execute_result"
    }
   ],
   "source": [
    "Sch_char_merged_ccd = pandas.merge(left=Sch_char,right=ccd_directory, how='left', left_on='NCESSCH', right_on='NCESSCH')\n",
    "Sch_char_merged_ccd.shape"
   ]
  },
  {
   "cell_type": "code",
   "execution_count": 237,
   "metadata": {},
   "outputs": [
    {
     "data": {
      "text/html": [
       "<div>\n",
       "<style scoped>\n",
       "    .dataframe tbody tr th:only-of-type {\n",
       "        vertical-align: middle;\n",
       "    }\n",
       "\n",
       "    .dataframe tbody tr th {\n",
       "        vertical-align: top;\n",
       "    }\n",
       "\n",
       "    .dataframe thead th {\n",
       "        text-align: right;\n",
       "    }\n",
       "</style>\n",
       "<table border=\"1\" class=\"dataframe\">\n",
       "  <thead>\n",
       "    <tr style=\"text-align: right;\">\n",
       "      <th></th>\n",
       "      <th>LEA_STATE</th>\n",
       "      <th>LEA_STATE_NAME</th>\n",
       "      <th>LEAID</th>\n",
       "      <th>LEA_NAME_x</th>\n",
       "      <th>SCHID_x</th>\n",
       "      <th>SCH_NAME_x</th>\n",
       "      <th>COMBOKEY</th>\n",
       "      <th>Special_ed_schl</th>\n",
       "      <th>Magnet_schl</th>\n",
       "      <th>Charter_Schl</th>\n",
       "      <th>...</th>\n",
       "      <th>Charter_Schl_new</th>\n",
       "      <th>Alternate_schl_new</th>\n",
       "      <th>SCHOOL_YEAR</th>\n",
       "      <th>ST</th>\n",
       "      <th>SCH_NAME_y</th>\n",
       "      <th>LEA_NAME_y</th>\n",
       "      <th>ST_SCHID</th>\n",
       "      <th>SCHID_y</th>\n",
       "      <th>SCH_TYPE</th>\n",
       "      <th>LEVEL</th>\n",
       "    </tr>\n",
       "  </thead>\n",
       "  <tbody>\n",
       "    <tr>\n",
       "      <th>0</th>\n",
       "      <td>AL</td>\n",
       "      <td>ALABAMA</td>\n",
       "      <td>0100002</td>\n",
       "      <td>Alabama Youth Services</td>\n",
       "      <td>01705</td>\n",
       "      <td>Wallace Sch - Mt Meigs Campus</td>\n",
       "      <td>010000201705</td>\n",
       "      <td>No</td>\n",
       "      <td>No</td>\n",
       "      <td>No</td>\n",
       "      <td>...</td>\n",
       "      <td>0</td>\n",
       "      <td>0</td>\n",
       "      <td>NaN</td>\n",
       "      <td>NaN</td>\n",
       "      <td>NaN</td>\n",
       "      <td>NaN</td>\n",
       "      <td>NaN</td>\n",
       "      <td>NaN</td>\n",
       "      <td>NaN</td>\n",
       "      <td>NaN</td>\n",
       "    </tr>\n",
       "    <tr>\n",
       "      <th>1</th>\n",
       "      <td>AL</td>\n",
       "      <td>ALABAMA</td>\n",
       "      <td>0100002</td>\n",
       "      <td>Alabama Youth Services</td>\n",
       "      <td>01706</td>\n",
       "      <td>McNeel Sch - Vacca Campus</td>\n",
       "      <td>010000201706</td>\n",
       "      <td>No</td>\n",
       "      <td>No</td>\n",
       "      <td>No</td>\n",
       "      <td>...</td>\n",
       "      <td>0</td>\n",
       "      <td>0</td>\n",
       "      <td>NaN</td>\n",
       "      <td>NaN</td>\n",
       "      <td>NaN</td>\n",
       "      <td>NaN</td>\n",
       "      <td>NaN</td>\n",
       "      <td>NaN</td>\n",
       "      <td>NaN</td>\n",
       "      <td>NaN</td>\n",
       "    </tr>\n",
       "    <tr>\n",
       "      <th>2</th>\n",
       "      <td>AL</td>\n",
       "      <td>ALABAMA</td>\n",
       "      <td>0100002</td>\n",
       "      <td>Alabama Youth Services</td>\n",
       "      <td>01876</td>\n",
       "      <td>Alabama Youth Services</td>\n",
       "      <td>010000201876</td>\n",
       "      <td>No</td>\n",
       "      <td>No</td>\n",
       "      <td>No</td>\n",
       "      <td>...</td>\n",
       "      <td>0</td>\n",
       "      <td>0</td>\n",
       "      <td>NaN</td>\n",
       "      <td>NaN</td>\n",
       "      <td>NaN</td>\n",
       "      <td>NaN</td>\n",
       "      <td>NaN</td>\n",
       "      <td>NaN</td>\n",
       "      <td>NaN</td>\n",
       "      <td>NaN</td>\n",
       "    </tr>\n",
       "    <tr>\n",
       "      <th>3</th>\n",
       "      <td>AL</td>\n",
       "      <td>ALABAMA</td>\n",
       "      <td>0100002</td>\n",
       "      <td>Alabama Youth Services</td>\n",
       "      <td>99995</td>\n",
       "      <td>AUTAUGA CAMPUS</td>\n",
       "      <td>010000299995</td>\n",
       "      <td>No</td>\n",
       "      <td>No</td>\n",
       "      <td>No</td>\n",
       "      <td>...</td>\n",
       "      <td>0</td>\n",
       "      <td>0</td>\n",
       "      <td>NaN</td>\n",
       "      <td>NaN</td>\n",
       "      <td>NaN</td>\n",
       "      <td>NaN</td>\n",
       "      <td>NaN</td>\n",
       "      <td>NaN</td>\n",
       "      <td>NaN</td>\n",
       "      <td>NaN</td>\n",
       "    </tr>\n",
       "    <tr>\n",
       "      <th>4</th>\n",
       "      <td>AL</td>\n",
       "      <td>ALABAMA</td>\n",
       "      <td>0100005</td>\n",
       "      <td>Albertville City</td>\n",
       "      <td>00870</td>\n",
       "      <td>Albertville Middle School</td>\n",
       "      <td>010000500870</td>\n",
       "      <td>No</td>\n",
       "      <td>No</td>\n",
       "      <td>No</td>\n",
       "      <td>...</td>\n",
       "      <td>0</td>\n",
       "      <td>0</td>\n",
       "      <td>2017-2018</td>\n",
       "      <td>AL</td>\n",
       "      <td>Albertville Middle School</td>\n",
       "      <td>Albertville City</td>\n",
       "      <td>AL-101-0010</td>\n",
       "      <td>100870.0</td>\n",
       "      <td>1.0</td>\n",
       "      <td>Middle</td>\n",
       "    </tr>\n",
       "  </tbody>\n",
       "</table>\n",
       "<p>5 rows × 24 columns</p>\n",
       "</div>"
      ],
      "text/plain": [
       "  LEA_STATE LEA_STATE_NAME    LEAID              LEA_NAME_x SCHID_x  \\\n",
       "0        AL        ALABAMA  0100002  Alabama Youth Services   01705   \n",
       "1        AL        ALABAMA  0100002  Alabama Youth Services   01706   \n",
       "2        AL        ALABAMA  0100002  Alabama Youth Services   01876   \n",
       "3        AL        ALABAMA  0100002  Alabama Youth Services   99995   \n",
       "4        AL        ALABAMA  0100005        Albertville City   00870   \n",
       "\n",
       "                      SCH_NAME_x      COMBOKEY Special_ed_schl Magnet_schl  \\\n",
       "0  Wallace Sch - Mt Meigs Campus  010000201705              No          No   \n",
       "1      McNeel Sch - Vacca Campus  010000201706              No          No   \n",
       "2         Alabama Youth Services  010000201876              No          No   \n",
       "3                 AUTAUGA CAMPUS  010000299995              No          No   \n",
       "4      Albertville Middle School  010000500870              No          No   \n",
       "\n",
       "  Charter_Schl  ... Charter_Schl_new Alternate_schl_new  SCHOOL_YEAR   ST  \\\n",
       "0           No  ...                0                  0          NaN  NaN   \n",
       "1           No  ...                0                  0          NaN  NaN   \n",
       "2           No  ...                0                  0          NaN  NaN   \n",
       "3           No  ...                0                  0          NaN  NaN   \n",
       "4           No  ...                0                  0    2017-2018   AL   \n",
       "\n",
       "                  SCH_NAME_y        LEA_NAME_y     ST_SCHID   SCHID_y  \\\n",
       "0                        NaN               NaN          NaN       NaN   \n",
       "1                        NaN               NaN          NaN       NaN   \n",
       "2                        NaN               NaN          NaN       NaN   \n",
       "3                        NaN               NaN          NaN       NaN   \n",
       "4  Albertville Middle School  Albertville City  AL-101-0010  100870.0   \n",
       "\n",
       "  SCH_TYPE   LEVEL  \n",
       "0      NaN     NaN  \n",
       "1      NaN     NaN  \n",
       "2      NaN     NaN  \n",
       "3      NaN     NaN  \n",
       "4      1.0  Middle  \n",
       "\n",
       "[5 rows x 24 columns]"
      ]
     },
     "execution_count": 237,
     "metadata": {},
     "output_type": "execute_result"
    }
   ],
   "source": [
    "Sch_char_merged_ccd.head()"
   ]
  },
  {
   "cell_type": "code",
   "execution_count": 238,
   "metadata": {},
   "outputs": [
    {
     "data": {
      "text/plain": [
       "<matplotlib.axes._subplots.AxesSubplot at 0x7f8ec8bd7580>"
      ]
     },
     "execution_count": 238,
     "metadata": {},
     "output_type": "execute_result"
    },
    {
     "data": {
      "image/png": "[encoded data removed]",
      "text/plain": [
       "<Figure size 432x288 with 2 Axes>"
      ]
     },
     "metadata": {
      "needs_background": "light"
     },
     "output_type": "display_data"
    }
   ],
   "source": [
    "sns.heatmap(Sch_char_merged_ccd.isnull(),yticklabels=False,cbar=True,cmap='viridis')"
   ]
  },
  {
   "cell_type": "code",
   "execution_count": 239,
   "metadata": {},
   "outputs": [
    {
     "data": {
      "text/plain": [
       "SCHOOL_YEAR    3768\n",
       "ST             3768\n",
       "SCH_NAME_y     3768\n",
       "LEA_NAME_y     3768\n",
       "ST_SCHID       3768\n",
       "SCHID_y        3768\n",
       "SCH_TYPE       3768\n",
       "LEVEL          3768\n",
       "dtype: int64"
      ]
     },
     "execution_count": 239,
     "metadata": {},
     "output_type": "execute_result"
    }
   ],
   "source": [
    "null_columns=Sch_char_merged_ccd.columns[Sch_char_merged_ccd.isnull().any()]\n",
    "Sch_char_merged_ccd[null_columns].isnull().sum()"
   ]
  },
  {
   "cell_type": "markdown",
   "metadata": {},
   "source": [
    "#### Keeping only high schools"
   ]
  },
  {
   "cell_type": "code",
   "execution_count": 240,
   "metadata": {},
   "outputs": [],
   "source": [
    "Sch_char_hs=Sch_char_merged_ccd[Sch_char_merged_ccd['LEVEL']=='High' ]"
   ]
  },
  {
   "cell_type": "code",
   "execution_count": 241,
   "metadata": {},
   "outputs": [
    {
     "data": {
      "text/plain": [
       "<matplotlib.axes._subplots.AxesSubplot at 0x7f8e849aeee0>"
      ]
     },
     "execution_count": 241,
     "metadata": {},
     "output_type": "execute_result"
    },
    {
     "data": {
      "image/png": "[encoded data removed]",
      "text/plain": [
       "<Figure size 432x288 with 2 Axes>"
      ]
     },
     "metadata": {
      "needs_background": "light"
     },
     "output_type": "display_data"
    }
   ],
   "source": [
    "sns.heatmap(Sch_char_hs.isnull(),yticklabels=False,cbar=True,cmap='viridis')"
   ]
  },
  {
   "cell_type": "code",
   "execution_count": 242,
   "metadata": {},
   "outputs": [
    {
     "data": {
      "text/plain": [
       "(20685, 24)"
      ]
     },
     "execution_count": 242,
     "metadata": {},
     "output_type": "execute_result"
    }
   ],
   "source": [
    "Sch_char_hs.shape"
   ]
  },
  {
   "cell_type": "code",
   "execution_count": 243,
   "metadata": {},
   "outputs": [
    {
     "data": {
      "text/plain": [
       "Index(['LEA_STATE', 'LEA_STATE_NAME', 'LEAID', 'LEA_NAME_x', 'SCHID_x',\n",
       "       'SCH_NAME_x', 'COMBOKEY', 'Special_ed_schl', 'Magnet_schl',\n",
       "       'Charter_Schl', 'Alternate_schl', 'NCESSCH', 'Special_ed_schl_new',\n",
       "       'Magnet_schl_new', 'Charter_Schl_new', 'Alternate_schl_new',\n",
       "       'SCHOOL_YEAR', 'ST', 'SCH_NAME_y', 'LEA_NAME_y', 'ST_SCHID', 'SCHID_y',\n",
       "       'SCH_TYPE', 'LEVEL'],\n",
       "      dtype='object')"
      ]
     },
     "execution_count": 243,
     "metadata": {},
     "output_type": "execute_result"
    }
   ],
   "source": [
    "Sch_char_hs.columns"
   ]
  },
  {
   "cell_type": "code",
   "execution_count": 244,
   "metadata": {},
   "outputs": [
    {
     "data": {
      "text/html": [
       "<div>\n",
       "<style scoped>\n",
       "    .dataframe tbody tr th:only-of-type {\n",
       "        vertical-align: middle;\n",
       "    }\n",
       "\n",
       "    .dataframe tbody tr th {\n",
       "        vertical-align: top;\n",
       "    }\n",
       "\n",
       "    .dataframe thead th {\n",
       "        text-align: right;\n",
       "    }\n",
       "</style>\n",
       "<table border=\"1\" class=\"dataframe\">\n",
       "  <thead>\n",
       "    <tr style=\"text-align: right;\">\n",
       "      <th></th>\n",
       "      <th>LEA_STATE</th>\n",
       "      <th>LEA_STATE_NAME</th>\n",
       "      <th>LEAID</th>\n",
       "      <th>LEA_NAME_x</th>\n",
       "      <th>SCHID_x</th>\n",
       "      <th>SCH_NAME_x</th>\n",
       "      <th>COMBOKEY</th>\n",
       "      <th>Special_ed_schl</th>\n",
       "      <th>Magnet_schl</th>\n",
       "      <th>Charter_Schl</th>\n",
       "      <th>...</th>\n",
       "      <th>Charter_Schl_new</th>\n",
       "      <th>Alternate_schl_new</th>\n",
       "      <th>SCHOOL_YEAR</th>\n",
       "      <th>ST</th>\n",
       "      <th>SCH_NAME_y</th>\n",
       "      <th>LEA_NAME_y</th>\n",
       "      <th>ST_SCHID</th>\n",
       "      <th>SCHID_y</th>\n",
       "      <th>SCH_TYPE</th>\n",
       "      <th>LEVEL</th>\n",
       "    </tr>\n",
       "  </thead>\n",
       "  <tbody>\n",
       "    <tr>\n",
       "      <th>5</th>\n",
       "      <td>AL</td>\n",
       "      <td>ALABAMA</td>\n",
       "      <td>0100005</td>\n",
       "      <td>Albertville City</td>\n",
       "      <td>00871</td>\n",
       "      <td>Albertville High School</td>\n",
       "      <td>010000500871</td>\n",
       "      <td>No</td>\n",
       "      <td>No</td>\n",
       "      <td>No</td>\n",
       "      <td>...</td>\n",
       "      <td>0</td>\n",
       "      <td>0</td>\n",
       "      <td>2017-2018</td>\n",
       "      <td>AL</td>\n",
       "      <td>Albertville High School</td>\n",
       "      <td>Albertville City</td>\n",
       "      <td>AL-101-0020</td>\n",
       "      <td>100871.0</td>\n",
       "      <td>1.0</td>\n",
       "      <td>High</td>\n",
       "    </tr>\n",
       "    <tr>\n",
       "      <th>11</th>\n",
       "      <td>AL</td>\n",
       "      <td>ALABAMA</td>\n",
       "      <td>0100006</td>\n",
       "      <td>Marshall County</td>\n",
       "      <td>00872</td>\n",
       "      <td>Asbury High School</td>\n",
       "      <td>010000600872</td>\n",
       "      <td>No</td>\n",
       "      <td>No</td>\n",
       "      <td>No</td>\n",
       "      <td>...</td>\n",
       "      <td>0</td>\n",
       "      <td>0</td>\n",
       "      <td>2017-2018</td>\n",
       "      <td>AL</td>\n",
       "      <td>Asbury High School</td>\n",
       "      <td>Marshall County</td>\n",
       "      <td>AL-048-0030</td>\n",
       "      <td>100872.0</td>\n",
       "      <td>1.0</td>\n",
       "      <td>High</td>\n",
       "    </tr>\n",
       "    <tr>\n",
       "      <th>14</th>\n",
       "      <td>AL</td>\n",
       "      <td>ALABAMA</td>\n",
       "      <td>0100006</td>\n",
       "      <td>Marshall County</td>\n",
       "      <td>00878</td>\n",
       "      <td>Douglas High School</td>\n",
       "      <td>010000600878</td>\n",
       "      <td>No</td>\n",
       "      <td>No</td>\n",
       "      <td>No</td>\n",
       "      <td>...</td>\n",
       "      <td>0</td>\n",
       "      <td>0</td>\n",
       "      <td>2017-2018</td>\n",
       "      <td>AL</td>\n",
       "      <td>Douglas High School</td>\n",
       "      <td>Marshall County</td>\n",
       "      <td>AL-048-0100</td>\n",
       "      <td>100878.0</td>\n",
       "      <td>1.0</td>\n",
       "      <td>High</td>\n",
       "    </tr>\n",
       "    <tr>\n",
       "      <th>16</th>\n",
       "      <td>AL</td>\n",
       "      <td>ALABAMA</td>\n",
       "      <td>0100006</td>\n",
       "      <td>Marshall County</td>\n",
       "      <td>00883</td>\n",
       "      <td>Kate D Smith DAR High School</td>\n",
       "      <td>010000600883</td>\n",
       "      <td>No</td>\n",
       "      <td>No</td>\n",
       "      <td>No</td>\n",
       "      <td>...</td>\n",
       "      <td>0</td>\n",
       "      <td>0</td>\n",
       "      <td>2017-2018</td>\n",
       "      <td>AL</td>\n",
       "      <td>Kate D Smith DAR High School</td>\n",
       "      <td>Marshall County</td>\n",
       "      <td>AL-048-0140</td>\n",
       "      <td>100883.0</td>\n",
       "      <td>1.0</td>\n",
       "      <td>High</td>\n",
       "    </tr>\n",
       "    <tr>\n",
       "      <th>19</th>\n",
       "      <td>AL</td>\n",
       "      <td>ALABAMA</td>\n",
       "      <td>0100006</td>\n",
       "      <td>Marshall County</td>\n",
       "      <td>01585</td>\n",
       "      <td>Brindlee Mountain High School</td>\n",
       "      <td>010000601585</td>\n",
       "      <td>No</td>\n",
       "      <td>No</td>\n",
       "      <td>No</td>\n",
       "      <td>...</td>\n",
       "      <td>0</td>\n",
       "      <td>0</td>\n",
       "      <td>2017-2018</td>\n",
       "      <td>AL</td>\n",
       "      <td>Brindlee Mountain High School</td>\n",
       "      <td>Marshall County</td>\n",
       "      <td>AL-048-0042</td>\n",
       "      <td>101585.0</td>\n",
       "      <td>1.0</td>\n",
       "      <td>High</td>\n",
       "    </tr>\n",
       "  </tbody>\n",
       "</table>\n",
       "<p>5 rows × 24 columns</p>\n",
       "</div>"
      ],
      "text/plain": [
       "   LEA_STATE LEA_STATE_NAME    LEAID        LEA_NAME_x SCHID_x  \\\n",
       "5         AL        ALABAMA  0100005  Albertville City   00871   \n",
       "11        AL        ALABAMA  0100006   Marshall County   00872   \n",
       "14        AL        ALABAMA  0100006   Marshall County   00878   \n",
       "16        AL        ALABAMA  0100006   Marshall County   00883   \n",
       "19        AL        ALABAMA  0100006   Marshall County   01585   \n",
       "\n",
       "                       SCH_NAME_x      COMBOKEY Special_ed_schl Magnet_schl  \\\n",
       "5         Albertville High School  010000500871              No          No   \n",
       "11             Asbury High School  010000600872              No          No   \n",
       "14            Douglas High School  010000600878              No          No   \n",
       "16   Kate D Smith DAR High School  010000600883              No          No   \n",
       "19  Brindlee Mountain High School  010000601585              No          No   \n",
       "\n",
       "   Charter_Schl  ... Charter_Schl_new Alternate_schl_new  SCHOOL_YEAR  ST  \\\n",
       "5            No  ...                0                  0    2017-2018  AL   \n",
       "11           No  ...                0                  0    2017-2018  AL   \n",
       "14           No  ...                0                  0    2017-2018  AL   \n",
       "16           No  ...                0                  0    2017-2018  AL   \n",
       "19           No  ...                0                  0    2017-2018  AL   \n",
       "\n",
       "                       SCH_NAME_y        LEA_NAME_y     ST_SCHID   SCHID_y  \\\n",
       "5         Albertville High School  Albertville City  AL-101-0020  100871.0   \n",
       "11             Asbury High School   Marshall County  AL-048-0030  100872.0   \n",
       "14            Douglas High School   Marshall County  AL-048-0100  100878.0   \n",
       "16   Kate D Smith DAR High School   Marshall County  AL-048-0140  100883.0   \n",
       "19  Brindlee Mountain High School   Marshall County  AL-048-0042  101585.0   \n",
       "\n",
       "   SCH_TYPE LEVEL  \n",
       "5       1.0  High  \n",
       "11      1.0  High  \n",
       "14      1.0  High  \n",
       "16      1.0  High  \n",
       "19      1.0  High  \n",
       "\n",
       "[5 rows x 24 columns]"
      ]
     },
     "execution_count": 244,
     "metadata": {},
     "output_type": "execute_result"
    }
   ],
   "source": [
    "Sch_char_hs.head()"
   ]
  },
  {
   "cell_type": "code",
   "execution_count": 317,
   "metadata": {},
   "outputs": [
    {
     "name": "stderr",
     "output_type": "stream",
     "text": [
      "/opt/anaconda3/lib/python3.8/site-packages/pandas/core/frame.py:3990: SettingWithCopyWarning: \n",
      "A value is trying to be set on a copy of a slice from a DataFrame\n",
      "\n",
      "See the caveats in the documentation: https://pandas.pydata.org/pandas-docs/stable/user_guide/indexing.html#returning-a-view-versus-a-copy\n",
      "  return super().drop(\n"
     ]
    }
   ],
   "source": [
    "Sch_char_hs.drop([col for col in Sch_char_hs.columns if col.endswith('_y')],axis=1,inplace=True)"
   ]
  },
  {
   "cell_type": "code",
   "execution_count": 318,
   "metadata": {},
   "outputs": [],
   "source": [
    "HS_Sch_char=Sch_char_hs[['LEA_STATE', 'LEA_STATE_NAME', 'LEAID', 'LEA_NAME_x', 'SCHID_x','SCH_NAME_x','COMBOKEY','Special_ed_schl_new',\n",
    "       'Magnet_schl_new', 'Charter_Schl_new', 'Alternate_schl_new', 'NCESSCH','LEVEL']]"
   ]
  },
  {
   "cell_type": "code",
   "execution_count": 319,
   "metadata": {},
   "outputs": [
    {
     "data": {
      "text/plain": [
       "(20685, 13)"
      ]
     },
     "execution_count": 319,
     "metadata": {},
     "output_type": "execute_result"
    }
   ],
   "source": [
    "HS_Sch_char.shape"
   ]
  },
  {
   "cell_type": "markdown",
   "metadata": {},
   "source": [
    "#### Merge remaining CRDC clean files"
   ]
  },
  {
   "cell_type": "markdown",
   "metadata": {},
   "source": [
    "##### Merging with school enroll"
   ]
  },
  {
   "cell_type": "code",
   "execution_count": 320,
   "metadata": {},
   "outputs": [
    {
     "data": {
      "text/plain": [
       "(20685, 21)"
      ]
     },
     "execution_count": 320,
     "metadata": {},
     "output_type": "execute_result"
    }
   ],
   "source": [
    "HS_Sch_char_merged_enroll = pandas.merge(left=HS_Sch_char,right=Enroll_clean, how='left', left_on='NCESSCH', right_on='NCESSCH')\n",
    "HS_Sch_char_merged_enroll.shape"
   ]
  },
  {
   "cell_type": "code",
   "execution_count": 321,
   "metadata": {},
   "outputs": [
    {
     "data": {
      "text/plain": [
       "Index(['LEA_STATE_x', 'LEA_STATE_NAME_x', 'LEAID_x', 'LEA_NAME_x', 'SCHID_x',\n",
       "       'SCH_NAME_x', 'COMBOKEY_x', 'Special_ed_schl_new', 'Magnet_schl_new',\n",
       "       'Charter_Schl_new', 'Alternate_schl_new', 'NCESSCH', 'LEVEL',\n",
       "       'LEA_STATE_y', 'LEA_STATE_NAME_y', 'LEAID_y', 'LEA_NAME', 'SCHID',\n",
       "       'SCH_NAME', 'COMBOKEY_y', 'Total_enroll_students'],\n",
       "      dtype='object')"
      ]
     },
     "execution_count": 321,
     "metadata": {},
     "output_type": "execute_result"
    }
   ],
   "source": [
    "HS_Sch_char_merged_enroll.columns"
   ]
  },
  {
   "cell_type": "code",
   "execution_count": 322,
   "metadata": {},
   "outputs": [],
   "source": [
    "#HS_Sch_char_merged_exp.head()"
   ]
  },
  {
   "cell_type": "code",
   "execution_count": 323,
   "metadata": {},
   "outputs": [],
   "source": [
    "HS_Sch_char_merged_enroll.drop([col for col in HS_Sch_char_merged_enroll.columns if col.endswith('_y')],axis=1,inplace=True)"
   ]
  },
  {
   "cell_type": "code",
   "execution_count": 324,
   "metadata": {},
   "outputs": [
    {
     "data": {
      "text/plain": [
       "Index(['LEA_STATE_x', 'LEA_STATE_NAME_x', 'LEAID_x', 'LEA_NAME_x', 'SCHID_x',\n",
       "       'SCH_NAME_x', 'COMBOKEY_x', 'Special_ed_schl_new', 'Magnet_schl_new',\n",
       "       'Charter_Schl_new', 'Alternate_schl_new', 'NCESSCH', 'LEVEL',\n",
       "       'LEA_NAME', 'SCHID', 'SCH_NAME', 'Total_enroll_students'],\n",
       "      dtype='object')"
      ]
     },
     "execution_count": 324,
     "metadata": {},
     "output_type": "execute_result"
    }
   ],
   "source": [
    "HS_Sch_char_merged_enroll.columns"
   ]
  },
  {
   "cell_type": "code",
   "execution_count": 325,
   "metadata": {},
   "outputs": [
    {
     "data": {
      "text/plain": [
       "(20685, 17)"
      ]
     },
     "execution_count": 325,
     "metadata": {},
     "output_type": "execute_result"
    }
   ],
   "source": [
    "HS_Sch_char_merged_enroll.shape"
   ]
  },
  {
   "cell_type": "code",
   "execution_count": 388,
   "metadata": {},
   "outputs": [],
   "source": [
    "HS_Sch_char_enroll=HS_Sch_char_merged_enroll[['LEA_STATE_x', 'LEA_STATE_NAME_x', 'LEAID_x', 'LEA_NAME_x', 'SCHID_x',\n",
    "       'SCH_NAME_x', 'COMBOKEY_x', 'Special_ed_schl_new','Magnet_schl_new', 'Charter_Schl_new', 'Alternate_schl_new', 'NCESSCH', 'LEVEL', 'Total_enroll_students']]"
   ]
  },
  {
   "cell_type": "markdown",
   "metadata": {},
   "source": [
    "##### Merging with school support"
   ]
  },
  {
   "cell_type": "code",
   "execution_count": 389,
   "metadata": {},
   "outputs": [
    {
     "data": {
      "text/plain": [
       "(20685, 24)"
      ]
     },
     "execution_count": 389,
     "metadata": {},
     "output_type": "execute_result"
    }
   ],
   "source": [
    "HS_Sch_char_enroll_merged_sup = pandas.merge(left=HS_Sch_char_enroll,right=Sch_sup_clean, how='left', left_on='NCESSCH', right_on='NCESSCH')\n",
    "HS_Sch_char_enroll_merged_sup.shape"
   ]
  },
  {
   "cell_type": "code",
   "execution_count": 390,
   "metadata": {},
   "outputs": [
    {
     "data": {
      "text/plain": [
       "Index(['LEA_STATE_x', 'LEA_STATE_NAME_x', 'LEAID_x', 'LEA_NAME_x', 'SCHID_x',\n",
       "       'SCH_NAME_x', 'COMBOKEY_x', 'Special_ed_schl_new', 'Magnet_schl_new',\n",
       "       'Charter_Schl_new', 'Alternate_schl_new', 'NCESSCH', 'LEVEL',\n",
       "       'Total_enroll_students', 'LEA_STATE', 'LEA_STATE_NAME', 'LEAID',\n",
       "       'LEA_NAME', 'SCHID', 'SCH_NAME', 'COMBOKEY', 'SCH_FTETEACH_TOT',\n",
       "       'SCH_FTETEACH_CERT', 'SCH_FTETEACH_NOTCERT'],\n",
       "      dtype='object')"
      ]
     },
     "execution_count": 390,
     "metadata": {},
     "output_type": "execute_result"
    }
   ],
   "source": [
    "HS_Sch_char_enroll_merged_sup.columns"
   ]
  },
  {
   "cell_type": "code",
   "execution_count": 391,
   "metadata": {},
   "outputs": [
    {
     "data": {
      "text/html": [
       "<div>\n",
       "<style scoped>\n",
       "    .dataframe tbody tr th:only-of-type {\n",
       "        vertical-align: middle;\n",
       "    }\n",
       "\n",
       "    .dataframe tbody tr th {\n",
       "        vertical-align: top;\n",
       "    }\n",
       "\n",
       "    .dataframe thead th {\n",
       "        text-align: right;\n",
       "    }\n",
       "</style>\n",
       "<table border=\"1\" class=\"dataframe\">\n",
       "  <thead>\n",
       "    <tr style=\"text-align: right;\">\n",
       "      <th></th>\n",
       "      <th>LEA_STATE_x</th>\n",
       "      <th>LEA_STATE_NAME_x</th>\n",
       "      <th>LEAID_x</th>\n",
       "      <th>LEA_NAME_x</th>\n",
       "      <th>SCHID_x</th>\n",
       "      <th>SCH_NAME_x</th>\n",
       "      <th>COMBOKEY_x</th>\n",
       "      <th>Special_ed_schl_new</th>\n",
       "      <th>Magnet_schl_new</th>\n",
       "      <th>Charter_Schl_new</th>\n",
       "      <th>...</th>\n",
       "      <th>LEA_STATE</th>\n",
       "      <th>LEA_STATE_NAME</th>\n",
       "      <th>LEAID</th>\n",
       "      <th>LEA_NAME</th>\n",
       "      <th>SCHID</th>\n",
       "      <th>SCH_NAME</th>\n",
       "      <th>COMBOKEY</th>\n",
       "      <th>SCH_FTETEACH_TOT</th>\n",
       "      <th>SCH_FTETEACH_CERT</th>\n",
       "      <th>SCH_FTETEACH_NOTCERT</th>\n",
       "    </tr>\n",
       "  </thead>\n",
       "  <tbody>\n",
       "    <tr>\n",
       "      <th>0</th>\n",
       "      <td>AL</td>\n",
       "      <td>ALABAMA</td>\n",
       "      <td>0100005</td>\n",
       "      <td>Albertville City</td>\n",
       "      <td>00871</td>\n",
       "      <td>Albertville High School</td>\n",
       "      <td>010000500871</td>\n",
       "      <td>0</td>\n",
       "      <td>0</td>\n",
       "      <td>0</td>\n",
       "      <td>...</td>\n",
       "      <td>AL</td>\n",
       "      <td>ALABAMA</td>\n",
       "      <td>0100005</td>\n",
       "      <td>Albertville City</td>\n",
       "      <td>00871</td>\n",
       "      <td>Albertville High School</td>\n",
       "      <td>010000500871</td>\n",
       "      <td>78.17</td>\n",
       "      <td>71.17</td>\n",
       "      <td>7.0</td>\n",
       "    </tr>\n",
       "    <tr>\n",
       "      <th>1</th>\n",
       "      <td>AL</td>\n",
       "      <td>ALABAMA</td>\n",
       "      <td>0100006</td>\n",
       "      <td>Marshall County</td>\n",
       "      <td>00872</td>\n",
       "      <td>Asbury High School</td>\n",
       "      <td>010000600872</td>\n",
       "      <td>0</td>\n",
       "      <td>0</td>\n",
       "      <td>0</td>\n",
       "      <td>...</td>\n",
       "      <td>AL</td>\n",
       "      <td>ALABAMA</td>\n",
       "      <td>0100006</td>\n",
       "      <td>Marshall County</td>\n",
       "      <td>00872</td>\n",
       "      <td>Asbury High School</td>\n",
       "      <td>010000600872</td>\n",
       "      <td>32.00</td>\n",
       "      <td>31.00</td>\n",
       "      <td>1.0</td>\n",
       "    </tr>\n",
       "    <tr>\n",
       "      <th>2</th>\n",
       "      <td>AL</td>\n",
       "      <td>ALABAMA</td>\n",
       "      <td>0100006</td>\n",
       "      <td>Marshall County</td>\n",
       "      <td>00878</td>\n",
       "      <td>Douglas High School</td>\n",
       "      <td>010000600878</td>\n",
       "      <td>0</td>\n",
       "      <td>0</td>\n",
       "      <td>0</td>\n",
       "      <td>...</td>\n",
       "      <td>AL</td>\n",
       "      <td>ALABAMA</td>\n",
       "      <td>0100006</td>\n",
       "      <td>Marshall County</td>\n",
       "      <td>00878</td>\n",
       "      <td>Douglas High School</td>\n",
       "      <td>010000600878</td>\n",
       "      <td>36.00</td>\n",
       "      <td>36.00</td>\n",
       "      <td>0.0</td>\n",
       "    </tr>\n",
       "    <tr>\n",
       "      <th>3</th>\n",
       "      <td>AL</td>\n",
       "      <td>ALABAMA</td>\n",
       "      <td>0100006</td>\n",
       "      <td>Marshall County</td>\n",
       "      <td>00883</td>\n",
       "      <td>Kate D Smith DAR High School</td>\n",
       "      <td>010000600883</td>\n",
       "      <td>0</td>\n",
       "      <td>0</td>\n",
       "      <td>0</td>\n",
       "      <td>...</td>\n",
       "      <td>AL</td>\n",
       "      <td>ALABAMA</td>\n",
       "      <td>0100006</td>\n",
       "      <td>Marshall County</td>\n",
       "      <td>00883</td>\n",
       "      <td>Kate D Smith DAR High School</td>\n",
       "      <td>010000600883</td>\n",
       "      <td>29.00</td>\n",
       "      <td>29.00</td>\n",
       "      <td>0.0</td>\n",
       "    </tr>\n",
       "    <tr>\n",
       "      <th>4</th>\n",
       "      <td>AL</td>\n",
       "      <td>ALABAMA</td>\n",
       "      <td>0100006</td>\n",
       "      <td>Marshall County</td>\n",
       "      <td>01585</td>\n",
       "      <td>Brindlee Mountain High School</td>\n",
       "      <td>010000601585</td>\n",
       "      <td>0</td>\n",
       "      <td>0</td>\n",
       "      <td>0</td>\n",
       "      <td>...</td>\n",
       "      <td>AL</td>\n",
       "      <td>ALABAMA</td>\n",
       "      <td>0100006</td>\n",
       "      <td>Marshall County</td>\n",
       "      <td>01585</td>\n",
       "      <td>Brindlee Mountain High School</td>\n",
       "      <td>010000601585</td>\n",
       "      <td>37.00</td>\n",
       "      <td>36.00</td>\n",
       "      <td>1.0</td>\n",
       "    </tr>\n",
       "  </tbody>\n",
       "</table>\n",
       "<p>5 rows × 24 columns</p>\n",
       "</div>"
      ],
      "text/plain": [
       "  LEA_STATE_x LEA_STATE_NAME_x  LEAID_x        LEA_NAME_x SCHID_x  \\\n",
       "0          AL          ALABAMA  0100005  Albertville City   00871   \n",
       "1          AL          ALABAMA  0100006   Marshall County   00872   \n",
       "2          AL          ALABAMA  0100006   Marshall County   00878   \n",
       "3          AL          ALABAMA  0100006   Marshall County   00883   \n",
       "4          AL          ALABAMA  0100006   Marshall County   01585   \n",
       "\n",
       "                      SCH_NAME_x    COMBOKEY_x  Special_ed_schl_new  \\\n",
       "0        Albertville High School  010000500871                    0   \n",
       "1             Asbury High School  010000600872                    0   \n",
       "2            Douglas High School  010000600878                    0   \n",
       "3   Kate D Smith DAR High School  010000600883                    0   \n",
       "4  Brindlee Mountain High School  010000601585                    0   \n",
       "\n",
       "   Magnet_schl_new  Charter_Schl_new  ...  LEA_STATE LEA_STATE_NAME    LEAID  \\\n",
       "0                0                 0  ...         AL        ALABAMA  0100005   \n",
       "1                0                 0  ...         AL        ALABAMA  0100006   \n",
       "2                0                 0  ...         AL        ALABAMA  0100006   \n",
       "3                0                 0  ...         AL        ALABAMA  0100006   \n",
       "4                0                 0  ...         AL        ALABAMA  0100006   \n",
       "\n",
       "           LEA_NAME  SCHID                       SCH_NAME      COMBOKEY  \\\n",
       "0  Albertville City  00871        Albertville High School  010000500871   \n",
       "1   Marshall County  00872             Asbury High School  010000600872   \n",
       "2   Marshall County  00878            Douglas High School  010000600878   \n",
       "3   Marshall County  00883   Kate D Smith DAR High School  010000600883   \n",
       "4   Marshall County  01585  Brindlee Mountain High School  010000601585   \n",
       "\n",
       "  SCH_FTETEACH_TOT SCH_FTETEACH_CERT SCH_FTETEACH_NOTCERT  \n",
       "0            78.17             71.17                  7.0  \n",
       "1            32.00             31.00                  1.0  \n",
       "2            36.00             36.00                  0.0  \n",
       "3            29.00             29.00                  0.0  \n",
       "4            37.00             36.00                  1.0  \n",
       "\n",
       "[5 rows x 24 columns]"
      ]
     },
     "execution_count": 391,
     "metadata": {},
     "output_type": "execute_result"
    }
   ],
   "source": [
    "HS_Sch_char_enroll_merged_sup.head()"
   ]
  },
  {
   "cell_type": "code",
   "execution_count": 450,
   "metadata": {},
   "outputs": [],
   "source": [
    "HS_Sch_char_enroll_sup=HS_Sch_char_enroll_merged_sup[['LEA_STATE_x', 'LEA_STATE_NAME_x', 'LEAID_x', 'LEA_NAME_x', 'SCHID_x',\n",
    "       'SCH_NAME_x', 'COMBOKEY_x', 'Special_ed_schl_new', 'Magnet_schl_new', 'Charter_Schl_new', 'Alternate_schl_new', 'NCESSCH', 'LEVEL', 'Total_enroll_students','SCH_FTETEACH_TOT',\n",
    "       'SCH_FTETEACH_CERT', 'SCH_FTETEACH_NOTCERT']]"
   ]
  },
  {
   "cell_type": "code",
   "execution_count": 451,
   "metadata": {},
   "outputs": [
    {
     "data": {
      "text/plain": [
       "(20685, 17)"
      ]
     },
     "execution_count": 451,
     "metadata": {},
     "output_type": "execute_result"
    }
   ],
   "source": [
    "HS_Sch_char_enroll_sup.shape"
   ]
  },
  {
   "cell_type": "markdown",
   "metadata": {},
   "source": [
    "##### Merging with school expenditures"
   ]
  },
  {
   "cell_type": "code",
   "execution_count": 452,
   "metadata": {},
   "outputs": [
    {
     "data": {
      "text/plain": [
       "(20685, 26)"
      ]
     },
     "execution_count": 452,
     "metadata": {},
     "output_type": "execute_result"
    }
   ],
   "source": [
    "HS_Sch_char_enroll_sup_merged_exp = pandas.merge(left=HS_Sch_char_enroll_sup,right=Sch_exp_clean, how='left', left_on='NCESSCH', right_on='NCESSCH')\n",
    "HS_Sch_char_enroll_sup_merged_exp.shape"
   ]
  },
  {
   "cell_type": "code",
   "execution_count": 453,
   "metadata": {},
   "outputs": [
    {
     "data": {
      "text/plain": [
       "Index(['LEA_STATE_x', 'LEA_STATE_NAME_x', 'LEAID_x', 'LEA_NAME_x', 'SCHID_x',\n",
       "       'SCH_NAME_x', 'COMBOKEY_x', 'Special_ed_schl_new', 'Magnet_schl_new',\n",
       "       'Charter_Schl_new', 'Alternate_schl_new', 'NCESSCH', 'LEVEL',\n",
       "       'Total_enroll_students', 'SCH_FTETEACH_TOT', 'SCH_FTETEACH_CERT',\n",
       "       'SCH_FTETEACH_NOTCERT', 'LEA_STATE', 'LEA_STATE_NAME', 'LEAID',\n",
       "       'LEA_NAME', 'SCHID', 'SCH_NAME', 'COMBOKEY', 'FTE_teachers_count',\n",
       "       'SalaryforTeachers'],\n",
       "      dtype='object')"
      ]
     },
     "execution_count": 453,
     "metadata": {},
     "output_type": "execute_result"
    }
   ],
   "source": [
    "HS_Sch_char_enroll_sup_merged_exp.columns"
   ]
  },
  {
   "cell_type": "code",
   "execution_count": 454,
   "metadata": {},
   "outputs": [
    {
     "data": {
      "text/html": [
       "<div>\n",
       "<style scoped>\n",
       "    .dataframe tbody tr th:only-of-type {\n",
       "        vertical-align: middle;\n",
       "    }\n",
       "\n",
       "    .dataframe tbody tr th {\n",
       "        vertical-align: top;\n",
       "    }\n",
       "\n",
       "    .dataframe thead th {\n",
       "        text-align: right;\n",
       "    }\n",
       "</style>\n",
       "<table border=\"1\" class=\"dataframe\">\n",
       "  <thead>\n",
       "    <tr style=\"text-align: right;\">\n",
       "      <th></th>\n",
       "      <th>LEA_STATE_x</th>\n",
       "      <th>LEA_STATE_NAME_x</th>\n",
       "      <th>LEAID_x</th>\n",
       "      <th>LEA_NAME_x</th>\n",
       "      <th>SCHID_x</th>\n",
       "      <th>SCH_NAME_x</th>\n",
       "      <th>COMBOKEY_x</th>\n",
       "      <th>Special_ed_schl_new</th>\n",
       "      <th>Magnet_schl_new</th>\n",
       "      <th>Charter_Schl_new</th>\n",
       "      <th>...</th>\n",
       "      <th>SCH_FTETEACH_NOTCERT</th>\n",
       "      <th>LEA_STATE</th>\n",
       "      <th>LEA_STATE_NAME</th>\n",
       "      <th>LEAID</th>\n",
       "      <th>LEA_NAME</th>\n",
       "      <th>SCHID</th>\n",
       "      <th>SCH_NAME</th>\n",
       "      <th>COMBOKEY</th>\n",
       "      <th>FTE_teachers_count</th>\n",
       "      <th>SalaryforTeachers</th>\n",
       "    </tr>\n",
       "  </thead>\n",
       "  <tbody>\n",
       "    <tr>\n",
       "      <th>0</th>\n",
       "      <td>AL</td>\n",
       "      <td>ALABAMA</td>\n",
       "      <td>0100005</td>\n",
       "      <td>Albertville City</td>\n",
       "      <td>00871</td>\n",
       "      <td>Albertville High School</td>\n",
       "      <td>010000500871</td>\n",
       "      <td>0</td>\n",
       "      <td>0</td>\n",
       "      <td>0</td>\n",
       "      <td>...</td>\n",
       "      <td>7.0</td>\n",
       "      <td>AL</td>\n",
       "      <td>ALABAMA</td>\n",
       "      <td>0100005</td>\n",
       "      <td>Albertville City</td>\n",
       "      <td>00871</td>\n",
       "      <td>Albertville High School</td>\n",
       "      <td>010000500871</td>\n",
       "      <td>72.88</td>\n",
       "      <td>3780956.34</td>\n",
       "    </tr>\n",
       "    <tr>\n",
       "      <th>1</th>\n",
       "      <td>AL</td>\n",
       "      <td>ALABAMA</td>\n",
       "      <td>0100006</td>\n",
       "      <td>Marshall County</td>\n",
       "      <td>00872</td>\n",
       "      <td>Asbury High School</td>\n",
       "      <td>010000600872</td>\n",
       "      <td>0</td>\n",
       "      <td>0</td>\n",
       "      <td>0</td>\n",
       "      <td>...</td>\n",
       "      <td>1.0</td>\n",
       "      <td>AL</td>\n",
       "      <td>ALABAMA</td>\n",
       "      <td>0100006</td>\n",
       "      <td>Marshall County</td>\n",
       "      <td>00872</td>\n",
       "      <td>Asbury High School</td>\n",
       "      <td>010000600872</td>\n",
       "      <td>32.00</td>\n",
       "      <td>1551823.89</td>\n",
       "    </tr>\n",
       "    <tr>\n",
       "      <th>2</th>\n",
       "      <td>AL</td>\n",
       "      <td>ALABAMA</td>\n",
       "      <td>0100006</td>\n",
       "      <td>Marshall County</td>\n",
       "      <td>00878</td>\n",
       "      <td>Douglas High School</td>\n",
       "      <td>010000600878</td>\n",
       "      <td>0</td>\n",
       "      <td>0</td>\n",
       "      <td>0</td>\n",
       "      <td>...</td>\n",
       "      <td>0.0</td>\n",
       "      <td>AL</td>\n",
       "      <td>ALABAMA</td>\n",
       "      <td>0100006</td>\n",
       "      <td>Marshall County</td>\n",
       "      <td>00878</td>\n",
       "      <td>Douglas High School</td>\n",
       "      <td>010000600878</td>\n",
       "      <td>36.00</td>\n",
       "      <td>1654974.93</td>\n",
       "    </tr>\n",
       "    <tr>\n",
       "      <th>3</th>\n",
       "      <td>AL</td>\n",
       "      <td>ALABAMA</td>\n",
       "      <td>0100006</td>\n",
       "      <td>Marshall County</td>\n",
       "      <td>00883</td>\n",
       "      <td>Kate D Smith DAR High School</td>\n",
       "      <td>010000600883</td>\n",
       "      <td>0</td>\n",
       "      <td>0</td>\n",
       "      <td>0</td>\n",
       "      <td>...</td>\n",
       "      <td>0.0</td>\n",
       "      <td>AL</td>\n",
       "      <td>ALABAMA</td>\n",
       "      <td>0100006</td>\n",
       "      <td>Marshall County</td>\n",
       "      <td>00883</td>\n",
       "      <td>Kate D Smith DAR High School</td>\n",
       "      <td>010000600883</td>\n",
       "      <td>29.00</td>\n",
       "      <td>1256524.51</td>\n",
       "    </tr>\n",
       "    <tr>\n",
       "      <th>4</th>\n",
       "      <td>AL</td>\n",
       "      <td>ALABAMA</td>\n",
       "      <td>0100006</td>\n",
       "      <td>Marshall County</td>\n",
       "      <td>01585</td>\n",
       "      <td>Brindlee Mountain High School</td>\n",
       "      <td>010000601585</td>\n",
       "      <td>0</td>\n",
       "      <td>0</td>\n",
       "      <td>0</td>\n",
       "      <td>...</td>\n",
       "      <td>1.0</td>\n",
       "      <td>AL</td>\n",
       "      <td>ALABAMA</td>\n",
       "      <td>0100006</td>\n",
       "      <td>Marshall County</td>\n",
       "      <td>01585</td>\n",
       "      <td>Brindlee Mountain High School</td>\n",
       "      <td>010000601585</td>\n",
       "      <td>37.00</td>\n",
       "      <td>1540288.05</td>\n",
       "    </tr>\n",
       "  </tbody>\n",
       "</table>\n",
       "<p>5 rows × 26 columns</p>\n",
       "</div>"
      ],
      "text/plain": [
       "  LEA_STATE_x LEA_STATE_NAME_x  LEAID_x        LEA_NAME_x SCHID_x  \\\n",
       "0          AL          ALABAMA  0100005  Albertville City   00871   \n",
       "1          AL          ALABAMA  0100006   Marshall County   00872   \n",
       "2          AL          ALABAMA  0100006   Marshall County   00878   \n",
       "3          AL          ALABAMA  0100006   Marshall County   00883   \n",
       "4          AL          ALABAMA  0100006   Marshall County   01585   \n",
       "\n",
       "                      SCH_NAME_x    COMBOKEY_x  Special_ed_schl_new  \\\n",
       "0        Albertville High School  010000500871                    0   \n",
       "1             Asbury High School  010000600872                    0   \n",
       "2            Douglas High School  010000600878                    0   \n",
       "3   Kate D Smith DAR High School  010000600883                    0   \n",
       "4  Brindlee Mountain High School  010000601585                    0   \n",
       "\n",
       "   Magnet_schl_new  Charter_Schl_new  ...  SCH_FTETEACH_NOTCERT LEA_STATE  \\\n",
       "0                0                 0  ...                   7.0        AL   \n",
       "1                0                 0  ...                   1.0        AL   \n",
       "2                0                 0  ...                   0.0        AL   \n",
       "3                0                 0  ...                   0.0        AL   \n",
       "4                0                 0  ...                   1.0        AL   \n",
       "\n",
       "  LEA_STATE_NAME    LEAID          LEA_NAME  SCHID  \\\n",
       "0        ALABAMA  0100005  Albertville City  00871   \n",
       "1        ALABAMA  0100006   Marshall County  00872   \n",
       "2        ALABAMA  0100006   Marshall County  00878   \n",
       "3        ALABAMA  0100006   Marshall County  00883   \n",
       "4        ALABAMA  0100006   Marshall County  01585   \n",
       "\n",
       "                        SCH_NAME      COMBOKEY FTE_teachers_count  \\\n",
       "0        Albertville High School  010000500871              72.88   \n",
       "1             Asbury High School  010000600872              32.00   \n",
       "2            Douglas High School  010000600878              36.00   \n",
       "3   Kate D Smith DAR High School  010000600883              29.00   \n",
       "4  Brindlee Mountain High School  010000601585              37.00   \n",
       "\n",
       "  SalaryforTeachers  \n",
       "0        3780956.34  \n",
       "1        1551823.89  \n",
       "2        1654974.93  \n",
       "3        1256524.51  \n",
       "4        1540288.05  \n",
       "\n",
       "[5 rows x 26 columns]"
      ]
     },
     "execution_count": 454,
     "metadata": {},
     "output_type": "execute_result"
    }
   ],
   "source": [
    "HS_Sch_char_enroll_sup_merged_exp.head()"
   ]
  },
  {
   "cell_type": "code",
   "execution_count": 455,
   "metadata": {},
   "outputs": [],
   "source": [
    "HS_Sch_char_enroll_sup_exp=HS_Sch_char_enroll_sup_merged_exp[['LEA_STATE_x', 'LEA_STATE_NAME_x', 'LEAID_x', 'LEA_NAME_x', 'SCHID_x',\n",
    "       'SCH_NAME_x', 'COMBOKEY_x', 'Special_ed_schl_new','Magnet_schl_new', 'Charter_Schl_new', 'Alternate_schl_new', 'NCESSCH', 'LEVEL', 'Total_enroll_students','SCH_FTETEACH_TOT',\n",
    "       'SCH_FTETEACH_CERT', 'SCH_FTETEACH_NOTCERT','FTE_teachers_count','SalaryforTeachers']]"
   ]
  },
  {
   "cell_type": "code",
   "execution_count": 456,
   "metadata": {},
   "outputs": [
    {
     "data": {
      "text/plain": [
       "(20685, 19)"
      ]
     },
     "execution_count": 456,
     "metadata": {},
     "output_type": "execute_result"
    }
   ],
   "source": [
    "HS_Sch_char_enroll_sup_exp.shape"
   ]
  },
  {
   "cell_type": "markdown",
   "metadata": {},
   "source": [
    "##### Merging with SAT_ACT"
   ]
  },
  {
   "cell_type": "code",
   "execution_count": 457,
   "metadata": {},
   "outputs": [
    {
     "data": {
      "text/plain": [
       "(20685, 29)"
      ]
     },
     "execution_count": 457,
     "metadata": {},
     "output_type": "execute_result"
    }
   ],
   "source": [
    "HS_Sch_char_enroll_sup_exp_merged_SA = pandas.merge(left=HS_Sch_char_enroll_sup_exp,right=SAT_ACT_clean, how='left', left_on='NCESSCH', right_on='NCESSCH')\n",
    "HS_Sch_char_enroll_sup_exp_merged_SA.shape"
   ]
  },
  {
   "cell_type": "code",
   "execution_count": 458,
   "metadata": {},
   "outputs": [
    {
     "data": {
      "text/plain": [
       "Index(['LEA_STATE_x', 'LEA_STATE_NAME_x', 'LEAID_x', 'LEA_NAME_x', 'SCHID_x',\n",
       "       'SCH_NAME_x', 'COMBOKEY_x', 'Special_ed_schl_new', 'Magnet_schl_new',\n",
       "       'Charter_Schl_new', 'Alternate_schl_new', 'NCESSCH', 'LEVEL',\n",
       "       'Total_enroll_students', 'SCH_FTETEACH_TOT', 'SCH_FTETEACH_CERT',\n",
       "       'SCH_FTETEACH_NOTCERT', 'FTE_teachers_count', 'SalaryforTeachers',\n",
       "       'LEA_STATE', 'LEA_STATE_NAME', 'LEAID', 'LEA_NAME', 'SCHID', 'SCH_NAME',\n",
       "       'COMBOKEY', 'Male_part_count', 'Female_part_count',\n",
       "       'Total_SAT_ACT_students'],\n",
       "      dtype='object')"
      ]
     },
     "execution_count": 458,
     "metadata": {},
     "output_type": "execute_result"
    }
   ],
   "source": [
    "HS_Sch_char_enroll_sup_exp_merged_SA.columns"
   ]
  },
  {
   "cell_type": "code",
   "execution_count": 459,
   "metadata": {},
   "outputs": [
    {
     "data": {
      "text/html": [
       "<div>\n",
       "<style scoped>\n",
       "    .dataframe tbody tr th:only-of-type {\n",
       "        vertical-align: middle;\n",
       "    }\n",
       "\n",
       "    .dataframe tbody tr th {\n",
       "        vertical-align: top;\n",
       "    }\n",
       "\n",
       "    .dataframe thead th {\n",
       "        text-align: right;\n",
       "    }\n",
       "</style>\n",
       "<table border=\"1\" class=\"dataframe\">\n",
       "  <thead>\n",
       "    <tr style=\"text-align: right;\">\n",
       "      <th></th>\n",
       "      <th>LEA_STATE_x</th>\n",
       "      <th>LEA_STATE_NAME_x</th>\n",
       "      <th>LEAID_x</th>\n",
       "      <th>LEA_NAME_x</th>\n",
       "      <th>SCHID_x</th>\n",
       "      <th>SCH_NAME_x</th>\n",
       "      <th>COMBOKEY_x</th>\n",
       "      <th>Special_ed_schl_new</th>\n",
       "      <th>Magnet_schl_new</th>\n",
       "      <th>Charter_Schl_new</th>\n",
       "      <th>...</th>\n",
       "      <th>LEA_STATE</th>\n",
       "      <th>LEA_STATE_NAME</th>\n",
       "      <th>LEAID</th>\n",
       "      <th>LEA_NAME</th>\n",
       "      <th>SCHID</th>\n",
       "      <th>SCH_NAME</th>\n",
       "      <th>COMBOKEY</th>\n",
       "      <th>Male_part_count</th>\n",
       "      <th>Female_part_count</th>\n",
       "      <th>Total_SAT_ACT_students</th>\n",
       "    </tr>\n",
       "  </thead>\n",
       "  <tbody>\n",
       "    <tr>\n",
       "      <th>0</th>\n",
       "      <td>AL</td>\n",
       "      <td>ALABAMA</td>\n",
       "      <td>0100005</td>\n",
       "      <td>Albertville City</td>\n",
       "      <td>00871</td>\n",
       "      <td>Albertville High School</td>\n",
       "      <td>010000500871</td>\n",
       "      <td>0</td>\n",
       "      <td>0</td>\n",
       "      <td>0</td>\n",
       "      <td>...</td>\n",
       "      <td>AL</td>\n",
       "      <td>ALABAMA</td>\n",
       "      <td>0100005</td>\n",
       "      <td>Albertville City</td>\n",
       "      <td>00871</td>\n",
       "      <td>Albertville High School</td>\n",
       "      <td>010000500871</td>\n",
       "      <td>177.0</td>\n",
       "      <td>186.0</td>\n",
       "      <td>363.0</td>\n",
       "    </tr>\n",
       "    <tr>\n",
       "      <th>1</th>\n",
       "      <td>AL</td>\n",
       "      <td>ALABAMA</td>\n",
       "      <td>0100006</td>\n",
       "      <td>Marshall County</td>\n",
       "      <td>00872</td>\n",
       "      <td>Asbury High School</td>\n",
       "      <td>010000600872</td>\n",
       "      <td>0</td>\n",
       "      <td>0</td>\n",
       "      <td>0</td>\n",
       "      <td>...</td>\n",
       "      <td>AL</td>\n",
       "      <td>ALABAMA</td>\n",
       "      <td>0100006</td>\n",
       "      <td>Marshall County</td>\n",
       "      <td>00872</td>\n",
       "      <td>Asbury High School</td>\n",
       "      <td>010000600872</td>\n",
       "      <td>37.0</td>\n",
       "      <td>24.0</td>\n",
       "      <td>61.0</td>\n",
       "    </tr>\n",
       "    <tr>\n",
       "      <th>2</th>\n",
       "      <td>AL</td>\n",
       "      <td>ALABAMA</td>\n",
       "      <td>0100006</td>\n",
       "      <td>Marshall County</td>\n",
       "      <td>00878</td>\n",
       "      <td>Douglas High School</td>\n",
       "      <td>010000600878</td>\n",
       "      <td>0</td>\n",
       "      <td>0</td>\n",
       "      <td>0</td>\n",
       "      <td>...</td>\n",
       "      <td>AL</td>\n",
       "      <td>ALABAMA</td>\n",
       "      <td>0100006</td>\n",
       "      <td>Marshall County</td>\n",
       "      <td>00878</td>\n",
       "      <td>Douglas High School</td>\n",
       "      <td>010000600878</td>\n",
       "      <td>83.0</td>\n",
       "      <td>59.0</td>\n",
       "      <td>142.0</td>\n",
       "    </tr>\n",
       "    <tr>\n",
       "      <th>3</th>\n",
       "      <td>AL</td>\n",
       "      <td>ALABAMA</td>\n",
       "      <td>0100006</td>\n",
       "      <td>Marshall County</td>\n",
       "      <td>00883</td>\n",
       "      <td>Kate D Smith DAR High School</td>\n",
       "      <td>010000600883</td>\n",
       "      <td>0</td>\n",
       "      <td>0</td>\n",
       "      <td>0</td>\n",
       "      <td>...</td>\n",
       "      <td>AL</td>\n",
       "      <td>ALABAMA</td>\n",
       "      <td>0100006</td>\n",
       "      <td>Marshall County</td>\n",
       "      <td>00883</td>\n",
       "      <td>Kate D Smith DAR High School</td>\n",
       "      <td>010000600883</td>\n",
       "      <td>56.0</td>\n",
       "      <td>47.0</td>\n",
       "      <td>103.0</td>\n",
       "    </tr>\n",
       "    <tr>\n",
       "      <th>4</th>\n",
       "      <td>AL</td>\n",
       "      <td>ALABAMA</td>\n",
       "      <td>0100006</td>\n",
       "      <td>Marshall County</td>\n",
       "      <td>01585</td>\n",
       "      <td>Brindlee Mountain High School</td>\n",
       "      <td>010000601585</td>\n",
       "      <td>0</td>\n",
       "      <td>0</td>\n",
       "      <td>0</td>\n",
       "      <td>...</td>\n",
       "      <td>AL</td>\n",
       "      <td>ALABAMA</td>\n",
       "      <td>0100006</td>\n",
       "      <td>Marshall County</td>\n",
       "      <td>01585</td>\n",
       "      <td>Brindlee Mountain High School</td>\n",
       "      <td>010000601585</td>\n",
       "      <td>45.0</td>\n",
       "      <td>31.0</td>\n",
       "      <td>76.0</td>\n",
       "    </tr>\n",
       "  </tbody>\n",
       "</table>\n",
       "<p>5 rows × 29 columns</p>\n",
       "</div>"
      ],
      "text/plain": [
       "  LEA_STATE_x LEA_STATE_NAME_x  LEAID_x        LEA_NAME_x SCHID_x  \\\n",
       "0          AL          ALABAMA  0100005  Albertville City   00871   \n",
       "1          AL          ALABAMA  0100006   Marshall County   00872   \n",
       "2          AL          ALABAMA  0100006   Marshall County   00878   \n",
       "3          AL          ALABAMA  0100006   Marshall County   00883   \n",
       "4          AL          ALABAMA  0100006   Marshall County   01585   \n",
       "\n",
       "                      SCH_NAME_x    COMBOKEY_x  Special_ed_schl_new  \\\n",
       "0        Albertville High School  010000500871                    0   \n",
       "1             Asbury High School  010000600872                    0   \n",
       "2            Douglas High School  010000600878                    0   \n",
       "3   Kate D Smith DAR High School  010000600883                    0   \n",
       "4  Brindlee Mountain High School  010000601585                    0   \n",
       "\n",
       "   Magnet_schl_new  Charter_Schl_new  ...  LEA_STATE LEA_STATE_NAME    LEAID  \\\n",
       "0                0                 0  ...         AL        ALABAMA  0100005   \n",
       "1                0                 0  ...         AL        ALABAMA  0100006   \n",
       "2                0                 0  ...         AL        ALABAMA  0100006   \n",
       "3                0                 0  ...         AL        ALABAMA  0100006   \n",
       "4                0                 0  ...         AL        ALABAMA  0100006   \n",
       "\n",
       "           LEA_NAME  SCHID                       SCH_NAME      COMBOKEY  \\\n",
       "0  Albertville City  00871        Albertville High School  010000500871   \n",
       "1   Marshall County  00872             Asbury High School  010000600872   \n",
       "2   Marshall County  00878            Douglas High School  010000600878   \n",
       "3   Marshall County  00883   Kate D Smith DAR High School  010000600883   \n",
       "4   Marshall County  01585  Brindlee Mountain High School  010000601585   \n",
       "\n",
       "   Male_part_count  Female_part_count Total_SAT_ACT_students  \n",
       "0            177.0              186.0                  363.0  \n",
       "1             37.0               24.0                   61.0  \n",
       "2             83.0               59.0                  142.0  \n",
       "3             56.0               47.0                  103.0  \n",
       "4             45.0               31.0                   76.0  \n",
       "\n",
       "[5 rows x 29 columns]"
      ]
     },
     "execution_count": 459,
     "metadata": {},
     "output_type": "execute_result"
    }
   ],
   "source": [
    "HS_Sch_char_enroll_sup_exp_merged_SA.head()"
   ]
  },
  {
   "cell_type": "code",
   "execution_count": 460,
   "metadata": {},
   "outputs": [],
   "source": [
    "HS_Sch_char_enroll_sup_exp_SA=HS_Sch_char_enroll_sup_exp_merged_SA[['LEA_STATE_x', 'LEA_STATE_NAME_x', 'LEAID_x', 'LEA_NAME_x', 'SCHID_x',\n",
    "       'SCH_NAME_x', 'COMBOKEY_x', 'Special_ed_schl_new','Magnet_schl_new', 'Charter_Schl_new', 'Alternate_schl_new', 'NCESSCH', 'LEVEL', 'Total_enroll_students','SCH_FTETEACH_TOT',\n",
    "       'SCH_FTETEACH_CERT', 'SCH_FTETEACH_NOTCERT','FTE_teachers_count','SalaryforTeachers','Total_SAT_ACT_students']]"
   ]
  },
  {
   "cell_type": "code",
   "execution_count": 461,
   "metadata": {},
   "outputs": [
    {
     "data": {
      "text/plain": [
       "(20685, 20)"
      ]
     },
     "execution_count": 461,
     "metadata": {},
     "output_type": "execute_result"
    }
   ],
   "source": [
    "HS_Sch_char_enroll_sup_exp_SA.shape"
   ]
  },
  {
   "cell_type": "markdown",
   "metadata": {},
   "source": [
    "##### Merging with IB"
   ]
  },
  {
   "cell_type": "code",
   "execution_count": 462,
   "metadata": {},
   "outputs": [
    {
     "data": {
      "text/plain": [
       "(20685, 32)"
      ]
     },
     "execution_count": 462,
     "metadata": {},
     "output_type": "execute_result"
    }
   ],
   "source": [
    "HS_Sch_char_enroll_sup_exp_SA_merged_IB = pandas.merge(left=HS_Sch_char_enroll_sup_exp_SA,right=IB_clean, how='left', left_on='NCESSCH', right_on='NCESSCH')\n",
    "HS_Sch_char_enroll_sup_exp_SA_merged_IB.shape"
   ]
  },
  {
   "cell_type": "code",
   "execution_count": 463,
   "metadata": {},
   "outputs": [
    {
     "data": {
      "text/plain": [
       "Index(['LEA_STATE_x', 'LEA_STATE_NAME_x', 'LEAID_x', 'LEA_NAME_x', 'SCHID_x',\n",
       "       'SCH_NAME_x', 'COMBOKEY_x', 'Special_ed_schl_new', 'Magnet_schl_new',\n",
       "       'Charter_Schl_new', 'Alternate_schl_new', 'NCESSCH', 'LEVEL',\n",
       "       'Total_enroll_students', 'SCH_FTETEACH_TOT', 'SCH_FTETEACH_CERT',\n",
       "       'SCH_FTETEACH_NOTCERT', 'FTE_teachers_count', 'SalaryforTeachers',\n",
       "       'Total_SAT_ACT_students', 'LEA_STATE', 'LEA_STATE_NAME', 'LEAID',\n",
       "       'LEA_NAME', 'SCHID', 'SCH_NAME', 'COMBOKEY', 'SCH_IBENR_IND',\n",
       "       'Male_enroll_count', 'Female_enroll_count', 'Total_IB_students',\n",
       "       'SCH_IBENR_IND_new'],\n",
       "      dtype='object')"
      ]
     },
     "execution_count": 463,
     "metadata": {},
     "output_type": "execute_result"
    }
   ],
   "source": [
    "HS_Sch_char_enroll_sup_exp_SA_merged_IB.columns"
   ]
  },
  {
   "cell_type": "code",
   "execution_count": 464,
   "metadata": {},
   "outputs": [],
   "source": [
    "#HS_Sch_char_enroll_sup_exp_SA_merged_IB.head()"
   ]
  },
  {
   "cell_type": "code",
   "execution_count": 465,
   "metadata": {},
   "outputs": [],
   "source": [
    "HS_Sch_char_enroll_sup_exp_SA_IB=HS_Sch_char_enroll_sup_exp_SA_merged_IB[['LEA_STATE_x', 'LEA_STATE_NAME_x', 'LEAID_x', 'LEA_NAME_x', 'SCHID_x',\n",
    "       'SCH_NAME_x', 'COMBOKEY_x', 'Special_ed_schl_new','Magnet_schl_new', 'Charter_Schl_new', 'Alternate_schl_new', 'NCESSCH', 'LEVEL',\n",
    "       'Total_enroll_students', 'SCH_FTETEACH_TOT', 'SCH_FTETEACH_CERT','SCH_FTETEACH_NOTCERT', 'FTE_teachers_count', 'SalaryforTeachers',\n",
    "       'Total_SAT_ACT_students','SCH_IBENR_IND_new','Total_IB_students']]"
   ]
  },
  {
   "cell_type": "code",
   "execution_count": 466,
   "metadata": {},
   "outputs": [
    {
     "data": {
      "text/plain": [
       "(20685, 22)"
      ]
     },
     "execution_count": 466,
     "metadata": {},
     "output_type": "execute_result"
    }
   ],
   "source": [
    "HS_Sch_char_enroll_sup_exp_SA_IB.shape"
   ]
  },
  {
   "cell_type": "markdown",
   "metadata": {},
   "source": [
    "##### Merging with AP other"
   ]
  },
  {
   "cell_type": "code",
   "execution_count": 467,
   "metadata": {},
   "outputs": [
    {
     "data": {
      "text/plain": [
       "(20685, 36)"
      ]
     },
     "execution_count": 467,
     "metadata": {},
     "output_type": "execute_result"
    }
   ],
   "source": [
    "HS_Sch_char_enroll_sup_exp_SA_IB_merged_AP_other = pandas.merge(left=HS_Sch_char_enroll_sup_exp_SA_IB,right=AP_other_clean, how='left', left_on='NCESSCH', right_on='NCESSCH')\n",
    "HS_Sch_char_enroll_sup_exp_SA_IB_merged_AP_other.shape"
   ]
  },
  {
   "cell_type": "code",
   "execution_count": 468,
   "metadata": {},
   "outputs": [
    {
     "data": {
      "text/plain": [
       "Index(['LEA_STATE_x', 'LEA_STATE_NAME_x', 'LEAID_x', 'LEA_NAME_x', 'SCHID_x',\n",
       "       'SCH_NAME_x', 'COMBOKEY_x', 'Special_ed_schl_new', 'Magnet_schl_new',\n",
       "       'Charter_Schl_new', 'Alternate_schl_new', 'NCESSCH', 'LEVEL',\n",
       "       'Total_enroll_students', 'SCH_FTETEACH_TOT', 'SCH_FTETEACH_CERT',\n",
       "       'SCH_FTETEACH_NOTCERT', 'FTE_teachers_count', 'SalaryforTeachers',\n",
       "       'Total_SAT_ACT_students', 'SCH_IBENR_IND_new', 'Total_IB_students',\n",
       "       'LEA_STATE', 'LEA_STATE_NAME', 'LEAID', 'LEA_NAME', 'SCHID', 'SCH_NAME',\n",
       "       'COMBOKEY', 'SCH_APENR_IND', 'SCH_APCOURSES', 'SCH_APOTHENR_IND',\n",
       "       'Total_AP_other_students', 'Total_students_tookAP', 'SCH_APENR_IND_new',\n",
       "       'SCH_APOTHENR_IND_new'],\n",
       "      dtype='object')"
      ]
     },
     "execution_count": 468,
     "metadata": {},
     "output_type": "execute_result"
    }
   ],
   "source": [
    "HS_Sch_char_enroll_sup_exp_SA_IB_merged_AP_other.columns"
   ]
  },
  {
   "cell_type": "code",
   "execution_count": 469,
   "metadata": {},
   "outputs": [],
   "source": [
    "#HS_Sch_char_enroll_sup_exp_SA_IB_merged_AP_other.head()"
   ]
  },
  {
   "cell_type": "code",
   "execution_count": 470,
   "metadata": {},
   "outputs": [],
   "source": [
    "HS_Sch_char_enroll_sup_exp_SA_IB_AP_other=HS_Sch_char_enroll_sup_exp_SA_IB_merged_AP_other[['LEA_STATE_x', 'LEA_STATE_NAME_x', 'LEAID_x', 'LEA_NAME_x', 'SCHID_x',\n",
    "       'SCH_NAME_x', 'COMBOKEY_x', 'Special_ed_schl_new','Magnet_schl_new', 'Charter_Schl_new', 'Alternate_schl_new', 'NCESSCH', 'LEVEL','Total_enroll_students', 'SCH_FTETEACH_TOT', 'SCH_FTETEACH_CERT',\n",
    "       'SCH_FTETEACH_NOTCERT', 'FTE_teachers_count', 'SalaryforTeachers','Total_SAT_ACT_students', 'SCH_IBENR_IND_new', 'Total_IB_students','SCH_APENR_IND_new', 'SCH_APCOURSES', 'SCH_APOTHENR_IND_new',\n",
    "       'Total_AP_other_students', 'Total_students_tookAP']]"
   ]
  },
  {
   "cell_type": "code",
   "execution_count": 471,
   "metadata": {},
   "outputs": [
    {
     "data": {
      "text/plain": [
       "(20685, 27)"
      ]
     },
     "execution_count": 471,
     "metadata": {},
     "output_type": "execute_result"
    }
   ],
   "source": [
    "HS_Sch_char_enroll_sup_exp_SA_IB_AP_other.shape"
   ]
  },
  {
   "cell_type": "code",
   "execution_count": 472,
   "metadata": {},
   "outputs": [
    {
     "data": {
      "text/plain": [
       "<matplotlib.axes._subplots.AxesSubplot at 0x7f8e53de8e80>"
      ]
     },
     "execution_count": 472,
     "metadata": {},
     "output_type": "execute_result"
    },
    {
     "data": {
      "image/png": "[encoded data removed]",
      "text/plain": [
       "<Figure size 432x288 with 2 Axes>"
      ]
     },
     "metadata": {
      "needs_background": "light"
     },
     "output_type": "display_data"
    }
   ],
   "source": [
    "sns.heatmap(HS_Sch_char_enroll_sup_exp_SA_IB_AP_other.isnull(),yticklabels=False,cbar=True,cmap='viridis')"
   ]
  },
  {
   "cell_type": "code",
   "execution_count": 473,
   "metadata": {},
   "outputs": [
    {
     "data": {
      "text/plain": [
       "Total_enroll_students         1\n",
       "SCH_FTETEACH_TOT            269\n",
       "SCH_FTETEACH_CERT           269\n",
       "SCH_FTETEACH_NOTCERT        269\n",
       "FTE_teachers_count          773\n",
       "SalaryforTeachers           773\n",
       "Total_SAT_ACT_students     3137\n",
       "SCH_IBENR_IND_new           402\n",
       "Total_IB_students           402\n",
       "SCH_APENR_IND_new           404\n",
       "SCH_APCOURSES               404\n",
       "SCH_APOTHENR_IND_new        404\n",
       "Total_AP_other_students     404\n",
       "Total_students_tookAP       404\n",
       "dtype: int64"
      ]
     },
     "execution_count": 473,
     "metadata": {},
     "output_type": "execute_result"
    }
   ],
   "source": [
    "null_columns=HS_Sch_char_enroll_sup_exp_SA_IB_AP_other.columns[HS_Sch_char_enroll_sup_exp_SA_IB_AP_other.isnull().any()]\n",
    "HS_Sch_char_enroll_sup_exp_SA_IB_AP_other[null_columns].isnull().sum()"
   ]
  },
  {
   "cell_type": "code",
   "execution_count": 474,
   "metadata": {},
   "outputs": [],
   "source": [
    "crdc_master_read = HS_Sch_char_enroll_sup_exp_SA_IB_AP_other.dropna(axis = 0, how ='any') "
   ]
  },
  {
   "cell_type": "code",
   "execution_count": 475,
   "metadata": {},
   "outputs": [
    {
     "name": "stdout",
     "output_type": "stream",
     "text": [
      "Old data frame length: 20685\n",
      "New data frame length: 17208\n",
      "Number of rows with at least 1 NA value:  3477\n"
     ]
    }
   ],
   "source": [
    "print(\"Old data frame length:\", len(HS_Sch_char_enroll_sup_exp_SA_IB_AP_other)) \n",
    "print(\"New data frame length:\", len(crdc_master_read))  \n",
    "print(\"Number of rows with at least 1 NA value: \", \n",
    "      (len(HS_Sch_char_enroll_sup_exp_SA_IB_AP_other)-len(crdc_master_read))) "
   ]
  },
  {
   "cell_type": "code",
   "execution_count": 476,
   "metadata": {},
   "outputs": [
    {
     "data": {
      "text/plain": [
       "<matplotlib.axes._subplots.AxesSubplot at 0x7f8e54e92850>"
      ]
     },
     "execution_count": 476,
     "metadata": {},
     "output_type": "execute_result"
    },
    {
     "data": {
      "image/png": "[encoded data removed]",
      "text/plain": [
       "<Figure size 432x288 with 2 Axes>"
      ]
     },
     "metadata": {
      "needs_background": "light"
     },
     "output_type": "display_data"
    }
   ],
   "source": [
    "sns.heatmap(crdc_master_read.isnull(),yticklabels=False,cbar=True,cmap='viridis')"
   ]
  },
  {
   "cell_type": "code",
   "execution_count": 477,
   "metadata": {},
   "outputs": [
    {
     "data": {
      "text/plain": [
       "(17208, 27)"
      ]
     },
     "execution_count": 477,
     "metadata": {},
     "output_type": "execute_result"
    }
   ],
   "source": [
    "crdc_master_read.shape"
   ]
  },
  {
   "cell_type": "code",
   "execution_count": 478,
   "metadata": {},
   "outputs": [],
   "source": [
    "crdc_master_read.to_csv (r'/Users/dansari/Documents/GitHub/Identifying-features-to-predict-high-school-assessment-proficiency/Phase1/Data/CRDC/Clean_crdc_master_read.csv', index = False,header=True)"
   ]
  },
  {
   "cell_type": "markdown",
   "metadata": {},
   "source": [
    "##### Merging with AP math"
   ]
  },
  {
   "cell_type": "code",
   "execution_count": 479,
   "metadata": {},
   "outputs": [
    {
     "data": {
      "text/plain": [
       "(20685, 36)"
      ]
     },
     "execution_count": 479,
     "metadata": {},
     "output_type": "execute_result"
    }
   ],
   "source": [
    "HS_Sch_char_enroll_sup_exp_SA_IB_merged_AP_math = pandas.merge(left=HS_Sch_char_enroll_sup_exp_SA_IB,right=AP_math_clean, how='left', left_on='NCESSCH', right_on='NCESSCH')\n",
    "HS_Sch_char_enroll_sup_exp_SA_IB_merged_AP_math.shape"
   ]
  },
  {
   "cell_type": "code",
   "execution_count": 480,
   "metadata": {},
   "outputs": [
    {
     "data": {
      "text/plain": [
       "Index(['LEA_STATE_x', 'LEA_STATE_NAME_x', 'LEAID_x', 'LEA_NAME_x', 'SCHID_x',\n",
       "       'SCH_NAME_x', 'COMBOKEY_x', 'Special_ed_schl_new', 'Magnet_schl_new',\n",
       "       'Charter_Schl_new', 'Alternate_schl_new', 'NCESSCH', 'LEVEL',\n",
       "       'Total_enroll_students', 'SCH_FTETEACH_TOT', 'SCH_FTETEACH_CERT',\n",
       "       'SCH_FTETEACH_NOTCERT', 'FTE_teachers_count', 'SalaryforTeachers',\n",
       "       'Total_SAT_ACT_students', 'SCH_IBENR_IND_new', 'Total_IB_students',\n",
       "       'LEA_STATE', 'LEA_STATE_NAME', 'LEAID', 'LEA_NAME', 'SCHID', 'SCH_NAME',\n",
       "       'COMBOKEY', 'SCH_APENR_IND', 'SCH_APCOURSES', 'SCH_APMATHENR_IND',\n",
       "       'Total_AP_math_students', 'Total_students_tookAP', 'SCH_APENR_IND_new',\n",
       "       'SCH_APMATHENR_IND_new'],\n",
       "      dtype='object')"
      ]
     },
     "execution_count": 480,
     "metadata": {},
     "output_type": "execute_result"
    }
   ],
   "source": [
    "HS_Sch_char_enroll_sup_exp_SA_IB_merged_AP_math.columns"
   ]
  },
  {
   "cell_type": "code",
   "execution_count": 481,
   "metadata": {},
   "outputs": [],
   "source": [
    "HS_Sch_char_enroll_sup_exp_SA_IB_APmath=HS_Sch_char_enroll_sup_exp_SA_IB_merged_AP_math[['LEA_STATE_x', 'LEA_STATE_NAME_x', 'LEAID_x', 'LEA_NAME_x', 'SCHID_x',\n",
    "       'SCH_NAME_x', 'COMBOKEY_x', 'Special_ed_schl_new',\n",
    "       'Magnet_schl_new', 'Charter_Schl_new', 'Alternate_schl_new', 'NCESSCH', 'LEVEL','Total_enroll_students', 'SCH_FTETEACH_TOT', 'SCH_FTETEACH_CERT',\n",
    "       'SCH_FTETEACH_NOTCERT', 'FTE_teachers_count', 'SalaryforTeachers','Total_SAT_ACT_students', 'SCH_IBENR_IND_new', 'Total_IB_students','SCH_APENR_IND_new', 'SCH_APCOURSES', 'SCH_APMATHENR_IND_new',\n",
    "       'Total_AP_math_students', 'Total_students_tookAP']]"
   ]
  },
  {
   "cell_type": "code",
   "execution_count": 482,
   "metadata": {},
   "outputs": [
    {
     "data": {
      "text/plain": [
       "(20685, 27)"
      ]
     },
     "execution_count": 482,
     "metadata": {},
     "output_type": "execute_result"
    }
   ],
   "source": [
    "HS_Sch_char_enroll_sup_exp_SA_IB_APmath.shape"
   ]
  },
  {
   "cell_type": "markdown",
   "metadata": {},
   "source": [
    "##### Merging with Alg1 "
   ]
  },
  {
   "cell_type": "code",
   "execution_count": 483,
   "metadata": {},
   "outputs": [
    {
     "data": {
      "text/plain": [
       "(20685, 38)"
      ]
     },
     "execution_count": 483,
     "metadata": {},
     "output_type": "execute_result"
    }
   ],
   "source": [
    "HS_Sch_char_enroll_sup_exp_SA_IB_APmath_merged_Alg1 = pandas.merge(left=HS_Sch_char_enroll_sup_exp_SA_IB_APmath,right=Alg1_clean, how='left', left_on='NCESSCH', right_on='NCESSCH')\n",
    "HS_Sch_char_enroll_sup_exp_SA_IB_APmath_merged_Alg1.shape"
   ]
  },
  {
   "cell_type": "code",
   "execution_count": 484,
   "metadata": {},
   "outputs": [
    {
     "data": {
      "text/plain": [
       "Index(['LEA_STATE_x', 'LEA_STATE_NAME_x', 'LEAID_x', 'LEA_NAME_x', 'SCHID_x',\n",
       "       'SCH_NAME_x', 'COMBOKEY_x', 'Special_ed_schl_new', 'Magnet_schl_new',\n",
       "       'Charter_Schl_new', 'Alternate_schl_new', 'NCESSCH', 'LEVEL',\n",
       "       'Total_enroll_students', 'SCH_FTETEACH_TOT', 'SCH_FTETEACH_CERT',\n",
       "       'SCH_FTETEACH_NOTCERT', 'FTE_teachers_count', 'SalaryforTeachers',\n",
       "       'Total_SAT_ACT_students', 'SCH_IBENR_IND_new', 'Total_IB_students',\n",
       "       'SCH_APENR_IND_new', 'SCH_APCOURSES', 'SCH_APMATHENR_IND_new',\n",
       "       'Total_AP_math_students', 'Total_students_tookAP', 'LEA_STATE',\n",
       "       'LEA_STATE_NAME', 'LEAID', 'LEA_NAME', 'SCHID', 'SCH_NAME', 'COMBOKEY',\n",
       "       'SCH_MATHCLASSES_ALG', 'SCH_MATHCERT_ALG', 'Total_Alg1_enroll_students',\n",
       "       'Total_Alg1_pass_students'],\n",
       "      dtype='object')"
      ]
     },
     "execution_count": 484,
     "metadata": {},
     "output_type": "execute_result"
    }
   ],
   "source": [
    "HS_Sch_char_enroll_sup_exp_SA_IB_APmath_merged_Alg1.columns"
   ]
  },
  {
   "cell_type": "code",
   "execution_count": 485,
   "metadata": {},
   "outputs": [],
   "source": [
    "HS_Sch_char_enroll_sup_exp_SA_IB_APmath_Alg1=HS_Sch_char_enroll_sup_exp_SA_IB_APmath_merged_Alg1[['LEA_STATE_x', 'LEA_STATE_NAME_x', 'LEAID_x', 'LEA_NAME_x', 'SCHID_x',\n",
    "       'SCH_NAME_x', 'COMBOKEY_x', 'Special_ed_schl_new',\n",
    "       'Magnet_schl_new', 'Charter_Schl_new', 'Alternate_schl_new', 'NCESSCH', 'LEVEL','Total_enroll_students', 'SCH_FTETEACH_TOT', 'SCH_FTETEACH_CERT',\n",
    "       'SCH_FTETEACH_NOTCERT', 'FTE_teachers_count', 'SalaryforTeachers','Total_SAT_ACT_students', 'SCH_IBENR_IND_new', 'Total_IB_students','SCH_APENR_IND_new', 'SCH_APCOURSES', 'SCH_APMATHENR_IND_new',\n",
    "       'Total_AP_math_students', 'Total_students_tookAP','SCH_MATHCLASSES_ALG', 'SCH_MATHCERT_ALG', 'Total_Alg1_enroll_students',\n",
    "       'Total_Alg1_pass_students']]"
   ]
  },
  {
   "cell_type": "code",
   "execution_count": 486,
   "metadata": {},
   "outputs": [
    {
     "data": {
      "text/plain": [
       "(20685, 31)"
      ]
     },
     "execution_count": 486,
     "metadata": {},
     "output_type": "execute_result"
    }
   ],
   "source": [
    "HS_Sch_char_enroll_sup_exp_SA_IB_APmath_Alg1.shape"
   ]
  },
  {
   "cell_type": "markdown",
   "metadata": {},
   "source": [
    "##### Merging with Alg2"
   ]
  },
  {
   "cell_type": "code",
   "execution_count": 487,
   "metadata": {},
   "outputs": [
    {
     "data": {
      "text/plain": [
       "(20685, 41)"
      ]
     },
     "execution_count": 487,
     "metadata": {},
     "output_type": "execute_result"
    }
   ],
   "source": [
    "HS_Sch_char_enroll_sup_exp_SA_IB_APmath_Alg1_merged_Alg2= pandas.merge(left=HS_Sch_char_enroll_sup_exp_SA_IB_APmath_Alg1,right=Alg2_clean, how='left', left_on='NCESSCH', right_on='NCESSCH')\n",
    "HS_Sch_char_enroll_sup_exp_SA_IB_APmath_Alg1_merged_Alg2.shape"
   ]
  },
  {
   "cell_type": "code",
   "execution_count": 488,
   "metadata": {},
   "outputs": [
    {
     "data": {
      "text/plain": [
       "Index(['LEA_STATE_x', 'LEA_STATE_NAME_x', 'LEAID_x', 'LEA_NAME_x', 'SCHID_x',\n",
       "       'SCH_NAME_x', 'COMBOKEY_x', 'Special_ed_schl_new', 'Magnet_schl_new',\n",
       "       'Charter_Schl_new', 'Alternate_schl_new', 'NCESSCH', 'LEVEL',\n",
       "       'Total_enroll_students', 'SCH_FTETEACH_TOT', 'SCH_FTETEACH_CERT',\n",
       "       'SCH_FTETEACH_NOTCERT', 'FTE_teachers_count', 'SalaryforTeachers',\n",
       "       'Total_SAT_ACT_students', 'SCH_IBENR_IND_new', 'Total_IB_students',\n",
       "       'SCH_APENR_IND_new', 'SCH_APCOURSES', 'SCH_APMATHENR_IND_new',\n",
       "       'Total_AP_math_students', 'Total_students_tookAP',\n",
       "       'SCH_MATHCLASSES_ALG', 'SCH_MATHCERT_ALG', 'Total_Alg1_enroll_students',\n",
       "       'Total_Alg1_pass_students', 'LEA_STATE', 'LEA_STATE_NAME', 'LEAID',\n",
       "       'LEA_NAME', 'SCHID', 'SCH_NAME', 'COMBOKEY', 'SCH_MATHCLASSES_ALG2',\n",
       "       'SCH_MATHCERT_ALG2', 'Total_Alg2_enroll_students'],\n",
       "      dtype='object')"
      ]
     },
     "execution_count": 488,
     "metadata": {},
     "output_type": "execute_result"
    }
   ],
   "source": [
    "HS_Sch_char_enroll_sup_exp_SA_IB_APmath_Alg1_merged_Alg2.columns"
   ]
  },
  {
   "cell_type": "code",
   "execution_count": 489,
   "metadata": {},
   "outputs": [
    {
     "data": {
      "text/plain": [
       "<matplotlib.axes._subplots.AxesSubplot at 0x7f8e54ab3c10>"
      ]
     },
     "execution_count": 489,
     "metadata": {},
     "output_type": "execute_result"
    },
    {
     "data": {
      "image/png": "[encoded data removed]",
      "text/plain": [
       "<Figure size 432x288 with 2 Axes>"
      ]
     },
     "metadata": {
      "needs_background": "light"
     },
     "output_type": "display_data"
    }
   ],
   "source": [
    "sns.heatmap(HS_Sch_char_enroll_sup_exp_SA_IB_APmath_Alg1_merged_Alg2.isnull(),yticklabels=False,cbar=True,cmap='viridis')"
   ]
  },
  {
   "cell_type": "code",
   "execution_count": 490,
   "metadata": {},
   "outputs": [],
   "source": [
    "HS_Sch_char_enroll_sup_exp_SA_IB_APmath_Alg1_2=HS_Sch_char_enroll_sup_exp_SA_IB_APmath_Alg1_merged_Alg2[['LEA_STATE_x', 'LEA_STATE_NAME_x', 'LEAID_x', 'LEA_NAME_x', 'SCHID_x',\n",
    "       'SCH_NAME_x', 'COMBOKEY_x', 'Special_ed_schl_new',\n",
    "       'Magnet_schl_new', 'Charter_Schl_new', 'Alternate_schl_new', 'NCESSCH', 'LEVEL','Total_enroll_students', 'SCH_FTETEACH_TOT', 'SCH_FTETEACH_CERT',\n",
    "       'SCH_FTETEACH_NOTCERT', 'FTE_teachers_count', 'SalaryforTeachers','Total_SAT_ACT_students', 'SCH_IBENR_IND_new', 'Total_IB_students','SCH_APENR_IND_new', 'SCH_APCOURSES', 'SCH_APMATHENR_IND_new',\n",
    "       'Total_AP_math_students', 'Total_students_tookAP','SCH_MATHCLASSES_ALG', 'SCH_MATHCERT_ALG', 'Total_Alg1_enroll_students','Total_Alg1_pass_students',\n",
    "        'SCH_MATHCLASSES_ALG2','SCH_MATHCERT_ALG2', 'Total_Alg2_enroll_students']]"
   ]
  },
  {
   "cell_type": "code",
   "execution_count": 491,
   "metadata": {},
   "outputs": [
    {
     "data": {
      "text/plain": [
       "(20685, 34)"
      ]
     },
     "execution_count": 491,
     "metadata": {},
     "output_type": "execute_result"
    }
   ],
   "source": [
    "HS_Sch_char_enroll_sup_exp_SA_IB_APmath_Alg1_2.shape"
   ]
  },
  {
   "cell_type": "markdown",
   "metadata": {},
   "source": [
    "##### Merging with Calculus"
   ]
  },
  {
   "cell_type": "code",
   "execution_count": 492,
   "metadata": {},
   "outputs": [
    {
     "data": {
      "text/plain": [
       "(20685, 44)"
      ]
     },
     "execution_count": 492,
     "metadata": {},
     "output_type": "execute_result"
    }
   ],
   "source": [
    "HS_Sch_char_enroll_sup_exp_SA_IB_APmath_Alg1_2_merged_Cal= pandas.merge(left=HS_Sch_char_enroll_sup_exp_SA_IB_APmath_Alg1_2,right=Calculus_clean, how='left', left_on='NCESSCH', right_on='NCESSCH')\n",
    "HS_Sch_char_enroll_sup_exp_SA_IB_APmath_Alg1_2_merged_Cal.shape"
   ]
  },
  {
   "cell_type": "code",
   "execution_count": 493,
   "metadata": {},
   "outputs": [
    {
     "data": {
      "text/plain": [
       "Index(['LEA_STATE_x', 'LEA_STATE_NAME_x', 'LEAID_x', 'LEA_NAME_x', 'SCHID_x',\n",
       "       'SCH_NAME_x', 'COMBOKEY_x', 'Special_ed_schl_new', 'Magnet_schl_new',\n",
       "       'Charter_Schl_new', 'Alternate_schl_new', 'NCESSCH', 'LEVEL',\n",
       "       'Total_enroll_students', 'SCH_FTETEACH_TOT', 'SCH_FTETEACH_CERT',\n",
       "       'SCH_FTETEACH_NOTCERT', 'FTE_teachers_count', 'SalaryforTeachers',\n",
       "       'Total_SAT_ACT_students', 'SCH_IBENR_IND_new', 'Total_IB_students',\n",
       "       'SCH_APENR_IND_new', 'SCH_APCOURSES', 'SCH_APMATHENR_IND_new',\n",
       "       'Total_AP_math_students', 'Total_students_tookAP',\n",
       "       'SCH_MATHCLASSES_ALG', 'SCH_MATHCERT_ALG', 'Total_Alg1_enroll_students',\n",
       "       'Total_Alg1_pass_students', 'SCH_MATHCLASSES_ALG2', 'SCH_MATHCERT_ALG2',\n",
       "       'Total_Alg2_enroll_students', ' \"LEA_STATE\"', 'LEA_STATE_NAME', 'LEAID',\n",
       "       'LEA_NAME', 'SCHID', 'SCH_NAME', 'COMBOKEY', 'SCH_MATHCLASSES_CALC',\n",
       "       'SCH_MATHCERT_CALC', 'Total_Calc_enroll_students'],\n",
       "      dtype='object')"
      ]
     },
     "execution_count": 493,
     "metadata": {},
     "output_type": "execute_result"
    }
   ],
   "source": [
    "HS_Sch_char_enroll_sup_exp_SA_IB_APmath_Alg1_2_merged_Cal.columns"
   ]
  },
  {
   "cell_type": "code",
   "execution_count": 494,
   "metadata": {},
   "outputs": [],
   "source": [
    "HS_Sch_char_enroll_sup_exp_SA_IB_APmath_Alg1_2_Cal=HS_Sch_char_enroll_sup_exp_SA_IB_APmath_Alg1_2_merged_Cal[['LEA_STATE_x', 'LEA_STATE_NAME_x', 'LEAID_x', 'LEA_NAME_x', 'SCHID_x',\n",
    "       'SCH_NAME_x', 'COMBOKEY_x', 'Special_ed_schl_new',\n",
    "       'Magnet_schl_new', 'Charter_Schl_new', 'Alternate_schl_new', 'NCESSCH', 'LEVEL','Total_enroll_students', 'SCH_FTETEACH_TOT', 'SCH_FTETEACH_CERT',\n",
    "       'SCH_FTETEACH_NOTCERT', 'FTE_teachers_count', 'SalaryforTeachers','Total_SAT_ACT_students', 'SCH_IBENR_IND_new', 'Total_IB_students','SCH_APENR_IND_new', 'SCH_APCOURSES', 'SCH_APMATHENR_IND_new',\n",
    "       'Total_AP_math_students', 'Total_students_tookAP','SCH_MATHCLASSES_ALG', 'SCH_MATHCERT_ALG', 'Total_Alg1_enroll_students','Total_Alg1_pass_students',\n",
    "        'SCH_MATHCLASSES_ALG2','SCH_MATHCERT_ALG2', 'Total_Alg2_enroll_students','SCH_MATHCLASSES_CALC','SCH_MATHCERT_CALC', 'Total_Calc_enroll_students']]"
   ]
  },
  {
   "cell_type": "code",
   "execution_count": 495,
   "metadata": {},
   "outputs": [
    {
     "data": {
      "text/plain": [
       "(20685, 37)"
      ]
     },
     "execution_count": 495,
     "metadata": {},
     "output_type": "execute_result"
    }
   ],
   "source": [
    "HS_Sch_char_enroll_sup_exp_SA_IB_APmath_Alg1_2_Cal.shape"
   ]
  },
  {
   "cell_type": "markdown",
   "metadata": {},
   "source": [
    "##### Merging with Geometry"
   ]
  },
  {
   "cell_type": "code",
   "execution_count": 496,
   "metadata": {},
   "outputs": [
    {
     "data": {
      "text/plain": [
       "(20685, 47)"
      ]
     },
     "execution_count": 496,
     "metadata": {},
     "output_type": "execute_result"
    }
   ],
   "source": [
    "HS_Sch_char_enroll_sup_exp_SA_IB_APmath_Alg1_2_Cal_merged_Geo= pandas.merge(left=HS_Sch_char_enroll_sup_exp_SA_IB_APmath_Alg1_2_Cal,right=Geometry_clean, how='left', left_on='NCESSCH', right_on='NCESSCH')\n",
    "HS_Sch_char_enroll_sup_exp_SA_IB_APmath_Alg1_2_Cal_merged_Geo.shape"
   ]
  },
  {
   "cell_type": "code",
   "execution_count": 497,
   "metadata": {},
   "outputs": [
    {
     "data": {
      "text/plain": [
       "Index(['LEA_STATE_x', 'LEA_STATE_NAME_x', 'LEAID_x', 'LEA_NAME_x', 'SCHID_x',\n",
       "       'SCH_NAME_x', 'COMBOKEY_x', 'Special_ed_schl_new', 'Magnet_schl_new',\n",
       "       'Charter_Schl_new', 'Alternate_schl_new', 'NCESSCH', 'LEVEL',\n",
       "       'Total_enroll_students', 'SCH_FTETEACH_TOT', 'SCH_FTETEACH_CERT',\n",
       "       'SCH_FTETEACH_NOTCERT', 'FTE_teachers_count', 'SalaryforTeachers',\n",
       "       'Total_SAT_ACT_students', 'SCH_IBENR_IND_new', 'Total_IB_students',\n",
       "       'SCH_APENR_IND_new', 'SCH_APCOURSES', 'SCH_APMATHENR_IND_new',\n",
       "       'Total_AP_math_students', 'Total_students_tookAP',\n",
       "       'SCH_MATHCLASSES_ALG', 'SCH_MATHCERT_ALG', 'Total_Alg1_enroll_students',\n",
       "       'Total_Alg1_pass_students', 'SCH_MATHCLASSES_ALG2', 'SCH_MATHCERT_ALG2',\n",
       "       'Total_Alg2_enroll_students', 'SCH_MATHCLASSES_CALC',\n",
       "       'SCH_MATHCERT_CALC', 'Total_Calc_enroll_students', 'LEA_STATE',\n",
       "       'LEA_STATE_NAME', 'LEAID', 'LEA_NAME', 'SCHID', 'SCH_NAME', 'COMBOKEY',\n",
       "       'SCH_MATHCERT_GEOM', 'SCH_MATHCLASSES_GEOM',\n",
       "       'Total_Geomty_enroll_students'],\n",
       "      dtype='object')"
      ]
     },
     "execution_count": 497,
     "metadata": {},
     "output_type": "execute_result"
    }
   ],
   "source": [
    "HS_Sch_char_enroll_sup_exp_SA_IB_APmath_Alg1_2_Cal_merged_Geo.columns"
   ]
  },
  {
   "cell_type": "code",
   "execution_count": 498,
   "metadata": {},
   "outputs": [],
   "source": [
    "HS_Sch_char_enroll_sup_exp_SA_IB_APmath_Alg1_2_Cal_Geo=HS_Sch_char_enroll_sup_exp_SA_IB_APmath_Alg1_2_Cal_merged_Geo[['LEA_STATE_x', 'LEA_STATE_NAME_x', 'LEAID_x', 'LEA_NAME_x', 'SCHID_x',\n",
    "       'SCH_NAME_x', 'COMBOKEY_x', 'Special_ed_schl_new',\n",
    "       'Magnet_schl_new', 'Charter_Schl_new', 'Alternate_schl_new', 'NCESSCH', 'LEVEL','Total_enroll_students', 'SCH_FTETEACH_TOT', 'SCH_FTETEACH_CERT',\n",
    "       'SCH_FTETEACH_NOTCERT', 'FTE_teachers_count', 'SalaryforTeachers','Total_SAT_ACT_students', 'SCH_IBENR_IND_new', 'Total_IB_students','SCH_APENR_IND_new', 'SCH_APCOURSES', 'SCH_APMATHENR_IND_new',\n",
    "       'Total_AP_math_students', 'Total_students_tookAP','SCH_MATHCLASSES_ALG', 'SCH_MATHCERT_ALG', 'Total_Alg1_enroll_students','Total_Alg1_pass_students',\n",
    "        'SCH_MATHCLASSES_ALG2','SCH_MATHCERT_ALG2', 'Total_Alg2_enroll_students','SCH_MATHCLASSES_CALC','SCH_MATHCERT_CALC', 'Total_Calc_enroll_students','SCH_MATHCERT_GEOM', 'SCH_MATHCLASSES_GEOM',\n",
    "       'Total_Geomty_enroll_students']]"
   ]
  },
  {
   "cell_type": "code",
   "execution_count": 499,
   "metadata": {},
   "outputs": [
    {
     "data": {
      "text/plain": [
       "(20685, 40)"
      ]
     },
     "execution_count": 499,
     "metadata": {},
     "output_type": "execute_result"
    }
   ],
   "source": [
    "HS_Sch_char_enroll_sup_exp_SA_IB_APmath_Alg1_2_Cal_Geo.shape"
   ]
  },
  {
   "cell_type": "code",
   "execution_count": 500,
   "metadata": {},
   "outputs": [
    {
     "data": {
      "text/plain": [
       "<matplotlib.axes._subplots.AxesSubplot at 0x7f8e54ea2bb0>"
      ]
     },
     "execution_count": 500,
     "metadata": {},
     "output_type": "execute_result"
    },
    {
     "data": {
      "image/png": "[encoded data removed]",
      "text/plain": [
       "<Figure size 432x288 with 2 Axes>"
      ]
     },
     "metadata": {
      "needs_background": "light"
     },
     "output_type": "display_data"
    }
   ],
   "source": [
    "sns.heatmap(HS_Sch_char_enroll_sup_exp_SA_IB_APmath_Alg1_2_Cal_Geo.isnull(),yticklabels=False,cbar=True,cmap='viridis')"
   ]
  },
  {
   "cell_type": "code",
   "execution_count": 501,
   "metadata": {},
   "outputs": [
    {
     "data": {
      "text/plain": [
       "<matplotlib.axes._subplots.AxesSubplot at 0x7f8e5451e190>"
      ]
     },
     "execution_count": 501,
     "metadata": {},
     "output_type": "execute_result"
    },
    {
     "data": {
      "image/png": "[encoded data removed]",
      "text/plain": [
       "<Figure size 432x288 with 2 Axes>"
      ]
     },
     "metadata": {
      "needs_background": "light"
     },
     "output_type": "display_data"
    }
   ],
   "source": [
    "sns.heatmap(HS_Sch_char_enroll_sup_exp_SA_IB_APmath_Alg1.isnull(),yticklabels=False,cbar=True,cmap='viridis')"
   ]
  },
  {
   "cell_type": "code",
   "execution_count": 502,
   "metadata": {},
   "outputs": [
    {
     "data": {
      "text/plain": [
       "Total_enroll_students            1\n",
       "SCH_FTETEACH_TOT               269\n",
       "SCH_FTETEACH_CERT              269\n",
       "SCH_FTETEACH_NOTCERT           269\n",
       "FTE_teachers_count             773\n",
       "SalaryforTeachers              773\n",
       "Total_SAT_ACT_students        3137\n",
       "SCH_IBENR_IND_new              402\n",
       "Total_IB_students              402\n",
       "SCH_APENR_IND_new              404\n",
       "SCH_APCOURSES                  404\n",
       "SCH_APMATHENR_IND_new          404\n",
       "Total_AP_math_students         404\n",
       "Total_students_tookAP          404\n",
       "SCH_MATHCLASSES_ALG           2056\n",
       "SCH_MATHCERT_ALG              2056\n",
       "Total_Alg1_enroll_students    2056\n",
       "Total_Alg1_pass_students      2056\n",
       "dtype: int64"
      ]
     },
     "execution_count": 502,
     "metadata": {},
     "output_type": "execute_result"
    }
   ],
   "source": [
    "null_columns=HS_Sch_char_enroll_sup_exp_SA_IB_APmath_Alg1.columns[HS_Sch_char_enroll_sup_exp_SA_IB_APmath_Alg1.isnull().any()]\n",
    "HS_Sch_char_enroll_sup_exp_SA_IB_APmath_Alg1[null_columns].isnull().sum()"
   ]
  },
  {
   "cell_type": "code",
   "execution_count": 503,
   "metadata": {},
   "outputs": [],
   "source": [
    "crdc_master_math = HS_Sch_char_enroll_sup_exp_SA_IB_APmath_Alg1.dropna(axis = 0, how ='any') "
   ]
  },
  {
   "cell_type": "code",
   "execution_count": 504,
   "metadata": {},
   "outputs": [
    {
     "name": "stdout",
     "output_type": "stream",
     "text": [
      "Old data frame length: 20685\n",
      "New data frame length: 16336\n",
      "Number of rows with at least 1 NA value:  4349\n"
     ]
    }
   ],
   "source": [
    "print(\"Old data frame length:\", len(HS_Sch_char_enroll_sup_exp_SA_IB_APmath_Alg1)) \n",
    "print(\"New data frame length:\", len(crdc_master_math))  \n",
    "print(\"Number of rows with at least 1 NA value: \", \n",
    "      (len(HS_Sch_char_enroll_sup_exp_SA_IB_APmath_Alg1)-len(crdc_master_math))) "
   ]
  },
  {
   "cell_type": "code",
   "execution_count": 505,
   "metadata": {},
   "outputs": [
    {
     "data": {
      "text/plain": [
       "(16336, 31)"
      ]
     },
     "execution_count": 505,
     "metadata": {},
     "output_type": "execute_result"
    }
   ],
   "source": [
    "crdc_master_math.shape"
   ]
  },
  {
   "cell_type": "code",
   "execution_count": 506,
   "metadata": {},
   "outputs": [
    {
     "data": {
      "text/plain": [
       "LEA_STATE_x                    object\n",
       "LEA_STATE_NAME_x               object\n",
       "LEAID_x                        object\n",
       "LEA_NAME_x                     object\n",
       "SCHID_x                        object\n",
       "SCH_NAME_x                     object\n",
       "COMBOKEY_x                     object\n",
       "Special_ed_schl_new             int64\n",
       "Magnet_schl_new                 int64\n",
       "Charter_Schl_new                int64\n",
       "Alternate_schl_new              int64\n",
       "NCESSCH                        object\n",
       "LEVEL                          object\n",
       "Total_enroll_students         float64\n",
       "SCH_FTETEACH_TOT              float64\n",
       "SCH_FTETEACH_CERT             float64\n",
       "SCH_FTETEACH_NOTCERT          float64\n",
       "FTE_teachers_count            float64\n",
       "SalaryforTeachers             float64\n",
       "Total_SAT_ACT_students        float64\n",
       "SCH_IBENR_IND_new             float64\n",
       "Total_IB_students             float64\n",
       "SCH_APENR_IND_new             float64\n",
       "SCH_APCOURSES                 float64\n",
       "SCH_APMATHENR_IND_new         float64\n",
       "Total_AP_math_students        float64\n",
       "Total_students_tookAP         float64\n",
       "SCH_MATHCLASSES_ALG           float64\n",
       "SCH_MATHCERT_ALG              float64\n",
       "Total_Alg1_enroll_students    float64\n",
       "Total_Alg1_pass_students      float64\n",
       "dtype: object"
      ]
     },
     "execution_count": 506,
     "metadata": {},
     "output_type": "execute_result"
    }
   ],
   "source": [
    "crdc_master_math.dtypes"
   ]
  },
  {
   "cell_type": "code",
   "execution_count": 507,
   "metadata": {},
   "outputs": [],
   "source": [
    "crdc_master_math.to_csv (r'/Users/dansari/Documents/GitHub/Identifying-features-to-predict-high-school-assessment-proficiency/Phase1/Data/CRDC/Clean_crdc_master_math.csv', index = False,header=True)"
   ]
  },
  {
   "cell_type": "code",
   "execution_count": null,
   "metadata": {},
   "outputs": [],
   "source": []
  }
 ],
 "metadata": {
  "kernelspec": {
   "display_name": "Python 3",
   "language": "python",
   "name": "python3"
  },
  "language_info": {
   "codemirror_mode": {
    "name": "ipython",
    "version": 3
   },
   "file_extension": ".py",
   "mimetype": "text/x-python",
   "name": "python",
   "nbconvert_exporter": "python",
   "pygments_lexer": "ipython3",
   "version": "3.8.3"
  }
 },
 "nbformat": 4,
 "nbformat_minor": 4
}
