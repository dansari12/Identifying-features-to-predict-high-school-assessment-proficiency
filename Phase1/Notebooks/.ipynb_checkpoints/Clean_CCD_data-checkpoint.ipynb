{
 "cells": [
  {
   "cell_type": "markdown",
   "metadata": {},
   "source": [
    "## Phase 1: Part 1: This notebook contains code that cleans and merges the four individual ccd files for school directory, characteristics, farms and staff files into a singular file"
   ]
  },
  {
   "cell_type": "markdown",
   "metadata": {},
   "source": [
    "### Loading necessary libraries"
   ]
  },
  {
   "cell_type": "code",
   "execution_count": 221,
   "metadata": {},
   "outputs": [],
   "source": [
    "import pandas\n",
    "pandas.__version__\n",
    "import numpy as np\n",
    "import matplotlib.pyplot as plt\n",
    "import seaborn as sns\n",
    "%matplotlib inline"
   ]
  },
  {
   "cell_type": "code",
   "execution_count": 222,
   "metadata": {},
   "outputs": [
    {
     "name": "stdout",
     "output_type": "stream",
     "text": [
      "C:\\Users\\dansa\\Documents\\GitHub\\Phase1\\Data\\CCD\n"
     ]
    }
   ],
   "source": [
    "cd /Users/dansa/Documents/GitHub/Phase1/Data/CCD"
   ]
  },
  {
   "cell_type": "markdown",
   "metadata": {},
   "source": [
    "### 1. Cleaning and checking directory file"
   ]
  },
  {
   "cell_type": "code",
   "execution_count": 223,
   "metadata": {},
   "outputs": [
    {
     "data": {
      "text/html": [
       "<div>\n",
       "<style scoped>\n",
       "    .dataframe tbody tr th:only-of-type {\n",
       "        vertical-align: middle;\n",
       "    }\n",
       "\n",
       "    .dataframe tbody tr th {\n",
       "        vertical-align: top;\n",
       "    }\n",
       "\n",
       "    .dataframe thead th {\n",
       "        text-align: right;\n",
       "    }\n",
       "</style>\n",
       "<table border=\"1\" class=\"dataframe\">\n",
       "  <thead>\n",
       "    <tr style=\"text-align: right;\">\n",
       "      <th></th>\n",
       "      <th>SCHOOL_YEAR</th>\n",
       "      <th>FIPST</th>\n",
       "      <th>STATENAME</th>\n",
       "      <th>ST</th>\n",
       "      <th>SCH_NAME</th>\n",
       "      <th>LEA_NAME</th>\n",
       "      <th>STATE_AGENCY_NO</th>\n",
       "      <th>UNION</th>\n",
       "      <th>ST_LEAID</th>\n",
       "      <th>LEAID</th>\n",
       "      <th>...</th>\n",
       "      <th>G_10_OFFERED</th>\n",
       "      <th>G_11_OFFERED</th>\n",
       "      <th>G_12_OFFERED</th>\n",
       "      <th>G_13_OFFERED</th>\n",
       "      <th>G_UG_OFFERED</th>\n",
       "      <th>G_AE_OFFERED</th>\n",
       "      <th>GSLO</th>\n",
       "      <th>GSHI</th>\n",
       "      <th>LEVEL</th>\n",
       "      <th>IGOFFERED</th>\n",
       "    </tr>\n",
       "  </thead>\n",
       "  <tbody>\n",
       "    <tr>\n",
       "      <th>0</th>\n",
       "      <td>2017-2018</td>\n",
       "      <td>1</td>\n",
       "      <td>ALABAMA</td>\n",
       "      <td>AL</td>\n",
       "      <td>Albertville Middle School</td>\n",
       "      <td>Albertville City</td>\n",
       "      <td>1</td>\n",
       "      <td>NaN</td>\n",
       "      <td>AL-101</td>\n",
       "      <td>100005</td>\n",
       "      <td>...</td>\n",
       "      <td>No</td>\n",
       "      <td>No</td>\n",
       "      <td>No</td>\n",
       "      <td>No</td>\n",
       "      <td>No</td>\n",
       "      <td>No</td>\n",
       "      <td>07</td>\n",
       "      <td>08</td>\n",
       "      <td>Middle</td>\n",
       "      <td>As reported</td>\n",
       "    </tr>\n",
       "    <tr>\n",
       "      <th>1</th>\n",
       "      <td>2017-2018</td>\n",
       "      <td>1</td>\n",
       "      <td>ALABAMA</td>\n",
       "      <td>AL</td>\n",
       "      <td>Albertville High School</td>\n",
       "      <td>Albertville City</td>\n",
       "      <td>1</td>\n",
       "      <td>NaN</td>\n",
       "      <td>AL-101</td>\n",
       "      <td>100005</td>\n",
       "      <td>...</td>\n",
       "      <td>Yes</td>\n",
       "      <td>Yes</td>\n",
       "      <td>Yes</td>\n",
       "      <td>No</td>\n",
       "      <td>No</td>\n",
       "      <td>No</td>\n",
       "      <td>09</td>\n",
       "      <td>12</td>\n",
       "      <td>High</td>\n",
       "      <td>As reported</td>\n",
       "    </tr>\n",
       "    <tr>\n",
       "      <th>2</th>\n",
       "      <td>2017-2018</td>\n",
       "      <td>1</td>\n",
       "      <td>ALABAMA</td>\n",
       "      <td>AL</td>\n",
       "      <td>Evans Elementary School</td>\n",
       "      <td>Albertville City</td>\n",
       "      <td>1</td>\n",
       "      <td>NaN</td>\n",
       "      <td>AL-101</td>\n",
       "      <td>100005</td>\n",
       "      <td>...</td>\n",
       "      <td>No</td>\n",
       "      <td>No</td>\n",
       "      <td>No</td>\n",
       "      <td>No</td>\n",
       "      <td>No</td>\n",
       "      <td>No</td>\n",
       "      <td>05</td>\n",
       "      <td>06</td>\n",
       "      <td>Middle</td>\n",
       "      <td>As reported</td>\n",
       "    </tr>\n",
       "    <tr>\n",
       "      <th>3</th>\n",
       "      <td>2017-2018</td>\n",
       "      <td>1</td>\n",
       "      <td>ALABAMA</td>\n",
       "      <td>AL</td>\n",
       "      <td>Albertville Elementary School</td>\n",
       "      <td>Albertville City</td>\n",
       "      <td>1</td>\n",
       "      <td>NaN</td>\n",
       "      <td>AL-101</td>\n",
       "      <td>100005</td>\n",
       "      <td>...</td>\n",
       "      <td>No</td>\n",
       "      <td>No</td>\n",
       "      <td>No</td>\n",
       "      <td>No</td>\n",
       "      <td>No</td>\n",
       "      <td>No</td>\n",
       "      <td>03</td>\n",
       "      <td>04</td>\n",
       "      <td>Elementary</td>\n",
       "      <td>As reported</td>\n",
       "    </tr>\n",
       "    <tr>\n",
       "      <th>4</th>\n",
       "      <td>2017-2018</td>\n",
       "      <td>1</td>\n",
       "      <td>ALABAMA</td>\n",
       "      <td>AL</td>\n",
       "      <td>Big Spring Lake Kindergarten School</td>\n",
       "      <td>Albertville City</td>\n",
       "      <td>1</td>\n",
       "      <td>NaN</td>\n",
       "      <td>AL-101</td>\n",
       "      <td>100005</td>\n",
       "      <td>...</td>\n",
       "      <td>No</td>\n",
       "      <td>No</td>\n",
       "      <td>No</td>\n",
       "      <td>No</td>\n",
       "      <td>No</td>\n",
       "      <td>No</td>\n",
       "      <td>KG</td>\n",
       "      <td>KG</td>\n",
       "      <td>Elementary</td>\n",
       "      <td>As reported</td>\n",
       "    </tr>\n",
       "  </tbody>\n",
       "</table>\n",
       "<p>5 rows × 65 columns</p>\n",
       "</div>"
      ],
      "text/plain": [
       "  SCHOOL_YEAR  FIPST STATENAME  ST                             SCH_NAME  \\\n",
       "0   2017-2018      1   ALABAMA  AL            Albertville Middle School   \n",
       "1   2017-2018      1   ALABAMA  AL              Albertville High School   \n",
       "2   2017-2018      1   ALABAMA  AL              Evans Elementary School   \n",
       "3   2017-2018      1   ALABAMA  AL        Albertville Elementary School   \n",
       "4   2017-2018      1   ALABAMA  AL  Big Spring Lake Kindergarten School   \n",
       "\n",
       "           LEA_NAME  STATE_AGENCY_NO  UNION ST_LEAID   LEAID     ...       \\\n",
       "0  Albertville City                1    NaN   AL-101  100005     ...        \n",
       "1  Albertville City                1    NaN   AL-101  100005     ...        \n",
       "2  Albertville City                1    NaN   AL-101  100005     ...        \n",
       "3  Albertville City                1    NaN   AL-101  100005     ...        \n",
       "4  Albertville City                1    NaN   AL-101  100005     ...        \n",
       "\n",
       "  G_10_OFFERED  G_11_OFFERED  G_12_OFFERED G_13_OFFERED G_UG_OFFERED  \\\n",
       "0           No            No            No           No           No   \n",
       "1          Yes           Yes           Yes           No           No   \n",
       "2           No            No            No           No           No   \n",
       "3           No            No            No           No           No   \n",
       "4           No            No            No           No           No   \n",
       "\n",
       "  G_AE_OFFERED GSLO GSHI       LEVEL    IGOFFERED  \n",
       "0           No   07   08      Middle  As reported  \n",
       "1           No   09   12        High  As reported  \n",
       "2           No   05   06      Middle  As reported  \n",
       "3           No   03   04  Elementary  As reported  \n",
       "4           No   KG   KG  Elementary  As reported  \n",
       "\n",
       "[5 rows x 65 columns]"
      ]
     },
     "execution_count": 223,
     "metadata": {},
     "output_type": "execute_result"
    }
   ],
   "source": [
    "ccd_directory = pandas.read_csv(\"ccd_DIRECTORY.csv\")\n",
    "ccd_directory.head()"
   ]
  },
  {
   "cell_type": "code",
   "execution_count": 224,
   "metadata": {},
   "outputs": [
    {
     "data": {
      "text/plain": [
       "Index(['SCHOOL_YEAR', 'FIPST', 'STATENAME', 'ST', 'SCH_NAME', 'LEA_NAME',\n",
       "       'STATE_AGENCY_NO', 'UNION', 'ST_LEAID', 'LEAID', 'ST_SCHID', 'NCESSCH',\n",
       "       'SCHID', 'MSTREET1', 'MSTREET2', 'MSTREET3', 'MCITY', 'MSTATE', 'MZIP',\n",
       "       'MZIP4', 'LSTREET1', 'LSTREET2', 'LSTREET3', 'LCITY', 'LSTATE', 'LZIP',\n",
       "       'LZIP4', 'PHONE', 'WEBSITE', 'SY_STATUS', 'SY_STATUS_TEXT',\n",
       "       'UPDATED_STATUS', 'UPDATED_STATUS_TEXT', 'EFFECTIVE_DATE',\n",
       "       'SCH_TYPE_TEXT', 'SCH_TYPE', 'RECON_STATUS', 'OUT_OF_STATE_FLAG',\n",
       "       'CHARTER_TEXT', 'CHARTAUTH1', 'CHARTAUTHN1', 'CHARTAUTH2',\n",
       "       'CHARTAUTHN2', 'NOGRADES', 'G_PK_OFFERED', 'G_KG_OFFERED',\n",
       "       'G_1_OFFERED', 'G_2_OFFERED', 'G_3_OFFERED', 'G_4_OFFERED',\n",
       "       'G_5_OFFERED', 'G_6_OFFERED', 'G_7_OFFERED', 'G_8_OFFERED',\n",
       "       'G_9_OFFERED', 'G_10_OFFERED', 'G_11_OFFERED', 'G_12_OFFERED',\n",
       "       'G_13_OFFERED', 'G_UG_OFFERED', 'G_AE_OFFERED', 'GSLO', 'GSHI', 'LEVEL',\n",
       "       'IGOFFERED'],\n",
       "      dtype='object')"
      ]
     },
     "execution_count": 224,
     "metadata": {},
     "output_type": "execute_result"
    }
   ],
   "source": [
    "ccd_directory.columns"
   ]
  },
  {
   "cell_type": "code",
   "execution_count": 225,
   "metadata": {},
   "outputs": [
    {
     "data": {
      "text/plain": [
       "(102337, 65)"
      ]
     },
     "execution_count": 225,
     "metadata": {},
     "output_type": "execute_result"
    }
   ],
   "source": [
    "ccd_directory.shape"
   ]
  },
  {
   "cell_type": "code",
   "execution_count": 226,
   "metadata": {},
   "outputs": [
    {
     "data": {
      "text/html": [
       "<div>\n",
       "<style scoped>\n",
       "    .dataframe tbody tr th:only-of-type {\n",
       "        vertical-align: middle;\n",
       "    }\n",
       "\n",
       "    .dataframe tbody tr th {\n",
       "        vertical-align: top;\n",
       "    }\n",
       "\n",
       "    .dataframe thead th {\n",
       "        text-align: right;\n",
       "    }\n",
       "</style>\n",
       "<table border=\"1\" class=\"dataframe\">\n",
       "  <thead>\n",
       "    <tr style=\"text-align: right;\">\n",
       "      <th></th>\n",
       "      <th>FIPST</th>\n",
       "      <th>STATE_AGENCY_NO</th>\n",
       "      <th>UNION</th>\n",
       "      <th>LEAID</th>\n",
       "      <th>NCESSCH</th>\n",
       "      <th>SCHID</th>\n",
       "      <th>MZIP</th>\n",
       "      <th>MZIP4</th>\n",
       "      <th>LZIP</th>\n",
       "      <th>LZIP4</th>\n",
       "      <th>SY_STATUS</th>\n",
       "      <th>UPDATED_STATUS</th>\n",
       "      <th>SCH_TYPE</th>\n",
       "    </tr>\n",
       "  </thead>\n",
       "  <tbody>\n",
       "    <tr>\n",
       "      <th>count</th>\n",
       "      <td>102337.000000</td>\n",
       "      <td>102337.0</td>\n",
       "      <td>2480.000000</td>\n",
       "      <td>1.023370e+05</td>\n",
       "      <td>1.023370e+05</td>\n",
       "      <td>1.023370e+05</td>\n",
       "      <td>102337.000000</td>\n",
       "      <td>61850.000000</td>\n",
       "      <td>102337.000000</td>\n",
       "      <td>59923.000000</td>\n",
       "      <td>102337.000000</td>\n",
       "      <td>102337.000000</td>\n",
       "      <td>102337.000000</td>\n",
       "    </tr>\n",
       "    <tr>\n",
       "      <th>mean</th>\n",
       "      <td>28.935351</td>\n",
       "      <td>1.0</td>\n",
       "      <td>208.239919</td>\n",
       "      <td>2.905028e+06</td>\n",
       "      <td>2.905028e+11</td>\n",
       "      <td>2.896572e+06</td>\n",
       "      <td>53561.530258</td>\n",
       "      <td>3824.594568</td>\n",
       "      <td>53562.155437</td>\n",
       "      <td>4024.047127</td>\n",
       "      <td>1.090945</td>\n",
       "      <td>1.090300</td>\n",
       "      <td>1.220047</td>\n",
       "    </tr>\n",
       "    <tr>\n",
       "      <th>std</th>\n",
       "      <td>16.736069</td>\n",
       "      <td>0.0</td>\n",
       "      <td>125.575282</td>\n",
       "      <td>1.673215e+06</td>\n",
       "      <td>1.673215e+11</td>\n",
       "      <td>1.673399e+06</td>\n",
       "      <td>29195.160562</td>\n",
       "      <td>2818.031388</td>\n",
       "      <td>29195.888315</td>\n",
       "      <td>2791.179159</td>\n",
       "      <td>0.579787</td>\n",
       "      <td>0.574096</td>\n",
       "      <td>0.734463</td>\n",
       "    </tr>\n",
       "    <tr>\n",
       "      <th>min</th>\n",
       "      <td>1.000000</td>\n",
       "      <td>1.0</td>\n",
       "      <td>1.000000</td>\n",
       "      <td>1.000050e+05</td>\n",
       "      <td>1.000050e+10</td>\n",
       "      <td>1.000010e+05</td>\n",
       "      <td>601.000000</td>\n",
       "      <td>1.000000</td>\n",
       "      <td>601.000000</td>\n",
       "      <td>1.000000</td>\n",
       "      <td>1.000000</td>\n",
       "      <td>1.000000</td>\n",
       "      <td>1.000000</td>\n",
       "    </tr>\n",
       "    <tr>\n",
       "      <th>25%</th>\n",
       "      <td>13.000000</td>\n",
       "      <td>1.0</td>\n",
       "      <td>51.000000</td>\n",
       "      <td>1.302550e+06</td>\n",
       "      <td>1.302550e+11</td>\n",
       "      <td>1.302303e+06</td>\n",
       "      <td>30028.000000</td>\n",
       "      <td>1620.000000</td>\n",
       "      <td>30028.000000</td>\n",
       "      <td>1821.500000</td>\n",
       "      <td>1.000000</td>\n",
       "      <td>1.000000</td>\n",
       "      <td>1.000000</td>\n",
       "    </tr>\n",
       "    <tr>\n",
       "      <th>50%</th>\n",
       "      <td>29.000000</td>\n",
       "      <td>1.0</td>\n",
       "      <td>300.000000</td>\n",
       "      <td>2.906120e+06</td>\n",
       "      <td>2.906120e+11</td>\n",
       "      <td>2.900478e+06</td>\n",
       "      <td>54937.000000</td>\n",
       "      <td>3115.000000</td>\n",
       "      <td>54935.000000</td>\n",
       "      <td>3301.000000</td>\n",
       "      <td>1.000000</td>\n",
       "      <td>1.000000</td>\n",
       "      <td>1.000000</td>\n",
       "    </tr>\n",
       "    <tr>\n",
       "      <th>75%</th>\n",
       "      <td>42.000000</td>\n",
       "      <td>1.0</td>\n",
       "      <td>300.000000</td>\n",
       "      <td>4.218990e+06</td>\n",
       "      <td>4.218990e+11</td>\n",
       "      <td>4.205294e+06</td>\n",
       "      <td>78521.000000</td>\n",
       "      <td>5331.000000</td>\n",
       "      <td>78521.000000</td>\n",
       "      <td>5586.500000</td>\n",
       "      <td>1.000000</td>\n",
       "      <td>1.000000</td>\n",
       "      <td>1.000000</td>\n",
       "    </tr>\n",
       "    <tr>\n",
       "      <th>max</th>\n",
       "      <td>78.000000</td>\n",
       "      <td>1.0</td>\n",
       "      <td>301.000000</td>\n",
       "      <td>7.800030e+06</td>\n",
       "      <td>7.800030e+11</td>\n",
       "      <td>7.800037e+06</td>\n",
       "      <td>99950.000000</td>\n",
       "      <td>9999.000000</td>\n",
       "      <td>99950.000000</td>\n",
       "      <td>9999.000000</td>\n",
       "      <td>8.000000</td>\n",
       "      <td>8.000000</td>\n",
       "      <td>4.000000</td>\n",
       "    </tr>\n",
       "  </tbody>\n",
       "</table>\n",
       "</div>"
      ],
      "text/plain": [
       "               FIPST  STATE_AGENCY_NO        UNION         LEAID  \\\n",
       "count  102337.000000         102337.0  2480.000000  1.023370e+05   \n",
       "mean       28.935351              1.0   208.239919  2.905028e+06   \n",
       "std        16.736069              0.0   125.575282  1.673215e+06   \n",
       "min         1.000000              1.0     1.000000  1.000050e+05   \n",
       "25%        13.000000              1.0    51.000000  1.302550e+06   \n",
       "50%        29.000000              1.0   300.000000  2.906120e+06   \n",
       "75%        42.000000              1.0   300.000000  4.218990e+06   \n",
       "max        78.000000              1.0   301.000000  7.800030e+06   \n",
       "\n",
       "            NCESSCH         SCHID           MZIP         MZIP4           LZIP  \\\n",
       "count  1.023370e+05  1.023370e+05  102337.000000  61850.000000  102337.000000   \n",
       "mean   2.905028e+11  2.896572e+06   53561.530258   3824.594568   53562.155437   \n",
       "std    1.673215e+11  1.673399e+06   29195.160562   2818.031388   29195.888315   \n",
       "min    1.000050e+10  1.000010e+05     601.000000      1.000000     601.000000   \n",
       "25%    1.302550e+11  1.302303e+06   30028.000000   1620.000000   30028.000000   \n",
       "50%    2.906120e+11  2.900478e+06   54937.000000   3115.000000   54935.000000   \n",
       "75%    4.218990e+11  4.205294e+06   78521.000000   5331.000000   78521.000000   \n",
       "max    7.800030e+11  7.800037e+06   99950.000000   9999.000000   99950.000000   \n",
       "\n",
       "              LZIP4      SY_STATUS  UPDATED_STATUS       SCH_TYPE  \n",
       "count  59923.000000  102337.000000   102337.000000  102337.000000  \n",
       "mean    4024.047127       1.090945        1.090300       1.220047  \n",
       "std     2791.179159       0.579787        0.574096       0.734463  \n",
       "min        1.000000       1.000000        1.000000       1.000000  \n",
       "25%     1821.500000       1.000000        1.000000       1.000000  \n",
       "50%     3301.000000       1.000000        1.000000       1.000000  \n",
       "75%     5586.500000       1.000000        1.000000       1.000000  \n",
       "max     9999.000000       8.000000        8.000000       4.000000  "
      ]
     },
     "execution_count": 226,
     "metadata": {},
     "output_type": "execute_result"
    }
   ],
   "source": [
    "ccd_directory.describe()"
   ]
  },
  {
   "cell_type": "markdown",
   "metadata": {},
   "source": [
    "#### Checking for missing or null values"
   ]
  },
  {
   "cell_type": "code",
   "execution_count": 227,
   "metadata": {},
   "outputs": [
    {
     "data": {
      "text/plain": [
       "<matplotlib.axes._subplots.AxesSubplot at 0x199e388b0f0>"
      ]
     },
     "execution_count": 227,
     "metadata": {},
     "output_type": "execute_result"
    },
    {
     "data": {
      "image/png": "[encoded data removed]",
      "text/plain": [
       "<Figure size 432x288 with 2 Axes>"
      ]
     },
     "metadata": {
      "needs_background": "light"
     },
     "output_type": "display_data"
    }
   ],
   "source": [
    "sns.heatmap(ccd_directory.isnull(),yticklabels=False,cbar=True,cmap='viridis')"
   ]
  },
  {
   "cell_type": "code",
   "execution_count": 228,
   "metadata": {},
   "outputs": [
    {
     "data": {
      "text/plain": [
       "UNION           99857\n",
       "MSTREET2       100556\n",
       "MSTREET3       102309\n",
       "MZIP4           40487\n",
       "LSTREET1            2\n",
       "LSTREET2       101729\n",
       "LSTREET3       102326\n",
       "LZIP4           42414\n",
       "WEBSITE         45311\n",
       "CHARTAUTH1      95584\n",
       "CHARTAUTHN1     95584\n",
       "CHARTAUTH2     102212\n",
       "CHARTAUTHN2    102212\n",
       "dtype: int64"
      ]
     },
     "execution_count": 228,
     "metadata": {},
     "output_type": "execute_result"
    }
   ],
   "source": [
    "null_columns=ccd_directory.columns[ccd_directory.isnull().any()]\n",
    "ccd_directory[null_columns].isnull().sum()"
   ]
  },
  {
   "cell_type": "markdown",
   "metadata": {},
   "source": [
    "We see alot of columns have null values but since we wont be using these columns in our analysis we can drop these and any other unneccessary columns from further analysis"
   ]
  },
  {
   "cell_type": "code",
   "execution_count": 229,
   "metadata": {},
   "outputs": [],
   "source": [
    "#ccd_directory.head().T"
   ]
  },
  {
   "cell_type": "markdown",
   "metadata": {},
   "source": [
    "##### Dropping unnecessary columns "
   ]
  },
  {
   "cell_type": "code",
   "execution_count": 230,
   "metadata": {},
   "outputs": [],
   "source": [
    "ccd_directory.drop(ccd_directory.columns[[1,2,7,13,14,15,16,17,18,19,20,21,22,23,24,25,26,27,28,30,31,32,33,36,37,38,39,40,41,42,43,44,45,46,47,48,49,50,51,52,53,54,55,56,\n",
    "                                         57,58,59,60,61,62,64]], axis=1, inplace=True)"
   ]
  },
  {
   "cell_type": "markdown",
   "metadata": {},
   "source": [
    "##### The NCESSCH is a federally assigned school ID that is 12strings long with leading zeros, so lets correct that"
   ]
  },
  {
   "cell_type": "code",
   "execution_count": 231,
   "metadata": {},
   "outputs": [],
   "source": [
    "ccd_directory['NCESSCH'] = ccd_directory['NCESSCH'].apply(lambda x: '{0:0>12}'.format(x))"
   ]
  },
  {
   "cell_type": "code",
   "execution_count": 232,
   "metadata": {},
   "outputs": [],
   "source": [
    "#ccd_directory.head()"
   ]
  },
  {
   "cell_type": "markdown",
   "metadata": {},
   "source": [
    "##### Checking for missing or null values"
   ]
  },
  {
   "cell_type": "code",
   "execution_count": 233,
   "metadata": {},
   "outputs": [
    {
     "data": {
      "text/plain": [
       "<matplotlib.axes._subplots.AxesSubplot at 0x19980f52208>"
      ]
     },
     "execution_count": 233,
     "metadata": {},
     "output_type": "execute_result"
    },
    {
     "data": {
      "image/png": "[encoded data removed]",
      "text/plain": [
       "<Figure size 432x288 with 2 Axes>"
      ]
     },
     "metadata": {
      "needs_background": "light"
     },
     "output_type": "display_data"
    }
   ],
   "source": [
    "sns.heatmap(ccd_directory.isnull(),yticklabels=False,cbar=True,cmap='viridis')"
   ]
  },
  {
   "cell_type": "markdown",
   "metadata": {},
   "source": [
    "Now are remaining data contains no missing values"
   ]
  },
  {
   "cell_type": "code",
   "execution_count": 234,
   "metadata": {},
   "outputs": [
    {
     "data": {
      "text/plain": [
       "True"
      ]
     },
     "execution_count": 234,
     "metadata": {},
     "output_type": "execute_result"
    }
   ],
   "source": [
    "ccd_directory['NCESSCH'].is_unique # checking to see if there are any schools that are duplicated, based on the ids all our schools are unique"
   ]
  },
  {
   "cell_type": "code",
   "execution_count": 235,
   "metadata": {},
   "outputs": [
    {
     "data": {
      "text/plain": [
       "(102337, 14)"
      ]
     },
     "execution_count": 235,
     "metadata": {},
     "output_type": "execute_result"
    }
   ],
   "source": [
    "ccd_directory.shape"
   ]
  },
  {
   "cell_type": "code",
   "execution_count": 236,
   "metadata": {},
   "outputs": [
    {
     "name": "stdout",
     "output_type": "stream",
     "text": [
      "Elementary         53401\n",
      "High               23100\n",
      "Middle             16549\n",
      "Other               3849\n",
      "Not Reported        2339\n",
      "Prekindergarten     1483\n",
      "Not Applicable       818\n",
      "Secondary            604\n",
      "Ungraded             166\n",
      "Adult Education       28\n",
      "Name: LEVEL, dtype: int64\n"
     ]
    }
   ],
   "source": [
    "count = ccd_directory['LEVEL'].value_counts()\n",
    "print(count)"
   ]
  },
  {
   "cell_type": "markdown",
   "metadata": {},
   "source": [
    "##### So we see there are schools of different levels included in the directory but we are only interested in high schools so we will need to filter those schools out, but we will do that later."
   ]
  },
  {
   "cell_type": "code",
   "execution_count": 237,
   "metadata": {},
   "outputs": [],
   "source": [
    "#ccd_directory.describe()"
   ]
  },
  {
   "cell_type": "code",
   "execution_count": 238,
   "metadata": {},
   "outputs": [],
   "source": [
    "#ccd_directory.hist()"
   ]
  },
  {
   "cell_type": "markdown",
   "metadata": {},
   "source": [
    "Let's save a copy of this file"
   ]
  },
  {
   "cell_type": "code",
   "execution_count": 239,
   "metadata": {},
   "outputs": [],
   "source": [
    "ccd_directory.to_csv (r'/Users/dansa/Documents/GitHub/Phase1/Data/CCD/Clean_ccd_directory.csv', index = False, header=True)"
   ]
  },
  {
   "cell_type": "markdown",
   "metadata": {},
   "source": [
    "### 2. Cleaning and checking characteristics file"
   ]
  },
  {
   "cell_type": "code",
   "execution_count": 240,
   "metadata": {},
   "outputs": [
    {
     "data": {
      "text/html": [
       "<div>\n",
       "<style scoped>\n",
       "    .dataframe tbody tr th:only-of-type {\n",
       "        vertical-align: middle;\n",
       "    }\n",
       "\n",
       "    .dataframe tbody tr th {\n",
       "        vertical-align: top;\n",
       "    }\n",
       "\n",
       "    .dataframe thead th {\n",
       "        text-align: right;\n",
       "    }\n",
       "</style>\n",
       "<table border=\"1\" class=\"dataframe\">\n",
       "  <thead>\n",
       "    <tr style=\"text-align: right;\">\n",
       "      <th></th>\n",
       "      <th>SCHOOL_YEAR</th>\n",
       "      <th>FIPST</th>\n",
       "      <th>STATENAME</th>\n",
       "      <th>ST</th>\n",
       "      <th>SCH_NAME</th>\n",
       "      <th>STATE_AGENCY_NO</th>\n",
       "      <th>UNION</th>\n",
       "      <th>ST_LEAID</th>\n",
       "      <th>LEAID</th>\n",
       "      <th>ST_SCHID</th>\n",
       "      <th>NCESSCH</th>\n",
       "      <th>SCHID</th>\n",
       "      <th>SHARED_TIME</th>\n",
       "      <th>TITLEI_STATUS</th>\n",
       "      <th>TITLEI_STATUS_TEXT</th>\n",
       "      <th>MAGNET_TEXT</th>\n",
       "      <th>NSLP_STATUS</th>\n",
       "      <th>NSLP_STATUS_TEXT</th>\n",
       "      <th>VIRTUAL</th>\n",
       "      <th>VIRTUAL_TEXT</th>\n",
       "    </tr>\n",
       "  </thead>\n",
       "  <tbody>\n",
       "    <tr>\n",
       "      <th>0</th>\n",
       "      <td>2017-2018</td>\n",
       "      <td>1</td>\n",
       "      <td>ALABAMA</td>\n",
       "      <td>AL</td>\n",
       "      <td>Albertville Middle School</td>\n",
       "      <td>1</td>\n",
       "      <td>NaN</td>\n",
       "      <td>AL-101</td>\n",
       "      <td>100005</td>\n",
       "      <td>AL-101-0010</td>\n",
       "      <td>10000500870</td>\n",
       "      <td>100870</td>\n",
       "      <td>No</td>\n",
       "      <td>SWELIGSWPROG</td>\n",
       "      <td>Title I schoolwide school</td>\n",
       "      <td>No</td>\n",
       "      <td>NSLPCEO</td>\n",
       "      <td>Yes under Community Eligibility Option (CEO)</td>\n",
       "      <td>NOTVIRTUAL</td>\n",
       "      <td>Not Virtual</td>\n",
       "    </tr>\n",
       "    <tr>\n",
       "      <th>1</th>\n",
       "      <td>2017-2018</td>\n",
       "      <td>1</td>\n",
       "      <td>ALABAMA</td>\n",
       "      <td>AL</td>\n",
       "      <td>Albertville High School</td>\n",
       "      <td>1</td>\n",
       "      <td>NaN</td>\n",
       "      <td>AL-101</td>\n",
       "      <td>100005</td>\n",
       "      <td>AL-101-0020</td>\n",
       "      <td>10000500871</td>\n",
       "      <td>100871</td>\n",
       "      <td>No</td>\n",
       "      <td>SWELIGSWPROG</td>\n",
       "      <td>Title I schoolwide school</td>\n",
       "      <td>No</td>\n",
       "      <td>NSLPCEO</td>\n",
       "      <td>Yes under Community Eligibility Option (CEO)</td>\n",
       "      <td>NOTVIRTUAL</td>\n",
       "      <td>Not Virtual</td>\n",
       "    </tr>\n",
       "    <tr>\n",
       "      <th>2</th>\n",
       "      <td>2017-2018</td>\n",
       "      <td>1</td>\n",
       "      <td>ALABAMA</td>\n",
       "      <td>AL</td>\n",
       "      <td>Evans Elementary School</td>\n",
       "      <td>1</td>\n",
       "      <td>NaN</td>\n",
       "      <td>AL-101</td>\n",
       "      <td>100005</td>\n",
       "      <td>AL-101-0110</td>\n",
       "      <td>10000500879</td>\n",
       "      <td>100879</td>\n",
       "      <td>No</td>\n",
       "      <td>SWELIGSWPROG</td>\n",
       "      <td>Title I schoolwide school</td>\n",
       "      <td>No</td>\n",
       "      <td>NSLPCEO</td>\n",
       "      <td>Yes under Community Eligibility Option (CEO)</td>\n",
       "      <td>NOTVIRTUAL</td>\n",
       "      <td>Not Virtual</td>\n",
       "    </tr>\n",
       "    <tr>\n",
       "      <th>3</th>\n",
       "      <td>2017-2018</td>\n",
       "      <td>1</td>\n",
       "      <td>ALABAMA</td>\n",
       "      <td>AL</td>\n",
       "      <td>Albertville Elementary School</td>\n",
       "      <td>1</td>\n",
       "      <td>NaN</td>\n",
       "      <td>AL-101</td>\n",
       "      <td>100005</td>\n",
       "      <td>AL-101-0200</td>\n",
       "      <td>10000500889</td>\n",
       "      <td>100889</td>\n",
       "      <td>No</td>\n",
       "      <td>SWELIGSWPROG</td>\n",
       "      <td>Title I schoolwide school</td>\n",
       "      <td>No</td>\n",
       "      <td>NSLPCEO</td>\n",
       "      <td>Yes under Community Eligibility Option (CEO)</td>\n",
       "      <td>NOTVIRTUAL</td>\n",
       "      <td>Not Virtual</td>\n",
       "    </tr>\n",
       "    <tr>\n",
       "      <th>4</th>\n",
       "      <td>2017-2018</td>\n",
       "      <td>1</td>\n",
       "      <td>ALABAMA</td>\n",
       "      <td>AL</td>\n",
       "      <td>Big Spring Lake Kindergarten School</td>\n",
       "      <td>1</td>\n",
       "      <td>NaN</td>\n",
       "      <td>AL-101</td>\n",
       "      <td>100005</td>\n",
       "      <td>AL-101-0035</td>\n",
       "      <td>10000501616</td>\n",
       "      <td>101616</td>\n",
       "      <td>No</td>\n",
       "      <td>SWELIGSWPROG</td>\n",
       "      <td>Title I schoolwide school</td>\n",
       "      <td>No</td>\n",
       "      <td>NSLPCEO</td>\n",
       "      <td>Yes under Community Eligibility Option (CEO)</td>\n",
       "      <td>NOTVIRTUAL</td>\n",
       "      <td>Not Virtual</td>\n",
       "    </tr>\n",
       "  </tbody>\n",
       "</table>\n",
       "</div>"
      ],
      "text/plain": [
       "  SCHOOL_YEAR  FIPST STATENAME  ST                             SCH_NAME  \\\n",
       "0   2017-2018      1   ALABAMA  AL            Albertville Middle School   \n",
       "1   2017-2018      1   ALABAMA  AL              Albertville High School   \n",
       "2   2017-2018      1   ALABAMA  AL              Evans Elementary School   \n",
       "3   2017-2018      1   ALABAMA  AL        Albertville Elementary School   \n",
       "4   2017-2018      1   ALABAMA  AL  Big Spring Lake Kindergarten School   \n",
       "\n",
       "   STATE_AGENCY_NO  UNION ST_LEAID   LEAID     ST_SCHID      NCESSCH   SCHID  \\\n",
       "0                1    NaN   AL-101  100005  AL-101-0010  10000500870  100870   \n",
       "1                1    NaN   AL-101  100005  AL-101-0020  10000500871  100871   \n",
       "2                1    NaN   AL-101  100005  AL-101-0110  10000500879  100879   \n",
       "3                1    NaN   AL-101  100005  AL-101-0200  10000500889  100889   \n",
       "4                1    NaN   AL-101  100005  AL-101-0035  10000501616  101616   \n",
       "\n",
       "  SHARED_TIME TITLEI_STATUS         TITLEI_STATUS_TEXT MAGNET_TEXT  \\\n",
       "0          No  SWELIGSWPROG  Title I schoolwide school          No   \n",
       "1          No  SWELIGSWPROG  Title I schoolwide school          No   \n",
       "2          No  SWELIGSWPROG  Title I schoolwide school          No   \n",
       "3          No  SWELIGSWPROG  Title I schoolwide school          No   \n",
       "4          No  SWELIGSWPROG  Title I schoolwide school          No   \n",
       "\n",
       "  NSLP_STATUS                              NSLP_STATUS_TEXT     VIRTUAL  \\\n",
       "0     NSLPCEO  Yes under Community Eligibility Option (CEO)  NOTVIRTUAL   \n",
       "1     NSLPCEO  Yes under Community Eligibility Option (CEO)  NOTVIRTUAL   \n",
       "2     NSLPCEO  Yes under Community Eligibility Option (CEO)  NOTVIRTUAL   \n",
       "3     NSLPCEO  Yes under Community Eligibility Option (CEO)  NOTVIRTUAL   \n",
       "4     NSLPCEO  Yes under Community Eligibility Option (CEO)  NOTVIRTUAL   \n",
       "\n",
       "  VIRTUAL_TEXT  \n",
       "0  Not Virtual  \n",
       "1  Not Virtual  \n",
       "2  Not Virtual  \n",
       "3  Not Virtual  \n",
       "4  Not Virtual  "
      ]
     },
     "execution_count": 240,
     "metadata": {},
     "output_type": "execute_result"
    }
   ],
   "source": [
    "ccd_character = pandas.read_csv(\"ccd_CHARACTER.csv\")\n",
    "ccd_character.head()"
   ]
  },
  {
   "cell_type": "code",
   "execution_count": 241,
   "metadata": {},
   "outputs": [
    {
     "name": "stdout",
     "output_type": "stream",
     "text": [
      "SWELIGSWPROG     47572\n",
      "NOTTITLE1ELIG    27843\n",
      "TGELGBTGPROG      9359\n",
      "SWELIGNOPROG      6178\n",
      "TGELGBNOPROG      5306\n",
      "SWELIGTGPROG      2509\n",
      "MISSING            957\n",
      "Not reported       175\n",
      "Name: TITLEI_STATUS, dtype: int64\n"
     ]
    }
   ],
   "source": [
    "count = ccd_character['TITLEI_STATUS'].value_counts()\n",
    "print(count)"
   ]
  },
  {
   "cell_type": "markdown",
   "metadata": {},
   "source": [
    "Some values are missing and not reported we will have to remember to handle this later in our analysis"
   ]
  },
  {
   "cell_type": "code",
   "execution_count": 242,
   "metadata": {},
   "outputs": [
    {
     "data": {
      "text/plain": [
       "Index(['SCHOOL_YEAR', 'FIPST', 'STATENAME', 'ST', 'SCH_NAME',\n",
       "       'STATE_AGENCY_NO', 'UNION', 'ST_LEAID', 'LEAID', 'ST_SCHID', 'NCESSCH',\n",
       "       'SCHID', 'SHARED_TIME', 'TITLEI_STATUS', 'TITLEI_STATUS_TEXT',\n",
       "       'MAGNET_TEXT', 'NSLP_STATUS', 'NSLP_STATUS_TEXT', 'VIRTUAL',\n",
       "       'VIRTUAL_TEXT'],\n",
       "      dtype='object')"
      ]
     },
     "execution_count": 242,
     "metadata": {},
     "output_type": "execute_result"
    }
   ],
   "source": [
    "ccd_character.columns"
   ]
  },
  {
   "cell_type": "code",
   "execution_count": 243,
   "metadata": {},
   "outputs": [
    {
     "data": {
      "text/plain": [
       "(99899, 20)"
      ]
     },
     "execution_count": 243,
     "metadata": {},
     "output_type": "execute_result"
    }
   ],
   "source": [
    "ccd_character.shape"
   ]
  },
  {
   "cell_type": "code",
   "execution_count": 244,
   "metadata": {},
   "outputs": [
    {
     "data": {
      "text/html": [
       "<div>\n",
       "<style scoped>\n",
       "    .dataframe tbody tr th:only-of-type {\n",
       "        vertical-align: middle;\n",
       "    }\n",
       "\n",
       "    .dataframe tbody tr th {\n",
       "        vertical-align: top;\n",
       "    }\n",
       "\n",
       "    .dataframe thead th {\n",
       "        text-align: right;\n",
       "    }\n",
       "</style>\n",
       "<table border=\"1\" class=\"dataframe\">\n",
       "  <thead>\n",
       "    <tr style=\"text-align: right;\">\n",
       "      <th></th>\n",
       "      <th>FIPST</th>\n",
       "      <th>STATE_AGENCY_NO</th>\n",
       "      <th>UNION</th>\n",
       "      <th>LEAID</th>\n",
       "      <th>NCESSCH</th>\n",
       "      <th>SCHID</th>\n",
       "    </tr>\n",
       "  </thead>\n",
       "  <tbody>\n",
       "    <tr>\n",
       "      <th>count</th>\n",
       "      <td>99899.000000</td>\n",
       "      <td>99899.0</td>\n",
       "      <td>2461.000000</td>\n",
       "      <td>9.989900e+04</td>\n",
       "      <td>9.989900e+04</td>\n",
       "      <td>9.989900e+04</td>\n",
       "    </tr>\n",
       "    <tr>\n",
       "      <th>mean</th>\n",
       "      <td>28.845214</td>\n",
       "      <td>1.0</td>\n",
       "      <td>207.949208</td>\n",
       "      <td>2.896025e+06</td>\n",
       "      <td>2.896025e+11</td>\n",
       "      <td>2.887513e+06</td>\n",
       "    </tr>\n",
       "    <tr>\n",
       "      <th>std</th>\n",
       "      <td>16.651172</td>\n",
       "      <td>0.0</td>\n",
       "      <td>125.678333</td>\n",
       "      <td>1.664674e+06</td>\n",
       "      <td>1.664674e+11</td>\n",
       "      <td>1.664877e+06</td>\n",
       "    </tr>\n",
       "    <tr>\n",
       "      <th>min</th>\n",
       "      <td>1.000000</td>\n",
       "      <td>1.0</td>\n",
       "      <td>1.000000</td>\n",
       "      <td>1.000050e+05</td>\n",
       "      <td>1.000050e+10</td>\n",
       "      <td>1.000010e+05</td>\n",
       "    </tr>\n",
       "    <tr>\n",
       "      <th>25%</th>\n",
       "      <td>13.000000</td>\n",
       "      <td>1.0</td>\n",
       "      <td>51.000000</td>\n",
       "      <td>1.302610e+06</td>\n",
       "      <td>1.302610e+11</td>\n",
       "      <td>1.302382e+06</td>\n",
       "    </tr>\n",
       "    <tr>\n",
       "      <th>50%</th>\n",
       "      <td>29.000000</td>\n",
       "      <td>1.0</td>\n",
       "      <td>300.000000</td>\n",
       "      <td>2.904140e+06</td>\n",
       "      <td>2.904140e+11</td>\n",
       "      <td>2.900318e+06</td>\n",
       "    </tr>\n",
       "    <tr>\n",
       "      <th>75%</th>\n",
       "      <td>42.000000</td>\n",
       "      <td>1.0</td>\n",
       "      <td>300.000000</td>\n",
       "      <td>4.217010e+06</td>\n",
       "      <td>4.217010e+11</td>\n",
       "      <td>4.204346e+06</td>\n",
       "    </tr>\n",
       "    <tr>\n",
       "      <th>max</th>\n",
       "      <td>78.000000</td>\n",
       "      <td>1.0</td>\n",
       "      <td>301.000000</td>\n",
       "      <td>7.800030e+06</td>\n",
       "      <td>7.800030e+11</td>\n",
       "      <td>7.800037e+06</td>\n",
       "    </tr>\n",
       "  </tbody>\n",
       "</table>\n",
       "</div>"
      ],
      "text/plain": [
       "              FIPST  STATE_AGENCY_NO        UNION         LEAID       NCESSCH  \\\n",
       "count  99899.000000          99899.0  2461.000000  9.989900e+04  9.989900e+04   \n",
       "mean      28.845214              1.0   207.949208  2.896025e+06  2.896025e+11   \n",
       "std       16.651172              0.0   125.678333  1.664674e+06  1.664674e+11   \n",
       "min        1.000000              1.0     1.000000  1.000050e+05  1.000050e+10   \n",
       "25%       13.000000              1.0    51.000000  1.302610e+06  1.302610e+11   \n",
       "50%       29.000000              1.0   300.000000  2.904140e+06  2.904140e+11   \n",
       "75%       42.000000              1.0   300.000000  4.217010e+06  4.217010e+11   \n",
       "max       78.000000              1.0   301.000000  7.800030e+06  7.800030e+11   \n",
       "\n",
       "              SCHID  \n",
       "count  9.989900e+04  \n",
       "mean   2.887513e+06  \n",
       "std    1.664877e+06  \n",
       "min    1.000010e+05  \n",
       "25%    1.302382e+06  \n",
       "50%    2.900318e+06  \n",
       "75%    4.204346e+06  \n",
       "max    7.800037e+06  "
      ]
     },
     "execution_count": 244,
     "metadata": {},
     "output_type": "execute_result"
    }
   ],
   "source": [
    "ccd_character.describe()"
   ]
  },
  {
   "cell_type": "markdown",
   "metadata": {},
   "source": [
    "##### Checking for missing or null values"
   ]
  },
  {
   "cell_type": "code",
   "execution_count": 245,
   "metadata": {},
   "outputs": [
    {
     "data": {
      "text/plain": [
       "<matplotlib.axes._subplots.AxesSubplot at 0x199e618f390>"
      ]
     },
     "execution_count": 245,
     "metadata": {},
     "output_type": "execute_result"
    },
    {
     "data": {
      "image/png": "[encoded data removed]",
      "text/plain": [
       "<Figure size 432x288 with 2 Axes>"
      ]
     },
     "metadata": {
      "needs_background": "light"
     },
     "output_type": "display_data"
    }
   ],
   "source": [
    "sns.heatmap(ccd_character.isnull(),yticklabels=False,cbar=True,cmap='viridis')"
   ]
  },
  {
   "cell_type": "code",
   "execution_count": 246,
   "metadata": {},
   "outputs": [
    {
     "data": {
      "text/plain": [
       "UNION    97438\n",
       "dtype: int64"
      ]
     },
     "execution_count": 246,
     "metadata": {},
     "output_type": "execute_result"
    }
   ],
   "source": [
    "null_columns=ccd_character.columns[ccd_character.isnull().any()]\n",
    "ccd_character[null_columns].isnull().sum()"
   ]
  },
  {
   "cell_type": "markdown",
   "metadata": {},
   "source": [
    "We see the Union column has null values but since we wont be using this column in our analysis we can drop this column and any other unnecessary columns from further analysis"
   ]
  },
  {
   "cell_type": "markdown",
   "metadata": {},
   "source": [
    "##### Dropping unnecessary columns "
   ]
  },
  {
   "cell_type": "code",
   "execution_count": 247,
   "metadata": {},
   "outputs": [],
   "source": [
    "ccd_character.drop(ccd_character.columns[[0,1,2,3,5,6,7,8,9,11,12,15,16,17,18,19]], axis=1, inplace=True)"
   ]
  },
  {
   "cell_type": "code",
   "execution_count": 248,
   "metadata": {},
   "outputs": [
    {
     "data": {
      "text/plain": [
       "Index(['SCH_NAME', 'NCESSCH', 'TITLEI_STATUS', 'TITLEI_STATUS_TEXT'], dtype='object')"
      ]
     },
     "execution_count": 248,
     "metadata": {},
     "output_type": "execute_result"
    }
   ],
   "source": [
    "ccd_character.columns"
   ]
  },
  {
   "cell_type": "markdown",
   "metadata": {},
   "source": [
    "##### The NCESSCH is a federally assigned school ID that is 12strings long with leading zeros, so lets correct that"
   ]
  },
  {
   "cell_type": "code",
   "execution_count": 249,
   "metadata": {},
   "outputs": [],
   "source": [
    "ccd_character['NCESSCH'] = ccd_character['NCESSCH'].apply(lambda x: '{0:0>12}'.format(x))"
   ]
  },
  {
   "cell_type": "code",
   "execution_count": 250,
   "metadata": {},
   "outputs": [
    {
     "data": {
      "text/html": [
       "<div>\n",
       "<style scoped>\n",
       "    .dataframe tbody tr th:only-of-type {\n",
       "        vertical-align: middle;\n",
       "    }\n",
       "\n",
       "    .dataframe tbody tr th {\n",
       "        vertical-align: top;\n",
       "    }\n",
       "\n",
       "    .dataframe thead th {\n",
       "        text-align: right;\n",
       "    }\n",
       "</style>\n",
       "<table border=\"1\" class=\"dataframe\">\n",
       "  <thead>\n",
       "    <tr style=\"text-align: right;\">\n",
       "      <th></th>\n",
       "      <th>SCH_NAME</th>\n",
       "      <th>NCESSCH</th>\n",
       "      <th>TITLEI_STATUS</th>\n",
       "      <th>TITLEI_STATUS_TEXT</th>\n",
       "    </tr>\n",
       "  </thead>\n",
       "  <tbody>\n",
       "    <tr>\n",
       "      <th>0</th>\n",
       "      <td>Albertville Middle School</td>\n",
       "      <td>010000500870</td>\n",
       "      <td>SWELIGSWPROG</td>\n",
       "      <td>Title I schoolwide school</td>\n",
       "    </tr>\n",
       "    <tr>\n",
       "      <th>1</th>\n",
       "      <td>Albertville High School</td>\n",
       "      <td>010000500871</td>\n",
       "      <td>SWELIGSWPROG</td>\n",
       "      <td>Title I schoolwide school</td>\n",
       "    </tr>\n",
       "    <tr>\n",
       "      <th>2</th>\n",
       "      <td>Evans Elementary School</td>\n",
       "      <td>010000500879</td>\n",
       "      <td>SWELIGSWPROG</td>\n",
       "      <td>Title I schoolwide school</td>\n",
       "    </tr>\n",
       "    <tr>\n",
       "      <th>3</th>\n",
       "      <td>Albertville Elementary School</td>\n",
       "      <td>010000500889</td>\n",
       "      <td>SWELIGSWPROG</td>\n",
       "      <td>Title I schoolwide school</td>\n",
       "    </tr>\n",
       "    <tr>\n",
       "      <th>4</th>\n",
       "      <td>Big Spring Lake Kindergarten School</td>\n",
       "      <td>010000501616</td>\n",
       "      <td>SWELIGSWPROG</td>\n",
       "      <td>Title I schoolwide school</td>\n",
       "    </tr>\n",
       "  </tbody>\n",
       "</table>\n",
       "</div>"
      ],
      "text/plain": [
       "                              SCH_NAME       NCESSCH TITLEI_STATUS  \\\n",
       "0            Albertville Middle School  010000500870  SWELIGSWPROG   \n",
       "1              Albertville High School  010000500871  SWELIGSWPROG   \n",
       "2              Evans Elementary School  010000500879  SWELIGSWPROG   \n",
       "3        Albertville Elementary School  010000500889  SWELIGSWPROG   \n",
       "4  Big Spring Lake Kindergarten School  010000501616  SWELIGSWPROG   \n",
       "\n",
       "          TITLEI_STATUS_TEXT  \n",
       "0  Title I schoolwide school  \n",
       "1  Title I schoolwide school  \n",
       "2  Title I schoolwide school  \n",
       "3  Title I schoolwide school  \n",
       "4  Title I schoolwide school  "
      ]
     },
     "execution_count": 250,
     "metadata": {},
     "output_type": "execute_result"
    }
   ],
   "source": [
    "ccd_character.head()"
   ]
  },
  {
   "cell_type": "code",
   "execution_count": 251,
   "metadata": {},
   "outputs": [],
   "source": [
    "#ccd_character['NCESSCH'].is_unique"
   ]
  },
  {
   "cell_type": "code",
   "execution_count": 252,
   "metadata": {},
   "outputs": [
    {
     "data": {
      "text/plain": [
       "<matplotlib.axes._subplots.AxesSubplot at 0x19980f62358>"
      ]
     },
     "execution_count": 252,
     "metadata": {},
     "output_type": "execute_result"
    },
    {
     "data": {
      "image/png": "[encoded data removed]",
      "text/plain": [
       "<Figure size 432x288 with 2 Axes>"
      ]
     },
     "metadata": {
      "needs_background": "light"
     },
     "output_type": "display_data"
    }
   ],
   "source": [
    "sns.heatmap(ccd_character.isnull(),yticklabels=False,cbar=True,cmap='viridis')"
   ]
  },
  {
   "cell_type": "markdown",
   "metadata": {},
   "source": [
    "Now are remaining data contains no missing values"
   ]
  },
  {
   "cell_type": "code",
   "execution_count": 253,
   "metadata": {},
   "outputs": [
    {
     "data": {
      "text/plain": [
       "(99899, 4)"
      ]
     },
     "execution_count": 253,
     "metadata": {},
     "output_type": "execute_result"
    }
   ],
   "source": [
    "ccd_character.shape"
   ]
  },
  {
   "cell_type": "code",
   "execution_count": 254,
   "metadata": {},
   "outputs": [
    {
     "data": {
      "text/html": [
       "<div>\n",
       "<style scoped>\n",
       "    .dataframe tbody tr th:only-of-type {\n",
       "        vertical-align: middle;\n",
       "    }\n",
       "\n",
       "    .dataframe tbody tr th {\n",
       "        vertical-align: top;\n",
       "    }\n",
       "\n",
       "    .dataframe thead th {\n",
       "        text-align: right;\n",
       "    }\n",
       "</style>\n",
       "<table border=\"1\" class=\"dataframe\">\n",
       "  <thead>\n",
       "    <tr style=\"text-align: right;\">\n",
       "      <th></th>\n",
       "      <th>SCH_NAME</th>\n",
       "      <th>NCESSCH</th>\n",
       "      <th>TITLEI_STATUS</th>\n",
       "      <th>TITLEI_STATUS_TEXT</th>\n",
       "    </tr>\n",
       "  </thead>\n",
       "  <tbody>\n",
       "    <tr>\n",
       "      <th>count</th>\n",
       "      <td>99899</td>\n",
       "      <td>99899</td>\n",
       "      <td>99899</td>\n",
       "      <td>99899</td>\n",
       "    </tr>\n",
       "    <tr>\n",
       "      <th>unique</th>\n",
       "      <td>87741</td>\n",
       "      <td>99899</td>\n",
       "      <td>8</td>\n",
       "      <td>8</td>\n",
       "    </tr>\n",
       "    <tr>\n",
       "      <th>top</th>\n",
       "      <td>Lincoln Elementary School</td>\n",
       "      <td>500824600346</td>\n",
       "      <td>SWELIGSWPROG</td>\n",
       "      <td>Title I schoolwide school</td>\n",
       "    </tr>\n",
       "    <tr>\n",
       "      <th>freq</th>\n",
       "      <td>64</td>\n",
       "      <td>1</td>\n",
       "      <td>47572</td>\n",
       "      <td>47572</td>\n",
       "    </tr>\n",
       "  </tbody>\n",
       "</table>\n",
       "</div>"
      ],
      "text/plain": [
       "                         SCH_NAME       NCESSCH TITLEI_STATUS  \\\n",
       "count                       99899         99899         99899   \n",
       "unique                      87741         99899             8   \n",
       "top     Lincoln Elementary School  500824600346  SWELIGSWPROG   \n",
       "freq                           64             1         47572   \n",
       "\n",
       "               TITLEI_STATUS_TEXT  \n",
       "count                       99899  \n",
       "unique                          8  \n",
       "top     Title I schoolwide school  \n",
       "freq                        47572  "
      ]
     },
     "execution_count": 254,
     "metadata": {},
     "output_type": "execute_result"
    }
   ],
   "source": [
    "ccd_character.describe()"
   ]
  },
  {
   "cell_type": "code",
   "execution_count": 255,
   "metadata": {},
   "outputs": [],
   "source": [
    "ccd_character.to_csv (r'/Users/dansa/Documents/GitHub/Phase1/Data/CCD/Clean_ccd_character.csv', index = False, header=True)"
   ]
  },
  {
   "cell_type": "markdown",
   "metadata": {},
   "source": [
    "#### 3. Cleaning and checking farms file\n",
    "##### Farms refers to students who are eligible for free and reduced priced meals at the school due to their families' low income status"
   ]
  },
  {
   "cell_type": "code",
   "execution_count": 256,
   "metadata": {},
   "outputs": [
    {
     "data": {
      "text/html": [
       "<div>\n",
       "<style scoped>\n",
       "    .dataframe tbody tr th:only-of-type {\n",
       "        vertical-align: middle;\n",
       "    }\n",
       "\n",
       "    .dataframe tbody tr th {\n",
       "        vertical-align: top;\n",
       "    }\n",
       "\n",
       "    .dataframe thead th {\n",
       "        text-align: right;\n",
       "    }\n",
       "</style>\n",
       "<table border=\"1\" class=\"dataframe\">\n",
       "  <thead>\n",
       "    <tr style=\"text-align: right;\">\n",
       "      <th></th>\n",
       "      <th>SCHOOL_YEAR</th>\n",
       "      <th>FIPST</th>\n",
       "      <th>STATENAME</th>\n",
       "      <th>ST</th>\n",
       "      <th>SCH_NAME</th>\n",
       "      <th>STATE_AGENCY_NO</th>\n",
       "      <th>UNION</th>\n",
       "      <th>ST_LEAID</th>\n",
       "      <th>LEAID</th>\n",
       "      <th>ST_SCHID</th>\n",
       "      <th>NCESSCH</th>\n",
       "      <th>SCHID</th>\n",
       "      <th>DATA_GROUP</th>\n",
       "      <th>LUNCH_PROGRAM</th>\n",
       "      <th>STUDENT_COUNT</th>\n",
       "      <th>TOTAL_INDICATOR</th>\n",
       "      <th>DMS_FLAG</th>\n",
       "    </tr>\n",
       "  </thead>\n",
       "  <tbody>\n",
       "    <tr>\n",
       "      <th>0</th>\n",
       "      <td>2017-2018</td>\n",
       "      <td>1</td>\n",
       "      <td>ALABAMA</td>\n",
       "      <td>AL</td>\n",
       "      <td>Albertville Middle School</td>\n",
       "      <td>1</td>\n",
       "      <td>NaN</td>\n",
       "      <td>AL-101</td>\n",
       "      <td>100005</td>\n",
       "      <td>AL-101-0010</td>\n",
       "      <td>10000500870</td>\n",
       "      <td>100870</td>\n",
       "      <td>Free and Reduced-price Lunch Table</td>\n",
       "      <td>Free lunch qualified</td>\n",
       "      <td>518.0</td>\n",
       "      <td>Category Set A</td>\n",
       "      <td>Reported</td>\n",
       "    </tr>\n",
       "    <tr>\n",
       "      <th>1</th>\n",
       "      <td>2017-2018</td>\n",
       "      <td>1</td>\n",
       "      <td>ALABAMA</td>\n",
       "      <td>AL</td>\n",
       "      <td>Albertville Middle School</td>\n",
       "      <td>1</td>\n",
       "      <td>NaN</td>\n",
       "      <td>AL-101</td>\n",
       "      <td>100005</td>\n",
       "      <td>AL-101-0010</td>\n",
       "      <td>10000500870</td>\n",
       "      <td>100870</td>\n",
       "      <td>Free and Reduced-price Lunch Table</td>\n",
       "      <td>Reduced-price lunch qualified</td>\n",
       "      <td>52.0</td>\n",
       "      <td>Category Set A</td>\n",
       "      <td>Reported</td>\n",
       "    </tr>\n",
       "    <tr>\n",
       "      <th>2</th>\n",
       "      <td>2017-2018</td>\n",
       "      <td>1</td>\n",
       "      <td>ALABAMA</td>\n",
       "      <td>AL</td>\n",
       "      <td>Albertville Middle School</td>\n",
       "      <td>1</td>\n",
       "      <td>NaN</td>\n",
       "      <td>AL-101</td>\n",
       "      <td>100005</td>\n",
       "      <td>AL-101-0010</td>\n",
       "      <td>10000500870</td>\n",
       "      <td>100870</td>\n",
       "      <td>Free and Reduced-price Lunch Table</td>\n",
       "      <td>Missing</td>\n",
       "      <td>NaN</td>\n",
       "      <td>Category Set A</td>\n",
       "      <td>Not reported</td>\n",
       "    </tr>\n",
       "    <tr>\n",
       "      <th>3</th>\n",
       "      <td>2017-2018</td>\n",
       "      <td>1</td>\n",
       "      <td>ALABAMA</td>\n",
       "      <td>AL</td>\n",
       "      <td>Albertville Middle School</td>\n",
       "      <td>1</td>\n",
       "      <td>NaN</td>\n",
       "      <td>AL-101</td>\n",
       "      <td>100005</td>\n",
       "      <td>AL-101-0010</td>\n",
       "      <td>10000500870</td>\n",
       "      <td>100870</td>\n",
       "      <td>Direct Certification</td>\n",
       "      <td>Not Applicable</td>\n",
       "      <td>290.0</td>\n",
       "      <td>Education Unit Total</td>\n",
       "      <td>Reported</td>\n",
       "    </tr>\n",
       "    <tr>\n",
       "      <th>4</th>\n",
       "      <td>2017-2018</td>\n",
       "      <td>1</td>\n",
       "      <td>ALABAMA</td>\n",
       "      <td>AL</td>\n",
       "      <td>Albertville Middle School</td>\n",
       "      <td>1</td>\n",
       "      <td>NaN</td>\n",
       "      <td>AL-101</td>\n",
       "      <td>100005</td>\n",
       "      <td>AL-101-0010</td>\n",
       "      <td>10000500870</td>\n",
       "      <td>100870</td>\n",
       "      <td>Free and Reduced-price Lunch Table</td>\n",
       "      <td>No Category Codes</td>\n",
       "      <td>570.0</td>\n",
       "      <td>Education Unit Total</td>\n",
       "      <td>Reported</td>\n",
       "    </tr>\n",
       "  </tbody>\n",
       "</table>\n",
       "</div>"
      ],
      "text/plain": [
       "  SCHOOL_YEAR  FIPST STATENAME  ST                   SCH_NAME  \\\n",
       "0   2017-2018      1   ALABAMA  AL  Albertville Middle School   \n",
       "1   2017-2018      1   ALABAMA  AL  Albertville Middle School   \n",
       "2   2017-2018      1   ALABAMA  AL  Albertville Middle School   \n",
       "3   2017-2018      1   ALABAMA  AL  Albertville Middle School   \n",
       "4   2017-2018      1   ALABAMA  AL  Albertville Middle School   \n",
       "\n",
       "   STATE_AGENCY_NO  UNION ST_LEAID   LEAID     ST_SCHID      NCESSCH   SCHID  \\\n",
       "0                1    NaN   AL-101  100005  AL-101-0010  10000500870  100870   \n",
       "1                1    NaN   AL-101  100005  AL-101-0010  10000500870  100870   \n",
       "2                1    NaN   AL-101  100005  AL-101-0010  10000500870  100870   \n",
       "3                1    NaN   AL-101  100005  AL-101-0010  10000500870  100870   \n",
       "4                1    NaN   AL-101  100005  AL-101-0010  10000500870  100870   \n",
       "\n",
       "                           DATA_GROUP                  LUNCH_PROGRAM  \\\n",
       "0  Free and Reduced-price Lunch Table           Free lunch qualified   \n",
       "1  Free and Reduced-price Lunch Table  Reduced-price lunch qualified   \n",
       "2  Free and Reduced-price Lunch Table                        Missing   \n",
       "3                Direct Certification                 Not Applicable   \n",
       "4  Free and Reduced-price Lunch Table              No Category Codes   \n",
       "\n",
       "   STUDENT_COUNT       TOTAL_INDICATOR      DMS_FLAG  \n",
       "0          518.0        Category Set A      Reported  \n",
       "1           52.0        Category Set A      Reported  \n",
       "2            NaN        Category Set A  Not reported  \n",
       "3          290.0  Education Unit Total      Reported  \n",
       "4          570.0  Education Unit Total      Reported  "
      ]
     },
     "execution_count": 256,
     "metadata": {},
     "output_type": "execute_result"
    }
   ],
   "source": [
    "ccd_farms= pandas.read_csv(\"ccd_FARMS.csv\")\n",
    "ccd_farms.head()"
   ]
  },
  {
   "cell_type": "code",
   "execution_count": 257,
   "metadata": {},
   "outputs": [
    {
     "data": {
      "text/plain": [
       "Index(['SCHOOL_YEAR', 'FIPST', 'STATENAME', 'ST', 'SCH_NAME',\n",
       "       'STATE_AGENCY_NO', 'UNION', 'ST_LEAID', 'LEAID', 'ST_SCHID', 'NCESSCH',\n",
       "       'SCHID', 'DATA_GROUP', 'LUNCH_PROGRAM', 'STUDENT_COUNT',\n",
       "       'TOTAL_INDICATOR', 'DMS_FLAG'],\n",
       "      dtype='object')"
      ]
     },
     "execution_count": 257,
     "metadata": {},
     "output_type": "execute_result"
    }
   ],
   "source": [
    "ccd_farms.columns"
   ]
  },
  {
   "cell_type": "code",
   "execution_count": 258,
   "metadata": {},
   "outputs": [
    {
     "data": {
      "text/plain": [
       "(494745, 17)"
      ]
     },
     "execution_count": 258,
     "metadata": {},
     "output_type": "execute_result"
    }
   ],
   "source": [
    "ccd_farms.shape"
   ]
  },
  {
   "cell_type": "code",
   "execution_count": 259,
   "metadata": {},
   "outputs": [
    {
     "data": {
      "text/html": [
       "<div>\n",
       "<style scoped>\n",
       "    .dataframe tbody tr th:only-of-type {\n",
       "        vertical-align: middle;\n",
       "    }\n",
       "\n",
       "    .dataframe tbody tr th {\n",
       "        vertical-align: top;\n",
       "    }\n",
       "\n",
       "    .dataframe thead th {\n",
       "        text-align: right;\n",
       "    }\n",
       "</style>\n",
       "<table border=\"1\" class=\"dataframe\">\n",
       "  <thead>\n",
       "    <tr style=\"text-align: right;\">\n",
       "      <th></th>\n",
       "      <th>FIPST</th>\n",
       "      <th>STATE_AGENCY_NO</th>\n",
       "      <th>UNION</th>\n",
       "      <th>LEAID</th>\n",
       "      <th>NCESSCH</th>\n",
       "      <th>SCHID</th>\n",
       "      <th>STUDENT_COUNT</th>\n",
       "    </tr>\n",
       "  </thead>\n",
       "  <tbody>\n",
       "    <tr>\n",
       "      <th>count</th>\n",
       "      <td>494745.000000</td>\n",
       "      <td>494745.0</td>\n",
       "      <td>12305.000000</td>\n",
       "      <td>4.947450e+05</td>\n",
       "      <td>4.947450e+05</td>\n",
       "      <td>4.947450e+05</td>\n",
       "      <td>295346.000000</td>\n",
       "    </tr>\n",
       "    <tr>\n",
       "      <th>mean</th>\n",
       "      <td>28.849316</td>\n",
       "      <td>1.0</td>\n",
       "      <td>207.949208</td>\n",
       "      <td>2.896478e+06</td>\n",
       "      <td>2.896478e+11</td>\n",
       "      <td>2.887909e+06</td>\n",
       "      <td>187.854317</td>\n",
       "    </tr>\n",
       "    <tr>\n",
       "      <th>std</th>\n",
       "      <td>16.645236</td>\n",
       "      <td>0.0</td>\n",
       "      <td>125.657902</td>\n",
       "      <td>1.664128e+06</td>\n",
       "      <td>1.664128e+11</td>\n",
       "      <td>1.664310e+06</td>\n",
       "      <td>241.446465</td>\n",
       "    </tr>\n",
       "    <tr>\n",
       "      <th>min</th>\n",
       "      <td>1.000000</td>\n",
       "      <td>1.0</td>\n",
       "      <td>1.000000</td>\n",
       "      <td>1.000050e+05</td>\n",
       "      <td>1.000050e+10</td>\n",
       "      <td>1.000010e+05</td>\n",
       "      <td>0.000000</td>\n",
       "    </tr>\n",
       "    <tr>\n",
       "      <th>25%</th>\n",
       "      <td>13.000000</td>\n",
       "      <td>1.0</td>\n",
       "      <td>51.000000</td>\n",
       "      <td>1.302880e+06</td>\n",
       "      <td>1.302880e+11</td>\n",
       "      <td>1.302476e+06</td>\n",
       "      <td>28.000000</td>\n",
       "    </tr>\n",
       "    <tr>\n",
       "      <th>50%</th>\n",
       "      <td>29.000000</td>\n",
       "      <td>1.0</td>\n",
       "      <td>300.000000</td>\n",
       "      <td>2.905940e+06</td>\n",
       "      <td>2.905940e+11</td>\n",
       "      <td>2.900428e+06</td>\n",
       "      <td>100.000000</td>\n",
       "    </tr>\n",
       "    <tr>\n",
       "      <th>75%</th>\n",
       "      <td>42.000000</td>\n",
       "      <td>1.0</td>\n",
       "      <td>300.000000</td>\n",
       "      <td>4.216860e+06</td>\n",
       "      <td>4.216860e+11</td>\n",
       "      <td>4.204189e+06</td>\n",
       "      <td>269.000000</td>\n",
       "    </tr>\n",
       "    <tr>\n",
       "      <th>max</th>\n",
       "      <td>78.000000</td>\n",
       "      <td>1.0</td>\n",
       "      <td>301.000000</td>\n",
       "      <td>7.800030e+06</td>\n",
       "      <td>7.800030e+11</td>\n",
       "      <td>7.800037e+06</td>\n",
       "      <td>9626.000000</td>\n",
       "    </tr>\n",
       "  </tbody>\n",
       "</table>\n",
       "</div>"
      ],
      "text/plain": [
       "               FIPST  STATE_AGENCY_NO         UNION         LEAID  \\\n",
       "count  494745.000000         494745.0  12305.000000  4.947450e+05   \n",
       "mean       28.849316              1.0    207.949208  2.896478e+06   \n",
       "std        16.645236              0.0    125.657902  1.664128e+06   \n",
       "min         1.000000              1.0      1.000000  1.000050e+05   \n",
       "25%        13.000000              1.0     51.000000  1.302880e+06   \n",
       "50%        29.000000              1.0    300.000000  2.905940e+06   \n",
       "75%        42.000000              1.0    300.000000  4.216860e+06   \n",
       "max        78.000000              1.0    301.000000  7.800030e+06   \n",
       "\n",
       "            NCESSCH         SCHID  STUDENT_COUNT  \n",
       "count  4.947450e+05  4.947450e+05  295346.000000  \n",
       "mean   2.896478e+11  2.887909e+06     187.854317  \n",
       "std    1.664128e+11  1.664310e+06     241.446465  \n",
       "min    1.000050e+10  1.000010e+05       0.000000  \n",
       "25%    1.302880e+11  1.302476e+06      28.000000  \n",
       "50%    2.905940e+11  2.900428e+06     100.000000  \n",
       "75%    4.216860e+11  4.204189e+06     269.000000  \n",
       "max    7.800030e+11  7.800037e+06    9626.000000  "
      ]
     },
     "execution_count": 259,
     "metadata": {},
     "output_type": "execute_result"
    }
   ],
   "source": [
    "ccd_farms.describe()"
   ]
  },
  {
   "cell_type": "markdown",
   "metadata": {},
   "source": [
    "##### Checking for missing or null values"
   ]
  },
  {
   "cell_type": "code",
   "execution_count": 260,
   "metadata": {},
   "outputs": [
    {
     "data": {
      "text/plain": [
       "<matplotlib.axes._subplots.AxesSubplot at 0x19907149a90>"
      ]
     },
     "execution_count": 260,
     "metadata": {},
     "output_type": "execute_result"
    },
    {
     "data": {
      "image/png": "[encoded data removed]",
      "text/plain": [
       "<Figure size 432x288 with 2 Axes>"
      ]
     },
     "metadata": {
      "needs_background": "light"
     },
     "output_type": "display_data"
    }
   ],
   "source": [
    "sns.heatmap(ccd_farms.isnull(),yticklabels=False,cbar=True,cmap='viridis')"
   ]
  },
  {
   "cell_type": "code",
   "execution_count": 261,
   "metadata": {},
   "outputs": [
    {
     "data": {
      "text/plain": [
       "UNION            482440\n",
       "STUDENT_COUNT    199399\n",
       "dtype: int64"
      ]
     },
     "execution_count": 261,
     "metadata": {},
     "output_type": "execute_result"
    }
   ],
   "source": [
    "null_columns=ccd_farms.columns[ccd_farms.isnull().any()]\n",
    "ccd_farms[null_columns].isnull().sum()"
   ]
  },
  {
   "cell_type": "markdown",
   "metadata": {},
   "source": [
    "We see the Union and Student_count columns have null values but since we wont be using the Union column in our analysis we can drop this column and any other unnecessary columns from further analysis"
   ]
  },
  {
   "cell_type": "markdown",
   "metadata": {},
   "source": [
    "##### Dropping unnecessary columns "
   ]
  },
  {
   "cell_type": "code",
   "execution_count": 262,
   "metadata": {},
   "outputs": [],
   "source": [
    "ccd_farms.drop(ccd_farms.columns[[0,1,2,3,5,6,7,8,9,11]], axis=1, inplace=True)"
   ]
  },
  {
   "cell_type": "markdown",
   "metadata": {},
   "source": [
    "##### The NCESSCH is a federally assigned school ID that is 12strings long with leading zeros, so lets correct that"
   ]
  },
  {
   "cell_type": "code",
   "execution_count": 263,
   "metadata": {},
   "outputs": [],
   "source": [
    "ccd_farms['NCESSCH'] = ccd_farms['NCESSCH'].apply(lambda x: '{0:0>12}'.format(x))"
   ]
  },
  {
   "cell_type": "code",
   "execution_count": 264,
   "metadata": {},
   "outputs": [
    {
     "data": {
      "text/html": [
       "<div>\n",
       "<style scoped>\n",
       "    .dataframe tbody tr th:only-of-type {\n",
       "        vertical-align: middle;\n",
       "    }\n",
       "\n",
       "    .dataframe tbody tr th {\n",
       "        vertical-align: top;\n",
       "    }\n",
       "\n",
       "    .dataframe thead th {\n",
       "        text-align: right;\n",
       "    }\n",
       "</style>\n",
       "<table border=\"1\" class=\"dataframe\">\n",
       "  <thead>\n",
       "    <tr style=\"text-align: right;\">\n",
       "      <th></th>\n",
       "      <th>SCH_NAME</th>\n",
       "      <th>NCESSCH</th>\n",
       "      <th>DATA_GROUP</th>\n",
       "      <th>LUNCH_PROGRAM</th>\n",
       "      <th>STUDENT_COUNT</th>\n",
       "      <th>TOTAL_INDICATOR</th>\n",
       "      <th>DMS_FLAG</th>\n",
       "    </tr>\n",
       "  </thead>\n",
       "  <tbody>\n",
       "    <tr>\n",
       "      <th>0</th>\n",
       "      <td>Albertville Middle School</td>\n",
       "      <td>010000500870</td>\n",
       "      <td>Free and Reduced-price Lunch Table</td>\n",
       "      <td>Free lunch qualified</td>\n",
       "      <td>518.0</td>\n",
       "      <td>Category Set A</td>\n",
       "      <td>Reported</td>\n",
       "    </tr>\n",
       "    <tr>\n",
       "      <th>1</th>\n",
       "      <td>Albertville Middle School</td>\n",
       "      <td>010000500870</td>\n",
       "      <td>Free and Reduced-price Lunch Table</td>\n",
       "      <td>Reduced-price lunch qualified</td>\n",
       "      <td>52.0</td>\n",
       "      <td>Category Set A</td>\n",
       "      <td>Reported</td>\n",
       "    </tr>\n",
       "    <tr>\n",
       "      <th>2</th>\n",
       "      <td>Albertville Middle School</td>\n",
       "      <td>010000500870</td>\n",
       "      <td>Free and Reduced-price Lunch Table</td>\n",
       "      <td>Missing</td>\n",
       "      <td>NaN</td>\n",
       "      <td>Category Set A</td>\n",
       "      <td>Not reported</td>\n",
       "    </tr>\n",
       "    <tr>\n",
       "      <th>3</th>\n",
       "      <td>Albertville Middle School</td>\n",
       "      <td>010000500870</td>\n",
       "      <td>Direct Certification</td>\n",
       "      <td>Not Applicable</td>\n",
       "      <td>290.0</td>\n",
       "      <td>Education Unit Total</td>\n",
       "      <td>Reported</td>\n",
       "    </tr>\n",
       "    <tr>\n",
       "      <th>4</th>\n",
       "      <td>Albertville Middle School</td>\n",
       "      <td>010000500870</td>\n",
       "      <td>Free and Reduced-price Lunch Table</td>\n",
       "      <td>No Category Codes</td>\n",
       "      <td>570.0</td>\n",
       "      <td>Education Unit Total</td>\n",
       "      <td>Reported</td>\n",
       "    </tr>\n",
       "  </tbody>\n",
       "</table>\n",
       "</div>"
      ],
      "text/plain": [
       "                    SCH_NAME       NCESSCH  \\\n",
       "0  Albertville Middle School  010000500870   \n",
       "1  Albertville Middle School  010000500870   \n",
       "2  Albertville Middle School  010000500870   \n",
       "3  Albertville Middle School  010000500870   \n",
       "4  Albertville Middle School  010000500870   \n",
       "\n",
       "                           DATA_GROUP                  LUNCH_PROGRAM  \\\n",
       "0  Free and Reduced-price Lunch Table           Free lunch qualified   \n",
       "1  Free and Reduced-price Lunch Table  Reduced-price lunch qualified   \n",
       "2  Free and Reduced-price Lunch Table                        Missing   \n",
       "3                Direct Certification                 Not Applicable   \n",
       "4  Free and Reduced-price Lunch Table              No Category Codes   \n",
       "\n",
       "   STUDENT_COUNT       TOTAL_INDICATOR      DMS_FLAG  \n",
       "0          518.0        Category Set A      Reported  \n",
       "1           52.0        Category Set A      Reported  \n",
       "2            NaN        Category Set A  Not reported  \n",
       "3          290.0  Education Unit Total      Reported  \n",
       "4          570.0  Education Unit Total      Reported  "
      ]
     },
     "execution_count": 264,
     "metadata": {},
     "output_type": "execute_result"
    }
   ],
   "source": [
    "ccd_farms.head()"
   ]
  },
  {
   "cell_type": "code",
   "execution_count": 265,
   "metadata": {},
   "outputs": [
    {
     "data": {
      "text/plain": [
       "False"
      ]
     },
     "execution_count": 265,
     "metadata": {},
     "output_type": "execute_result"
    }
   ],
   "source": [
    "ccd_farms['NCESSCH'].is_unique #need a list of unique schools since it appears schools are duplicated"
   ]
  },
  {
   "cell_type": "markdown",
   "metadata": {},
   "source": [
    "We are interested in getting the schools that qualified for Free and reduced-price lunch (FARMS) and get the counts of those FARMS students"
   ]
  },
  {
   "cell_type": "code",
   "execution_count": 266,
   "metadata": {},
   "outputs": [],
   "source": [
    "ccd_farms_EUT=ccd_farms[ccd_farms['TOTAL_INDICATOR']=='Education Unit Total']"
   ]
  },
  {
   "cell_type": "code",
   "execution_count": 267,
   "metadata": {},
   "outputs": [
    {
     "data": {
      "text/html": [
       "<div>\n",
       "<style scoped>\n",
       "    .dataframe tbody tr th:only-of-type {\n",
       "        vertical-align: middle;\n",
       "    }\n",
       "\n",
       "    .dataframe tbody tr th {\n",
       "        vertical-align: top;\n",
       "    }\n",
       "\n",
       "    .dataframe thead th {\n",
       "        text-align: right;\n",
       "    }\n",
       "</style>\n",
       "<table border=\"1\" class=\"dataframe\">\n",
       "  <thead>\n",
       "    <tr style=\"text-align: right;\">\n",
       "      <th></th>\n",
       "      <th>SCH_NAME</th>\n",
       "      <th>NCESSCH</th>\n",
       "      <th>DATA_GROUP</th>\n",
       "      <th>LUNCH_PROGRAM</th>\n",
       "      <th>STUDENT_COUNT</th>\n",
       "      <th>TOTAL_INDICATOR</th>\n",
       "      <th>DMS_FLAG</th>\n",
       "    </tr>\n",
       "  </thead>\n",
       "  <tbody>\n",
       "    <tr>\n",
       "      <th>3</th>\n",
       "      <td>Albertville Middle School</td>\n",
       "      <td>010000500870</td>\n",
       "      <td>Direct Certification</td>\n",
       "      <td>Not Applicable</td>\n",
       "      <td>290.0</td>\n",
       "      <td>Education Unit Total</td>\n",
       "      <td>Reported</td>\n",
       "    </tr>\n",
       "    <tr>\n",
       "      <th>4</th>\n",
       "      <td>Albertville Middle School</td>\n",
       "      <td>010000500870</td>\n",
       "      <td>Free and Reduced-price Lunch Table</td>\n",
       "      <td>No Category Codes</td>\n",
       "      <td>570.0</td>\n",
       "      <td>Education Unit Total</td>\n",
       "      <td>Reported</td>\n",
       "    </tr>\n",
       "    <tr>\n",
       "      <th>8</th>\n",
       "      <td>Albertville High School</td>\n",
       "      <td>010000500871</td>\n",
       "      <td>Direct Certification</td>\n",
       "      <td>Not Applicable</td>\n",
       "      <td>432.0</td>\n",
       "      <td>Education Unit Total</td>\n",
       "      <td>Reported</td>\n",
       "    </tr>\n",
       "    <tr>\n",
       "      <th>9</th>\n",
       "      <td>Albertville High School</td>\n",
       "      <td>010000500871</td>\n",
       "      <td>Free and Reduced-price Lunch Table</td>\n",
       "      <td>No Category Codes</td>\n",
       "      <td>832.0</td>\n",
       "      <td>Education Unit Total</td>\n",
       "      <td>Reported</td>\n",
       "    </tr>\n",
       "    <tr>\n",
       "      <th>13</th>\n",
       "      <td>Evans Elementary School</td>\n",
       "      <td>010000500879</td>\n",
       "      <td>Direct Certification</td>\n",
       "      <td>Not Applicable</td>\n",
       "      <td>349.0</td>\n",
       "      <td>Education Unit Total</td>\n",
       "      <td>Reported</td>\n",
       "    </tr>\n",
       "  </tbody>\n",
       "</table>\n",
       "</div>"
      ],
      "text/plain": [
       "                     SCH_NAME       NCESSCH  \\\n",
       "3   Albertville Middle School  010000500870   \n",
       "4   Albertville Middle School  010000500870   \n",
       "8     Albertville High School  010000500871   \n",
       "9     Albertville High School  010000500871   \n",
       "13    Evans Elementary School  010000500879   \n",
       "\n",
       "                            DATA_GROUP      LUNCH_PROGRAM  STUDENT_COUNT  \\\n",
       "3                 Direct Certification     Not Applicable          290.0   \n",
       "4   Free and Reduced-price Lunch Table  No Category Codes          570.0   \n",
       "8                 Direct Certification     Not Applicable          432.0   \n",
       "9   Free and Reduced-price Lunch Table  No Category Codes          832.0   \n",
       "13                Direct Certification     Not Applicable          349.0   \n",
       "\n",
       "         TOTAL_INDICATOR  DMS_FLAG  \n",
       "3   Education Unit Total  Reported  \n",
       "4   Education Unit Total  Reported  \n",
       "8   Education Unit Total  Reported  \n",
       "9   Education Unit Total  Reported  \n",
       "13  Education Unit Total  Reported  "
      ]
     },
     "execution_count": 267,
     "metadata": {},
     "output_type": "execute_result"
    }
   ],
   "source": [
    "ccd_farms_EUT.head()"
   ]
  },
  {
   "cell_type": "code",
   "execution_count": 268,
   "metadata": {},
   "outputs": [
    {
     "data": {
      "text/plain": [
       "(197898, 7)"
      ]
     },
     "execution_count": 268,
     "metadata": {},
     "output_type": "execute_result"
    }
   ],
   "source": [
    "ccd_farms_EUT.shape"
   ]
  },
  {
   "cell_type": "code",
   "execution_count": 269,
   "metadata": {},
   "outputs": [],
   "source": [
    "ccd_farms_FRL=ccd_farms_EUT[ccd_farms_EUT['DATA_GROUP']=='Free and Reduced-price Lunch Table']"
   ]
  },
  {
   "cell_type": "code",
   "execution_count": 270,
   "metadata": {},
   "outputs": [
    {
     "data": {
      "text/html": [
       "<div>\n",
       "<style scoped>\n",
       "    .dataframe tbody tr th:only-of-type {\n",
       "        vertical-align: middle;\n",
       "    }\n",
       "\n",
       "    .dataframe tbody tr th {\n",
       "        vertical-align: top;\n",
       "    }\n",
       "\n",
       "    .dataframe thead th {\n",
       "        text-align: right;\n",
       "    }\n",
       "</style>\n",
       "<table border=\"1\" class=\"dataframe\">\n",
       "  <thead>\n",
       "    <tr style=\"text-align: right;\">\n",
       "      <th></th>\n",
       "      <th>SCH_NAME</th>\n",
       "      <th>NCESSCH</th>\n",
       "      <th>DATA_GROUP</th>\n",
       "      <th>LUNCH_PROGRAM</th>\n",
       "      <th>STUDENT_COUNT</th>\n",
       "      <th>TOTAL_INDICATOR</th>\n",
       "      <th>DMS_FLAG</th>\n",
       "    </tr>\n",
       "  </thead>\n",
       "  <tbody>\n",
       "    <tr>\n",
       "      <th>4</th>\n",
       "      <td>Albertville Middle School</td>\n",
       "      <td>010000500870</td>\n",
       "      <td>Free and Reduced-price Lunch Table</td>\n",
       "      <td>No Category Codes</td>\n",
       "      <td>570.0</td>\n",
       "      <td>Education Unit Total</td>\n",
       "      <td>Reported</td>\n",
       "    </tr>\n",
       "    <tr>\n",
       "      <th>9</th>\n",
       "      <td>Albertville High School</td>\n",
       "      <td>010000500871</td>\n",
       "      <td>Free and Reduced-price Lunch Table</td>\n",
       "      <td>No Category Codes</td>\n",
       "      <td>832.0</td>\n",
       "      <td>Education Unit Total</td>\n",
       "      <td>Reported</td>\n",
       "    </tr>\n",
       "    <tr>\n",
       "      <th>14</th>\n",
       "      <td>Evans Elementary School</td>\n",
       "      <td>010000500879</td>\n",
       "      <td>Free and Reduced-price Lunch Table</td>\n",
       "      <td>No Category Codes</td>\n",
       "      <td>608.0</td>\n",
       "      <td>Education Unit Total</td>\n",
       "      <td>Reported</td>\n",
       "    </tr>\n",
       "    <tr>\n",
       "      <th>19</th>\n",
       "      <td>Albertville Elementary School</td>\n",
       "      <td>010000500889</td>\n",
       "      <td>Free and Reduced-price Lunch Table</td>\n",
       "      <td>No Category Codes</td>\n",
       "      <td>684.0</td>\n",
       "      <td>Education Unit Total</td>\n",
       "      <td>Reported</td>\n",
       "    </tr>\n",
       "    <tr>\n",
       "      <th>24</th>\n",
       "      <td>Big Spring Lake Kindergarten School</td>\n",
       "      <td>010000501616</td>\n",
       "      <td>Free and Reduced-price Lunch Table</td>\n",
       "      <td>No Category Codes</td>\n",
       "      <td>345.0</td>\n",
       "      <td>Education Unit Total</td>\n",
       "      <td>Reported</td>\n",
       "    </tr>\n",
       "  </tbody>\n",
       "</table>\n",
       "</div>"
      ],
      "text/plain": [
       "                               SCH_NAME       NCESSCH  \\\n",
       "4             Albertville Middle School  010000500870   \n",
       "9               Albertville High School  010000500871   \n",
       "14              Evans Elementary School  010000500879   \n",
       "19        Albertville Elementary School  010000500889   \n",
       "24  Big Spring Lake Kindergarten School  010000501616   \n",
       "\n",
       "                            DATA_GROUP      LUNCH_PROGRAM  STUDENT_COUNT  \\\n",
       "4   Free and Reduced-price Lunch Table  No Category Codes          570.0   \n",
       "9   Free and Reduced-price Lunch Table  No Category Codes          832.0   \n",
       "14  Free and Reduced-price Lunch Table  No Category Codes          608.0   \n",
       "19  Free and Reduced-price Lunch Table  No Category Codes          684.0   \n",
       "24  Free and Reduced-price Lunch Table  No Category Codes          345.0   \n",
       "\n",
       "         TOTAL_INDICATOR  DMS_FLAG  \n",
       "4   Education Unit Total  Reported  \n",
       "9   Education Unit Total  Reported  \n",
       "14  Education Unit Total  Reported  \n",
       "19  Education Unit Total  Reported  \n",
       "24  Education Unit Total  Reported  "
      ]
     },
     "execution_count": 270,
     "metadata": {},
     "output_type": "execute_result"
    }
   ],
   "source": [
    "ccd_farms_FRL.head()"
   ]
  },
  {
   "cell_type": "code",
   "execution_count": 271,
   "metadata": {},
   "outputs": [
    {
     "data": {
      "text/plain": [
       "(98949, 7)"
      ]
     },
     "execution_count": 271,
     "metadata": {},
     "output_type": "execute_result"
    }
   ],
   "source": [
    "ccd_farms_FRL.shape"
   ]
  },
  {
   "cell_type": "markdown",
   "metadata": {},
   "source": [
    "Lets rename the column name so its clear what the counts reflect"
   ]
  },
  {
   "cell_type": "code",
   "execution_count": 272,
   "metadata": {},
   "outputs": [],
   "source": [
    "ccd_farms_FRL.rename(columns={'STUDENT_COUNT':'FARMS_COUNT'}, inplace=True)"
   ]
  },
  {
   "cell_type": "code",
   "execution_count": 273,
   "metadata": {},
   "outputs": [
    {
     "data": {
      "text/html": [
       "<div>\n",
       "<style scoped>\n",
       "    .dataframe tbody tr th:only-of-type {\n",
       "        vertical-align: middle;\n",
       "    }\n",
       "\n",
       "    .dataframe tbody tr th {\n",
       "        vertical-align: top;\n",
       "    }\n",
       "\n",
       "    .dataframe thead th {\n",
       "        text-align: right;\n",
       "    }\n",
       "</style>\n",
       "<table border=\"1\" class=\"dataframe\">\n",
       "  <thead>\n",
       "    <tr style=\"text-align: right;\">\n",
       "      <th></th>\n",
       "      <th>SCH_NAME</th>\n",
       "      <th>NCESSCH</th>\n",
       "      <th>DATA_GROUP</th>\n",
       "      <th>LUNCH_PROGRAM</th>\n",
       "      <th>FARMS_COUNT</th>\n",
       "      <th>TOTAL_INDICATOR</th>\n",
       "      <th>DMS_FLAG</th>\n",
       "    </tr>\n",
       "  </thead>\n",
       "  <tbody>\n",
       "    <tr>\n",
       "      <th>4</th>\n",
       "      <td>Albertville Middle School</td>\n",
       "      <td>010000500870</td>\n",
       "      <td>Free and Reduced-price Lunch Table</td>\n",
       "      <td>No Category Codes</td>\n",
       "      <td>570.0</td>\n",
       "      <td>Education Unit Total</td>\n",
       "      <td>Reported</td>\n",
       "    </tr>\n",
       "    <tr>\n",
       "      <th>9</th>\n",
       "      <td>Albertville High School</td>\n",
       "      <td>010000500871</td>\n",
       "      <td>Free and Reduced-price Lunch Table</td>\n",
       "      <td>No Category Codes</td>\n",
       "      <td>832.0</td>\n",
       "      <td>Education Unit Total</td>\n",
       "      <td>Reported</td>\n",
       "    </tr>\n",
       "    <tr>\n",
       "      <th>14</th>\n",
       "      <td>Evans Elementary School</td>\n",
       "      <td>010000500879</td>\n",
       "      <td>Free and Reduced-price Lunch Table</td>\n",
       "      <td>No Category Codes</td>\n",
       "      <td>608.0</td>\n",
       "      <td>Education Unit Total</td>\n",
       "      <td>Reported</td>\n",
       "    </tr>\n",
       "    <tr>\n",
       "      <th>19</th>\n",
       "      <td>Albertville Elementary School</td>\n",
       "      <td>010000500889</td>\n",
       "      <td>Free and Reduced-price Lunch Table</td>\n",
       "      <td>No Category Codes</td>\n",
       "      <td>684.0</td>\n",
       "      <td>Education Unit Total</td>\n",
       "      <td>Reported</td>\n",
       "    </tr>\n",
       "    <tr>\n",
       "      <th>24</th>\n",
       "      <td>Big Spring Lake Kindergarten School</td>\n",
       "      <td>010000501616</td>\n",
       "      <td>Free and Reduced-price Lunch Table</td>\n",
       "      <td>No Category Codes</td>\n",
       "      <td>345.0</td>\n",
       "      <td>Education Unit Total</td>\n",
       "      <td>Reported</td>\n",
       "    </tr>\n",
       "  </tbody>\n",
       "</table>\n",
       "</div>"
      ],
      "text/plain": [
       "                               SCH_NAME       NCESSCH  \\\n",
       "4             Albertville Middle School  010000500870   \n",
       "9               Albertville High School  010000500871   \n",
       "14              Evans Elementary School  010000500879   \n",
       "19        Albertville Elementary School  010000500889   \n",
       "24  Big Spring Lake Kindergarten School  010000501616   \n",
       "\n",
       "                            DATA_GROUP      LUNCH_PROGRAM  FARMS_COUNT  \\\n",
       "4   Free and Reduced-price Lunch Table  No Category Codes        570.0   \n",
       "9   Free and Reduced-price Lunch Table  No Category Codes        832.0   \n",
       "14  Free and Reduced-price Lunch Table  No Category Codes        608.0   \n",
       "19  Free and Reduced-price Lunch Table  No Category Codes        684.0   \n",
       "24  Free and Reduced-price Lunch Table  No Category Codes        345.0   \n",
       "\n",
       "         TOTAL_INDICATOR  DMS_FLAG  \n",
       "4   Education Unit Total  Reported  \n",
       "9   Education Unit Total  Reported  \n",
       "14  Education Unit Total  Reported  \n",
       "19  Education Unit Total  Reported  \n",
       "24  Education Unit Total  Reported  "
      ]
     },
     "execution_count": 273,
     "metadata": {},
     "output_type": "execute_result"
    }
   ],
   "source": [
    "ccd_farms_FRL.head()"
   ]
  },
  {
   "cell_type": "markdown",
   "metadata": {},
   "source": [
    "##### Checking for missing or null values"
   ]
  },
  {
   "cell_type": "code",
   "execution_count": 274,
   "metadata": {},
   "outputs": [
    {
     "data": {
      "text/plain": [
       "<matplotlib.axes._subplots.AxesSubplot at 0x199820c1cf8>"
      ]
     },
     "execution_count": 274,
     "metadata": {},
     "output_type": "execute_result"
    },
    {
     "data": {
      "image/png": "[encoded data removed]",
      "text/plain": [
       "<Figure size 432x288 with 2 Axes>"
      ]
     },
     "metadata": {
      "needs_background": "light"
     },
     "output_type": "display_data"
    }
   ],
   "source": [
    "sns.heatmap(ccd_farms_FRL.isnull(),yticklabels=False,cbar=True,cmap='viridis')"
   ]
  },
  {
   "cell_type": "code",
   "execution_count": 275,
   "metadata": {},
   "outputs": [
    {
     "data": {
      "text/plain": [
       "FARMS_COUNT    9062\n",
       "dtype: int64"
      ]
     },
     "execution_count": 275,
     "metadata": {},
     "output_type": "execute_result"
    }
   ],
   "source": [
    "null_columns=ccd_farms_FRL.columns[ccd_farms_FRL.isnull().any()]\n",
    "ccd_farms_FRL[null_columns].isnull().sum()"
   ]
  },
  {
   "cell_type": "code",
   "execution_count": 276,
   "metadata": {},
   "outputs": [
    {
     "data": {
      "text/plain": [
       "True"
      ]
     },
     "execution_count": 276,
     "metadata": {},
     "output_type": "execute_result"
    }
   ],
   "source": [
    "ccd_farms_FRL['NCESSCH'].is_unique"
   ]
  },
  {
   "cell_type": "markdown",
   "metadata": {},
   "source": [
    "Lets drop any rows that have null counts reported for the Farms_count column"
   ]
  },
  {
   "cell_type": "code",
   "execution_count": 277,
   "metadata": {},
   "outputs": [],
   "source": [
    "ccd_farms_FRL_new = ccd_farms_FRL.dropna(axis = 0, how ='any') "
   ]
  },
  {
   "cell_type": "code",
   "execution_count": 278,
   "metadata": {},
   "outputs": [
    {
     "name": "stdout",
     "output_type": "stream",
     "text": [
      "Old data frame length: 98949\n",
      "New data frame length: 89887\n",
      "Number of rows with at least 1 NA value:  9062\n"
     ]
    }
   ],
   "source": [
    "print(\"Old data frame length:\", len(ccd_farms_FRL)) \n",
    "print(\"New data frame length:\", len(ccd_farms_FRL_new))  \n",
    "print(\"Number of rows with at least 1 NA value: \", \n",
    "      (len(ccd_farms_FRL)-len(ccd_farms_FRL_new))) "
   ]
  },
  {
   "cell_type": "code",
   "execution_count": 279,
   "metadata": {},
   "outputs": [
    {
     "data": {
      "text/plain": [
       "<matplotlib.axes._subplots.AxesSubplot at 0x199f0db6518>"
      ]
     },
     "execution_count": 279,
     "metadata": {},
     "output_type": "execute_result"
    },
    {
     "data": {
      "image/png": "[encoded data removed]",
      "text/plain": [
       "<Figure size 432x288 with 2 Axes>"
      ]
     },
     "metadata": {
      "needs_background": "light"
     },
     "output_type": "display_data"
    }
   ],
   "source": [
    "sns.heatmap(ccd_farms_FRL_new.isnull(),yticklabels=False,cbar=True,cmap='viridis')"
   ]
  },
  {
   "cell_type": "code",
   "execution_count": 280,
   "metadata": {},
   "outputs": [
    {
     "data": {
      "text/plain": [
       "(89887, 7)"
      ]
     },
     "execution_count": 280,
     "metadata": {},
     "output_type": "execute_result"
    }
   ],
   "source": [
    "ccd_farms_FRL_new.shape"
   ]
  },
  {
   "cell_type": "code",
   "execution_count": 281,
   "metadata": {},
   "outputs": [
    {
     "data": {
      "text/plain": [
       "array([[<matplotlib.axes._subplots.AxesSubplot object at 0x000001998DF90C50>]],\n",
       "      dtype=object)"
      ]
     },
     "execution_count": 281,
     "metadata": {},
     "output_type": "execute_result"
    },
    {
     "data": {
      "image/png": "[encoded data removed]",
      "text/plain": [
       "<Figure size 432x288 with 1 Axes>"
      ]
     },
     "metadata": {
      "needs_background": "light"
     },
     "output_type": "display_data"
    }
   ],
   "source": [
    "ccd_farms_FRL_new.hist()"
   ]
  },
  {
   "cell_type": "code",
   "execution_count": 282,
   "metadata": {},
   "outputs": [],
   "source": [
    "ccd_farms_FRL_new.to_csv (r'/Users/dansa/Documents/GitHub/Phase1/Data/CCD/Clean_ccd_farms.csv', index = False, header=True)"
   ]
  },
  {
   "cell_type": "markdown",
   "metadata": {},
   "source": [
    "#### 4. Cleaning and checking staff file"
   ]
  },
  {
   "cell_type": "code",
   "execution_count": 283,
   "metadata": {},
   "outputs": [
    {
     "data": {
      "text/html": [
       "<div>\n",
       "<style scoped>\n",
       "    .dataframe tbody tr th:only-of-type {\n",
       "        vertical-align: middle;\n",
       "    }\n",
       "\n",
       "    .dataframe tbody tr th {\n",
       "        vertical-align: top;\n",
       "    }\n",
       "\n",
       "    .dataframe thead th {\n",
       "        text-align: right;\n",
       "    }\n",
       "</style>\n",
       "<table border=\"1\" class=\"dataframe\">\n",
       "  <thead>\n",
       "    <tr style=\"text-align: right;\">\n",
       "      <th></th>\n",
       "      <th>SCHOOL_YEAR</th>\n",
       "      <th>FIPST</th>\n",
       "      <th>STATENAME</th>\n",
       "      <th>ST</th>\n",
       "      <th>SCH_NAME</th>\n",
       "      <th>STATE_AGENCY_NO</th>\n",
       "      <th>UNION</th>\n",
       "      <th>ST_LEAID</th>\n",
       "      <th>LEAID</th>\n",
       "      <th>ST_SCHID</th>\n",
       "      <th>NCESSCH</th>\n",
       "      <th>SCHID</th>\n",
       "      <th>TEACHERS</th>\n",
       "      <th>TOTAL_INDICATOR</th>\n",
       "      <th>DMS_FLAG</th>\n",
       "    </tr>\n",
       "  </thead>\n",
       "  <tbody>\n",
       "    <tr>\n",
       "      <th>0</th>\n",
       "      <td>2017-2018</td>\n",
       "      <td>1</td>\n",
       "      <td>ALABAMA</td>\n",
       "      <td>AL</td>\n",
       "      <td>Albertville Middle School</td>\n",
       "      <td>1</td>\n",
       "      <td>NaN</td>\n",
       "      <td>AL-101</td>\n",
       "      <td>100005</td>\n",
       "      <td>AL-101-0010</td>\n",
       "      <td>10000500870</td>\n",
       "      <td>100870</td>\n",
       "      <td>36.0</td>\n",
       "      <td>Education Unit Total</td>\n",
       "      <td>Reported</td>\n",
       "    </tr>\n",
       "    <tr>\n",
       "      <th>1</th>\n",
       "      <td>2017-2018</td>\n",
       "      <td>1</td>\n",
       "      <td>ALABAMA</td>\n",
       "      <td>AL</td>\n",
       "      <td>Albertville High School</td>\n",
       "      <td>1</td>\n",
       "      <td>NaN</td>\n",
       "      <td>AL-101</td>\n",
       "      <td>100005</td>\n",
       "      <td>AL-101-0020</td>\n",
       "      <td>10000500871</td>\n",
       "      <td>100871</td>\n",
       "      <td>77.0</td>\n",
       "      <td>Education Unit Total</td>\n",
       "      <td>Reported</td>\n",
       "    </tr>\n",
       "    <tr>\n",
       "      <th>2</th>\n",
       "      <td>2017-2018</td>\n",
       "      <td>1</td>\n",
       "      <td>ALABAMA</td>\n",
       "      <td>AL</td>\n",
       "      <td>Evans Elementary School</td>\n",
       "      <td>1</td>\n",
       "      <td>NaN</td>\n",
       "      <td>AL-101</td>\n",
       "      <td>100005</td>\n",
       "      <td>AL-101-0110</td>\n",
       "      <td>10000500879</td>\n",
       "      <td>100879</td>\n",
       "      <td>36.0</td>\n",
       "      <td>Education Unit Total</td>\n",
       "      <td>Reported</td>\n",
       "    </tr>\n",
       "    <tr>\n",
       "      <th>3</th>\n",
       "      <td>2017-2018</td>\n",
       "      <td>1</td>\n",
       "      <td>ALABAMA</td>\n",
       "      <td>AL</td>\n",
       "      <td>Albertville Elementary School</td>\n",
       "      <td>1</td>\n",
       "      <td>NaN</td>\n",
       "      <td>AL-101</td>\n",
       "      <td>100005</td>\n",
       "      <td>AL-101-0200</td>\n",
       "      <td>10000500889</td>\n",
       "      <td>100889</td>\n",
       "      <td>49.0</td>\n",
       "      <td>Education Unit Total</td>\n",
       "      <td>Reported</td>\n",
       "    </tr>\n",
       "    <tr>\n",
       "      <th>4</th>\n",
       "      <td>2017-2018</td>\n",
       "      <td>1</td>\n",
       "      <td>ALABAMA</td>\n",
       "      <td>AL</td>\n",
       "      <td>Big Spring Lake Kindergarten School</td>\n",
       "      <td>1</td>\n",
       "      <td>NaN</td>\n",
       "      <td>AL-101</td>\n",
       "      <td>100005</td>\n",
       "      <td>AL-101-0035</td>\n",
       "      <td>10000501616</td>\n",
       "      <td>101616</td>\n",
       "      <td>28.0</td>\n",
       "      <td>Education Unit Total</td>\n",
       "      <td>Reported</td>\n",
       "    </tr>\n",
       "  </tbody>\n",
       "</table>\n",
       "</div>"
      ],
      "text/plain": [
       "  SCHOOL_YEAR  FIPST STATENAME  ST                             SCH_NAME  \\\n",
       "0   2017-2018      1   ALABAMA  AL            Albertville Middle School   \n",
       "1   2017-2018      1   ALABAMA  AL              Albertville High School   \n",
       "2   2017-2018      1   ALABAMA  AL              Evans Elementary School   \n",
       "3   2017-2018      1   ALABAMA  AL        Albertville Elementary School   \n",
       "4   2017-2018      1   ALABAMA  AL  Big Spring Lake Kindergarten School   \n",
       "\n",
       "   STATE_AGENCY_NO  UNION ST_LEAID   LEAID     ST_SCHID      NCESSCH   SCHID  \\\n",
       "0                1    NaN   AL-101  100005  AL-101-0010  10000500870  100870   \n",
       "1                1    NaN   AL-101  100005  AL-101-0020  10000500871  100871   \n",
       "2                1    NaN   AL-101  100005  AL-101-0110  10000500879  100879   \n",
       "3                1    NaN   AL-101  100005  AL-101-0200  10000500889  100889   \n",
       "4                1    NaN   AL-101  100005  AL-101-0035  10000501616  101616   \n",
       "\n",
       "   TEACHERS       TOTAL_INDICATOR  DMS_FLAG  \n",
       "0      36.0  Education Unit Total  Reported  \n",
       "1      77.0  Education Unit Total  Reported  \n",
       "2      36.0  Education Unit Total  Reported  \n",
       "3      49.0  Education Unit Total  Reported  \n",
       "4      28.0  Education Unit Total  Reported  "
      ]
     },
     "execution_count": 283,
     "metadata": {},
     "output_type": "execute_result"
    }
   ],
   "source": [
    "ccd_staff= pandas.read_csv(\"ccd_STAFF.csv\")\n",
    "ccd_staff.head()"
   ]
  },
  {
   "cell_type": "code",
   "execution_count": 284,
   "metadata": {},
   "outputs": [
    {
     "data": {
      "text/plain": [
       "Index(['SCHOOL_YEAR', 'FIPST', 'STATENAME', 'ST', 'SCH_NAME',\n",
       "       'STATE_AGENCY_NO', 'UNION', 'ST_LEAID', 'LEAID', 'ST_SCHID', 'NCESSCH',\n",
       "       'SCHID', 'TEACHERS', 'TOTAL_INDICATOR', 'DMS_FLAG'],\n",
       "      dtype='object')"
      ]
     },
     "execution_count": 284,
     "metadata": {},
     "output_type": "execute_result"
    }
   ],
   "source": [
    "ccd_staff.columns"
   ]
  },
  {
   "cell_type": "code",
   "execution_count": 285,
   "metadata": {},
   "outputs": [
    {
     "data": {
      "text/plain": [
       "(99899, 15)"
      ]
     },
     "execution_count": 285,
     "metadata": {},
     "output_type": "execute_result"
    }
   ],
   "source": [
    "ccd_staff.shape"
   ]
  },
  {
   "cell_type": "code",
   "execution_count": 286,
   "metadata": {},
   "outputs": [
    {
     "data": {
      "text/html": [
       "<div>\n",
       "<style scoped>\n",
       "    .dataframe tbody tr th:only-of-type {\n",
       "        vertical-align: middle;\n",
       "    }\n",
       "\n",
       "    .dataframe tbody tr th {\n",
       "        vertical-align: top;\n",
       "    }\n",
       "\n",
       "    .dataframe thead th {\n",
       "        text-align: right;\n",
       "    }\n",
       "</style>\n",
       "<table border=\"1\" class=\"dataframe\">\n",
       "  <thead>\n",
       "    <tr style=\"text-align: right;\">\n",
       "      <th></th>\n",
       "      <th>FIPST</th>\n",
       "      <th>STATE_AGENCY_NO</th>\n",
       "      <th>UNION</th>\n",
       "      <th>LEAID</th>\n",
       "      <th>NCESSCH</th>\n",
       "      <th>SCHID</th>\n",
       "      <th>TEACHERS</th>\n",
       "    </tr>\n",
       "  </thead>\n",
       "  <tbody>\n",
       "    <tr>\n",
       "      <th>count</th>\n",
       "      <td>99899.000000</td>\n",
       "      <td>99899.0</td>\n",
       "      <td>2461.000000</td>\n",
       "      <td>9.989900e+04</td>\n",
       "      <td>9.989900e+04</td>\n",
       "      <td>9.989900e+04</td>\n",
       "      <td>95506.000000</td>\n",
       "    </tr>\n",
       "    <tr>\n",
       "      <th>mean</th>\n",
       "      <td>28.845214</td>\n",
       "      <td>1.0</td>\n",
       "      <td>207.949208</td>\n",
       "      <td>2.896025e+06</td>\n",
       "      <td>2.896025e+11</td>\n",
       "      <td>2.887513e+06</td>\n",
       "      <td>32.569638</td>\n",
       "    </tr>\n",
       "    <tr>\n",
       "      <th>std</th>\n",
       "      <td>16.651172</td>\n",
       "      <td>0.0</td>\n",
       "      <td>125.678333</td>\n",
       "      <td>1.664674e+06</td>\n",
       "      <td>1.664674e+11</td>\n",
       "      <td>1.664877e+06</td>\n",
       "      <td>25.643327</td>\n",
       "    </tr>\n",
       "    <tr>\n",
       "      <th>min</th>\n",
       "      <td>1.000000</td>\n",
       "      <td>1.0</td>\n",
       "      <td>1.000000</td>\n",
       "      <td>1.000050e+05</td>\n",
       "      <td>1.000050e+10</td>\n",
       "      <td>1.000010e+05</td>\n",
       "      <td>0.000000</td>\n",
       "    </tr>\n",
       "    <tr>\n",
       "      <th>25%</th>\n",
       "      <td>13.000000</td>\n",
       "      <td>1.0</td>\n",
       "      <td>51.000000</td>\n",
       "      <td>1.302610e+06</td>\n",
       "      <td>1.302610e+11</td>\n",
       "      <td>1.302382e+06</td>\n",
       "      <td>17.000000</td>\n",
       "    </tr>\n",
       "    <tr>\n",
       "      <th>50%</th>\n",
       "      <td>29.000000</td>\n",
       "      <td>1.0</td>\n",
       "      <td>300.000000</td>\n",
       "      <td>2.904140e+06</td>\n",
       "      <td>2.904140e+11</td>\n",
       "      <td>2.900318e+06</td>\n",
       "      <td>27.600000</td>\n",
       "    </tr>\n",
       "    <tr>\n",
       "      <th>75%</th>\n",
       "      <td>42.000000</td>\n",
       "      <td>1.0</td>\n",
       "      <td>300.000000</td>\n",
       "      <td>4.217010e+06</td>\n",
       "      <td>4.217010e+11</td>\n",
       "      <td>4.204346e+06</td>\n",
       "      <td>41.000000</td>\n",
       "    </tr>\n",
       "    <tr>\n",
       "      <th>max</th>\n",
       "      <td>78.000000</td>\n",
       "      <td>1.0</td>\n",
       "      <td>301.000000</td>\n",
       "      <td>7.800030e+06</td>\n",
       "      <td>7.800030e+11</td>\n",
       "      <td>7.800037e+06</td>\n",
       "      <td>1419.000000</td>\n",
       "    </tr>\n",
       "  </tbody>\n",
       "</table>\n",
       "</div>"
      ],
      "text/plain": [
       "              FIPST  STATE_AGENCY_NO        UNION         LEAID       NCESSCH  \\\n",
       "count  99899.000000          99899.0  2461.000000  9.989900e+04  9.989900e+04   \n",
       "mean      28.845214              1.0   207.949208  2.896025e+06  2.896025e+11   \n",
       "std       16.651172              0.0   125.678333  1.664674e+06  1.664674e+11   \n",
       "min        1.000000              1.0     1.000000  1.000050e+05  1.000050e+10   \n",
       "25%       13.000000              1.0    51.000000  1.302610e+06  1.302610e+11   \n",
       "50%       29.000000              1.0   300.000000  2.904140e+06  2.904140e+11   \n",
       "75%       42.000000              1.0   300.000000  4.217010e+06  4.217010e+11   \n",
       "max       78.000000              1.0   301.000000  7.800030e+06  7.800030e+11   \n",
       "\n",
       "              SCHID      TEACHERS  \n",
       "count  9.989900e+04  95506.000000  \n",
       "mean   2.887513e+06     32.569638  \n",
       "std    1.664877e+06     25.643327  \n",
       "min    1.000010e+05      0.000000  \n",
       "25%    1.302382e+06     17.000000  \n",
       "50%    2.900318e+06     27.600000  \n",
       "75%    4.204346e+06     41.000000  \n",
       "max    7.800037e+06   1419.000000  "
      ]
     },
     "execution_count": 286,
     "metadata": {},
     "output_type": "execute_result"
    }
   ],
   "source": [
    "ccd_staff.describe()"
   ]
  },
  {
   "cell_type": "markdown",
   "metadata": {},
   "source": [
    "##### Checking for missing or null values"
   ]
  },
  {
   "cell_type": "code",
   "execution_count": 287,
   "metadata": {},
   "outputs": [
    {
     "data": {
      "text/plain": [
       "<matplotlib.axes._subplots.AxesSubplot at 0x19a0db0d198>"
      ]
     },
     "execution_count": 287,
     "metadata": {},
     "output_type": "execute_result"
    },
    {
     "data": {
      "image/png": "[encoded data removed]",
      "text/plain": [
       "<Figure size 432x288 with 2 Axes>"
      ]
     },
     "metadata": {
      "needs_background": "light"
     },
     "output_type": "display_data"
    }
   ],
   "source": [
    "sns.heatmap(ccd_staff.isnull(),yticklabels=False,cbar=True,cmap='viridis')"
   ]
  },
  {
   "cell_type": "code",
   "execution_count": 288,
   "metadata": {},
   "outputs": [
    {
     "data": {
      "text/plain": [
       "UNION       97438\n",
       "TEACHERS     4393\n",
       "dtype: int64"
      ]
     },
     "execution_count": 288,
     "metadata": {},
     "output_type": "execute_result"
    }
   ],
   "source": [
    "null_columns=ccd_staff.columns[ccd_staff.isnull().any()]\n",
    "ccd_staff[null_columns].isnull().sum()"
   ]
  },
  {
   "cell_type": "markdown",
   "metadata": {},
   "source": [
    "We see the Union column has null values but since we wont be using the Union column in our analysis we can drop this column and any other unnecessary columns from further analysis"
   ]
  },
  {
   "cell_type": "markdown",
   "metadata": {},
   "source": [
    "##### Dropping unnecessary columns "
   ]
  },
  {
   "cell_type": "code",
   "execution_count": 289,
   "metadata": {},
   "outputs": [],
   "source": [
    "ccd_staff.drop(ccd_staff.columns[[0,1,2,3,5,6,7,8,9,11,13,14]], axis=1, inplace=True)"
   ]
  },
  {
   "cell_type": "code",
   "execution_count": 290,
   "metadata": {},
   "outputs": [],
   "source": [
    "ccd_staff['NCESSCH'] = ccd_staff['NCESSCH'].apply(lambda x: '{0:0>12}'.format(x))"
   ]
  },
  {
   "cell_type": "code",
   "execution_count": 291,
   "metadata": {},
   "outputs": [
    {
     "data": {
      "text/plain": [
       "True"
      ]
     },
     "execution_count": 291,
     "metadata": {},
     "output_type": "execute_result"
    }
   ],
   "source": [
    "ccd_staff['NCESSCH'].is_unique"
   ]
  },
  {
   "cell_type": "code",
   "execution_count": 292,
   "metadata": {},
   "outputs": [],
   "source": [
    "ccd_staff_new = ccd_staff.dropna(axis = 0, how ='any') "
   ]
  },
  {
   "cell_type": "code",
   "execution_count": 293,
   "metadata": {},
   "outputs": [
    {
     "name": "stdout",
     "output_type": "stream",
     "text": [
      "Old data frame length: 99899\n",
      "New data frame length: 95506\n",
      "Number of rows with at least 1 NA value:  4393\n"
     ]
    }
   ],
   "source": [
    "print(\"Old data frame length:\", len(ccd_staff)) \n",
    "print(\"New data frame length:\", len(ccd_staff_new))  \n",
    "print(\"Number of rows with at least 1 NA value: \", \n",
    "      (len(ccd_staff)-len(ccd_staff_new))) "
   ]
  },
  {
   "cell_type": "code",
   "execution_count": 294,
   "metadata": {},
   "outputs": [
    {
     "data": {
      "text/plain": [
       "<matplotlib.axes._subplots.AxesSubplot at 0x19a0d78fe48>"
      ]
     },
     "execution_count": 294,
     "metadata": {},
     "output_type": "execute_result"
    },
    {
     "data": {
      "image/png": "[encoded data removed]",
      "text/plain": [
       "<Figure size 432x288 with 2 Axes>"
      ]
     },
     "metadata": {
      "needs_background": "light"
     },
     "output_type": "display_data"
    }
   ],
   "source": [
    "sns.heatmap(ccd_staff_new.isnull(),yticklabels=False,cbar=True,cmap='viridis')"
   ]
  },
  {
   "cell_type": "code",
   "execution_count": 295,
   "metadata": {},
   "outputs": [
    {
     "data": {
      "text/html": [
       "<div>\n",
       "<style scoped>\n",
       "    .dataframe tbody tr th:only-of-type {\n",
       "        vertical-align: middle;\n",
       "    }\n",
       "\n",
       "    .dataframe tbody tr th {\n",
       "        vertical-align: top;\n",
       "    }\n",
       "\n",
       "    .dataframe thead th {\n",
       "        text-align: right;\n",
       "    }\n",
       "</style>\n",
       "<table border=\"1\" class=\"dataframe\">\n",
       "  <thead>\n",
       "    <tr style=\"text-align: right;\">\n",
       "      <th></th>\n",
       "      <th>SCH_NAME</th>\n",
       "      <th>NCESSCH</th>\n",
       "      <th>TEACHERS</th>\n",
       "    </tr>\n",
       "  </thead>\n",
       "  <tbody>\n",
       "    <tr>\n",
       "      <th>0</th>\n",
       "      <td>Albertville Middle School</td>\n",
       "      <td>010000500870</td>\n",
       "      <td>36.0</td>\n",
       "    </tr>\n",
       "    <tr>\n",
       "      <th>1</th>\n",
       "      <td>Albertville High School</td>\n",
       "      <td>010000500871</td>\n",
       "      <td>77.0</td>\n",
       "    </tr>\n",
       "    <tr>\n",
       "      <th>2</th>\n",
       "      <td>Evans Elementary School</td>\n",
       "      <td>010000500879</td>\n",
       "      <td>36.0</td>\n",
       "    </tr>\n",
       "    <tr>\n",
       "      <th>3</th>\n",
       "      <td>Albertville Elementary School</td>\n",
       "      <td>010000500889</td>\n",
       "      <td>49.0</td>\n",
       "    </tr>\n",
       "    <tr>\n",
       "      <th>4</th>\n",
       "      <td>Big Spring Lake Kindergarten School</td>\n",
       "      <td>010000501616</td>\n",
       "      <td>28.0</td>\n",
       "    </tr>\n",
       "  </tbody>\n",
       "</table>\n",
       "</div>"
      ],
      "text/plain": [
       "                              SCH_NAME       NCESSCH  TEACHERS\n",
       "0            Albertville Middle School  010000500870      36.0\n",
       "1              Albertville High School  010000500871      77.0\n",
       "2              Evans Elementary School  010000500879      36.0\n",
       "3        Albertville Elementary School  010000500889      49.0\n",
       "4  Big Spring Lake Kindergarten School  010000501616      28.0"
      ]
     },
     "execution_count": 295,
     "metadata": {},
     "output_type": "execute_result"
    }
   ],
   "source": [
    "ccd_staff_new.head()"
   ]
  },
  {
   "cell_type": "code",
   "execution_count": 296,
   "metadata": {},
   "outputs": [
    {
     "data": {
      "text/plain": [
       "(95506, 3)"
      ]
     },
     "execution_count": 296,
     "metadata": {},
     "output_type": "execute_result"
    }
   ],
   "source": [
    "ccd_staff_new.shape"
   ]
  },
  {
   "cell_type": "code",
   "execution_count": 297,
   "metadata": {},
   "outputs": [
    {
     "data": {
      "text/plain": [
       "array([[<matplotlib.axes._subplots.AxesSubplot object at 0x0000019A0D4466D8>]],\n",
       "      dtype=object)"
      ]
     },
     "execution_count": 297,
     "metadata": {},
     "output_type": "execute_result"
    },
    {
     "data": {
      "image/png": "[encoded data removed]",
      "text/plain": [
       "<Figure size 432x288 with 1 Axes>"
      ]
     },
     "metadata": {
      "needs_background": "light"
     },
     "output_type": "display_data"
    }
   ],
   "source": [
    "ccd_staff_new.hist()"
   ]
  },
  {
   "cell_type": "code",
   "execution_count": 298,
   "metadata": {},
   "outputs": [],
   "source": [
    "ccd_staff_new.to_csv (r'/Users/dansa/Documents/GitHub/Phase1/Data/CCD/Clean_ccd_staff.csv', index = False, header=True)"
   ]
  },
  {
   "cell_type": "markdown",
   "metadata": {},
   "source": [
    "#### 5. Merge all files into master ccd file"
   ]
  },
  {
   "cell_type": "markdown",
   "metadata": {},
   "source": [
    "##### Merging directory to characteristics file"
   ]
  },
  {
   "cell_type": "code",
   "execution_count": 299,
   "metadata": {},
   "outputs": [
    {
     "data": {
      "text/plain": [
       "(102337, 17)"
      ]
     },
     "execution_count": 299,
     "metadata": {},
     "output_type": "execute_result"
    }
   ],
   "source": [
    "merged_dir_char = pandas.merge(left=ccd_directory,right=ccd_character, how='left', left_on='NCESSCH', right_on='NCESSCH')\n",
    "merged_dir_char.shape"
   ]
  },
  {
   "cell_type": "code",
   "execution_count": 300,
   "metadata": {},
   "outputs": [
    {
     "data": {
      "text/plain": [
       "Index(['SCHOOL_YEAR', 'ST', 'SCH_NAME_x', 'LEA_NAME', 'STATE_AGENCY_NO',\n",
       "       'ST_LEAID', 'LEAID', 'ST_SCHID', 'NCESSCH', 'SCHID', 'SY_STATUS',\n",
       "       'SCH_TYPE_TEXT', 'SCH_TYPE', 'LEVEL', 'SCH_NAME_y', 'TITLEI_STATUS',\n",
       "       'TITLEI_STATUS_TEXT'],\n",
       "      dtype='object')"
      ]
     },
     "execution_count": 300,
     "metadata": {},
     "output_type": "execute_result"
    }
   ],
   "source": [
    "merged_dir_char.columns"
   ]
  },
  {
   "cell_type": "code",
   "execution_count": 301,
   "metadata": {},
   "outputs": [],
   "source": [
    "merged_dir_char.drop([col for col in merged_dir_char.columns if col.endswith('_y')],axis=1,inplace=True)"
   ]
  },
  {
   "cell_type": "code",
   "execution_count": 302,
   "metadata": {},
   "outputs": [
    {
     "data": {
      "text/html": [
       "<div>\n",
       "<style scoped>\n",
       "    .dataframe tbody tr th:only-of-type {\n",
       "        vertical-align: middle;\n",
       "    }\n",
       "\n",
       "    .dataframe tbody tr th {\n",
       "        vertical-align: top;\n",
       "    }\n",
       "\n",
       "    .dataframe thead th {\n",
       "        text-align: right;\n",
       "    }\n",
       "</style>\n",
       "<table border=\"1\" class=\"dataframe\">\n",
       "  <thead>\n",
       "    <tr style=\"text-align: right;\">\n",
       "      <th></th>\n",
       "      <th>SCHOOL_YEAR</th>\n",
       "      <th>ST</th>\n",
       "      <th>SCH_NAME_x</th>\n",
       "      <th>LEA_NAME</th>\n",
       "      <th>STATE_AGENCY_NO</th>\n",
       "      <th>ST_LEAID</th>\n",
       "      <th>LEAID</th>\n",
       "      <th>ST_SCHID</th>\n",
       "      <th>NCESSCH</th>\n",
       "      <th>SCHID</th>\n",
       "      <th>SY_STATUS</th>\n",
       "      <th>SCH_TYPE_TEXT</th>\n",
       "      <th>SCH_TYPE</th>\n",
       "      <th>LEVEL</th>\n",
       "      <th>TITLEI_STATUS</th>\n",
       "      <th>TITLEI_STATUS_TEXT</th>\n",
       "    </tr>\n",
       "  </thead>\n",
       "  <tbody>\n",
       "    <tr>\n",
       "      <th>0</th>\n",
       "      <td>2017-2018</td>\n",
       "      <td>AL</td>\n",
       "      <td>Albertville Middle School</td>\n",
       "      <td>Albertville City</td>\n",
       "      <td>1</td>\n",
       "      <td>AL-101</td>\n",
       "      <td>100005</td>\n",
       "      <td>AL-101-0010</td>\n",
       "      <td>010000500870</td>\n",
       "      <td>100870</td>\n",
       "      <td>1</td>\n",
       "      <td>Regular School</td>\n",
       "      <td>1</td>\n",
       "      <td>Middle</td>\n",
       "      <td>SWELIGSWPROG</td>\n",
       "      <td>Title I schoolwide school</td>\n",
       "    </tr>\n",
       "    <tr>\n",
       "      <th>1</th>\n",
       "      <td>2017-2018</td>\n",
       "      <td>AL</td>\n",
       "      <td>Albertville High School</td>\n",
       "      <td>Albertville City</td>\n",
       "      <td>1</td>\n",
       "      <td>AL-101</td>\n",
       "      <td>100005</td>\n",
       "      <td>AL-101-0020</td>\n",
       "      <td>010000500871</td>\n",
       "      <td>100871</td>\n",
       "      <td>1</td>\n",
       "      <td>Regular School</td>\n",
       "      <td>1</td>\n",
       "      <td>High</td>\n",
       "      <td>SWELIGSWPROG</td>\n",
       "      <td>Title I schoolwide school</td>\n",
       "    </tr>\n",
       "    <tr>\n",
       "      <th>2</th>\n",
       "      <td>2017-2018</td>\n",
       "      <td>AL</td>\n",
       "      <td>Evans Elementary School</td>\n",
       "      <td>Albertville City</td>\n",
       "      <td>1</td>\n",
       "      <td>AL-101</td>\n",
       "      <td>100005</td>\n",
       "      <td>AL-101-0110</td>\n",
       "      <td>010000500879</td>\n",
       "      <td>100879</td>\n",
       "      <td>1</td>\n",
       "      <td>Regular School</td>\n",
       "      <td>1</td>\n",
       "      <td>Middle</td>\n",
       "      <td>SWELIGSWPROG</td>\n",
       "      <td>Title I schoolwide school</td>\n",
       "    </tr>\n",
       "    <tr>\n",
       "      <th>3</th>\n",
       "      <td>2017-2018</td>\n",
       "      <td>AL</td>\n",
       "      <td>Albertville Elementary School</td>\n",
       "      <td>Albertville City</td>\n",
       "      <td>1</td>\n",
       "      <td>AL-101</td>\n",
       "      <td>100005</td>\n",
       "      <td>AL-101-0200</td>\n",
       "      <td>010000500889</td>\n",
       "      <td>100889</td>\n",
       "      <td>1</td>\n",
       "      <td>Regular School</td>\n",
       "      <td>1</td>\n",
       "      <td>Elementary</td>\n",
       "      <td>SWELIGSWPROG</td>\n",
       "      <td>Title I schoolwide school</td>\n",
       "    </tr>\n",
       "    <tr>\n",
       "      <th>4</th>\n",
       "      <td>2017-2018</td>\n",
       "      <td>AL</td>\n",
       "      <td>Big Spring Lake Kindergarten School</td>\n",
       "      <td>Albertville City</td>\n",
       "      <td>1</td>\n",
       "      <td>AL-101</td>\n",
       "      <td>100005</td>\n",
       "      <td>AL-101-0035</td>\n",
       "      <td>010000501616</td>\n",
       "      <td>101616</td>\n",
       "      <td>1</td>\n",
       "      <td>Regular School</td>\n",
       "      <td>1</td>\n",
       "      <td>Elementary</td>\n",
       "      <td>SWELIGSWPROG</td>\n",
       "      <td>Title I schoolwide school</td>\n",
       "    </tr>\n",
       "  </tbody>\n",
       "</table>\n",
       "</div>"
      ],
      "text/plain": [
       "  SCHOOL_YEAR  ST                           SCH_NAME_x          LEA_NAME  \\\n",
       "0   2017-2018  AL            Albertville Middle School  Albertville City   \n",
       "1   2017-2018  AL              Albertville High School  Albertville City   \n",
       "2   2017-2018  AL              Evans Elementary School  Albertville City   \n",
       "3   2017-2018  AL        Albertville Elementary School  Albertville City   \n",
       "4   2017-2018  AL  Big Spring Lake Kindergarten School  Albertville City   \n",
       "\n",
       "   STATE_AGENCY_NO ST_LEAID   LEAID     ST_SCHID       NCESSCH   SCHID  \\\n",
       "0                1   AL-101  100005  AL-101-0010  010000500870  100870   \n",
       "1                1   AL-101  100005  AL-101-0020  010000500871  100871   \n",
       "2                1   AL-101  100005  AL-101-0110  010000500879  100879   \n",
       "3                1   AL-101  100005  AL-101-0200  010000500889  100889   \n",
       "4                1   AL-101  100005  AL-101-0035  010000501616  101616   \n",
       "\n",
       "   SY_STATUS   SCH_TYPE_TEXT  SCH_TYPE       LEVEL TITLEI_STATUS  \\\n",
       "0          1  Regular School         1      Middle  SWELIGSWPROG   \n",
       "1          1  Regular School         1        High  SWELIGSWPROG   \n",
       "2          1  Regular School         1      Middle  SWELIGSWPROG   \n",
       "3          1  Regular School         1  Elementary  SWELIGSWPROG   \n",
       "4          1  Regular School         1  Elementary  SWELIGSWPROG   \n",
       "\n",
       "          TITLEI_STATUS_TEXT  \n",
       "0  Title I schoolwide school  \n",
       "1  Title I schoolwide school  \n",
       "2  Title I schoolwide school  \n",
       "3  Title I schoolwide school  \n",
       "4  Title I schoolwide school  "
      ]
     },
     "execution_count": 302,
     "metadata": {},
     "output_type": "execute_result"
    }
   ],
   "source": [
    "merged_dir_char.head()"
   ]
  },
  {
   "cell_type": "code",
   "execution_count": 303,
   "metadata": {},
   "outputs": [],
   "source": [
    "merged_dir_char.rename(columns = {'SCH_NAME_x':'SCH_NAME'}, inplace = True) "
   ]
  },
  {
   "cell_type": "markdown",
   "metadata": {},
   "source": [
    "##### Merging directory_characteristics file to staff file"
   ]
  },
  {
   "cell_type": "code",
   "execution_count": 304,
   "metadata": {},
   "outputs": [
    {
     "data": {
      "text/plain": [
       "(102337, 18)"
      ]
     },
     "execution_count": 304,
     "metadata": {},
     "output_type": "execute_result"
    }
   ],
   "source": [
    "merged_dir_char_staff = pandas.merge(left=merged_dir_char,right=ccd_staff_new, how='left', left_on='NCESSCH', right_on='NCESSCH')\n",
    "merged_dir_char_staff.shape"
   ]
  },
  {
   "cell_type": "code",
   "execution_count": 305,
   "metadata": {},
   "outputs": [
    {
     "data": {
      "text/plain": [
       "Index(['SCHOOL_YEAR', 'ST', 'SCH_NAME_x', 'LEA_NAME', 'STATE_AGENCY_NO',\n",
       "       'ST_LEAID', 'LEAID', 'ST_SCHID', 'NCESSCH', 'SCHID', 'SY_STATUS',\n",
       "       'SCH_TYPE_TEXT', 'SCH_TYPE', 'LEVEL', 'TITLEI_STATUS',\n",
       "       'TITLEI_STATUS_TEXT', 'SCH_NAME_y', 'TEACHERS'],\n",
       "      dtype='object')"
      ]
     },
     "execution_count": 305,
     "metadata": {},
     "output_type": "execute_result"
    }
   ],
   "source": [
    "merged_dir_char_staff.columns"
   ]
  },
  {
   "cell_type": "code",
   "execution_count": 306,
   "metadata": {},
   "outputs": [],
   "source": [
    "merged_dir_char_staff.drop([col for col in merged_dir_char_staff.columns if col.endswith('_y')],axis=1,inplace=True)"
   ]
  },
  {
   "cell_type": "code",
   "execution_count": 307,
   "metadata": {},
   "outputs": [],
   "source": [
    "merged_dir_char_staff.rename(columns = { 'SCH_NAME_x':'SCH_NAME'}, inplace = True) "
   ]
  },
  {
   "cell_type": "markdown",
   "metadata": {},
   "source": [
    "##### Merging directory_characteristics_staff file to farms file"
   ]
  },
  {
   "cell_type": "code",
   "execution_count": 308,
   "metadata": {},
   "outputs": [
    {
     "data": {
      "text/plain": [
       "(102337, 23)"
      ]
     },
     "execution_count": 308,
     "metadata": {},
     "output_type": "execute_result"
    }
   ],
   "source": [
    "merged_dir_char_staff_farms = pandas.merge(left=merged_dir_char_staff,right=ccd_farms_FRL_new, how='left', left_on='NCESSCH', right_on='NCESSCH')\n",
    "merged_dir_char_staff_farms.shape"
   ]
  },
  {
   "cell_type": "code",
   "execution_count": 309,
   "metadata": {},
   "outputs": [
    {
     "data": {
      "text/plain": [
       "Index(['SCHOOL_YEAR', 'ST', 'SCH_NAME_x', 'LEA_NAME', 'STATE_AGENCY_NO',\n",
       "       'ST_LEAID', 'LEAID', 'ST_SCHID', 'NCESSCH', 'SCHID', 'SY_STATUS',\n",
       "       'SCH_TYPE_TEXT', 'SCH_TYPE', 'LEVEL', 'TITLEI_STATUS',\n",
       "       'TITLEI_STATUS_TEXT', 'TEACHERS', 'SCH_NAME_y', 'DATA_GROUP',\n",
       "       'LUNCH_PROGRAM', 'FARMS_COUNT', 'TOTAL_INDICATOR', 'DMS_FLAG'],\n",
       "      dtype='object')"
      ]
     },
     "execution_count": 309,
     "metadata": {},
     "output_type": "execute_result"
    }
   ],
   "source": [
    "merged_dir_char_staff_farms.columns"
   ]
  },
  {
   "cell_type": "code",
   "execution_count": 310,
   "metadata": {},
   "outputs": [],
   "source": [
    "merged_dir_char_staff_farms.drop([col for col in merged_dir_char_staff_farms.columns if col.endswith('_y')],axis=1,inplace=True)"
   ]
  },
  {
   "cell_type": "code",
   "execution_count": 311,
   "metadata": {},
   "outputs": [],
   "source": [
    "merged_dir_char_staff_farms.rename(columns = {'SCH_NAME_x':'SCH_NAME' }, inplace = True) "
   ]
  },
  {
   "cell_type": "code",
   "execution_count": 312,
   "metadata": {},
   "outputs": [
    {
     "data": {
      "text/plain": [
       "Index(['SCHOOL_YEAR', 'ST', 'SCH_NAME', 'LEA_NAME', 'STATE_AGENCY_NO',\n",
       "       'ST_LEAID', 'LEAID', 'ST_SCHID', 'NCESSCH', 'SCHID', 'SY_STATUS',\n",
       "       'SCH_TYPE_TEXT', 'SCH_TYPE', 'LEVEL', 'TITLEI_STATUS',\n",
       "       'TITLEI_STATUS_TEXT', 'TEACHERS', 'DATA_GROUP', 'LUNCH_PROGRAM',\n",
       "       'FARMS_COUNT', 'TOTAL_INDICATOR', 'DMS_FLAG'],\n",
       "      dtype='object')"
      ]
     },
     "execution_count": 312,
     "metadata": {},
     "output_type": "execute_result"
    }
   ],
   "source": [
    "merged_dir_char_staff_farms.columns"
   ]
  },
  {
   "cell_type": "code",
   "execution_count": 313,
   "metadata": {},
   "outputs": [
    {
     "data": {
      "text/plain": [
       "<matplotlib.axes._subplots.AxesSubplot at 0x19a0d4e6c50>"
      ]
     },
     "execution_count": 313,
     "metadata": {},
     "output_type": "execute_result"
    },
    {
     "data": {
      "image/png": "[encoded data removed]",
      "text/plain": [
       "<Figure size 432x288 with 2 Axes>"
      ]
     },
     "metadata": {
      "needs_background": "light"
     },
     "output_type": "display_data"
    }
   ],
   "source": [
    "sns.heatmap(merged_dir_char_staff_farms.isnull(),yticklabels=False,cbar=True,cmap='viridis')"
   ]
  },
  {
   "cell_type": "code",
   "execution_count": 314,
   "metadata": {},
   "outputs": [
    {
     "data": {
      "text/plain": [
       "TITLEI_STATUS          2438\n",
       "TITLEI_STATUS_TEXT     2438\n",
       "TEACHERS               6831\n",
       "DATA_GROUP            12450\n",
       "LUNCH_PROGRAM         12450\n",
       "FARMS_COUNT           12450\n",
       "TOTAL_INDICATOR       12450\n",
       "DMS_FLAG              12450\n",
       "dtype: int64"
      ]
     },
     "execution_count": 314,
     "metadata": {},
     "output_type": "execute_result"
    }
   ],
   "source": [
    "null_columns=merged_dir_char_staff_farms.columns[merged_dir_char_staff_farms.isnull().any()]\n",
    "merged_dir_char_staff_farms[null_columns].isnull().sum()"
   ]
  },
  {
   "cell_type": "code",
   "execution_count": 315,
   "metadata": {},
   "outputs": [
    {
     "data": {
      "text/html": [
       "<div>\n",
       "<style scoped>\n",
       "    .dataframe tbody tr th:only-of-type {\n",
       "        vertical-align: middle;\n",
       "    }\n",
       "\n",
       "    .dataframe tbody tr th {\n",
       "        vertical-align: top;\n",
       "    }\n",
       "\n",
       "    .dataframe thead th {\n",
       "        text-align: right;\n",
       "    }\n",
       "</style>\n",
       "<table border=\"1\" class=\"dataframe\">\n",
       "  <thead>\n",
       "    <tr style=\"text-align: right;\">\n",
       "      <th></th>\n",
       "      <th>0</th>\n",
       "      <th>1</th>\n",
       "      <th>2</th>\n",
       "      <th>3</th>\n",
       "      <th>4</th>\n",
       "    </tr>\n",
       "  </thead>\n",
       "  <tbody>\n",
       "    <tr>\n",
       "      <th>SCHOOL_YEAR</th>\n",
       "      <td>2017-2018</td>\n",
       "      <td>2017-2018</td>\n",
       "      <td>2017-2018</td>\n",
       "      <td>2017-2018</td>\n",
       "      <td>2017-2018</td>\n",
       "    </tr>\n",
       "    <tr>\n",
       "      <th>ST</th>\n",
       "      <td>AL</td>\n",
       "      <td>AL</td>\n",
       "      <td>AL</td>\n",
       "      <td>AL</td>\n",
       "      <td>AL</td>\n",
       "    </tr>\n",
       "    <tr>\n",
       "      <th>SCH_NAME</th>\n",
       "      <td>Albertville Middle School</td>\n",
       "      <td>Albertville High School</td>\n",
       "      <td>Evans Elementary School</td>\n",
       "      <td>Albertville Elementary School</td>\n",
       "      <td>Big Spring Lake Kindergarten School</td>\n",
       "    </tr>\n",
       "    <tr>\n",
       "      <th>LEA_NAME</th>\n",
       "      <td>Albertville City</td>\n",
       "      <td>Albertville City</td>\n",
       "      <td>Albertville City</td>\n",
       "      <td>Albertville City</td>\n",
       "      <td>Albertville City</td>\n",
       "    </tr>\n",
       "    <tr>\n",
       "      <th>STATE_AGENCY_NO</th>\n",
       "      <td>1</td>\n",
       "      <td>1</td>\n",
       "      <td>1</td>\n",
       "      <td>1</td>\n",
       "      <td>1</td>\n",
       "    </tr>\n",
       "    <tr>\n",
       "      <th>ST_LEAID</th>\n",
       "      <td>AL-101</td>\n",
       "      <td>AL-101</td>\n",
       "      <td>AL-101</td>\n",
       "      <td>AL-101</td>\n",
       "      <td>AL-101</td>\n",
       "    </tr>\n",
       "    <tr>\n",
       "      <th>LEAID</th>\n",
       "      <td>100005</td>\n",
       "      <td>100005</td>\n",
       "      <td>100005</td>\n",
       "      <td>100005</td>\n",
       "      <td>100005</td>\n",
       "    </tr>\n",
       "    <tr>\n",
       "      <th>ST_SCHID</th>\n",
       "      <td>AL-101-0010</td>\n",
       "      <td>AL-101-0020</td>\n",
       "      <td>AL-101-0110</td>\n",
       "      <td>AL-101-0200</td>\n",
       "      <td>AL-101-0035</td>\n",
       "    </tr>\n",
       "    <tr>\n",
       "      <th>NCESSCH</th>\n",
       "      <td>010000500870</td>\n",
       "      <td>010000500871</td>\n",
       "      <td>010000500879</td>\n",
       "      <td>010000500889</td>\n",
       "      <td>010000501616</td>\n",
       "    </tr>\n",
       "    <tr>\n",
       "      <th>SCHID</th>\n",
       "      <td>100870</td>\n",
       "      <td>100871</td>\n",
       "      <td>100879</td>\n",
       "      <td>100889</td>\n",
       "      <td>101616</td>\n",
       "    </tr>\n",
       "    <tr>\n",
       "      <th>SY_STATUS</th>\n",
       "      <td>1</td>\n",
       "      <td>1</td>\n",
       "      <td>1</td>\n",
       "      <td>1</td>\n",
       "      <td>1</td>\n",
       "    </tr>\n",
       "    <tr>\n",
       "      <th>SCH_TYPE_TEXT</th>\n",
       "      <td>Regular School</td>\n",
       "      <td>Regular School</td>\n",
       "      <td>Regular School</td>\n",
       "      <td>Regular School</td>\n",
       "      <td>Regular School</td>\n",
       "    </tr>\n",
       "    <tr>\n",
       "      <th>SCH_TYPE</th>\n",
       "      <td>1</td>\n",
       "      <td>1</td>\n",
       "      <td>1</td>\n",
       "      <td>1</td>\n",
       "      <td>1</td>\n",
       "    </tr>\n",
       "    <tr>\n",
       "      <th>LEVEL</th>\n",
       "      <td>Middle</td>\n",
       "      <td>High</td>\n",
       "      <td>Middle</td>\n",
       "      <td>Elementary</td>\n",
       "      <td>Elementary</td>\n",
       "    </tr>\n",
       "    <tr>\n",
       "      <th>TITLEI_STATUS</th>\n",
       "      <td>SWELIGSWPROG</td>\n",
       "      <td>SWELIGSWPROG</td>\n",
       "      <td>SWELIGSWPROG</td>\n",
       "      <td>SWELIGSWPROG</td>\n",
       "      <td>SWELIGSWPROG</td>\n",
       "    </tr>\n",
       "    <tr>\n",
       "      <th>TITLEI_STATUS_TEXT</th>\n",
       "      <td>Title I schoolwide school</td>\n",
       "      <td>Title I schoolwide school</td>\n",
       "      <td>Title I schoolwide school</td>\n",
       "      <td>Title I schoolwide school</td>\n",
       "      <td>Title I schoolwide school</td>\n",
       "    </tr>\n",
       "    <tr>\n",
       "      <th>TEACHERS</th>\n",
       "      <td>36</td>\n",
       "      <td>77</td>\n",
       "      <td>36</td>\n",
       "      <td>49</td>\n",
       "      <td>28</td>\n",
       "    </tr>\n",
       "    <tr>\n",
       "      <th>DATA_GROUP</th>\n",
       "      <td>Free and Reduced-price Lunch Table</td>\n",
       "      <td>Free and Reduced-price Lunch Table</td>\n",
       "      <td>Free and Reduced-price Lunch Table</td>\n",
       "      <td>Free and Reduced-price Lunch Table</td>\n",
       "      <td>Free and Reduced-price Lunch Table</td>\n",
       "    </tr>\n",
       "    <tr>\n",
       "      <th>LUNCH_PROGRAM</th>\n",
       "      <td>No Category Codes</td>\n",
       "      <td>No Category Codes</td>\n",
       "      <td>No Category Codes</td>\n",
       "      <td>No Category Codes</td>\n",
       "      <td>No Category Codes</td>\n",
       "    </tr>\n",
       "    <tr>\n",
       "      <th>FARMS_COUNT</th>\n",
       "      <td>570</td>\n",
       "      <td>832</td>\n",
       "      <td>608</td>\n",
       "      <td>684</td>\n",
       "      <td>345</td>\n",
       "    </tr>\n",
       "    <tr>\n",
       "      <th>TOTAL_INDICATOR</th>\n",
       "      <td>Education Unit Total</td>\n",
       "      <td>Education Unit Total</td>\n",
       "      <td>Education Unit Total</td>\n",
       "      <td>Education Unit Total</td>\n",
       "      <td>Education Unit Total</td>\n",
       "    </tr>\n",
       "    <tr>\n",
       "      <th>DMS_FLAG</th>\n",
       "      <td>Reported</td>\n",
       "      <td>Reported</td>\n",
       "      <td>Reported</td>\n",
       "      <td>Reported</td>\n",
       "      <td>Reported</td>\n",
       "    </tr>\n",
       "  </tbody>\n",
       "</table>\n",
       "</div>"
      ],
      "text/plain": [
       "                                                     0  \\\n",
       "SCHOOL_YEAR                                  2017-2018   \n",
       "ST                                                  AL   \n",
       "SCH_NAME                     Albertville Middle School   \n",
       "LEA_NAME                              Albertville City   \n",
       "STATE_AGENCY_NO                                      1   \n",
       "ST_LEAID                                        AL-101   \n",
       "LEAID                                           100005   \n",
       "ST_SCHID                                   AL-101-0010   \n",
       "NCESSCH                                   010000500870   \n",
       "SCHID                                           100870   \n",
       "SY_STATUS                                            1   \n",
       "SCH_TYPE_TEXT                           Regular School   \n",
       "SCH_TYPE                                             1   \n",
       "LEVEL                                           Middle   \n",
       "TITLEI_STATUS                             SWELIGSWPROG   \n",
       "TITLEI_STATUS_TEXT           Title I schoolwide school   \n",
       "TEACHERS                                            36   \n",
       "DATA_GROUP          Free and Reduced-price Lunch Table   \n",
       "LUNCH_PROGRAM                        No Category Codes   \n",
       "FARMS_COUNT                                        570   \n",
       "TOTAL_INDICATOR                   Education Unit Total   \n",
       "DMS_FLAG                                      Reported   \n",
       "\n",
       "                                                     1  \\\n",
       "SCHOOL_YEAR                                  2017-2018   \n",
       "ST                                                  AL   \n",
       "SCH_NAME                       Albertville High School   \n",
       "LEA_NAME                              Albertville City   \n",
       "STATE_AGENCY_NO                                      1   \n",
       "ST_LEAID                                        AL-101   \n",
       "LEAID                                           100005   \n",
       "ST_SCHID                                   AL-101-0020   \n",
       "NCESSCH                                   010000500871   \n",
       "SCHID                                           100871   \n",
       "SY_STATUS                                            1   \n",
       "SCH_TYPE_TEXT                           Regular School   \n",
       "SCH_TYPE                                             1   \n",
       "LEVEL                                             High   \n",
       "TITLEI_STATUS                             SWELIGSWPROG   \n",
       "TITLEI_STATUS_TEXT           Title I schoolwide school   \n",
       "TEACHERS                                            77   \n",
       "DATA_GROUP          Free and Reduced-price Lunch Table   \n",
       "LUNCH_PROGRAM                        No Category Codes   \n",
       "FARMS_COUNT                                        832   \n",
       "TOTAL_INDICATOR                   Education Unit Total   \n",
       "DMS_FLAG                                      Reported   \n",
       "\n",
       "                                                     2  \\\n",
       "SCHOOL_YEAR                                  2017-2018   \n",
       "ST                                                  AL   \n",
       "SCH_NAME                       Evans Elementary School   \n",
       "LEA_NAME                              Albertville City   \n",
       "STATE_AGENCY_NO                                      1   \n",
       "ST_LEAID                                        AL-101   \n",
       "LEAID                                           100005   \n",
       "ST_SCHID                                   AL-101-0110   \n",
       "NCESSCH                                   010000500879   \n",
       "SCHID                                           100879   \n",
       "SY_STATUS                                            1   \n",
       "SCH_TYPE_TEXT                           Regular School   \n",
       "SCH_TYPE                                             1   \n",
       "LEVEL                                           Middle   \n",
       "TITLEI_STATUS                             SWELIGSWPROG   \n",
       "TITLEI_STATUS_TEXT           Title I schoolwide school   \n",
       "TEACHERS                                            36   \n",
       "DATA_GROUP          Free and Reduced-price Lunch Table   \n",
       "LUNCH_PROGRAM                        No Category Codes   \n",
       "FARMS_COUNT                                        608   \n",
       "TOTAL_INDICATOR                   Education Unit Total   \n",
       "DMS_FLAG                                      Reported   \n",
       "\n",
       "                                                     3  \\\n",
       "SCHOOL_YEAR                                  2017-2018   \n",
       "ST                                                  AL   \n",
       "SCH_NAME                 Albertville Elementary School   \n",
       "LEA_NAME                              Albertville City   \n",
       "STATE_AGENCY_NO                                      1   \n",
       "ST_LEAID                                        AL-101   \n",
       "LEAID                                           100005   \n",
       "ST_SCHID                                   AL-101-0200   \n",
       "NCESSCH                                   010000500889   \n",
       "SCHID                                           100889   \n",
       "SY_STATUS                                            1   \n",
       "SCH_TYPE_TEXT                           Regular School   \n",
       "SCH_TYPE                                             1   \n",
       "LEVEL                                       Elementary   \n",
       "TITLEI_STATUS                             SWELIGSWPROG   \n",
       "TITLEI_STATUS_TEXT           Title I schoolwide school   \n",
       "TEACHERS                                            49   \n",
       "DATA_GROUP          Free and Reduced-price Lunch Table   \n",
       "LUNCH_PROGRAM                        No Category Codes   \n",
       "FARMS_COUNT                                        684   \n",
       "TOTAL_INDICATOR                   Education Unit Total   \n",
       "DMS_FLAG                                      Reported   \n",
       "\n",
       "                                                      4  \n",
       "SCHOOL_YEAR                                   2017-2018  \n",
       "ST                                                   AL  \n",
       "SCH_NAME            Big Spring Lake Kindergarten School  \n",
       "LEA_NAME                               Albertville City  \n",
       "STATE_AGENCY_NO                                       1  \n",
       "ST_LEAID                                         AL-101  \n",
       "LEAID                                            100005  \n",
       "ST_SCHID                                    AL-101-0035  \n",
       "NCESSCH                                    010000501616  \n",
       "SCHID                                            101616  \n",
       "SY_STATUS                                             1  \n",
       "SCH_TYPE_TEXT                            Regular School  \n",
       "SCH_TYPE                                              1  \n",
       "LEVEL                                        Elementary  \n",
       "TITLEI_STATUS                              SWELIGSWPROG  \n",
       "TITLEI_STATUS_TEXT            Title I schoolwide school  \n",
       "TEACHERS                                             28  \n",
       "DATA_GROUP           Free and Reduced-price Lunch Table  \n",
       "LUNCH_PROGRAM                         No Category Codes  \n",
       "FARMS_COUNT                                         345  \n",
       "TOTAL_INDICATOR                    Education Unit Total  \n",
       "DMS_FLAG                                       Reported  "
      ]
     },
     "execution_count": 315,
     "metadata": {},
     "output_type": "execute_result"
    }
   ],
   "source": [
    "merged_dir_char_staff_farms.head().T"
   ]
  },
  {
   "cell_type": "markdown",
   "metadata": {},
   "source": [
    "##### Dropping unnecessary columns "
   ]
  },
  {
   "cell_type": "code",
   "execution_count": 316,
   "metadata": {},
   "outputs": [],
   "source": [
    "merged_dir_char_staff_farms.drop(merged_dir_char_staff_farms.columns[[3,4,5,6,9,18,20,21]], axis=1, inplace=True)"
   ]
  },
  {
   "cell_type": "code",
   "execution_count": 317,
   "metadata": {},
   "outputs": [
    {
     "data": {
      "text/html": [
       "<div>\n",
       "<style scoped>\n",
       "    .dataframe tbody tr th:only-of-type {\n",
       "        vertical-align: middle;\n",
       "    }\n",
       "\n",
       "    .dataframe tbody tr th {\n",
       "        vertical-align: top;\n",
       "    }\n",
       "\n",
       "    .dataframe thead th {\n",
       "        text-align: right;\n",
       "    }\n",
       "</style>\n",
       "<table border=\"1\" class=\"dataframe\">\n",
       "  <thead>\n",
       "    <tr style=\"text-align: right;\">\n",
       "      <th></th>\n",
       "      <th>SCHOOL_YEAR</th>\n",
       "      <th>ST</th>\n",
       "      <th>SCH_NAME</th>\n",
       "      <th>ST_SCHID</th>\n",
       "      <th>NCESSCH</th>\n",
       "      <th>SY_STATUS</th>\n",
       "      <th>SCH_TYPE_TEXT</th>\n",
       "      <th>SCH_TYPE</th>\n",
       "      <th>LEVEL</th>\n",
       "      <th>TITLEI_STATUS</th>\n",
       "      <th>TITLEI_STATUS_TEXT</th>\n",
       "      <th>TEACHERS</th>\n",
       "      <th>DATA_GROUP</th>\n",
       "      <th>FARMS_COUNT</th>\n",
       "    </tr>\n",
       "  </thead>\n",
       "  <tbody>\n",
       "    <tr>\n",
       "      <th>0</th>\n",
       "      <td>2017-2018</td>\n",
       "      <td>AL</td>\n",
       "      <td>Albertville Middle School</td>\n",
       "      <td>AL-101-0010</td>\n",
       "      <td>010000500870</td>\n",
       "      <td>1</td>\n",
       "      <td>Regular School</td>\n",
       "      <td>1</td>\n",
       "      <td>Middle</td>\n",
       "      <td>SWELIGSWPROG</td>\n",
       "      <td>Title I schoolwide school</td>\n",
       "      <td>36.0</td>\n",
       "      <td>Free and Reduced-price Lunch Table</td>\n",
       "      <td>570.0</td>\n",
       "    </tr>\n",
       "    <tr>\n",
       "      <th>1</th>\n",
       "      <td>2017-2018</td>\n",
       "      <td>AL</td>\n",
       "      <td>Albertville High School</td>\n",
       "      <td>AL-101-0020</td>\n",
       "      <td>010000500871</td>\n",
       "      <td>1</td>\n",
       "      <td>Regular School</td>\n",
       "      <td>1</td>\n",
       "      <td>High</td>\n",
       "      <td>SWELIGSWPROG</td>\n",
       "      <td>Title I schoolwide school</td>\n",
       "      <td>77.0</td>\n",
       "      <td>Free and Reduced-price Lunch Table</td>\n",
       "      <td>832.0</td>\n",
       "    </tr>\n",
       "    <tr>\n",
       "      <th>2</th>\n",
       "      <td>2017-2018</td>\n",
       "      <td>AL</td>\n",
       "      <td>Evans Elementary School</td>\n",
       "      <td>AL-101-0110</td>\n",
       "      <td>010000500879</td>\n",
       "      <td>1</td>\n",
       "      <td>Regular School</td>\n",
       "      <td>1</td>\n",
       "      <td>Middle</td>\n",
       "      <td>SWELIGSWPROG</td>\n",
       "      <td>Title I schoolwide school</td>\n",
       "      <td>36.0</td>\n",
       "      <td>Free and Reduced-price Lunch Table</td>\n",
       "      <td>608.0</td>\n",
       "    </tr>\n",
       "    <tr>\n",
       "      <th>3</th>\n",
       "      <td>2017-2018</td>\n",
       "      <td>AL</td>\n",
       "      <td>Albertville Elementary School</td>\n",
       "      <td>AL-101-0200</td>\n",
       "      <td>010000500889</td>\n",
       "      <td>1</td>\n",
       "      <td>Regular School</td>\n",
       "      <td>1</td>\n",
       "      <td>Elementary</td>\n",
       "      <td>SWELIGSWPROG</td>\n",
       "      <td>Title I schoolwide school</td>\n",
       "      <td>49.0</td>\n",
       "      <td>Free and Reduced-price Lunch Table</td>\n",
       "      <td>684.0</td>\n",
       "    </tr>\n",
       "    <tr>\n",
       "      <th>4</th>\n",
       "      <td>2017-2018</td>\n",
       "      <td>AL</td>\n",
       "      <td>Big Spring Lake Kindergarten School</td>\n",
       "      <td>AL-101-0035</td>\n",
       "      <td>010000501616</td>\n",
       "      <td>1</td>\n",
       "      <td>Regular School</td>\n",
       "      <td>1</td>\n",
       "      <td>Elementary</td>\n",
       "      <td>SWELIGSWPROG</td>\n",
       "      <td>Title I schoolwide school</td>\n",
       "      <td>28.0</td>\n",
       "      <td>Free and Reduced-price Lunch Table</td>\n",
       "      <td>345.0</td>\n",
       "    </tr>\n",
       "  </tbody>\n",
       "</table>\n",
       "</div>"
      ],
      "text/plain": [
       "  SCHOOL_YEAR  ST                             SCH_NAME     ST_SCHID  \\\n",
       "0   2017-2018  AL            Albertville Middle School  AL-101-0010   \n",
       "1   2017-2018  AL              Albertville High School  AL-101-0020   \n",
       "2   2017-2018  AL              Evans Elementary School  AL-101-0110   \n",
       "3   2017-2018  AL        Albertville Elementary School  AL-101-0200   \n",
       "4   2017-2018  AL  Big Spring Lake Kindergarten School  AL-101-0035   \n",
       "\n",
       "        NCESSCH  SY_STATUS   SCH_TYPE_TEXT  SCH_TYPE       LEVEL  \\\n",
       "0  010000500870          1  Regular School         1      Middle   \n",
       "1  010000500871          1  Regular School         1        High   \n",
       "2  010000500879          1  Regular School         1      Middle   \n",
       "3  010000500889          1  Regular School         1  Elementary   \n",
       "4  010000501616          1  Regular School         1  Elementary   \n",
       "\n",
       "  TITLEI_STATUS         TITLEI_STATUS_TEXT  TEACHERS  \\\n",
       "0  SWELIGSWPROG  Title I schoolwide school      36.0   \n",
       "1  SWELIGSWPROG  Title I schoolwide school      77.0   \n",
       "2  SWELIGSWPROG  Title I schoolwide school      36.0   \n",
       "3  SWELIGSWPROG  Title I schoolwide school      49.0   \n",
       "4  SWELIGSWPROG  Title I schoolwide school      28.0   \n",
       "\n",
       "                           DATA_GROUP  FARMS_COUNT  \n",
       "0  Free and Reduced-price Lunch Table        570.0  \n",
       "1  Free and Reduced-price Lunch Table        832.0  \n",
       "2  Free and Reduced-price Lunch Table        608.0  \n",
       "3  Free and Reduced-price Lunch Table        684.0  \n",
       "4  Free and Reduced-price Lunch Table        345.0  "
      ]
     },
     "execution_count": 317,
     "metadata": {},
     "output_type": "execute_result"
    }
   ],
   "source": [
    "merged_dir_char_staff_farms.head()"
   ]
  },
  {
   "cell_type": "markdown",
   "metadata": {},
   "source": [
    "#### We are keeping only the open schools for the SY"
   ]
  },
  {
   "cell_type": "code",
   "execution_count": 318,
   "metadata": {},
   "outputs": [],
   "source": [
    "ccd_open_schools=merged_dir_char_staff_farms[merged_dir_char_staff_farms['SY_STATUS']==1]"
   ]
  },
  {
   "cell_type": "code",
   "execution_count": 319,
   "metadata": {},
   "outputs": [
    {
     "data": {
      "text/plain": [
       "<matplotlib.axes._subplots.AxesSubplot at 0x19a05c08780>"
      ]
     },
     "execution_count": 319,
     "metadata": {},
     "output_type": "execute_result"
    },
    {
     "data": {
      "image/png": "[encoded data removed]",
      "text/plain": [
       "<Figure size 432x288 with 2 Axes>"
      ]
     },
     "metadata": {
      "needs_background": "light"
     },
     "output_type": "display_data"
    }
   ],
   "source": [
    "sns.heatmap(ccd_open_schools.isnull(),yticklabels=False,cbar=True,cmap='viridis')"
   ]
  },
  {
   "cell_type": "markdown",
   "metadata": {},
   "source": [
    "#### We are keeping only the high schools in our dataset"
   ]
  },
  {
   "cell_type": "code",
   "execution_count": 320,
   "metadata": {},
   "outputs": [],
   "source": [
    "ccd_master_hs=ccd_open_schools[ccd_open_schools['LEVEL']=='High']"
   ]
  },
  {
   "cell_type": "code",
   "execution_count": 321,
   "metadata": {},
   "outputs": [
    {
     "data": {
      "text/plain": [
       "(22688, 14)"
      ]
     },
     "execution_count": 321,
     "metadata": {},
     "output_type": "execute_result"
    }
   ],
   "source": [
    "ccd_master_hs.shape"
   ]
  },
  {
   "cell_type": "code",
   "execution_count": 322,
   "metadata": {},
   "outputs": [
    {
     "data": {
      "text/plain": [
       "<matplotlib.axes._subplots.AxesSubplot at 0x199d5db8748>"
      ]
     },
     "execution_count": 322,
     "metadata": {},
     "output_type": "execute_result"
    },
    {
     "data": {
      "image/png": "[encoded data removed]",
      "text/plain": [
       "<Figure size 432x288 with 2 Axes>"
      ]
     },
     "metadata": {
      "needs_background": "light"
     },
     "output_type": "display_data"
    }
   ],
   "source": [
    "sns.heatmap(ccd_master_hs.isnull(),yticklabels=False,cbar=True,cmap='viridis')"
   ]
  },
  {
   "cell_type": "markdown",
   "metadata": {},
   "source": [
    "#### Lets drop all the rows with null values"
   ]
  },
  {
   "cell_type": "code",
   "execution_count": 323,
   "metadata": {},
   "outputs": [],
   "source": [
    "ccd_master_hs_new = ccd_master_hs.dropna(axis = 0, how ='any') "
   ]
  },
  {
   "cell_type": "code",
   "execution_count": 324,
   "metadata": {},
   "outputs": [
    {
     "name": "stdout",
     "output_type": "stream",
     "text": [
      "Old data frame length: 22688\n",
      "New data frame length: 19203\n",
      "Number of rows with at least 1 NA value:  3485\n"
     ]
    }
   ],
   "source": [
    "print(\"Old data frame length:\", len(ccd_master_hs)) \n",
    "print(\"New data frame length:\", len(ccd_master_hs_new))  \n",
    "print(\"Number of rows with at least 1 NA value: \", \n",
    "      (len(ccd_master_hs)-len(ccd_master_hs_new))) "
   ]
  },
  {
   "cell_type": "code",
   "execution_count": 325,
   "metadata": {},
   "outputs": [
    {
     "data": {
      "text/plain": [
       "<matplotlib.axes._subplots.AxesSubplot at 0x199342f5908>"
      ]
     },
     "execution_count": 325,
     "metadata": {},
     "output_type": "execute_result"
    },
    {
     "data": {
      "image/png": "[encoded data removed]",
      "text/plain": [
       "<Figure size 432x288 with 2 Axes>"
      ]
     },
     "metadata": {
      "needs_background": "light"
     },
     "output_type": "display_data"
    }
   ],
   "source": [
    "sns.heatmap(ccd_master_hs_new.isnull(),yticklabels=False,cbar=True,cmap='viridis')"
   ]
  },
  {
   "cell_type": "markdown",
   "metadata": {},
   "source": [
    "Lets also address the issue with Title 1 before going further."
   ]
  },
  {
   "cell_type": "code",
   "execution_count": 326,
   "metadata": {},
   "outputs": [
    {
     "name": "stdout",
     "output_type": "stream",
     "text": [
      "NOTTITLE1ELIG    6607\n",
      "SWELIGSWPROG     5852\n",
      "SWELIGNOPROG     2853\n",
      "TGELGBNOPROG     2191\n",
      "TGELGBTGPROG     1303\n",
      "SWELIGTGPROG      264\n",
      "MISSING           132\n",
      "Not reported        1\n",
      "Name: TITLEI_STATUS, dtype: int64\n"
     ]
    }
   ],
   "source": [
    "count = ccd_master_hs_new['TITLEI_STATUS'].value_counts()\n",
    "print(count)"
   ]
  },
  {
   "cell_type": "code",
   "execution_count": 327,
   "metadata": {},
   "outputs": [],
   "source": [
    "ccd_master_hs_new = ccd_master_hs_new[ccd_master_hs_new.TITLEI_STATUS != \"MISSING\"]"
   ]
  },
  {
   "cell_type": "code",
   "execution_count": 328,
   "metadata": {},
   "outputs": [
    {
     "data": {
      "text/plain": [
       "(19071, 14)"
      ]
     },
     "execution_count": 328,
     "metadata": {},
     "output_type": "execute_result"
    }
   ],
   "source": [
    "ccd_master_hs_new.shape"
   ]
  },
  {
   "cell_type": "markdown",
   "metadata": {},
   "source": [
    "##### Saving final copy of the merge file for later use"
   ]
  },
  {
   "cell_type": "code",
   "execution_count": 329,
   "metadata": {},
   "outputs": [],
   "source": [
    "ccd_master_hs_new.to_csv (r'/Users/dansa/Documents/GitHub/Phase1/Data/CCD/Clean_ccd_master.csv', index = False, header=True)"
   ]
  }
 ],
 "metadata": {
  "kernelspec": {
   "display_name": "Python 3",
   "language": "python",
   "name": "python3"
  },
  "language_info": {
   "codemirror_mode": {
    "name": "ipython",
    "version": 3
   },
   "file_extension": ".py",
   "mimetype": "text/x-python",
   "name": "python",
   "nbconvert_exporter": "python",
   "pygments_lexer": "ipython3",
   "version": "3.7.1"
  }
 },
 "nbformat": 4,
 "nbformat_minor": 4
}
