{
 "cells": [
  {
   "cell_type": "markdown",
   "metadata": {},
   "source": [
    "## Phase 1: Clean up of CCD data files"
   ]
  },
  {
   "cell_type": "code",
   "execution_count": 1,
   "metadata": {},
   "outputs": [],
   "source": [
    "import pandas\n",
    "pandas.__version__\n",
    "import numpy as np\n",
    "import matplotlib.pyplot as plt\n",
    "import seaborn as sns\n",
    "%matplotlib inline"
   ]
  },
  {
   "cell_type": "code",
   "execution_count": 2,
   "metadata": {},
   "outputs": [
    {
     "name": "stdout",
     "output_type": "stream",
     "text": [
      "/Users/dansari/Documents/GitHub/Identifying-features-to-predict-high-school-assessment-proficiency/Phase1/Data/CCD\n"
     ]
    }
   ],
   "source": [
    "cd /Users/dansari/Documents/GitHub/Identifying-features-to-predict-high-school-assessment-proficiency/Phase1/Data/CCD"
   ]
  },
  {
   "cell_type": "markdown",
   "metadata": {},
   "source": [
    "#### Cleaning and checking directory file"
   ]
  },
  {
   "cell_type": "code",
   "execution_count": 3,
   "metadata": {},
   "outputs": [
    {
     "name": "stderr",
     "output_type": "stream",
     "text": [
      "/opt/anaconda3/lib/python3.8/site-packages/IPython/core/interactiveshell.py:3071: DtypeWarning: Columns (14,15,21,22,39,41,42) have mixed types.Specify dtype option on import or set low_memory=False.\n",
      "  has_raised = await self.run_ast_nodes(code_ast.body, cell_name,\n"
     ]
    },
    {
     "data": {
      "text/html": [
       "<div>\n",
       "<style scoped>\n",
       "    .dataframe tbody tr th:only-of-type {\n",
       "        vertical-align: middle;\n",
       "    }\n",
       "\n",
       "    .dataframe tbody tr th {\n",
       "        vertical-align: top;\n",
       "    }\n",
       "\n",
       "    .dataframe thead th {\n",
       "        text-align: right;\n",
       "    }\n",
       "</style>\n",
       "<table border=\"1\" class=\"dataframe\">\n",
       "  <thead>\n",
       "    <tr style=\"text-align: right;\">\n",
       "      <th></th>\n",
       "      <th>SCHOOL_YEAR</th>\n",
       "      <th>FIPST</th>\n",
       "      <th>STATENAME</th>\n",
       "      <th>ST</th>\n",
       "      <th>SCH_NAME</th>\n",
       "      <th>LEA_NAME</th>\n",
       "      <th>STATE_AGENCY_NO</th>\n",
       "      <th>UNION</th>\n",
       "      <th>ST_LEAID</th>\n",
       "      <th>LEAID</th>\n",
       "      <th>...</th>\n",
       "      <th>G_10_OFFERED</th>\n",
       "      <th>G_11_OFFERED</th>\n",
       "      <th>G_12_OFFERED</th>\n",
       "      <th>G_13_OFFERED</th>\n",
       "      <th>G_UG_OFFERED</th>\n",
       "      <th>G_AE_OFFERED</th>\n",
       "      <th>GSLO</th>\n",
       "      <th>GSHI</th>\n",
       "      <th>LEVEL</th>\n",
       "      <th>IGOFFERED</th>\n",
       "    </tr>\n",
       "  </thead>\n",
       "  <tbody>\n",
       "    <tr>\n",
       "      <th>0</th>\n",
       "      <td>2017-2018</td>\n",
       "      <td>1</td>\n",
       "      <td>ALABAMA</td>\n",
       "      <td>AL</td>\n",
       "      <td>Albertville Middle School</td>\n",
       "      <td>Albertville City</td>\n",
       "      <td>1</td>\n",
       "      <td>NaN</td>\n",
       "      <td>AL-101</td>\n",
       "      <td>100005</td>\n",
       "      <td>...</td>\n",
       "      <td>No</td>\n",
       "      <td>No</td>\n",
       "      <td>No</td>\n",
       "      <td>No</td>\n",
       "      <td>No</td>\n",
       "      <td>No</td>\n",
       "      <td>07</td>\n",
       "      <td>08</td>\n",
       "      <td>Middle</td>\n",
       "      <td>As reported</td>\n",
       "    </tr>\n",
       "    <tr>\n",
       "      <th>1</th>\n",
       "      <td>2017-2018</td>\n",
       "      <td>1</td>\n",
       "      <td>ALABAMA</td>\n",
       "      <td>AL</td>\n",
       "      <td>Albertville High School</td>\n",
       "      <td>Albertville City</td>\n",
       "      <td>1</td>\n",
       "      <td>NaN</td>\n",
       "      <td>AL-101</td>\n",
       "      <td>100005</td>\n",
       "      <td>...</td>\n",
       "      <td>Yes</td>\n",
       "      <td>Yes</td>\n",
       "      <td>Yes</td>\n",
       "      <td>No</td>\n",
       "      <td>No</td>\n",
       "      <td>No</td>\n",
       "      <td>09</td>\n",
       "      <td>12</td>\n",
       "      <td>High</td>\n",
       "      <td>As reported</td>\n",
       "    </tr>\n",
       "    <tr>\n",
       "      <th>2</th>\n",
       "      <td>2017-2018</td>\n",
       "      <td>1</td>\n",
       "      <td>ALABAMA</td>\n",
       "      <td>AL</td>\n",
       "      <td>Evans Elementary School</td>\n",
       "      <td>Albertville City</td>\n",
       "      <td>1</td>\n",
       "      <td>NaN</td>\n",
       "      <td>AL-101</td>\n",
       "      <td>100005</td>\n",
       "      <td>...</td>\n",
       "      <td>No</td>\n",
       "      <td>No</td>\n",
       "      <td>No</td>\n",
       "      <td>No</td>\n",
       "      <td>No</td>\n",
       "      <td>No</td>\n",
       "      <td>05</td>\n",
       "      <td>06</td>\n",
       "      <td>Middle</td>\n",
       "      <td>As reported</td>\n",
       "    </tr>\n",
       "    <tr>\n",
       "      <th>3</th>\n",
       "      <td>2017-2018</td>\n",
       "      <td>1</td>\n",
       "      <td>ALABAMA</td>\n",
       "      <td>AL</td>\n",
       "      <td>Albertville Elementary School</td>\n",
       "      <td>Albertville City</td>\n",
       "      <td>1</td>\n",
       "      <td>NaN</td>\n",
       "      <td>AL-101</td>\n",
       "      <td>100005</td>\n",
       "      <td>...</td>\n",
       "      <td>No</td>\n",
       "      <td>No</td>\n",
       "      <td>No</td>\n",
       "      <td>No</td>\n",
       "      <td>No</td>\n",
       "      <td>No</td>\n",
       "      <td>03</td>\n",
       "      <td>04</td>\n",
       "      <td>Elementary</td>\n",
       "      <td>As reported</td>\n",
       "    </tr>\n",
       "    <tr>\n",
       "      <th>4</th>\n",
       "      <td>2017-2018</td>\n",
       "      <td>1</td>\n",
       "      <td>ALABAMA</td>\n",
       "      <td>AL</td>\n",
       "      <td>Big Spring Lake Kindergarten School</td>\n",
       "      <td>Albertville City</td>\n",
       "      <td>1</td>\n",
       "      <td>NaN</td>\n",
       "      <td>AL-101</td>\n",
       "      <td>100005</td>\n",
       "      <td>...</td>\n",
       "      <td>No</td>\n",
       "      <td>No</td>\n",
       "      <td>No</td>\n",
       "      <td>No</td>\n",
       "      <td>No</td>\n",
       "      <td>No</td>\n",
       "      <td>KG</td>\n",
       "      <td>KG</td>\n",
       "      <td>Elementary</td>\n",
       "      <td>As reported</td>\n",
       "    </tr>\n",
       "  </tbody>\n",
       "</table>\n",
       "<p>5 rows × 65 columns</p>\n",
       "</div>"
      ],
      "text/plain": [
       "  SCHOOL_YEAR  FIPST STATENAME  ST                             SCH_NAME  \\\n",
       "0   2017-2018      1   ALABAMA  AL            Albertville Middle School   \n",
       "1   2017-2018      1   ALABAMA  AL              Albertville High School   \n",
       "2   2017-2018      1   ALABAMA  AL              Evans Elementary School   \n",
       "3   2017-2018      1   ALABAMA  AL        Albertville Elementary School   \n",
       "4   2017-2018      1   ALABAMA  AL  Big Spring Lake Kindergarten School   \n",
       "\n",
       "           LEA_NAME  STATE_AGENCY_NO  UNION ST_LEAID   LEAID  ...  \\\n",
       "0  Albertville City                1    NaN   AL-101  100005  ...   \n",
       "1  Albertville City                1    NaN   AL-101  100005  ...   \n",
       "2  Albertville City                1    NaN   AL-101  100005  ...   \n",
       "3  Albertville City                1    NaN   AL-101  100005  ...   \n",
       "4  Albertville City                1    NaN   AL-101  100005  ...   \n",
       "\n",
       "  G_10_OFFERED  G_11_OFFERED  G_12_OFFERED G_13_OFFERED G_UG_OFFERED  \\\n",
       "0           No            No            No           No           No   \n",
       "1          Yes           Yes           Yes           No           No   \n",
       "2           No            No            No           No           No   \n",
       "3           No            No            No           No           No   \n",
       "4           No            No            No           No           No   \n",
       "\n",
       "  G_AE_OFFERED GSLO GSHI       LEVEL    IGOFFERED  \n",
       "0           No   07   08      Middle  As reported  \n",
       "1           No   09   12        High  As reported  \n",
       "2           No   05   06      Middle  As reported  \n",
       "3           No   03   04  Elementary  As reported  \n",
       "4           No   KG   KG  Elementary  As reported  \n",
       "\n",
       "[5 rows x 65 columns]"
      ]
     },
     "execution_count": 3,
     "metadata": {},
     "output_type": "execute_result"
    }
   ],
   "source": [
    "ccd_directory = pandas.read_csv(\"ccd_DIRECTORY.csv\")\n",
    "ccd_directory.head()"
   ]
  },
  {
   "cell_type": "code",
   "execution_count": 4,
   "metadata": {},
   "outputs": [
    {
     "data": {
      "text/plain": [
       "Index(['SCHOOL_YEAR', 'FIPST', 'STATENAME', 'ST', 'SCH_NAME', 'LEA_NAME',\n",
       "       'STATE_AGENCY_NO', 'UNION', 'ST_LEAID', 'LEAID', 'ST_SCHID', 'NCESSCH',\n",
       "       'SCHID', 'MSTREET1', 'MSTREET2', 'MSTREET3', 'MCITY', 'MSTATE', 'MZIP',\n",
       "       'MZIP4', 'LSTREET1', 'LSTREET2', 'LSTREET3', 'LCITY', 'LSTATE', 'LZIP',\n",
       "       'LZIP4', 'PHONE', 'WEBSITE', 'SY_STATUS', 'SY_STATUS_TEXT',\n",
       "       'UPDATED_STATUS', 'UPDATED_STATUS_TEXT', 'EFFECTIVE_DATE',\n",
       "       'SCH_TYPE_TEXT', 'SCH_TYPE', 'RECON_STATUS', 'OUT_OF_STATE_FLAG',\n",
       "       'CHARTER_TEXT', 'CHARTAUTH1', 'CHARTAUTHN1', 'CHARTAUTH2',\n",
       "       'CHARTAUTHN2', 'NOGRADES', 'G_PK_OFFERED', 'G_KG_OFFERED',\n",
       "       'G_1_OFFERED', 'G_2_OFFERED', 'G_3_OFFERED', 'G_4_OFFERED',\n",
       "       'G_5_OFFERED', 'G_6_OFFERED', 'G_7_OFFERED', 'G_8_OFFERED',\n",
       "       'G_9_OFFERED', 'G_10_OFFERED', 'G_11_OFFERED', 'G_12_OFFERED',\n",
       "       'G_13_OFFERED', 'G_UG_OFFERED', 'G_AE_OFFERED', 'GSLO', 'GSHI', 'LEVEL',\n",
       "       'IGOFFERED'],\n",
       "      dtype='object')"
      ]
     },
     "execution_count": 4,
     "metadata": {},
     "output_type": "execute_result"
    }
   ],
   "source": [
    "ccd_directory.columns"
   ]
  },
  {
   "cell_type": "code",
   "execution_count": 5,
   "metadata": {},
   "outputs": [
    {
     "data": {
      "text/plain": [
       "(102337, 65)"
      ]
     },
     "execution_count": 5,
     "metadata": {},
     "output_type": "execute_result"
    }
   ],
   "source": [
    "ccd_directory.shape"
   ]
  },
  {
   "cell_type": "code",
   "execution_count": 6,
   "metadata": {},
   "outputs": [
    {
     "data": {
      "text/html": [
       "<div>\n",
       "<style scoped>\n",
       "    .dataframe tbody tr th:only-of-type {\n",
       "        vertical-align: middle;\n",
       "    }\n",
       "\n",
       "    .dataframe tbody tr th {\n",
       "        vertical-align: top;\n",
       "    }\n",
       "\n",
       "    .dataframe thead th {\n",
       "        text-align: right;\n",
       "    }\n",
       "</style>\n",
       "<table border=\"1\" class=\"dataframe\">\n",
       "  <thead>\n",
       "    <tr style=\"text-align: right;\">\n",
       "      <th></th>\n",
       "      <th>FIPST</th>\n",
       "      <th>STATE_AGENCY_NO</th>\n",
       "      <th>UNION</th>\n",
       "      <th>LEAID</th>\n",
       "      <th>NCESSCH</th>\n",
       "      <th>SCHID</th>\n",
       "      <th>MZIP</th>\n",
       "      <th>MZIP4</th>\n",
       "      <th>LZIP</th>\n",
       "      <th>LZIP4</th>\n",
       "      <th>SY_STATUS</th>\n",
       "      <th>UPDATED_STATUS</th>\n",
       "      <th>SCH_TYPE</th>\n",
       "    </tr>\n",
       "  </thead>\n",
       "  <tbody>\n",
       "    <tr>\n",
       "      <th>count</th>\n",
       "      <td>102337.000000</td>\n",
       "      <td>102337.0</td>\n",
       "      <td>2480.000000</td>\n",
       "      <td>1.023370e+05</td>\n",
       "      <td>1.023370e+05</td>\n",
       "      <td>1.023370e+05</td>\n",
       "      <td>102337.000000</td>\n",
       "      <td>61850.000000</td>\n",
       "      <td>102337.000000</td>\n",
       "      <td>59923.000000</td>\n",
       "      <td>102337.000000</td>\n",
       "      <td>102337.000000</td>\n",
       "      <td>102337.000000</td>\n",
       "    </tr>\n",
       "    <tr>\n",
       "      <th>mean</th>\n",
       "      <td>28.935351</td>\n",
       "      <td>1.0</td>\n",
       "      <td>208.239919</td>\n",
       "      <td>2.905028e+06</td>\n",
       "      <td>2.905028e+11</td>\n",
       "      <td>2.896572e+06</td>\n",
       "      <td>53561.530258</td>\n",
       "      <td>3824.594568</td>\n",
       "      <td>53562.155437</td>\n",
       "      <td>4024.047127</td>\n",
       "      <td>1.090945</td>\n",
       "      <td>1.090300</td>\n",
       "      <td>1.220047</td>\n",
       "    </tr>\n",
       "    <tr>\n",
       "      <th>std</th>\n",
       "      <td>16.736069</td>\n",
       "      <td>0.0</td>\n",
       "      <td>125.575282</td>\n",
       "      <td>1.673215e+06</td>\n",
       "      <td>1.673215e+11</td>\n",
       "      <td>1.673399e+06</td>\n",
       "      <td>29195.160562</td>\n",
       "      <td>2818.031388</td>\n",
       "      <td>29195.888315</td>\n",
       "      <td>2791.179159</td>\n",
       "      <td>0.579787</td>\n",
       "      <td>0.574096</td>\n",
       "      <td>0.734463</td>\n",
       "    </tr>\n",
       "    <tr>\n",
       "      <th>min</th>\n",
       "      <td>1.000000</td>\n",
       "      <td>1.0</td>\n",
       "      <td>1.000000</td>\n",
       "      <td>1.000050e+05</td>\n",
       "      <td>1.000050e+10</td>\n",
       "      <td>1.000010e+05</td>\n",
       "      <td>601.000000</td>\n",
       "      <td>1.000000</td>\n",
       "      <td>601.000000</td>\n",
       "      <td>1.000000</td>\n",
       "      <td>1.000000</td>\n",
       "      <td>1.000000</td>\n",
       "      <td>1.000000</td>\n",
       "    </tr>\n",
       "    <tr>\n",
       "      <th>25%</th>\n",
       "      <td>13.000000</td>\n",
       "      <td>1.0</td>\n",
       "      <td>51.000000</td>\n",
       "      <td>1.302550e+06</td>\n",
       "      <td>1.302550e+11</td>\n",
       "      <td>1.302303e+06</td>\n",
       "      <td>30028.000000</td>\n",
       "      <td>1620.000000</td>\n",
       "      <td>30028.000000</td>\n",
       "      <td>1821.500000</td>\n",
       "      <td>1.000000</td>\n",
       "      <td>1.000000</td>\n",
       "      <td>1.000000</td>\n",
       "    </tr>\n",
       "    <tr>\n",
       "      <th>50%</th>\n",
       "      <td>29.000000</td>\n",
       "      <td>1.0</td>\n",
       "      <td>300.000000</td>\n",
       "      <td>2.906120e+06</td>\n",
       "      <td>2.906120e+11</td>\n",
       "      <td>2.900478e+06</td>\n",
       "      <td>54937.000000</td>\n",
       "      <td>3115.000000</td>\n",
       "      <td>54935.000000</td>\n",
       "      <td>3301.000000</td>\n",
       "      <td>1.000000</td>\n",
       "      <td>1.000000</td>\n",
       "      <td>1.000000</td>\n",
       "    </tr>\n",
       "    <tr>\n",
       "      <th>75%</th>\n",
       "      <td>42.000000</td>\n",
       "      <td>1.0</td>\n",
       "      <td>300.000000</td>\n",
       "      <td>4.218990e+06</td>\n",
       "      <td>4.218990e+11</td>\n",
       "      <td>4.205294e+06</td>\n",
       "      <td>78521.000000</td>\n",
       "      <td>5331.000000</td>\n",
       "      <td>78521.000000</td>\n",
       "      <td>5586.500000</td>\n",
       "      <td>1.000000</td>\n",
       "      <td>1.000000</td>\n",
       "      <td>1.000000</td>\n",
       "    </tr>\n",
       "    <tr>\n",
       "      <th>max</th>\n",
       "      <td>78.000000</td>\n",
       "      <td>1.0</td>\n",
       "      <td>301.000000</td>\n",
       "      <td>7.800030e+06</td>\n",
       "      <td>7.800030e+11</td>\n",
       "      <td>7.800037e+06</td>\n",
       "      <td>99950.000000</td>\n",
       "      <td>9999.000000</td>\n",
       "      <td>99950.000000</td>\n",
       "      <td>9999.000000</td>\n",
       "      <td>8.000000</td>\n",
       "      <td>8.000000</td>\n",
       "      <td>4.000000</td>\n",
       "    </tr>\n",
       "  </tbody>\n",
       "</table>\n",
       "</div>"
      ],
      "text/plain": [
       "               FIPST  STATE_AGENCY_NO        UNION         LEAID  \\\n",
       "count  102337.000000         102337.0  2480.000000  1.023370e+05   \n",
       "mean       28.935351              1.0   208.239919  2.905028e+06   \n",
       "std        16.736069              0.0   125.575282  1.673215e+06   \n",
       "min         1.000000              1.0     1.000000  1.000050e+05   \n",
       "25%        13.000000              1.0    51.000000  1.302550e+06   \n",
       "50%        29.000000              1.0   300.000000  2.906120e+06   \n",
       "75%        42.000000              1.0   300.000000  4.218990e+06   \n",
       "max        78.000000              1.0   301.000000  7.800030e+06   \n",
       "\n",
       "            NCESSCH         SCHID           MZIP         MZIP4           LZIP  \\\n",
       "count  1.023370e+05  1.023370e+05  102337.000000  61850.000000  102337.000000   \n",
       "mean   2.905028e+11  2.896572e+06   53561.530258   3824.594568   53562.155437   \n",
       "std    1.673215e+11  1.673399e+06   29195.160562   2818.031388   29195.888315   \n",
       "min    1.000050e+10  1.000010e+05     601.000000      1.000000     601.000000   \n",
       "25%    1.302550e+11  1.302303e+06   30028.000000   1620.000000   30028.000000   \n",
       "50%    2.906120e+11  2.900478e+06   54937.000000   3115.000000   54935.000000   \n",
       "75%    4.218990e+11  4.205294e+06   78521.000000   5331.000000   78521.000000   \n",
       "max    7.800030e+11  7.800037e+06   99950.000000   9999.000000   99950.000000   \n",
       "\n",
       "              LZIP4      SY_STATUS  UPDATED_STATUS       SCH_TYPE  \n",
       "count  59923.000000  102337.000000   102337.000000  102337.000000  \n",
       "mean    4024.047127       1.090945        1.090300       1.220047  \n",
       "std     2791.179159       0.579787        0.574096       0.734463  \n",
       "min        1.000000       1.000000        1.000000       1.000000  \n",
       "25%     1821.500000       1.000000        1.000000       1.000000  \n",
       "50%     3301.000000       1.000000        1.000000       1.000000  \n",
       "75%     5586.500000       1.000000        1.000000       1.000000  \n",
       "max     9999.000000       8.000000        8.000000       4.000000  "
      ]
     },
     "execution_count": 6,
     "metadata": {},
     "output_type": "execute_result"
    }
   ],
   "source": [
    "ccd_directory.describe()"
   ]
  },
  {
   "cell_type": "code",
   "execution_count": 7,
   "metadata": {},
   "outputs": [
    {
     "data": {
      "text/plain": [
       "<matplotlib.axes._subplots.AxesSubplot at 0x7fab7df853d0>"
      ]
     },
     "execution_count": 7,
     "metadata": {},
     "output_type": "execute_result"
    },
    {
     "data": {
      "image/png": "[encoded data removed]",
      "text/plain": [
       "<Figure size 432x288 with 2 Axes>"
      ]
     },
     "metadata": {
      "needs_background": "light"
     },
     "output_type": "display_data"
    }
   ],
   "source": [
    "sns.heatmap(ccd_directory.isnull(),yticklabels=False,cbar=True,cmap='viridis')"
   ]
  },
  {
   "cell_type": "code",
   "execution_count": 8,
   "metadata": {},
   "outputs": [
    {
     "data": {
      "text/plain": [
       "UNION           99857\n",
       "MSTREET2       100556\n",
       "MSTREET3       102309\n",
       "MZIP4           40487\n",
       "LSTREET1            2\n",
       "LSTREET2       101729\n",
       "LSTREET3       102326\n",
       "LZIP4           42414\n",
       "WEBSITE         45311\n",
       "CHARTAUTH1      95584\n",
       "CHARTAUTHN1     95584\n",
       "CHARTAUTH2     102212\n",
       "CHARTAUTHN2    102212\n",
       "dtype: int64"
      ]
     },
     "execution_count": 8,
     "metadata": {},
     "output_type": "execute_result"
    }
   ],
   "source": [
    "null_columns=ccd_directory.columns[ccd_directory.isnull().any()]\n",
    "ccd_directory[null_columns].isnull().sum()"
   ]
  },
  {
   "cell_type": "code",
   "execution_count": 9,
   "metadata": {},
   "outputs": [
    {
     "data": {
      "text/html": [
       "<div>\n",
       "<style scoped>\n",
       "    .dataframe tbody tr th:only-of-type {\n",
       "        vertical-align: middle;\n",
       "    }\n",
       "\n",
       "    .dataframe tbody tr th {\n",
       "        vertical-align: top;\n",
       "    }\n",
       "\n",
       "    .dataframe thead th {\n",
       "        text-align: right;\n",
       "    }\n",
       "</style>\n",
       "<table border=\"1\" class=\"dataframe\">\n",
       "  <thead>\n",
       "    <tr style=\"text-align: right;\">\n",
       "      <th></th>\n",
       "      <th>0</th>\n",
       "      <th>1</th>\n",
       "      <th>2</th>\n",
       "      <th>3</th>\n",
       "      <th>4</th>\n",
       "    </tr>\n",
       "  </thead>\n",
       "  <tbody>\n",
       "    <tr>\n",
       "      <th>SCHOOL_YEAR</th>\n",
       "      <td>2017-2018</td>\n",
       "      <td>2017-2018</td>\n",
       "      <td>2017-2018</td>\n",
       "      <td>2017-2018</td>\n",
       "      <td>2017-2018</td>\n",
       "    </tr>\n",
       "    <tr>\n",
       "      <th>FIPST</th>\n",
       "      <td>1</td>\n",
       "      <td>1</td>\n",
       "      <td>1</td>\n",
       "      <td>1</td>\n",
       "      <td>1</td>\n",
       "    </tr>\n",
       "    <tr>\n",
       "      <th>STATENAME</th>\n",
       "      <td>ALABAMA</td>\n",
       "      <td>ALABAMA</td>\n",
       "      <td>ALABAMA</td>\n",
       "      <td>ALABAMA</td>\n",
       "      <td>ALABAMA</td>\n",
       "    </tr>\n",
       "    <tr>\n",
       "      <th>ST</th>\n",
       "      <td>AL</td>\n",
       "      <td>AL</td>\n",
       "      <td>AL</td>\n",
       "      <td>AL</td>\n",
       "      <td>AL</td>\n",
       "    </tr>\n",
       "    <tr>\n",
       "      <th>SCH_NAME</th>\n",
       "      <td>Albertville Middle School</td>\n",
       "      <td>Albertville High School</td>\n",
       "      <td>Evans Elementary School</td>\n",
       "      <td>Albertville Elementary School</td>\n",
       "      <td>Big Spring Lake Kindergarten School</td>\n",
       "    </tr>\n",
       "    <tr>\n",
       "      <th>...</th>\n",
       "      <td>...</td>\n",
       "      <td>...</td>\n",
       "      <td>...</td>\n",
       "      <td>...</td>\n",
       "      <td>...</td>\n",
       "    </tr>\n",
       "    <tr>\n",
       "      <th>G_AE_OFFERED</th>\n",
       "      <td>No</td>\n",
       "      <td>No</td>\n",
       "      <td>No</td>\n",
       "      <td>No</td>\n",
       "      <td>No</td>\n",
       "    </tr>\n",
       "    <tr>\n",
       "      <th>GSLO</th>\n",
       "      <td>07</td>\n",
       "      <td>09</td>\n",
       "      <td>05</td>\n",
       "      <td>03</td>\n",
       "      <td>KG</td>\n",
       "    </tr>\n",
       "    <tr>\n",
       "      <th>GSHI</th>\n",
       "      <td>08</td>\n",
       "      <td>12</td>\n",
       "      <td>06</td>\n",
       "      <td>04</td>\n",
       "      <td>KG</td>\n",
       "    </tr>\n",
       "    <tr>\n",
       "      <th>LEVEL</th>\n",
       "      <td>Middle</td>\n",
       "      <td>High</td>\n",
       "      <td>Middle</td>\n",
       "      <td>Elementary</td>\n",
       "      <td>Elementary</td>\n",
       "    </tr>\n",
       "    <tr>\n",
       "      <th>IGOFFERED</th>\n",
       "      <td>As reported</td>\n",
       "      <td>As reported</td>\n",
       "      <td>As reported</td>\n",
       "      <td>As reported</td>\n",
       "      <td>As reported</td>\n",
       "    </tr>\n",
       "  </tbody>\n",
       "</table>\n",
       "<p>65 rows × 5 columns</p>\n",
       "</div>"
      ],
      "text/plain": [
       "                                      0                        1  \\\n",
       "SCHOOL_YEAR                   2017-2018                2017-2018   \n",
       "FIPST                                 1                        1   \n",
       "STATENAME                       ALABAMA                  ALABAMA   \n",
       "ST                                   AL                       AL   \n",
       "SCH_NAME      Albertville Middle School  Albertville High School   \n",
       "...                                 ...                      ...   \n",
       "G_AE_OFFERED                         No                       No   \n",
       "GSLO                                 07                       09   \n",
       "GSHI                                 08                       12   \n",
       "LEVEL                            Middle                     High   \n",
       "IGOFFERED                   As reported              As reported   \n",
       "\n",
       "                                    2                              3  \\\n",
       "SCHOOL_YEAR                 2017-2018                      2017-2018   \n",
       "FIPST                               1                              1   \n",
       "STATENAME                     ALABAMA                        ALABAMA   \n",
       "ST                                 AL                             AL   \n",
       "SCH_NAME      Evans Elementary School  Albertville Elementary School   \n",
       "...                               ...                            ...   \n",
       "G_AE_OFFERED                       No                             No   \n",
       "GSLO                               05                             03   \n",
       "GSHI                               06                             04   \n",
       "LEVEL                          Middle                     Elementary   \n",
       "IGOFFERED                 As reported                    As reported   \n",
       "\n",
       "                                                4  \n",
       "SCHOOL_YEAR                             2017-2018  \n",
       "FIPST                                           1  \n",
       "STATENAME                                 ALABAMA  \n",
       "ST                                             AL  \n",
       "SCH_NAME      Big Spring Lake Kindergarten School  \n",
       "...                                           ...  \n",
       "G_AE_OFFERED                                   No  \n",
       "GSLO                                           KG  \n",
       "GSHI                                           KG  \n",
       "LEVEL                                  Elementary  \n",
       "IGOFFERED                             As reported  \n",
       "\n",
       "[65 rows x 5 columns]"
      ]
     },
     "execution_count": 9,
     "metadata": {},
     "output_type": "execute_result"
    }
   ],
   "source": [
    "ccd_directory.head().T"
   ]
  },
  {
   "cell_type": "code",
   "execution_count": 10,
   "metadata": {},
   "outputs": [],
   "source": [
    "ccd_directory.drop(ccd_directory.columns[[1,2,7,13,14,15,16,17,18,19,20,21,22,23,24,25,26,27,28,30,31,32,33,36,37,38,39,40,41,42,43,44,45,46,47,48,49,50,51,52,53,54,55,56,\n",
    "                                         57,58,59,60,61,62,64]], axis=1, inplace=True)"
   ]
  },
  {
   "cell_type": "code",
   "execution_count": 11,
   "metadata": {},
   "outputs": [],
   "source": [
    "ccd_directory['NCESSCH'] = ccd_directory['NCESSCH'].apply(lambda x: '{0:0>12}'.format(x))"
   ]
  },
  {
   "cell_type": "code",
   "execution_count": 12,
   "metadata": {},
   "outputs": [
    {
     "data": {
      "text/html": [
       "<div>\n",
       "<style scoped>\n",
       "    .dataframe tbody tr th:only-of-type {\n",
       "        vertical-align: middle;\n",
       "    }\n",
       "\n",
       "    .dataframe tbody tr th {\n",
       "        vertical-align: top;\n",
       "    }\n",
       "\n",
       "    .dataframe thead th {\n",
       "        text-align: right;\n",
       "    }\n",
       "</style>\n",
       "<table border=\"1\" class=\"dataframe\">\n",
       "  <thead>\n",
       "    <tr style=\"text-align: right;\">\n",
       "      <th></th>\n",
       "      <th>SCHOOL_YEAR</th>\n",
       "      <th>ST</th>\n",
       "      <th>SCH_NAME</th>\n",
       "      <th>LEA_NAME</th>\n",
       "      <th>STATE_AGENCY_NO</th>\n",
       "      <th>ST_LEAID</th>\n",
       "      <th>LEAID</th>\n",
       "      <th>ST_SCHID</th>\n",
       "      <th>NCESSCH</th>\n",
       "      <th>SCHID</th>\n",
       "      <th>SY_STATUS</th>\n",
       "      <th>SCH_TYPE_TEXT</th>\n",
       "      <th>SCH_TYPE</th>\n",
       "      <th>LEVEL</th>\n",
       "    </tr>\n",
       "  </thead>\n",
       "  <tbody>\n",
       "    <tr>\n",
       "      <th>0</th>\n",
       "      <td>2017-2018</td>\n",
       "      <td>AL</td>\n",
       "      <td>Albertville Middle School</td>\n",
       "      <td>Albertville City</td>\n",
       "      <td>1</td>\n",
       "      <td>AL-101</td>\n",
       "      <td>100005</td>\n",
       "      <td>AL-101-0010</td>\n",
       "      <td>010000500870</td>\n",
       "      <td>100870</td>\n",
       "      <td>1</td>\n",
       "      <td>Regular School</td>\n",
       "      <td>1</td>\n",
       "      <td>Middle</td>\n",
       "    </tr>\n",
       "    <tr>\n",
       "      <th>1</th>\n",
       "      <td>2017-2018</td>\n",
       "      <td>AL</td>\n",
       "      <td>Albertville High School</td>\n",
       "      <td>Albertville City</td>\n",
       "      <td>1</td>\n",
       "      <td>AL-101</td>\n",
       "      <td>100005</td>\n",
       "      <td>AL-101-0020</td>\n",
       "      <td>010000500871</td>\n",
       "      <td>100871</td>\n",
       "      <td>1</td>\n",
       "      <td>Regular School</td>\n",
       "      <td>1</td>\n",
       "      <td>High</td>\n",
       "    </tr>\n",
       "    <tr>\n",
       "      <th>2</th>\n",
       "      <td>2017-2018</td>\n",
       "      <td>AL</td>\n",
       "      <td>Evans Elementary School</td>\n",
       "      <td>Albertville City</td>\n",
       "      <td>1</td>\n",
       "      <td>AL-101</td>\n",
       "      <td>100005</td>\n",
       "      <td>AL-101-0110</td>\n",
       "      <td>010000500879</td>\n",
       "      <td>100879</td>\n",
       "      <td>1</td>\n",
       "      <td>Regular School</td>\n",
       "      <td>1</td>\n",
       "      <td>Middle</td>\n",
       "    </tr>\n",
       "    <tr>\n",
       "      <th>3</th>\n",
       "      <td>2017-2018</td>\n",
       "      <td>AL</td>\n",
       "      <td>Albertville Elementary School</td>\n",
       "      <td>Albertville City</td>\n",
       "      <td>1</td>\n",
       "      <td>AL-101</td>\n",
       "      <td>100005</td>\n",
       "      <td>AL-101-0200</td>\n",
       "      <td>010000500889</td>\n",
       "      <td>100889</td>\n",
       "      <td>1</td>\n",
       "      <td>Regular School</td>\n",
       "      <td>1</td>\n",
       "      <td>Elementary</td>\n",
       "    </tr>\n",
       "    <tr>\n",
       "      <th>4</th>\n",
       "      <td>2017-2018</td>\n",
       "      <td>AL</td>\n",
       "      <td>Big Spring Lake Kindergarten School</td>\n",
       "      <td>Albertville City</td>\n",
       "      <td>1</td>\n",
       "      <td>AL-101</td>\n",
       "      <td>100005</td>\n",
       "      <td>AL-101-0035</td>\n",
       "      <td>010000501616</td>\n",
       "      <td>101616</td>\n",
       "      <td>1</td>\n",
       "      <td>Regular School</td>\n",
       "      <td>1</td>\n",
       "      <td>Elementary</td>\n",
       "    </tr>\n",
       "  </tbody>\n",
       "</table>\n",
       "</div>"
      ],
      "text/plain": [
       "  SCHOOL_YEAR  ST                             SCH_NAME          LEA_NAME  \\\n",
       "0   2017-2018  AL            Albertville Middle School  Albertville City   \n",
       "1   2017-2018  AL              Albertville High School  Albertville City   \n",
       "2   2017-2018  AL              Evans Elementary School  Albertville City   \n",
       "3   2017-2018  AL        Albertville Elementary School  Albertville City   \n",
       "4   2017-2018  AL  Big Spring Lake Kindergarten School  Albertville City   \n",
       "\n",
       "   STATE_AGENCY_NO ST_LEAID   LEAID     ST_SCHID       NCESSCH   SCHID  \\\n",
       "0                1   AL-101  100005  AL-101-0010  010000500870  100870   \n",
       "1                1   AL-101  100005  AL-101-0020  010000500871  100871   \n",
       "2                1   AL-101  100005  AL-101-0110  010000500879  100879   \n",
       "3                1   AL-101  100005  AL-101-0200  010000500889  100889   \n",
       "4                1   AL-101  100005  AL-101-0035  010000501616  101616   \n",
       "\n",
       "   SY_STATUS   SCH_TYPE_TEXT  SCH_TYPE       LEVEL  \n",
       "0          1  Regular School         1      Middle  \n",
       "1          1  Regular School         1        High  \n",
       "2          1  Regular School         1      Middle  \n",
       "3          1  Regular School         1  Elementary  \n",
       "4          1  Regular School         1  Elementary  "
      ]
     },
     "execution_count": 12,
     "metadata": {},
     "output_type": "execute_result"
    }
   ],
   "source": [
    "ccd_directory.head()"
   ]
  },
  {
   "cell_type": "code",
   "execution_count": 13,
   "metadata": {},
   "outputs": [
    {
     "data": {
      "text/plain": [
       "<matplotlib.axes._subplots.AxesSubplot at 0x7fab60282040>"
      ]
     },
     "execution_count": 13,
     "metadata": {},
     "output_type": "execute_result"
    },
    {
     "data": {
      "image/png": "[encoded data removed]",
      "text/plain": [
       "<Figure size 432x288 with 2 Axes>"
      ]
     },
     "metadata": {
      "needs_background": "light"
     },
     "output_type": "display_data"
    }
   ],
   "source": [
    "sns.heatmap(ccd_directory.isnull(),yticklabels=False,cbar=True,cmap='viridis')"
   ]
  },
  {
   "cell_type": "code",
   "execution_count": 14,
   "metadata": {},
   "outputs": [
    {
     "data": {
      "text/plain": [
       "True"
      ]
     },
     "execution_count": 14,
     "metadata": {},
     "output_type": "execute_result"
    }
   ],
   "source": [
    "ccd_directory['NCESSCH'].is_unique"
   ]
  },
  {
   "cell_type": "code",
   "execution_count": 15,
   "metadata": {},
   "outputs": [
    {
     "data": {
      "text/plain": [
       "(102337, 14)"
      ]
     },
     "execution_count": 15,
     "metadata": {},
     "output_type": "execute_result"
    }
   ],
   "source": [
    "ccd_directory.shape"
   ]
  },
  {
   "cell_type": "code",
   "execution_count": 16,
   "metadata": {},
   "outputs": [
    {
     "data": {
      "text/html": [
       "<div>\n",
       "<style scoped>\n",
       "    .dataframe tbody tr th:only-of-type {\n",
       "        vertical-align: middle;\n",
       "    }\n",
       "\n",
       "    .dataframe tbody tr th {\n",
       "        vertical-align: top;\n",
       "    }\n",
       "\n",
       "    .dataframe thead th {\n",
       "        text-align: right;\n",
       "    }\n",
       "</style>\n",
       "<table border=\"1\" class=\"dataframe\">\n",
       "  <thead>\n",
       "    <tr style=\"text-align: right;\">\n",
       "      <th></th>\n",
       "      <th>STATE_AGENCY_NO</th>\n",
       "      <th>LEAID</th>\n",
       "      <th>SCHID</th>\n",
       "      <th>SY_STATUS</th>\n",
       "      <th>SCH_TYPE</th>\n",
       "    </tr>\n",
       "  </thead>\n",
       "  <tbody>\n",
       "    <tr>\n",
       "      <th>count</th>\n",
       "      <td>102337.0</td>\n",
       "      <td>1.023370e+05</td>\n",
       "      <td>1.023370e+05</td>\n",
       "      <td>102337.000000</td>\n",
       "      <td>102337.000000</td>\n",
       "    </tr>\n",
       "    <tr>\n",
       "      <th>mean</th>\n",
       "      <td>1.0</td>\n",
       "      <td>2.905028e+06</td>\n",
       "      <td>2.896572e+06</td>\n",
       "      <td>1.090945</td>\n",
       "      <td>1.220047</td>\n",
       "    </tr>\n",
       "    <tr>\n",
       "      <th>std</th>\n",
       "      <td>0.0</td>\n",
       "      <td>1.673215e+06</td>\n",
       "      <td>1.673399e+06</td>\n",
       "      <td>0.579787</td>\n",
       "      <td>0.734463</td>\n",
       "    </tr>\n",
       "    <tr>\n",
       "      <th>min</th>\n",
       "      <td>1.0</td>\n",
       "      <td>1.000050e+05</td>\n",
       "      <td>1.000010e+05</td>\n",
       "      <td>1.000000</td>\n",
       "      <td>1.000000</td>\n",
       "    </tr>\n",
       "    <tr>\n",
       "      <th>25%</th>\n",
       "      <td>1.0</td>\n",
       "      <td>1.302550e+06</td>\n",
       "      <td>1.302303e+06</td>\n",
       "      <td>1.000000</td>\n",
       "      <td>1.000000</td>\n",
       "    </tr>\n",
       "    <tr>\n",
       "      <th>50%</th>\n",
       "      <td>1.0</td>\n",
       "      <td>2.906120e+06</td>\n",
       "      <td>2.900478e+06</td>\n",
       "      <td>1.000000</td>\n",
       "      <td>1.000000</td>\n",
       "    </tr>\n",
       "    <tr>\n",
       "      <th>75%</th>\n",
       "      <td>1.0</td>\n",
       "      <td>4.218990e+06</td>\n",
       "      <td>4.205294e+06</td>\n",
       "      <td>1.000000</td>\n",
       "      <td>1.000000</td>\n",
       "    </tr>\n",
       "    <tr>\n",
       "      <th>max</th>\n",
       "      <td>1.0</td>\n",
       "      <td>7.800030e+06</td>\n",
       "      <td>7.800037e+06</td>\n",
       "      <td>8.000000</td>\n",
       "      <td>4.000000</td>\n",
       "    </tr>\n",
       "  </tbody>\n",
       "</table>\n",
       "</div>"
      ],
      "text/plain": [
       "       STATE_AGENCY_NO         LEAID         SCHID      SY_STATUS  \\\n",
       "count         102337.0  1.023370e+05  1.023370e+05  102337.000000   \n",
       "mean               1.0  2.905028e+06  2.896572e+06       1.090945   \n",
       "std                0.0  1.673215e+06  1.673399e+06       0.579787   \n",
       "min                1.0  1.000050e+05  1.000010e+05       1.000000   \n",
       "25%                1.0  1.302550e+06  1.302303e+06       1.000000   \n",
       "50%                1.0  2.906120e+06  2.900478e+06       1.000000   \n",
       "75%                1.0  4.218990e+06  4.205294e+06       1.000000   \n",
       "max                1.0  7.800030e+06  7.800037e+06       8.000000   \n",
       "\n",
       "            SCH_TYPE  \n",
       "count  102337.000000  \n",
       "mean        1.220047  \n",
       "std         0.734463  \n",
       "min         1.000000  \n",
       "25%         1.000000  \n",
       "50%         1.000000  \n",
       "75%         1.000000  \n",
       "max         4.000000  "
      ]
     },
     "execution_count": 16,
     "metadata": {},
     "output_type": "execute_result"
    }
   ],
   "source": [
    "ccd_directory.describe()"
   ]
  },
  {
   "cell_type": "code",
   "execution_count": 17,
   "metadata": {},
   "outputs": [
    {
     "data": {
      "text/plain": [
       "array([[<matplotlib.axes._subplots.AxesSubplot object at 0x7fab4ffbcca0>,\n",
       "        <matplotlib.axes._subplots.AxesSubplot object at 0x7fab50e9c460>],\n",
       "       [<matplotlib.axes._subplots.AxesSubplot object at 0x7fab50ec7940>,\n",
       "        <matplotlib.axes._subplots.AxesSubplot object at 0x7fab50ef4d90>],\n",
       "       [<matplotlib.axes._subplots.AxesSubplot object at 0x7fab50f2e220>,\n",
       "        <matplotlib.axes._subplots.AxesSubplot object at 0x7fab50f5a730>]],\n",
       "      dtype=object)"
      ]
     },
     "execution_count": 17,
     "metadata": {},
     "output_type": "execute_result"
    },
    {
     "data": {
      "image/png": "[encoded data removed]",
      "text/plain": [
       "<Figure size 432x288 with 6 Axes>"
      ]
     },
     "metadata": {
      "needs_background": "light"
     },
     "output_type": "display_data"
    }
   ],
   "source": [
    "ccd_directory.hist()"
   ]
  },
  {
   "cell_type": "code",
   "execution_count": 18,
   "metadata": {},
   "outputs": [],
   "source": [
    "ccd_directory.to_csv (r'/Users/dansari/Documents/GitHub/Identifying-features-to-predict-high-school-assessment-proficiency/Phase1/Data/CCD/Clean_ccd_directory.csv', index = False, header=True)"
   ]
  },
  {
   "cell_type": "markdown",
   "metadata": {},
   "source": [
    "#### Cleaning and checking characteristics file"
   ]
  },
  {
   "cell_type": "code",
   "execution_count": 19,
   "metadata": {},
   "outputs": [
    {
     "data": {
      "text/html": [
       "<div>\n",
       "<style scoped>\n",
       "    .dataframe tbody tr th:only-of-type {\n",
       "        vertical-align: middle;\n",
       "    }\n",
       "\n",
       "    .dataframe tbody tr th {\n",
       "        vertical-align: top;\n",
       "    }\n",
       "\n",
       "    .dataframe thead th {\n",
       "        text-align: right;\n",
       "    }\n",
       "</style>\n",
       "<table border=\"1\" class=\"dataframe\">\n",
       "  <thead>\n",
       "    <tr style=\"text-align: right;\">\n",
       "      <th></th>\n",
       "      <th>SCHOOL_YEAR</th>\n",
       "      <th>FIPST</th>\n",
       "      <th>STATENAME</th>\n",
       "      <th>ST</th>\n",
       "      <th>SCH_NAME</th>\n",
       "      <th>STATE_AGENCY_NO</th>\n",
       "      <th>UNION</th>\n",
       "      <th>ST_LEAID</th>\n",
       "      <th>LEAID</th>\n",
       "      <th>ST_SCHID</th>\n",
       "      <th>NCESSCH</th>\n",
       "      <th>SCHID</th>\n",
       "      <th>SHARED_TIME</th>\n",
       "      <th>TITLEI_STATUS</th>\n",
       "      <th>TITLEI_STATUS_TEXT</th>\n",
       "      <th>MAGNET_TEXT</th>\n",
       "      <th>NSLP_STATUS</th>\n",
       "      <th>NSLP_STATUS_TEXT</th>\n",
       "      <th>VIRTUAL</th>\n",
       "      <th>VIRTUAL_TEXT</th>\n",
       "    </tr>\n",
       "  </thead>\n",
       "  <tbody>\n",
       "    <tr>\n",
       "      <th>0</th>\n",
       "      <td>2017-2018</td>\n",
       "      <td>1</td>\n",
       "      <td>ALABAMA</td>\n",
       "      <td>AL</td>\n",
       "      <td>Albertville Middle School</td>\n",
       "      <td>1</td>\n",
       "      <td>NaN</td>\n",
       "      <td>AL-101</td>\n",
       "      <td>100005</td>\n",
       "      <td>AL-101-0010</td>\n",
       "      <td>10000500870</td>\n",
       "      <td>100870</td>\n",
       "      <td>No</td>\n",
       "      <td>SWELIGSWPROG</td>\n",
       "      <td>Title I schoolwide school</td>\n",
       "      <td>No</td>\n",
       "      <td>NSLPCEO</td>\n",
       "      <td>Yes under Community Eligibility Option (CEO)</td>\n",
       "      <td>NOTVIRTUAL</td>\n",
       "      <td>Not Virtual</td>\n",
       "    </tr>\n",
       "    <tr>\n",
       "      <th>1</th>\n",
       "      <td>2017-2018</td>\n",
       "      <td>1</td>\n",
       "      <td>ALABAMA</td>\n",
       "      <td>AL</td>\n",
       "      <td>Albertville High School</td>\n",
       "      <td>1</td>\n",
       "      <td>NaN</td>\n",
       "      <td>AL-101</td>\n",
       "      <td>100005</td>\n",
       "      <td>AL-101-0020</td>\n",
       "      <td>10000500871</td>\n",
       "      <td>100871</td>\n",
       "      <td>No</td>\n",
       "      <td>SWELIGSWPROG</td>\n",
       "      <td>Title I schoolwide school</td>\n",
       "      <td>No</td>\n",
       "      <td>NSLPCEO</td>\n",
       "      <td>Yes under Community Eligibility Option (CEO)</td>\n",
       "      <td>NOTVIRTUAL</td>\n",
       "      <td>Not Virtual</td>\n",
       "    </tr>\n",
       "    <tr>\n",
       "      <th>2</th>\n",
       "      <td>2017-2018</td>\n",
       "      <td>1</td>\n",
       "      <td>ALABAMA</td>\n",
       "      <td>AL</td>\n",
       "      <td>Evans Elementary School</td>\n",
       "      <td>1</td>\n",
       "      <td>NaN</td>\n",
       "      <td>AL-101</td>\n",
       "      <td>100005</td>\n",
       "      <td>AL-101-0110</td>\n",
       "      <td>10000500879</td>\n",
       "      <td>100879</td>\n",
       "      <td>No</td>\n",
       "      <td>SWELIGSWPROG</td>\n",
       "      <td>Title I schoolwide school</td>\n",
       "      <td>No</td>\n",
       "      <td>NSLPCEO</td>\n",
       "      <td>Yes under Community Eligibility Option (CEO)</td>\n",
       "      <td>NOTVIRTUAL</td>\n",
       "      <td>Not Virtual</td>\n",
       "    </tr>\n",
       "    <tr>\n",
       "      <th>3</th>\n",
       "      <td>2017-2018</td>\n",
       "      <td>1</td>\n",
       "      <td>ALABAMA</td>\n",
       "      <td>AL</td>\n",
       "      <td>Albertville Elementary School</td>\n",
       "      <td>1</td>\n",
       "      <td>NaN</td>\n",
       "      <td>AL-101</td>\n",
       "      <td>100005</td>\n",
       "      <td>AL-101-0200</td>\n",
       "      <td>10000500889</td>\n",
       "      <td>100889</td>\n",
       "      <td>No</td>\n",
       "      <td>SWELIGSWPROG</td>\n",
       "      <td>Title I schoolwide school</td>\n",
       "      <td>No</td>\n",
       "      <td>NSLPCEO</td>\n",
       "      <td>Yes under Community Eligibility Option (CEO)</td>\n",
       "      <td>NOTVIRTUAL</td>\n",
       "      <td>Not Virtual</td>\n",
       "    </tr>\n",
       "    <tr>\n",
       "      <th>4</th>\n",
       "      <td>2017-2018</td>\n",
       "      <td>1</td>\n",
       "      <td>ALABAMA</td>\n",
       "      <td>AL</td>\n",
       "      <td>Big Spring Lake Kindergarten School</td>\n",
       "      <td>1</td>\n",
       "      <td>NaN</td>\n",
       "      <td>AL-101</td>\n",
       "      <td>100005</td>\n",
       "      <td>AL-101-0035</td>\n",
       "      <td>10000501616</td>\n",
       "      <td>101616</td>\n",
       "      <td>No</td>\n",
       "      <td>SWELIGSWPROG</td>\n",
       "      <td>Title I schoolwide school</td>\n",
       "      <td>No</td>\n",
       "      <td>NSLPCEO</td>\n",
       "      <td>Yes under Community Eligibility Option (CEO)</td>\n",
       "      <td>NOTVIRTUAL</td>\n",
       "      <td>Not Virtual</td>\n",
       "    </tr>\n",
       "  </tbody>\n",
       "</table>\n",
       "</div>"
      ],
      "text/plain": [
       "  SCHOOL_YEAR  FIPST STATENAME  ST                             SCH_NAME  \\\n",
       "0   2017-2018      1   ALABAMA  AL            Albertville Middle School   \n",
       "1   2017-2018      1   ALABAMA  AL              Albertville High School   \n",
       "2   2017-2018      1   ALABAMA  AL              Evans Elementary School   \n",
       "3   2017-2018      1   ALABAMA  AL        Albertville Elementary School   \n",
       "4   2017-2018      1   ALABAMA  AL  Big Spring Lake Kindergarten School   \n",
       "\n",
       "   STATE_AGENCY_NO  UNION ST_LEAID   LEAID     ST_SCHID      NCESSCH   SCHID  \\\n",
       "0                1    NaN   AL-101  100005  AL-101-0010  10000500870  100870   \n",
       "1                1    NaN   AL-101  100005  AL-101-0020  10000500871  100871   \n",
       "2                1    NaN   AL-101  100005  AL-101-0110  10000500879  100879   \n",
       "3                1    NaN   AL-101  100005  AL-101-0200  10000500889  100889   \n",
       "4                1    NaN   AL-101  100005  AL-101-0035  10000501616  101616   \n",
       "\n",
       "  SHARED_TIME TITLEI_STATUS         TITLEI_STATUS_TEXT MAGNET_TEXT  \\\n",
       "0          No  SWELIGSWPROG  Title I schoolwide school          No   \n",
       "1          No  SWELIGSWPROG  Title I schoolwide school          No   \n",
       "2          No  SWELIGSWPROG  Title I schoolwide school          No   \n",
       "3          No  SWELIGSWPROG  Title I schoolwide school          No   \n",
       "4          No  SWELIGSWPROG  Title I schoolwide school          No   \n",
       "\n",
       "  NSLP_STATUS                              NSLP_STATUS_TEXT     VIRTUAL  \\\n",
       "0     NSLPCEO  Yes under Community Eligibility Option (CEO)  NOTVIRTUAL   \n",
       "1     NSLPCEO  Yes under Community Eligibility Option (CEO)  NOTVIRTUAL   \n",
       "2     NSLPCEO  Yes under Community Eligibility Option (CEO)  NOTVIRTUAL   \n",
       "3     NSLPCEO  Yes under Community Eligibility Option (CEO)  NOTVIRTUAL   \n",
       "4     NSLPCEO  Yes under Community Eligibility Option (CEO)  NOTVIRTUAL   \n",
       "\n",
       "  VIRTUAL_TEXT  \n",
       "0  Not Virtual  \n",
       "1  Not Virtual  \n",
       "2  Not Virtual  \n",
       "3  Not Virtual  \n",
       "4  Not Virtual  "
      ]
     },
     "execution_count": 19,
     "metadata": {},
     "output_type": "execute_result"
    }
   ],
   "source": [
    "ccd_character = pandas.read_csv(\"ccd_CHARACTER.csv\")\n",
    "ccd_character.head()"
   ]
  },
  {
   "cell_type": "code",
   "execution_count": 20,
   "metadata": {},
   "outputs": [
    {
     "data": {
      "text/plain": [
       "Index(['SCHOOL_YEAR', 'FIPST', 'STATENAME', 'ST', 'SCH_NAME',\n",
       "       'STATE_AGENCY_NO', 'UNION', 'ST_LEAID', 'LEAID', 'ST_SCHID', 'NCESSCH',\n",
       "       'SCHID', 'SHARED_TIME', 'TITLEI_STATUS', 'TITLEI_STATUS_TEXT',\n",
       "       'MAGNET_TEXT', 'NSLP_STATUS', 'NSLP_STATUS_TEXT', 'VIRTUAL',\n",
       "       'VIRTUAL_TEXT'],\n",
       "      dtype='object')"
      ]
     },
     "execution_count": 20,
     "metadata": {},
     "output_type": "execute_result"
    }
   ],
   "source": [
    "ccd_character.columns"
   ]
  },
  {
   "cell_type": "code",
   "execution_count": 21,
   "metadata": {},
   "outputs": [
    {
     "data": {
      "text/plain": [
       "(99899, 20)"
      ]
     },
     "execution_count": 21,
     "metadata": {},
     "output_type": "execute_result"
    }
   ],
   "source": [
    "ccd_character.shape"
   ]
  },
  {
   "cell_type": "code",
   "execution_count": 22,
   "metadata": {},
   "outputs": [
    {
     "data": {
      "text/html": [
       "<div>\n",
       "<style scoped>\n",
       "    .dataframe tbody tr th:only-of-type {\n",
       "        vertical-align: middle;\n",
       "    }\n",
       "\n",
       "    .dataframe tbody tr th {\n",
       "        vertical-align: top;\n",
       "    }\n",
       "\n",
       "    .dataframe thead th {\n",
       "        text-align: right;\n",
       "    }\n",
       "</style>\n",
       "<table border=\"1\" class=\"dataframe\">\n",
       "  <thead>\n",
       "    <tr style=\"text-align: right;\">\n",
       "      <th></th>\n",
       "      <th>FIPST</th>\n",
       "      <th>STATE_AGENCY_NO</th>\n",
       "      <th>UNION</th>\n",
       "      <th>LEAID</th>\n",
       "      <th>NCESSCH</th>\n",
       "      <th>SCHID</th>\n",
       "    </tr>\n",
       "  </thead>\n",
       "  <tbody>\n",
       "    <tr>\n",
       "      <th>count</th>\n",
       "      <td>99899.000000</td>\n",
       "      <td>99899.0</td>\n",
       "      <td>2461.000000</td>\n",
       "      <td>9.989900e+04</td>\n",
       "      <td>9.989900e+04</td>\n",
       "      <td>9.989900e+04</td>\n",
       "    </tr>\n",
       "    <tr>\n",
       "      <th>mean</th>\n",
       "      <td>28.845214</td>\n",
       "      <td>1.0</td>\n",
       "      <td>207.949208</td>\n",
       "      <td>2.896025e+06</td>\n",
       "      <td>2.896025e+11</td>\n",
       "      <td>2.887513e+06</td>\n",
       "    </tr>\n",
       "    <tr>\n",
       "      <th>std</th>\n",
       "      <td>16.651172</td>\n",
       "      <td>0.0</td>\n",
       "      <td>125.678333</td>\n",
       "      <td>1.664674e+06</td>\n",
       "      <td>1.664674e+11</td>\n",
       "      <td>1.664877e+06</td>\n",
       "    </tr>\n",
       "    <tr>\n",
       "      <th>min</th>\n",
       "      <td>1.000000</td>\n",
       "      <td>1.0</td>\n",
       "      <td>1.000000</td>\n",
       "      <td>1.000050e+05</td>\n",
       "      <td>1.000050e+10</td>\n",
       "      <td>1.000010e+05</td>\n",
       "    </tr>\n",
       "    <tr>\n",
       "      <th>25%</th>\n",
       "      <td>13.000000</td>\n",
       "      <td>1.0</td>\n",
       "      <td>51.000000</td>\n",
       "      <td>1.302610e+06</td>\n",
       "      <td>1.302610e+11</td>\n",
       "      <td>1.302382e+06</td>\n",
       "    </tr>\n",
       "    <tr>\n",
       "      <th>50%</th>\n",
       "      <td>29.000000</td>\n",
       "      <td>1.0</td>\n",
       "      <td>300.000000</td>\n",
       "      <td>2.904140e+06</td>\n",
       "      <td>2.904140e+11</td>\n",
       "      <td>2.900318e+06</td>\n",
       "    </tr>\n",
       "    <tr>\n",
       "      <th>75%</th>\n",
       "      <td>42.000000</td>\n",
       "      <td>1.0</td>\n",
       "      <td>300.000000</td>\n",
       "      <td>4.217010e+06</td>\n",
       "      <td>4.217010e+11</td>\n",
       "      <td>4.204346e+06</td>\n",
       "    </tr>\n",
       "    <tr>\n",
       "      <th>max</th>\n",
       "      <td>78.000000</td>\n",
       "      <td>1.0</td>\n",
       "      <td>301.000000</td>\n",
       "      <td>7.800030e+06</td>\n",
       "      <td>7.800030e+11</td>\n",
       "      <td>7.800037e+06</td>\n",
       "    </tr>\n",
       "  </tbody>\n",
       "</table>\n",
       "</div>"
      ],
      "text/plain": [
       "              FIPST  STATE_AGENCY_NO        UNION         LEAID       NCESSCH  \\\n",
       "count  99899.000000          99899.0  2461.000000  9.989900e+04  9.989900e+04   \n",
       "mean      28.845214              1.0   207.949208  2.896025e+06  2.896025e+11   \n",
       "std       16.651172              0.0   125.678333  1.664674e+06  1.664674e+11   \n",
       "min        1.000000              1.0     1.000000  1.000050e+05  1.000050e+10   \n",
       "25%       13.000000              1.0    51.000000  1.302610e+06  1.302610e+11   \n",
       "50%       29.000000              1.0   300.000000  2.904140e+06  2.904140e+11   \n",
       "75%       42.000000              1.0   300.000000  4.217010e+06  4.217010e+11   \n",
       "max       78.000000              1.0   301.000000  7.800030e+06  7.800030e+11   \n",
       "\n",
       "              SCHID  \n",
       "count  9.989900e+04  \n",
       "mean   2.887513e+06  \n",
       "std    1.664877e+06  \n",
       "min    1.000010e+05  \n",
       "25%    1.302382e+06  \n",
       "50%    2.900318e+06  \n",
       "75%    4.204346e+06  \n",
       "max    7.800037e+06  "
      ]
     },
     "execution_count": 22,
     "metadata": {},
     "output_type": "execute_result"
    }
   ],
   "source": [
    "ccd_character.describe()"
   ]
  },
  {
   "cell_type": "code",
   "execution_count": 23,
   "metadata": {},
   "outputs": [
    {
     "data": {
      "text/plain": [
       "<matplotlib.axes._subplots.AxesSubplot at 0x7fab4ff2b910>"
      ]
     },
     "execution_count": 23,
     "metadata": {},
     "output_type": "execute_result"
    },
    {
     "data": {
      "image/png": "[encoded data removed]",
      "text/plain": [
       "<Figure size 432x288 with 2 Axes>"
      ]
     },
     "metadata": {
      "needs_background": "light"
     },
     "output_type": "display_data"
    }
   ],
   "source": [
    "sns.heatmap(ccd_character.isnull(),yticklabels=False,cbar=True,cmap='viridis')"
   ]
  },
  {
   "cell_type": "code",
   "execution_count": 24,
   "metadata": {},
   "outputs": [
    {
     "data": {
      "text/plain": [
       "UNION    97438\n",
       "dtype: int64"
      ]
     },
     "execution_count": 24,
     "metadata": {},
     "output_type": "execute_result"
    }
   ],
   "source": [
    "null_columns=ccd_character.columns[ccd_character.isnull().any()]\n",
    "ccd_character[null_columns].isnull().sum()"
   ]
  },
  {
   "cell_type": "code",
   "execution_count": 25,
   "metadata": {},
   "outputs": [],
   "source": [
    "ccd_character.drop(ccd_character.columns[[1,2,6,7,8,12,16,17,18,19]], axis=1, inplace=True)"
   ]
  },
  {
   "cell_type": "code",
   "execution_count": 26,
   "metadata": {},
   "outputs": [],
   "source": [
    "ccd_character['NCESSCH'] = ccd_character['NCESSCH'].apply(lambda x: '{0:0>12}'.format(x))"
   ]
  },
  {
   "cell_type": "code",
   "execution_count": 27,
   "metadata": {},
   "outputs": [
    {
     "data": {
      "text/html": [
       "<div>\n",
       "<style scoped>\n",
       "    .dataframe tbody tr th:only-of-type {\n",
       "        vertical-align: middle;\n",
       "    }\n",
       "\n",
       "    .dataframe tbody tr th {\n",
       "        vertical-align: top;\n",
       "    }\n",
       "\n",
       "    .dataframe thead th {\n",
       "        text-align: right;\n",
       "    }\n",
       "</style>\n",
       "<table border=\"1\" class=\"dataframe\">\n",
       "  <thead>\n",
       "    <tr style=\"text-align: right;\">\n",
       "      <th></th>\n",
       "      <th>SCHOOL_YEAR</th>\n",
       "      <th>ST</th>\n",
       "      <th>SCH_NAME</th>\n",
       "      <th>STATE_AGENCY_NO</th>\n",
       "      <th>ST_SCHID</th>\n",
       "      <th>NCESSCH</th>\n",
       "      <th>SCHID</th>\n",
       "      <th>TITLEI_STATUS</th>\n",
       "      <th>TITLEI_STATUS_TEXT</th>\n",
       "      <th>MAGNET_TEXT</th>\n",
       "    </tr>\n",
       "  </thead>\n",
       "  <tbody>\n",
       "    <tr>\n",
       "      <th>0</th>\n",
       "      <td>2017-2018</td>\n",
       "      <td>AL</td>\n",
       "      <td>Albertville Middle School</td>\n",
       "      <td>1</td>\n",
       "      <td>AL-101-0010</td>\n",
       "      <td>010000500870</td>\n",
       "      <td>100870</td>\n",
       "      <td>SWELIGSWPROG</td>\n",
       "      <td>Title I schoolwide school</td>\n",
       "      <td>No</td>\n",
       "    </tr>\n",
       "    <tr>\n",
       "      <th>1</th>\n",
       "      <td>2017-2018</td>\n",
       "      <td>AL</td>\n",
       "      <td>Albertville High School</td>\n",
       "      <td>1</td>\n",
       "      <td>AL-101-0020</td>\n",
       "      <td>010000500871</td>\n",
       "      <td>100871</td>\n",
       "      <td>SWELIGSWPROG</td>\n",
       "      <td>Title I schoolwide school</td>\n",
       "      <td>No</td>\n",
       "    </tr>\n",
       "    <tr>\n",
       "      <th>2</th>\n",
       "      <td>2017-2018</td>\n",
       "      <td>AL</td>\n",
       "      <td>Evans Elementary School</td>\n",
       "      <td>1</td>\n",
       "      <td>AL-101-0110</td>\n",
       "      <td>010000500879</td>\n",
       "      <td>100879</td>\n",
       "      <td>SWELIGSWPROG</td>\n",
       "      <td>Title I schoolwide school</td>\n",
       "      <td>No</td>\n",
       "    </tr>\n",
       "    <tr>\n",
       "      <th>3</th>\n",
       "      <td>2017-2018</td>\n",
       "      <td>AL</td>\n",
       "      <td>Albertville Elementary School</td>\n",
       "      <td>1</td>\n",
       "      <td>AL-101-0200</td>\n",
       "      <td>010000500889</td>\n",
       "      <td>100889</td>\n",
       "      <td>SWELIGSWPROG</td>\n",
       "      <td>Title I schoolwide school</td>\n",
       "      <td>No</td>\n",
       "    </tr>\n",
       "    <tr>\n",
       "      <th>4</th>\n",
       "      <td>2017-2018</td>\n",
       "      <td>AL</td>\n",
       "      <td>Big Spring Lake Kindergarten School</td>\n",
       "      <td>1</td>\n",
       "      <td>AL-101-0035</td>\n",
       "      <td>010000501616</td>\n",
       "      <td>101616</td>\n",
       "      <td>SWELIGSWPROG</td>\n",
       "      <td>Title I schoolwide school</td>\n",
       "      <td>No</td>\n",
       "    </tr>\n",
       "  </tbody>\n",
       "</table>\n",
       "</div>"
      ],
      "text/plain": [
       "  SCHOOL_YEAR  ST                             SCH_NAME  STATE_AGENCY_NO  \\\n",
       "0   2017-2018  AL            Albertville Middle School                1   \n",
       "1   2017-2018  AL              Albertville High School                1   \n",
       "2   2017-2018  AL              Evans Elementary School                1   \n",
       "3   2017-2018  AL        Albertville Elementary School                1   \n",
       "4   2017-2018  AL  Big Spring Lake Kindergarten School                1   \n",
       "\n",
       "      ST_SCHID       NCESSCH   SCHID TITLEI_STATUS         TITLEI_STATUS_TEXT  \\\n",
       "0  AL-101-0010  010000500870  100870  SWELIGSWPROG  Title I schoolwide school   \n",
       "1  AL-101-0020  010000500871  100871  SWELIGSWPROG  Title I schoolwide school   \n",
       "2  AL-101-0110  010000500879  100879  SWELIGSWPROG  Title I schoolwide school   \n",
       "3  AL-101-0200  010000500889  100889  SWELIGSWPROG  Title I schoolwide school   \n",
       "4  AL-101-0035  010000501616  101616  SWELIGSWPROG  Title I schoolwide school   \n",
       "\n",
       "  MAGNET_TEXT  \n",
       "0          No  \n",
       "1          No  \n",
       "2          No  \n",
       "3          No  \n",
       "4          No  "
      ]
     },
     "execution_count": 27,
     "metadata": {},
     "output_type": "execute_result"
    }
   ],
   "source": [
    "ccd_character.head()"
   ]
  },
  {
   "cell_type": "code",
   "execution_count": 28,
   "metadata": {},
   "outputs": [
    {
     "data": {
      "text/plain": [
       "True"
      ]
     },
     "execution_count": 28,
     "metadata": {},
     "output_type": "execute_result"
    }
   ],
   "source": [
    "ccd_character['NCESSCH'].is_unique"
   ]
  },
  {
   "cell_type": "code",
   "execution_count": 29,
   "metadata": {},
   "outputs": [
    {
     "data": {
      "text/plain": [
       "<matplotlib.axes._subplots.AxesSubplot at 0x7fab50e26670>"
      ]
     },
     "execution_count": 29,
     "metadata": {},
     "output_type": "execute_result"
    },
    {
     "data": {
      "image/png": "[encoded data removed]",
      "text/plain": [
       "<Figure size 432x288 with 2 Axes>"
      ]
     },
     "metadata": {
      "needs_background": "light"
     },
     "output_type": "display_data"
    }
   ],
   "source": [
    "sns.heatmap(ccd_character.isnull(),yticklabels=False,cbar=True,cmap='viridis')"
   ]
  },
  {
   "cell_type": "code",
   "execution_count": 30,
   "metadata": {},
   "outputs": [
    {
     "data": {
      "text/plain": [
       "(99899, 10)"
      ]
     },
     "execution_count": 30,
     "metadata": {},
     "output_type": "execute_result"
    }
   ],
   "source": [
    "ccd_character.shape"
   ]
  },
  {
   "cell_type": "code",
   "execution_count": 31,
   "metadata": {},
   "outputs": [
    {
     "data": {
      "text/plain": [
       "array([[<matplotlib.axes._subplots.AxesSubplot object at 0x7fab37228430>,\n",
       "        <matplotlib.axes._subplots.AxesSubplot object at 0x7fab3734aeb0>]],\n",
       "      dtype=object)"
      ]
     },
     "execution_count": 31,
     "metadata": {},
     "output_type": "execute_result"
    },
    {
     "data": {
      "image/png": "[encoded data removed]",
      "text/plain": [
       "<Figure size 432x288 with 2 Axes>"
      ]
     },
     "metadata": {
      "needs_background": "light"
     },
     "output_type": "display_data"
    }
   ],
   "source": [
    "ccd_character.hist()"
   ]
  },
  {
   "cell_type": "code",
   "execution_count": 32,
   "metadata": {},
   "outputs": [],
   "source": [
    "ccd_character.to_csv (r'/Users/dansari/Documents/GitHub/Identifying-features-to-predict-high-school-assessment-proficiency/Phase1/Data/CCD/Clean_ccd_character.csv', index = False, header=True)"
   ]
  },
  {
   "cell_type": "markdown",
   "metadata": {},
   "source": [
    "#### Cleaning and checking farms file"
   ]
  },
  {
   "cell_type": "code",
   "execution_count": 33,
   "metadata": {},
   "outputs": [
    {
     "data": {
      "text/html": [
       "<div>\n",
       "<style scoped>\n",
       "    .dataframe tbody tr th:only-of-type {\n",
       "        vertical-align: middle;\n",
       "    }\n",
       "\n",
       "    .dataframe tbody tr th {\n",
       "        vertical-align: top;\n",
       "    }\n",
       "\n",
       "    .dataframe thead th {\n",
       "        text-align: right;\n",
       "    }\n",
       "</style>\n",
       "<table border=\"1\" class=\"dataframe\">\n",
       "  <thead>\n",
       "    <tr style=\"text-align: right;\">\n",
       "      <th></th>\n",
       "      <th>SCHOOL_YEAR</th>\n",
       "      <th>FIPST</th>\n",
       "      <th>STATENAME</th>\n",
       "      <th>ST</th>\n",
       "      <th>SCH_NAME</th>\n",
       "      <th>STATE_AGENCY_NO</th>\n",
       "      <th>UNION</th>\n",
       "      <th>ST_LEAID</th>\n",
       "      <th>LEAID</th>\n",
       "      <th>ST_SCHID</th>\n",
       "      <th>NCESSCH</th>\n",
       "      <th>SCHID</th>\n",
       "      <th>DATA_GROUP</th>\n",
       "      <th>LUNCH_PROGRAM</th>\n",
       "      <th>STUDENT_COUNT</th>\n",
       "      <th>TOTAL_INDICATOR</th>\n",
       "      <th>DMS_FLAG</th>\n",
       "    </tr>\n",
       "  </thead>\n",
       "  <tbody>\n",
       "    <tr>\n",
       "      <th>0</th>\n",
       "      <td>2017-2018</td>\n",
       "      <td>1</td>\n",
       "      <td>ALABAMA</td>\n",
       "      <td>AL</td>\n",
       "      <td>Albertville Middle School</td>\n",
       "      <td>1</td>\n",
       "      <td>NaN</td>\n",
       "      <td>AL-101</td>\n",
       "      <td>100005</td>\n",
       "      <td>AL-101-0010</td>\n",
       "      <td>10000500870</td>\n",
       "      <td>100870</td>\n",
       "      <td>Free and Reduced-price Lunch Table</td>\n",
       "      <td>Free lunch qualified</td>\n",
       "      <td>518.0</td>\n",
       "      <td>Category Set A</td>\n",
       "      <td>Reported</td>\n",
       "    </tr>\n",
       "    <tr>\n",
       "      <th>1</th>\n",
       "      <td>2017-2018</td>\n",
       "      <td>1</td>\n",
       "      <td>ALABAMA</td>\n",
       "      <td>AL</td>\n",
       "      <td>Albertville Middle School</td>\n",
       "      <td>1</td>\n",
       "      <td>NaN</td>\n",
       "      <td>AL-101</td>\n",
       "      <td>100005</td>\n",
       "      <td>AL-101-0010</td>\n",
       "      <td>10000500870</td>\n",
       "      <td>100870</td>\n",
       "      <td>Free and Reduced-price Lunch Table</td>\n",
       "      <td>Reduced-price lunch qualified</td>\n",
       "      <td>52.0</td>\n",
       "      <td>Category Set A</td>\n",
       "      <td>Reported</td>\n",
       "    </tr>\n",
       "    <tr>\n",
       "      <th>2</th>\n",
       "      <td>2017-2018</td>\n",
       "      <td>1</td>\n",
       "      <td>ALABAMA</td>\n",
       "      <td>AL</td>\n",
       "      <td>Albertville Middle School</td>\n",
       "      <td>1</td>\n",
       "      <td>NaN</td>\n",
       "      <td>AL-101</td>\n",
       "      <td>100005</td>\n",
       "      <td>AL-101-0010</td>\n",
       "      <td>10000500870</td>\n",
       "      <td>100870</td>\n",
       "      <td>Free and Reduced-price Lunch Table</td>\n",
       "      <td>Missing</td>\n",
       "      <td>NaN</td>\n",
       "      <td>Category Set A</td>\n",
       "      <td>Not reported</td>\n",
       "    </tr>\n",
       "    <tr>\n",
       "      <th>3</th>\n",
       "      <td>2017-2018</td>\n",
       "      <td>1</td>\n",
       "      <td>ALABAMA</td>\n",
       "      <td>AL</td>\n",
       "      <td>Albertville Middle School</td>\n",
       "      <td>1</td>\n",
       "      <td>NaN</td>\n",
       "      <td>AL-101</td>\n",
       "      <td>100005</td>\n",
       "      <td>AL-101-0010</td>\n",
       "      <td>10000500870</td>\n",
       "      <td>100870</td>\n",
       "      <td>Direct Certification</td>\n",
       "      <td>Not Applicable</td>\n",
       "      <td>290.0</td>\n",
       "      <td>Education Unit Total</td>\n",
       "      <td>Reported</td>\n",
       "    </tr>\n",
       "    <tr>\n",
       "      <th>4</th>\n",
       "      <td>2017-2018</td>\n",
       "      <td>1</td>\n",
       "      <td>ALABAMA</td>\n",
       "      <td>AL</td>\n",
       "      <td>Albertville Middle School</td>\n",
       "      <td>1</td>\n",
       "      <td>NaN</td>\n",
       "      <td>AL-101</td>\n",
       "      <td>100005</td>\n",
       "      <td>AL-101-0010</td>\n",
       "      <td>10000500870</td>\n",
       "      <td>100870</td>\n",
       "      <td>Free and Reduced-price Lunch Table</td>\n",
       "      <td>No Category Codes</td>\n",
       "      <td>570.0</td>\n",
       "      <td>Education Unit Total</td>\n",
       "      <td>Reported</td>\n",
       "    </tr>\n",
       "  </tbody>\n",
       "</table>\n",
       "</div>"
      ],
      "text/plain": [
       "  SCHOOL_YEAR  FIPST STATENAME  ST                   SCH_NAME  \\\n",
       "0   2017-2018      1   ALABAMA  AL  Albertville Middle School   \n",
       "1   2017-2018      1   ALABAMA  AL  Albertville Middle School   \n",
       "2   2017-2018      1   ALABAMA  AL  Albertville Middle School   \n",
       "3   2017-2018      1   ALABAMA  AL  Albertville Middle School   \n",
       "4   2017-2018      1   ALABAMA  AL  Albertville Middle School   \n",
       "\n",
       "   STATE_AGENCY_NO  UNION ST_LEAID   LEAID     ST_SCHID      NCESSCH   SCHID  \\\n",
       "0                1    NaN   AL-101  100005  AL-101-0010  10000500870  100870   \n",
       "1                1    NaN   AL-101  100005  AL-101-0010  10000500870  100870   \n",
       "2                1    NaN   AL-101  100005  AL-101-0010  10000500870  100870   \n",
       "3                1    NaN   AL-101  100005  AL-101-0010  10000500870  100870   \n",
       "4                1    NaN   AL-101  100005  AL-101-0010  10000500870  100870   \n",
       "\n",
       "                           DATA_GROUP                  LUNCH_PROGRAM  \\\n",
       "0  Free and Reduced-price Lunch Table           Free lunch qualified   \n",
       "1  Free and Reduced-price Lunch Table  Reduced-price lunch qualified   \n",
       "2  Free and Reduced-price Lunch Table                        Missing   \n",
       "3                Direct Certification                 Not Applicable   \n",
       "4  Free and Reduced-price Lunch Table              No Category Codes   \n",
       "\n",
       "   STUDENT_COUNT       TOTAL_INDICATOR      DMS_FLAG  \n",
       "0          518.0        Category Set A      Reported  \n",
       "1           52.0        Category Set A      Reported  \n",
       "2            NaN        Category Set A  Not reported  \n",
       "3          290.0  Education Unit Total      Reported  \n",
       "4          570.0  Education Unit Total      Reported  "
      ]
     },
     "execution_count": 33,
     "metadata": {},
     "output_type": "execute_result"
    }
   ],
   "source": [
    "ccd_farms= pandas.read_csv(\"ccd_FARMS.csv\")\n",
    "ccd_farms.head()"
   ]
  },
  {
   "cell_type": "code",
   "execution_count": 34,
   "metadata": {},
   "outputs": [
    {
     "data": {
      "text/plain": [
       "Index(['SCHOOL_YEAR', 'FIPST', 'STATENAME', 'ST', 'SCH_NAME',\n",
       "       'STATE_AGENCY_NO', 'UNION', 'ST_LEAID', 'LEAID', 'ST_SCHID', 'NCESSCH',\n",
       "       'SCHID', 'DATA_GROUP', 'LUNCH_PROGRAM', 'STUDENT_COUNT',\n",
       "       'TOTAL_INDICATOR', 'DMS_FLAG'],\n",
       "      dtype='object')"
      ]
     },
     "execution_count": 34,
     "metadata": {},
     "output_type": "execute_result"
    }
   ],
   "source": [
    "ccd_farms.columns"
   ]
  },
  {
   "cell_type": "code",
   "execution_count": 35,
   "metadata": {},
   "outputs": [
    {
     "data": {
      "text/plain": [
       "(494745, 17)"
      ]
     },
     "execution_count": 35,
     "metadata": {},
     "output_type": "execute_result"
    }
   ],
   "source": [
    "ccd_farms.shape"
   ]
  },
  {
   "cell_type": "code",
   "execution_count": 36,
   "metadata": {},
   "outputs": [
    {
     "data": {
      "text/html": [
       "<div>\n",
       "<style scoped>\n",
       "    .dataframe tbody tr th:only-of-type {\n",
       "        vertical-align: middle;\n",
       "    }\n",
       "\n",
       "    .dataframe tbody tr th {\n",
       "        vertical-align: top;\n",
       "    }\n",
       "\n",
       "    .dataframe thead th {\n",
       "        text-align: right;\n",
       "    }\n",
       "</style>\n",
       "<table border=\"1\" class=\"dataframe\">\n",
       "  <thead>\n",
       "    <tr style=\"text-align: right;\">\n",
       "      <th></th>\n",
       "      <th>FIPST</th>\n",
       "      <th>STATE_AGENCY_NO</th>\n",
       "      <th>UNION</th>\n",
       "      <th>LEAID</th>\n",
       "      <th>NCESSCH</th>\n",
       "      <th>SCHID</th>\n",
       "      <th>STUDENT_COUNT</th>\n",
       "    </tr>\n",
       "  </thead>\n",
       "  <tbody>\n",
       "    <tr>\n",
       "      <th>count</th>\n",
       "      <td>494745.000000</td>\n",
       "      <td>494745.0</td>\n",
       "      <td>12305.000000</td>\n",
       "      <td>4.947450e+05</td>\n",
       "      <td>4.947450e+05</td>\n",
       "      <td>4.947450e+05</td>\n",
       "      <td>295346.000000</td>\n",
       "    </tr>\n",
       "    <tr>\n",
       "      <th>mean</th>\n",
       "      <td>28.849316</td>\n",
       "      <td>1.0</td>\n",
       "      <td>207.949208</td>\n",
       "      <td>2.896478e+06</td>\n",
       "      <td>2.896478e+11</td>\n",
       "      <td>2.887909e+06</td>\n",
       "      <td>187.854317</td>\n",
       "    </tr>\n",
       "    <tr>\n",
       "      <th>std</th>\n",
       "      <td>16.645236</td>\n",
       "      <td>0.0</td>\n",
       "      <td>125.657902</td>\n",
       "      <td>1.664128e+06</td>\n",
       "      <td>1.664128e+11</td>\n",
       "      <td>1.664310e+06</td>\n",
       "      <td>241.446465</td>\n",
       "    </tr>\n",
       "    <tr>\n",
       "      <th>min</th>\n",
       "      <td>1.000000</td>\n",
       "      <td>1.0</td>\n",
       "      <td>1.000000</td>\n",
       "      <td>1.000050e+05</td>\n",
       "      <td>1.000050e+10</td>\n",
       "      <td>1.000010e+05</td>\n",
       "      <td>0.000000</td>\n",
       "    </tr>\n",
       "    <tr>\n",
       "      <th>25%</th>\n",
       "      <td>13.000000</td>\n",
       "      <td>1.0</td>\n",
       "      <td>51.000000</td>\n",
       "      <td>1.302880e+06</td>\n",
       "      <td>1.302880e+11</td>\n",
       "      <td>1.302476e+06</td>\n",
       "      <td>28.000000</td>\n",
       "    </tr>\n",
       "    <tr>\n",
       "      <th>50%</th>\n",
       "      <td>29.000000</td>\n",
       "      <td>1.0</td>\n",
       "      <td>300.000000</td>\n",
       "      <td>2.905940e+06</td>\n",
       "      <td>2.905940e+11</td>\n",
       "      <td>2.900428e+06</td>\n",
       "      <td>100.000000</td>\n",
       "    </tr>\n",
       "    <tr>\n",
       "      <th>75%</th>\n",
       "      <td>42.000000</td>\n",
       "      <td>1.0</td>\n",
       "      <td>300.000000</td>\n",
       "      <td>4.216860e+06</td>\n",
       "      <td>4.216860e+11</td>\n",
       "      <td>4.204189e+06</td>\n",
       "      <td>269.000000</td>\n",
       "    </tr>\n",
       "    <tr>\n",
       "      <th>max</th>\n",
       "      <td>78.000000</td>\n",
       "      <td>1.0</td>\n",
       "      <td>301.000000</td>\n",
       "      <td>7.800030e+06</td>\n",
       "      <td>7.800030e+11</td>\n",
       "      <td>7.800037e+06</td>\n",
       "      <td>9626.000000</td>\n",
       "    </tr>\n",
       "  </tbody>\n",
       "</table>\n",
       "</div>"
      ],
      "text/plain": [
       "               FIPST  STATE_AGENCY_NO         UNION         LEAID  \\\n",
       "count  494745.000000         494745.0  12305.000000  4.947450e+05   \n",
       "mean       28.849316              1.0    207.949208  2.896478e+06   \n",
       "std        16.645236              0.0    125.657902  1.664128e+06   \n",
       "min         1.000000              1.0      1.000000  1.000050e+05   \n",
       "25%        13.000000              1.0     51.000000  1.302880e+06   \n",
       "50%        29.000000              1.0    300.000000  2.905940e+06   \n",
       "75%        42.000000              1.0    300.000000  4.216860e+06   \n",
       "max        78.000000              1.0    301.000000  7.800030e+06   \n",
       "\n",
       "            NCESSCH         SCHID  STUDENT_COUNT  \n",
       "count  4.947450e+05  4.947450e+05  295346.000000  \n",
       "mean   2.896478e+11  2.887909e+06     187.854317  \n",
       "std    1.664128e+11  1.664310e+06     241.446465  \n",
       "min    1.000050e+10  1.000010e+05       0.000000  \n",
       "25%    1.302880e+11  1.302476e+06      28.000000  \n",
       "50%    2.905940e+11  2.900428e+06     100.000000  \n",
       "75%    4.216860e+11  4.204189e+06     269.000000  \n",
       "max    7.800030e+11  7.800037e+06    9626.000000  "
      ]
     },
     "execution_count": 36,
     "metadata": {},
     "output_type": "execute_result"
    }
   ],
   "source": [
    "ccd_farms.describe()"
   ]
  },
  {
   "cell_type": "code",
   "execution_count": 37,
   "metadata": {},
   "outputs": [
    {
     "data": {
      "text/plain": [
       "<matplotlib.axes._subplots.AxesSubplot at 0x7fab372411c0>"
      ]
     },
     "execution_count": 37,
     "metadata": {},
     "output_type": "execute_result"
    },
    {
     "data": {
      "image/png": "[encoded data removed]",
      "text/plain": [
       "<Figure size 432x288 with 2 Axes>"
      ]
     },
     "metadata": {
      "needs_background": "light"
     },
     "output_type": "display_data"
    }
   ],
   "source": [
    "sns.heatmap(ccd_farms.isnull(),yticklabels=False,cbar=True,cmap='viridis')"
   ]
  },
  {
   "cell_type": "code",
   "execution_count": 38,
   "metadata": {},
   "outputs": [
    {
     "data": {
      "text/plain": [
       "UNION            482440\n",
       "STUDENT_COUNT    199399\n",
       "dtype: int64"
      ]
     },
     "execution_count": 38,
     "metadata": {},
     "output_type": "execute_result"
    }
   ],
   "source": [
    "null_columns=ccd_farms.columns[ccd_farms.isnull().any()]\n",
    "ccd_farms[null_columns].isnull().sum()"
   ]
  },
  {
   "cell_type": "code",
   "execution_count": 39,
   "metadata": {},
   "outputs": [],
   "source": [
    "ccd_farms.drop(ccd_farms.columns[[1,2,6,7,8]], axis=1, inplace=True)"
   ]
  },
  {
   "cell_type": "code",
   "execution_count": 40,
   "metadata": {},
   "outputs": [],
   "source": [
    "ccd_farms['NCESSCH'] = ccd_farms['NCESSCH'].apply(lambda x: '{0:0>12}'.format(x))"
   ]
  },
  {
   "cell_type": "code",
   "execution_count": 41,
   "metadata": {},
   "outputs": [
    {
     "data": {
      "text/html": [
       "<div>\n",
       "<style scoped>\n",
       "    .dataframe tbody tr th:only-of-type {\n",
       "        vertical-align: middle;\n",
       "    }\n",
       "\n",
       "    .dataframe tbody tr th {\n",
       "        vertical-align: top;\n",
       "    }\n",
       "\n",
       "    .dataframe thead th {\n",
       "        text-align: right;\n",
       "    }\n",
       "</style>\n",
       "<table border=\"1\" class=\"dataframe\">\n",
       "  <thead>\n",
       "    <tr style=\"text-align: right;\">\n",
       "      <th></th>\n",
       "      <th>SCHOOL_YEAR</th>\n",
       "      <th>ST</th>\n",
       "      <th>SCH_NAME</th>\n",
       "      <th>STATE_AGENCY_NO</th>\n",
       "      <th>ST_SCHID</th>\n",
       "      <th>NCESSCH</th>\n",
       "      <th>SCHID</th>\n",
       "      <th>DATA_GROUP</th>\n",
       "      <th>LUNCH_PROGRAM</th>\n",
       "      <th>STUDENT_COUNT</th>\n",
       "      <th>TOTAL_INDICATOR</th>\n",
       "      <th>DMS_FLAG</th>\n",
       "    </tr>\n",
       "  </thead>\n",
       "  <tbody>\n",
       "    <tr>\n",
       "      <th>0</th>\n",
       "      <td>2017-2018</td>\n",
       "      <td>AL</td>\n",
       "      <td>Albertville Middle School</td>\n",
       "      <td>1</td>\n",
       "      <td>AL-101-0010</td>\n",
       "      <td>010000500870</td>\n",
       "      <td>100870</td>\n",
       "      <td>Free and Reduced-price Lunch Table</td>\n",
       "      <td>Free lunch qualified</td>\n",
       "      <td>518.0</td>\n",
       "      <td>Category Set A</td>\n",
       "      <td>Reported</td>\n",
       "    </tr>\n",
       "    <tr>\n",
       "      <th>1</th>\n",
       "      <td>2017-2018</td>\n",
       "      <td>AL</td>\n",
       "      <td>Albertville Middle School</td>\n",
       "      <td>1</td>\n",
       "      <td>AL-101-0010</td>\n",
       "      <td>010000500870</td>\n",
       "      <td>100870</td>\n",
       "      <td>Free and Reduced-price Lunch Table</td>\n",
       "      <td>Reduced-price lunch qualified</td>\n",
       "      <td>52.0</td>\n",
       "      <td>Category Set A</td>\n",
       "      <td>Reported</td>\n",
       "    </tr>\n",
       "    <tr>\n",
       "      <th>2</th>\n",
       "      <td>2017-2018</td>\n",
       "      <td>AL</td>\n",
       "      <td>Albertville Middle School</td>\n",
       "      <td>1</td>\n",
       "      <td>AL-101-0010</td>\n",
       "      <td>010000500870</td>\n",
       "      <td>100870</td>\n",
       "      <td>Free and Reduced-price Lunch Table</td>\n",
       "      <td>Missing</td>\n",
       "      <td>NaN</td>\n",
       "      <td>Category Set A</td>\n",
       "      <td>Not reported</td>\n",
       "    </tr>\n",
       "    <tr>\n",
       "      <th>3</th>\n",
       "      <td>2017-2018</td>\n",
       "      <td>AL</td>\n",
       "      <td>Albertville Middle School</td>\n",
       "      <td>1</td>\n",
       "      <td>AL-101-0010</td>\n",
       "      <td>010000500870</td>\n",
       "      <td>100870</td>\n",
       "      <td>Direct Certification</td>\n",
       "      <td>Not Applicable</td>\n",
       "      <td>290.0</td>\n",
       "      <td>Education Unit Total</td>\n",
       "      <td>Reported</td>\n",
       "    </tr>\n",
       "    <tr>\n",
       "      <th>4</th>\n",
       "      <td>2017-2018</td>\n",
       "      <td>AL</td>\n",
       "      <td>Albertville Middle School</td>\n",
       "      <td>1</td>\n",
       "      <td>AL-101-0010</td>\n",
       "      <td>010000500870</td>\n",
       "      <td>100870</td>\n",
       "      <td>Free and Reduced-price Lunch Table</td>\n",
       "      <td>No Category Codes</td>\n",
       "      <td>570.0</td>\n",
       "      <td>Education Unit Total</td>\n",
       "      <td>Reported</td>\n",
       "    </tr>\n",
       "  </tbody>\n",
       "</table>\n",
       "</div>"
      ],
      "text/plain": [
       "  SCHOOL_YEAR  ST                   SCH_NAME  STATE_AGENCY_NO     ST_SCHID  \\\n",
       "0   2017-2018  AL  Albertville Middle School                1  AL-101-0010   \n",
       "1   2017-2018  AL  Albertville Middle School                1  AL-101-0010   \n",
       "2   2017-2018  AL  Albertville Middle School                1  AL-101-0010   \n",
       "3   2017-2018  AL  Albertville Middle School                1  AL-101-0010   \n",
       "4   2017-2018  AL  Albertville Middle School                1  AL-101-0010   \n",
       "\n",
       "        NCESSCH   SCHID                          DATA_GROUP  \\\n",
       "0  010000500870  100870  Free and Reduced-price Lunch Table   \n",
       "1  010000500870  100870  Free and Reduced-price Lunch Table   \n",
       "2  010000500870  100870  Free and Reduced-price Lunch Table   \n",
       "3  010000500870  100870                Direct Certification   \n",
       "4  010000500870  100870  Free and Reduced-price Lunch Table   \n",
       "\n",
       "                   LUNCH_PROGRAM  STUDENT_COUNT       TOTAL_INDICATOR  \\\n",
       "0           Free lunch qualified          518.0        Category Set A   \n",
       "1  Reduced-price lunch qualified           52.0        Category Set A   \n",
       "2                        Missing            NaN        Category Set A   \n",
       "3                 Not Applicable          290.0  Education Unit Total   \n",
       "4              No Category Codes          570.0  Education Unit Total   \n",
       "\n",
       "       DMS_FLAG  \n",
       "0      Reported  \n",
       "1      Reported  \n",
       "2  Not reported  \n",
       "3      Reported  \n",
       "4      Reported  "
      ]
     },
     "execution_count": 41,
     "metadata": {},
     "output_type": "execute_result"
    }
   ],
   "source": [
    "ccd_farms.head()"
   ]
  },
  {
   "cell_type": "code",
   "execution_count": 42,
   "metadata": {},
   "outputs": [
    {
     "data": {
      "text/plain": [
       "False"
      ]
     },
     "execution_count": 42,
     "metadata": {},
     "output_type": "execute_result"
    }
   ],
   "source": [
    "ccd_farms['NCESSCH'].is_unique #need a list of unique schools"
   ]
  },
  {
   "cell_type": "code",
   "execution_count": 43,
   "metadata": {},
   "outputs": [],
   "source": [
    "ccd_farms_EUT=ccd_farms[ccd_farms['TOTAL_INDICATOR']=='Education Unit Total']"
   ]
  },
  {
   "cell_type": "code",
   "execution_count": 44,
   "metadata": {},
   "outputs": [
    {
     "data": {
      "text/html": [
       "<div>\n",
       "<style scoped>\n",
       "    .dataframe tbody tr th:only-of-type {\n",
       "        vertical-align: middle;\n",
       "    }\n",
       "\n",
       "    .dataframe tbody tr th {\n",
       "        vertical-align: top;\n",
       "    }\n",
       "\n",
       "    .dataframe thead th {\n",
       "        text-align: right;\n",
       "    }\n",
       "</style>\n",
       "<table border=\"1\" class=\"dataframe\">\n",
       "  <thead>\n",
       "    <tr style=\"text-align: right;\">\n",
       "      <th></th>\n",
       "      <th>SCHOOL_YEAR</th>\n",
       "      <th>ST</th>\n",
       "      <th>SCH_NAME</th>\n",
       "      <th>STATE_AGENCY_NO</th>\n",
       "      <th>ST_SCHID</th>\n",
       "      <th>NCESSCH</th>\n",
       "      <th>SCHID</th>\n",
       "      <th>DATA_GROUP</th>\n",
       "      <th>LUNCH_PROGRAM</th>\n",
       "      <th>STUDENT_COUNT</th>\n",
       "      <th>TOTAL_INDICATOR</th>\n",
       "      <th>DMS_FLAG</th>\n",
       "    </tr>\n",
       "  </thead>\n",
       "  <tbody>\n",
       "    <tr>\n",
       "      <th>3</th>\n",
       "      <td>2017-2018</td>\n",
       "      <td>AL</td>\n",
       "      <td>Albertville Middle School</td>\n",
       "      <td>1</td>\n",
       "      <td>AL-101-0010</td>\n",
       "      <td>010000500870</td>\n",
       "      <td>100870</td>\n",
       "      <td>Direct Certification</td>\n",
       "      <td>Not Applicable</td>\n",
       "      <td>290.0</td>\n",
       "      <td>Education Unit Total</td>\n",
       "      <td>Reported</td>\n",
       "    </tr>\n",
       "    <tr>\n",
       "      <th>4</th>\n",
       "      <td>2017-2018</td>\n",
       "      <td>AL</td>\n",
       "      <td>Albertville Middle School</td>\n",
       "      <td>1</td>\n",
       "      <td>AL-101-0010</td>\n",
       "      <td>010000500870</td>\n",
       "      <td>100870</td>\n",
       "      <td>Free and Reduced-price Lunch Table</td>\n",
       "      <td>No Category Codes</td>\n",
       "      <td>570.0</td>\n",
       "      <td>Education Unit Total</td>\n",
       "      <td>Reported</td>\n",
       "    </tr>\n",
       "    <tr>\n",
       "      <th>8</th>\n",
       "      <td>2017-2018</td>\n",
       "      <td>AL</td>\n",
       "      <td>Albertville High School</td>\n",
       "      <td>1</td>\n",
       "      <td>AL-101-0020</td>\n",
       "      <td>010000500871</td>\n",
       "      <td>100871</td>\n",
       "      <td>Direct Certification</td>\n",
       "      <td>Not Applicable</td>\n",
       "      <td>432.0</td>\n",
       "      <td>Education Unit Total</td>\n",
       "      <td>Reported</td>\n",
       "    </tr>\n",
       "    <tr>\n",
       "      <th>9</th>\n",
       "      <td>2017-2018</td>\n",
       "      <td>AL</td>\n",
       "      <td>Albertville High School</td>\n",
       "      <td>1</td>\n",
       "      <td>AL-101-0020</td>\n",
       "      <td>010000500871</td>\n",
       "      <td>100871</td>\n",
       "      <td>Free and Reduced-price Lunch Table</td>\n",
       "      <td>No Category Codes</td>\n",
       "      <td>832.0</td>\n",
       "      <td>Education Unit Total</td>\n",
       "      <td>Reported</td>\n",
       "    </tr>\n",
       "    <tr>\n",
       "      <th>13</th>\n",
       "      <td>2017-2018</td>\n",
       "      <td>AL</td>\n",
       "      <td>Evans Elementary School</td>\n",
       "      <td>1</td>\n",
       "      <td>AL-101-0110</td>\n",
       "      <td>010000500879</td>\n",
       "      <td>100879</td>\n",
       "      <td>Direct Certification</td>\n",
       "      <td>Not Applicable</td>\n",
       "      <td>349.0</td>\n",
       "      <td>Education Unit Total</td>\n",
       "      <td>Reported</td>\n",
       "    </tr>\n",
       "  </tbody>\n",
       "</table>\n",
       "</div>"
      ],
      "text/plain": [
       "   SCHOOL_YEAR  ST                   SCH_NAME  STATE_AGENCY_NO     ST_SCHID  \\\n",
       "3    2017-2018  AL  Albertville Middle School                1  AL-101-0010   \n",
       "4    2017-2018  AL  Albertville Middle School                1  AL-101-0010   \n",
       "8    2017-2018  AL    Albertville High School                1  AL-101-0020   \n",
       "9    2017-2018  AL    Albertville High School                1  AL-101-0020   \n",
       "13   2017-2018  AL    Evans Elementary School                1  AL-101-0110   \n",
       "\n",
       "         NCESSCH   SCHID                          DATA_GROUP  \\\n",
       "3   010000500870  100870                Direct Certification   \n",
       "4   010000500870  100870  Free and Reduced-price Lunch Table   \n",
       "8   010000500871  100871                Direct Certification   \n",
       "9   010000500871  100871  Free and Reduced-price Lunch Table   \n",
       "13  010000500879  100879                Direct Certification   \n",
       "\n",
       "        LUNCH_PROGRAM  STUDENT_COUNT       TOTAL_INDICATOR  DMS_FLAG  \n",
       "3      Not Applicable          290.0  Education Unit Total  Reported  \n",
       "4   No Category Codes          570.0  Education Unit Total  Reported  \n",
       "8      Not Applicable          432.0  Education Unit Total  Reported  \n",
       "9   No Category Codes          832.0  Education Unit Total  Reported  \n",
       "13     Not Applicable          349.0  Education Unit Total  Reported  "
      ]
     },
     "execution_count": 44,
     "metadata": {},
     "output_type": "execute_result"
    }
   ],
   "source": [
    "ccd_farms_EUT.head()"
   ]
  },
  {
   "cell_type": "code",
   "execution_count": 45,
   "metadata": {},
   "outputs": [
    {
     "data": {
      "text/plain": [
       "(197898, 12)"
      ]
     },
     "execution_count": 45,
     "metadata": {},
     "output_type": "execute_result"
    }
   ],
   "source": [
    "ccd_farms_EUT.shape"
   ]
  },
  {
   "cell_type": "code",
   "execution_count": 46,
   "metadata": {},
   "outputs": [],
   "source": [
    "ccd_farms_FRL=ccd_farms_EUT[ccd_farms_EUT['DATA_GROUP']=='Free and Reduced-price Lunch Table']"
   ]
  },
  {
   "cell_type": "code",
   "execution_count": 47,
   "metadata": {},
   "outputs": [
    {
     "data": {
      "text/html": [
       "<div>\n",
       "<style scoped>\n",
       "    .dataframe tbody tr th:only-of-type {\n",
       "        vertical-align: middle;\n",
       "    }\n",
       "\n",
       "    .dataframe tbody tr th {\n",
       "        vertical-align: top;\n",
       "    }\n",
       "\n",
       "    .dataframe thead th {\n",
       "        text-align: right;\n",
       "    }\n",
       "</style>\n",
       "<table border=\"1\" class=\"dataframe\">\n",
       "  <thead>\n",
       "    <tr style=\"text-align: right;\">\n",
       "      <th></th>\n",
       "      <th>SCHOOL_YEAR</th>\n",
       "      <th>ST</th>\n",
       "      <th>SCH_NAME</th>\n",
       "      <th>STATE_AGENCY_NO</th>\n",
       "      <th>ST_SCHID</th>\n",
       "      <th>NCESSCH</th>\n",
       "      <th>SCHID</th>\n",
       "      <th>DATA_GROUP</th>\n",
       "      <th>LUNCH_PROGRAM</th>\n",
       "      <th>STUDENT_COUNT</th>\n",
       "      <th>TOTAL_INDICATOR</th>\n",
       "      <th>DMS_FLAG</th>\n",
       "    </tr>\n",
       "  </thead>\n",
       "  <tbody>\n",
       "    <tr>\n",
       "      <th>4</th>\n",
       "      <td>2017-2018</td>\n",
       "      <td>AL</td>\n",
       "      <td>Albertville Middle School</td>\n",
       "      <td>1</td>\n",
       "      <td>AL-101-0010</td>\n",
       "      <td>010000500870</td>\n",
       "      <td>100870</td>\n",
       "      <td>Free and Reduced-price Lunch Table</td>\n",
       "      <td>No Category Codes</td>\n",
       "      <td>570.0</td>\n",
       "      <td>Education Unit Total</td>\n",
       "      <td>Reported</td>\n",
       "    </tr>\n",
       "    <tr>\n",
       "      <th>9</th>\n",
       "      <td>2017-2018</td>\n",
       "      <td>AL</td>\n",
       "      <td>Albertville High School</td>\n",
       "      <td>1</td>\n",
       "      <td>AL-101-0020</td>\n",
       "      <td>010000500871</td>\n",
       "      <td>100871</td>\n",
       "      <td>Free and Reduced-price Lunch Table</td>\n",
       "      <td>No Category Codes</td>\n",
       "      <td>832.0</td>\n",
       "      <td>Education Unit Total</td>\n",
       "      <td>Reported</td>\n",
       "    </tr>\n",
       "    <tr>\n",
       "      <th>14</th>\n",
       "      <td>2017-2018</td>\n",
       "      <td>AL</td>\n",
       "      <td>Evans Elementary School</td>\n",
       "      <td>1</td>\n",
       "      <td>AL-101-0110</td>\n",
       "      <td>010000500879</td>\n",
       "      <td>100879</td>\n",
       "      <td>Free and Reduced-price Lunch Table</td>\n",
       "      <td>No Category Codes</td>\n",
       "      <td>608.0</td>\n",
       "      <td>Education Unit Total</td>\n",
       "      <td>Reported</td>\n",
       "    </tr>\n",
       "    <tr>\n",
       "      <th>19</th>\n",
       "      <td>2017-2018</td>\n",
       "      <td>AL</td>\n",
       "      <td>Albertville Elementary School</td>\n",
       "      <td>1</td>\n",
       "      <td>AL-101-0200</td>\n",
       "      <td>010000500889</td>\n",
       "      <td>100889</td>\n",
       "      <td>Free and Reduced-price Lunch Table</td>\n",
       "      <td>No Category Codes</td>\n",
       "      <td>684.0</td>\n",
       "      <td>Education Unit Total</td>\n",
       "      <td>Reported</td>\n",
       "    </tr>\n",
       "    <tr>\n",
       "      <th>24</th>\n",
       "      <td>2017-2018</td>\n",
       "      <td>AL</td>\n",
       "      <td>Big Spring Lake Kindergarten School</td>\n",
       "      <td>1</td>\n",
       "      <td>AL-101-0035</td>\n",
       "      <td>010000501616</td>\n",
       "      <td>101616</td>\n",
       "      <td>Free and Reduced-price Lunch Table</td>\n",
       "      <td>No Category Codes</td>\n",
       "      <td>345.0</td>\n",
       "      <td>Education Unit Total</td>\n",
       "      <td>Reported</td>\n",
       "    </tr>\n",
       "  </tbody>\n",
       "</table>\n",
       "</div>"
      ],
      "text/plain": [
       "   SCHOOL_YEAR  ST                             SCH_NAME  STATE_AGENCY_NO  \\\n",
       "4    2017-2018  AL            Albertville Middle School                1   \n",
       "9    2017-2018  AL              Albertville High School                1   \n",
       "14   2017-2018  AL              Evans Elementary School                1   \n",
       "19   2017-2018  AL        Albertville Elementary School                1   \n",
       "24   2017-2018  AL  Big Spring Lake Kindergarten School                1   \n",
       "\n",
       "       ST_SCHID       NCESSCH   SCHID                          DATA_GROUP  \\\n",
       "4   AL-101-0010  010000500870  100870  Free and Reduced-price Lunch Table   \n",
       "9   AL-101-0020  010000500871  100871  Free and Reduced-price Lunch Table   \n",
       "14  AL-101-0110  010000500879  100879  Free and Reduced-price Lunch Table   \n",
       "19  AL-101-0200  010000500889  100889  Free and Reduced-price Lunch Table   \n",
       "24  AL-101-0035  010000501616  101616  Free and Reduced-price Lunch Table   \n",
       "\n",
       "        LUNCH_PROGRAM  STUDENT_COUNT       TOTAL_INDICATOR  DMS_FLAG  \n",
       "4   No Category Codes          570.0  Education Unit Total  Reported  \n",
       "9   No Category Codes          832.0  Education Unit Total  Reported  \n",
       "14  No Category Codes          608.0  Education Unit Total  Reported  \n",
       "19  No Category Codes          684.0  Education Unit Total  Reported  \n",
       "24  No Category Codes          345.0  Education Unit Total  Reported  "
      ]
     },
     "execution_count": 47,
     "metadata": {},
     "output_type": "execute_result"
    }
   ],
   "source": [
    "ccd_farms_FRL.head()"
   ]
  },
  {
   "cell_type": "code",
   "execution_count": 48,
   "metadata": {},
   "outputs": [
    {
     "data": {
      "text/plain": [
       "(98949, 12)"
      ]
     },
     "execution_count": 48,
     "metadata": {},
     "output_type": "execute_result"
    }
   ],
   "source": [
    "ccd_farms_FRL.shape"
   ]
  },
  {
   "cell_type": "code",
   "execution_count": 49,
   "metadata": {},
   "outputs": [
    {
     "name": "stderr",
     "output_type": "stream",
     "text": [
      "/opt/anaconda3/lib/python3.8/site-packages/pandas/core/frame.py:4125: SettingWithCopyWarning: \n",
      "A value is trying to be set on a copy of a slice from a DataFrame\n",
      "\n",
      "See the caveats in the documentation: https://pandas.pydata.org/pandas-docs/stable/user_guide/indexing.html#returning-a-view-versus-a-copy\n",
      "  return super().rename(\n"
     ]
    }
   ],
   "source": [
    "ccd_farms_FRL.rename(columns={'STUDENT_COUNT':'FARMS_COUNT'}, inplace=True)"
   ]
  },
  {
   "cell_type": "code",
   "execution_count": 50,
   "metadata": {},
   "outputs": [
    {
     "data": {
      "text/html": [
       "<div>\n",
       "<style scoped>\n",
       "    .dataframe tbody tr th:only-of-type {\n",
       "        vertical-align: middle;\n",
       "    }\n",
       "\n",
       "    .dataframe tbody tr th {\n",
       "        vertical-align: top;\n",
       "    }\n",
       "\n",
       "    .dataframe thead th {\n",
       "        text-align: right;\n",
       "    }\n",
       "</style>\n",
       "<table border=\"1\" class=\"dataframe\">\n",
       "  <thead>\n",
       "    <tr style=\"text-align: right;\">\n",
       "      <th></th>\n",
       "      <th>SCHOOL_YEAR</th>\n",
       "      <th>ST</th>\n",
       "      <th>SCH_NAME</th>\n",
       "      <th>STATE_AGENCY_NO</th>\n",
       "      <th>ST_SCHID</th>\n",
       "      <th>NCESSCH</th>\n",
       "      <th>SCHID</th>\n",
       "      <th>DATA_GROUP</th>\n",
       "      <th>LUNCH_PROGRAM</th>\n",
       "      <th>FARMS_COUNT</th>\n",
       "      <th>TOTAL_INDICATOR</th>\n",
       "      <th>DMS_FLAG</th>\n",
       "    </tr>\n",
       "  </thead>\n",
       "  <tbody>\n",
       "    <tr>\n",
       "      <th>4</th>\n",
       "      <td>2017-2018</td>\n",
       "      <td>AL</td>\n",
       "      <td>Albertville Middle School</td>\n",
       "      <td>1</td>\n",
       "      <td>AL-101-0010</td>\n",
       "      <td>010000500870</td>\n",
       "      <td>100870</td>\n",
       "      <td>Free and Reduced-price Lunch Table</td>\n",
       "      <td>No Category Codes</td>\n",
       "      <td>570.0</td>\n",
       "      <td>Education Unit Total</td>\n",
       "      <td>Reported</td>\n",
       "    </tr>\n",
       "    <tr>\n",
       "      <th>9</th>\n",
       "      <td>2017-2018</td>\n",
       "      <td>AL</td>\n",
       "      <td>Albertville High School</td>\n",
       "      <td>1</td>\n",
       "      <td>AL-101-0020</td>\n",
       "      <td>010000500871</td>\n",
       "      <td>100871</td>\n",
       "      <td>Free and Reduced-price Lunch Table</td>\n",
       "      <td>No Category Codes</td>\n",
       "      <td>832.0</td>\n",
       "      <td>Education Unit Total</td>\n",
       "      <td>Reported</td>\n",
       "    </tr>\n",
       "    <tr>\n",
       "      <th>14</th>\n",
       "      <td>2017-2018</td>\n",
       "      <td>AL</td>\n",
       "      <td>Evans Elementary School</td>\n",
       "      <td>1</td>\n",
       "      <td>AL-101-0110</td>\n",
       "      <td>010000500879</td>\n",
       "      <td>100879</td>\n",
       "      <td>Free and Reduced-price Lunch Table</td>\n",
       "      <td>No Category Codes</td>\n",
       "      <td>608.0</td>\n",
       "      <td>Education Unit Total</td>\n",
       "      <td>Reported</td>\n",
       "    </tr>\n",
       "    <tr>\n",
       "      <th>19</th>\n",
       "      <td>2017-2018</td>\n",
       "      <td>AL</td>\n",
       "      <td>Albertville Elementary School</td>\n",
       "      <td>1</td>\n",
       "      <td>AL-101-0200</td>\n",
       "      <td>010000500889</td>\n",
       "      <td>100889</td>\n",
       "      <td>Free and Reduced-price Lunch Table</td>\n",
       "      <td>No Category Codes</td>\n",
       "      <td>684.0</td>\n",
       "      <td>Education Unit Total</td>\n",
       "      <td>Reported</td>\n",
       "    </tr>\n",
       "    <tr>\n",
       "      <th>24</th>\n",
       "      <td>2017-2018</td>\n",
       "      <td>AL</td>\n",
       "      <td>Big Spring Lake Kindergarten School</td>\n",
       "      <td>1</td>\n",
       "      <td>AL-101-0035</td>\n",
       "      <td>010000501616</td>\n",
       "      <td>101616</td>\n",
       "      <td>Free and Reduced-price Lunch Table</td>\n",
       "      <td>No Category Codes</td>\n",
       "      <td>345.0</td>\n",
       "      <td>Education Unit Total</td>\n",
       "      <td>Reported</td>\n",
       "    </tr>\n",
       "  </tbody>\n",
       "</table>\n",
       "</div>"
      ],
      "text/plain": [
       "   SCHOOL_YEAR  ST                             SCH_NAME  STATE_AGENCY_NO  \\\n",
       "4    2017-2018  AL            Albertville Middle School                1   \n",
       "9    2017-2018  AL              Albertville High School                1   \n",
       "14   2017-2018  AL              Evans Elementary School                1   \n",
       "19   2017-2018  AL        Albertville Elementary School                1   \n",
       "24   2017-2018  AL  Big Spring Lake Kindergarten School                1   \n",
       "\n",
       "       ST_SCHID       NCESSCH   SCHID                          DATA_GROUP  \\\n",
       "4   AL-101-0010  010000500870  100870  Free and Reduced-price Lunch Table   \n",
       "9   AL-101-0020  010000500871  100871  Free and Reduced-price Lunch Table   \n",
       "14  AL-101-0110  010000500879  100879  Free and Reduced-price Lunch Table   \n",
       "19  AL-101-0200  010000500889  100889  Free and Reduced-price Lunch Table   \n",
       "24  AL-101-0035  010000501616  101616  Free and Reduced-price Lunch Table   \n",
       "\n",
       "        LUNCH_PROGRAM  FARMS_COUNT       TOTAL_INDICATOR  DMS_FLAG  \n",
       "4   No Category Codes        570.0  Education Unit Total  Reported  \n",
       "9   No Category Codes        832.0  Education Unit Total  Reported  \n",
       "14  No Category Codes        608.0  Education Unit Total  Reported  \n",
       "19  No Category Codes        684.0  Education Unit Total  Reported  \n",
       "24  No Category Codes        345.0  Education Unit Total  Reported  "
      ]
     },
     "execution_count": 50,
     "metadata": {},
     "output_type": "execute_result"
    }
   ],
   "source": [
    "ccd_farms_FRL.head()"
   ]
  },
  {
   "cell_type": "code",
   "execution_count": 51,
   "metadata": {},
   "outputs": [
    {
     "data": {
      "text/plain": [
       "<matplotlib.axes._subplots.AxesSubplot at 0x7fab63ea6610>"
      ]
     },
     "execution_count": 51,
     "metadata": {},
     "output_type": "execute_result"
    },
    {
     "data": {
      "image/png": "[encoded data removed]",
      "text/plain": [
       "<Figure size 432x288 with 2 Axes>"
      ]
     },
     "metadata": {
      "needs_background": "light"
     },
     "output_type": "display_data"
    }
   ],
   "source": [
    "sns.heatmap(ccd_farms_FRL.isnull(),yticklabels=False,cbar=True,cmap='viridis')"
   ]
  },
  {
   "cell_type": "code",
   "execution_count": 52,
   "metadata": {},
   "outputs": [
    {
     "data": {
      "text/plain": [
       "FARMS_COUNT    9062\n",
       "dtype: int64"
      ]
     },
     "execution_count": 52,
     "metadata": {},
     "output_type": "execute_result"
    }
   ],
   "source": [
    "null_columns=ccd_farms_FRL.columns[ccd_farms_FRL.isnull().any()]\n",
    "ccd_farms_FRL[null_columns].isnull().sum()"
   ]
  },
  {
   "cell_type": "code",
   "execution_count": 53,
   "metadata": {},
   "outputs": [
    {
     "data": {
      "text/plain": [
       "True"
      ]
     },
     "execution_count": 53,
     "metadata": {},
     "output_type": "execute_result"
    }
   ],
   "source": [
    "ccd_farms_FRL['NCESSCH'].is_unique"
   ]
  },
  {
   "cell_type": "code",
   "execution_count": 54,
   "metadata": {},
   "outputs": [],
   "source": [
    "ccd_farms_FRL_new = ccd_farms_FRL.dropna(axis = 0, how ='any') "
   ]
  },
  {
   "cell_type": "code",
   "execution_count": 55,
   "metadata": {},
   "outputs": [
    {
     "name": "stdout",
     "output_type": "stream",
     "text": [
      "Old data frame length: 98949\n",
      "New data frame length: 89887\n",
      "Number of rows with at least 1 NA value:  9062\n"
     ]
    }
   ],
   "source": [
    "print(\"Old data frame length:\", len(ccd_farms_FRL)) \n",
    "print(\"New data frame length:\", len(ccd_farms_FRL_new))  \n",
    "print(\"Number of rows with at least 1 NA value: \", \n",
    "      (len(ccd_farms_FRL)-len(ccd_farms_FRL_new))) "
   ]
  },
  {
   "cell_type": "code",
   "execution_count": 56,
   "metadata": {},
   "outputs": [
    {
     "data": {
      "text/plain": [
       "<matplotlib.axes._subplots.AxesSubplot at 0x7fab64225580>"
      ]
     },
     "execution_count": 56,
     "metadata": {},
     "output_type": "execute_result"
    },
    {
     "data": {
      "image/png": "[encoded data removed]",
      "text/plain": [
       "<Figure size 432x288 with 2 Axes>"
      ]
     },
     "metadata": {
      "needs_background": "light"
     },
     "output_type": "display_data"
    }
   ],
   "source": [
    "sns.heatmap(ccd_farms_FRL_new.isnull(),yticklabels=False,cbar=True,cmap='viridis')"
   ]
  },
  {
   "cell_type": "code",
   "execution_count": 57,
   "metadata": {},
   "outputs": [
    {
     "data": {
      "text/plain": [
       "(89887, 12)"
      ]
     },
     "execution_count": 57,
     "metadata": {},
     "output_type": "execute_result"
    }
   ],
   "source": [
    "ccd_farms_FRL_new.shape"
   ]
  },
  {
   "cell_type": "code",
   "execution_count": 58,
   "metadata": {},
   "outputs": [
    {
     "data": {
      "text/plain": [
       "array([[<matplotlib.axes._subplots.AxesSubplot object at 0x7fab0c72ae80>,\n",
       "        <matplotlib.axes._subplots.AxesSubplot object at 0x7fab0c748a60>],\n",
       "       [<matplotlib.axes._subplots.AxesSubplot object at 0x7fab0c773ee0>,\n",
       "        <matplotlib.axes._subplots.AxesSubplot object at 0x7fab0d2e73a0>]],\n",
       "      dtype=object)"
      ]
     },
     "execution_count": 58,
     "metadata": {},
     "output_type": "execute_result"
    },
    {
     "data": {
      "image/png": "[encoded data removed]",
      "text/plain": [
       "<Figure size 432x288 with 4 Axes>"
      ]
     },
     "metadata": {
      "needs_background": "light"
     },
     "output_type": "display_data"
    }
   ],
   "source": [
    "ccd_farms_FRL_new.hist()"
   ]
  },
  {
   "cell_type": "code",
   "execution_count": 59,
   "metadata": {},
   "outputs": [],
   "source": [
    "ccd_farms_FRL_new.to_csv (r'/Users/dansari/Documents/GitHub/Identifying-features-to-predict-high-school-assessment-proficiency/Phase1/Data/CCD/Clean_ccd_farms.csv', index = False, header=True)"
   ]
  },
  {
   "cell_type": "markdown",
   "metadata": {},
   "source": [
    "#### Cleaning and checking staff file"
   ]
  },
  {
   "cell_type": "code",
   "execution_count": 60,
   "metadata": {},
   "outputs": [
    {
     "data": {
      "text/html": [
       "<div>\n",
       "<style scoped>\n",
       "    .dataframe tbody tr th:only-of-type {\n",
       "        vertical-align: middle;\n",
       "    }\n",
       "\n",
       "    .dataframe tbody tr th {\n",
       "        vertical-align: top;\n",
       "    }\n",
       "\n",
       "    .dataframe thead th {\n",
       "        text-align: right;\n",
       "    }\n",
       "</style>\n",
       "<table border=\"1\" class=\"dataframe\">\n",
       "  <thead>\n",
       "    <tr style=\"text-align: right;\">\n",
       "      <th></th>\n",
       "      <th>SCHOOL_YEAR</th>\n",
       "      <th>FIPST</th>\n",
       "      <th>STATENAME</th>\n",
       "      <th>ST</th>\n",
       "      <th>SCH_NAME</th>\n",
       "      <th>STATE_AGENCY_NO</th>\n",
       "      <th>UNION</th>\n",
       "      <th>ST_LEAID</th>\n",
       "      <th>LEAID</th>\n",
       "      <th>ST_SCHID</th>\n",
       "      <th>NCESSCH</th>\n",
       "      <th>SCHID</th>\n",
       "      <th>TEACHERS</th>\n",
       "      <th>TOTAL_INDICATOR</th>\n",
       "      <th>DMS_FLAG</th>\n",
       "    </tr>\n",
       "  </thead>\n",
       "  <tbody>\n",
       "    <tr>\n",
       "      <th>0</th>\n",
       "      <td>2017-2018</td>\n",
       "      <td>1</td>\n",
       "      <td>ALABAMA</td>\n",
       "      <td>AL</td>\n",
       "      <td>Albertville Middle School</td>\n",
       "      <td>1</td>\n",
       "      <td>NaN</td>\n",
       "      <td>AL-101</td>\n",
       "      <td>100005</td>\n",
       "      <td>AL-101-0010</td>\n",
       "      <td>10000500870</td>\n",
       "      <td>100870</td>\n",
       "      <td>36.0</td>\n",
       "      <td>Education Unit Total</td>\n",
       "      <td>Reported</td>\n",
       "    </tr>\n",
       "    <tr>\n",
       "      <th>1</th>\n",
       "      <td>2017-2018</td>\n",
       "      <td>1</td>\n",
       "      <td>ALABAMA</td>\n",
       "      <td>AL</td>\n",
       "      <td>Albertville High School</td>\n",
       "      <td>1</td>\n",
       "      <td>NaN</td>\n",
       "      <td>AL-101</td>\n",
       "      <td>100005</td>\n",
       "      <td>AL-101-0020</td>\n",
       "      <td>10000500871</td>\n",
       "      <td>100871</td>\n",
       "      <td>77.0</td>\n",
       "      <td>Education Unit Total</td>\n",
       "      <td>Reported</td>\n",
       "    </tr>\n",
       "    <tr>\n",
       "      <th>2</th>\n",
       "      <td>2017-2018</td>\n",
       "      <td>1</td>\n",
       "      <td>ALABAMA</td>\n",
       "      <td>AL</td>\n",
       "      <td>Evans Elementary School</td>\n",
       "      <td>1</td>\n",
       "      <td>NaN</td>\n",
       "      <td>AL-101</td>\n",
       "      <td>100005</td>\n",
       "      <td>AL-101-0110</td>\n",
       "      <td>10000500879</td>\n",
       "      <td>100879</td>\n",
       "      <td>36.0</td>\n",
       "      <td>Education Unit Total</td>\n",
       "      <td>Reported</td>\n",
       "    </tr>\n",
       "    <tr>\n",
       "      <th>3</th>\n",
       "      <td>2017-2018</td>\n",
       "      <td>1</td>\n",
       "      <td>ALABAMA</td>\n",
       "      <td>AL</td>\n",
       "      <td>Albertville Elementary School</td>\n",
       "      <td>1</td>\n",
       "      <td>NaN</td>\n",
       "      <td>AL-101</td>\n",
       "      <td>100005</td>\n",
       "      <td>AL-101-0200</td>\n",
       "      <td>10000500889</td>\n",
       "      <td>100889</td>\n",
       "      <td>49.0</td>\n",
       "      <td>Education Unit Total</td>\n",
       "      <td>Reported</td>\n",
       "    </tr>\n",
       "    <tr>\n",
       "      <th>4</th>\n",
       "      <td>2017-2018</td>\n",
       "      <td>1</td>\n",
       "      <td>ALABAMA</td>\n",
       "      <td>AL</td>\n",
       "      <td>Big Spring Lake Kindergarten School</td>\n",
       "      <td>1</td>\n",
       "      <td>NaN</td>\n",
       "      <td>AL-101</td>\n",
       "      <td>100005</td>\n",
       "      <td>AL-101-0035</td>\n",
       "      <td>10000501616</td>\n",
       "      <td>101616</td>\n",
       "      <td>28.0</td>\n",
       "      <td>Education Unit Total</td>\n",
       "      <td>Reported</td>\n",
       "    </tr>\n",
       "  </tbody>\n",
       "</table>\n",
       "</div>"
      ],
      "text/plain": [
       "  SCHOOL_YEAR  FIPST STATENAME  ST                             SCH_NAME  \\\n",
       "0   2017-2018      1   ALABAMA  AL            Albertville Middle School   \n",
       "1   2017-2018      1   ALABAMA  AL              Albertville High School   \n",
       "2   2017-2018      1   ALABAMA  AL              Evans Elementary School   \n",
       "3   2017-2018      1   ALABAMA  AL        Albertville Elementary School   \n",
       "4   2017-2018      1   ALABAMA  AL  Big Spring Lake Kindergarten School   \n",
       "\n",
       "   STATE_AGENCY_NO  UNION ST_LEAID   LEAID     ST_SCHID      NCESSCH   SCHID  \\\n",
       "0                1    NaN   AL-101  100005  AL-101-0010  10000500870  100870   \n",
       "1                1    NaN   AL-101  100005  AL-101-0020  10000500871  100871   \n",
       "2                1    NaN   AL-101  100005  AL-101-0110  10000500879  100879   \n",
       "3                1    NaN   AL-101  100005  AL-101-0200  10000500889  100889   \n",
       "4                1    NaN   AL-101  100005  AL-101-0035  10000501616  101616   \n",
       "\n",
       "   TEACHERS       TOTAL_INDICATOR  DMS_FLAG  \n",
       "0      36.0  Education Unit Total  Reported  \n",
       "1      77.0  Education Unit Total  Reported  \n",
       "2      36.0  Education Unit Total  Reported  \n",
       "3      49.0  Education Unit Total  Reported  \n",
       "4      28.0  Education Unit Total  Reported  "
      ]
     },
     "execution_count": 60,
     "metadata": {},
     "output_type": "execute_result"
    }
   ],
   "source": [
    "ccd_staff= pandas.read_csv(\"ccd_STAFF.csv\")\n",
    "ccd_staff.head()"
   ]
  },
  {
   "cell_type": "code",
   "execution_count": 61,
   "metadata": {},
   "outputs": [
    {
     "data": {
      "text/plain": [
       "Index(['SCHOOL_YEAR', 'FIPST', 'STATENAME', 'ST', 'SCH_NAME',\n",
       "       'STATE_AGENCY_NO', 'UNION', 'ST_LEAID', 'LEAID', 'ST_SCHID', 'NCESSCH',\n",
       "       'SCHID', 'TEACHERS', 'TOTAL_INDICATOR', 'DMS_FLAG'],\n",
       "      dtype='object')"
      ]
     },
     "execution_count": 61,
     "metadata": {},
     "output_type": "execute_result"
    }
   ],
   "source": [
    "ccd_staff.columns"
   ]
  },
  {
   "cell_type": "code",
   "execution_count": 62,
   "metadata": {},
   "outputs": [
    {
     "data": {
      "text/plain": [
       "(99899, 15)"
      ]
     },
     "execution_count": 62,
     "metadata": {},
     "output_type": "execute_result"
    }
   ],
   "source": [
    "ccd_staff.shape"
   ]
  },
  {
   "cell_type": "code",
   "execution_count": 63,
   "metadata": {},
   "outputs": [
    {
     "data": {
      "text/html": [
       "<div>\n",
       "<style scoped>\n",
       "    .dataframe tbody tr th:only-of-type {\n",
       "        vertical-align: middle;\n",
       "    }\n",
       "\n",
       "    .dataframe tbody tr th {\n",
       "        vertical-align: top;\n",
       "    }\n",
       "\n",
       "    .dataframe thead th {\n",
       "        text-align: right;\n",
       "    }\n",
       "</style>\n",
       "<table border=\"1\" class=\"dataframe\">\n",
       "  <thead>\n",
       "    <tr style=\"text-align: right;\">\n",
       "      <th></th>\n",
       "      <th>FIPST</th>\n",
       "      <th>STATE_AGENCY_NO</th>\n",
       "      <th>UNION</th>\n",
       "      <th>LEAID</th>\n",
       "      <th>NCESSCH</th>\n",
       "      <th>SCHID</th>\n",
       "      <th>TEACHERS</th>\n",
       "    </tr>\n",
       "  </thead>\n",
       "  <tbody>\n",
       "    <tr>\n",
       "      <th>count</th>\n",
       "      <td>99899.000000</td>\n",
       "      <td>99899.0</td>\n",
       "      <td>2461.000000</td>\n",
       "      <td>9.989900e+04</td>\n",
       "      <td>9.989900e+04</td>\n",
       "      <td>9.989900e+04</td>\n",
       "      <td>95506.000000</td>\n",
       "    </tr>\n",
       "    <tr>\n",
       "      <th>mean</th>\n",
       "      <td>28.845214</td>\n",
       "      <td>1.0</td>\n",
       "      <td>207.949208</td>\n",
       "      <td>2.896025e+06</td>\n",
       "      <td>2.896025e+11</td>\n",
       "      <td>2.887513e+06</td>\n",
       "      <td>32.569638</td>\n",
       "    </tr>\n",
       "    <tr>\n",
       "      <th>std</th>\n",
       "      <td>16.651172</td>\n",
       "      <td>0.0</td>\n",
       "      <td>125.678333</td>\n",
       "      <td>1.664674e+06</td>\n",
       "      <td>1.664674e+11</td>\n",
       "      <td>1.664877e+06</td>\n",
       "      <td>25.643327</td>\n",
       "    </tr>\n",
       "    <tr>\n",
       "      <th>min</th>\n",
       "      <td>1.000000</td>\n",
       "      <td>1.0</td>\n",
       "      <td>1.000000</td>\n",
       "      <td>1.000050e+05</td>\n",
       "      <td>1.000050e+10</td>\n",
       "      <td>1.000010e+05</td>\n",
       "      <td>0.000000</td>\n",
       "    </tr>\n",
       "    <tr>\n",
       "      <th>25%</th>\n",
       "      <td>13.000000</td>\n",
       "      <td>1.0</td>\n",
       "      <td>51.000000</td>\n",
       "      <td>1.302610e+06</td>\n",
       "      <td>1.302610e+11</td>\n",
       "      <td>1.302382e+06</td>\n",
       "      <td>17.000000</td>\n",
       "    </tr>\n",
       "    <tr>\n",
       "      <th>50%</th>\n",
       "      <td>29.000000</td>\n",
       "      <td>1.0</td>\n",
       "      <td>300.000000</td>\n",
       "      <td>2.904140e+06</td>\n",
       "      <td>2.904140e+11</td>\n",
       "      <td>2.900318e+06</td>\n",
       "      <td>27.600000</td>\n",
       "    </tr>\n",
       "    <tr>\n",
       "      <th>75%</th>\n",
       "      <td>42.000000</td>\n",
       "      <td>1.0</td>\n",
       "      <td>300.000000</td>\n",
       "      <td>4.217010e+06</td>\n",
       "      <td>4.217010e+11</td>\n",
       "      <td>4.204346e+06</td>\n",
       "      <td>41.000000</td>\n",
       "    </tr>\n",
       "    <tr>\n",
       "      <th>max</th>\n",
       "      <td>78.000000</td>\n",
       "      <td>1.0</td>\n",
       "      <td>301.000000</td>\n",
       "      <td>7.800030e+06</td>\n",
       "      <td>7.800030e+11</td>\n",
       "      <td>7.800037e+06</td>\n",
       "      <td>1419.000000</td>\n",
       "    </tr>\n",
       "  </tbody>\n",
       "</table>\n",
       "</div>"
      ],
      "text/plain": [
       "              FIPST  STATE_AGENCY_NO        UNION         LEAID       NCESSCH  \\\n",
       "count  99899.000000          99899.0  2461.000000  9.989900e+04  9.989900e+04   \n",
       "mean      28.845214              1.0   207.949208  2.896025e+06  2.896025e+11   \n",
       "std       16.651172              0.0   125.678333  1.664674e+06  1.664674e+11   \n",
       "min        1.000000              1.0     1.000000  1.000050e+05  1.000050e+10   \n",
       "25%       13.000000              1.0    51.000000  1.302610e+06  1.302610e+11   \n",
       "50%       29.000000              1.0   300.000000  2.904140e+06  2.904140e+11   \n",
       "75%       42.000000              1.0   300.000000  4.217010e+06  4.217010e+11   \n",
       "max       78.000000              1.0   301.000000  7.800030e+06  7.800030e+11   \n",
       "\n",
       "              SCHID      TEACHERS  \n",
       "count  9.989900e+04  95506.000000  \n",
       "mean   2.887513e+06     32.569638  \n",
       "std    1.664877e+06     25.643327  \n",
       "min    1.000010e+05      0.000000  \n",
       "25%    1.302382e+06     17.000000  \n",
       "50%    2.900318e+06     27.600000  \n",
       "75%    4.204346e+06     41.000000  \n",
       "max    7.800037e+06   1419.000000  "
      ]
     },
     "execution_count": 63,
     "metadata": {},
     "output_type": "execute_result"
    }
   ],
   "source": [
    "ccd_staff.describe()"
   ]
  },
  {
   "cell_type": "code",
   "execution_count": 64,
   "metadata": {},
   "outputs": [
    {
     "data": {
      "text/plain": [
       "<matplotlib.axes._subplots.AxesSubplot at 0x7fab0c3bf400>"
      ]
     },
     "execution_count": 64,
     "metadata": {},
     "output_type": "execute_result"
    },
    {
     "data": {
      "image/png": "[encoded data removed]",
      "text/plain": [
       "<Figure size 432x288 with 2 Axes>"
      ]
     },
     "metadata": {
      "needs_background": "light"
     },
     "output_type": "display_data"
    }
   ],
   "source": [
    "sns.heatmap(ccd_staff.isnull(),yticklabels=False,cbar=True,cmap='viridis')"
   ]
  },
  {
   "cell_type": "code",
   "execution_count": 65,
   "metadata": {},
   "outputs": [
    {
     "data": {
      "text/plain": [
       "UNION       97438\n",
       "TEACHERS     4393\n",
       "dtype: int64"
      ]
     },
     "execution_count": 65,
     "metadata": {},
     "output_type": "execute_result"
    }
   ],
   "source": [
    "null_columns=ccd_staff.columns[ccd_staff.isnull().any()]\n",
    "ccd_staff[null_columns].isnull().sum()"
   ]
  },
  {
   "cell_type": "code",
   "execution_count": 66,
   "metadata": {},
   "outputs": [],
   "source": [
    "ccd_staff.drop(ccd_staff.columns[[1,2,6,7,8,13,14]], axis=1, inplace=True)"
   ]
  },
  {
   "cell_type": "code",
   "execution_count": 67,
   "metadata": {},
   "outputs": [],
   "source": [
    "ccd_staff['NCESSCH'] = ccd_staff['NCESSCH'].apply(lambda x: '{0:0>12}'.format(x))"
   ]
  },
  {
   "cell_type": "code",
   "execution_count": 68,
   "metadata": {},
   "outputs": [
    {
     "data": {
      "text/plain": [
       "True"
      ]
     },
     "execution_count": 68,
     "metadata": {},
     "output_type": "execute_result"
    }
   ],
   "source": [
    "ccd_staff['NCESSCH'].is_unique"
   ]
  },
  {
   "cell_type": "code",
   "execution_count": 69,
   "metadata": {},
   "outputs": [],
   "source": [
    "ccd_staff_new = ccd_staff.dropna(axis = 0, how ='any') "
   ]
  },
  {
   "cell_type": "code",
   "execution_count": 70,
   "metadata": {},
   "outputs": [
    {
     "name": "stdout",
     "output_type": "stream",
     "text": [
      "Old data frame length: 99899\n",
      "New data frame length: 95506\n",
      "Number of rows with at least 1 NA value:  4393\n"
     ]
    }
   ],
   "source": [
    "print(\"Old data frame length:\", len(ccd_staff)) \n",
    "print(\"New data frame length:\", len(ccd_staff_new))  \n",
    "print(\"Number of rows with at least 1 NA value: \", \n",
    "      (len(ccd_staff)-len(ccd_staff_new))) "
   ]
  },
  {
   "cell_type": "code",
   "execution_count": 71,
   "metadata": {},
   "outputs": [
    {
     "data": {
      "text/plain": [
       "<matplotlib.axes._subplots.AxesSubplot at 0x7fab0bcaa610>"
      ]
     },
     "execution_count": 71,
     "metadata": {},
     "output_type": "execute_result"
    },
    {
     "data": {
      "image/png": "[encoded data removed]",
      "text/plain": [
       "<Figure size 432x288 with 2 Axes>"
      ]
     },
     "metadata": {
      "needs_background": "light"
     },
     "output_type": "display_data"
    }
   ],
   "source": [
    "sns.heatmap(ccd_staff_new.isnull(),yticklabels=False,cbar=True,cmap='viridis')"
   ]
  },
  {
   "cell_type": "code",
   "execution_count": 72,
   "metadata": {},
   "outputs": [
    {
     "data": {
      "text/html": [
       "<div>\n",
       "<style scoped>\n",
       "    .dataframe tbody tr th:only-of-type {\n",
       "        vertical-align: middle;\n",
       "    }\n",
       "\n",
       "    .dataframe tbody tr th {\n",
       "        vertical-align: top;\n",
       "    }\n",
       "\n",
       "    .dataframe thead th {\n",
       "        text-align: right;\n",
       "    }\n",
       "</style>\n",
       "<table border=\"1\" class=\"dataframe\">\n",
       "  <thead>\n",
       "    <tr style=\"text-align: right;\">\n",
       "      <th></th>\n",
       "      <th>SCHOOL_YEAR</th>\n",
       "      <th>ST</th>\n",
       "      <th>SCH_NAME</th>\n",
       "      <th>STATE_AGENCY_NO</th>\n",
       "      <th>ST_SCHID</th>\n",
       "      <th>NCESSCH</th>\n",
       "      <th>SCHID</th>\n",
       "      <th>TEACHERS</th>\n",
       "    </tr>\n",
       "  </thead>\n",
       "  <tbody>\n",
       "    <tr>\n",
       "      <th>0</th>\n",
       "      <td>2017-2018</td>\n",
       "      <td>AL</td>\n",
       "      <td>Albertville Middle School</td>\n",
       "      <td>1</td>\n",
       "      <td>AL-101-0010</td>\n",
       "      <td>010000500870</td>\n",
       "      <td>100870</td>\n",
       "      <td>36.0</td>\n",
       "    </tr>\n",
       "    <tr>\n",
       "      <th>1</th>\n",
       "      <td>2017-2018</td>\n",
       "      <td>AL</td>\n",
       "      <td>Albertville High School</td>\n",
       "      <td>1</td>\n",
       "      <td>AL-101-0020</td>\n",
       "      <td>010000500871</td>\n",
       "      <td>100871</td>\n",
       "      <td>77.0</td>\n",
       "    </tr>\n",
       "    <tr>\n",
       "      <th>2</th>\n",
       "      <td>2017-2018</td>\n",
       "      <td>AL</td>\n",
       "      <td>Evans Elementary School</td>\n",
       "      <td>1</td>\n",
       "      <td>AL-101-0110</td>\n",
       "      <td>010000500879</td>\n",
       "      <td>100879</td>\n",
       "      <td>36.0</td>\n",
       "    </tr>\n",
       "    <tr>\n",
       "      <th>3</th>\n",
       "      <td>2017-2018</td>\n",
       "      <td>AL</td>\n",
       "      <td>Albertville Elementary School</td>\n",
       "      <td>1</td>\n",
       "      <td>AL-101-0200</td>\n",
       "      <td>010000500889</td>\n",
       "      <td>100889</td>\n",
       "      <td>49.0</td>\n",
       "    </tr>\n",
       "    <tr>\n",
       "      <th>4</th>\n",
       "      <td>2017-2018</td>\n",
       "      <td>AL</td>\n",
       "      <td>Big Spring Lake Kindergarten School</td>\n",
       "      <td>1</td>\n",
       "      <td>AL-101-0035</td>\n",
       "      <td>010000501616</td>\n",
       "      <td>101616</td>\n",
       "      <td>28.0</td>\n",
       "    </tr>\n",
       "  </tbody>\n",
       "</table>\n",
       "</div>"
      ],
      "text/plain": [
       "  SCHOOL_YEAR  ST                             SCH_NAME  STATE_AGENCY_NO  \\\n",
       "0   2017-2018  AL            Albertville Middle School                1   \n",
       "1   2017-2018  AL              Albertville High School                1   \n",
       "2   2017-2018  AL              Evans Elementary School                1   \n",
       "3   2017-2018  AL        Albertville Elementary School                1   \n",
       "4   2017-2018  AL  Big Spring Lake Kindergarten School                1   \n",
       "\n",
       "      ST_SCHID       NCESSCH   SCHID  TEACHERS  \n",
       "0  AL-101-0010  010000500870  100870      36.0  \n",
       "1  AL-101-0020  010000500871  100871      77.0  \n",
       "2  AL-101-0110  010000500879  100879      36.0  \n",
       "3  AL-101-0200  010000500889  100889      49.0  \n",
       "4  AL-101-0035  010000501616  101616      28.0  "
      ]
     },
     "execution_count": 72,
     "metadata": {},
     "output_type": "execute_result"
    }
   ],
   "source": [
    "ccd_staff_new.head()"
   ]
  },
  {
   "cell_type": "code",
   "execution_count": 73,
   "metadata": {},
   "outputs": [
    {
     "data": {
      "text/plain": [
       "(95506, 8)"
      ]
     },
     "execution_count": 73,
     "metadata": {},
     "output_type": "execute_result"
    }
   ],
   "source": [
    "ccd_staff_new.shape"
   ]
  },
  {
   "cell_type": "code",
   "execution_count": 74,
   "metadata": {},
   "outputs": [
    {
     "data": {
      "text/plain": [
       "array([[<matplotlib.axes._subplots.AxesSubplot object at 0x7fab0bcadfd0>,\n",
       "        <matplotlib.axes._subplots.AxesSubplot object at 0x7faaf6f1bee0>],\n",
       "       [<matplotlib.axes._subplots.AxesSubplot object at 0x7faafbeb73a0>,\n",
       "        <matplotlib.axes._subplots.AxesSubplot object at 0x7faafbee4820>]],\n",
       "      dtype=object)"
      ]
     },
     "execution_count": 74,
     "metadata": {},
     "output_type": "execute_result"
    },
    {
     "data": {
      "image/png": "[encoded data removed]",
      "text/plain": [
       "<Figure size 432x288 with 4 Axes>"
      ]
     },
     "metadata": {
      "needs_background": "light"
     },
     "output_type": "display_data"
    }
   ],
   "source": [
    "ccd_staff_new.hist()"
   ]
  },
  {
   "cell_type": "code",
   "execution_count": 75,
   "metadata": {},
   "outputs": [],
   "source": [
    "ccd_staff_new.to_csv (r'/Users/dansari/Documents/GitHub/Identifying-features-to-predict-high-school-assessment-proficiency/Phase1/Data/CCD/Clean_ccd_staff.csv', index = False, header=True)"
   ]
  },
  {
   "cell_type": "markdown",
   "metadata": {},
   "source": [
    "#### Merge all files into master ccd file"
   ]
  },
  {
   "cell_type": "code",
   "execution_count": 182,
   "metadata": {},
   "outputs": [
    {
     "data": {
      "text/plain": [
       "(102337, 23)"
      ]
     },
     "execution_count": 182,
     "metadata": {},
     "output_type": "execute_result"
    }
   ],
   "source": [
    "merged_dir_char = pandas.merge(left=ccd_directory,right=ccd_character, how='left', left_on='NCESSCH', right_on='NCESSCH')\n",
    "merged_dir_char.shape"
   ]
  },
  {
   "cell_type": "code",
   "execution_count": 183,
   "metadata": {},
   "outputs": [
    {
     "data": {
      "text/plain": [
       "Index(['SCHOOL_YEAR_x', 'ST_x', 'SCH_NAME_x', 'LEA_NAME', 'STATE_AGENCY_NO_x',\n",
       "       'ST_LEAID', 'LEAID', 'ST_SCHID_x', 'NCESSCH', 'SCHID_x', 'SY_STATUS',\n",
       "       'SCH_TYPE_TEXT', 'SCH_TYPE', 'LEVEL', 'SCHOOL_YEAR_y', 'ST_y',\n",
       "       'SCH_NAME_y', 'STATE_AGENCY_NO_y', 'ST_SCHID_y', 'SCHID_y',\n",
       "       'TITLEI_STATUS', 'TITLEI_STATUS_TEXT', 'MAGNET_TEXT'],\n",
       "      dtype='object')"
      ]
     },
     "execution_count": 183,
     "metadata": {},
     "output_type": "execute_result"
    }
   ],
   "source": [
    "merged_dir_char.columns"
   ]
  },
  {
   "cell_type": "code",
   "execution_count": 184,
   "metadata": {},
   "outputs": [],
   "source": [
    "merged_dir_char.drop([col for col in merged_dir_char.columns if col.endswith('_y')],axis=1,inplace=True)"
   ]
  },
  {
   "cell_type": "code",
   "execution_count": 185,
   "metadata": {},
   "outputs": [
    {
     "data": {
      "text/html": [
       "<div>\n",
       "<style scoped>\n",
       "    .dataframe tbody tr th:only-of-type {\n",
       "        vertical-align: middle;\n",
       "    }\n",
       "\n",
       "    .dataframe tbody tr th {\n",
       "        vertical-align: top;\n",
       "    }\n",
       "\n",
       "    .dataframe thead th {\n",
       "        text-align: right;\n",
       "    }\n",
       "</style>\n",
       "<table border=\"1\" class=\"dataframe\">\n",
       "  <thead>\n",
       "    <tr style=\"text-align: right;\">\n",
       "      <th></th>\n",
       "      <th>SCHOOL_YEAR_x</th>\n",
       "      <th>ST_x</th>\n",
       "      <th>SCH_NAME_x</th>\n",
       "      <th>LEA_NAME</th>\n",
       "      <th>STATE_AGENCY_NO_x</th>\n",
       "      <th>ST_LEAID</th>\n",
       "      <th>LEAID</th>\n",
       "      <th>ST_SCHID_x</th>\n",
       "      <th>NCESSCH</th>\n",
       "      <th>SCHID_x</th>\n",
       "      <th>SY_STATUS</th>\n",
       "      <th>SCH_TYPE_TEXT</th>\n",
       "      <th>SCH_TYPE</th>\n",
       "      <th>LEVEL</th>\n",
       "      <th>TITLEI_STATUS</th>\n",
       "      <th>TITLEI_STATUS_TEXT</th>\n",
       "      <th>MAGNET_TEXT</th>\n",
       "    </tr>\n",
       "  </thead>\n",
       "  <tbody>\n",
       "    <tr>\n",
       "      <th>0</th>\n",
       "      <td>2017-2018</td>\n",
       "      <td>AL</td>\n",
       "      <td>Albertville Middle School</td>\n",
       "      <td>Albertville City</td>\n",
       "      <td>1</td>\n",
       "      <td>AL-101</td>\n",
       "      <td>100005</td>\n",
       "      <td>AL-101-0010</td>\n",
       "      <td>010000500870</td>\n",
       "      <td>100870</td>\n",
       "      <td>1</td>\n",
       "      <td>Regular School</td>\n",
       "      <td>1</td>\n",
       "      <td>Middle</td>\n",
       "      <td>SWELIGSWPROG</td>\n",
       "      <td>Title I schoolwide school</td>\n",
       "      <td>No</td>\n",
       "    </tr>\n",
       "    <tr>\n",
       "      <th>1</th>\n",
       "      <td>2017-2018</td>\n",
       "      <td>AL</td>\n",
       "      <td>Albertville High School</td>\n",
       "      <td>Albertville City</td>\n",
       "      <td>1</td>\n",
       "      <td>AL-101</td>\n",
       "      <td>100005</td>\n",
       "      <td>AL-101-0020</td>\n",
       "      <td>010000500871</td>\n",
       "      <td>100871</td>\n",
       "      <td>1</td>\n",
       "      <td>Regular School</td>\n",
       "      <td>1</td>\n",
       "      <td>High</td>\n",
       "      <td>SWELIGSWPROG</td>\n",
       "      <td>Title I schoolwide school</td>\n",
       "      <td>No</td>\n",
       "    </tr>\n",
       "    <tr>\n",
       "      <th>2</th>\n",
       "      <td>2017-2018</td>\n",
       "      <td>AL</td>\n",
       "      <td>Evans Elementary School</td>\n",
       "      <td>Albertville City</td>\n",
       "      <td>1</td>\n",
       "      <td>AL-101</td>\n",
       "      <td>100005</td>\n",
       "      <td>AL-101-0110</td>\n",
       "      <td>010000500879</td>\n",
       "      <td>100879</td>\n",
       "      <td>1</td>\n",
       "      <td>Regular School</td>\n",
       "      <td>1</td>\n",
       "      <td>Middle</td>\n",
       "      <td>SWELIGSWPROG</td>\n",
       "      <td>Title I schoolwide school</td>\n",
       "      <td>No</td>\n",
       "    </tr>\n",
       "    <tr>\n",
       "      <th>3</th>\n",
       "      <td>2017-2018</td>\n",
       "      <td>AL</td>\n",
       "      <td>Albertville Elementary School</td>\n",
       "      <td>Albertville City</td>\n",
       "      <td>1</td>\n",
       "      <td>AL-101</td>\n",
       "      <td>100005</td>\n",
       "      <td>AL-101-0200</td>\n",
       "      <td>010000500889</td>\n",
       "      <td>100889</td>\n",
       "      <td>1</td>\n",
       "      <td>Regular School</td>\n",
       "      <td>1</td>\n",
       "      <td>Elementary</td>\n",
       "      <td>SWELIGSWPROG</td>\n",
       "      <td>Title I schoolwide school</td>\n",
       "      <td>No</td>\n",
       "    </tr>\n",
       "    <tr>\n",
       "      <th>4</th>\n",
       "      <td>2017-2018</td>\n",
       "      <td>AL</td>\n",
       "      <td>Big Spring Lake Kindergarten School</td>\n",
       "      <td>Albertville City</td>\n",
       "      <td>1</td>\n",
       "      <td>AL-101</td>\n",
       "      <td>100005</td>\n",
       "      <td>AL-101-0035</td>\n",
       "      <td>010000501616</td>\n",
       "      <td>101616</td>\n",
       "      <td>1</td>\n",
       "      <td>Regular School</td>\n",
       "      <td>1</td>\n",
       "      <td>Elementary</td>\n",
       "      <td>SWELIGSWPROG</td>\n",
       "      <td>Title I schoolwide school</td>\n",
       "      <td>No</td>\n",
       "    </tr>\n",
       "  </tbody>\n",
       "</table>\n",
       "</div>"
      ],
      "text/plain": [
       "  SCHOOL_YEAR_x ST_x                           SCH_NAME_x          LEA_NAME  \\\n",
       "0     2017-2018   AL            Albertville Middle School  Albertville City   \n",
       "1     2017-2018   AL              Albertville High School  Albertville City   \n",
       "2     2017-2018   AL              Evans Elementary School  Albertville City   \n",
       "3     2017-2018   AL        Albertville Elementary School  Albertville City   \n",
       "4     2017-2018   AL  Big Spring Lake Kindergarten School  Albertville City   \n",
       "\n",
       "   STATE_AGENCY_NO_x ST_LEAID   LEAID   ST_SCHID_x       NCESSCH  SCHID_x  \\\n",
       "0                  1   AL-101  100005  AL-101-0010  010000500870   100870   \n",
       "1                  1   AL-101  100005  AL-101-0020  010000500871   100871   \n",
       "2                  1   AL-101  100005  AL-101-0110  010000500879   100879   \n",
       "3                  1   AL-101  100005  AL-101-0200  010000500889   100889   \n",
       "4                  1   AL-101  100005  AL-101-0035  010000501616   101616   \n",
       "\n",
       "   SY_STATUS   SCH_TYPE_TEXT  SCH_TYPE       LEVEL TITLEI_STATUS  \\\n",
       "0          1  Regular School         1      Middle  SWELIGSWPROG   \n",
       "1          1  Regular School         1        High  SWELIGSWPROG   \n",
       "2          1  Regular School         1      Middle  SWELIGSWPROG   \n",
       "3          1  Regular School         1  Elementary  SWELIGSWPROG   \n",
       "4          1  Regular School         1  Elementary  SWELIGSWPROG   \n",
       "\n",
       "          TITLEI_STATUS_TEXT MAGNET_TEXT  \n",
       "0  Title I schoolwide school          No  \n",
       "1  Title I schoolwide school          No  \n",
       "2  Title I schoolwide school          No  \n",
       "3  Title I schoolwide school          No  \n",
       "4  Title I schoolwide school          No  "
      ]
     },
     "execution_count": 185,
     "metadata": {},
     "output_type": "execute_result"
    }
   ],
   "source": [
    "merged_dir_char.head()"
   ]
  },
  {
   "cell_type": "code",
   "execution_count": 186,
   "metadata": {},
   "outputs": [],
   "source": [
    "merged_dir_char.rename(columns = {'SCHOOL_YEAR_x':'SCHOOL_YEAR', 'ST_x':'ST', 'SCH_NAME_x':'SCH_NAME', 'STATE_AGENCY_NO_x':'STATE_AGENCY_NO', 'ST_SCHID_x':'ST_SCHID', 'SCHID_x':'SCHID' }, inplace = True) "
   ]
  },
  {
   "cell_type": "code",
   "execution_count": 187,
   "metadata": {},
   "outputs": [
    {
     "data": {
      "text/plain": [
       "(102337, 24)"
      ]
     },
     "execution_count": 187,
     "metadata": {},
     "output_type": "execute_result"
    }
   ],
   "source": [
    "merged_dir_char_staff = pandas.merge(left=merged_dir_char,right=ccd_staff_new, how='left', left_on='NCESSCH', right_on='NCESSCH')\n",
    "merged_dir_char_staff.shape"
   ]
  },
  {
   "cell_type": "code",
   "execution_count": 188,
   "metadata": {},
   "outputs": [
    {
     "data": {
      "text/plain": [
       "Index(['SCHOOL_YEAR_x', 'ST_x', 'SCH_NAME_x', 'LEA_NAME', 'STATE_AGENCY_NO_x',\n",
       "       'ST_LEAID', 'LEAID', 'ST_SCHID_x', 'NCESSCH', 'SCHID_x', 'SY_STATUS',\n",
       "       'SCH_TYPE_TEXT', 'SCH_TYPE', 'LEVEL', 'TITLEI_STATUS',\n",
       "       'TITLEI_STATUS_TEXT', 'MAGNET_TEXT', 'SCHOOL_YEAR_y', 'ST_y',\n",
       "       'SCH_NAME_y', 'STATE_AGENCY_NO_y', 'ST_SCHID_y', 'SCHID_y', 'TEACHERS'],\n",
       "      dtype='object')"
      ]
     },
     "execution_count": 188,
     "metadata": {},
     "output_type": "execute_result"
    }
   ],
   "source": [
    "merged_dir_char_staff.columns"
   ]
  },
  {
   "cell_type": "code",
   "execution_count": 189,
   "metadata": {},
   "outputs": [],
   "source": [
    "merged_dir_char_staff.drop([col for col in merged_dir_char_staff.columns if col.endswith('_y')],axis=1,inplace=True)"
   ]
  },
  {
   "cell_type": "code",
   "execution_count": 190,
   "metadata": {},
   "outputs": [],
   "source": [
    "merged_dir_char_staff.rename(columns = {'SCHOOL_YEAR_x':'SCHOOL_YEAR', 'ST_x':'ST', 'SCH_NAME_x':'SCH_NAME', 'STATE_AGENCY_NO_x':'STATE_AGENCY_NO', 'ST_SCHID_x':'ST_SCHID', 'SCHID_x':'SCHID' }, inplace = True) "
   ]
  },
  {
   "cell_type": "code",
   "execution_count": 191,
   "metadata": {},
   "outputs": [
    {
     "data": {
      "text/plain": [
       "(102337, 29)"
      ]
     },
     "execution_count": 191,
     "metadata": {},
     "output_type": "execute_result"
    }
   ],
   "source": [
    "merged_dir_char_staff_farms = pandas.merge(left=merged_dir_char_staff,right=ccd_farms_FRL_new, how='left', left_on='NCESSCH', right_on='NCESSCH')\n",
    "merged_dir_char_staff_farms.shape"
   ]
  },
  {
   "cell_type": "code",
   "execution_count": 192,
   "metadata": {},
   "outputs": [
    {
     "data": {
      "text/plain": [
       "Index(['SCHOOL_YEAR_x', 'ST_x', 'SCH_NAME_x', 'LEA_NAME', 'STATE_AGENCY_NO_x',\n",
       "       'ST_LEAID', 'LEAID', 'ST_SCHID_x', 'NCESSCH', 'SCHID_x', 'SY_STATUS',\n",
       "       'SCH_TYPE_TEXT', 'SCH_TYPE', 'LEVEL', 'TITLEI_STATUS',\n",
       "       'TITLEI_STATUS_TEXT', 'MAGNET_TEXT', 'TEACHERS', 'SCHOOL_YEAR_y',\n",
       "       'ST_y', 'SCH_NAME_y', 'STATE_AGENCY_NO_y', 'ST_SCHID_y', 'SCHID_y',\n",
       "       'DATA_GROUP', 'LUNCH_PROGRAM', 'FARMS_COUNT', 'TOTAL_INDICATOR',\n",
       "       'DMS_FLAG'],\n",
       "      dtype='object')"
      ]
     },
     "execution_count": 192,
     "metadata": {},
     "output_type": "execute_result"
    }
   ],
   "source": [
    "merged_dir_char_staff_farms.columns"
   ]
  },
  {
   "cell_type": "code",
   "execution_count": 193,
   "metadata": {},
   "outputs": [],
   "source": [
    "merged_dir_char_staff_farms.drop([col for col in merged_dir_char_staff_farms.columns if col.endswith('_y')],axis=1,inplace=True)"
   ]
  },
  {
   "cell_type": "code",
   "execution_count": 203,
   "metadata": {},
   "outputs": [],
   "source": [
    "merged_dir_char_staff_farms.rename(columns = {'SCHOOL_YEAR_x':'SCHOOL_YEAR', 'ST_x':'ST', 'SCH_NAME_x':'SCH_NAME', 'STATE_AGENCY_NO_x':'STATE_AGENCY_NO', 'ST_SCHID_x':'ST_SCHID', 'SCHID_x':'SCHID' }, inplace = True) "
   ]
  },
  {
   "cell_type": "code",
   "execution_count": 204,
   "metadata": {},
   "outputs": [
    {
     "data": {
      "text/plain": [
       "Index(['SCHOOL_YEAR', 'ST', 'SCH_NAME', 'LEA_NAME', 'STATE_AGENCY_NO',\n",
       "       'ST_LEAID', 'LEAID', 'ST_SCHID', 'NCESSCH', 'SCHID', 'SY_STATUS',\n",
       "       'SCH_TYPE_TEXT', 'SCH_TYPE', 'LEVEL', 'TITLEI_STATUS',\n",
       "       'TITLEI_STATUS_TEXT', 'MAGNET_TEXT', 'TEACHERS', 'DATA_GROUP',\n",
       "       'LUNCH_PROGRAM', 'FARMS_COUNT', 'TOTAL_INDICATOR', 'DMS_FLAG'],\n",
       "      dtype='object')"
      ]
     },
     "execution_count": 204,
     "metadata": {},
     "output_type": "execute_result"
    }
   ],
   "source": [
    "merged_dir_char_staff_farms.columns"
   ]
  },
  {
   "cell_type": "code",
   "execution_count": 205,
   "metadata": {},
   "outputs": [
    {
     "data": {
      "text/plain": [
       "<matplotlib.axes._subplots.AxesSubplot at 0x7fae3f9af910>"
      ]
     },
     "execution_count": 205,
     "metadata": {},
     "output_type": "execute_result"
    },
    {
     "data": {
      "image/png": "[encoded data removed]",
      "text/plain": [
       "<Figure size 432x288 with 2 Axes>"
      ]
     },
     "metadata": {
      "needs_background": "light"
     },
     "output_type": "display_data"
    }
   ],
   "source": [
    "sns.heatmap(merged_dir_char_staff_farms.isnull(),yticklabels=False,cbar=True,cmap='viridis')"
   ]
  },
  {
   "cell_type": "code",
   "execution_count": 206,
   "metadata": {},
   "outputs": [
    {
     "data": {
      "text/plain": [
       "TITLEI_STATUS          2438\n",
       "TITLEI_STATUS_TEXT     2438\n",
       "MAGNET_TEXT            2438\n",
       "TEACHERS               6831\n",
       "DATA_GROUP            12450\n",
       "LUNCH_PROGRAM         12450\n",
       "FARMS_COUNT           12450\n",
       "TOTAL_INDICATOR       12450\n",
       "DMS_FLAG              12450\n",
       "dtype: int64"
      ]
     },
     "execution_count": 206,
     "metadata": {},
     "output_type": "execute_result"
    }
   ],
   "source": [
    "null_columns=merged_dir_char_staff_farms.columns[merged_dir_char_staff_farms.isnull().any()]\n",
    "merged_dir_char_staff_farms[null_columns].isnull().sum()"
   ]
  },
  {
   "cell_type": "code",
   "execution_count": 208,
   "metadata": {},
   "outputs": [
    {
     "data": {
      "text/html": [
       "<div>\n",
       "<style scoped>\n",
       "    .dataframe tbody tr th:only-of-type {\n",
       "        vertical-align: middle;\n",
       "    }\n",
       "\n",
       "    .dataframe tbody tr th {\n",
       "        vertical-align: top;\n",
       "    }\n",
       "\n",
       "    .dataframe thead th {\n",
       "        text-align: right;\n",
       "    }\n",
       "</style>\n",
       "<table border=\"1\" class=\"dataframe\">\n",
       "  <thead>\n",
       "    <tr style=\"text-align: right;\">\n",
       "      <th></th>\n",
       "      <th>0</th>\n",
       "      <th>1</th>\n",
       "      <th>2</th>\n",
       "      <th>3</th>\n",
       "      <th>4</th>\n",
       "    </tr>\n",
       "  </thead>\n",
       "  <tbody>\n",
       "    <tr>\n",
       "      <th>SCHOOL_YEAR</th>\n",
       "      <td>2017-2018</td>\n",
       "      <td>2017-2018</td>\n",
       "      <td>2017-2018</td>\n",
       "      <td>2017-2018</td>\n",
       "      <td>2017-2018</td>\n",
       "    </tr>\n",
       "    <tr>\n",
       "      <th>ST</th>\n",
       "      <td>AL</td>\n",
       "      <td>AL</td>\n",
       "      <td>AL</td>\n",
       "      <td>AL</td>\n",
       "      <td>AL</td>\n",
       "    </tr>\n",
       "    <tr>\n",
       "      <th>SCH_NAME</th>\n",
       "      <td>Albertville Middle School</td>\n",
       "      <td>Albertville High School</td>\n",
       "      <td>Evans Elementary School</td>\n",
       "      <td>Albertville Elementary School</td>\n",
       "      <td>Big Spring Lake Kindergarten School</td>\n",
       "    </tr>\n",
       "    <tr>\n",
       "      <th>LEA_NAME</th>\n",
       "      <td>Albertville City</td>\n",
       "      <td>Albertville City</td>\n",
       "      <td>Albertville City</td>\n",
       "      <td>Albertville City</td>\n",
       "      <td>Albertville City</td>\n",
       "    </tr>\n",
       "    <tr>\n",
       "      <th>STATE_AGENCY_NO</th>\n",
       "      <td>1</td>\n",
       "      <td>1</td>\n",
       "      <td>1</td>\n",
       "      <td>1</td>\n",
       "      <td>1</td>\n",
       "    </tr>\n",
       "    <tr>\n",
       "      <th>ST_LEAID</th>\n",
       "      <td>AL-101</td>\n",
       "      <td>AL-101</td>\n",
       "      <td>AL-101</td>\n",
       "      <td>AL-101</td>\n",
       "      <td>AL-101</td>\n",
       "    </tr>\n",
       "    <tr>\n",
       "      <th>LEAID</th>\n",
       "      <td>100005</td>\n",
       "      <td>100005</td>\n",
       "      <td>100005</td>\n",
       "      <td>100005</td>\n",
       "      <td>100005</td>\n",
       "    </tr>\n",
       "    <tr>\n",
       "      <th>ST_SCHID</th>\n",
       "      <td>AL-101-0010</td>\n",
       "      <td>AL-101-0020</td>\n",
       "      <td>AL-101-0110</td>\n",
       "      <td>AL-101-0200</td>\n",
       "      <td>AL-101-0035</td>\n",
       "    </tr>\n",
       "    <tr>\n",
       "      <th>NCESSCH</th>\n",
       "      <td>010000500870</td>\n",
       "      <td>010000500871</td>\n",
       "      <td>010000500879</td>\n",
       "      <td>010000500889</td>\n",
       "      <td>010000501616</td>\n",
       "    </tr>\n",
       "    <tr>\n",
       "      <th>SCHID</th>\n",
       "      <td>100870</td>\n",
       "      <td>100871</td>\n",
       "      <td>100879</td>\n",
       "      <td>100889</td>\n",
       "      <td>101616</td>\n",
       "    </tr>\n",
       "    <tr>\n",
       "      <th>SY_STATUS</th>\n",
       "      <td>1</td>\n",
       "      <td>1</td>\n",
       "      <td>1</td>\n",
       "      <td>1</td>\n",
       "      <td>1</td>\n",
       "    </tr>\n",
       "    <tr>\n",
       "      <th>SCH_TYPE_TEXT</th>\n",
       "      <td>Regular School</td>\n",
       "      <td>Regular School</td>\n",
       "      <td>Regular School</td>\n",
       "      <td>Regular School</td>\n",
       "      <td>Regular School</td>\n",
       "    </tr>\n",
       "    <tr>\n",
       "      <th>SCH_TYPE</th>\n",
       "      <td>1</td>\n",
       "      <td>1</td>\n",
       "      <td>1</td>\n",
       "      <td>1</td>\n",
       "      <td>1</td>\n",
       "    </tr>\n",
       "    <tr>\n",
       "      <th>LEVEL</th>\n",
       "      <td>Middle</td>\n",
       "      <td>High</td>\n",
       "      <td>Middle</td>\n",
       "      <td>Elementary</td>\n",
       "      <td>Elementary</td>\n",
       "    </tr>\n",
       "    <tr>\n",
       "      <th>TITLEI_STATUS</th>\n",
       "      <td>SWELIGSWPROG</td>\n",
       "      <td>SWELIGSWPROG</td>\n",
       "      <td>SWELIGSWPROG</td>\n",
       "      <td>SWELIGSWPROG</td>\n",
       "      <td>SWELIGSWPROG</td>\n",
       "    </tr>\n",
       "    <tr>\n",
       "      <th>TITLEI_STATUS_TEXT</th>\n",
       "      <td>Title I schoolwide school</td>\n",
       "      <td>Title I schoolwide school</td>\n",
       "      <td>Title I schoolwide school</td>\n",
       "      <td>Title I schoolwide school</td>\n",
       "      <td>Title I schoolwide school</td>\n",
       "    </tr>\n",
       "    <tr>\n",
       "      <th>MAGNET_TEXT</th>\n",
       "      <td>No</td>\n",
       "      <td>No</td>\n",
       "      <td>No</td>\n",
       "      <td>No</td>\n",
       "      <td>No</td>\n",
       "    </tr>\n",
       "    <tr>\n",
       "      <th>TEACHERS</th>\n",
       "      <td>36</td>\n",
       "      <td>77</td>\n",
       "      <td>36</td>\n",
       "      <td>49</td>\n",
       "      <td>28</td>\n",
       "    </tr>\n",
       "    <tr>\n",
       "      <th>DATA_GROUP</th>\n",
       "      <td>Free and Reduced-price Lunch Table</td>\n",
       "      <td>Free and Reduced-price Lunch Table</td>\n",
       "      <td>Free and Reduced-price Lunch Table</td>\n",
       "      <td>Free and Reduced-price Lunch Table</td>\n",
       "      <td>Free and Reduced-price Lunch Table</td>\n",
       "    </tr>\n",
       "    <tr>\n",
       "      <th>LUNCH_PROGRAM</th>\n",
       "      <td>No Category Codes</td>\n",
       "      <td>No Category Codes</td>\n",
       "      <td>No Category Codes</td>\n",
       "      <td>No Category Codes</td>\n",
       "      <td>No Category Codes</td>\n",
       "    </tr>\n",
       "    <tr>\n",
       "      <th>FARMS_COUNT</th>\n",
       "      <td>570</td>\n",
       "      <td>832</td>\n",
       "      <td>608</td>\n",
       "      <td>684</td>\n",
       "      <td>345</td>\n",
       "    </tr>\n",
       "    <tr>\n",
       "      <th>TOTAL_INDICATOR</th>\n",
       "      <td>Education Unit Total</td>\n",
       "      <td>Education Unit Total</td>\n",
       "      <td>Education Unit Total</td>\n",
       "      <td>Education Unit Total</td>\n",
       "      <td>Education Unit Total</td>\n",
       "    </tr>\n",
       "    <tr>\n",
       "      <th>DMS_FLAG</th>\n",
       "      <td>Reported</td>\n",
       "      <td>Reported</td>\n",
       "      <td>Reported</td>\n",
       "      <td>Reported</td>\n",
       "      <td>Reported</td>\n",
       "    </tr>\n",
       "  </tbody>\n",
       "</table>\n",
       "</div>"
      ],
      "text/plain": [
       "                                                     0  \\\n",
       "SCHOOL_YEAR                                  2017-2018   \n",
       "ST                                                  AL   \n",
       "SCH_NAME                     Albertville Middle School   \n",
       "LEA_NAME                              Albertville City   \n",
       "STATE_AGENCY_NO                                      1   \n",
       "ST_LEAID                                        AL-101   \n",
       "LEAID                                           100005   \n",
       "ST_SCHID                                   AL-101-0010   \n",
       "NCESSCH                                   010000500870   \n",
       "SCHID                                           100870   \n",
       "SY_STATUS                                            1   \n",
       "SCH_TYPE_TEXT                           Regular School   \n",
       "SCH_TYPE                                             1   \n",
       "LEVEL                                           Middle   \n",
       "TITLEI_STATUS                             SWELIGSWPROG   \n",
       "TITLEI_STATUS_TEXT           Title I schoolwide school   \n",
       "MAGNET_TEXT                                         No   \n",
       "TEACHERS                                            36   \n",
       "DATA_GROUP          Free and Reduced-price Lunch Table   \n",
       "LUNCH_PROGRAM                        No Category Codes   \n",
       "FARMS_COUNT                                        570   \n",
       "TOTAL_INDICATOR                   Education Unit Total   \n",
       "DMS_FLAG                                      Reported   \n",
       "\n",
       "                                                     1  \\\n",
       "SCHOOL_YEAR                                  2017-2018   \n",
       "ST                                                  AL   \n",
       "SCH_NAME                       Albertville High School   \n",
       "LEA_NAME                              Albertville City   \n",
       "STATE_AGENCY_NO                                      1   \n",
       "ST_LEAID                                        AL-101   \n",
       "LEAID                                           100005   \n",
       "ST_SCHID                                   AL-101-0020   \n",
       "NCESSCH                                   010000500871   \n",
       "SCHID                                           100871   \n",
       "SY_STATUS                                            1   \n",
       "SCH_TYPE_TEXT                           Regular School   \n",
       "SCH_TYPE                                             1   \n",
       "LEVEL                                             High   \n",
       "TITLEI_STATUS                             SWELIGSWPROG   \n",
       "TITLEI_STATUS_TEXT           Title I schoolwide school   \n",
       "MAGNET_TEXT                                         No   \n",
       "TEACHERS                                            77   \n",
       "DATA_GROUP          Free and Reduced-price Lunch Table   \n",
       "LUNCH_PROGRAM                        No Category Codes   \n",
       "FARMS_COUNT                                        832   \n",
       "TOTAL_INDICATOR                   Education Unit Total   \n",
       "DMS_FLAG                                      Reported   \n",
       "\n",
       "                                                     2  \\\n",
       "SCHOOL_YEAR                                  2017-2018   \n",
       "ST                                                  AL   \n",
       "SCH_NAME                       Evans Elementary School   \n",
       "LEA_NAME                              Albertville City   \n",
       "STATE_AGENCY_NO                                      1   \n",
       "ST_LEAID                                        AL-101   \n",
       "LEAID                                           100005   \n",
       "ST_SCHID                                   AL-101-0110   \n",
       "NCESSCH                                   010000500879   \n",
       "SCHID                                           100879   \n",
       "SY_STATUS                                            1   \n",
       "SCH_TYPE_TEXT                           Regular School   \n",
       "SCH_TYPE                                             1   \n",
       "LEVEL                                           Middle   \n",
       "TITLEI_STATUS                             SWELIGSWPROG   \n",
       "TITLEI_STATUS_TEXT           Title I schoolwide school   \n",
       "MAGNET_TEXT                                         No   \n",
       "TEACHERS                                            36   \n",
       "DATA_GROUP          Free and Reduced-price Lunch Table   \n",
       "LUNCH_PROGRAM                        No Category Codes   \n",
       "FARMS_COUNT                                        608   \n",
       "TOTAL_INDICATOR                   Education Unit Total   \n",
       "DMS_FLAG                                      Reported   \n",
       "\n",
       "                                                     3  \\\n",
       "SCHOOL_YEAR                                  2017-2018   \n",
       "ST                                                  AL   \n",
       "SCH_NAME                 Albertville Elementary School   \n",
       "LEA_NAME                              Albertville City   \n",
       "STATE_AGENCY_NO                                      1   \n",
       "ST_LEAID                                        AL-101   \n",
       "LEAID                                           100005   \n",
       "ST_SCHID                                   AL-101-0200   \n",
       "NCESSCH                                   010000500889   \n",
       "SCHID                                           100889   \n",
       "SY_STATUS                                            1   \n",
       "SCH_TYPE_TEXT                           Regular School   \n",
       "SCH_TYPE                                             1   \n",
       "LEVEL                                       Elementary   \n",
       "TITLEI_STATUS                             SWELIGSWPROG   \n",
       "TITLEI_STATUS_TEXT           Title I schoolwide school   \n",
       "MAGNET_TEXT                                         No   \n",
       "TEACHERS                                            49   \n",
       "DATA_GROUP          Free and Reduced-price Lunch Table   \n",
       "LUNCH_PROGRAM                        No Category Codes   \n",
       "FARMS_COUNT                                        684   \n",
       "TOTAL_INDICATOR                   Education Unit Total   \n",
       "DMS_FLAG                                      Reported   \n",
       "\n",
       "                                                      4  \n",
       "SCHOOL_YEAR                                   2017-2018  \n",
       "ST                                                   AL  \n",
       "SCH_NAME            Big Spring Lake Kindergarten School  \n",
       "LEA_NAME                               Albertville City  \n",
       "STATE_AGENCY_NO                                       1  \n",
       "ST_LEAID                                         AL-101  \n",
       "LEAID                                            100005  \n",
       "ST_SCHID                                    AL-101-0035  \n",
       "NCESSCH                                    010000501616  \n",
       "SCHID                                            101616  \n",
       "SY_STATUS                                             1  \n",
       "SCH_TYPE_TEXT                            Regular School  \n",
       "SCH_TYPE                                              1  \n",
       "LEVEL                                        Elementary  \n",
       "TITLEI_STATUS                              SWELIGSWPROG  \n",
       "TITLEI_STATUS_TEXT            Title I schoolwide school  \n",
       "MAGNET_TEXT                                          No  \n",
       "TEACHERS                                             28  \n",
       "DATA_GROUP           Free and Reduced-price Lunch Table  \n",
       "LUNCH_PROGRAM                         No Category Codes  \n",
       "FARMS_COUNT                                         345  \n",
       "TOTAL_INDICATOR                    Education Unit Total  \n",
       "DMS_FLAG                                       Reported  "
      ]
     },
     "execution_count": 208,
     "metadata": {},
     "output_type": "execute_result"
    }
   ],
   "source": [
    "merged_dir_char_staff_farms.head().T"
   ]
  },
  {
   "cell_type": "code",
   "execution_count": 209,
   "metadata": {},
   "outputs": [],
   "source": [
    "merged_dir_char_staff_farms.drop(merged_dir_char_staff_farms.columns[[3,4,5,6,18,19,21,22]], axis=1, inplace=True)"
   ]
  },
  {
   "cell_type": "code",
   "execution_count": 210,
   "metadata": {},
   "outputs": [
    {
     "data": {
      "text/html": [
       "<div>\n",
       "<style scoped>\n",
       "    .dataframe tbody tr th:only-of-type {\n",
       "        vertical-align: middle;\n",
       "    }\n",
       "\n",
       "    .dataframe tbody tr th {\n",
       "        vertical-align: top;\n",
       "    }\n",
       "\n",
       "    .dataframe thead th {\n",
       "        text-align: right;\n",
       "    }\n",
       "</style>\n",
       "<table border=\"1\" class=\"dataframe\">\n",
       "  <thead>\n",
       "    <tr style=\"text-align: right;\">\n",
       "      <th></th>\n",
       "      <th>SCHOOL_YEAR</th>\n",
       "      <th>ST</th>\n",
       "      <th>SCH_NAME</th>\n",
       "      <th>ST_SCHID</th>\n",
       "      <th>NCESSCH</th>\n",
       "      <th>SCHID</th>\n",
       "      <th>SY_STATUS</th>\n",
       "      <th>SCH_TYPE_TEXT</th>\n",
       "      <th>SCH_TYPE</th>\n",
       "      <th>LEVEL</th>\n",
       "      <th>TITLEI_STATUS</th>\n",
       "      <th>TITLEI_STATUS_TEXT</th>\n",
       "      <th>MAGNET_TEXT</th>\n",
       "      <th>TEACHERS</th>\n",
       "      <th>FARMS_COUNT</th>\n",
       "    </tr>\n",
       "  </thead>\n",
       "  <tbody>\n",
       "    <tr>\n",
       "      <th>0</th>\n",
       "      <td>2017-2018</td>\n",
       "      <td>AL</td>\n",
       "      <td>Albertville Middle School</td>\n",
       "      <td>AL-101-0010</td>\n",
       "      <td>010000500870</td>\n",
       "      <td>100870</td>\n",
       "      <td>1</td>\n",
       "      <td>Regular School</td>\n",
       "      <td>1</td>\n",
       "      <td>Middle</td>\n",
       "      <td>SWELIGSWPROG</td>\n",
       "      <td>Title I schoolwide school</td>\n",
       "      <td>No</td>\n",
       "      <td>36.0</td>\n",
       "      <td>570.0</td>\n",
       "    </tr>\n",
       "    <tr>\n",
       "      <th>1</th>\n",
       "      <td>2017-2018</td>\n",
       "      <td>AL</td>\n",
       "      <td>Albertville High School</td>\n",
       "      <td>AL-101-0020</td>\n",
       "      <td>010000500871</td>\n",
       "      <td>100871</td>\n",
       "      <td>1</td>\n",
       "      <td>Regular School</td>\n",
       "      <td>1</td>\n",
       "      <td>High</td>\n",
       "      <td>SWELIGSWPROG</td>\n",
       "      <td>Title I schoolwide school</td>\n",
       "      <td>No</td>\n",
       "      <td>77.0</td>\n",
       "      <td>832.0</td>\n",
       "    </tr>\n",
       "    <tr>\n",
       "      <th>2</th>\n",
       "      <td>2017-2018</td>\n",
       "      <td>AL</td>\n",
       "      <td>Evans Elementary School</td>\n",
       "      <td>AL-101-0110</td>\n",
       "      <td>010000500879</td>\n",
       "      <td>100879</td>\n",
       "      <td>1</td>\n",
       "      <td>Regular School</td>\n",
       "      <td>1</td>\n",
       "      <td>Middle</td>\n",
       "      <td>SWELIGSWPROG</td>\n",
       "      <td>Title I schoolwide school</td>\n",
       "      <td>No</td>\n",
       "      <td>36.0</td>\n",
       "      <td>608.0</td>\n",
       "    </tr>\n",
       "    <tr>\n",
       "      <th>3</th>\n",
       "      <td>2017-2018</td>\n",
       "      <td>AL</td>\n",
       "      <td>Albertville Elementary School</td>\n",
       "      <td>AL-101-0200</td>\n",
       "      <td>010000500889</td>\n",
       "      <td>100889</td>\n",
       "      <td>1</td>\n",
       "      <td>Regular School</td>\n",
       "      <td>1</td>\n",
       "      <td>Elementary</td>\n",
       "      <td>SWELIGSWPROG</td>\n",
       "      <td>Title I schoolwide school</td>\n",
       "      <td>No</td>\n",
       "      <td>49.0</td>\n",
       "      <td>684.0</td>\n",
       "    </tr>\n",
       "    <tr>\n",
       "      <th>4</th>\n",
       "      <td>2017-2018</td>\n",
       "      <td>AL</td>\n",
       "      <td>Big Spring Lake Kindergarten School</td>\n",
       "      <td>AL-101-0035</td>\n",
       "      <td>010000501616</td>\n",
       "      <td>101616</td>\n",
       "      <td>1</td>\n",
       "      <td>Regular School</td>\n",
       "      <td>1</td>\n",
       "      <td>Elementary</td>\n",
       "      <td>SWELIGSWPROG</td>\n",
       "      <td>Title I schoolwide school</td>\n",
       "      <td>No</td>\n",
       "      <td>28.0</td>\n",
       "      <td>345.0</td>\n",
       "    </tr>\n",
       "  </tbody>\n",
       "</table>\n",
       "</div>"
      ],
      "text/plain": [
       "  SCHOOL_YEAR  ST                             SCH_NAME     ST_SCHID  \\\n",
       "0   2017-2018  AL            Albertville Middle School  AL-101-0010   \n",
       "1   2017-2018  AL              Albertville High School  AL-101-0020   \n",
       "2   2017-2018  AL              Evans Elementary School  AL-101-0110   \n",
       "3   2017-2018  AL        Albertville Elementary School  AL-101-0200   \n",
       "4   2017-2018  AL  Big Spring Lake Kindergarten School  AL-101-0035   \n",
       "\n",
       "        NCESSCH   SCHID  SY_STATUS   SCH_TYPE_TEXT  SCH_TYPE       LEVEL  \\\n",
       "0  010000500870  100870          1  Regular School         1      Middle   \n",
       "1  010000500871  100871          1  Regular School         1        High   \n",
       "2  010000500879  100879          1  Regular School         1      Middle   \n",
       "3  010000500889  100889          1  Regular School         1  Elementary   \n",
       "4  010000501616  101616          1  Regular School         1  Elementary   \n",
       "\n",
       "  TITLEI_STATUS         TITLEI_STATUS_TEXT MAGNET_TEXT  TEACHERS  FARMS_COUNT  \n",
       "0  SWELIGSWPROG  Title I schoolwide school          No      36.0        570.0  \n",
       "1  SWELIGSWPROG  Title I schoolwide school          No      77.0        832.0  \n",
       "2  SWELIGSWPROG  Title I schoolwide school          No      36.0        608.0  \n",
       "3  SWELIGSWPROG  Title I schoolwide school          No      49.0        684.0  \n",
       "4  SWELIGSWPROG  Title I schoolwide school          No      28.0        345.0  "
      ]
     },
     "execution_count": 210,
     "metadata": {},
     "output_type": "execute_result"
    }
   ],
   "source": [
    "merged_dir_char_staff_farms.head()"
   ]
  },
  {
   "cell_type": "markdown",
   "metadata": {},
   "source": [
    "#### Filtering for only open schools "
   ]
  },
  {
   "cell_type": "code",
   "execution_count": 211,
   "metadata": {},
   "outputs": [],
   "source": [
    "ccd_open_schools=merged_dir_char_staff_farms[merged_dir_char_staff_farms['SY_STATUS']==1]"
   ]
  },
  {
   "cell_type": "code",
   "execution_count": 212,
   "metadata": {},
   "outputs": [
    {
     "data": {
      "text/plain": [
       "<matplotlib.axes._subplots.AxesSubplot at 0x7fae3fc31730>"
      ]
     },
     "execution_count": 212,
     "metadata": {},
     "output_type": "execute_result"
    },
    {
     "data": {
      "image/png": "[encoded data removed]",
      "text/plain": [
       "<Figure size 432x288 with 2 Axes>"
      ]
     },
     "metadata": {
      "needs_background": "light"
     },
     "output_type": "display_data"
    }
   ],
   "source": [
    "sns.heatmap(ccd_open_schools.isnull(),yticklabels=False,cbar=True,cmap='viridis')"
   ]
  },
  {
   "cell_type": "code",
   "execution_count": 213,
   "metadata": {},
   "outputs": [],
   "source": [
    "ccd_master_hs=ccd_open_schools[ccd_open_schools['LEVEL']=='High']"
   ]
  },
  {
   "cell_type": "code",
   "execution_count": 215,
   "metadata": {},
   "outputs": [
    {
     "data": {
      "text/plain": [
       "(22688, 15)"
      ]
     },
     "execution_count": 215,
     "metadata": {},
     "output_type": "execute_result"
    }
   ],
   "source": [
    "ccd_master_hs.shape"
   ]
  },
  {
   "cell_type": "code",
   "execution_count": 214,
   "metadata": {},
   "outputs": [
    {
     "data": {
      "text/plain": [
       "<matplotlib.axes._subplots.AxesSubplot at 0x7fae32fb6b50>"
      ]
     },
     "execution_count": 214,
     "metadata": {},
     "output_type": "execute_result"
    },
    {
     "data": {
      "image/png": "[encoded data removed]",
      "text/plain": [
       "<Figure size 432x288 with 2 Axes>"
      ]
     },
     "metadata": {
      "needs_background": "light"
     },
     "output_type": "display_data"
    }
   ],
   "source": [
    "sns.heatmap(ccd_master_hs.isnull(),yticklabels=False,cbar=True,cmap='viridis')"
   ]
  },
  {
   "cell_type": "code",
   "execution_count": 218,
   "metadata": {},
   "outputs": [],
   "source": [
    "ccd_master_hs_new = ccd_master_hs.dropna(axis = 0, how ='any') "
   ]
  },
  {
   "cell_type": "code",
   "execution_count": 219,
   "metadata": {},
   "outputs": [
    {
     "name": "stdout",
     "output_type": "stream",
     "text": [
      "Old data frame length: 22688\n",
      "New data frame length: 19203\n",
      "Number of rows with at least 1 NA value:  3485\n"
     ]
    }
   ],
   "source": [
    "print(\"Old data frame length:\", len(ccd_master_hs)) \n",
    "print(\"New data frame length:\", len(ccd_master_hs_new))  \n",
    "print(\"Number of rows with at least 1 NA value: \", \n",
    "      (len(ccd_master_hs)-len(ccd_master_hs_new))) "
   ]
  },
  {
   "cell_type": "code",
   "execution_count": 220,
   "metadata": {},
   "outputs": [
    {
     "data": {
      "text/plain": [
       "<matplotlib.axes._subplots.AxesSubplot at 0x7fae3fc1c820>"
      ]
     },
     "execution_count": 220,
     "metadata": {},
     "output_type": "execute_result"
    },
    {
     "data": {
      "image/png": "[encoded data removed]",
      "text/plain": [
       "<Figure size 432x288 with 2 Axes>"
      ]
     },
     "metadata": {
      "needs_background": "light"
     },
     "output_type": "display_data"
    }
   ],
   "source": [
    "sns.heatmap(ccd_master_hs_new.isnull(),yticklabels=False,cbar=True,cmap='viridis')"
   ]
  },
  {
   "cell_type": "code",
   "execution_count": 225,
   "metadata": {},
   "outputs": [
    {
     "data": {
      "text/plain": [
       "(19203, 15)"
      ]
     },
     "execution_count": 225,
     "metadata": {},
     "output_type": "execute_result"
    }
   ],
   "source": [
    "ccd_master_hs_new.shape"
   ]
  },
  {
   "cell_type": "code",
   "execution_count": 224,
   "metadata": {},
   "outputs": [],
   "source": [
    "#ccd_master_hs_new.TITLEI_STATUS\t.unique() "
   ]
  },
  {
   "cell_type": "code",
   "execution_count": 223,
   "metadata": {},
   "outputs": [],
   "source": [
    "ccd_master_hs_new.to_csv (r'/Users/dansari/Documents/GitHub/Identifying-features-to-predict-high-school-assessment-proficiency/Phase1/Data/CCD/Clean_ccd_master.csv', index = False, header=True)"
   ]
  },
  {
   "cell_type": "code",
   "execution_count": null,
   "metadata": {},
   "outputs": [],
   "source": []
  }
 ],
 "metadata": {
  "kernelspec": {
   "display_name": "Python 3",
   "language": "python",
   "name": "python3"
  },
  "language_info": {
   "codemirror_mode": {
    "name": "ipython",
    "version": 3
   },
   "file_extension": ".py",
   "mimetype": "text/x-python",
   "name": "python",
   "nbconvert_exporter": "python",
   "pygments_lexer": "ipython3",
   "version": "3.8.3"
  }
 },
 "nbformat": 4,
 "nbformat_minor": 4
}
